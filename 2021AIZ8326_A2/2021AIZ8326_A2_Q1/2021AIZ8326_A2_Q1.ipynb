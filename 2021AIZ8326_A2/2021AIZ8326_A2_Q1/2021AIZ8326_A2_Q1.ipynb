{
 "cells": [
  {
   "cell_type": "code",
   "execution_count": 67,
   "id": "2b9bc382",
   "metadata": {},
   "outputs": [],
   "source": [
    "def BeamElementStiffness(E,I,L):\n",
    "    \"\"\"This function returns the element stiffness matrix for a beam element with modulus of elasticity E, \n",
    "    moment of inertia I, and length L. The size of the element stiffness matrix is 4 x 4.\"\"\"\n",
    "\n",
    "    y = E*I/(L*L*L) * np.array([[12, 6*L, -12, 6*L], [6*L, 4*L*L, -6*L, 2*L*L,],\n",
    "                                [-12, -6*L, 12, -6*L], [6*L, 2*L*L, -6*L, 4*L*L,]])\n",
    "\n",
    "    return y"
   ]
  },
  {
   "cell_type": "code",
   "execution_count": 68,
   "id": "7ebe8c29",
   "metadata": {},
   "outputs": [],
   "source": [
    "def BeamAssemble(K,k,i,j):\n",
    "    \"\"\"\"This function assembles the element stiffness matrix k of the beam element with nodes i and j \n",
    "    into the global stiffness matrix K. This function returns the global stiffness matrix K after the \n",
    "    element stiffness matrix k is assembled.\"\"\"\n",
    "    temp = [2*i-2, 2*i-1, 2*j-2, 2*j-1]\n",
    "    for i in range(len(temp)):\n",
    "        for j in range(len(temp)):\n",
    "            K[temp[i], temp[j]] += k[i, j]\n",
    "    \n",
    "    return K\n"
   ]
  },
  {
   "cell_type": "code",
   "execution_count": 69,
   "id": "ac6a2396",
   "metadata": {},
   "outputs": [],
   "source": [
    "def BeamElementForces(k,u):\n",
    "    \"\"\"\"This function returns the element nodal force vector given the element stiffness matrix k \n",
    "    and the element nodal displacement vector u.\"\"\" \n",
    "    return np.dot(k, u)"
   ]
  },
  {
   "cell_type": "code",
   "execution_count": 70,
   "id": "4a3c20d6",
   "metadata": {},
   "outputs": [],
   "source": [
    "def BeamElementShearDiagram(f, L):\n",
    "    \"\"\"\"This function plots the shear force diagram for the beam element with nodal \n",
    "    force vector f and length L.\"\"\"\n",
    "    \n",
    "    x = [0, L]\n",
    "    z = [f[0,0] , -f[2,0]]\n",
    "    plt.plot(x,z)\n",
    "    plt.ylabel('Shear Force (kN)')\n",
    "    plt.show()"
   ]
  },
  {
   "cell_type": "code",
   "execution_count": 71,
   "id": "b5d87450",
   "metadata": {},
   "outputs": [],
   "source": [
    "def BeamElementMomentDiagram(f, L):\n",
    "    \"\"\"\"This function plots the shear force diagram for the beam element with nodal \n",
    "    force vector f and length L.\"\"\"\n",
    "    \n",
    "    x = [0, L]\n",
    "    z = [-f[1,0] , f[3,0]]\n",
    "    plt.plot(x,z)\n",
    "    plt.ylabel('Bending Moment (kN.m)')\n",
    "    plt.show()"
   ]
  },
  {
   "cell_type": "code",
   "execution_count": 72,
   "id": "b3488061",
   "metadata": {},
   "outputs": [],
   "source": [
    "##Step 1 : Initializing the problem\n",
    "\n",
    "import numpy as np\n",
    "import matplotlib.pyplot as plt\n",
    "E = 210e6\n",
    "I = 60e-6\n",
    "L1 = 2\n",
    "L2 = 2\n",
    "nodes = [1,2,3]\n",
    "node_connections = [(1,2), (2,3)]\n",
    "length = [L1, L2]"
   ]
  },
  {
   "cell_type": "code",
   "execution_count": 73,
   "id": "3fb4f692",
   "metadata": {},
   "outputs": [],
   "source": [
    "## Step 2 : Element Stiffness Matrices\n",
    "\n",
    "k1 =  BeamElementStiffness(E,I,L1)\n",
    "k2 =  BeamElementStiffness(E,I,L2)\n",
    "\n",
    "element_stiffness = [k1,k2]"
   ]
  },
  {
   "cell_type": "code",
   "execution_count": 74,
   "id": "6324b091",
   "metadata": {},
   "outputs": [
    {
     "data": {
      "text/plain": [
       "array([[ 18900.,  18900., -18900.,  18900.,      0.,      0.],\n",
       "       [ 18900.,  25200., -18900.,  12600.,      0.,      0.],\n",
       "       [-18900., -18900.,  37800.,      0., -18900.,  18900.],\n",
       "       [ 18900.,  12600.,      0.,  50400., -18900.,  12600.],\n",
       "       [     0.,      0., -18900., -18900.,  18900., -18900.],\n",
       "       [     0.,      0.,  18900.,  12600., -18900.,  25200.]])"
      ]
     },
     "execution_count": 74,
     "metadata": {},
     "output_type": "execute_result"
    }
   ],
   "source": [
    "## Step 3 : Global Stiffness Matrix\n",
    "\n",
    "K = np.zeros((2*len(nodes), 2*len(nodes)))\n",
    "K = BeamAssemble(K,k1,1,2)\n",
    "K = BeamAssemble(K,k2,2,3)\n",
    "\n",
    "K"
   ]
  },
  {
   "cell_type": "code",
   "execution_count": 75,
   "id": "57f78a1e",
   "metadata": {},
   "outputs": [],
   "source": [
    "## Step 4 : Applying Boundary Conditions\n",
    "\n",
    "U=np.zeros((len(nodes)*2,1))   \n",
    "F=np.zeros((len(nodes)*2,1))   \n",
    "\n",
    "U[0,0] = 0\n",
    "U[1,0] = 0\n",
    "U[4,0] = 0\n",
    "\n",
    "F[2,0] = -20\n",
    "F[3,0] = 0\n",
    "F[5,0] = 0\n",
    "\n"
   ]
  },
  {
   "cell_type": "code",
   "execution_count": 76,
   "id": "dca9aca6",
   "metadata": {},
   "outputs": [
    {
     "name": "stdout",
     "output_type": "stream",
     "text": [
      "Nodal Displacements and rotations of Node 2 and Node 3[U2y Phi2 Phi3]\n",
      "[[-0.00092593]\n",
      " [-0.00019841]\n",
      " [ 0.00079365]]\n"
     ]
    }
   ],
   "source": [
    "## Step 5 : Solving the Equations\n",
    "\n",
    "bound = [2,3,5]\n",
    "\n",
    "Up=U[bound]\n",
    "Fp=F[bound]\n",
    "Kpp=K[bound]\n",
    "Kpp=Kpp[:,bound]\n",
    "\n",
    "\n",
    "Up=np.dot(np.linalg.inv(Kpp),Fp)\n",
    "print(\"Nodal Displacements and rotations of Node 2 and Node 3[U2y Phi2 Phi3]\")\n",
    "print(Up)"
   ]
  },
  {
   "cell_type": "code",
   "execution_count": 77,
   "id": "c826a12d",
   "metadata": {},
   "outputs": [
    {
     "name": "stdout",
     "output_type": "stream",
     "text": [
      "Reactions at Node 1 and 3 [F1y, M1, F3y]\n",
      "[[13.75]\n",
      " [15.  ]\n",
      " [ 6.25]]\n"
     ]
    }
   ],
   "source": [
    "## Post - processing\n",
    "\n",
    "U[bound]=Up\n",
    "\n",
    "F=np.dot(K,U)\n",
    "print(\"Reactions at Node 1 and 3 [F1y, M1, F3y]\")\n",
    "print(F[[0,1,4]])"
   ]
  },
  {
   "cell_type": "code",
   "execution_count": 78,
   "id": "481212d2",
   "metadata": {},
   "outputs": [
    {
     "name": "stdout",
     "output_type": "stream",
     "text": [
      "The shear Force and Bending Moment in Element 1 is\n",
      " [[ 13.75]\n",
      " [ 15.  ]\n",
      " [-13.75]\n",
      " [ 12.5 ]]\n",
      "The shear Force and Bending Moment in Element 2 is\n",
      " [[ -6.25]\n",
      " [-12.5 ]\n",
      " [  6.25]\n",
      " [  0.  ]]\n"
     ]
    }
   ],
   "source": [
    "## Shear Force and Bending Moment\n",
    "\n",
    "u = [] \n",
    "f = []\n",
    "for node in node_connections:\n",
    "    u1 = np.asarray([U[node[0]*2-2],U[node[0]*2-1],U[node[1]*2-2],U[node[1]*2-1]])\n",
    "    u.append(u1)\n",
    "\n",
    "for i in range(len(node_connections)):\n",
    "    f1 = BeamElementForces(element_stiffness[i], u[i])\n",
    "    f.append(f1)\n",
    "    print(\"The shear Force and Bending Moment in Element \" + str(i+1) + \" is\" + '\\n', f1)\n"
   ]
  },
  {
   "cell_type": "code",
   "execution_count": 79,
   "id": "fb0ea9b4",
   "metadata": {},
   "outputs": [
    {
     "name": "stdout",
     "output_type": "stream",
     "text": [
      "Shear Force Diagram for Element 1\n"
     ]
    },
    {
     "data": {
      "image/png": "[encoded data removed]",
      "text/plain": [
       "<Figure size 432x288 with 1 Axes>"
      ]
     },
     "metadata": {
      "needs_background": "light"
     },
     "output_type": "display_data"
    },
    {
     "name": "stdout",
     "output_type": "stream",
     "text": [
      "Bending Moment Diagram for Element 1\n"
     ]
    },
    {
     "data": {
      "image/png": "[encoded data removed]",
      "text/plain": [
       "<Figure size 432x288 with 1 Axes>"
      ]
     },
     "metadata": {
      "needs_background": "light"
     },
     "output_type": "display_data"
    },
    {
     "name": "stdout",
     "output_type": "stream",
     "text": [
      "Shear Force Diagram for Element 2\n"
     ]
    },
    {
     "data": {
      "image/png": "[encoded data removed]",
      "text/plain": [
       "<Figure size 432x288 with 1 Axes>"
      ]
     },
     "metadata": {
      "needs_background": "light"
     },
     "output_type": "display_data"
    },
    {
     "name": "stdout",
     "output_type": "stream",
     "text": [
      "Bending Moment Diagram for Element 2\n"
     ]
    },
    {
     "data": {
      "image/png": "[encoded data removed]",
      "text/plain": [
       "<Figure size 432x288 with 1 Axes>"
      ]
     },
     "metadata": {
      "needs_background": "light"
     },
     "output_type": "display_data"
    }
   ],
   "source": [
    "## SFD and BMD\n",
    "\n",
    "for i in range(len(f)):\n",
    "    print(\"Shear Force Diagram for Element \"+ str(i+1))\n",
    "    BeamElementShearDiagram(f[i],length[i])\n",
    "    print(\"Bending Moment Diagram for Element \"+ str(i+1))\n",
    "    BeamElementMomentDiagram(f[i],length[i])\n",
    "    "
   ]
  },
  {
   "cell_type": "code",
   "execution_count": null,
   "id": "ac7882fc",
   "metadata": {},
   "outputs": [],
   "source": []
  }
 ],
 "metadata": {
  "kernelspec": {
   "display_name": "Python 3",
   "language": "python",
   "name": "python3"
  },
  "language_info": {
   "codemirror_mode": {
    "name": "ipython",
    "version": 3
   },
   "file_extension": ".py",
   "mimetype": "text/x-python",
   "name": "python",
   "nbconvert_exporter": "python",
   "pygments_lexer": "ipython3",
   "version": "3.6.5"
  }
 },
 "nbformat": 4,
 "nbformat_minor": 5
}
