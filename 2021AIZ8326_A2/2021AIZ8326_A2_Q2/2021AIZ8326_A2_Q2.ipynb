{
 "cells": [
  {
   "cell_type": "code",
   "execution_count": 1,
   "id": "2b9bc382",
   "metadata": {},
   "outputs": [],
   "source": [
    "def BeamElementStiffness(E,I,L):\n",
    "    \"\"\"This function returns the element stiffness matrix for a beam element with modulus of elasticity E, \n",
    "    moment of inertia I, and length L. The size of the element stiffness matrix is 4 x 4.\"\"\"\n",
    "\n",
    "    y = E*I/(L*L*L) * np.array([[12, 6*L, -12, 6*L], [6*L, 4*L*L, -6*L, 2*L*L,],\n",
    "                                [-12, -6*L, 12, -6*L], [6*L, 2*L*L, -6*L, 4*L*L,]])\n",
    "\n",
    "    return y"
   ]
  },
  {
   "cell_type": "code",
   "execution_count": 2,
   "id": "7ebe8c29",
   "metadata": {},
   "outputs": [],
   "source": [
    "def BeamAssemble(K,k,i,j):\n",
    "    \"\"\"\"This function assembles the element stiffness matrix k of the beam element with nodes i and j \n",
    "    into the global stiffness matrix K. This function returns the global stiffness matrix K after the \n",
    "    element stiffness matrix k is assembled.\"\"\"\n",
    "    temp = [2*i-2, 2*i-1, 2*j-2, 2*j-1]\n",
    "    for i in range(len(temp)):\n",
    "        for j in range(len(temp)):\n",
    "            K[temp[i], temp[j]] += k[i, j]\n",
    "    \n",
    "    return K\n"
   ]
  },
  {
   "cell_type": "code",
   "execution_count": 3,
   "id": "ac6a2396",
   "metadata": {},
   "outputs": [],
   "source": [
    "def BeamElementForces(k,u):\n",
    "    \"\"\"\"This function returns the element nodal force vector given the element stiffness matrix k \n",
    "    and the element nodal displacement vector u.\"\"\" \n",
    "    return np.dot(k, u)"
   ]
  },
  {
   "cell_type": "code",
   "execution_count": 4,
   "id": "4a3c20d6",
   "metadata": {},
   "outputs": [],
   "source": [
    "def BeamElementShearDiagram(f, L):\n",
    "    \"\"\"\"This function plots the shear force diagram for the beam element with nodal \n",
    "    force vector f and length L.\"\"\"\n",
    "    \n",
    "    x = [0, L]\n",
    "    z = [f[0,0] , -f[2,0]]\n",
    "    plt.plot(x,z)\n",
    "    plt.ylabel('Shear Force (kN)')\n",
    "    plt.show()"
   ]
  },
  {
   "cell_type": "code",
   "execution_count": 5,
   "id": "b5d87450",
   "metadata": {},
   "outputs": [],
   "source": [
    "def BeamElementMomentDiagram(f, L):\n",
    "    \"\"\"\"This function plots the shear force diagram for the beam element with nodal \n",
    "    force vector f and length L.\"\"\"\n",
    "    \n",
    "    x = [0, L]\n",
    "    z = [-f[1,0] , f[3,0]]\n",
    "    plt.plot(x,z)\n",
    "    plt.ylabel('Bending Moment (kN.m)')\n",
    "    plt.show()"
   ]
  },
  {
   "cell_type": "code",
   "execution_count": 6,
   "id": "b3488061",
   "metadata": {},
   "outputs": [],
   "source": [
    "##Step 1 : Initializing the problem\n",
    "\n",
    "import numpy as np\n",
    "import matplotlib.pyplot as plt\n",
    "E = 210e6\n",
    "I = 5e-6\n",
    "L1 = 3\n",
    "L2 = 4\n",
    "L3 = 2\n",
    "nodes = [1,2,3,4]\n",
    "node_connections = [(1,2), (2,3), (3,4)]\n",
    "length = [L1, L2, L3]"
   ]
  },
  {
   "cell_type": "code",
   "execution_count": 8,
   "id": "3fb4f692",
   "metadata": {},
   "outputs": [],
   "source": [
    "## Step 2 : Element Stiffness Matrices\n",
    "\n",
    "k1 =  BeamElementStiffness(E,I,L1)\n",
    "k2 =  BeamElementStiffness(E,I,L2)\n",
    "k3 =  BeamElementStiffness(E,I,L3)\n",
    "\n",
    "element_stiffness = [k1, k2, k3]"
   ]
  },
  {
   "cell_type": "code",
   "execution_count": 9,
   "id": "6324b091",
   "metadata": {},
   "outputs": [
    {
     "data": {
      "text/plain": [
       "array([[  466.66666667,   700.        ,  -466.66666667,   700.        ,\n",
       "            0.        ,     0.        ,     0.        ,     0.        ],\n",
       "       [  700.        ,  1400.        ,  -700.        ,   700.        ,\n",
       "            0.        ,     0.        ,     0.        ,     0.        ],\n",
       "       [ -466.66666667,  -700.        ,   663.54166667,  -306.25      ,\n",
       "         -196.875     ,   393.75      ,     0.        ,     0.        ],\n",
       "       [  700.        ,   700.        ,  -306.25      ,  2450.        ,\n",
       "         -393.75      ,   525.        ,     0.        ,     0.        ],\n",
       "       [    0.        ,     0.        ,  -196.875     ,  -393.75      ,\n",
       "         1771.875     ,  1181.25      , -1575.        ,  1575.        ],\n",
       "       [    0.        ,     0.        ,   393.75      ,   525.        ,\n",
       "         1181.25      ,  3150.        , -1575.        ,  1050.        ],\n",
       "       [    0.        ,     0.        ,     0.        ,     0.        ,\n",
       "        -1575.        , -1575.        ,  1575.        , -1575.        ],\n",
       "       [    0.        ,     0.        ,     0.        ,     0.        ,\n",
       "         1575.        ,  1050.        , -1575.        ,  2100.        ]])"
      ]
     },
     "execution_count": 9,
     "metadata": {},
     "output_type": "execute_result"
    }
   ],
   "source": [
    "## Step 3 : Global Stiffness Matrix\n",
    "\n",
    "K = np.zeros((2*len(nodes), 2*len(nodes)))\n",
    "K = BeamAssemble(K,k1,1,2)\n",
    "K = BeamAssemble(K,k2,2,3)\n",
    "K = BeamAssemble(K,k3,3,4)\n",
    "\n",
    "K"
   ]
  },
  {
   "cell_type": "code",
   "execution_count": 10,
   "id": "57f78a1e",
   "metadata": {},
   "outputs": [],
   "source": [
    "## Step 4 : Applying Boundary Conditions\n",
    "\n",
    "U=np.zeros((len(nodes)*2,1))   \n",
    "F=np.zeros((len(nodes)*2,1))   \n",
    "\n",
    "U[0,0] = 0\n",
    "U[2,0] = 0\n",
    "U[4,0] = 0\n",
    "U[6,0] = 0\n",
    "U[7,0] = 0\n",
    "\n",
    "F[1,0] = 0\n",
    "F[3,0] = -9.333\n",
    "F[5,0] = 9.333\n",
    "\n"
   ]
  },
  {
   "cell_type": "code",
   "execution_count": 12,
   "id": "dca9aca6",
   "metadata": {},
   "outputs": [
    {
     "name": "stdout",
     "output_type": "stream",
     "text": [
      "Rotations of Node 1, 2 and 3 are [Phi1 Phi2 Phi3]\n",
      "[[ 0.00270522]\n",
      " [-0.00541043]\n",
      " [ 0.0038646 ]]\n"
     ]
    }
   ],
   "source": [
    "## Step 5 : Solving the Equations\n",
    "\n",
    "bound = [1,3,5]\n",
    "\n",
    "Up=U[bound]\n",
    "Fp=F[bound]\n",
    "Kpp=K[bound]\n",
    "Kpp=Kpp[:,bound]\n",
    "\n",
    "\n",
    "Up=np.dot(np.linalg.inv(Kpp),Fp)\n",
    "print(\"Rotations of Node 1, 2 and 3 are [Phi1 Phi2 Phi3]\")\n",
    "print(Up)"
   ]
  },
  {
   "cell_type": "code",
   "execution_count": 14,
   "id": "c826a12d",
   "metadata": {},
   "outputs": [
    {
     "name": "stdout",
     "output_type": "stream",
     "text": [
      "Reactions at Node 1, 2, 3, 4 are [F1y, F2y, F3y, F4y, M4]\n",
      "[-1.89365217  1.28497826  6.69541304 -6.08673913  4.05782609]\n"
     ]
    }
   ],
   "source": [
    "## Post - processing\n",
    "\n",
    "U[bound]=Up\n",
    "\n",
    "force = []\n",
    "for i in range(2*len(nodes)):\n",
    "    if i not in bound:\n",
    "        force.append(i)\n",
    "\n",
    "F=np.dot(K,U)\n",
    "print(\"Reactions at Node 1, 2, 3, 4 are [F1y, F2y, F3y, F4y, M4]\")\n",
    "print(F[force,0])"
   ]
  },
  {
   "cell_type": "code",
   "execution_count": 23,
   "id": "481212d2",
   "metadata": {},
   "outputs": [
    {
     "name": "stdout",
     "output_type": "stream",
     "text": [
      "The shear Force and Bending Moment in Element 1 is\n",
      " [[-1.89365217]\n",
      " [ 0.        ]\n",
      " [ 1.89365217]\n",
      " [-5.68095652]]\n",
      "The shear Force and Bending Moment in Element 2 is\n",
      " [[13.39132609]\n",
      " [ 5.68095652]\n",
      " [14.60867391]\n",
      " [-8.11565217]]\n",
      "The shear Force and Bending Moment in Element 3 is\n",
      " [[ 6.08673913]\n",
      " [ 8.11565217]\n",
      " [-6.08673913]\n",
      " [ 4.05782609]]\n"
     ]
    }
   ],
   "source": [
    "## Shear Force and Bending Moment\n",
    "\n",
    "u = [] \n",
    "f = []\n",
    "for node in node_connections:\n",
    "    u1 = np.asarray([U[node[0]*2-2],U[node[0]*2-1],U[node[1]*2-2],U[node[1]*2-1]])\n",
    "    u.append(u1)\n",
    "\n",
    "for i in range(len(node_connections)):\n",
    "    f1 = BeamElementForces(element_stiffness[i], u[i])\n",
    "    if i == 1:\n",
    "        f1 = f1 - np.array([[-14, -9.333, -14, 9.333]]).reshape((4,1))\n",
    "    f.append(f1)\n",
    "    print(\"The shear Force and Bending Moment in Element \" + str(i+1) + \" is\" + '\\n', f1)\n"
   ]
  },
  {
   "cell_type": "code",
   "execution_count": 24,
   "id": "fb0ea9b4",
   "metadata": {},
   "outputs": [
    {
     "name": "stdout",
     "output_type": "stream",
     "text": [
      "Shear Force Diagram for Element 1\n"
     ]
    },
    {
     "data": {
      "image/png": "[encoded data removed]",
      "text/plain": [
       "<Figure size 432x288 with 1 Axes>"
      ]
     },
     "metadata": {
      "needs_background": "light"
     },
     "output_type": "display_data"
    },
    {
     "name": "stdout",
     "output_type": "stream",
     "text": [
      "Bending Moment Diagram for Element 1\n"
     ]
    },
    {
     "data": {
      "image/png": "[encoded data removed]",
      "text/plain": [
       "<Figure size 432x288 with 1 Axes>"
      ]
     },
     "metadata": {
      "needs_background": "light"
     },
     "output_type": "display_data"
    },
    {
     "name": "stdout",
     "output_type": "stream",
     "text": [
      "Shear Force Diagram for Element 2\n"
     ]
    },
    {
     "data": {
      "image/png": "[encoded data removed]",
      "text/plain": [
       "<Figure size 432x288 with 1 Axes>"
      ]
     },
     "metadata": {
      "needs_background": "light"
     },
     "output_type": "display_data"
    },
    {
     "name": "stdout",
     "output_type": "stream",
     "text": [
      "Bending Moment Diagram for Element 2\n"
     ]
    },
    {
     "data": {
      "image/png": "[encoded data removed]",
      "text/plain": [
       "<Figure size 432x288 with 1 Axes>"
      ]
     },
     "metadata": {
      "needs_background": "light"
     },
     "output_type": "display_data"
    },
    {
     "name": "stdout",
     "output_type": "stream",
     "text": [
      "Shear Force Diagram for Element 3\n"
     ]
    },
    {
     "data": {
      "image/png": "[encoded data removed]",
      "text/plain": [
       "<Figure size 432x288 with 1 Axes>"
      ]
     },
     "metadata": {
      "needs_background": "light"
     },
     "output_type": "display_data"
    },
    {
     "name": "stdout",
     "output_type": "stream",
     "text": [
      "Bending Moment Diagram for Element 3\n"
     ]
    },
    {
     "data": {
      "image/png": "[encoded data removed]",
      "text/plain": [
       "<Figure size 432x288 with 1 Axes>"
      ]
     },
     "metadata": {
      "needs_background": "light"
     },
     "output_type": "display_data"
    }
   ],
   "source": [
    "## SFD and BMD\n",
    "\n",
    "for i in range(len(f)):\n",
    "    print(\"Shear Force Diagram for Element \"+ str(i+1))\n",
    "    BeamElementShearDiagram(f[i],length[i])\n",
    "    print(\"Bending Moment Diagram for Element \"+ str(i+1))\n",
    "    BeamElementMomentDiagram(f[i],length[i])\n",
    "    "
   ]
  },
  {
   "cell_type": "code",
   "execution_count": null,
   "id": "ac7882fc",
   "metadata": {},
   "outputs": [],
   "source": []
  }
 ],
 "metadata": {
  "kernelspec": {
   "display_name": "Python 3",
   "language": "python",
   "name": "python3"
  },
  "language_info": {
   "codemirror_mode": {
    "name": "ipython",
    "version": 3
   },
   "file_extension": ".py",
   "mimetype": "text/x-python",
   "name": "python",
   "nbconvert_exporter": "python",
   "pygments_lexer": "ipython3",
   "version": "3.6.5"
  }
 },
 "nbformat": 4,
 "nbformat_minor": 5
}
