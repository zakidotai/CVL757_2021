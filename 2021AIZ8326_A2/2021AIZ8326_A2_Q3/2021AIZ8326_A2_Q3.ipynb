{
 "cells": [
  {
   "cell_type": "code",
   "execution_count": 36,
   "id": "2b9bc382",
   "metadata": {},
   "outputs": [],
   "source": [
    "def BeamElementStiffness(E,I,L):\n",
    "    \"\"\"This function returns the element stiffness matrix for a beam element with modulus of elasticity E, \n",
    "    moment of inertia I, and length L. The size of the element stiffness matrix is 4 x 4.\"\"\"\n",
    "\n",
    "    y = E*I/(L*L*L) * np.array([[12, 6*L, -12, 6*L], [6*L, 4*L*L, -6*L, 2*L*L,],\n",
    "                                [-12, -6*L, 12, -6*L], [6*L, 2*L*L, -6*L, 4*L*L,]])\n",
    "\n",
    "    return y"
   ]
  },
  {
   "cell_type": "code",
   "execution_count": 37,
   "id": "7ebe8c29",
   "metadata": {},
   "outputs": [],
   "source": [
    "def BeamAssemble(K,k,i,j):\n",
    "    \"\"\"\"This function assembles the element stiffness matrix k of the beam element with nodes i and j \n",
    "    into the global stiffness matrix K. This function returns the global stiffness matrix K after the \n",
    "    element stiffness matrix k is assembled.\"\"\"\n",
    "    temp = [2*i-2, 2*i-1, 2*j-2, 2*j-1]\n",
    "    for i in range(len(temp)):\n",
    "        for j in range(len(temp)):\n",
    "            K[temp[i], temp[j]] += k[i, j]\n",
    "    \n",
    "    return K\n"
   ]
  },
  {
   "cell_type": "code",
   "execution_count": 38,
   "id": "ac6a2396",
   "metadata": {},
   "outputs": [],
   "source": [
    "def BeamElementForces(k,u):\n",
    "    \"\"\"\"This function returns the element nodal force vector given the element stiffness matrix k \n",
    "    and the element nodal displacement vector u.\"\"\" \n",
    "    return np.dot(k, u)"
   ]
  },
  {
   "cell_type": "code",
   "execution_count": 39,
   "id": "4a3c20d6",
   "metadata": {},
   "outputs": [],
   "source": [
    "def BeamElementShearDiagram(f, L):\n",
    "    \"\"\"\"This function plots the shear force diagram for the beam element with nodal \n",
    "    force vector f and length L.\"\"\"\n",
    "    \n",
    "    x = [0, L]\n",
    "    z = [f[0,0] , -f[2,0]]\n",
    "    plt.plot(x,z)\n",
    "    plt.ylabel('Shear Force (kN)')\n",
    "    plt.show()"
   ]
  },
  {
   "cell_type": "code",
   "execution_count": 40,
   "id": "b5d87450",
   "metadata": {},
   "outputs": [],
   "source": [
    "def BeamElementMomentDiagram(f, L):\n",
    "    \"\"\"\"This function plots the shear force diagram for the beam element with nodal \n",
    "    force vector f and length L.\"\"\"\n",
    "    \n",
    "    x = [0, L]\n",
    "    z = [-f[1,0] , f[3,0]]\n",
    "    plt.plot(x,z)\n",
    "    plt.ylabel('Bending Moment (kN.m)')\n",
    "    plt.show()"
   ]
  },
  {
   "cell_type": "code",
   "execution_count": 41,
   "id": "d780eddc",
   "metadata": {},
   "outputs": [],
   "source": [
    "def SpringElementStiffness(k):\n",
    "    \"\"\"This function returns the element stiffness matrix for a spring with stiffness k.\n",
    "    The size of the element stiffness matrix is 2 x 2.\"\"\"\n",
    "    \n",
    "    y = np.array([[k, -k], [-k, k]])\n",
    "    return y\n"
   ]
  },
  {
   "cell_type": "code",
   "execution_count": 42,
   "id": "e1c01948",
   "metadata": {},
   "outputs": [],
   "source": [
    "def SpringAssemble(K,k,i,j):\n",
    "    \"\"\"This function assembles the element stiffness matrix k of the spring \n",
    "    with nodes i and j into the global stiffness matrix K. This function returns \n",
    "    the global stiffness matrix K after the element stiffness matrix k is assembled.\"\"\"\n",
    "    \n",
    "    K[i,i] += k[0,0]\n",
    "    K[i,j] += k[0,1]\n",
    "\n",
    "    K[j,i] += k[1,0]\n",
    "    K[j,j] += k[1,1]\n",
    "    \n",
    "    return K"
   ]
  },
  {
   "cell_type": "code",
   "execution_count": 43,
   "id": "0c782860",
   "metadata": {},
   "outputs": [],
   "source": [
    "def SpringElementForces(k,u):\n",
    "    \"\"\"This function returns the element nodal force vector given the element \n",
    "    stiffness matrix k and the element nodal displacement vector u.\"\"\"\n",
    "    \n",
    "    y = np.dot(k, u)\n",
    "    \n",
    "    return y\n"
   ]
  },
  {
   "cell_type": "code",
   "execution_count": 44,
   "id": "b3488061",
   "metadata": {},
   "outputs": [],
   "source": [
    "##Step 1 : Initializing the problem\n",
    "\n",
    "import numpy as np\n",
    "import matplotlib.pyplot as plt\n",
    "E = 70e6\n",
    "I = 40e-6\n",
    "L = 3\n",
    "nodes = [1,2,3]\n",
    "node_connections = [(1,2), (2,3)]\n",
    "length = [L, L]"
   ]
  },
  {
   "cell_type": "code",
   "execution_count": 45,
   "id": "3fb4f692",
   "metadata": {},
   "outputs": [],
   "source": [
    "## Step 2 : Element Stiffness Matrices\n",
    "\n",
    "k1 =  BeamElementStiffness(E,I,L)\n",
    "k2 =  BeamElementStiffness(E,I,L)\n",
    "k3 =  SpringElementStiffness(5000)\n",
    "\n",
    "element_stiffness = [k1, k2, k3]"
   ]
  },
  {
   "cell_type": "code",
   "execution_count": 46,
   "id": "6324b091",
   "metadata": {},
   "outputs": [
    {
     "data": {
      "text/plain": [
       "array([[ 1244.44444444,  1866.66666667, -1244.44444444,  1866.66666667,\n",
       "            0.        ,     0.        ,     0.        ],\n",
       "       [ 1866.66666667,  3733.33333333, -1866.66666667,  1866.66666667,\n",
       "            0.        ,     0.        ,     0.        ],\n",
       "       [-1244.44444444, -1866.66666667,  7488.88888889,     0.        ,\n",
       "        -1244.44444444,  1866.66666667, -5000.        ],\n",
       "       [ 1866.66666667,  1866.66666667,     0.        ,  7466.66666667,\n",
       "        -1866.66666667,  1866.66666667,     0.        ],\n",
       "       [    0.        ,     0.        , -1244.44444444, -1866.66666667,\n",
       "         1244.44444444, -1866.66666667,     0.        ],\n",
       "       [    0.        ,     0.        ,  1866.66666667,  1866.66666667,\n",
       "        -1866.66666667,  3733.33333333,     0.        ],\n",
       "       [    0.        ,     0.        , -5000.        ,     0.        ,\n",
       "            0.        ,     0.        ,  5000.        ]])"
      ]
     },
     "execution_count": 46,
     "metadata": {},
     "output_type": "execute_result"
    }
   ],
   "source": [
    "## Step 3 : Global Stiffness Matrix\n",
    "\n",
    "K = np.zeros((2*len(nodes)+1, 2*len(nodes)+1))\n",
    "K = BeamAssemble(K,k1,1,2)\n",
    "K = BeamAssemble(K,k2,2,3)\n",
    "K = SpringAssemble(K,k3,2,6)\n",
    "\n",
    "K"
   ]
  },
  {
   "cell_type": "code",
   "execution_count": 47,
   "id": "57f78a1e",
   "metadata": {},
   "outputs": [],
   "source": [
    "## Step 4 : Applying Boundary Conditions\n",
    "\n",
    "U=np.zeros((len(nodes)*2+1,1))   \n",
    "F=np.zeros((len(nodes)*2+1,1))   \n",
    "\n",
    "U[0,0] = 0\n",
    "U[1,0] = 0\n",
    "U[4,0] = 0\n",
    "U[6,0] = 0\n",
    "\n",
    "F[2,0] = -10\n",
    "F[3,0] = 0\n",
    "F[5,0] = 0\n",
    "\n"
   ]
  },
  {
   "cell_type": "code",
   "execution_count": 48,
   "id": "dca9aca6",
   "metadata": {},
   "outputs": [
    {
     "name": "stdout",
     "output_type": "stream",
     "text": [
      "Deflection of Node 2 and Rotations of Node 2 and 3 are [U2 Phi2 Phi3]\n",
      "[[-0.00155709]\n",
      " [-0.00022244]\n",
      " [ 0.00088977]]\n"
     ]
    }
   ],
   "source": [
    "## Step 5 : Solving the Equations\n",
    "\n",
    "bound = [2,3,5]\n",
    "\n",
    "Up=U[bound]\n",
    "Fp=F[bound]\n",
    "Kpp=K[bound]\n",
    "Kpp=Kpp[:,bound]\n",
    "\n",
    "\n",
    "Up=np.dot(np.linalg.inv(Kpp),Fp)\n",
    "print(\"Deflection of Node 2 and Rotations of Node 2 and 3 are [U2 Phi2 Phi3]\")\n",
    "print(Up)"
   ]
  },
  {
   "cell_type": "code",
   "execution_count": 49,
   "id": "c826a12d",
   "metadata": {},
   "outputs": [
    {
     "name": "stdout",
     "output_type": "stream",
     "text": [
      "Reactions at Node 1, 3, 4 are [F1y, M1, F3y, F4y]\n",
      "[1.52249135 2.49134948 0.69204152 7.78546713]\n"
     ]
    }
   ],
   "source": [
    "## Post - processing\n",
    "\n",
    "U[bound]=Up\n",
    "\n",
    "force = []\n",
    "for i in range(2*len(nodes)+1):\n",
    "    if i not in bound:\n",
    "        force.append(i)\n",
    "\n",
    "F=np.dot(K,U)\n",
    "print(\"Reactions at Node 1, 3, 4 are [F1y, M1, F3y, F4y]\")\n",
    "print(F[force,0])"
   ]
  },
  {
   "cell_type": "code",
   "execution_count": 50,
   "id": "481212d2",
   "metadata": {},
   "outputs": [
    {
     "name": "stdout",
     "output_type": "stream",
     "text": [
      "The shear Force and Bending Moment in Element 1 is\n",
      " [[ 1.52249135]\n",
      " [ 2.49134948]\n",
      " [-1.52249135]\n",
      " [ 2.07612457]]\n",
      "The shear Force and Bending Moment in Element 2 is\n",
      " [[-6.92041522e-01]\n",
      " [-2.07612457e+00]\n",
      " [ 6.92041522e-01]\n",
      " [-8.88178420e-16]]\n"
     ]
    }
   ],
   "source": [
    "## Shear Force and Bending Moment\n",
    "\n",
    "u = [] \n",
    "f = []\n",
    "for node in node_connections:\n",
    "    u1 = np.asarray([U[node[0]*2-2],U[node[0]*2-1],U[node[1]*2-2],U[node[1]*2-1]])\n",
    "    u.append(u1)\n",
    "\n",
    "u.append([U[2],U[6]])\n",
    "\n",
    "for i in range(len(node_connections)):\n",
    "    f1 = BeamElementForces(element_stiffness[i], u[i])\n",
    "    f.append(f1)\n",
    "    print(\"The shear Force and Bending Moment in Element \" + str(i+1) + \" is\" + '\\n', f1)\n",
    "\n"
   ]
  },
  {
   "cell_type": "code",
   "execution_count": 51,
   "id": "0058dbd6",
   "metadata": {},
   "outputs": [
    {
     "name": "stdout",
     "output_type": "stream",
     "text": [
      "The Spring Element Force is \n",
      " [[-7.78546713]\n",
      " [ 7.78546713]]\n"
     ]
    }
   ],
   "source": [
    "f3 = SpringElementForces(element_stiffness[2], u[2])\n",
    "print(\"The Spring Element Force is \" + '\\n', f3)"
   ]
  },
  {
   "cell_type": "code",
   "execution_count": 52,
   "id": "fb0ea9b4",
   "metadata": {},
   "outputs": [
    {
     "name": "stdout",
     "output_type": "stream",
     "text": [
      "Shear Force Diagram for Element 1\n"
     ]
    },
    {
     "data": {
      "image/png": "[encoded data removed]",
      "text/plain": [
       "<Figure size 432x288 with 1 Axes>"
      ]
     },
     "metadata": {
      "needs_background": "light"
     },
     "output_type": "display_data"
    },
    {
     "name": "stdout",
     "output_type": "stream",
     "text": [
      "Bending Moment Diagram for Element 1\n"
     ]
    },
    {
     "data": {
      "image/png": "[encoded data removed]",
      "text/plain": [
       "<Figure size 432x288 with 1 Axes>"
      ]
     },
     "metadata": {
      "needs_background": "light"
     },
     "output_type": "display_data"
    },
    {
     "name": "stdout",
     "output_type": "stream",
     "text": [
      "Shear Force Diagram for Element 2\n"
     ]
    },
    {
     "data": {
      "image/png": "[encoded data removed]",
      "text/plain": [
       "<Figure size 432x288 with 1 Axes>"
      ]
     },
     "metadata": {
      "needs_background": "light"
     },
     "output_type": "display_data"
    },
    {
     "name": "stdout",
     "output_type": "stream",
     "text": [
      "Bending Moment Diagram for Element 2\n"
     ]
    },
    {
     "data": {
      "image/png": "[encoded data removed]",
      "text/plain": [
       "<Figure size 432x288 with 1 Axes>"
      ]
     },
     "metadata": {
      "needs_background": "light"
     },
     "output_type": "display_data"
    }
   ],
   "source": [
    "## SFD and BMD\n",
    "\n",
    "for i in range(len(f)):\n",
    "    print(\"Shear Force Diagram for Element \"+ str(i+1))\n",
    "    BeamElementShearDiagram(f[i],length[i])\n",
    "    print(\"Bending Moment Diagram for Element \"+ str(i+1))\n",
    "    BeamElementMomentDiagram(f[i],length[i])\n",
    "    \n"
   ]
  },
  {
   "cell_type": "code",
   "execution_count": null,
   "id": "ac7882fc",
   "metadata": {},
   "outputs": [],
   "source": []
  }
 ],
 "metadata": {
  "kernelspec": {
   "display_name": "Python 3",
   "language": "python",
   "name": "python3"
  },
  "language_info": {
   "codemirror_mode": {
    "name": "ipython",
    "version": 3
   },
   "file_extension": ".py",
   "mimetype": "text/x-python",
   "name": "python",
   "nbconvert_exporter": "python",
   "pygments_lexer": "ipython3",
   "version": "3.6.5"
  }
 },
 "nbformat": 4,
 "nbformat_minor": 5
}
