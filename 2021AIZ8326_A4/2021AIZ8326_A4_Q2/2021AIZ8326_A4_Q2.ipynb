{
 "cells": [
  {
   "cell_type": "code",
   "execution_count": 24,
   "id": "7cb7ba1f",
   "metadata": {},
   "outputs": [],
   "source": [
    "import numpy as np\n",
    "import matplotlib.pyplot as plt"
   ]
  },
  {
   "cell_type": "code",
   "execution_count": 25,
   "id": "c25ad168",
   "metadata": {},
   "outputs": [],
   "source": [
    "def PlaneFrameElementLength(x1,y1,x2,y2):\n",
    "    \"\"\"This function returns the length of the plane frame element whose first node has coordinates (x1,y1) \n",
    "    and second node has coordinates (x2,y2).\"\"\"\n",
    "    \n",
    "    return np.sqrt((x2-x1)*(x2-x1) + (y2-y1)*(y2-y1))"
   ]
  },
  {
   "cell_type": "code",
   "execution_count": 26,
   "id": "9664f090",
   "metadata": {},
   "outputs": [],
   "source": [
    "def PlaneFrameElementStiffness(E,A,I,L,theta):\n",
    "    \"\"\"This function returns the element stiffness matrix for a plane frame element with modulus of elasticity E,\n",
    "    cross-sectional area A, moment of inertia I, length L, and angle theta (in degrees). The size of the \n",
    "    element stiffness matrix is 6 x 6.\"\"\"\n",
    "    x = theta*np.pi/180\n",
    "    C = np.cos(x)\n",
    "    S = np.sin(x)\n",
    "    w1 = A*C*C + 12*I*S*S/(L*L)\n",
    "    w2 = A*S*S + 12*I*C*C/(L*L)\n",
    "    w3 = (A-12*I/(L*L))*C*S\n",
    "    w4 = 6*I*S/L\n",
    "    w5 = 6*I*C/L\n",
    "    y = E/L * np.array([[w1, w3, -w4, -w1, -w3, -w4], [w3, w2, w5, -w3, -w2, w5],\n",
    "                      [-w4, w5, 4*I, w4, -w5, 2*I], [-w1, -w3, w4, w1, w3, w4],\n",
    "                      [-w3, -w2, -w5, w3, w2, -w5], [-w4, w5, 2*I, w4, -w5, 4*I]])\n",
    "    return y"
   ]
  },
  {
   "cell_type": "code",
   "execution_count": 27,
   "id": "a0e71572",
   "metadata": {},
   "outputs": [],
   "source": [
    "def PlaneFrameAssemble(K,k,i,j):\n",
    "    \"\"\"\"This function assembles the element stiffness matrix k of the plane frame element with nodes i and j \n",
    "    into the global stiffness matrix K. This function returns the global stiffness matrix K after the \n",
    "    element stiffness matrix k is assembled.\"\"\"\n",
    "    temp = [3*i-3, 3*i-2, 3*i-1, 3*j-3, 3*j-2, 3*j-1]\n",
    "    for i in range(len(temp)):\n",
    "        for j in range(len(temp)):\n",
    "            K[temp[i], temp[j]] += k[i, j]\n",
    "    \n",
    "    return K\n"
   ]
  },
  {
   "cell_type": "code",
   "execution_count": 28,
   "id": "f1996bfa",
   "metadata": {},
   "outputs": [],
   "source": [
    "def PlaneFrameElementForces(E,A,I,L,theta,u):\n",
    "    \"\"\"This function returns the element force vector given the modulus of elasticity E, \n",
    "    the cross-sectional area A, the moment of inertia I, the length L, the angle theta \n",
    "    (in degrees), and the element nodal displacement vector u.\"\"\"\n",
    "    \n",
    "    x = theta * np.pi/180\n",
    "    C = np.cos(x)\n",
    "    S = np.sin(x)\n",
    "    w1 = E*A/L\n",
    "    w2 = 12*E*I/(L*L*L)\n",
    "    w3 = 6*E*I/(L*L)\n",
    "    w4 = 4*E*I/L\n",
    "    w5 = 2*E*I/L\n",
    "    kprime = np.array([[w1, 0, 0, -w1, 0, 0], [0, w2, w3, 0, -w2, w3], \n",
    "                       [0, w3, w4, 0, -w3, w5], [-w1, 0, 0, w1, 0, 0],\n",
    "                       [0, -w2, -w3, 0, w2, -w3], [0, w3, w5, 0, -w3, w4]])\n",
    "\n",
    "    T = np.array([[C, S, 0, 0, 0, 0], [-S, C, 0, 0, 0, 0], [0, 0, 1, 0, 0, 0],\n",
    "                  [0, 0, 0, C, S, 0], [0, 0, 0, -S, C, 0], [0, 0, 0, 0, 0, 1]])\n",
    "    y = np.dot(kprime,np.dot(T,u))\n",
    "    \n",
    "    return y\n"
   ]
  },
  {
   "cell_type": "code",
   "execution_count": 29,
   "id": "006f7bfd",
   "metadata": {},
   "outputs": [],
   "source": [
    "def PlaneFrameElementAxialDiagram(f, L):\n",
    "    \"\"\"\"This function plots the axial force diagram for the plane frame element with nodal \n",
    "    force vector f and length L.\"\"\"\n",
    "    \n",
    "    x = [0, L]\n",
    "    z = [-f[0,0] , f[3,0]]\n",
    "    plt.plot(x,z)\n",
    "    plt.ylabel('Axial Force (kN)')\n",
    "    plt.show()"
   ]
  },
  {
   "cell_type": "code",
   "execution_count": 30,
   "id": "f2ed35f2",
   "metadata": {},
   "outputs": [],
   "source": [
    "def PlaneFrameElementShearDiagram(f, L):\n",
    "    \"\"\"\"This function plots the shear force diagram for the plane frame element with nodal \n",
    "    force vector f and length L.\"\"\"\n",
    "    \n",
    "    x = [0, L]\n",
    "    z = [f[1,0] , -f[4,0]]\n",
    "    plt.plot(x,z)\n",
    "    plt.ylabel('Shear Force (kN)')\n",
    "    plt.show()"
   ]
  },
  {
   "cell_type": "code",
   "execution_count": 31,
   "id": "b9e3fb84",
   "metadata": {},
   "outputs": [],
   "source": [
    "def PlaneFrameElementMomentDiagram(f, L):\n",
    "    \"\"\"\"This function plots the bending moment diagram for the plane frame element with nodal \n",
    "    force vector f and length L.\"\"\"\n",
    "    \n",
    "    x = [0, L]\n",
    "    z = [-f[2,0] , f[5,0]]\n",
    "    plt.plot(x,z)\n",
    "    plt.ylabel('Shear Force (kN)')\n",
    "    plt.show()"
   ]
  },
  {
   "cell_type": "code",
   "execution_count": 32,
   "id": "f77f8041",
   "metadata": {},
   "outputs": [],
   "source": [
    "def PlaneFrameInclinedSupport(T,i,alpha):\n",
    "    \"\"\"This function calculates the tranformation matrix T of the inclined \n",
    "    support at node i with angle of inclination alpha (in degrees).\"\"\"\n",
    "    x = alpha*pi/180\n",
    "    T[3*i-3,3*i-3] = np.cos(x)\n",
    "    T[3*i-3,3*i-2] = np.sin(x)\n",
    "    T[3*i-3,3*i-1] = 0\n",
    "    T[3*i-2,3*i-3] = -np.sin(x)\n",
    "    T[3*i-2,3*i-2] = np.cos(x)\n",
    "    T[3*i-2,3*i-1] = 0\n",
    "    T[3*i-1,3*i-3] = 0\n",
    "    T[3*i-1,3*i-2] = 0\n",
    "    T[3*i-1,3*i-1] = 1\n",
    "    return T"
   ]
  },
  {
   "cell_type": "code",
   "execution_count": 33,
   "id": "c37650d5",
   "metadata": {},
   "outputs": [],
   "source": [
    "##Step 1 : Initializing the problem\n",
    "\n",
    "E = 200e6\n",
    "I = 1e-6\n",
    "A = 4e-2\n",
    "L1 = PlaneFrameElementLength(0,3,2,0)\n",
    "L2 = 4\n",
    "nodes = [1,2,3]\n",
    "node_connections = [(1,2), (2,3)]\n",
    "length = [L1, L2]\n",
    "theta = [360-np.arctan(3/2)*180/np.pi, 0]"
   ]
  },
  {
   "cell_type": "code",
   "execution_count": 34,
   "id": "53e0acda",
   "metadata": {},
   "outputs": [],
   "source": [
    "## Step 2 : Element Stiffness Matrices\n",
    "\n",
    "k = []\n",
    "\n",
    "for node in range(len(node_connections)):\n",
    "    k1 = PlaneFrameElementStiffness(E,A,I,length[node],theta[node])\n",
    "    k.append(k1)"
   ]
  },
  {
   "cell_type": "code",
   "execution_count": 35,
   "id": "00124bbd",
   "metadata": {},
   "outputs": [
    {
     "data": {
      "text/plain": [
       "array([[ 6.82743382e+05, -1.02403827e+06,  7.68046426e+01,\n",
       "        -6.82743382e+05,  1.02403827e+06,  7.68046426e+01,\n",
       "         0.00000000e+00,  0.00000000e+00,  0.00000000e+00],\n",
       "       [-1.02403827e+06,  1.53610861e+06,  5.12030950e+01,\n",
       "         1.02403827e+06, -1.53610861e+06,  5.12030950e+01,\n",
       "         0.00000000e+00,  0.00000000e+00,  0.00000000e+00],\n",
       "       [ 7.68046426e+01,  5.12030950e+01,  2.21880078e+02,\n",
       "        -7.68046426e+01, -5.12030950e+01,  1.10940039e+02,\n",
       "         0.00000000e+00,  0.00000000e+00,  0.00000000e+00],\n",
       "       [-6.82743382e+05,  1.02403827e+06, -7.68046426e+01,\n",
       "         2.68274338e+06, -1.02403827e+06, -7.68046426e+01,\n",
       "        -2.00000000e+06,  0.00000000e+00,  0.00000000e+00],\n",
       "       [ 1.02403827e+06, -1.53610861e+06, -5.12030950e+01,\n",
       "        -1.02403827e+06,  1.53614611e+06,  2.37969050e+01,\n",
       "         0.00000000e+00, -3.75000000e+01,  7.50000000e+01],\n",
       "       [ 7.68046426e+01,  5.12030950e+01,  1.10940039e+02,\n",
       "        -7.68046426e+01,  2.37969050e+01,  4.21880078e+02,\n",
       "         0.00000000e+00, -7.50000000e+01,  1.00000000e+02],\n",
       "       [ 0.00000000e+00,  0.00000000e+00,  0.00000000e+00,\n",
       "        -2.00000000e+06,  0.00000000e+00,  0.00000000e+00,\n",
       "         2.00000000e+06,  0.00000000e+00,  0.00000000e+00],\n",
       "       [ 0.00000000e+00,  0.00000000e+00,  0.00000000e+00,\n",
       "         0.00000000e+00, -3.75000000e+01, -7.50000000e+01,\n",
       "         0.00000000e+00,  3.75000000e+01, -7.50000000e+01],\n",
       "       [ 0.00000000e+00,  0.00000000e+00,  0.00000000e+00,\n",
       "         0.00000000e+00,  7.50000000e+01,  1.00000000e+02,\n",
       "         0.00000000e+00, -7.50000000e+01,  2.00000000e+02]])"
      ]
     },
     "execution_count": 35,
     "metadata": {},
     "output_type": "execute_result"
    }
   ],
   "source": [
    "## Step 3 : Global Stiffness Matrix\n",
    "\n",
    "K = np.zeros((3*len(nodes), 3*len(nodes)))\n",
    "for node in range(len(node_connections)):\n",
    "    K=PlaneFrameAssemble(K,k[node],node_connections[node][0],node_connections[node][1])\n",
    "\n",
    "K"
   ]
  },
  {
   "cell_type": "code",
   "execution_count": 36,
   "id": "bb305042",
   "metadata": {},
   "outputs": [],
   "source": [
    "## Step 4 : Applying Boundary Conditions\n",
    "\n",
    "U=np.zeros((len(nodes)*3,1))   \n",
    "F=np.zeros((len(nodes)*3,1))   \n",
    "\n",
    "U[0,0] = 0\n",
    "U[1,0] = 0\n",
    "U[2,0] = 0\n",
    "U[6,0] = 0\n",
    "U[7,0] = 0\n",
    "U[8,0] = 0\n",
    "\n",
    "F[3,0] = 0\n",
    "F[4,0] = -16\n",
    "F[5,0] = -10.667\n",
    "\n"
   ]
  },
  {
   "cell_type": "code",
   "execution_count": 37,
   "id": "92d0f4df",
   "metadata": {},
   "outputs": [
    {
     "name": "stdout",
     "output_type": "stream",
     "text": [
      "Displacements and Rotations at Node 2 [U2x U2y Phi2]\n",
      "[[-6.10318730e-06]\n",
      " [-1.40925387e-05]\n",
      " [-2.52847526e-02]]\n"
     ]
    }
   ],
   "source": [
    "## Step 5 : Solving the Equations\n",
    "\n",
    "bound = [3, 4, 5]\n",
    "\n",
    "Up=U[bound]\n",
    "Fp=F[bound]\n",
    "Kpp=K[bound]\n",
    "Kpp=Kpp[:,bound]\n",
    "\n",
    "\n",
    "Up=np.dot(np.linalg.inv(Kpp),Fp)\n",
    "print(\"Displacements and Rotations at Node 2 [U2x U2y Phi2]\")\n",
    "print(Up)"
   ]
  },
  {
   "cell_type": "code",
   "execution_count": 38,
   "id": "2587ccd7",
   "metadata": {},
   "outputs": [
    {
     "name": "stdout",
     "output_type": "stream",
     "text": [
      "Reactions at Node 1, and 3 are [F1x, F21y, M1, F3x, F3y, M3]\n",
      "[-12.20637461  14.10311509  -2.80390111  12.20637461   1.89688491\n",
      "  -2.5295322 ]\n"
     ]
    }
   ],
   "source": [
    "## Post - processing\n",
    "\n",
    "U[bound]=Up\n",
    "\n",
    "force = []\n",
    "for i in range(3*len(nodes)):\n",
    "    if i not in bound:\n",
    "        force.append(i)\n",
    "\n",
    "F=np.dot(K,U)\n",
    "print(\"Reactions at Node 1, and 3 are [F1x, F21y, M1, F3x, F3y, M3]\")\n",
    "print(F[force,0])"
   ]
  },
  {
   "cell_type": "code",
   "execution_count": 39,
   "id": "a526e7b7",
   "metadata": {},
   "outputs": [
    {
     "name": "stdout",
     "output_type": "stream",
     "text": [
      "The Axial Force, Shear Force and Bending Moment in Element 1 is\n",
      " [[-18.50537945]\n",
      " [ -2.33331688]\n",
      " [ -2.80390111]\n",
      " [ 18.50537945]\n",
      " [  2.33331688]\n",
      " [ -5.60899255]]\n",
      "The Axial Force, Shear Force and Bending Moment in Element 2 is\n",
      " [[-12.20637461]\n",
      " [ 14.10311509]\n",
      " [  5.60899255]\n",
      " [ 12.20637461]\n",
      " [ 17.89688491]\n",
      " [-13.1965322 ]]\n"
     ]
    }
   ],
   "source": [
    "## Axial Force, Shear Force and Bending Moment\n",
    "\n",
    "u = [] \n",
    "f = []\n",
    "for node in node_connections:\n",
    "    u1 = np.asarray([U[node[0]*3-3], U[node[0]*3-2], U[node[0]*3-1], \n",
    "                     U[node[1]*3-3], U[node[1]*3-2], U[node[1]*3-1]])\n",
    "    u.append(u1)\n",
    "\n",
    "for i in range(len(node_connections)):\n",
    "    f1 = PlaneFrameElementForces(E,A,I,length[i],theta[i],u[i])\n",
    "    if i == 1:\n",
    "        f1 = f1 - np.array([[0, -16, -10.667, 0, -16, 10.667]]).reshape((6,1))\n",
    "    f.append(f1)\n",
    "    print(\"The Axial Force, Shear Force and Bending Moment in Element \" + str(i+1) + \" is\" + '\\n', f1)\n"
   ]
  },
  {
   "cell_type": "code",
   "execution_count": 43,
   "id": "c25d150e",
   "metadata": {},
   "outputs": [
    {
     "name": "stdout",
     "output_type": "stream",
     "text": [
      "Axial Force Diagram for Element 1\n"
     ]
    },
    {
     "data": {
      "image/png": "[encoded data removed]",
      "text/plain": [
       "<Figure size 432x288 with 1 Axes>"
      ]
     },
     "metadata": {
      "needs_background": "light"
     },
     "output_type": "display_data"
    },
    {
     "name": "stdout",
     "output_type": "stream",
     "text": [
      "Shear Force Diagram for Element 1\n"
     ]
    },
    {
     "data": {
      "image/png": "[encoded data removed]",
      "text/plain": [
       "<Figure size 432x288 with 1 Axes>"
      ]
     },
     "metadata": {
      "needs_background": "light"
     },
     "output_type": "display_data"
    },
    {
     "name": "stdout",
     "output_type": "stream",
     "text": [
      "Bending Moment Diagram for Element 1\n"
     ]
    },
    {
     "data": {
      "image/png": "[encoded data removed]",
      "text/plain": [
       "<Figure size 432x288 with 1 Axes>"
      ]
     },
     "metadata": {
      "needs_background": "light"
     },
     "output_type": "display_data"
    },
    {
     "name": "stdout",
     "output_type": "stream",
     "text": [
      "Axial Force Diagram for Element 2\n"
     ]
    },
    {
     "data": {
      "image/png": "[encoded data removed]",
      "text/plain": [
       "<Figure size 432x288 with 1 Axes>"
      ]
     },
     "metadata": {
      "needs_background": "light"
     },
     "output_type": "display_data"
    },
    {
     "name": "stdout",
     "output_type": "stream",
     "text": [
      "Shear Force Diagram for Element 2\n"
     ]
    },
    {
     "data": {
      "image/png": "[encoded data removed]",
      "text/plain": [
       "<Figure size 432x288 with 1 Axes>"
      ]
     },
     "metadata": {
      "needs_background": "light"
     },
     "output_type": "display_data"
    },
    {
     "name": "stdout",
     "output_type": "stream",
     "text": [
      "Bending Moment Diagram for Element 2\n"
     ]
    },
    {
     "data": {
      "image/png": "[encoded data removed]",
      "text/plain": [
       "<Figure size 432x288 with 1 Axes>"
      ]
     },
     "metadata": {
      "needs_background": "light"
     },
     "output_type": "display_data"
    }
   ],
   "source": [
    "## AFD, SFD and BMD\n",
    "\n",
    "for i in range(len(f)):\n",
    "    print(\"Axial Force Diagram for Element \"+ str(i+1))\n",
    "    PlaneFrameElementAxialDiagram(f[i],length[i])\n",
    "    print(\"Shear Force Diagram for Element \"+ str(i+1))\n",
    "    PlaneFrameElementShearDiagram(f[i],length[i])\n",
    "    print(\"Bending Moment Diagram for Element \"+ str(i+1))\n",
    "    PlaneFrameElementMomentDiagram(f[i],length[i])\n",
    "    "
   ]
  },
  {
   "cell_type": "code",
   "execution_count": null,
   "id": "f0dc2282",
   "metadata": {},
   "outputs": [],
   "source": []
  }
 ],
 "metadata": {
  "kernelspec": {
   "display_name": "Python 3",
   "language": "python",
   "name": "python3"
  },
  "language_info": {
   "codemirror_mode": {
    "name": "ipython",
    "version": 3
   },
   "file_extension": ".py",
   "mimetype": "text/x-python",
   "name": "python",
   "nbconvert_exporter": "python",
   "pygments_lexer": "ipython3",
   "version": "3.6.5"
  }
 },
 "nbformat": 4,
 "nbformat_minor": 5
}
