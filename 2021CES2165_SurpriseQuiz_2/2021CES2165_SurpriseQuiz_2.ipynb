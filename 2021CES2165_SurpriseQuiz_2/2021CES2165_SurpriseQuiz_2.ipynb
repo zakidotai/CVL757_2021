{
 "cells": [
  {
   "cell_type": "markdown",
   "id": "e74365dc",
   "metadata": {},
   "source": [
    "# Question : 1"
   ]
  },
  {
   "cell_type": "code",
   "execution_count": 1,
   "id": "67a05328",
   "metadata": {},
   "outputs": [],
   "source": [
    "import numpy as np"
   ]
  },
  {
   "cell_type": "code",
   "execution_count": 2,
   "id": "fd88c8f4",
   "metadata": {},
   "outputs": [],
   "source": [
    "#Given data : material and load \n",
    "\n",
    "E=2.1e8 #kN/m^2\n",
    "v=0.3 \n",
    "t=0.025 #m\n",
    "w=100 #kN/m\n",
    "P=12.5 #kN"
   ]
  },
  {
   "cell_type": "code",
   "execution_count": null,
   "id": "1345d8e6",
   "metadata": {},
   "outputs": [],
   "source": [
    "#Step1- Descritizing the domain\n",
    "#Step-1 Descritizing the domain\n",
    "nodes = np.array[(0,0),(0.25,0),(0.125,0.125),(0,0.25),(0.25,0.25),(0.125,0.375),(0,0.5),(0.25,0.5),(0.5,0.25),(0.5,0.5)]\n",
    "element_nodes = [(1,3,2),(1,4,3),(3,5,2),(3,4,5),(4,6,5),(4,7,6),(5,6,8),(6,7,8),(5,8,9),(8,11,9),(9,11,10)]\n",
    "\n",
    "def LinearTriangleElementStiffness(E,v,t,xi,yi,xj,yj,xm,ym,p):\n",
    "    A = (xi*(yj-ym)+ xj*(ym-yi) + xm*(yi-yj))/2\n",
    "    bi = yj-ym\n",
    "    bj = ym-yi\n",
    "    bm = yi-yj\n",
    "    gi = xm-xj\n",
    "    gj = xi-xm\n",
    "    gm = xj-xi\n",
    "    B=np.asarray([[bi, 0 ,bj, 0, bm, 0],[0, gi, 0, gj, 0 ,gm],[gi,bi,gj,bj,gm,bm]])\n",
    "    \n",
    "if p == 1\n",
    "D = (E/(1-NU*NU))*[1 NU 0 ; NU 1 0 ; 0 0 (1–NU)/2];\n",
    "elseif p == 2\n",
    "D = (E/(1+NU)/(1-2*NU))*[1-NU NU 0 ; NU 1–NU 0 ; 0 0 (1–2*NU)/2];\n",
    "end\n",
    "y = t*A*B’*D*B\n",
    "\n",
    "k1=LinearTriangleElementStiffness(E,v,t,0,0,0.5,0.25,0,0.25,1)\n",
    "print(k1)\n",
    "k2=LinearTriangleElementStiffness(E,v,t,0,0,0.5,0,0.5,0.25,1)\n",
    "print(k2)"
   ]
  },
  {
   "cell_type": "code",
   "execution_count": null,
   "id": "78961870",
   "metadata": {},
   "outputs": [],
   "source": []
  }
 ],
 "metadata": {
  "kernelspec": {
   "display_name": "Python 3",
   "language": "python",
   "name": "python3"
  },
  "language_info": {
   "codemirror_mode": {
    "name": "ipython",
    "version": 3
   },
   "file_extension": ".py",
   "mimetype": "text/x-python",
   "name": "python",
   "nbconvert_exporter": "python",
   "pygments_lexer": "ipython3",
   "version": "3.8.8"
  }
 },
 "nbformat": 4,
 "nbformat_minor": 5
}
