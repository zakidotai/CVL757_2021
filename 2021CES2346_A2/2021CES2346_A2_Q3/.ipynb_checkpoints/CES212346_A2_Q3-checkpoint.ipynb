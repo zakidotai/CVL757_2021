{
 "cells": [
  {
   "cell_type": "code",
   "execution_count": 1,
   "id": "f8b48cce",
   "metadata": {},
   "outputs": [
    {
     "name": "stdout",
     "output_type": "stream",
     "text": [
      "Global stiffness matrix for the structure:\n",
      "\n",
      "\n",
      "[[ 1.24444444e+03  1.86666667e+06 -1.24444444e+03  1.86666667e+06\n",
      "   0.00000000e+00  0.00000000e+00]\n",
      " [ 1.86666667e+06  3.73333333e+09 -1.86666667e+06  1.86666667e+09\n",
      "   0.00000000e+00  0.00000000e+00]\n",
      " [-1.24444444e+03 -1.86666667e+06  7.48888889e+03  0.00000000e+00\n",
      "  -1.24444444e+03  1.86666667e+06]\n",
      " [ 1.86666667e+06  1.86666667e+09  0.00000000e+00  7.46666667e+09\n",
      "  -1.86666667e+06  1.86666667e+09]\n",
      " [ 0.00000000e+00  0.00000000e+00 -1.24444444e+03 -1.86666667e+06\n",
      "   1.24444444e+03 -1.86666667e+06]\n",
      " [ 0.00000000e+00  0.00000000e+00  1.86666667e+06  1.86666667e+09\n",
      "  -1.86666667e+06  3.73333333e+09]]\n"
     ]
    }
   ],
   "source": [
    "import math\n",
    "import numpy as np\n",
    "te=2\n",
    "tn=te+1\n",
    "lem=[3000,3000]\n",
    "xco=[0,lem[0],(lem[0]+lem[1])]\n",
    "yco=[0,0,0]\n",
    "\n",
    "I =40e6\n",
    "E =70e3\n",
    "\n",
    "snofel= [1,2]                                                   #start node of elements\n",
    "enofel= [2,3]                                                   #end node of elements\n",
    "\n",
    "lenofel = []                                                  #length of the element\n",
    "cosofel = []                                                  #cos of element\n",
    "sinofel = []                                                  #sin of element\n",
    "elstmat = []                                                  #element stiffness matrix\n",
    "\n",
    "for i in range(te):  \n",
    "    a = snofel[i]\n",
    "    b = enofel[i]\n",
    "    x1 = float(xco[a-1])\n",
    "    y1 = float(yco[a-1])\n",
    "    x2 = float(xco[b-1])\n",
    "    y2 = float(yco[b-1])\n",
    "    L= math.sqrt((x2-x1)**2+(y2-y1)**2)\n",
    "    mat =E*I*np.array([[12/L**3,  6/L**2,  -12/L**3,  6/L**2],\n",
    "                      [6/L**2  ,     4/L,   -6/L**2,     2/L],\n",
    "                      [-12/L**3, -6/L**2,   12/L**3, -6/L**2],\n",
    "                      [6/L**2  ,     2/L,   -6/L**2,    4/L]])\n",
    "    snofel.append(a)\n",
    "    enofel.append(b)\n",
    "    lenofel.append(L)\n",
    "    elstmat.append(mat)\n",
    "    \n",
    "    \n",
    "egsmm=[]                               #element global stiffness matrix mapping\n",
    "for i in range(te):                     \n",
    "    m = snofel[i]*2                     \n",
    "    n = enofel[i]*2                     \n",
    "    assmat = [m-1, m, n-1, n]             # association matrix for element\n",
    "    \n",
    "    gmat = np.zeros((tn*2, tn*2))    ## global stiffness matrix loaded with zeros for element(i)\n",
    "    elmat = elstmat[i]                  ## taking the element stiffness matrix of element(i)\n",
    "    for j in range(4):                  \n",
    "        for k in range(4):              \n",
    "            a = assmat[j]-1                ## addressing row of GST matrix for element(i)\n",
    "            b = assmat[k]-1                ## addressing column of GST matrix for element(i)\n",
    "            gmat[a,b] = elmat[j,k]      ## updating the values in GST matrix with EST matrix of element(i)\n",
    "    egsmm.append(gmat)\n",
    "\n",
    "GSM = np.zeros((tn*2, tn*2))         ## creating an empyty GSM matrix\n",
    "for mat in egsmm:\n",
    "    GSM = GSM+mat  \n",
    "GSM[2,2]=GSM[2,2]+5000    \n",
    "print(\"Global stiffness matrix for the structure:\\n\\n\")    \n",
    "print(GSM)     \n"
   ]
  },
  {
   "cell_type": "code",
   "execution_count": 2,
   "id": "039a429c",
   "metadata": {},
   "outputs": [],
   "source": [
    "dispmat = np.ones((tn*2,1))\n",
    "dispmat[1*2-2, 0] = 0\n",
    "dispmat[1*2-1, 0] = 0\n",
    "dispmat[3*2-2, 0] = 0\n",
    "\n",
    "forcemat=np.zeros((tn*2,1))\n",
    "forcemat[(2*2-2),0]=forcemat[(2*2-2),0]-10000 "
   ]
  },
  {
   "cell_type": "code",
   "execution_count": 3,
   "id": "b10cd45d",
   "metadata": {},
   "outputs": [
    {
     "name": "stdout",
     "output_type": "stream",
     "text": [
      "\n",
      "\n",
      "\n",
      "\n",
      "Vertical displacement at node 2 is  -1.557093 mm\n",
      "(negative sign indicates downward displacement)\n",
      "\n",
      "\n",
      "\n",
      "\n",
      "Rotations at nodes 2 is  -0.000222 rad\n",
      "(negative sign indicates clockwise rotation)\n",
      "\n",
      "\n",
      "\n",
      "\n",
      "Rotations at nodes 3 is  0.000890 rad\n",
      "\n",
      "\n",
      "\n",
      "\n",
      "Vertical Reactions at nodes 1 is  1.522491 KN\n",
      "\n",
      "\n",
      "\n",
      "\n",
      "Moment at nodes 1 is  -2.491349 KNm\n",
      "(negative sign indicates anti-clockwise Moment reaction)\n",
      "\n",
      "\n",
      "\n",
      "\n",
      "Vertical Reactions at nodes 3 is  0.692042 KN\n"
     ]
    }
   ],
   "source": [
    "import numpy\n",
    "rcdlist = []\n",
    "for i in range(tn*2):\n",
    "    if dispmat[i,0] == 0:\n",
    "        rcdlist.append(i)\n",
    "rrgsm = numpy.delete(GSM, rcdlist, 0) #row reduction\n",
    "crgsm = numpy.delete(rrgsm, rcdlist, 1) #column reduction\n",
    "rgsm = crgsm #reduced global stiffness matrix\n",
    "rforcemat = numpy.delete(forcemat, rcdlist, 0) #reduced force mat\n",
    "rdispmat = numpy.delete(dispmat, rcdlist, 0) #reduced disp mat\n",
    "\n",
    "###_______________Solving____________________###\n",
    "\n",
    "dispresult = numpy.matmul(numpy.linalg.inv(rgsm), rforcemat)\n",
    "rin = 0\n",
    "for i in range(tn*2):\n",
    "    if dispmat[i,0] == 1:\n",
    "        dispmat[i,0] = dispresult[rin,0]\n",
    "        rin = rin+1\n",
    "#print(dispmat)\n",
    "forceresult = numpy.matmul(GSM, dispmat)\n",
    "forceresult=forceresult\n",
    "#print(forceresult)\n",
    "print(\"\\n\\n\\n\\nVertical displacement at node 2 is  %f mm\" % dispmat[2,0])\n",
    "print(\"(negative sign indicates downward displacement)\")\n",
    "print(\"\\n\\n\\n\\nRotations at nodes 2 is  %f rad\" % dispmat[3,0])\n",
    "print(\"(negative sign indicates clockwise rotation)\")\n",
    "print(\"\\n\\n\\n\\nRotations at nodes 3 is  %f rad\" % dispmat[5,0])\n",
    "\n",
    "\n",
    "print(\"\\n\\n\\n\\nVertical Reactions at nodes 1 is  %f KN\" % (forceresult[0,0]/1000))\n",
    "print(\"\\n\\n\\n\\nMoment at nodes 1 is  %f KNm\" % -(forceresult[1,0]/1000000))\n",
    "print(\"(negative sign indicates anti-clockwise Moment reaction)\")\n",
    "print(\"\\n\\n\\n\\nVertical Reactions at nodes 3 is  %f KN\" % (forceresult[4,0]/1000))\n",
    "\n",
    "u1=np.array([[dispmat[0,0]],[dispmat[1,0]],[dispmat[2,0]],[dispmat[3,0]]])\n",
    "#print(u1)\n",
    "u2=np.array([[dispmat[2,0]],[dispmat[3,0]],[dispmat[4,0]],[dispmat[5,0]]])\n",
    "#print(u2)\n",
    "f1=np.matmul(elstmat[0],u1)\n",
    "#print(f1)\n",
    "f2=np.matmul(elstmat[1],u2)\n",
    "#print(f2)\n",
    "\n",
    "SPF=-dispmat[2,0]*5\n",
    "#print(SPF)"
   ]
  },
  {
   "cell_type": "code",
   "execution_count": 4,
   "id": "ccc4dc6c",
   "metadata": {},
   "outputs": [
    {
     "data": {
      "text/plain": [
       "Text(0, 0.5, 'Shear Force in KN')"
      ]
     },
     "execution_count": 4,
     "metadata": {},
     "output_type": "execute_result"
    },
    {
     "data": {
      "image/png": "[encoded data removed]",
      "text/plain": [
       "<Figure size 1080x288 with 1 Axes>"
      ]
     },
     "metadata": {
      "needs_background": "light"
     },
     "output_type": "display_data"
    }
   ],
   "source": [
    "xx=[]\n",
    "SF=[]\n",
    "for i in range(601):\n",
    "    if i>0 and i/100==6:\n",
    "        V=0\n",
    "    if i==0:\n",
    "        V=0\n",
    "    if i>0 and i/100<3:\n",
    "        V=forceresult[0,0]/1000\n",
    "    if i/100>3 and i/100<6:\n",
    "        V=-forceresult[4,0]/1000              #-(10000-SPF*1000))/1000\n",
    "    SF.append(V) \n",
    "    xx.append(i/100)\n",
    "#print(SF)    \n",
    "from matplotlib import pyplot as plt\n",
    "plt.figure(figsize=(15,4))\n",
    "plt.plot(xx,SF)\n",
    "plt.plot([0]*7, color='k')\n",
    "plt.title('SHEAR FORCE DIAGRAM')\n",
    "plt.xlabel('x m')\n",
    "plt.ylabel('Shear Force in KN')\n",
    "#plt.ylim(-9,18)"
   ]
  },
  {
   "cell_type": "code",
   "execution_count": 5,
   "id": "eda13107",
   "metadata": {},
   "outputs": [
    {
     "name": "stderr",
     "output_type": "stream",
     "text": [
      "C:\\Users\\SAGAR\\anaconda3\\lib\\site-packages\\numpy\\core\\_asarray.py:171: VisibleDeprecationWarning: Creating an ndarray from ragged nested sequences (which is a list-or-tuple of lists-or-tuples-or ndarrays with different lengths or shapes) is deprecated. If you meant to do this, you must specify 'dtype=object' when creating the ndarray.\n",
      "  return array(a, dtype, copy=False, order=order, subok=True)\n"
     ]
    },
    {
     "data": {
      "text/plain": [
       "Text(0, 0.5, 'BENDING MOMENT in KNm')"
      ]
     },
     "execution_count": 5,
     "metadata": {},
     "output_type": "execute_result"
    },
    {
     "data": {
      "image/png": "[encoded data removed]",
      "text/plain": [
       "<Figure size 1080x288 with 1 Axes>"
      ]
     },
     "metadata": {
      "needs_background": "light"
     },
     "output_type": "display_data"
    }
   ],
   "source": [
    "xx=[]\n",
    "BM=[]\n",
    "for i in range(601):\n",
    "    if i>0 and i/100==6:\n",
    "        M=0\n",
    "    if i==0:\n",
    "        M=0\n",
    "    if i>0 and i/100<3:\n",
    "        M=-forceresult[1]/1000000+forceresult[0]*i*0.01*0.001\n",
    "    if i/100>3 and i/100<6:\n",
    "        M=forceresult[4]*(6-i*0.01)/1000\n",
    "    xx.append(i/100)    \n",
    "    BM.append(M)\n",
    "from matplotlib import pyplot as plt\n",
    "plt.figure(figsize=(15,4))\n",
    "plt.plot(xx,BM)\n",
    "plt.plot([0]*7, color='k')\n",
    "plt.title('BENDING MOMENT DIAGRAM')\n",
    "plt.xlabel('x m')\n",
    "plt.ylabel('BENDING MOMENT in KNm')\n",
    "#plt.ylim(-18,18) "
   ]
  },
  {
   "cell_type": "code",
   "execution_count": null,
   "id": "7c86f8ca",
   "metadata": {},
   "outputs": [],
   "source": []
  }
 ],
 "metadata": {
  "kernelspec": {
   "display_name": "Python 3",
   "language": "python",
   "name": "python3"
  },
  "language_info": {
   "codemirror_mode": {
    "name": "ipython",
    "version": 3
   },
   "file_extension": ".py",
   "mimetype": "text/x-python",
   "name": "python",
   "nbconvert_exporter": "python",
   "pygments_lexer": "ipython3",
   "version": "3.8.8"
  }
 },
 "nbformat": 4,
 "nbformat_minor": 5
}
