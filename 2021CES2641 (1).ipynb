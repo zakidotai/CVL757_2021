{
 "cells": [
  {
   "cell_type": "markdown",
   "metadata": {},
   "source": [
    "<h1>Assignment 1"
   ]
  },
  {
   "cell_type": "markdown",
   "metadata": {},
   "source": [
    "<h3>Q1: Reversing a list"
   ]
  },
  {
   "cell_type": "code",
   "execution_count": 8,
   "metadata": {},
   "outputs": [],
   "source": [
    "#following are sample input and corresponding outputs\n",
    "Input  = [12, 35, 9, 56, 24]\n",
    "Output = [24, 35, 9, 56, 12]\n",
    "\n",
    "#Input  = [1, 2, 3]\n",
    "#Output = [3, 2, 1]"
   ]
  },
  {
   "cell_type": "code",
   "execution_count": 9,
   "metadata": {},
   "outputs": [
    {
     "name": "stdout",
     "output_type": "stream",
     "text": [
      "[24, 56, 9, 35, 12]\n"
     ]
    }
   ],
   "source": [
    "#write your solution here to reverse a list\n",
    "\n",
    "print(Input[::-1])\n"
   ]
  },
  {
   "cell_type": "code",
   "execution_count": null,
   "metadata": {},
   "outputs": [],
   "source": [
    "<h3>Q2: Swapping elements in lists"
   ]
  },
  {
   "cell_type": "code",
   "execution_count": 6,
   "metadata": {},
   "outputs": [],
   "source": [
    "Input  = [12, 35, 9, 56, 24]\n",
    "Output = [12, 9, 35, 56, 24]"
   ]
  },
  {
   "cell_type": "code",
   "execution_count": 7,
   "metadata": {},
   "outputs": [
    {
     "name": "stdout",
     "output_type": "stream",
     "text": [
      "[12, 9, 35, 56, 24]\n"
     ]
    }
   ],
   "source": [
    "#write your solution here\n",
    "\n",
    "\n",
    "def swap(a,b,L):\n",
    "    L[a],L[b]=L[b],L[a]\n",
    "    return L\n",
    "\n",
    "print(swap(1,2,Input))"
   ]
  },
  {
   "cell_type": "markdown",
   "metadata": {},
   "source": [
    "<h3>Q3: Reversing a string"
   ]
  },
  {
   "cell_type": "code",
   "execution_count": 10,
   "metadata": {},
   "outputs": [],
   "source": [
    "input_str  = 'This is CVL757'\n",
    "output_str = '757LVC si sihT'"
   ]
  },
  {
   "cell_type": "code",
   "execution_count": 11,
   "metadata": {},
   "outputs": [
    {
     "name": "stdout",
     "output_type": "stream",
     "text": [
      "757LVC si sihT\n"
     ]
    }
   ],
   "source": [
    "#write your solution here\n",
    "def reverse(s):\n",
    "  str = \"\"\n",
    "  for i in s:\n",
    "    str = i + str\n",
    "  return str\n",
    "\n",
    "\n",
    "print(reverse(input_str))\n"
   ]
  },
  {
   "cell_type": "markdown",
   "metadata": {},
   "source": [
    "<h3>Q4: Reversing the order of words in a string"
   ]
  },
  {
   "cell_type": "code",
   "execution_count": 12,
   "metadata": {},
   "outputs": [],
   "source": [
    "input_str  = 'This is CVL757'\n",
    "output_str = 'CVL757 is This'"
   ]
  },
  {
   "cell_type": "code",
   "execution_count": 13,
   "metadata": {},
   "outputs": [
    {
     "name": "stdout",
     "output_type": "stream",
     "text": [
      "CVL757 is This\n"
     ]
    }
   ],
   "source": [
    "#write your solution here\n",
    "def reverse_s(a:str,sep=' '):\n",
    "    a=a.split(sep)\n",
    "    \n",
    "    return \" \".join(a[::-1])\n",
    "\n",
    "input_str  = 'This is CVL757'\n",
    "    \n",
    "print(reverse_s(input_str))\n"
   ]
  },
  {
   "cell_type": "markdown",
   "metadata": {},
   "source": [
    "<h3>Q5: Initialise a 3x3 matrix with random values, use numpy"
   ]
  },
  {
   "cell_type": "code",
   "execution_count": 15,
   "metadata": {},
   "outputs": [],
   "source": [
    "import numpy as np\n",
    " #write solution here"
   ]
  },
  {
   "cell_type": "code",
   "execution_count": 16,
   "metadata": {},
   "outputs": [
    {
     "name": "stdout",
     "output_type": "stream",
     "text": [
      "[[0.49460165 0.2280831  0.25547392]\n",
      " [0.39632991 0.3773151  0.99657423]\n",
      " [0.4081972  0.77189399 0.76053669]]\n"
     ]
    }
   ],
   "source": [
    "np.random.seed(50)\n",
    "random_matrix = np.random.rand(3,3)\n",
    "print(random_matrix)\n"
   ]
  },
  {
   "cell_type": "markdown",
   "metadata": {},
   "source": [
    "<h3>Q6: Swap the columns of random_matrix"
   ]
  },
  {
   "cell_type": "code",
   "execution_count": 17,
   "metadata": {},
   "outputs": [
    {
     "name": "stdout",
     "output_type": "stream",
     "text": [
      "[[0.13806091 0.82474243 0.15646752]\n",
      " [0.50029824 0.45875794 0.53401557]\n",
      " [0.95397773 0.79407795 0.07442586]]\n"
     ]
    }
   ],
   "source": [
    "inp = np.array([[0.13806091, 0.82474243, 0.15646752],\n",
    "                [0.50029824, 0.45875794, 0.53401557],\n",
    "                [0.95397773, 0.79407795, 0.07442586]])\n",
    "\n",
    "out = np.array([[0.15646752, 0.82474243, 0.13806091],\n",
    "                [0.53401557, 0.45875794, 0.50029824],\n",
    "                [0.07442586, 0.79407795, 0.95397773]])\n",
    "\n",
    "print(inp)"
   ]
  },
  {
   "cell_type": "code",
   "execution_count": 18,
   "metadata": {},
   "outputs": [
    {
     "name": "stdout",
     "output_type": "stream",
     "text": [
      "[[0.15646752 0.82474243 0.13806091]\n",
      " [0.53401557 0.45875794 0.50029824]\n",
      " [0.07442586 0.79407795 0.95397773]]\n"
     ]
    }
   ],
   "source": [
    "#write your solution here to swap 1st and last column\n",
    "inp[:,[0,-1]]= inp[:,[-1,0]]\n",
    "print(inp)"
   ]
  },
  {
   "cell_type": "markdown",
   "metadata": {},
   "source": [
    "<h3>Q7: Swap the rows of random_matrix"
   ]
  },
  {
   "cell_type": "code",
   "execution_count": 18,
   "metadata": {},
   "outputs": [],
   "source": [
    "inp = np.array([[0.13806091, 0.82474243, 0.15646752],\n",
    "               [0.50029824, 0.45875794, 0.53401557],\n",
    "               [0.95397773, 0.79407795, 0.07442586]])\n",
    "\n",
    "out = np.array([[0.95397773, 0.79407795, 0.07442586],\n",
    "               [0.50029824, 0.45875794, 0.53401557],\n",
    "               [0.13806091, 0.82474243, 0.15646752]])"
   ]
  },
  {
   "cell_type": "code",
   "execution_count": 19,
   "metadata": {},
   "outputs": [
    {
     "name": "stdout",
     "output_type": "stream",
     "text": [
      "[[0.07442586 0.79407795 0.95397773]\n",
      " [0.53401557 0.45875794 0.50029824]\n",
      " [0.15646752 0.82474243 0.13806091]]\n"
     ]
    }
   ],
   "source": [
    "#write your solution here to swap 1st and 3rd rows\n",
    "inp[[0,2],:]=inp[[2,0],:]\n",
    "print(inp)"
   ]
  },
  {
   "cell_type": "markdown",
   "metadata": {},
   "source": [
    "<h3>Q8: Plot the sine and cosine curves as shown below"
   ]
  },
  {
   "cell_type": "code",
   "execution_count": 21,
   "metadata": {},
   "outputs": [],
   "source": [
    "import matplotlib.pyplot as plt"
   ]
  },
  {
   "cell_type": "code",
   "execution_count": 22,
   "metadata": {},
   "outputs": [
    {
     "data": {
      "image/png": "[encoded data removed]",
      "text/plain": [
       "<Figure size 432x288 with 1 Axes>"
      ]
     },
     "metadata": {
      "needs_background": "light"
     },
     "output_type": "display_data"
    }
   ],
   "source": [
    "x = np.arange(0,2*np.pi,0.01)\n",
    "#write code here to plot and show the legend also\n",
    "fig,ax=plt.subplots(1,1)\n",
    "ax.plot(x,np.sin(x))\n",
    "ax.plot(x,np.cos(x))\n",
    "ax.legend([\"Sin(x)\",\"Cos[x]\"])\n",
    "plt.show()"
   ]
  },
  {
   "cell_type": "markdown",
   "metadata": {},
   "source": [
    "<h3>Q9: Plot the following truss</h3>\n",
    "Length of element 2, 6 and 9 (between nodes 1 and 3, 3 and 5, and 5 and 9) is 5.<br>\n",
    "Length of element 3 and 7 is 7m.\n",
    " "
   ]
  },
  {
   "cell_type": "markdown",
   "metadata": {},
   "source": [
    "<img src='q9.svg' alt=\"Truss Q9\" width=\"500\" height=\"600\">"
   ]
  },
  {
   "cell_type": "code",
   "execution_count": 23,
   "metadata": {},
   "outputs": [
    {
     "data": {
      "text/plain": [
       "(-5.0, 10.0)"
      ]
     },
     "execution_count": 23,
     "metadata": {},
     "output_type": "execute_result"
    },
    {
     "data": {
      "image/png": "[encoded data removed]",
      "text/plain": [
       "<Figure size 432x288 with 1 Axes>"
      ]
     },
     "metadata": {
      "needs_background": "light"
     },
     "output_type": "display_data"
    }
   ],
   "source": [
    "#write solution here\n",
    "Nodes = [1,2,3,4,5,6]\n",
    "Nod_cords=[(0,0),(5,7),(5,0),(10,7),(10,0),(15,0)]\n",
    "Elements= [(1,2),(1,3),(2,3),(2,4),(2,5),(3,5),(4,5),(4,6),(5,6)]\n",
    "\n",
    "fig,ax=plt.subplots(1,1)\n",
    "ax.scatter([i[0] for i in Nod_cords],[i[1] for i in Nod_cords],s=100,color='k')\n",
    "\n",
    "for i in Elements:\n",
    "    ax.plot([Nod_cords[i[0]-1][0],Nod_cords[i[1]-1][0]],[Nod_cords[i[0]-1][1],Nod_cords[i[1]-1][1]],color='k')\n",
    "    \n",
    "ax.set_xlim(-5,20)\n",
    "ax.set_ylim(-5,10)"
   ]
  },
  {
   "cell_type": "markdown",
   "metadata": {},
   "source": [
    "**Q10: Consider the plane truss shown above. Given E = 200GPa and A = 0.005m2, and horizontal load of 20kN at node 2. Both node 1 and node 6 have pin supports:**\n",
    "\n",
    "1. the global stiffness matrix for the structure.\n",
    "2. the horizontal and vertical displacements at nodes 2, 3, 4, and 5.\n",
    "3. the horizontal and vertical reactions at nodes 1 and 6.\n",
    "4. the stress in each element."
   ]
  },
  {
   "cell_type": "code",
   "execution_count": 27,
   "metadata": {},
   "outputs": [
    {
     "name": "stdout",
     "output_type": "stream",
     "text": [
      "Element:  1\n",
      "Nodal Displacements(Local): [[0.00000000e+00]\n",
      " [9.86666667e-05]]\n",
      "Nodal Forces(Local)       : [[-11.46976702]\n",
      " [ 11.46976702]]\n",
      "Stress:  [2293.95340454]\n",
      "Element:  2\n",
      "Nodal Displacements(Local): [[0.00000000e+00]\n",
      " [6.66666667e-05]]\n",
      "Nodal Forces(Local)       : [[-13.33333333]\n",
      " [ 13.33333333]]\n",
      "Stress:  [2666.66666667]\n",
      "Element:  3\n",
      "Nodal Displacements(Local): [[-0.00010114]\n",
      " [-0.00010114]]\n",
      "Nodal Forces(Local)       : [[ 6.64724554e-16]\n",
      " [-6.64724554e-16]]\n",
      "Stress:  [0.]\n",
      "Element:  4\n",
      "Nodal Displacements(Local): [[0.00031135]\n",
      " [0.00027802]]\n",
      "Nodal Forces(Local)       : [[ 6.66666667]\n",
      " [-6.66666667]]\n",
      "Stress:  [-1333.33333333]\n",
      "Element:  5\n",
      "Nodal Displacements(Local): [[0.00026327]\n",
      " [0.00016461]]\n",
      "Nodal Forces(Local)       : [[ 11.46976702]\n",
      " [-11.46976702]]\n",
      "Stress:  [-2293.95340454]\n",
      "Element:  6\n",
      "Nodal Displacements(Local): [[6.66666667e-05]\n",
      " [1.33333333e-04]]\n",
      "Nodal Forces(Local)       : [[-13.33333333]\n",
      " [ 13.33333333]]\n",
      "Stress:  [2666.66666667]\n",
      "Element:  7\n",
      "Nodal Displacements(Local): [[-4.17142857e-05]\n",
      " [-1.07047619e-04]]\n",
      "Nodal Forces(Local)       : [[ 9.33333333]\n",
      " [-9.33333333]]\n",
      "Stress:  [-1866.66666667]\n",
      "Element:  8\n",
      "Nodal Displacements(Local): [[1.95539699e-04]\n",
      " [9.68730323e-05]]\n",
      "Nodal Forces(Local)       : [[ 11.46976702]\n",
      " [-11.46976702]]\n",
      "Stress:  [-2293.95340454]\n",
      "Element:  9\n",
      "Nodal Displacements(Local): [[0.00013333]\n",
      " [0.00016667]]\n",
      "Nodal Forces(Local)       : [[-6.66666667]\n",
      " [ 6.66666667]]\n",
      "Stress:  [1333.33333333]\n"
     ]
    }
   ],
   "source": [
    "#write solution here\n",
    "import numpy as np\n",
    "from Bar_element import Node,Bar_element\n",
    "Nod_cord=[(0,0),(5,7),(5,0),(10,7),(10,0),(15,0)]\n",
    "Elements=[(1,2),(1,3),(2,3),(2,4),(2,5),(3,5),(4,5),(4,6),(5,6)]\n",
    "\n",
    "Nodes=dict()\n",
    "Elem=dict()\n",
    "for i in range(len(Nod_cord)):\n",
    "    Nodes[i+1]=Node(i+1,[Nod_cord[i][0],Nod_cord[i][1]])\n",
    "Nodes[2].set_Load([20,0])\n",
    "Nodes[1].set_Restr([1,1])\n",
    "Nodes[6].set_Restr([0,1])\n",
    "for i in range(len(Elements)):\n",
    "    N1=Elements[i][0]\n",
    "    N2=Elements[i][1]\n",
    "    Elem[i+1]=Bar_element(Nodes[N1],Nodes[N2],E=2e8,A=0.005)\n",
    "\n",
    "#Node numbering with structural dofs, forming association matrices\n",
    "Count_P=0\n",
    "DOF_counter=0\n",
    "for i in Nodes.keys():\n",
    "    #Take node\n",
    "    node :Node=Nodes[i]\n",
    "    restr=node.get_restrains()\n",
    "    Associate=node.get_Association()\n",
    "    for j in range(len(restr)):\n",
    "        if(restr[j]==0):\n",
    "            Associate[j]=DOF_counter\n",
    "            Count_P+=1\n",
    "            DOF_counter+=1\n",
    "    node.set_Association(Associate)\n",
    "\n",
    "#Now number restrained joints\n",
    "\n",
    "for i in Nodes.keys():\n",
    "    #Take node\n",
    "    node :Node=Nodes[i]\n",
    "    #Check its restraints\n",
    "    restr1=Nodes[i].get_restrains()\n",
    "    Associate=node.get_Association()\n",
    "    for j in range(len(restr1)):\n",
    "        if(restr1[j]==1):\n",
    "            Associate[j]=DOF_counter\n",
    "            DOF_counter+=1\n",
    "    node.set_Association(Associate)\n",
    "\n",
    "N=2*len(Nodes)\n",
    "P=Count_P             #No. of Unrestrained joints for KPP :P x P\n",
    "K_Ts=np.zeros((N,N)) #Total stiffness matrix\n",
    "\n",
    "for i in Elem.keys():\n",
    "    member :Bar_element=Elem[i]\n",
    "    Association=member.get_Association()\n",
    "    k_g=member.get_global_k()\n",
    "    K_Ts[np.ix_(Association,Association)]=np.add(K_Ts[np.ix_(Association,Association)],k_g)\n",
    "\n",
    "F=np.zeros((N,1))     #Nodal Force vector \n",
    "U=np.zeros((N,1))     #Nodal Displacement Vector \n",
    "for i in Nodes.keys():\n",
    "    node :Node =Nodes[i]\n",
    "    Association=node.get_Association()\n",
    "    node_disp =node.get_Disp().reshape( -1,1)\n",
    "    node_force=node.get_Load().reshape( -1,1)\n",
    "    F[Association]=node_force\n",
    "    U[Association]=node_disp\n",
    "    \n",
    "#Partition into Kpp,Kxp,Kpx,Kxx and Up,Ux,Fp,Fx\n",
    "\n",
    "Kpp =K_Ts[:P,:P]\n",
    "Kpx =K_Ts[:P,P:]\n",
    "Kxp =K_Ts[ P:,:P]\n",
    "Kxx =K_Ts[ P:,P:]\n",
    "\n",
    " \n",
    "Fp=F[:P]\n",
    "Fx=F[P:]\n",
    "Up=U[:P]\n",
    "Ux=U[P:]\n",
    "\n",
    "\"\"\"Solving force-displacement equations\n",
    "    [Kpp]{Up}+[Kpx]{Ux}={Fp}\n",
    "    [Kxp]{Up}+[Kxx]{Ux}={Fx}\n",
    "\n",
    "    {Up}=[Kpp]A(-l){[Fp]-[Kpx][Ux]}     #Unknown forces\n",
    "    {Fx}=[Kxp]{Up}+[Kxx]{Ux}            #Unknown Reactions\n",
    " \"\"\"\n",
    "Up=np.dot(np.linalg.inv(Kpp),np.add(Fp,-1*np.dot(Kpx,Ux)))\n",
    "Fx=np.add(np.dot(Kxp,Up),np.dot(Kxx,Ux)) \n",
    "U=np.concatenate((Up,Ux))\n",
    "F=np.concatenate((Fp,Fx))\n",
    "\n",
    "#UPDATING NODAL VALUES\n",
    "for i in Nodes.keys():\n",
    "    node :Node =Nodes[i]\n",
    "    Association=node.get_Association()\n",
    "    node.set_Disp(U[Association])\n",
    "    node_force=node.set_Load(F[Association])\n",
    "\n",
    "for i in Elem.keys():\n",
    "    member :Bar_element =Elem[i]\n",
    "    print(\"Element: \",i)\n",
    "    stress=member.get_stress()\n",
    "    print(\"Stress: \",stress)\n",
    "    "
   ]
  },
  {
   "cell_type": "markdown",
   "metadata": {},
   "source": [
    "<H1>BONUS QUESTION</H1>\n",
    "Plot the deformed shape of truss obtained in Q10"
   ]
  },
  {
   "cell_type": "code",
   "execution_count": 28,
   "metadata": {},
   "outputs": [
    {
     "data": {
      "image/png": "[encoded data removed]",
      "text/plain": [
       "<Figure size 432x288 with 1 Axes>"
      ]
     },
     "metadata": {
      "needs_background": "light"
     },
     "output_type": "display_data"
    }
   ],
   "source": [
    "#write solution here\n",
    "Nod_cord=[(0,0),(5,7),(5,0),(10,7),(10,0),(15,0)]\n",
    "New_cord=[]\n",
    "for i in Nodes.keys():\n",
    "    \n",
    "    coord=list(Nodes[i].get_disp_pos(2000.0).flat)\n",
    "    New_cord+=[(coord[0],coord[1])]\n",
    "Elements=[(1,2),(1,3),(2,3),(2,4),(2,5),(3,5),(4,5),(4,6),(5,6)]\n",
    "\n",
    "fig,ax=plt.subplots(1,1)\n",
    "ax.scatter([i[0] for i in New_cord],[i[1] for i in New_cord],s=100,color='k')\n",
    "\n",
    "for i in Elements:\n",
    "    ax.plot([New_cord[i[0]-1][0],New_cord[i[1]-1][0]],[New_cord[i[0]-1][1],New_cord[i[1]-1][1]],color='k',linestyle='--')\n",
    "    ax.plot([Nod_cord[i[0]-1][0],Nod_cord[i[1]-1][0]],[Nod_cord[i[0]-1][1],Nod_cord[i[1]-1][1]],color='b')"
   ]
  },
  {
   "cell_type": "code",
   "execution_count": null,
   "metadata": {},
   "outputs": [],
   "source": []
  }
 ],
 "metadata": {
  "kernelspec": {
   "display_name": "Python 3",
   "language": "python",
   "name": "python3"
  },
  "language_info": {
   "codemirror_mode": {
    "name": "ipython",
    "version": 3
   },
   "file_extension": ".py",
   "mimetype": "text/x-python",
   "name": "python",
   "nbconvert_exporter": "python",
   "pygments_lexer": "ipython3",
   "version": "3.6.2"
  }
 },
 "nbformat": 4,
 "nbformat_minor": 4
}
