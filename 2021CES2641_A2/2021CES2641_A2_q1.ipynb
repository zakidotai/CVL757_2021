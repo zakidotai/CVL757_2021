{
 "cells": [
  {
   "cell_type": "code",
   "execution_count": 1,
   "id": "stainless-interpretation",
   "metadata": {},
   "outputs": [],
   "source": [
    "import numpy as np\n",
    "import math as mt\n",
    "ndcon= np.array([[1,2],[2,3]])\n",
    "nelem = len(ndcon)\n",
    "ndofn=2\n",
    "nnode=2\n",
    "x=[0,2,4]\n",
    "E=2.1e8\n",
    "I=6e-5\n",
    "L=2"
   ]
  },
  {
   "cell_type": "code",
   "execution_count": 3,
   "id": "fixed-reviewer",
   "metadata": {},
   "outputs": [
    {
     "name": "stdout",
     "output_type": "stream",
     "text": [
      "gstiff\n",
      "[[ 18900.  18900. -18900.  18900.      0.      0.]\n",
      " [ 18900.  25200. -18900.  12600.      0.      0.]\n",
      " [-18900. -18900.  37800.      0. -18900.  18900.]\n",
      " [ 18900.  12600.      0.  50400. -18900.  12600.]\n",
      " [     0.      0. -18900. -18900.  18900. -18900.]\n",
      " [     0.      0.  18900.  12600. -18900.  25200.]]\n",
      "free displacements is [[-0.00092593]\n",
      " [-0.00019841]\n",
      " [ 0.00079365]]\n",
      "All displacements is [[ 0.        ]\n",
      " [ 0.        ]\n",
      " [-0.00092593]\n",
      " [-0.00019841]\n",
      " [ 0.        ]\n",
      " [ 0.00079365]]\n",
      "forces [[ 13.75]\n",
      " [ 15.  ]\n",
      " [-20.  ]\n",
      " [  0.  ]\n",
      " [  6.25]\n",
      " [  0.  ]]\n",
      "reactions at 1st node\n",
      "[[13.75]\n",
      " [15.  ]]\n",
      "reactions at 3nd node\n",
      "[6.25]\n"
     ]
    }
   ],
   "source": [
    "nodes=len(x)\n",
    "tdofs=nodes*ndofn\n",
    "gstiff = np.zeros([tdofs,tdofs])\n",
    "ielem=0\n",
    "while ielem < nelem: \n",
    "    gbdof=[]\n",
    "    x1 =x[ndcon[ielem][0]-1]\n",
    "    x2 =x[ndcon[ielem][1]-1]\n",
    "    L=mt.sqrt((x2-x1)**2)\n",
    "    K1 =np.matrix('%s, %s , %s, %s; %s, %s, %s, %s; %s, %s, %s, %s; %s, %s, %s, %s' % (12*E*I/L**3, 6*E*I/L**2,-12*E*I/L**3,6*E*I/L**2,6*E*I/L**2,4*E*I/L,-6*E*I/L**2,2*E*I/L,-12*E*I/L**3,-6*E*I/L**2,12*E*I/L**3,-6*E*I/L**2,6*E*I/L**2,2*E*I/L,-6*E*I/L**2,4*E*I/L))\n",
    "    inode =0\n",
    "    while inode < nnode:\n",
    "        idofn=1\n",
    "        while idofn <= ndofn:\n",
    "            gbdof.append((ndcon[ielem,inode]-1)*ndofn+idofn)\n",
    "            idofn += 1\n",
    "        inode += 1\n",
    "    i = 0\n",
    "    if i == 0:\n",
    "        gstiff[gbdof[i]-1,gbdof[i]-1]=gstiff[gbdof[i]-1,gbdof[i]-1] + K1[0,0]\n",
    "        gstiff[gbdof[i]-1,gbdof[i+1]-1]=gstiff[gbdof[i]-1,gbdof[i+1]-1] + K1[0,1]\n",
    "        gstiff[gbdof[i]-1,gbdof[i+2]-1]=gstiff[gbdof[i]-1,gbdof[i+2]-1] + K1[0,2]\n",
    "        gstiff[gbdof[i]-1,gbdof[i+3]-1]=gstiff[gbdof[i]-1,gbdof[i+3]-1] + K1[0,3]\n",
    "    i = 1\n",
    "    if i == 1:\n",
    "        gstiff[gbdof[i]-1,gbdof[i-1]-1]=gstiff[gbdof[i]-1,gbdof[i-1]-1] + K1[1,0]\n",
    "        gstiff[gbdof[i]-1,gbdof[i]-1]=gstiff[gbdof[i]-1,gbdof[i]-1]     + K1[1,1]\n",
    "        gstiff[gbdof[i]-1,gbdof[i+1]-1]=gstiff[gbdof[i]-1,gbdof[i+1]-1] + K1[1,2]\n",
    "        gstiff[gbdof[i]-1,gbdof[i+2]-1]=gstiff[gbdof[i]-1,gbdof[i+2]-1] + K1[1,3]\n",
    "    i = 2\n",
    "    if i == 2:\n",
    "        gstiff[gbdof[i]-1,gbdof[i-2]-1]=gstiff[gbdof[i]-1,gbdof[i-2]-1] + K1[2,0]\n",
    "        gstiff[gbdof[i]-1,gbdof[i-1]-1]=gstiff[gbdof[i]-1,gbdof[i-1]-1] + K1[2,1]\n",
    "        gstiff[gbdof[i]-1,gbdof[i]-1]=gstiff[gbdof[i]-1,gbdof[i]-1]     + K1[2,2]\n",
    "        gstiff[gbdof[i]-1,gbdof[i+1]-1]=gstiff[gbdof[i]-1,gbdof[i+1]-1] + K1[2,3]\n",
    "    i = 3 \n",
    "    if i == 3:\n",
    "        gstiff[gbdof[i]-1,gbdof[i-3]-1]=gstiff[gbdof[i]-1,gbdof[i-3]-1] + K1[3,0]\n",
    "        gstiff[gbdof[i]-1,gbdof[i-2]-1]=gstiff[gbdof[i]-1,gbdof[i-2]-1] + K1[3,1]\n",
    "        gstiff[gbdof[i]-1,gbdof[i-1]-1]=gstiff[gbdof[i]-1,gbdof[i-1]-1] + K1[3,2]\n",
    "        gstiff[gbdof[i]-1,gbdof[i]-1]=gstiff[gbdof[i]-1,gbdof[i]-1]     + K1[3,3]\n",
    "    ielem += 1\n",
    "print(\"gstiff\")    \n",
    "print(gstiff)\n",
    "b=np.delete(gstiff,[0,1,4],0)\n",
    "c=np.delete(b,[0,1,4],1)\n",
    "f=np.matrix('-20;0;0')\n",
    "u = np.linalg.inv(c).dot(f)\n",
    "print(\"free displacements is %s\" %u)\n",
    "U=np.zeros([tdofs,1])\n",
    "U[2][0]=u[0][0]\n",
    "U[3][0]=u[1][0]\n",
    "U[5][0]=u[2][0]\n",
    "print(\"All displacements is %s\" %U)\n",
    "t= gstiff.dot(U)\n",
    "print(\"forces %s\" % t)\n",
    "f= gstiff[0:2].dot(U)\n",
    "print(\"reactions at 1st node\")\n",
    "print(f)\n",
    "f2= gstiff[4].dot(U)\n",
    "print(\"reactions at 3nd node\")\n",
    "print(f2)"
   ]
  },
  {
   "cell_type": "code",
   "execution_count": 4,
   "id": "otherwise-hydrogen",
   "metadata": {},
   "outputs": [
    {
     "name": "stdout",
     "output_type": "stream",
     "text": [
      "Shear force in 1st element is [13.75] \n",
      "Shear force in 2nd element is [13.75]-20 \n",
      "SFD\n"
     ]
    },
    {
     "data": {
      "image/png": "[encoded data removed]",
      "text/plain": [
       "<Figure size 432x288 with 1 Axes>"
      ]
     },
     "metadata": {
      "needs_background": "light"
     },
     "output_type": "display_data"
    },
    {
     "name": "stdout",
     "output_type": "stream",
     "text": [
      "Bending moment in 1st element is -[15.]+[13.75]*x \n",
      "Bending moment in 2nd element is -[15.]+[13.75]*x-20*(x-2) \n",
      "BMD\n"
     ]
    },
    {
     "data": {
      "image/png": "[encoded data removed]",
      "text/plain": [
       "<Figure size 432x288 with 1 Axes>"
      ]
     },
     "metadata": {
      "needs_background": "light"
     },
     "output_type": "display_data"
    }
   ],
   "source": [
    "#sfd for element\n",
    "import matplotlib.pyplot as plt\n",
    "w= np.arange(0,2,0.01)\n",
    "x=f[0]+(0*w)\n",
    "print(\"Shear force in 1st element is %s \"%(f[0]))\n",
    "y= np.arange(2,4,0.01)\n",
    "z=f[0]-20+(0*w)\n",
    "print(\"Shear force in 2nd element is %s-20 \"%(f[0]))\n",
    "print(\"SFD\")\n",
    "plt.plot(w,x,y,z)\n",
    "plt.legend(['l=0:2', 'l=2:4'])\n",
    "plt.show()\n",
    "#Bmd for element\n",
    "w= np.arange(0,2,0.01)\n",
    "x=-f[1]+(f[0]*w)\n",
    "print(\"Bending moment in 1st element is -%s+%s*x \"%(f[1],f[0]))\n",
    "y= np.arange(2,4,0.01)\n",
    "z=-f[1]+(f[0]*(w+2))-(20*w)\n",
    "print(\"Bending moment in 2nd element is -%s+%s*x-20*(x-2) \"%(f[1],f[0]))\n",
    "print(\"BMD\")\n",
    "plt.plot(w,x,y,z)\n",
    "plt.legend(['l=0:2', 'l=2:4'])\n",
    "plt.show()"
   ]
  },
  {
   "cell_type": "code",
   "execution_count": null,
   "id": "cognitive-abortion",
   "metadata": {},
   "outputs": [],
   "source": []
  }
 ],
 "metadata": {
  "kernelspec": {
   "display_name": "Python 3",
   "language": "python",
   "name": "python3"
  },
  "language_info": {
   "codemirror_mode": {
    "name": "ipython",
    "version": 3
   },
   "file_extension": ".py",
   "mimetype": "text/x-python",
   "name": "python",
   "nbconvert_exporter": "python",
   "pygments_lexer": "ipython3",
   "version": "3.6.2"
  }
 },
 "nbformat": 4,
 "nbformat_minor": 5
}
