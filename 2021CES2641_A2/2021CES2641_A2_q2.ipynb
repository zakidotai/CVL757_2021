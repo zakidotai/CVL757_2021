{
 "cells": [
  {
   "cell_type": "code",
   "execution_count": 4,
   "id": "0958c55b",
   "metadata": {},
   "outputs": [
    {
     "name": "stdout",
     "output_type": "stream",
     "text": [
      "Global stiffness matrix for the structure:\n",
      "\n",
      "\n",
      "[[ 4.66666667e+02  7.00000000e+05 -4.66666667e+02  7.00000000e+05\n",
      "   0.00000000e+00  0.00000000e+00  0.00000000e+00  0.00000000e+00]\n",
      " [ 7.00000000e+05  1.40000000e+09 -7.00000000e+05  7.00000000e+08\n",
      "   0.00000000e+00  0.00000000e+00  0.00000000e+00  0.00000000e+00]\n",
      " [-4.66666667e+02 -7.00000000e+05  6.63541667e+02 -3.06250000e+05\n",
      "  -1.96875000e+02  3.93750000e+05  0.00000000e+00  0.00000000e+00]\n",
      " [ 7.00000000e+05  7.00000000e+08 -3.06250000e+05  2.45000000e+09\n",
      "  -3.93750000e+05  5.25000000e+08  0.00000000e+00  0.00000000e+00]\n",
      " [ 0.00000000e+00  0.00000000e+00 -1.96875000e+02 -3.93750000e+05\n",
      "   1.77187500e+03  1.18125000e+06 -1.57500000e+03  1.57500000e+06]\n",
      " [ 0.00000000e+00  0.00000000e+00  3.93750000e+05  5.25000000e+08\n",
      "   1.18125000e+06  3.15000000e+09 -1.57500000e+06  1.05000000e+09]\n",
      " [ 0.00000000e+00  0.00000000e+00  0.00000000e+00  0.00000000e+00\n",
      "  -1.57500000e+03 -1.57500000e+06  1.57500000e+03 -1.57500000e+06]\n",
      " [ 0.00000000e+00  0.00000000e+00  0.00000000e+00  0.00000000e+00\n",
      "   1.57500000e+06  1.05000000e+09 -1.57500000e+06  2.10000000e+09]]\n"
     ]
    }
   ],
   "source": [
    "import math\n",
    "import numpy as np\n",
    "e=3\n",
    "tn=e+1\n",
    "lem=[3000,4000,2000]\n",
    "xco=[0,lem[0],(lem[0]+lem[1]),(lem[0]+lem[1]+lem[2])]\n",
    "yco=[0,0,0,0]\n",
    "\n",
    "I =5e6\n",
    "E =210e3\n",
    "\n",
    "snel= [1,2,3]                                                   #start node of elements\n",
    "enel= [2,3,4]                                                   #end node of elements\n",
    "\n",
    "lenofel = []                                                    #length of element\n",
    "\n",
    "elstmat = []                                                  #element stiffness matrix\n",
    "\n",
    "for i in range(e):  \n",
    "    a = snel[i]\n",
    "    b = enel[i]\n",
    "    x1 = float(xco[a-1])\n",
    "    y1 = float(yco[a-1])\n",
    "    x2 = float(xco[b-1])\n",
    "    y2 = float(yco[b-1])\n",
    "    L= math.sqrt((x2-x1)**2+(y2-y1)**2)\n",
    "    mat =E*I*np.array([[12/L**3,  6/L**2,  -12/L**3,  6/L**2],\n",
    "                      [6/L**2  ,     4/L,   -6/L**2,     2/L],\n",
    "                      [-12/L**3, -6/L**2,   12/L**3, -6/L**2],\n",
    "                      [6/L**2  ,     2/L,   -6/L**2,    4/L]])\n",
    "    snel.append(a)\n",
    "    enel.append(b)\n",
    "    lenofel.append(L)\n",
    "    elstmat.append(mat)\n",
    "    \n",
    "esm=[]                               #element global stiffness matrix for mapping\n",
    "for i in range(e):                     \n",
    "    m = snel[i]*2                     \n",
    "    n = enel[i]*2                     \n",
    "    assmat = [m-1, m, n-1, n]             # association matrix for element\n",
    "    \n",
    "    gmat = np.zeros((tn*2, tn*2))    # global stiffness matrix loaded with zeros for element(i)\n",
    "    elmat = elstmat[i]                  # take element stiffness matrix of element(i)\n",
    "    for j in range(4):                  \n",
    "        for k in range(4):              \n",
    "            a = assmat[j]-1                # row of GST matrix for element(i)\n",
    "            b = assmat[k]-1                # column of GST matrix for element(i)\n",
    "            gmat[a,b] = elmat[j,k]      #updating values in GST matrix with EST matrix of element(i)\n",
    "    esm.append(gmat)\n",
    "\n",
    "GSM = np.zeros((tn*2, tn*2))         #creating an empyty GSM matrix\n",
    "for mat in esm:\n",
    "    GSM = GSM+mat  \n",
    "print(\"Global stiffness matrix for the structure:\\n\\n\")    \n",
    "print(GSM)     \n",
    "\n",
    "\n",
    "displist = []\n",
    "forcelist = []\n",
    "for i in range(tn):\n",
    "    a = str('v')+str(i+1)               # vertical displacement\n",
    "    displist.append(a)                      \n",
    "    b = str('w')+str(i+1)               # rotation at node\n",
    "    displist.append(b) \n",
    "    c = str('fy')+str(i+1)              # vertical reaction \n",
    "    forcelist.append(c)\n",
    "    d = str('M')+str(i+1)               # moment at node\n",
    "    forcelist.append(d) \n",
    "dispmat = np.ones((tn*2,1))    \n",
    "\n",
    "dispmat = np.ones((tn*2,1))\n",
    "dispmat[1*2-2, 0] = 0\n",
    "dispmat[2*2-2, 0] = 0\n",
    "dispmat[3*2-2, 0] = 0\n",
    "dispmat[4*2-1, 0] = 0\n",
    "dispmat[4*2-2, 0] = 0\n",
    "\n",
    "forcemat=np.zeros((tn*2,1))\n",
    "elnbr=2\n",
    "W=7\n",
    "forcemat[(2*elnbr-1),0]=forcemat[(2*elnbr-1),0]-(W*lenofel[elnbr-1]**2)/12\n",
    "forcemat[(2*elnbr-2),0]= forcemat[(2*elnbr-2),0]-(W*lenofel[elnbr-1])/2  \n",
    "forcemat[(2*elnbr),0]=forcemat[(2*elnbr),0]-(W*lenofel[elnbr-1])/2 \n",
    "forcemat[(2*elnbr+1),0]=forcemat[(2*elnbr+1),0]+(W*lenofel[elnbr-1]**2)/12\n",
    "fcorr=-forcemat"
   ]
  },
  {
   "cell_type": "code",
   "execution_count": 5,
   "id": "5a5dbeed",
   "metadata": {},
   "outputs": [
    {
     "name": "stdout",
     "output_type": "stream",
     "text": [
      "[[ 0.        ]\n",
      " [ 0.00270531]\n",
      " [ 0.        ]\n",
      " [-0.00541063]\n",
      " [ 0.        ]\n",
      " [ 0.00386473]\n",
      " [ 0.        ]\n",
      " [ 0.        ]]\n",
      "[[-1.89371981e+03]\n",
      " [ 0.00000000e+00]\n",
      " [ 1.52850242e+04]\n",
      " [ 0.00000000e+00]\n",
      " [ 2.06956522e+04]\n",
      " [ 0.00000000e+00]\n",
      " [-6.08695652e+03]\n",
      " [ 4.05797101e+06]]\n"
     ]
    }
   ],
   "source": [
    "import numpy\n",
    "rcdlist = []\n",
    "for i in range(tn*2):\n",
    "    if dispmat[i,0] == 0:\n",
    "        rcdlist.append(i)\n",
    "rrgsm = numpy.delete(GSM, rcdlist, 0) #row reduction\n",
    "crgsm = numpy.delete(rrgsm, rcdlist, 1) #column reduction\n",
    "rgsm = crgsm #reduced global stiffness matrix\n",
    "rforcemat = numpy.delete(forcemat, rcdlist, 0) #reduced force mat\n",
    "rdispmat = numpy.delete(dispmat, rcdlist, 0) #reduced disp mat\n",
    "\n",
    "\n",
    "\n",
    "dispresult = numpy.matmul(numpy.linalg.inv(rgsm), rforcemat)\n",
    "temp = 0\n",
    "for i in range(tn*2):\n",
    "    if dispmat[i,0] == 1:\n",
    "        dispmat[i,0] = dispresult[temp,0]\n",
    "        temp+=1\n",
    "print(dispmat)\n",
    "forceresult = numpy.matmul(GSM, dispmat)\n",
    "forceresult=forceresult+fcorr\n",
    "print(forceresult)"
   ]
  },
  {
   "cell_type": "code",
   "execution_count": 6,
   "id": "a01a577d",
   "metadata": {},
   "outputs": [
    {
     "name": "stdout",
     "output_type": "stream",
     "text": [
      "\n",
      "\n",
      "Vertical displacement at node 2 =  0.000000 mm\n",
      "(-ve sign indicates downward displacement)\n",
      "\n",
      "\n",
      "Rotations at node 2 =  -0.005411 rad\n",
      "(-ve sign indicates clockwise rotation)\n",
      "\n",
      "\n",
      "Rotations at node 3 =  0.003865 rad\n",
      "\n",
      "\n",
      "Vertical Reactions at node 1 = -1.893720 KN\n",
      "\n",
      "\n",
      "Moment at node 1 = -0.000000 KNm\n",
      "(negative sign indicates anti-clockwise Moment reaction)\n",
      "\n",
      "Vertical Reactions at node 3 is  20.695652 KN\n",
      "\n",
      "\n"
     ]
    }
   ],
   "source": [
    "print(\"\\n\\nVertical displacement at node 2 =  %f mm\" % dispmat[2,0])\n",
    "print(\"(-ve sign indicates downward displacement)\")\n",
    "print(\"\\n\\nRotations at node 2 =  %f rad\" % dispmat[3,0])\n",
    "print(\"(-ve sign indicates clockwise rotation)\")\n",
    "print(\"\\n\\nRotations at node 3 =  %f rad\" % dispmat[5,0])\n",
    "\n",
    "\n",
    "print(\"\\n\\nVertical Reactions at node 1 = %f KN\" % (forceresult[0,0]/1000))\n",
    "print(\"\\n\\nMoment at node 1 = %f KNm\" % -(forceresult[1,0]/1000000))\n",
    "print(\"(negative sign indicates anti-clockwise Moment reaction)\")\n",
    "print(\"\\nVertical Reactions at node 3 is  %f KN\" % (forceresult[4,0]/1000))\n",
    "\n",
    "u1=np.array([[dispmat[0,0]],[dispmat[1,0]],[dispmat[2,0]],[dispmat[3,0]]])\n",
    "#print(u1)\n",
    "u2=np.array([[dispmat[2,0]],[dispmat[3,0]],[dispmat[4,0]],[dispmat[5,0]]])\n",
    "#print(u2)\n",
    "u3=np.array([[dispmat[4,0]],[dispmat[5,0]],[dispmat[6,0]],[dispmat[7,0]]])\n",
    "print(\"\\n\")\n",
    "f1=np.matmul(elstmat[0],u1)\n",
    "#print(f1)\n",
    "f2=np.matmul(elstmat[1],u2)\n",
    "#print(f2)\n",
    "f3=np.matmul(elstmat[2],u3)\n",
    "#print(f3)"
   ]
  },
  {
   "cell_type": "code",
   "execution_count": 7,
   "id": "64fa2419",
   "metadata": {},
   "outputs": [
    {
     "name": "stderr",
     "output_type": "stream",
     "text": [
      "c:\\python36\\lib\\site-packages\\numpy\\core\\_asarray.py:136: VisibleDeprecationWarning: Creating an ndarray from ragged nested sequences (which is a list-or-tuple of lists-or-tuples-or ndarrays with different lengths or shapes) is deprecated. If you meant to do this, you must specify 'dtype=object' when creating the ndarray\n",
      "  return array(a, dtype, copy=False, order=order, subok=True)\n"
     ]
    },
    {
     "data": {
      "text/plain": [
       "(-1.0, 10.0)"
      ]
     },
     "execution_count": 7,
     "metadata": {},
     "output_type": "execute_result"
    },
    {
     "data": {
      "image/png": "[encoded data removed]",
      "text/plain": [
       "<Figure size 1152x288 with 1 Axes>"
      ]
     },
     "metadata": {
      "needs_background": "light"
     },
     "output_type": "display_data"
    }
   ],
   "source": [
    "##SHEAR FORCE DIAGRAM\n",
    "xx=[]\n",
    "SF=[]\n",
    "for i in range(1801):\n",
    "    if i==0:\n",
    "        V=0\n",
    "    if i>0 and i/200<3:\n",
    "        V=forceresult[0]/1000\n",
    "    if i/200==3:\n",
    "        V=0\n",
    "    if i/200>3 and i/200<7:\n",
    "        V=(forceresult[0]+forceresult[2])/1000-7*(i/200-3)\n",
    "    if i/200==7:\n",
    "        V=0    \n",
    "    if i/200>7 and i/200<9:\n",
    "        V= -forceresult[6] /1000\n",
    "    if i/200==9:\n",
    "        V=0\n",
    "    xx.append(i/200)    \n",
    "    SF.append(V) \n",
    "  \n",
    "    \n",
    "from matplotlib import pyplot as plt\n",
    "plt.figure(figsize=(16,4))\n",
    "plt.plot(xx,SF)\n",
    "plt.plot([0]*10, color='r')\n",
    "plt.title('SHEAR FORCE DIAGRAM')\n",
    "plt.xlabel('x m')\n",
    "plt.ylabel('Shear Force(KN)')\n",
    "plt.ylim(-18,18)\n",
    "plt.xlim(-1,10)"
   ]
  },
  {
   "cell_type": "code",
   "execution_count": 10,
   "id": "6dc73195",
   "metadata": {},
   "outputs": [
    {
     "data": {
      "text/plain": [
       "(-1.0, 10.0)"
      ]
     },
     "execution_count": 10,
     "metadata": {},
     "output_type": "execute_result"
    },
    {
     "data": {
      "image/png": "[encoded data removed]",
      "text/plain": [
       "<Figure size 1152x288 with 1 Axes>"
      ]
     },
     "metadata": {
      "needs_background": "light"
     },
     "output_type": "display_data"
    }
   ],
   "source": [
    "## BMD\n",
    "xx=[]\n",
    "BM=[]\n",
    "for i in range(1801):\n",
    "    if i==0:\n",
    "        M=0\n",
    "    if i>0 and i/200<=3:\n",
    "        M=forceresult[0]*0.001*i/200\n",
    "    if i/200>3 and i/200<=7:\n",
    "        M=(forceresult[0]*i/200+forceresult[2]*(i/200-3))/1000-7*(((i/200-3)**2)/2) \n",
    "    if i/200>7 and i/200<9:\n",
    "        M= forceresult[6]*(9-i/200)/1000+forceresult[7]/1000000\n",
    "    if i/200==9:\n",
    "        M=0\n",
    "    xx.append(i/200)    \n",
    "    BM.append(M) \n",
    "  \n",
    "    \n",
    "from matplotlib import pyplot as plt\n",
    "plt.figure(figsize=(16,4))\n",
    "plt.plot(xx,BM)\n",
    "plt.plot([0]*10, color='b')\n",
    "plt.title('BMD')\n",
    "plt.xlabel('x m')\n",
    "plt.ylabel('BENDING MOMENT (KNm)')\n",
    "#plt.ylim(-18,18)\n",
    "plt.xlim(-1,10)"
   ]
  },
  {
   "cell_type": "code",
   "execution_count": null,
   "id": "c7bdc7db",
   "metadata": {},
   "outputs": [],
   "source": []
  }
 ],
 "metadata": {
  "kernelspec": {
   "display_name": "Python 3",
   "language": "python",
   "name": "python3"
  },
  "language_info": {
   "codemirror_mode": {
    "name": "ipython",
    "version": 3
   },
   "file_extension": ".py",
   "mimetype": "text/x-python",
   "name": "python",
   "nbconvert_exporter": "python",
   "pygments_lexer": "ipython3",
   "version": "3.6.2"
  }
 },
 "nbformat": 4,
 "nbformat_minor": 5
}
