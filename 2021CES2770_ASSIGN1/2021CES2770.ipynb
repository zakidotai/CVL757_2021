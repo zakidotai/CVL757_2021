{
 "cells": [
  {
   "cell_type": "markdown",
   "metadata": {},
   "source": [
    "<h1>Assignment 1"
   ]
  },
  {
   "cell_type": "markdown",
   "metadata": {},
   "source": [
    "<h3>Q1: Reversing a list"
   ]
  },
  {
   "cell_type": "code",
   "execution_count": 6,
   "metadata": {},
   "outputs": [],
   "source": [
    "#following are sample input and corresponding outputs\n",
    "Input  = [12, 35, 9, 56, 24]\n",
    "Output = [24, 35, 9, 56, 12]\n",
    "\n",
    "Input  = [1, 2, 3]\n",
    "Output = [3, 2, 1]"
   ]
  },
  {
   "cell_type": "code",
   "execution_count": null,
   "metadata": {},
   "outputs": [],
   "source": [
    "def Reverse(lst):\n",
    "   lst.reverse()\n",
    "   return lst\n",
    "    \n",
    "lst = [12, 35, 9, 56, 24]\n",
    "lst1=[1,2,3]\n",
    "print(Reverse(lst))\n",
    "print(Reverse(lst1))\n",
    "\n"
   ]
  },
  {
   "cell_type": "markdown",
   "metadata": {},
   "source": [
    "<h3>Q2: Swapping elements in lists"
   ]
  },
  {
   "cell_type": "code",
   "execution_count": null,
   "metadata": {},
   "outputs": [],
   "source": [
    "Input  = [12, 35, 9, 56, 24]\n",
    "Output = [12, 9, 35, 56, 24]"
   ]
  },
  {
   "cell_type": "code",
   "execution_count": 7,
   "metadata": {},
   "outputs": [
    {
     "name": "stdout",
     "output_type": "stream",
     "text": [
      "[12, 9, 35, 56, 24]\n"
     ]
    }
   ],
   "source": [
    "#write your solution here\n",
    "input=[12,35,9,56,24]\n",
    "b=input[1]\n",
    "input[1]=input[2]\n",
    "input[2]=b\n",
    "print(input)\n"
   ]
  },
  {
   "cell_type": "markdown",
   "metadata": {},
   "source": [
    "<h3>Q3: Reversing a string"
   ]
  },
  {
   "cell_type": "code",
   "execution_count": null,
   "metadata": {},
   "outputs": [],
   "source": [
    "input_str  = 'This is CVL757'\n",
    "output_str = '757LVC si sihT'"
   ]
  },
  {
   "cell_type": "code",
   "execution_count": 8,
   "metadata": {},
   "outputs": [
    {
     "name": "stdout",
     "output_type": "stream",
     "text": [
      "7 5 7 L V C   s i   s i h T "
     ]
    }
   ],
   "source": [
    "#write your solution here\n",
    "input= 'This is CVL757'\n",
    "n=len(input)\n",
    "#print(n)\n",
    "for i in range(n):\n",
    " print(input[n-1-i], end =\" \")\n"
   ]
  },
  {
   "cell_type": "markdown",
   "metadata": {},
   "source": [
    "<h3>Q4: Reversing the order of words in a string"
   ]
  },
  {
   "cell_type": "code",
   "execution_count": null,
   "metadata": {},
   "outputs": [],
   "source": [
    "input_str  = 'This is CVL757'\n",
    "output_str = 'CVL757 is This'"
   ]
  },
  {
   "cell_type": "code",
   "execution_count": 9,
   "metadata": {},
   "outputs": [
    {
     "name": "stdout",
     "output_type": "stream",
     "text": [
      "CVL757 is This\n"
     ]
    }
   ],
   "source": [
    "#write your solution here\n",
    "input = 'This is CVL757'\n",
    "word=input.split()\n",
    "word.reverse()\n",
    "print(' '.join(word))\n"
   ]
  },
  {
   "cell_type": "markdown",
   "metadata": {},
   "source": [
    "<h3>Q5: Initialise a 3x3 matrix with random values, use numpy"
   ]
  },
  {
   "cell_type": "code",
   "execution_count": null,
   "metadata": {},
   "outputs": [],
   "source": [
    "random_matrix = #write solution here"
   ]
  },
  {
   "cell_type": "code",
   "execution_count": 10,
   "metadata": {},
   "outputs": [
    {
     "name": "stdout",
     "output_type": "stream",
     "text": [
      "[[0.54340494 0.27836939 0.42451759]\n",
      " [0.84477613 0.00471886 0.12156912]\n",
      " [0.67074908 0.82585276 0.13670659]]\n"
     ]
    }
   ],
   "source": [
    "import numpy as np\n",
    "np.random.seed(100)\n",
    "random_matrix=np.random.rand(3,3)\n",
    "print (random_matrix)"
   ]
  },
  {
   "cell_type": "markdown",
   "metadata": {},
   "source": [
    "<h3>Q6: Swap the columns of random_matrix"
   ]
  },
  {
   "cell_type": "code",
   "execution_count": 11,
   "metadata": {},
   "outputs": [],
   "source": [
    "inp = np.array([[0.13806091, 0.82474243, 0.15646752],\n",
    "                [0.50029824, 0.45875794, 0.53401557],\n",
    "                [0.95397773, 0.79407795, 0.07442586]])\n",
    "\n",
    "out = np.array([[0.15646752, 0.82474243, 0.13806091],\n",
    "                [0.53401557, 0.45875794, 0.50029824],\n",
    "                [0.07442586, 0.79407795, 0.95397773]])\n",
    "\n"
   ]
  },
  {
   "cell_type": "code",
   "execution_count": 12,
   "metadata": {},
   "outputs": [
    {
     "name": "stdout",
     "output_type": "stream",
     "text": [
      "[[0.54340494 0.27836939 0.42451759]\n",
      " [0.84477613 0.00471886 0.12156912]\n",
      " [0.67074908 0.82585276 0.13670659]]\n",
      "[[0.42451759 0.27836939 0.54340494]\n",
      " [0.12156912 0.00471886 0.84477613]\n",
      " [0.13670659 0.82585276 0.67074908]]\n"
     ]
    }
   ],
   "source": [
    "#write your solution here to swap 1st and last column\n",
    "import numpy as np\n",
    "np.random.seed(100)\n",
    "random_matrix=np.random.rand(3,3)\n",
    "print (random_matrix)\n",
    "random_matrix[:, [2, 0]] = random_matrix[:, [0, 2]]\n",
    "print (random_matrix)"
   ]
  },
  {
   "cell_type": "markdown",
   "metadata": {},
   "source": [
    "<h3>Q7: Swap the rows of random_matrix"
   ]
  },
  {
   "cell_type": "code",
   "execution_count": 13,
   "metadata": {},
   "outputs": [],
   "source": [
    "inp = np.array([[0.13806091, 0.82474243, 0.15646752],\n",
    "               [0.50029824, 0.45875794, 0.53401557],\n",
    "               [0.95397773, 0.79407795, 0.07442586]])\n",
    "\n",
    "out = np.array([[0.95397773, 0.79407795, 0.07442586],\n",
    "               [0.50029824, 0.45875794, 0.53401557],\n",
    "               [0.13806091, 0.82474243, 0.15646752]])"
   ]
  },
  {
   "cell_type": "code",
   "execution_count": 14,
   "metadata": {},
   "outputs": [
    {
     "name": "stdout",
     "output_type": "stream",
     "text": [
      "[[0.54340494 0.27836939 0.42451759]\n",
      " [0.84477613 0.00471886 0.12156912]\n",
      " [0.67074908 0.82585276 0.13670659]]\n",
      "[[0.67074908 0.82585276 0.13670659]\n",
      " [0.84477613 0.00471886 0.12156912]\n",
      " [0.54340494 0.27836939 0.42451759]]\n"
     ]
    }
   ],
   "source": [
    "#write your solution here to swap 1st and 3rd rows\n",
    "import numpy as np\n",
    "np.random.seed(100)\n",
    "random_matrix=np.random.rand(3,3)\n",
    "print (random_matrix)\n",
    "random_matrix[[2, 0],: ] = random_matrix[[0, 2], :]\n",
    "print (random_matrix)"
   ]
  },
  {
   "cell_type": "markdown",
   "metadata": {},
   "source": [
    "<h3>Q8: Plot the sine and cosine curves as shown below"
   ]
  },
  {
   "cell_type": "code",
   "execution_count": null,
   "metadata": {
    "scrolled": true
   },
   "outputs": [],
   "source": []
  },
  {
   "cell_type": "code",
   "execution_count": 5,
   "metadata": {},
   "outputs": [
    {
     "data": {
      "image/png": "[encoded data removed]",
      "text/plain": [
       "<Figure size 432x288 with 1 Axes>"
      ]
     },
     "metadata": {
      "needs_background": "light"
     },
     "output_type": "display_data"
    }
   ],
   "source": [
    "\n",
    "#write code here to plot and show the legend also\n",
    "import matplotlib.pyplot as plt\n",
    "import numpy as np\n",
    "x= np.arange(0,2*np.pi,0.01)\n",
    "plt.plot(x,np.sin(x),label=\"sin(x)\")\n",
    "plt.plot(x,np.cos(x),label=\"cos(x)\")\n",
    "plt.title(\"sin(x) and cos(x)\")\n",
    "plt.legend()\n",
    "plt.xlabel(\"angle (x) in radians\")\n",
    "plt.ylabel(\"sin(x) and cos(x)\")                         \n",
    "plt.show()"
   ]
  },
  {
   "cell_type": "markdown",
   "metadata": {},
   "source": [
    "<h3>Q9: Plot the following truss</h3>\n",
    "Length of element 2, 6 and 9 (between nodes 1 and 3, 3 and 5, and 5 and 9) is 5.<br>\n",
    "Length of element 3 and 7 is 7m.\n",
    " "
   ]
  },
  {
   "cell_type": "markdown",
   "metadata": {},
   "source": [
    "<img src='q9.svg' alt=\"Truss Q9\" width=\"500\" height=\"600\">"
   ]
  },
  {
   "cell_type": "code",
   "execution_count": 4,
   "metadata": {},
   "outputs": [
    {
     "data": {
      "image/png": "[encoded data removed]",
      "text/plain": [
       "<Figure size 432x288 with 1 Axes>"
      ]
     },
     "metadata": {
      "needs_background": "light"
     },
     "output_type": "display_data"
    }
   ],
   "source": [
    "#write solution here\n",
    "import matplotlib.pyplot as plt\n",
    "import numpy as np\n",
    "cordinate_matrix=[[0,0],\n",
    "                 [5,7],\n",
    "                 [5,0],\n",
    "                 [10,7],\n",
    "                 [10,0],\n",
    "                 [15,0]]\n",
    "#print(cordinate_matrix)\n",
    "element_connectivity=[[1,2],\n",
    "                     [1,3],\n",
    "                     [3,2],\n",
    "                     [2,4],\n",
    "                     [5,2],\n",
    "                     [3,5],\n",
    "                     [5,4],\n",
    "                     [6,4],\n",
    "                     [5,6]]\n",
    "#print(element_connectivity)\n",
    "\n",
    "for i in range(0,len(element_connectivity)):\n",
    "    fnode=element_connectivity[i][0]\n",
    "    snode=element_connectivity[i][1]\n",
    "    fnodecordinate=cordinate_matrix[fnode-1][:]\n",
    "    snodecordinate=cordinate_matrix[snode-1][:]\n",
    "    x=[fnodecordinate[0],snodecordinate[0]]\n",
    "    y=[fnodecordinate[1],snodecordinate[1]]\n",
    "    plt.plot(x,y,color='black',marker='o', markerfacecolor='black', markersize=5)\n",
    "    plt.annotate('%s' % i,x,y)\n",
    "  #  plt.plot(fnodecordinate[0],fnodecordinate[1])\n",
    "\n",
    "\n",
    " \n",
    "\n",
    "\n",
    "\n"
   ]
  },
  {
   "cell_type": "markdown",
   "metadata": {},
   "source": [
    "**Q10: Consider the plane truss shown above. Given E = 200GPa and A = 0.005m2,\n",
    "determine and horizontal load of 20kN at node 2. Both node 1 and node 6 have pin supports:**\n",
    "\n",
    "1. the global stiffness matrix for the structure.\n",
    "2. the horizontal and vertical displacements at nodes 2, 3, 4, and 5.\n",
    "3. the horizontal and vertical reactions at nodes 1 and 6.\n",
    "4. the stress in each element."
   ]
  },
  {
   "cell_type": "code",
   "execution_count": 3,
   "metadata": {},
   "outputs": [
    {
     "name": "stdout",
     "output_type": "stream",
     "text": [
      "structure stiffness matrix: \n",
      " [[ 2.39272851e+08  5.49819913e+07 -3.92728509e+07 -5.49819913e+07\n",
      "  -2.00000000e+08  0.00000000e+00  0.00000000e+00  0.00000000e+00\n",
      "   0.00000000e+00  0.00000000e+00  0.00000000e+00  0.00000000e+00]\n",
      " [ 5.49819913e+07  7.69747878e+07 -5.49819913e+07 -7.69747878e+07\n",
      "   0.00000000e+00  0.00000000e+00  0.00000000e+00  0.00000000e+00\n",
      "   0.00000000e+00  0.00000000e+00  0.00000000e+00  0.00000000e+00]\n",
      " [-3.92728509e+07 -5.49819913e+07  2.78545702e+08  0.00000000e+00\n",
      "   0.00000000e+00  0.00000000e+00 -2.00000000e+08  0.00000000e+00\n",
      "  -3.92728509e+07  5.49819913e+07  0.00000000e+00  0.00000000e+00]\n",
      " [-5.49819913e+07 -7.69747878e+07  0.00000000e+00  2.96806718e+08\n",
      "   0.00000000e+00 -1.42857143e+08  0.00000000e+00  0.00000000e+00\n",
      "   5.49819913e+07 -7.69747878e+07  0.00000000e+00  0.00000000e+00]\n",
      " [-2.00000000e+08  0.00000000e+00  0.00000000e+00  0.00000000e+00\n",
      "   4.00000000e+08  0.00000000e+00  0.00000000e+00  0.00000000e+00\n",
      "  -2.00000000e+08  0.00000000e+00  0.00000000e+00  0.00000000e+00]\n",
      " [ 0.00000000e+00  0.00000000e+00  0.00000000e+00 -1.42857143e+08\n",
      "   0.00000000e+00  1.42857143e+08  0.00000000e+00  0.00000000e+00\n",
      "   0.00000000e+00  0.00000000e+00  0.00000000e+00  0.00000000e+00]\n",
      " [ 0.00000000e+00  0.00000000e+00 -2.00000000e+08  0.00000000e+00\n",
      "   0.00000000e+00  0.00000000e+00  2.39272851e+08 -5.49819913e+07\n",
      "   0.00000000e+00  0.00000000e+00 -3.92728509e+07  5.49819913e+07]\n",
      " [ 0.00000000e+00  0.00000000e+00  0.00000000e+00  0.00000000e+00\n",
      "   0.00000000e+00  0.00000000e+00 -5.49819913e+07  2.19831931e+08\n",
      "   0.00000000e+00 -1.42857143e+08  5.49819913e+07 -7.69747878e+07]\n",
      " [ 0.00000000e+00  0.00000000e+00 -3.92728509e+07  5.49819913e+07\n",
      "  -2.00000000e+08  0.00000000e+00  0.00000000e+00  0.00000000e+00\n",
      "   4.39272851e+08 -5.49819913e+07 -2.00000000e+08  0.00000000e+00]\n",
      " [ 0.00000000e+00  0.00000000e+00  5.49819913e+07 -7.69747878e+07\n",
      "   0.00000000e+00  0.00000000e+00  0.00000000e+00 -1.42857143e+08\n",
      "  -5.49819913e+07  2.19831931e+08  0.00000000e+00  0.00000000e+00]\n",
      " [ 0.00000000e+00  0.00000000e+00  0.00000000e+00  0.00000000e+00\n",
      "   0.00000000e+00  0.00000000e+00 -3.92728509e+07  5.49819913e+07\n",
      "  -2.00000000e+08  0.00000000e+00  2.39272851e+08 -5.49819913e+07]\n",
      " [ 0.00000000e+00  0.00000000e+00  0.00000000e+00  0.00000000e+00\n",
      "   0.00000000e+00  0.00000000e+00  5.49819913e+07 -7.69747878e+07\n",
      "   0.00000000e+00  0.00000000e+00 -5.49819913e+07  7.69747878e+07]]\n",
      "\n",
      "\n",
      "Reaction in Newton and Displacement in metre:\n",
      "\n",
      "rx1= -8888.888888888887\n",
      "ry1= -9333.333333333332\n",
      "rx6= -11111.11111111111\n",
      "ry6= 9333.333333333332\n",
      "\n",
      "\n",
      "displacement of 2nd node in (x,y)=( 0.00021875995934371518 , -3.5005291005291005e-05 )\n",
      "displacement of 3nd node in (x,y)=( 1.111111111111111e-05 , -3.5005291005291e-05 )\n",
      "displacement of 4th node in (x,y)=( 0.00018542662601038186 , 1.1195767195767193e-05 )\n",
      "displacement of 5th node in (x,y)=( 2.222222222222222e-05 , -5.413756613756612e-05 )\n",
      "\n",
      "\n",
      "Stress(N/m^2) in members between node 1 and 2 is 2293953.4045447004\n",
      "Stress(N/m^2) in members between node 1 and 3 is 444444.44444444444\n",
      "Stress(N/m^2) in members between node 3 and 2 is -1.9360753080098292e-10\n",
      "Stress(N/m^2) in members between node 2 and 4 is -1333333.333333333\n",
      "Stress(N/m^2) in members between node 5 and 2 is -2293953.4045447004\n",
      "Stress(N/m^2) in members between node 3 and 5 is 444444.44444444444\n",
      "Stress(N/m^2) in members between node 5 and 4 is 1866666.6666666658\n",
      "Stress(N/m^2) in members between node 6 and 4 is -2293953.4045447\n",
      "Stress(N/m^2) in members between node 5 and 6 is -888888.8888888889\n"
     ]
    }
   ],
   "source": [
    "#write solution here\n",
    "import numpy as np\n",
    "\n",
    "cordinate_matrix=[[0,0],\n",
    "                 [5,7],\n",
    "                 [5,0],\n",
    "                 [10,7],\n",
    "                 [10,0],\n",
    "                 [15,0]]\n",
    "\n",
    "element_connectivity=[[1,2],\n",
    "                     [1,3],\n",
    "                     [3,2],\n",
    "                     [2,4],\n",
    "                     [5,2],\n",
    "                     [3,5],\n",
    "                     [5,4],\n",
    "                     [6,4],\n",
    "                     [5,6]]\n",
    "\n",
    "dof=2*len(cordinate_matrix)\n",
    "structure_stiffness=np.zeros((dof,dof))\n",
    "\n",
    "for i in range(0,len(element_connectivity)):\n",
    "    \n",
    "    fnode=element_connectivity[i][0]\n",
    "    snode=element_connectivity[i][1]\n",
    "    fnodecordinate=cordinate_matrix[fnode-1][:]\n",
    "    snodecordinate=cordinate_matrix[snode-1][:]\n",
    "    x1=fnodecordinate[0]\n",
    "    y1=fnodecordinate[1]\n",
    "    x2=snodecordinate[0]\n",
    "    y2=snodecordinate[1]    \n",
    "    length= (((x2-x1)**2)+((y2-y1)**2))**0.5\n",
    "    #print('/n',length)\n",
    "    c=(x2-x1)/length\n",
    "    s=(y2-y1)/length\n",
    "    if x1==x2:\n",
    "      tan=0\n",
    "    else:\n",
    "      tan=s/c\n",
    "      \n",
    "    Transformation_matrix=[[c, s, 0,0],[0,0,c,s]]\n",
    "    Transformation_matrix = np.array(Transformation_matrix)\n",
    "    transpose_Transformation_matrix=np.transpose(Transformation_matrix)\n",
    "    k=0.005*2*(10**11)/length\n",
    "    local_element_stiffness=[[k,-k],[-k,k]]\n",
    "    local_element_stiffness = np.array(local_element_stiffness)\n",
    "    global_element_stiffness=transpose_Transformation_matrix@local_element_stiffness@Transformation_matrix\n",
    "    #print('local_element_stiffness',local_element_stiffness)\n",
    "    #print('global_element_stiffness',global_element_stiffness)\n",
    "   \n",
    "    expanded_element_stiffness=np.zeros((dof,dof))\n",
    "                \n",
    "    expanded_element_stiffness[2*fnode-2,2*fnode-2]=global_element_stiffness[0,0]\n",
    "    expanded_element_stiffness[2*fnode-2,2*fnode-1]=global_element_stiffness[0,1]\n",
    "    expanded_element_stiffness[2*fnode-2,2*snode-2]=global_element_stiffness[0,2]\n",
    "    expanded_element_stiffness[2*fnode-2,2*snode-1]=global_element_stiffness[0,3]\n",
    "            \n",
    "    expanded_element_stiffness[2*fnode-1,2*fnode-2]=global_element_stiffness[1,0]\n",
    "    expanded_element_stiffness[2*fnode-1,2*fnode-1]=global_element_stiffness[1,1]\n",
    "    expanded_element_stiffness[2*fnode-1,2*snode-2]=global_element_stiffness[1,2]\n",
    "    expanded_element_stiffness[2*fnode-1,2*snode-1]=global_element_stiffness[1,3]\n",
    "            \n",
    "    expanded_element_stiffness[2*snode-2,2*fnode-2]=global_element_stiffness[2,0]\n",
    "    expanded_element_stiffness[2*snode-2,2*fnode-1]=global_element_stiffness[2,1]\n",
    "    expanded_element_stiffness[2*snode-2,2*snode-2]=global_element_stiffness[2,2]\n",
    "    expanded_element_stiffness[2*snode-2,2*snode-1]=global_element_stiffness[2,3]\n",
    "            \n",
    "    expanded_element_stiffness[2*snode-1,2*fnode-2]=global_element_stiffness[3,0]\n",
    "    expanded_element_stiffness[2*snode-1,2*fnode-1]=global_element_stiffness[3,1]\n",
    "    expanded_element_stiffness[2*snode-1,2*snode-2]=global_element_stiffness[3,2]\n",
    "    expanded_element_stiffness[2*snode-1,2*snode-1]=global_element_stiffness[3,3]\n",
    "            \n",
    "    structure_stiffness=structure_stiffness+expanded_element_stiffness\n",
    "\n",
    "print('structure stiffness matrix: \\n', structure_stiffness)\n",
    "print('\\n')\n",
    "\n",
    "force=np.zeros(dof)\n",
    "displacement=np.zeros(dof)\n",
    "force[2]=20000\n",
    "force1=force[2:10]\n",
    "#print(force,force1)\n",
    "stiffness=structure_stiffness[2:10,2:10]\n",
    "#print(\"stiffness\",stiffness)\n",
    "inv_stiffness=np.linalg.inv(stiffness)\n",
    "displacement1=inv_stiffness@force1\n",
    "displacement[2:10]=displacement1                            \n",
    "force=structure_stiffness@displacement\n",
    "\n",
    "print('Reaction in Newton and Displacement in metre:\\n')                  \n",
    "print('rx1=',force[0])  \n",
    "print('ry1=',force[1])  \n",
    "print('rx6=',force[10])  \n",
    "print('ry6=',force[11]) \n",
    "print('\\n')\n",
    "print('displacement of 2nd node in (x,y)=(',displacement[2],',',displacement[3],')')                   \n",
    "print('displacement of 3nd node in (x,y)=(',displacement[4],',',displacement[5],')')   \n",
    "print('displacement of 4th node in (x,y)=(',displacement[6],',',displacement[7],')')   \n",
    "print('displacement of 5th node in (x,y)=(',displacement[8],',',displacement[9],')')  \n",
    "print('\\n')                            \n",
    "strain=np.zeros(len(element_connectivity)) \n",
    "stress=np.zeros(len(element_connectivity)) \n",
    "global_element_displacement=np.zeros(4)\n",
    "for i in range(0,9):\n",
    "    fnode=element_connectivity[i][0]\n",
    "    snode=element_connectivity[i][1]\n",
    "    fnodecordinate=cordinate_matrix[fnode-1][:]                        \n",
    "    snodecordinate=cordinate_matrix[snode-1][:]\n",
    "    x1=fnodecordinate[0]\n",
    "    y1=fnodecordinate[1]\n",
    "    x2=snodecordinate[0]\n",
    "    y2=snodecordinate[1]    \n",
    "    length= (((x2-x1)**2)+((y2-y1)**2))**0.5\n",
    "    c=(x2-x1)/length\n",
    "    s=(y2-y1)/length\n",
    "    Transformation_matrix=[[c, s, 0,0],\n",
    "                           [0,0,c,s]]\n",
    "    global_element_displacement[0]=displacement[2*fnode-2]\n",
    "    global_element_displacement[1]=displacement[2*fnode-1]\n",
    "    global_element_displacement[2]=displacement[2*snode-2]\n",
    "    global_element_displacement[3]=displacement[2*snode-1]\n",
    "    local_element_displacement=Transformation_matrix@global_element_displacement    \n",
    "    strain[i]= (local_element_displacement[1]- local_element_displacement[0])*(1/length)\n",
    "    stress[i]=2*(10**11)*strain[i]\n",
    "    print('Stress(N/m^2) in members between node',fnode, 'and', snode, 'is',stress[i])  "
   ]
  },
  {
   "cell_type": "markdown",
   "metadata": {},
   "source": [
    "<H1>BONUS QUESTION</H1>\n",
    "Plot the defomred shape of truss obtained in Q10"
   ]
  },
  {
   "cell_type": "code",
   "execution_count": 10,
   "metadata": {},
   "outputs": [
    {
     "name": "stdout",
     "output_type": "stream",
     "text": [
      "[[ 0.          0.        ]\n",
      " [ 0.21875996 -0.03500529]\n",
      " [ 0.01111111 -0.03500529]\n",
      " [ 0.18542663  0.01119577]\n",
      " [ 0.02222222 -0.05413757]\n",
      " [ 0.          0.        ]]\n",
      "[[ 0.          0.        ]\n",
      " [ 5.21875996  6.96499471]\n",
      " [ 5.01111111 -0.03500529]\n",
      " [10.18542663  7.01119577]\n",
      " [10.02222222 -0.05413757]\n",
      " [15.          0.        ]]\n",
      "[[0, 0], [5, 7], [5, 0], [10, 7], [10, 0], [15, 0]]\n"
     ]
    },
    {
     "data": {
      "image/png": "[encoded data removed]",
      "text/plain": [
       "<Figure size 432x288 with 1 Axes>"
      ]
     },
     "metadata": {
      "needs_background": "light"
     },
     "output_type": "display_data"
    }
   ],
   "source": [
    "#write solution here\n",
    "import matplotlib.pyplot as plt\n",
    "import numpy as np\n",
    "cordinate_matrix=[[0,0],\n",
    "                 [5,7],\n",
    "                 [5,0],\n",
    "                 [10,7],\n",
    "                 [10,0],\n",
    "                 [15,0]]\n",
    "\n",
    "displacementxy=[[0,0],\n",
    "                [displacement[2],displacement[3]],\n",
    "                [displacement[4],displacement[5]],\n",
    "                [displacement[6],displacement[7]],\n",
    "                [displacement[8],displacement[9]],\n",
    "                [0,0]]\n",
    "displacementxy=np.multiply(displacementxy,1000)\n",
    "print(displacementxy)\n",
    "new_cordinate_matrix=np.add(cordinate_matrix,displacementxy)\n",
    "print(new_cordinate_matrix)\n",
    "print(cordinate_matrix)\n",
    "element_connectivity=[[1,2],\n",
    "                     [1,3],\n",
    "                     [3,2],\n",
    "                     [2,4],\n",
    "                     [5,2],\n",
    "                     [3,5],\n",
    "                     [5,4],\n",
    "                     [6,4],\n",
    "                     [5,6]]\n",
    "\n",
    "for i in range(0,len(element_connectivity)):\n",
    "    fnode=element_connectivity[i][0]\n",
    "    snode=element_connectivity[i][1]\n",
    "    fnodecordinate=cordinate_matrix[fnode-1][:]\n",
    "    snodecordinate=cordinate_matrix[snode-1][:]\n",
    "    fnodecordinatenew=new_cordinate_matrix[fnode-1][:]\n",
    "    snodecordinatenew=new_cordinate_matrix[snode-1][:]\n",
    "    \n",
    "    x=[fnodecordinatenew[0],snodecordinatenew[0]]\n",
    "    y=[fnodecordinatenew[1],snodecordinatenew[1]]\n",
    "    plt.plot(x,y,color='blue',marker='o', markerfacecolor='blue', markersize=1)\n",
    "    \n",
    "    x=[fnodecordinate[0],snodecordinate[0]]\n",
    "    y=[fnodecordinate[1],snodecordinate[1]]\n",
    "    plt.plot(x,y,color='black',linestyle='dashed',marker='o', markerfacecolor='black', markersize=1)\n",
    "    "
   ]
  },
  {
   "cell_type": "code",
   "execution_count": null,
   "metadata": {},
   "outputs": [],
   "source": []
  }
 ],
 "metadata": {
  "kernelspec": {
   "display_name": "Python 3",
   "language": "python",
   "name": "python3"
  },
  "language_info": {
   "codemirror_mode": {
    "name": "ipython",
    "version": 3
   },
   "file_extension": ".py",
   "mimetype": "text/x-python",
   "name": "python",
   "nbconvert_exporter": "python",
   "pygments_lexer": "ipython3",
   "version": "3.8.8"
  }
 },
 "nbformat": 4,
 "nbformat_minor": 4
}
