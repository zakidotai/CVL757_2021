{
 "cells": [
  {
   "cell_type": "code",
   "execution_count": 4,
   "id": "8847fdc3",
   "metadata": {},
   "outputs": [],
   "source": [
    "import numpy as np\n",
    "E=210000000\n",
    "v=0.3\n",
    "t=0.025\n",
    "w=3000\n",
    "\n",
    "\n",
    "xi,yi = (0,0)\n",
    "xj,yj = (0.5,0.25)\n",
    "xm,ym = (0,0.25)\n",
    "\n",
    "xp,yp = (0,0)\n",
    "xq,yq = (0.5,0)\n",
    "xr,yr = (0.5,0.25)\n",
    "\n",
    "A1 = (xi*(yj-ym)+xj*(ym-yi)+xm*(yi-yj))/2\n",
    "A2 = (xp*(yq-yr)+xq*(yr-yp)+xr*(yp-yq))/2\n",
    "\n",
    "B1 = (np.array([yj-ym,0,ym-yi,0,yi-yj,0,0,xm-xj,0,xi-xm,0,xj-xi,xm-xj,yj-ym,xi-xm,ym-yi,xj-xi,yi-yj]).reshape((3,6)))/(2*A1)\n",
    "B2 = (np.array([yq-yr,0,yr-yp,0,yp-yq,0,0,xr-xq,0,xp-xr,0,xq-xp,xr-xq,yq-yr,xp-xr,yr-yp,xq-xp,yp-yq]).reshape((3,6)))/(2*A2)\n",
    "\n",
    "D = (E/(1-v**2)) * (np.array([1,v,0,v,1,0,0,0,(1-v)/2]).reshape((3,3)))\n"
   ]
  },
  {
   "cell_type": "code",
   "execution_count": null,
   "id": "eab08e7b",
   "metadata": {},
   "outputs": [],
   "source": []
  },
  {
   "cell_type": "code",
   "execution_count": null,
   "id": "8f2d9e5f",
   "metadata": {},
   "outputs": [],
   "source": []
  }
 ],
 "metadata": {
  "kernelspec": {
   "display_name": "Python 3",
   "language": "python",
   "name": "python3"
  },
  "language_info": {
   "codemirror_mode": {
    "name": "ipython",
    "version": 3
   },
   "file_extension": ".py",
   "mimetype": "text/x-python",
   "name": "python",
   "nbconvert_exporter": "python",
   "pygments_lexer": "ipython3",
   "version": "3.8.8"
  }
 },
 "nbformat": 4,
 "nbformat_minor": 5
}
