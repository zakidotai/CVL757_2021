{
 "cells": [
  {
   "cell_type": "code",
   "execution_count": 17,
   "metadata": {},
   "outputs": [],
   "source": [
    "E=210e6 #kN/m^2\n",
    "mu=0.3  #poissons ratio\n",
    "t=0.025 #m\n",
    "w=3000 #kN/m^2\n",
    "\n"
   ]
  },
  {
   "cell_type": "code",
   "execution_count": 2,
   "metadata": {},
   "outputs": [],
   "source": [
    "#STEP1 CREATING MEMBER STIFFNESS MATRICES \n",
    "import numpy as np\n",
    "import sys\n",
    "\n",
    "np.set_printoptions(precision=3,threshold=sys.maxsize,nanstr=str,sign='+',suppress=True)\n",
    "\"\"\"Basic Functions\"\"\"\n",
    "\n",
    "def LinearTriangleElementStiffness(E,mu,t,xi,yi,xj,yj,xm,ym,p):\n",
    "    \"\"\"Creates CST stiffness matrix\n",
    "        p==1 for plane stress\n",
    "        p==2 for plane strain\"\"\"\n",
    "    A = (xi*(yj-ym)+ xj*(ym-yi) + xm*(yi-yj))/2\n",
    "    betai = yj-ym\n",
    "    betaj = ym-yi\n",
    "    betam = yi-yj\n",
    "    gammai = xm-xj\n",
    "    gammaj = xi-xm\n",
    "    gammam = xj-xi\n",
    "    B=np.asarray([[betai, 0 ,betaj, 0, betam, 0],[0, gammai, 0, gammaj, 0 ,gammam],[gammai,betai,gammaj,betaj,gammam,betam]])\n",
    "\n",
    "    B=B*(1/(2*A))\n",
    "    if p==1:\n",
    "        D=(E/(1-mu*mu))*np.asarray([[1,mu,0],[mu,1,0],[0,0,(1-mu)/2]])\n",
    "    elif p==2:\n",
    "        D=(E/((1+mu)*(1-2*mu)))*np.asarray([[1-mu,mu,0],[mu,1-mu,0],[0,0,(1-2*mu)/2]])\n",
    "    \n",
    "    return t*A*np.dot(B.T,np.dot(D,B))\n",
    "    \n",
    "\n",
    "def LinearTriangleAssemble(K :np.ndarray, k, i, j, m):\n",
    "    \"\"\"Step Assembly of k(one member stiffness matrix) into K(Global stiffness)\"\"\"\n",
    "    \"\"\"Note: This function assume indexing i,j,m are starts from 1 not 0 \"\"\"\n",
    "    K[2*i-1-1, 2*i-1-1] = K[2*i-1-1, 2*i-1-1] + k[1-1, 1-1]\n",
    "    K[2*i-1-1, 2*i-1] = K[2*i-1-1,  2*i-1] + k[1-1, 2-1]\n",
    "    K[2*i-1-1, 2*j-1-1] = K[2*i-1-1,  2*j-1-1] + k[1-1, 3-1]\n",
    "    K[2*i-1-1,  2*j-1] = K[2*i-1-1,  2*j-1] + k[1-1, 4-1]\n",
    "    K[2*i-1-1,  2*m-1-1] = K[2*i-1-1,  2*m-1-1] + k[1-1, 5-1]\n",
    "    K[2*i-1-1,  2*m-1] = K[2*i-1-1,  2*m-1] + k[1-1, 6-1]\n",
    "    K[2*i-1, 2*i-1-1] = K[2*i-1, 2*i-1-1] + k[2-1, 1-1]\n",
    "    K[2*i-1, 2*i-1] = K[2*i-1, 2*i-1] + k[2-1, 2-1]\n",
    "    K[2*i-1, 2*j-1-1] = K[2*i-1, 2*j-1-1] + k[2-1, 3-1]\n",
    "    K[2*i-1, 2*j-1] = K[2*i-1, 2*j-1] + k[2-1, 4-1]\n",
    "    K[2*i-1, 2*m-1-1] = K[2*i-1, 2*m-1-1] + k[2-1, 5-1]\n",
    "    K[2*i-1, 2*m-1] = K[2*i-1, 2*m-1] + k[2-1, 6-1]\n",
    "    K[2*j-1-1, 2*i-1-1] = K[2*j-1-1,  2*i-1-1] + k[3-1, 1-1]\n",
    "    K[2*j-1-1,  2*i-1] = K[2*j-1-1,  2*i-1] + k[3-1, 2-1]\n",
    "    K[2*j-1-1,  2*j-1-1] = K[2*j-1-1,  2*j-1-1] + k[3-1, 3-1]\n",
    "    K[2*j-1-1,  2*j-1] = K[2*j-1-1,  2*j-1] + k[3-1, 4-1]\n",
    "    K[2*j-1-1,  2*m-1-1] = K[2*j-1-1,  2*m-1-1] + k[3-1, 5-1]\n",
    "    K[2*j-1-1,  2*m-1] = K[2*j-1-1, 2*m-1] + k[3-1, 6-1]\n",
    "    K[2*j-1, 2*i-1-1] = K[2*j-1, 2*i-1-1] + k[4-1, 1-1]\n",
    "    K[2*j-1, 2*i-1] = K[2*j-1, 2*i-1] + k[4-1, 2-1]\n",
    "    K[2*j-1, 2*j-1-1] = K[2*j-1, 2*j-1-1] + k[4-1, 3-1]\n",
    "    K[2*j-1, 2*j-1] = K[2*j-1, 2*j-1] + k[4-1, 4-1]\n",
    "    K[2*j-1, 2*m-1-1] = K[2*j-1, 2*m-1-1] + k[4-1, 5-1]\n",
    "    K[2*j-1, 2*m-1] = K[2*j-1, 2*m-1] + k[4-1, 6-1]\n",
    "    K[2*m-1-1,  2*i-1-1] = K[2*m-1-1,  2*i-1-1] + k[5-1, 1-1]\n",
    "    K[2*m-1-1,  2*i-1] = K[2*m-1-1, 2*i-1] + k[5-1, 2-1]\n",
    "    K[2*m-1-1,  2*j-1-1] = K[2*m-1-1,  2*j-1-1] + k[5-1, 3-1]\n",
    "    K[2*m-1-1,  2*j-1] = K[2*m-1-1,  2*j-1] + k[5-1, 4-1]\n",
    "    K[2*m-1-1,  2*m-1-1] = K[2*m-1-1,  2*m-1-1] + k[5-1, 5-1]\n",
    "    K[2*m-1-1, 2*m-1] = K[2*m-1-1,  2*m-1] + k[5-1, 6-1]\n",
    "    K[2*m-1, 2*i-1-1] = K[2*m-1, 2*i-1-1] + k[6-1, 1-1]\n",
    "    K[2*m-1, 2*i-1] = K[2*m-1, 2*i-1] + k[6-1, 2-1]\n",
    "    K[2*m-1, 2*j-1-1] = K[2*m-1, 2*j-1-1] + k[6-1, 3-1]\n",
    "    K[2*m-1, 2*j-1] = K[2*m-1, 2*j-1] + k[6-1, 4-1]\n",
    "    K[2*m-1, 2*m-1-1] = K[2*m-1, 2*m-1-1] + k[6-1, 5-1]\n",
    "    K[2*m-1, 2*m-1] = K[2*m-1, 2*m-1] + k[6-1, 6-1]\n",
    "    \n",
    "    return K\n",
    "    \n",
    "def LinearTriangleElementStresses(E,mu,xi,yi,xj,yj,xm,ym,p,u):\n",
    "    A = (xi*(yj-ym) + xj*(ym-yi) + xm*(yi-yj))/2\n",
    "    betai = yj-ym\n",
    "    betaj = ym-yi\n",
    "    betam = yi-yj\n",
    "    gammai = xm-xj\n",
    "    gammaj = xi-xm\n",
    "    gammam = xj-xi\n",
    "    B = np.asarray([[betai, 0, betaj, 0, betam, 0],[0, gammai, 0, gammaj, 0 ,gammam],[ gammai, betai, gammaj, betaj ,gammam, betam]])/(2*A)\n",
    "    if p == 1:\n",
    "        D = (E/(1-mu*mu))*np.asarray([[1, mu, 0],[ mu, 1, 0],[ 0 ,0, (1-mu)/2]])\n",
    "    elif p == 2:\n",
    "        D = (E/((1+mu)*(1-2*mu)))*np.asarray([[1-mu, mu, 0],[ mu, 1-mu, 0],[ 0, 0, (1-2*mu)/2]])\n",
    "  \n",
    "    return np.dot(D,np.dot(B,u))\n",
    "\n",
    "def LinearTriangleElementPStresses(sigma):\n",
    "    R = (sigma[0] + sigma[1])/2\n",
    "    Q = ((sigma[0] - sigma[1])/2)**2 + sigma[2]*sigma[2]\n",
    "    M = 2*sigma[2]/(sigma[0] - sigma[1])\n",
    "    s1 = R + np.sqrt(Q)\n",
    "    s2 = R - np.sqrt(Q)\n",
    "    theta = (np.arctan(M)/2)*180/np.pi\n",
    "    return np.asarray([s1 , s2 , theta])\n",
    "    "
   ]
  },
  {
   "cell_type": "code",
   "execution_count": 32,
   "metadata": {},
   "outputs": [
    {
     "name": "stdout",
     "output_type": "stream",
     "text": [
      "Element1 stiffness matrices\n",
      "[array([[ +2992788.462,  +1406250.   ,    +36057.692,   -540865.385,\n",
      "         -3028846.154,   -865384.615],\n",
      "       [ +1406250.   ,  +6742788.462,   -396634.615,  +1911057.692,\n",
      "         -1009615.385,  -8653846.154],\n",
      "       [   +36057.692,   -396634.615,   +973557.692,   -468750.   ,\n",
      "         -1009615.385,   +865384.615],\n",
      "       [  -540865.385,  +1911057.692,   -468750.   ,   +973557.692,\n",
      "         +1009615.385,  -2884615.385],\n",
      "       [ -3028846.154,  -1009615.385,  -1009615.385,  +1009615.385,\n",
      "         +4038461.538,        +0.   ],\n",
      "       [  -865384.615,  -8653846.154,   +865384.615,  -2884615.385,\n",
      "               +0.   , +11538461.538]]), array([[+1995192.308,  -937500.   , -1033653.846,   -72115.385,\n",
      "         -961538.462, +1009615.385],\n",
      "       [ -937500.   , +4495192.308,   +72115.385, -4158653.846,\n",
      "         +865384.615,  -336538.462],\n",
      "       [-1033653.846,   +72115.385, +1995192.308,  +937500.   ,\n",
      "         -961538.462, -1009615.385],\n",
      "       [  -72115.385, -4158653.846,  +937500.   , +4495192.308,\n",
      "         -865384.615,  -336538.462],\n",
      "       [ -961538.462,  +865384.615,  -961538.462,  -865384.615,\n",
      "        +1923076.923,       +0.   ],\n",
      "       [+1009615.385,  -336538.462, -1009615.385,  -336538.462,\n",
      "              +0.   ,  +673076.923]]), array([[  +973557.692,   +468750.   ,    +36057.692,   +396634.615,\n",
      "         -1009615.385,   -865384.615],\n",
      "       [  +468750.   ,   +973557.692,   +540865.385,  +1911057.692,\n",
      "         -1009615.385,  -2884615.385],\n",
      "       [   +36057.692,   +540865.385,  +2992788.462,  -1406250.   ,\n",
      "         -3028846.154,   +865384.615],\n",
      "       [  +396634.615,  +1911057.692,  -1406250.   ,  +6742788.462,\n",
      "         +1009615.385,  -8653846.154],\n",
      "       [ -1009615.385,  -1009615.385,  -3028846.154,  +1009615.385,\n",
      "         +4038461.538,        +0.   ],\n",
      "       [  -865384.615,  -2884615.385,   +865384.615,  -8653846.154,\n",
      "               +0.   , +11538461.538]]), array([[+1947115.385,  -937500.   ,  +937500.   ,   -72115.385,\n",
      "        -2884615.385, +1009615.385],\n",
      "       [ -937500.   , +1947115.385,   +72115.385,  -937500.   ,\n",
      "         +865384.615, -1009615.385],\n",
      "       [ +937500.   ,   +72115.385, +1947115.385,  +937500.   ,\n",
      "        -2884615.385, -1009615.385],\n",
      "       [  -72115.385,  -937500.   ,  +937500.   , +1947115.385,\n",
      "         -865384.615, -1009615.385],\n",
      "       [-2884615.385,  +865384.615, -2884615.385,  -865384.615,\n",
      "        +5769230.769,       +0.   ],\n",
      "       [+1009615.385, -1009615.385, -1009615.385, -1009615.385,\n",
      "              +0.   , +2019230.769]])]\n"
     ]
    }
   ],
   "source": [
    "Node_coord=[(0,0),(0.5,0),(0.5,0.25),(0,0.25),(0.125,0.125)]    #5 nodes\n",
    "Elements_connectivity=[(0,1,4),(1,2,4),(2,3,4),(3,0,4)]         #4 Elem !Order imp: must be counterclockwise\n",
    "\n",
    "#STEP 1: Creating member stifness matrices\n",
    "Elem_k=[]\n",
    "for i in Elements_connectivity:\n",
    "    xi,yi=Node_coord[i[0]][0],Node_coord[i[0]][1]\n",
    "    xj,yj=Node_coord[i[1]][0],Node_coord[i[1]][1]\n",
    "    xm,ym=Node_coord[i[2]][0],Node_coord[i[2]][1]\n",
    "    Elem_k+=[LinearTriangleElementStiffness(E,mu,t,xi,yi,xj,yj,xm,ym,1)]\n",
    "print(\"Element1 stiffness matrices\")\n",
    "print(Elem_k)"
   ]
  },
  {
   "cell_type": "code",
   "execution_count": 33,
   "metadata": {},
   "outputs": [
    {
     "name": "stdout",
     "output_type": "stream",
     "text": [
      "(10, 10)\n"
     ]
    }
   ],
   "source": [
    "#STEP 2 ASSEMBLING\n",
    "n=2*len(Node_coord)        #Twice the number of nodes\n",
    "K = np.zeros((n, n))    #Global stiffness matrix \n",
    "print(K.shape)\n"
   ]
  },
  {
   "cell_type": "code",
   "execution_count": 34,
   "metadata": {},
   "outputs": [
    {
     "name": "stdout",
     "output_type": "stream",
     "text": [
      "Global Stiffness Matrix(Assembled)\n",
      "(10, 10)\n",
      "[[ +4939903.846  +2343750.       +36057.692   -540865.385        +0.\n",
      "         +0.      +937500.       +72115.385  -5913461.538  -1875000.   ]\n",
      " [ +2343750.     +8689903.846   -396634.615  +1911057.692        +0.\n",
      "         +0.       -72115.385   -937500.     -1875000.     -9663461.538]\n",
      " [   +36057.692   -396634.615  +2968750.     -1406250.     -1033653.846\n",
      "     -72115.385        +0.           +0.     -1971153.846  +1875000.   ]\n",
      " [  -540865.385  +1911057.692  -1406250.     +5468750.       +72115.385\n",
      "   -4158653.846        +0.           +0.     +1875000.     -3221153.846]\n",
      " [       +0.           +0.     -1033653.846    +72115.385  +2968750.\n",
      "   +1406250.       +36057.692   +396634.615  -1971153.846  -1875000.   ]\n",
      " [       +0.           +0.       -72115.385  -4158653.846  +1406250.\n",
      "   +5468750.      +540865.385  +1911057.692  -1875000.     -3221153.846]\n",
      " [  +937500.       -72115.385        +0.           +0.       +36057.692\n",
      "    +540865.385  +4939903.846  -2343750.     -5913461.538  +1875000.   ]\n",
      " [   +72115.385   -937500.           +0.           +0.      +396634.615\n",
      "   +1911057.692  -2343750.     +8689903.846  +1875000.     -9663461.538]\n",
      " [ -5913461.538  -1875000.     -1971153.846  +1875000.     -1971153.846\n",
      "   -1875000.     -5913461.538  +1875000.    +15769230.769        +0.   ]\n",
      " [ -1875000.     -9663461.538  +1875000.     -3221153.846  -1875000.\n",
      "   -3221153.846  +1875000.     -9663461.538        +0.    +25769230.769]]\n"
     ]
    }
   ],
   "source": [
    "\n",
    "#Assembling All the elements Linear Triangle\n",
    "counter=0\n",
    "for i in Elements_connectivity:\n",
    "    K=LinearTriangleAssemble(K,Elem_k[counter],i[0]+1,i[1]+1,i[2]+1)\n",
    "    counter+=1\n",
    "print(\"Global Stiffness Matrix(Assembled)\")\n",
    "print(K.shape)\n",
    "print(K)"
   ]
  },
  {
   "cell_type": "code",
   "execution_count": 35,
   "metadata": {},
   "outputs": [
    {
     "name": "stdout",
     "output_type": "stream",
     "text": [
      "Nodal Displacements of [U2x U2y U3x U3y U5x U5y]' (in m)\n",
      "[[+0.689]\n",
      " [+0.065]\n",
      " [+0.689]\n",
      " [-0.065]\n",
      " [+0.157]\n",
      " [-0.   ]]\n"
     ]
    }
   ],
   "source": [
    "##STEP 3: Forming Disp_Vec, Force_vec and applying Boundary conditions\n",
    "U=np.zeros((n,1))   #Disp vec\n",
    "F=np.zeros((n,1))   #Force vec\n",
    "\n",
    "#Cnditions\n",
    "F[2,0]=9.375\n",
    "F[3,0]=0\n",
    "F[4,0]=9.375\n",
    "F[5,0]=0\n",
    "F[8,0]=0\n",
    "F[9,0]=0\n",
    "\n",
    "#Partitioning matrices according to known and unknown displacements\n",
    "Up=U[[2,3,4,5,8,9]]\n",
    "Fp=F[[2,3,4,5,8,9]]\n",
    "Kpp=K[[2,3,4,5,8,9]]\n",
    "Kpp=Kpp[:,[2,3,4,5,8,9]]\n",
    "#Calculate Up=(Kpp^-1)*Fp\n",
    "Up=np.dot(np.linalg.inv(Kpp),Fp)\n",
    "print(\"Nodal Displacements of [U2x U2y U3x U3y U5x U5y]' (in m)\")\n",
    "print(Up*1e5)\n",
    "\n",
    "\n"
   ]
  },
  {
   "cell_type": "code",
   "execution_count": 37,
   "metadata": {},
   "outputs": [
    {
     "name": "stdout",
     "output_type": "stream",
     "text": [
      "Force Vector [F1x0 F1y F2x F2y F3x F3y F4x F4y F5x F5y](in kN)\n",
      "[[-9.375]\n",
      " [-4.432]\n",
      " [+9.375]\n",
      " [-0.   ]\n",
      " [+9.375]\n",
      " [+0.   ]\n",
      " [-9.375]\n",
      " [+4.432]\n",
      " [+0.   ]\n",
      " [-0.   ]]\n"
     ]
    }
   ],
   "source": [
    "#STEP 4 Post Processing\n",
    "\n",
    "#Add back calculated Up\n",
    "U[[2,3,4,5,8,9]]=Up\n",
    "\n",
    "#Calculate force\n",
    "F=np.dot(K,U)\n",
    "print(\"Force Vector [F1x0 F1y F2x F2y F3x F3y F4x F4y F5x F5y](in kN)\")\n",
    "print(F)"
   ]
  },
  {
   "cell_type": "code",
   "execution_count": 42,
   "metadata": {},
   "outputs": [],
   "source": [
    "##STEP 6: element stresses calc\n",
    "\n",
    "#Element disp vector\n",
    "#(0,1,4),(1,2,4),(2,3,4),(3,0,4)\n",
    "u1=np.asarray([U[0],U[1],U[2],U[3],U[8],U[9]])\n",
    "u2=np.asarray([U[2],U[3],U[4],U[5],U[8],U[9]])\n",
    "u3=np.asarray([U[4],U[5],U[6],U[7],U[8],U[9]])\n",
    "u4=np.asarray([U[6],U[7],U[0],U[1],U[8],U[9]])\n",
    "u=[u1,u2,u3,u4]"
   ]
  },
  {
   "cell_type": "code",
   "execution_count": 43,
   "metadata": {},
   "outputs": [
    {
     "name": "stdout",
     "output_type": "stream",
     "text": [
      "Element1stress(in Mpa)[sigma_x sigma_y tau_xy]\n",
      "[[+3089.912]\n",
      " [ +654.24 ]\n",
      " [   +5.117]]\n",
      "Element2stress(in Mpa)[sigma_x sigma_y tau_xy]\n",
      "[[+2915.205]\n",
      " [ -216.374]\n",
      " [   -0.   ]]\n",
      "Element3stress(in Mpa)[sigma_x sigma_y tau_xy]\n",
      "[[+3089.912]\n",
      " [ +654.24 ]\n",
      " [   -5.117]]\n",
      "Element4stress(in Mpa)[sigma_x sigma_y tau_xy]\n",
      "[[+2894.737]\n",
      " [ +868.421]\n",
      " [   -0.   ]]\n"
     ]
    }
   ],
   "source": [
    "\n",
    "Elem_stress_sigma=[]\n",
    "counter=0\n",
    "for i in Elements_connectivity:\n",
    "    xi,yi=Node_coord[i[0]][0],Node_coord[i[0]][1]\n",
    "    xj,yj=Node_coord[i[1]][0],Node_coord[i[1]][1]\n",
    "    xm,ym=Node_coord[i[2]][0],Node_coord[i[2]][1]\n",
    "    Elem_stress_sigma+=[LinearTriangleElementStresses(E,mu,xi,yi,xj,yj,xm,ym,1,u[counter])]\n",
    "    counter+=1\n",
    "\n",
    "counter=1\n",
    "for i in Elem_stress_sigma:\n",
    "    sigma=i\n",
    "    print(\"Element\" +str(counter)+ \"stress(in Mpa)[sigma_x sigma_y tau_xy]\")\n",
    "    print(sigma)\n",
    "    counter+=1"
   ]
  },
  {
   "cell_type": "code",
   "execution_count": 4,
   "metadata": {},
   "outputs": [
    {
     "ename": "NameError",
     "evalue": "name 'Elem_stress_sigma' is not defined",
     "output_type": "error",
     "traceback": [
      "\u001b[1;31m---------------------------------------------------------------------------\u001b[0m",
      "\u001b[1;31mNameError\u001b[0m                                 Traceback (most recent call last)",
      "\u001b[1;32m<ipython-input-4-8b8013302d78>\u001b[0m in \u001b[0;36m<module>\u001b[1;34m\u001b[0m\n\u001b[0;32m      1\u001b[0m \u001b[1;31m#STEP 8 Principal stresses\u001b[0m\u001b[1;33m\u001b[0m\u001b[1;33m\u001b[0m\u001b[1;33m\u001b[0m\u001b[0m\n\u001b[0;32m      2\u001b[0m \u001b[0mcounter\u001b[0m\u001b[1;33m=\u001b[0m\u001b[1;36m1\u001b[0m\u001b[1;33m\u001b[0m\u001b[1;33m\u001b[0m\u001b[0m\n\u001b[1;32m----> 3\u001b[1;33m \u001b[1;32mfor\u001b[0m \u001b[0mi\u001b[0m \u001b[1;32min\u001b[0m \u001b[0mElem_stress_sigma\u001b[0m\u001b[1;33m:\u001b[0m\u001b[1;33m\u001b[0m\u001b[1;33m\u001b[0m\u001b[0m\n\u001b[0m\u001b[0;32m      4\u001b[0m     \u001b[0msigma\u001b[0m\u001b[1;33m=\u001b[0m\u001b[0mi\u001b[0m\u001b[1;33m\u001b[0m\u001b[1;33m\u001b[0m\u001b[0m\n\u001b[0;32m      5\u001b[0m     \u001b[0ms1\u001b[0m\u001b[1;33m=\u001b[0m\u001b[0mLinearTriangleElementPStresses\u001b[0m\u001b[1;33m(\u001b[0m\u001b[0msigma\u001b[0m\u001b[1;33m)\u001b[0m\u001b[1;33m\u001b[0m\u001b[1;33m\u001b[0m\u001b[0m\n",
      "\u001b[1;31mNameError\u001b[0m: name 'Elem_stress_sigma' is not defined"
     ]
    }
   ],
   "source": [
    "#STEP 8 Principal stresses\n",
    "counter=1\n",
    "for i in Elem_stress_sigma:\n",
    "    sigma=i\n",
    "    s1=LinearTriangleElementPStresses(sigma)\n",
    "    print(\"Element \"+str(counter) + \" principal stress(in Mpa)[sigma1 sigma2 Theta_p]\")\n",
    "    print(s1)\n",
    "    counter+=1\n",
    "    "
   ]
  },
  {
   "cell_type": "code",
   "execution_count": null,
   "metadata": {},
   "outputs": [],
   "source": []
  }
 ],
 "metadata": {
  "interpreter": {
   "hash": "5c45d054ff7e3515fce9eec686a49e209967f958079ad1677afbc7181e38d20c"
  },
  "kernelspec": {
   "display_name": "Python 3",
   "language": "python",
   "name": "python3"
  },
  "language_info": {
   "codemirror_mode": {
    "name": "ipython",
    "version": 3
   },
   "file_extension": ".py",
   "mimetype": "text/x-python",
   "name": "python",
   "nbconvert_exporter": "python",
   "pygments_lexer": "ipython3",
   "version": "3.8.8"
  }
 },
 "nbformat": 4,
 "nbformat_minor": 2
}
