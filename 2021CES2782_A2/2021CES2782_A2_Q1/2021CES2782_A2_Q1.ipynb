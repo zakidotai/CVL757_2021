{
 "cells": [
  {
   "cell_type": "markdown",
   "metadata": {},
   "source": [
    "Question 1. For the beam shown in figure 1, determine the following. E = 210 GPa, I = 60 x\n",
    "10-6 m-4, and P = 20 kN, L1=L2= 2m.\n",
    "1. Global stiffness matrix for the structure.\n",
    "2. Vertical displacement at node 2.\n",
    "3. Rotations at nodes 2 and 3.\n",
    "4. Reactions at nodes 1 and 3.\n",
    "5. Shear force and bending moment in each element.\n",
    "6. SFD for each element.\n",
    "7. BMD for each element."
   ]
  },
  {
   "cell_type": "code",
   "execution_count": 1,
   "metadata": {},
   "outputs": [],
   "source": [
    "import numpy as np\n",
    "import matplotlib.pyplot as plt "
   ]
  },
  {
   "cell_type": "code",
   "execution_count": 2,
   "metadata": {},
   "outputs": [
    {
     "data": {
      "image/png": "[encoded data removed]",
      "text/plain": [
       "<Figure size 432x288 with 1 Axes>"
      ]
     },
     "metadata": {
      "needs_background": "light"
     },
     "output_type": "display_data"
    }
   ],
   "source": [
    "import matplotlib.image as mpimg\n",
    "img=mpimg.imread('Q1.png')\n",
    "imgplot = plt.imshow(img)\n"
   ]
  },
  {
   "cell_type": "code",
   "execution_count": 3,
   "metadata": {},
   "outputs": [],
   "source": [
    "\n",
    "E=float(input(\"Young's Modulus in KN/M^2\"))\n",
    "I=float(input(\"Moment Of Inertia of Section in M^4\"))\n",
    "L1=float(input(\"Length of Element 1 in M\"))\n",
    "L2=float(input(\"Length of Element 2 in M\"))\n",
    "Pload=float(input(\"Enter Magnitude of point load in KN\"))\n",
    "\n",
    "def BeamElementStiffness(E,I,L):\n",
    "    k = E*I/(L**3)*np.array([[12,6*L,-12,6*L],[6*L,4*L*L,-6*L,2*L*L],[-12,-6*L,12,-6*L],[6*L,2*L*L,-6*L,4*L*L]])\n",
    "    return k\n",
    "\n",
    "k1=BeamElementStiffness(E,I,L1)\n",
    "k2=BeamElementStiffness(E,I,L2)"
   ]
  },
  {
   "cell_type": "code",
   "execution_count": 4,
   "metadata": {},
   "outputs": [
    {
     "name": "stdout",
     "output_type": "stream",
     "text": [
      "Global Stifness Matrix = \n",
      "[[ 18900.  18900. -18900.  18900.      0.      0.]\n",
      " [ 18900.  25200. -18900.  12600.      0.      0.]\n",
      " [-18900. -18900.  37800.      0. -18900.  18900.]\n",
      " [ 18900.  12600.      0.  50400. -18900.  12600.]\n",
      " [     0.      0. -18900. -18900.  18900. -18900.]\n",
      " [     0.      0.  18900.  12600. -18900.  25200.]]\n"
     ]
    }
   ],
   "source": [
    "K = np.zeros((6,6))\n",
    "\n",
    "def BeamAssemble(K,k,i,j):\n",
    "    K[2*i-2][2*i-2]+=k[0][0]\n",
    "    K[2*i-2][2*i-1]+=k[0][1]\n",
    "    K[2*i-2][2*j-2]+=k[0][2]\n",
    "    K[2*i-2][2*j-1]+=k[0][3]\n",
    "    K[2*i-1][2*i-2]+=k[1][0]\n",
    "    K[2*i-1][2*i-1]+=k[1][1]\n",
    "    K[2*i-1][2*j-2]+=k[1][2]\n",
    "    K[2*i-1][2*j-1]+=k[1][3]\n",
    "    K[2*j-2][2*i-2]+=k[2][0]\n",
    "    K[2*j-2][2*i-1]+=k[2][1]\n",
    "    K[2*j-2][2*j-2]+=k[2][2]\n",
    "    K[2*j-2][2*j-1]+=k[2][3]\n",
    "    K[2*j-1][2*i-2]+=k[3][0]\n",
    "    K[2*j-1][2*i-1]+=k[3][1]\n",
    "    K[2*j-1][2*j-2]+=k[3][2]\n",
    "    K[2*j-1][2*j-1]+=k[3][3]\n",
    "    return K\n",
    "\n",
    "K= BeamAssemble(K,k1,1,2)\n",
    "K= BeamAssemble(K,k2,2,3)\n",
    "print(f\"Global Stifness Matrix = \\n{K}\")"
   ]
  },
  {
   "cell_type": "code",
   "execution_count": 5,
   "metadata": {},
   "outputs": [
    {
     "name": "stdout",
     "output_type": "stream",
     "text": [
      "Vertical Displacement at Node 2 : [-0.00092593] meter\n",
      "Rotation at Node 2 : [-0.00019841] rad\n",
      "Rotation at Node 3 : [0.00079365] rad\n"
     ]
    }
   ],
   "source": [
    "\n",
    "b= np.delete(K,4,0)\n",
    "b= np.delete(b,4,1)\n",
    "b= np.delete(b,1,0)\n",
    "b= np.delete(b,1,1)\n",
    "b= np.delete(b,0,0)\n",
    "b= np.delete(b,0,1)\n",
    "force= np.array([[0],[0],[-Pload],[0],[0],[0]])\n",
    "f= np.delete(force,0,0)\n",
    "f= np.delete(f,0,0)\n",
    "f= np.delete(f,2,0)\n",
    "u = np.linalg.inv(b).dot(f)\n",
    "U=np.zeros((6,1))\n",
    "U[2]=u[0]\n",
    "U[3]=u[1]\n",
    "U[5]=u[2]\n",
    "print(f\"Vertical Displacement at Node 2 : {U[2]} meter\")\n",
    "print(f\"Rotation at Node 2 : {U[3]} rad\")\n",
    "print(f\"Rotation at Node 3 : {U[5]} rad\")\n"
   ]
  },
  {
   "cell_type": "code",
   "execution_count": 6,
   "metadata": {},
   "outputs": [
    {
     "name": "stdout",
     "output_type": "stream",
     "text": [
      "Reaction at Node 1 : [13.75] KN/M^2\n",
      "Moment at Node 1 : [15.] KN-M\n",
      "Reaction at Node 3 : [6.25] KN/M^2\n"
     ]
    }
   ],
   "source": [
    "F=K.dot(U)\n",
    "print(f\"Reaction at Node 1 : {F[0]} KN/M^2\")\n",
    "print(f\"Moment at Node 1 : {F[1]} KN-M\")\n",
    "print(f\"Reaction at Node 3 : {F[4]} KN/M^2\")"
   ]
  },
  {
   "cell_type": "code",
   "execution_count": 7,
   "metadata": {},
   "outputs": [
    {
     "name": "stdout",
     "output_type": "stream",
     "text": [
      "Shear Force in First Element : [13.75] KN\n",
      "Moment at node 1 of First Element : [15.] KN-M \n",
      "Moment at node 2 of First Element : [12.5] KN-M \n",
      "Shear Force in second Element : [-6.25] KN\n",
      "Moment at node 2 of second Element : [-12.5] KN-M \n",
      "Moment at node 3 of second Element : [0.] KN-M \n"
     ]
    }
   ],
   "source": [
    "def BeamElementForces(k,u):\n",
    "    return k.dot(u)\n",
    "u1 = [U[0],U[1],U[2],U[3]]\n",
    "u2 = [U[2],U[3],U[4],U[5]]\n",
    "f1=BeamElementForces(k1,u1)\n",
    "f2=BeamElementForces(k2,u2)\n",
    "print(f\"Shear Force in First Element : {f1[0]} KN\")\n",
    "print(f\"Moment at node 1 of First Element : {f1[1]} KN-M \")\n",
    "print(f\"Moment at node 2 of First Element : {f1[3]} KN-M \")\n",
    "print(f\"Shear Force in second Element : {f2[0]} KN\")\n",
    "print(f\"Moment at node 2 of second Element : {f2[1]} KN-M \")\n",
    "print(f\"Moment at node 3 of second Element : {f2[3]} KN-M \")\n"
   ]
  },
  {
   "cell_type": "code",
   "execution_count": 8,
   "metadata": {},
   "outputs": [
    {
     "name": "stdout",
     "output_type": "stream",
     "text": [
      "Shear Force Diagram for element 1 :\n"
     ]
    },
    {
     "name": "stderr",
     "output_type": "stream",
     "text": [
      "C:\\Users\\kprat\\anaconda3\\lib\\site-packages\\numpy\\core\\_asarray.py:171: VisibleDeprecationWarning: Creating an ndarray from ragged nested sequences (which is a list-or-tuple of lists-or-tuples-or ndarrays with different lengths or shapes) is deprecated. If you meant to do this, you must specify 'dtype=object' when creating the ndarray.\n",
      "  return array(a, dtype, copy=False, order=order, subok=True)\n"
     ]
    },
    {
     "data": {
      "image/png": "[encoded data removed]",
      "text/plain": [
       "<Figure size 432x288 with 1 Axes>"
      ]
     },
     "metadata": {
      "needs_background": "light"
     },
     "output_type": "display_data"
    },
    {
     "name": "stdout",
     "output_type": "stream",
     "text": [
      "Shear Force Diagram for element 2 :\n"
     ]
    },
    {
     "data": {
      "image/png": "[encoded data removed]",
      "text/plain": [
       "<Figure size 432x288 with 1 Axes>"
      ]
     },
     "metadata": {
      "needs_background": "light"
     },
     "output_type": "display_data"
    }
   ],
   "source": [
    "def BeamElementShearForceDiagram(f,L):\n",
    "    x1,x2=0,L\n",
    "    y1,y2=f[0],-f[2]\n",
    "    plt.plot([x1,x2],[y1,y2],'black')\n",
    "    plt.plot([x1,x1],[x1,y1],'black')\n",
    "    plt.plot([x2,x2],[x1,y2],'black')\n",
    "    plt.plot([x1,x2],[x1,x1])\n",
    "    plt.title('SFD')\n",
    "    plt.show()\n",
    "print(f'Shear Force Diagram for element 1 :')\n",
    "BeamElementShearForceDiagram(f1,L1)\n",
    "print(f'Shear Force Diagram for element 2 :')\n",
    "BeamElementShearForceDiagram(f2,L2)\n"
   ]
  },
  {
   "cell_type": "code",
   "execution_count": 9,
   "metadata": {},
   "outputs": [
    {
     "name": "stdout",
     "output_type": "stream",
     "text": [
      "BMD for element 1\n"
     ]
    },
    {
     "data": {
      "image/png": "[encoded data removed]",
      "text/plain": [
       "<Figure size 432x288 with 1 Axes>"
      ]
     },
     "metadata": {
      "needs_background": "light"
     },
     "output_type": "display_data"
    },
    {
     "name": "stdout",
     "output_type": "stream",
     "text": [
      "BMD for element 2\n"
     ]
    },
    {
     "data": {
      "image/png": "[encoded data removed]",
      "text/plain": [
       "<Figure size 432x288 with 1 Axes>"
      ]
     },
     "metadata": {
      "needs_background": "light"
     },
     "output_type": "display_data"
    }
   ],
   "source": [
    "def BeamElementBMD(f,L):\n",
    "    x1,x2=0,L\n",
    "    y1,y2=f[1],-f[3]\n",
    "    plt.plot([x1,x2],[y1,y2],'black')\n",
    "    plt.plot([x1,x1],[x1,y1],'black')\n",
    "    plt.plot([x2,x2],[x1,y2],'black')\n",
    "    plt.plot([x1,x2],[x1,x1])\n",
    "    plt.title('BMD')\n",
    "    plt.show()\n",
    "print(\"BMD for element 1\")\n",
    "BeamElementBMD(f1,L1)\n",
    "print(\"BMD for element 2\")\n",
    "BeamElementBMD(f2,L2)"
   ]
  },
  {
   "cell_type": "code",
   "execution_count": 10,
   "metadata": {},
   "outputs": [
    {
     "data": {
      "image/png": "[encoded data removed]",
      "text/plain": [
       "<Figure size 432x288 with 1 Axes>"
      ]
     },
     "metadata": {
      "needs_background": "light"
     },
     "output_type": "display_data"
    }
   ],
   "source": [
    "def BMD(f_1,f_2,L_1,L_2):\n",
    "    x1,x2,x3=0,L_1,L_1+L_2\n",
    "    y1,y2,y3=f_1[1],-f_1[3],-f_2[3]\n",
    "    plt.plot([x1,x2],[y1,y2],'black')\n",
    "    plt.plot([x2,x3],[y2,y3],'black')\n",
    "    plt.plot([x1,x1],[x1,y1],'black')\n",
    "    plt.plot([x1,x3],[x1,x1])\n",
    "    \n",
    "BMD(f1,f2,L1,L2)"
   ]
  },
  {
   "cell_type": "code",
   "execution_count": 11,
   "metadata": {},
   "outputs": [
    {
     "data": {
      "image/png": "[encoded data removed]",
      "text/plain": [
       "<Figure size 432x288 with 1 Axes>"
      ]
     },
     "metadata": {
      "needs_background": "light"
     },
     "output_type": "display_data"
    }
   ],
   "source": [
    "def SFD(f_1,f_2,L_1,L_2):\n",
    "    x1,x2,x3=0,L_1,L_1+L_2\n",
    "    y1,y2,y3,y4=f_1[0],-f_1[2],f_2[0],-f_2[2]\n",
    "    plt.plot([x1,x2],[y1,y2],'k')\n",
    "    plt.plot([x2,x3],[y3,y4],'k')\n",
    "    plt.plot([x1,x1],[x1,y1],'k')\n",
    "    plt.plot([x2,x2],[y2,y3],'k')\n",
    "    plt.plot([x3,x3],[y3,x1],'k')\n",
    "    plt.plot([x1,x3],[x1,x1])\n",
    "\n",
    "SFD(f1,f2,L1,L2)"
   ]
  }
 ],
 "metadata": {
  "interpreter": {
   "hash": "792d82fdb7acbc3207629a777f5104b0f8ddf6f9498b10b1b9424d0026d068e7"
  },
  "kernelspec": {
   "display_name": "Python 3.8.8 64-bit ('base': conda)",
   "name": "python3"
  },
  "language_info": {
   "codemirror_mode": {
    "name": "ipython",
    "version": 3
   },
   "file_extension": ".py",
   "mimetype": "text/x-python",
   "name": "python",
   "nbconvert_exporter": "python",
   "pygments_lexer": "ipython3",
   "version": "3.8.8"
  },
  "orig_nbformat": 4
 },
 "nbformat": 4,
 "nbformat_minor": 2
}
