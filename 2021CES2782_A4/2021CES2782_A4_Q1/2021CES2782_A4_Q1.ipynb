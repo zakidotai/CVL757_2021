{
 "cells": [
  {
   "cell_type": "markdown",
   "metadata": {},
   "source": [
    "Question 1. For the frame shown in figure 1, determine the following. E = 210 GPa, A= 2 x\n",
    "10-2 m2, I = 5 x 10-5 m-4, P = 20 kN, M= 12 kN.m, B= 4 m, and H=3 m.\n",
    "1. Global stiffness matrix for the structure.\n",
    "2. Displacements and rotations at nodes 2 and 3.\n",
    "3. Reactions at nodes 1 and 4.\n",
    "4. Axial force, shear force, and bending moment in each element.\n",
    "5. Axial force, shear force, and bending moment diagrams for each element\n"
   ]
  },
  {
   "cell_type": "code",
   "execution_count": 1,
   "metadata": {},
   "outputs": [
    {
     "data": {
      "image/png": "[encoded data removed]",
      "text/plain": [
       "<Figure size 432x288 with 1 Axes>"
      ]
     },
     "metadata": {
      "needs_background": "light"
     },
     "output_type": "display_data"
    }
   ],
   "source": [
    "import numpy as np\n",
    "import matplotlib.pyplot as plt\n",
    "import matplotlib.image as mpimg\n",
    "img=mpimg.imread('Q1.png')\n",
    "imgplot = plt.imshow(img)"
   ]
  },
  {
   "cell_type": "code",
   "execution_count": 2,
   "metadata": {},
   "outputs": [],
   "source": [
    "\n",
    "#E = 210e6     #A = 2e-2    #I = 5e-5\n",
    "#L1=3          #L2=4        #L3=L1\n",
    "#HF=20         #M=12\n",
    "E=float(input(\"Enter Young's Modulus in KN/m^2\"))\n",
    "A=float(input(\"Enter Area in m^2\"))\n",
    "I=float(input(\"Enter Moment of inertia in m^4\"))\n",
    "L1=float(input(\"Enter Height of frame in m\"))\n",
    "L2=float(input(\"Enter Length of frame in m\"))\n",
    "L3=L1\n",
    "HF=float(input(\"Enter magnitude Load at node 2 in KN\"))\n",
    "M=float(input(\"Enter magnitude Moment at node 3 in KN-m\"))"
   ]
  },
  {
   "cell_type": "code",
   "execution_count": 3,
   "metadata": {},
   "outputs": [],
   "source": [
    "def PlaneFrameElementStiffness(E,A,I,L,theta):\n",
    "    x = theta*np.pi/180\n",
    "    C = np.cos(x)\n",
    "    S = np.sin(x)\n",
    "    w1 = A*C*C + 12*I*S*S/(L*L)\n",
    "    w2 = A*S*S + 12*I*C*C/(L*L)\n",
    "    w3 = (A-12*I/(L*L))*C*S\n",
    "    w4 = 6*I*S/L\n",
    "    w5 = 6*I*C/L\n",
    "    return E/L*np.array([[w1, w3, -w4, -w1, -w3, -w4],\n",
    "                    [w3, w2, w5, -w3, -w2, w5],\n",
    "                    [-w4, w5, 4*I, w4, -w5, 2*I], \n",
    "                    [-w1, -w3, w4, w1, w3, w4],\n",
    "                    [-w3, -w2, -w5, w3, w2, -w5], \n",
    "                    [-w4, w5, 2*I, w4, -w5, 4*I]])\n",
    "\n",
    "k1=PlaneFrameElementStiffness(E,A,I,L1,90)\n",
    "k2=PlaneFrameElementStiffness(E,A,I,L2,0)\n",
    "k3=PlaneFrameElementStiffness(E,A,I,L3,270)\n"
   ]
  },
  {
   "cell_type": "code",
   "execution_count": 4,
   "metadata": {},
   "outputs": [
    {
     "name": "stdout",
     "output_type": "stream",
     "text": [
      "Global Stiffness Matrix :\n",
      "[[ 4.66666667e+03  8.54395250e-11 -7.00000000e+03 -4.66666667e+03\n",
      "  -8.54395250e-11 -7.00000000e+03  0.00000000e+00  0.00000000e+00\n",
      "   0.00000000e+00  0.00000000e+00  0.00000000e+00  0.00000000e+00]\n",
      " [ 8.54395250e-11  1.40000000e+06  4.28626380e-13 -8.54395250e-11\n",
      "  -1.40000000e+06  4.28626380e-13  0.00000000e+00  0.00000000e+00\n",
      "   0.00000000e+00  0.00000000e+00  0.00000000e+00  0.00000000e+00]\n",
      " [-7.00000000e+03  4.28626380e-13  1.40000000e+04  7.00000000e+03\n",
      "  -4.28626380e-13  7.00000000e+03  0.00000000e+00  0.00000000e+00\n",
      "   0.00000000e+00  0.00000000e+00  0.00000000e+00  0.00000000e+00]\n",
      " [-4.66666667e+03 -8.54395250e-11  7.00000000e+03  1.05466667e+06\n",
      "   8.54395250e-11  7.00000000e+03 -1.05000000e+06  0.00000000e+00\n",
      "   0.00000000e+00  0.00000000e+00  0.00000000e+00  0.00000000e+00]\n",
      " [-8.54395250e-11 -1.40000000e+06 -4.28626380e-13  8.54395250e-11\n",
      "   1.40196875e+06  3.93750000e+03  0.00000000e+00 -1.96875000e+03\n",
      "   3.93750000e+03  0.00000000e+00  0.00000000e+00  0.00000000e+00]\n",
      " [-7.00000000e+03  4.28626380e-13  7.00000000e+03  7.00000000e+03\n",
      "   3.93750000e+03  2.45000000e+04  0.00000000e+00 -3.93750000e+03\n",
      "   5.25000000e+03  0.00000000e+00  0.00000000e+00  0.00000000e+00]\n",
      " [ 0.00000000e+00  0.00000000e+00  0.00000000e+00 -1.05000000e+06\n",
      "   0.00000000e+00  0.00000000e+00  1.05466667e+06  2.56318575e-10\n",
      "   7.00000000e+03 -4.66666667e+03 -2.56318575e-10  7.00000000e+03]\n",
      " [ 0.00000000e+00  0.00000000e+00  0.00000000e+00  0.00000000e+00\n",
      "  -1.96875000e+03 -3.93750000e+03  2.56318575e-10  1.40196875e+06\n",
      "  -3.93750000e+03 -2.56318575e-10 -1.40000000e+06 -1.28587914e-12]\n",
      " [ 0.00000000e+00  0.00000000e+00  0.00000000e+00  0.00000000e+00\n",
      "   3.93750000e+03  5.25000000e+03  7.00000000e+03 -3.93750000e+03\n",
      "   2.45000000e+04 -7.00000000e+03  1.28587914e-12  7.00000000e+03]\n",
      " [ 0.00000000e+00  0.00000000e+00  0.00000000e+00  0.00000000e+00\n",
      "   0.00000000e+00  0.00000000e+00 -4.66666667e+03 -2.56318575e-10\n",
      "  -7.00000000e+03  4.66666667e+03  2.56318575e-10 -7.00000000e+03]\n",
      " [ 0.00000000e+00  0.00000000e+00  0.00000000e+00  0.00000000e+00\n",
      "   0.00000000e+00  0.00000000e+00 -2.56318575e-10 -1.40000000e+06\n",
      "   1.28587914e-12  2.56318575e-10  1.40000000e+06  1.28587914e-12]\n",
      " [ 0.00000000e+00  0.00000000e+00  0.00000000e+00  0.00000000e+00\n",
      "   0.00000000e+00  0.00000000e+00  7.00000000e+03 -1.28587914e-12\n",
      "   7.00000000e+03 -7.00000000e+03  1.28587914e-12  1.40000000e+04]]\n"
     ]
    }
   ],
   "source": [
    "\n",
    "def PlaneFrameAssemble(K,k,i,j):\n",
    "    K[3*i-3,3*i-3] += k[0,0]\n",
    "    K[3*i-3,3*i-2] += k[0,1]\n",
    "    K[3*i-3,3*i-1] += k[0,2]\n",
    "    K[3*i-3,3*j-3] += k[0,3]\n",
    "    K[3*i-3,3*j-2] += k[0,4]\n",
    "    K[3*i-3,3*j-1] += k[0,5]\n",
    "    K[3*i-2,3*i-3] += k[1,0]\n",
    "    K[3*i-2,3*i-2] += k[1,1]\n",
    "    K[3*i-2,3*i-1] += k[1,2]\n",
    "    K[3*i-2,3*j-3] += k[1,3]\n",
    "    K[3*i-2,3*j-2] += k[1,4]\n",
    "    K[3*i-2,3*j-1] += k[1,5]\n",
    "    K[3*i-1,3*i-3] += k[2,0]\n",
    "    K[3*i-1,3*i-2] += k[2,1]\n",
    "    K[3*i-1,3*i-1] += k[2,2]\n",
    "    K[3*i-1,3*j-3] += k[2,3]\n",
    "    K[3*i-1,3*j-2] += k[2,4]\n",
    "    K[3*i-1,3*j-1] += k[2,5]\n",
    "    K[3*j-3,3*i-3] += k[3,0]\n",
    "    K[3*j-3,3*i-2] += k[3,1]\n",
    "    K[3*j-3,3*i-1] += k[3,2]\n",
    "    K[3*j-3,3*j-3] += k[3,3]\n",
    "    K[3*j-3,3*j-2] += k[3,4]\n",
    "    K[3*j-3,3*j-1] += k[3,5]\n",
    "    K[3*j-2,3*i-3] += k[4,0]\n",
    "    K[3*j-2,3*i-2] += k[4,1]\n",
    "    K[3*j-2,3*i-1] += k[4,2]\n",
    "    K[3*j-2,3*j-3] += k[4,3]\n",
    "    K[3*j-2,3*j-2] += k[4,4]\n",
    "    K[3*j-2,3*j-1] += k[4,5]\n",
    "    K[3*j-1,3*i-3] += k[5,0]\n",
    "    K[3*j-1,3*i-2] += k[5,1]\n",
    "    K[3*j-1,3*i-1] += k[5,2]\n",
    "    K[3*j-1,3*j-3] += k[5,3]\n",
    "    K[3*j-1,3*j-2] += k[5,4]\n",
    "    K[3*j-1,3*j-1] += k[5,5]\n",
    "    return K\n",
    "K=np.zeros((12,12))\n",
    "K=PlaneFrameAssemble(K,k1,1,2)\n",
    "K=PlaneFrameAssemble(K,k2,2,3)\n",
    "K=PlaneFrameAssemble(K,k3,3,4)\n",
    "print(f\"Global Stiffness Matrix :\\n{K}\")"
   ]
  },
  {
   "cell_type": "code",
   "execution_count": 5,
   "metadata": {},
   "outputs": [
    {
     "name": "stdout",
     "output_type": "stream",
     "text": [
      "Horizontal displacement at node 2 :[-0.0037867] meter\n",
      "Rotation at node 2 :[0.00078308] rad\n",
      "Horizontal displacement at node 3 :[-0.00377927] meter\n",
      "Rotation at node 3 :[0.00140375] rad\n"
     ]
    }
   ],
   "source": [
    "k=K[3:9,3:9]\n",
    "f=[[-HF],[0],[0],[0],[0],[M]]\n",
    "u=np.linalg.inv(k).dot(f)\n",
    "\n",
    "print(f\"Horizontal displacement at node 2 :{u[0]} meter\")\n",
    "print(f\"Rotation at node 2 :{u[2]} rad\")\n",
    "print(f\"Horizontal displacement at node 3 :{u[3]} meter\")\n",
    "print(f\"Rotation at node 3 :{u[5]} rad\")"
   ]
  },
  {
   "cell_type": "code",
   "execution_count": 6,
   "metadata": {},
   "outputs": [
    {
     "name": "stdout",
     "output_type": "stream",
     "text": [
      "Horizontal Reaction at node 1 : [12.18970737] KN\n",
      "Vertical Reaction at node 1 : [8.58651826] KN\n",
      "Moment at node 1 : [-21.02534895] KN-m\n",
      "Horizontal Reaction at node 4 : [7.81029263] KN\n",
      "Vertical Reaction at node 1 : [-8.58651826] KN\n",
      "Moment at node 4 : [-16.62857802] KN-m\n"
     ]
    }
   ],
   "source": [
    "U=np.zeros((12,1))\n",
    "U[3:9]=u[0:6]\n",
    "F=K.dot(U)\n",
    "print(f\"Horizontal Reaction at node 1 : {F[0]} KN\")\n",
    "print(f\"Vertical Reaction at node 1 : {F[1]} KN\")\n",
    "print(f\"Moment at node 1 : {F[2]} KN-m\")\n",
    "print(f\"Horizontal Reaction at node 4 : {F[9]} KN\")\n",
    "print(f\"Vertical Reaction at node 1 : {F[10]} KN\")\n",
    "print(f\"Moment at node 4 : {F[11]} KN-m\")"
   ]
  },
  {
   "cell_type": "code",
   "execution_count": 7,
   "metadata": {},
   "outputs": [
    {
     "name": "stdout",
     "output_type": "stream",
     "text": [
      "Forces in element 1\n",
      "Axial force at i:[8.58651826]\n",
      "Shear force at i:[-12.18970737]\n",
      "Moment at i:[-21.02534895]\n",
      "Axial force at j:[-8.58651826]\n",
      "Shear force at j:[12.18970737]\n",
      "Moment  at j:[-15.54377315]\n",
      "\n",
      "Forces in element 2\n",
      "Axial force at i:[-7.81029263]\n",
      "Shear force at i:[8.58651826]\n",
      "Moment at i:[15.54377315]\n",
      "Axial force at j:[7.81029263]\n",
      "Shear force at j:[-8.58651826]\n",
      "Moment  at j:[18.80229989]\n",
      "\n",
      "Forces in element 3\n",
      "Axial force at i:[-8.58651826]\n",
      "Shear force at i:[-7.81029263]\n",
      "Moment at i:[-6.80229989]\n",
      "Axial force at j:[8.58651826]\n",
      "Shear force at j:[7.81029263]\n",
      "Moment  at j:[-16.62857802]\n",
      "\n"
     ]
    }
   ],
   "source": [
    "def PlaneFrameElementForces(E,A,I,L,theta,u):\n",
    "    x = theta * np.pi/180\n",
    "    C = np.cos(x)\n",
    "    S = np.sin(x)\n",
    "    w1 = E*A/L\n",
    "    w2 = 12*E*I/(L*L*L)\n",
    "    w3 = 6*E*I/(L*L)\n",
    "    w4 = 4*E*I/L\n",
    "    w5 = 2*E*I/L\n",
    "    kprime = np.array([[w1, 0, 0, -w1, 0, 0],[0, w2, w3, 0, -w2, w3],[0, w3, w4, 0, -w3, w5],\n",
    "                     [-w1, 0, 0, w1, 0, 0],[0, -w2, -w3, 0, w2, -w3],[0, w3, w5, 0, -w3, w4]])\n",
    "    T = [C, S, 0, 0, 0, 0],[-S, C, 0, 0, 0, 0],[0, 0, 1, 0, 0, 0],[0, 0, 0, C, S, 0],[0, 0, 0, -S, C, 0],[0, 0, 0, 0, 0, 1]\n",
    "    return kprime.dot(T).dot(u)\n",
    "u1=[U[0],U[1],U[2],U[3],U[4],U[5]]\n",
    "u2=[U[3],U[4],U[5],U[6],U[7],U[8]]\n",
    "u3=[U[6],U[7],U[8],U[9],U[10],U[11]]\n",
    "\n",
    "f1=PlaneFrameElementForces(E,A,I,L1,90,u1)\n",
    "f2=PlaneFrameElementForces(E,A,I,L2,0,u2)\n",
    "f3=PlaneFrameElementForces(E,A,I,L3,270,u3)\n",
    "\n",
    "def forcedata(f):\n",
    "    for i in range(0,6):\n",
    "        if i==0:\n",
    "            print(f\"Axial force at i:{f[0]}\")\n",
    "        elif i==1:\n",
    "            print(f\"Shear force at i:{f[1]}\")\n",
    "        elif i==2:\n",
    "            print(f\"Moment at i:{f[2]}\")\n",
    "        elif i==3:\n",
    "            print(f\"Axial force at j:{f[3]}\")\n",
    "        elif i==4:\n",
    "            print(f\"Shear force at j:{f[4]}\")\n",
    "        else :\n",
    "            print(f\"Moment  at j:{f[5]}\")\n",
    "    return \"\"\n",
    "print(\"Forces in element 1\")       \n",
    "print(forcedata(f1))\n",
    "print(\"Forces in element 2\")       \n",
    "print(forcedata(f2))\n",
    "print(\"Forces in element 3\")       \n",
    "print(forcedata(f3))\n"
   ]
  },
  {
   "cell_type": "code",
   "execution_count": 8,
   "metadata": {},
   "outputs": [
    {
     "data": {
      "image/png": "[encoded data removed]",
      "text/plain": [
       "<Figure size 432x288 with 1 Axes>"
      ]
     },
     "metadata": {
      "needs_background": "light"
     },
     "output_type": "display_data"
    },
    {
     "data": {
      "image/png": "[encoded data removed]",
      "text/plain": [
       "<Figure size 432x288 with 1 Axes>"
      ]
     },
     "metadata": {
      "needs_background": "light"
     },
     "output_type": "display_data"
    },
    {
     "data": {
      "image/png": "[encoded data removed]",
      "text/plain": [
       "<Figure size 432x288 with 1 Axes>"
      ]
     },
     "metadata": {
      "needs_background": "light"
     },
     "output_type": "display_data"
    }
   ],
   "source": [
    "def PlaneFrameElementAxialDiagram(f, L):\n",
    "    x1,x2,y1,y2=0,L,-f[0],f[3]\n",
    "    plt.plot([x1,x2],[0,0])\n",
    "    plt.plot([x1,x2],[y1,y2],'k')\n",
    "    plt.show()\n",
    "\n",
    "PlaneFrameElementAxialDiagram(f1,L1)\n",
    "PlaneFrameElementAxialDiagram(f2,L2)\n",
    "PlaneFrameElementAxialDiagram(f3,L3)\n"
   ]
  },
  {
   "cell_type": "code",
   "execution_count": 9,
   "metadata": {},
   "outputs": [
    {
     "name": "stdout",
     "output_type": "stream",
     "text": [
      "SFD for Element : 1\n"
     ]
    },
    {
     "data": {
      "image/png": "[encoded data removed]",
      "text/plain": [
       "<Figure size 432x288 with 1 Axes>"
      ]
     },
     "metadata": {
      "needs_background": "light"
     },
     "output_type": "display_data"
    },
    {
     "name": "stdout",
     "output_type": "stream",
     "text": [
      "SFD for Element : 2\n"
     ]
    },
    {
     "data": {
      "image/png": "[encoded data removed]",
      "text/plain": [
       "<Figure size 432x288 with 1 Axes>"
      ]
     },
     "metadata": {
      "needs_background": "light"
     },
     "output_type": "display_data"
    },
    {
     "name": "stdout",
     "output_type": "stream",
     "text": [
      "SFD for Element : 3\n"
     ]
    },
    {
     "data": {
      "image/png": "[encoded data removed]",
      "text/plain": [
       "<Figure size 432x288 with 1 Axes>"
      ]
     },
     "metadata": {
      "needs_background": "light"
     },
     "output_type": "display_data"
    }
   ],
   "source": [
    "def PlaneFrameElementShearForceDiagram(f, L,m):\n",
    "    x1,x2,y1,y2=0,L,f[1],-f[4]\n",
    "    plt.plot([x1,x2],[0,0])\n",
    "    plt.plot([x1,x2],[y1,y2],'k')\n",
    "    plt.title(\"SFD\")\n",
    "    print(f\"SFD for Element : {m}\")\n",
    "    plt.show()\n",
    "PlaneFrameElementShearForceDiagram(f1, L1,1)\n",
    "PlaneFrameElementShearForceDiagram(f2, L2,2)\n",
    "PlaneFrameElementShearForceDiagram(f3, L3,3)\n",
    "\n"
   ]
  },
  {
   "cell_type": "code",
   "execution_count": 10,
   "metadata": {},
   "outputs": [
    {
     "name": "stdout",
     "output_type": "stream",
     "text": [
      "BMD for Element : 1\n"
     ]
    },
    {
     "data": {
      "image/png": "[encoded data removed]",
      "text/plain": [
       "<Figure size 432x288 with 1 Axes>"
      ]
     },
     "metadata": {
      "needs_background": "light"
     },
     "output_type": "display_data"
    },
    {
     "name": "stdout",
     "output_type": "stream",
     "text": [
      "BMD for Element : 2\n"
     ]
    },
    {
     "data": {
      "image/png": "[encoded data removed]",
      "text/plain": [
       "<Figure size 432x288 with 1 Axes>"
      ]
     },
     "metadata": {
      "needs_background": "light"
     },
     "output_type": "display_data"
    },
    {
     "name": "stdout",
     "output_type": "stream",
     "text": [
      "BMD for Element : 3\n"
     ]
    },
    {
     "data": {
      "image/png": "[encoded data removed]",
      "text/plain": [
       "<Figure size 432x288 with 1 Axes>"
      ]
     },
     "metadata": {
      "needs_background": "light"
     },
     "output_type": "display_data"
    }
   ],
   "source": [
    "def PlaneFrameElementBendingMomentDiagram(f, L,m):\n",
    "    x1,x2,y1,y2=0,L,-f[2],f[5]\n",
    "    plt.plot([x1,x2],[0,0])\n",
    "    plt.plot([x1,x2],[y1,y2],'k')\n",
    "    plt.title(\"BMD\")\n",
    "    print(f\"BMD for Element : {m}\")\n",
    "    plt.show()\n",
    "\n",
    "PlaneFrameElementBendingMomentDiagram(f1, L1,1)\n",
    "PlaneFrameElementBendingMomentDiagram(f2, L2,2)\n",
    "PlaneFrameElementBendingMomentDiagram(f3, L3,3)"
   ]
  }
 ],
 "metadata": {
  "interpreter": {
   "hash": "792d82fdb7acbc3207629a777f5104b0f8ddf6f9498b10b1b9424d0026d068e7"
  },
  "kernelspec": {
   "display_name": "Python 3.8.8 64-bit ('base': conda)",
   "name": "python3"
  },
  "language_info": {
   "codemirror_mode": {
    "name": "ipython",
    "version": 3
   },
   "file_extension": ".py",
   "mimetype": "text/x-python",
   "name": "python",
   "nbconvert_exporter": "python",
   "pygments_lexer": "ipython3",
   "version": "3.8.8"
  },
  "orig_nbformat": 4
 },
 "nbformat": 4,
 "nbformat_minor": 2
}
