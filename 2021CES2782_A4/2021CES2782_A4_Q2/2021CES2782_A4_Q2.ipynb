{
 "cells": [
  {
   "cell_type": "markdown",
   "metadata": {},
   "source": [
    "Question 2. For the plane frame shown in figure 2, determine the following. Obtain results\n",
    "at E = 200 GPa, A= 4 x 10-2 m2, I = 1 x 10-6 m4, w = 8 kN/m, L1=2 m, L2=4 m, L3=3 m.\n",
    "1. Global stiffness matrix for the structure.\n",
    "2. Displacements and rotation at node 2.\n",
    "3. Reactions at nodes 1 and 3.\n",
    "4. Axial force, shear force, and bending moment in each element.\n",
    "5. Axial force, shear force, and bending moment diagrams for each element."
   ]
  },
  {
   "cell_type": "code",
   "execution_count": 1,
   "metadata": {},
   "outputs": [
    {
     "data": {
      "image/png": "[encoded data removed]",
      "text/plain": [
       "<Figure size 432x288 with 1 Axes>"
      ]
     },
     "metadata": {
      "needs_background": "light"
     },
     "output_type": "display_data"
    }
   ],
   "source": [
    "import numpy as np\n",
    "import matplotlib.pyplot as plt\n",
    "import matplotlib.image as mpimg\n",
    "img=mpimg.imread('Q2.png')\n",
    "imgplot = plt.imshow(img)"
   ]
  },
  {
   "cell_type": "code",
   "execution_count": 2,
   "metadata": {},
   "outputs": [],
   "source": [
    "\n",
    "#E=200e6     #A=4e-2     #I=1e-6\n",
    "#w=8         #L_1=2      #L2=4\n",
    "#L_3=3\n",
    "E=float(input(\"Enter Young's Modulus in KN/m^2\"))\n",
    "A=float(input(\"Enter Area in m^2\"))\n",
    "I=float(input(\"Enter Moment of inertia in m^4\"))\n",
    "w=float(input(\"Enter value of UDL in KN/m\"))\n",
    "L_1=float(input(\"Enter Length L1 in m\"))\n",
    "L2=float(input(\"Enter Length L2 in m\"))\n",
    "L_3=float(input(\"Enter Length L3 in m\"))\n",
    "L1=np.sqrt(L_1**2+L_3**2)\n",
    "theta1=360-np.arctan(L_3/L_1)*180/np.pi\n",
    "theta2=0"
   ]
  },
  {
   "cell_type": "code",
   "execution_count": 3,
   "metadata": {},
   "outputs": [],
   "source": [
    "def PlaneFrameElementStiffness(E,A,I,L,theta):\n",
    "    x = theta*np.pi/180\n",
    "    C = np.cos(x)\n",
    "    S = np.sin(x)\n",
    "    w1 = A*C*C + 12*I*S*S/(L*L)\n",
    "    w2 = A*S*S + 12*I*C*C/(L*L)\n",
    "    w3 = (A-12*I/(L*L))*C*S\n",
    "    w4 = 6*I*S/L\n",
    "    w5 = 6*I*C/L\n",
    "    return E/L*np.array([[w1, w3, -w4, -w1, -w3, -w4],\n",
    "                    [w3, w2, w5, -w3, -w2, w5],\n",
    "                    [-w4, w5, 4*I, w4, -w5, 2*I], \n",
    "                    [-w1, -w3, w4, w1, w3, w4],\n",
    "                    [-w3, -w2, -w5, w3, w2, -w5], \n",
    "                    [-w4, w5, 2*I, w4, -w5, 4*I]])\n",
    "\n",
    "k1=PlaneFrameElementStiffness(E,A,I,L1,theta1)\n",
    "k2=PlaneFrameElementStiffness(E,A,I,L2,theta2)"
   ]
  },
  {
   "cell_type": "code",
   "execution_count": 4,
   "metadata": {},
   "outputs": [
    {
     "name": "stdout",
     "output_type": "stream",
     "text": [
      "Global Stiffness Matrix :\n",
      "[[ 6.82743382e+05 -1.02403827e+06  7.68046426e+01 -6.82743382e+05\n",
      "   1.02403827e+06  7.68046426e+01  0.00000000e+00  0.00000000e+00\n",
      "   0.00000000e+00]\n",
      " [-1.02403827e+06  1.53610861e+06  5.12030950e+01  1.02403827e+06\n",
      "  -1.53610861e+06  5.12030950e+01  0.00000000e+00  0.00000000e+00\n",
      "   0.00000000e+00]\n",
      " [ 7.68046426e+01  5.12030950e+01  2.21880078e+02 -7.68046426e+01\n",
      "  -5.12030950e+01  1.10940039e+02  0.00000000e+00  0.00000000e+00\n",
      "   0.00000000e+00]\n",
      " [-6.82743382e+05  1.02403827e+06 -7.68046426e+01  2.68274338e+06\n",
      "  -1.02403827e+06 -7.68046426e+01 -2.00000000e+06  0.00000000e+00\n",
      "   0.00000000e+00]\n",
      " [ 1.02403827e+06 -1.53610861e+06 -5.12030950e+01 -1.02403827e+06\n",
      "   1.53614611e+06  2.37969050e+01  0.00000000e+00 -3.75000000e+01\n",
      "   7.50000000e+01]\n",
      " [ 7.68046426e+01  5.12030950e+01  1.10940039e+02 -7.68046426e+01\n",
      "   2.37969050e+01  4.21880078e+02  0.00000000e+00 -7.50000000e+01\n",
      "   1.00000000e+02]\n",
      " [ 0.00000000e+00  0.00000000e+00  0.00000000e+00 -2.00000000e+06\n",
      "   0.00000000e+00  0.00000000e+00  2.00000000e+06  0.00000000e+00\n",
      "   0.00000000e+00]\n",
      " [ 0.00000000e+00  0.00000000e+00  0.00000000e+00  0.00000000e+00\n",
      "  -3.75000000e+01 -7.50000000e+01  0.00000000e+00  3.75000000e+01\n",
      "  -7.50000000e+01]\n",
      " [ 0.00000000e+00  0.00000000e+00  0.00000000e+00  0.00000000e+00\n",
      "   7.50000000e+01  1.00000000e+02  0.00000000e+00 -7.50000000e+01\n",
      "   2.00000000e+02]]\n"
     ]
    }
   ],
   "source": [
    "def PlaneFrameAssemble(K,k,i,j):\n",
    "    K[3*i-3,3*i-3] += k[0,0]\n",
    "    K[3*i-3,3*i-2] += k[0,1]\n",
    "    K[3*i-3,3*i-1] += k[0,2]\n",
    "    K[3*i-3,3*j-3] += k[0,3]\n",
    "    K[3*i-3,3*j-2] += k[0,4]\n",
    "    K[3*i-3,3*j-1] += k[0,5]\n",
    "    K[3*i-2,3*i-3] += k[1,0]\n",
    "    K[3*i-2,3*i-2] += k[1,1]\n",
    "    K[3*i-2,3*i-1] += k[1,2]\n",
    "    K[3*i-2,3*j-3] += k[1,3]\n",
    "    K[3*i-2,3*j-2] += k[1,4]\n",
    "    K[3*i-2,3*j-1] += k[1,5]\n",
    "    K[3*i-1,3*i-3] += k[2,0]\n",
    "    K[3*i-1,3*i-2] += k[2,1]\n",
    "    K[3*i-1,3*i-1] += k[2,2]\n",
    "    K[3*i-1,3*j-3] += k[2,3]\n",
    "    K[3*i-1,3*j-2] += k[2,4]\n",
    "    K[3*i-1,3*j-1] += k[2,5]\n",
    "    K[3*j-3,3*i-3] += k[3,0]\n",
    "    K[3*j-3,3*i-2] += k[3,1]\n",
    "    K[3*j-3,3*i-1] += k[3,2]\n",
    "    K[3*j-3,3*j-3] += k[3,3]\n",
    "    K[3*j-3,3*j-2] += k[3,4]\n",
    "    K[3*j-3,3*j-1] += k[3,5]\n",
    "    K[3*j-2,3*i-3] += k[4,0]\n",
    "    K[3*j-2,3*i-2] += k[4,1]\n",
    "    K[3*j-2,3*i-1] += k[4,2]\n",
    "    K[3*j-2,3*j-3] += k[4,3]\n",
    "    K[3*j-2,3*j-2] += k[4,4]\n",
    "    K[3*j-2,3*j-1] += k[4,5]\n",
    "    K[3*j-1,3*i-3] += k[5,0]\n",
    "    K[3*j-1,3*i-2] += k[5,1]\n",
    "    K[3*j-1,3*i-1] += k[5,2]\n",
    "    K[3*j-1,3*j-3] += k[5,3]\n",
    "    K[3*j-1,3*j-2] += k[5,4]\n",
    "    K[3*j-1,3*j-1] += k[5,5]\n",
    "    return K\n",
    "\n",
    "K=np.zeros((9,9))\n",
    "K=PlaneFrameAssemble(K,k1,1,2)\n",
    "K=PlaneFrameAssemble(K,k2,2,3)\n",
    "print(f\"Global Stiffness Matrix :\\n{K}\")"
   ]
  },
  {
   "cell_type": "code",
   "execution_count": 5,
   "metadata": {},
   "outputs": [
    {
     "name": "stdout",
     "output_type": "stream",
     "text": [
      "Horizontal displacement at node 2 :[-6.10316323e-06] meter\n",
      "vertical displacement at node 2 :[-1.40925349e-05] meter\n",
      "Rotation at node 2 :[-0.02528396] rad\n"
     ]
    }
   ],
   "source": [
    "k=K[3:6,3:6]\n",
    "f=[[0],[-w*L2/2],[-w*(L2**2)/12]]\n",
    "u=np.linalg.inv(k).dot(f)\n",
    "print(f\"Horizontal displacement at node 2 :{u[0]} meter\")\n",
    "print(f\"vertical displacement at node 2 :{u[1]} meter\")\n",
    "print(f\"Rotation at node 2 :{u[2]} rad\")"
   ]
  },
  {
   "cell_type": "code",
   "execution_count": 6,
   "metadata": {},
   "outputs": [
    {
     "name": "stdout",
     "output_type": "stream",
     "text": [
      "Horizontal Reaction at node 1 : [-12.20632646] KN\n",
      "Vertical Reaction at node 1 : [14.10317435] KN\n",
      "Moment at node 1 : [-2.80381345] KN-m\n",
      "Horizontal Reaction at node 3 : [12.20632646] KN\n",
      "Vertical Reaction at node 3 : [1.89682565] KN\n",
      "Moment at node 3 : [-2.52945318] KN-m\n"
     ]
    }
   ],
   "source": [
    "U=np.zeros((9,1))\n",
    "U[3:6]=u[0:3]\n",
    "F=K.dot(U)\n",
    "print(f\"Horizontal Reaction at node 1 : {F[0]} KN\")\n",
    "print(f\"Vertical Reaction at node 1 : {F[1]} KN\")\n",
    "print(f\"Moment at node 1 : {F[2]} KN-m\")\n",
    "print(f\"Horizontal Reaction at node 3 : {F[6]} KN\")\n",
    "print(f\"Vertical Reaction at node 3 : {F[7]} KN\")\n",
    "print(f\"Moment at node 3 : {F[8]} KN-m\")"
   ]
  },
  {
   "cell_type": "code",
   "execution_count": 7,
   "metadata": {},
   "outputs": [
    {
     "name": "stdout",
     "output_type": "stream",
     "text": [
      "Forces in element 1\n",
      "Axial force at i:[-18.50540205]\n",
      "Shear force at i:[-2.33324395]\n",
      "Moment at i:[-2.80381345]\n",
      "Axial force at j:[18.50540205]\n",
      "Shear force at j:[2.33324395]\n",
      "Moment  at j:[-5.60881724]\n",
      "\n",
      "Forces in element 2\n",
      "Axial force at i:[-12.20632646]\n",
      "Shear force at i:[-1.89682565]\n",
      "Moment at i:[-5.05784943]\n",
      "Axial force at j:[12.20632646]\n",
      "Shear force at j:[1.89682565]\n",
      "Moment  at j:[-2.52945318]\n",
      "\n"
     ]
    }
   ],
   "source": [
    "def PlaneFrameElementForces(E,A,I,L,theta,u):\n",
    "    x = theta * np.pi/180\n",
    "    C = np.cos(x)\n",
    "    S = np.sin(x)\n",
    "    w1 = E*A/L\n",
    "    w2 = 12*E*I/(L*L*L)\n",
    "    w3 = 6*E*I/(L*L)\n",
    "    w4 = 4*E*I/L\n",
    "    w5 = 2*E*I/L\n",
    "    kprime = np.array([[w1, 0, 0, -w1, 0, 0],[0, w2, w3, 0, -w2, w3],[0, w3, w4, 0, -w3, w5],\n",
    "                     [-w1, 0, 0, w1, 0, 0],[0, -w2, -w3, 0, w2, -w3],[0, w3, w5, 0, -w3, w4]])\n",
    "    T = [C, S, 0, 0, 0, 0],[-S, C, 0, 0, 0, 0],[0, 0, 1, 0, 0, 0],[0, 0, 0, C, S, 0],[0, 0, 0, -S, C, 0],[0, 0, 0, 0, 0, 1]\n",
    "    return kprime.dot(T).dot(u)\n",
    "\n",
    "u1=[U[0],U[1],U[2],U[3],U[4],U[5]]\n",
    "u2=[U[3],U[4],U[5],U[6],U[7],U[8]]\n",
    "f1=PlaneFrameElementForces(E,A,I,L1,theta1,u1)\n",
    "f2=PlaneFrameElementForces(E,A,I,L2,theta2,u2)\n",
    "f2_c=f2-[[0],[-w*L2/2],[-w*(L2**2)/12],[0],[-w*L2/2],[w*(L2**2)/12]]\n",
    "def forcedata(f):\n",
    "    for i in range(0,6):\n",
    "        if i==0:\n",
    "            print(f\"Axial force at i:{f[0]}\")\n",
    "        elif i==1:\n",
    "            print(f\"Shear force at i:{f[1]}\")\n",
    "        elif i==2:\n",
    "            print(f\"Moment at i:{f[2]}\")\n",
    "        elif i==3:\n",
    "            print(f\"Axial force at j:{f[3]}\")\n",
    "        elif i==4:\n",
    "            print(f\"Shear force at j:{f[4]}\")\n",
    "        else :\n",
    "            print(f\"Moment  at j:{f[5]}\")\n",
    "    return \"\"\n",
    "print(\"Forces in element 1\")       \n",
    "print(forcedata(f1))\n",
    "print(\"Forces in element 2\")\n",
    "print(forcedata(f2))\n"
   ]
  },
  {
   "cell_type": "code",
   "execution_count": 11,
   "metadata": {},
   "outputs": [
    {
     "name": "stdout",
     "output_type": "stream",
     "text": [
      "Axial Force Diagram for member 1:\n"
     ]
    },
    {
     "data": {
      "image/png": "[encoded data removed]",
      "text/plain": [
       "<Figure size 432x288 with 1 Axes>"
      ]
     },
     "metadata": {
      "needs_background": "light"
     },
     "output_type": "display_data"
    },
    {
     "name": "stdout",
     "output_type": "stream",
     "text": [
      "Axial Force Diagram for member 2:\n"
     ]
    },
    {
     "data": {
      "image/png": "[encoded data removed]",
      "text/plain": [
       "<Figure size 432x288 with 1 Axes>"
      ]
     },
     "metadata": {
      "needs_background": "light"
     },
     "output_type": "display_data"
    }
   ],
   "source": [
    "def PlaneFrameElementAxialDiagram(f, L):\n",
    "    x1,x2,y1,y2=0,L,-f[0],f[3]\n",
    "    plt.plot([x1,x2],[0,0])\n",
    "    plt.plot([x1,x2],[y1,y2],'k')\n",
    "    plt.title(\"AFD\")\n",
    "    plt.show()\n",
    "print(\"Axial Force Diagram for member 1:\")\n",
    "PlaneFrameElementAxialDiagram(f1,L1)\n",
    "print(\"Axial Force Diagram for member 2:\")\n",
    "PlaneFrameElementAxialDiagram(f2_c,L2)\n"
   ]
  },
  {
   "cell_type": "code",
   "execution_count": 9,
   "metadata": {},
   "outputs": [
    {
     "name": "stdout",
     "output_type": "stream",
     "text": [
      "SFD for Element : 1\n"
     ]
    },
    {
     "data": {
      "image/png": "[encoded data removed]",
      "text/plain": [
       "<Figure size 432x288 with 1 Axes>"
      ]
     },
     "metadata": {
      "needs_background": "light"
     },
     "output_type": "display_data"
    },
    {
     "name": "stdout",
     "output_type": "stream",
     "text": [
      "SFD for Element : 2\n"
     ]
    },
    {
     "data": {
      "image/png": "[encoded data removed]",
      "text/plain": [
       "<Figure size 432x288 with 1 Axes>"
      ]
     },
     "metadata": {
      "needs_background": "light"
     },
     "output_type": "display_data"
    }
   ],
   "source": [
    "def PlaneFrameElementShearForceDiagram(f, L,m):\n",
    "    x1,x2,y1,y2=0,L,f[1],-f[4]\n",
    "    plt.plot([x1,x2],[0,0])\n",
    "    plt.plot([x1,x2],[y1,y2],'k')\n",
    "    plt.title(\"SFD\")\n",
    "    print(f\"SFD for Element : {m}\")\n",
    "    plt.show()\n",
    "PlaneFrameElementShearForceDiagram(f1,L1,1)\n",
    "PlaneFrameElementShearForceDiagram(f2_c,L2,2)"
   ]
  },
  {
   "cell_type": "code",
   "execution_count": 10,
   "metadata": {},
   "outputs": [
    {
     "name": "stdout",
     "output_type": "stream",
     "text": [
      "BMD for Element : 1\n"
     ]
    },
    {
     "data": {
      "image/png": "[encoded data removed]",
      "text/plain": [
       "<Figure size 432x288 with 1 Axes>"
      ]
     },
     "metadata": {
      "needs_background": "light"
     },
     "output_type": "display_data"
    },
    {
     "name": "stdout",
     "output_type": "stream",
     "text": [
      "BMD for Element : 2\n"
     ]
    },
    {
     "data": {
      "image/png": "[encoded data removed]",
      "text/plain": [
       "<Figure size 432x288 with 1 Axes>"
      ]
     },
     "metadata": {
      "needs_background": "light"
     },
     "output_type": "display_data"
    }
   ],
   "source": [
    "def PlaneFrameElementBendingMomentDiagram(f, L,m):\n",
    "    x1,x2,y1,y2=0,L,-f[2],f[5]\n",
    "    plt.plot([x1,x2],[0,0])\n",
    "    plt.plot([x1,x2],[y1,y2],'k')\n",
    "    plt.title(\"BMD\")\n",
    "    print(f\"BMD for Element : {m}\")\n",
    "    plt.show()\n",
    "\n",
    "PlaneFrameElementBendingMomentDiagram(f1, L1,1)\n",
    "PlaneFrameElementBendingMomentDiagram(f2_c, L2,2)"
   ]
  }
 ],
 "metadata": {
  "interpreter": {
   "hash": "792d82fdb7acbc3207629a777f5104b0f8ddf6f9498b10b1b9424d0026d068e7"
  },
  "kernelspec": {
   "display_name": "Python 3.8.8 64-bit ('base': conda)",
   "name": "python3"
  },
  "language_info": {
   "codemirror_mode": {
    "name": "ipython",
    "version": 3
   },
   "file_extension": ".py",
   "mimetype": "text/x-python",
   "name": "python",
   "nbconvert_exporter": "python",
   "pygments_lexer": "ipython3",
   "version": "3.8.8"
  },
  "orig_nbformat": 4
 },
 "nbformat": 4,
 "nbformat_minor": 2
}
