{
 "cells": [
  {
   "cell_type": "code",
   "execution_count": 32,
   "metadata": {},
   "outputs": [
    {
     "data": {
      "text/latex": [
       "$\\displaystyle K_{TS} (kN/mm^2)=\\left[\\begin{matrix}3461.53846153846 & -1875.0 & -2019.23076923077 & 865.384615384615 & 0.0 & 0.0 & -1442.30769230769 & 1009.61538461538\\\\-1875.0 & 6274.03846153846 & 1009.61538461538 & -5769.23076923077 & 0.0 & 0.0 & 865.384615384615 & -504.807692307692\\\\-2019.23076923077 & 1009.61538461538 & 3461.53846153846 & 0.0 & -1442.30769230769 & 865.384615384615 & 0.0 & -1875.0\\\\865.384615384615 & -5769.23076923077 & 0.0 & 6274.03846153846 & 1009.61538461538 & -504.807692307692 & -1875.0 & 0.0\\\\0.0 & 0.0 & -1442.30769230769 & 1009.61538461538 & 3461.53846153846 & -1875.0 & -2019.23076923077 & 865.384615384615\\\\0.0 & 0.0 & 865.384615384615 & -504.807692307692 & -1875.0 & 6274.03846153846 & 1009.61538461538 & -5769.23076923077\\\\-1442.30769230769 & 865.384615384615 & 0.0 & -1875.0 & -2019.23076923077 & 1009.61538461538 & 3461.53846153846 & 0.0\\\\1009.61538461538 & -504.807692307692 & -1875.0 & 0.0 & 865.384615384615 & -5769.23076923077 & 0.0 & 6274.03846153846\\end{matrix}\\right]$"
      ],
      "text/plain": [
       "<IPython.core.display.Math object>"
      ]
     },
     "metadata": {},
     "output_type": "display_data"
    },
    {
     "data": {
      "text/latex": [
       "$\\displaystyle Displacements\\space at \\space free\\space ends: u_{p}(mm)=\\left[\\begin{matrix}0.00711111746540089\\\\0.00111517785657096\\\\0.00653122497998399\\\\4.4607114262833 \\cdot 10^{-5}\\end{matrix}\\right]$"
      ],
      "text/plain": [
       "<IPython.core.display.Math object>"
      ]
     },
     "metadata": {},
     "output_type": "display_data"
    },
    {
     "data": {
      "text/latex": [
       "$\\displaystyle Reactions: \n",
       " X (kN)=\\left[\\begin{matrix}-9.37500000000001\\\\5.62950360288231\\\\-9.37499999999999\\\\-5.62950360288231\\end{matrix}\\right]$"
      ],
      "text/plain": [
       "<IPython.core.display.Math object>"
      ]
     },
     "metadata": {},
     "output_type": "display_data"
    }
   ],
   "source": [
    "import numpy as np\n",
    "import math\n",
    "from IPython.display import display, Math\n",
    "import sympy as sym\n",
    "\n",
    "e=210     #GPa\n",
    "v=0.3\n",
    "t=25           #mm\n",
    "# Element 1\n",
    "#Numbering: 1,2,3=node 4, node 1, node 3\n",
    "x2=500\n",
    "x3=0\n",
    "y3=-250\n",
    "B=np.array([[-1/x2,0,1/x2,0,0,0],[0,(x3-x2)/(x2*y3),0,-x3/(x2*y3),0,1/y3],[(x3-x2)/(x2*y3),-1/x2,-x3/(x2*y3),1/x2,1/y3,0]])\n",
    "E=(e/(1-v**2))*np.array([[1,v,0],[v,1,0],[0,0,(1-v)/2]])\n",
    "V=t*500*250/2      #Volume\n",
    "k1=V*np.linalg.multi_dot([np.transpose(B),E,B])\n",
    "#Element 2\n",
    "\n",
    "X2=500\n",
    "X3=500\n",
    "Y3=250\n",
    "\n",
    "B2=np.array([[-1/X2,0,1/X2,0,0,0],[0,(X3-X2)/(X2*Y3),0,-X3/(X2*Y3),0,1/Y3],[(X3-X2)/(X2*X3),-1/X2,-X3/(X2*Y3),1/X2,1/Y3,0]])\n",
    "k2=V*np.linalg.multi_dot([np.transpose(B2),E,B2])\n",
    "\n",
    "\n",
    "Kts=np.zeros([8,8])\n",
    "# Overwrite Kts in such a manner that it can be partitioned into Kpp,Kpx,etc\n",
    "\n",
    "#Marking nodes 1,2,3,4 as 4,1,2,3\n",
    "\n",
    "A1=[5,6,3,4,7,8]\n",
    "for i in range(6):\n",
    "    for j in range(6):\n",
    "        Kts[A1[i]-1,A1[j]-1]+=k1[i][j]\n",
    "        \n",
    "A2=[7,8,1,2,3,4]\n",
    "for i in range(6):\n",
    "    for j in range(6):\n",
    "        Kts[A2[i]-1,A2[j]-1]+=k2[i][j]\n",
    "        \n",
    "#units of elements in Kts are kN/mm2\n",
    "#displacements\n",
    "P=np.array([[9.375],[0],[9.375],[0]])\n",
    "\n",
    "# print(Kts)\n",
    "display(Math('K_{TS} (kN/mm^2)=%s'%(sym.latex(sym.sympify(Kts)))))\n",
    "# print(D)\n",
    "Kpp=Kts[0:4,0:4]\n",
    "Ikpp=np.linalg.inv(Kpp)\n",
    "up=np.matmul(Ikpp,P) #in mm\n",
    "display(Math('Displacements\\\\space at \\\\space free\\\\space ends: u_{p}(mm)=%s'%(sym.latex(sym.sympify(up)))))\n",
    "Kxp=Kts[4:8,0:4]\n",
    "X=np.matmul(Kxp,up)\n",
    "display(Math('Reactions: \\n X (kN)=%s'%(sym.latex(sym.sympify(X)))))\n"
   ]
  },
  {
   "cell_type": "code",
   "execution_count": null,
   "metadata": {},
   "outputs": [],
   "source": []
  }
 ],
 "metadata": {
  "kernelspec": {
   "display_name": "Python 3",
   "language": "python",
   "name": "python3"
  },
  "language_info": {
   "codemirror_mode": {
    "name": "ipython",
    "version": 3
   },
   "file_extension": ".py",
   "mimetype": "text/x-python",
   "name": "python",
   "nbconvert_exporter": "python",
   "pygments_lexer": "ipython3",
   "version": "3.7.6"
  }
 },
 "nbformat": 4,
 "nbformat_minor": 4
}
