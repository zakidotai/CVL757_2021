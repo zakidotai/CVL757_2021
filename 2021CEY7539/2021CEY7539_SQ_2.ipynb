{
 "cells": [
  {
   "cell_type": "code",
   "execution_count": 9,
   "metadata": {},
   "outputs": [
    {
     "data": {
      "text/latex": [
       "$\\displaystyle K_{TS} (kN/mm^2)=\\left[\\begin{matrix}3461.53846153846 & -1875.0 & -288.461538461538 & -72.1153846153845 & -3461.53846153846 & 1875.0 & 288.461538461538 & 72.1153846153845 & 0.0 & 0.0\\\\-1875.0 & 6274.03846153846 & 72.1153846153845 & -2632.21153846154 & 1875.0 & -6274.03846153846 & -72.1153846153845 & 2632.21153846154 & 0.0 & 0.0\\\\-288.461538461538 & 72.1153846153845 & 3461.53846153846 & 1875.0 & -3461.53846153846 & -1875.0 & 0.0 & 0.0 & 288.461538461538 & -72.1153846153845\\\\-72.1153846153845 & -2632.21153846154 & 1875.0 & 6274.03846153846 & -1875.0 & -6274.03846153846 & 0.0 & 0.0 & 72.1153846153845 & 2632.21153846154\\\\-3461.53846153846 & 1875.0 & -3461.53846153846 & -1875.0 & 13846.1538461538 & 0.0 & -3461.53846153846 & -1875.0 & -3461.53846153846 & 1875.0\\\\1875.0 & -6274.03846153846 & -1875.0 & -6274.03846153846 & 0.0 & 25096.1538461538 & -1875.0 & -6274.03846153846 & 1875.0 & -6274.03846153846\\\\288.461538461538 & -72.1153846153845 & 0.0 & 0.0 & -3461.53846153846 & -1875.0 & 3461.53846153846 & 1875.0 & -288.461538461538 & 72.1153846153845\\\\72.1153846153845 & 2632.21153846154 & 0.0 & 0.0 & -1875.0 & -6274.03846153846 & 1875.0 & 6274.03846153846 & -72.1153846153845 & -2632.21153846154\\\\0.0 & 0.0 & 288.461538461538 & 72.1153846153845 & -3461.53846153846 & 1875.0 & -288.461538461538 & -72.1153846153845 & 3461.53846153846 & -1875.0\\\\0.0 & 0.0 & -72.1153846153845 & 2632.21153846154 & 1875.0 & -6274.03846153846 & 72.1153846153845 & -2632.21153846154 & -1875.0 & 6274.03846153846\\end{matrix}\\right]$"
      ],
      "text/plain": [
       "<IPython.core.display.Math object>"
      ]
     },
     "metadata": {},
     "output_type": "display_data"
    },
    {
     "data": {
      "text/latex": [
       "$\\displaystyle Displacements\\space at \\space free\\space ends: u_{p}(mm)=\\left[\\begin{matrix}0.00692834261307299\\\\0.000713904355121655\\\\0.00692834261307299\\\\-0.000713904355121651\\\\0.00327082221035772\\\\8.67361737988404 \\cdot 10^{-19}\\end{matrix}\\right]$"
      ],
      "text/plain": [
       "<IPython.core.display.Math object>"
      ]
     },
     "metadata": {},
     "output_type": "display_data"
    },
    {
     "data": {
      "text/latex": [
       "$\\displaystyle Reactions: \n",
       " X (kN)=\\left[\\begin{matrix}-9.37500000000001\\\\-3.75400427122264\\\\-9.375\\\\3.75400427122264\\end{matrix}\\right]$"
      ],
      "text/plain": [
       "<IPython.core.display.Math object>"
      ]
     },
     "metadata": {},
     "output_type": "display_data"
    }
   ],
   "source": [
    "import numpy as np\n",
    "import math\n",
    "from IPython.display import display, Math\n",
    "import sympy as sym\n",
    "\n",
    "e=210     #GPa\n",
    "v=0.3\n",
    "t=25  #mm\n",
    "\n",
    "#Element 1\n",
    "x2_1=500\n",
    "x3_1=250\n",
    "y3_1=125\n",
    "\n",
    "B1=np.array([[-1/x2_1,0,1/x2_1,0,0,0],[0,(x3_1-x2_1)/(x2_1*y3_1),0,-x3_1/(x2_1*y3_1),0,1/y3_1],[(x3_1-x2_1)/(x2_1*y3_1),-1/x2_1,-x3_1/(x2_1*y3_1),1/x2_1,1/y3_1,0]])\n",
    "E=(e/(1-v**2))*np.array([[1,v,0],[v,1,0],[0,0,(1-v)/2]])\n",
    "V1=t*500*125/2\n",
    "k1=V1*np.linalg.multi_dot([np.transpose(B1),E,B1])\n",
    "\n",
    "#Element 2\n",
    "x2_2=-250\n",
    "x3_2=-125\n",
    "y3_2=-250\n",
    "\n",
    "B2=np.array([[-1/x2_2,0,1/x2_2,0,0,0],[0,(x3_2-x2_2)/(x2_2*y3_2),0,-x3_2/(x2_2*y3_2),0,1/y3_2],[(x3_2-x2_2)/(x2_2*y3_2),-1/x2_2,-x3_2/(x2_2*y3_2),1/x2_2,1/y3_2,0]])\n",
    "V2=t*250*250/2\n",
    "k2=V2*np.linalg.multi_dot([np.transpose(B2),E,B2])\n",
    "\n",
    "#Element 3\n",
    "x2_3=500\n",
    "x3_3=250\n",
    "y3_3=-125\n",
    "\n",
    "B3=np.array([[-1/x2_3,0,1/x2_3,0,0,0],[0,(x3_3-x2_3)/(x2_3*y3_3),0,-x3_3/(x2_3*y3_3),0,1/y3_3],[(x3_3-x2_3)/(x2_3*y3_3),-1/x2_3,-x3_3/(x2_3*y3_3),1/x2_3,1/y3_3,0]])\n",
    "V3=t*500*125/2\n",
    "k3=V3*np.linalg.multi_dot([np.transpose(B3),E,B3])\n",
    "\n",
    "#Element 4\n",
    "x2_4=-250\n",
    "x3_4=-125\n",
    "y3_4=250\n",
    "\n",
    "B4=np.array([[-1/x2_4,0,1/x2_4,0,0,0],[0,(x3_4-x2_4)/(x2_4*y3_4),0,-x3_4/(x2_4*y3_4),0,1/y3_4],[(x3_4-x2_4)/(x2_4*y3_4),-1/x2_4,-x3_4/(x2_4*y3_4),1/x2_4,1/y3_4,0]])\n",
    "V4=t*250*250/2\n",
    "k4=V4*np.linalg.multi_dot([np.transpose(B4),E,B4])\n",
    "\n",
    "\n",
    "#Global stiffness matrix\n",
    "Kts=np.zeros([10,10])\n",
    "#Association matrices and stiffness matrices concatenated\n",
    "As=np.array([[7,8,1,2,5,6],[4,3,2,1,6,5],[9,10,3,4,5,6],[10,9,8,7,6,5]])\n",
    "Kg=np.array([k1,k2,k3,k4])\n",
    "\n",
    "for i in range(4):                              # for 9 elements\n",
    "    for j in range(6):                          # both 4s for member dofs\n",
    "        for k in range(6):\n",
    "            Kts[As[i][j]-1][As[i][k]-1]+=Kg[i][j][k]\n",
    "\n",
    "display(Math('K_{TS} (kN/mm^2)=%s'%(sym.latex(sym.sympify(Kts)))))\n",
    "#Force vector and Kpp, Kxp\n",
    "\n",
    "P=np.array([[9.375],[0],[9.375],[0],[0],[0]])\n",
    "Kpp=Kts[0:6,0:6]\n",
    "Kxp=Kts[6:10,0:6]\n",
    "\n",
    "#Displacements and reactions\n",
    "\n",
    "Ikpp=np.linalg.inv(Kpp)\n",
    "up=np.matmul(Ikpp,P) #in mm\n",
    "display(Math('Displacements\\\\space at \\\\space free\\\\space ends: u_{p}(mm)=%s'%(sym.latex(sym.sympify(up)))))\n",
    "\n",
    "X=np.matmul(Kxp,up)\n",
    "display(Math('Reactions: \\n X (kN)=%s'%(sym.latex(sym.sympify(X)))))"
   ]
  },
  {
   "cell_type": "code",
   "execution_count": null,
   "metadata": {},
   "outputs": [],
   "source": []
  }
 ],
 "metadata": {
  "kernelspec": {
   "display_name": "Python 3",
   "language": "python",
   "name": "python3"
  },
  "language_info": {
   "codemirror_mode": {
    "name": "ipython",
    "version": 3
   },
   "file_extension": ".py",
   "mimetype": "text/x-python",
   "name": "python",
   "nbconvert_exporter": "python",
   "pygments_lexer": "ipython3",
   "version": "3.7.6"
  }
 },
 "nbformat": 4,
 "nbformat_minor": 4
}
