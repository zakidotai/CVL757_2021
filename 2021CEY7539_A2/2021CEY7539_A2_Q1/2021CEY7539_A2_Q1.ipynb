{
 "cells": [
  {
   "cell_type": "code",
   "execution_count": 75,
   "metadata": {},
   "outputs": [],
   "source": [
    "import numpy as np\n",
    "from IPython.display import display, Math\n",
    "import sympy as sym\n",
    "import matplotlib.pyplot as plt"
   ]
  },
  {
   "cell_type": "markdown",
   "metadata": {},
   "source": [
    "# Renumbering the nodes\n",
    "## Nodes 1,2,3 are renumbered as 3,1,2\n",
    "### This allows us the partition the total structure stiffness matrix in a desired manner\n",
    "#### Degrees of freedom at each node are numbered in the following order: Vertical, anticlockwise rotation except at the hinge support where the rotation is numbered first"
   ]
  },
  {
   "cell_type": "code",
   "execution_count": 27,
   "metadata": {},
   "outputs": [
    {
     "data": {
      "text/latex": [
       "$\\displaystyle All\\space distances\\space are\\space in\\space mm\\space and\\space loads\\space in\\space kN.$"
      ],
      "text/plain": [
       "<IPython.core.display.Math object>"
      ]
     },
     "metadata": {},
     "output_type": "display_data"
    },
    {
     "data": {
      "text/latex": [
       "$\\displaystyle Areas\\space are\\space in\\space mm^{2}\\space and\\space so\\space on.$"
      ],
      "text/plain": [
       "<IPython.core.display.Math object>"
      ]
     },
     "metadata": {},
     "output_type": "display_data"
    },
    {
     "name": "stdout",
     "output_type": "stream",
     "text": [
      "Enter the values of L1, L2, P, E (in GPa) and I  in the same order separated by commas\n",
      "2000,2000,20,210,60000000\n"
     ]
    }
   ],
   "source": [
    "display(Math('All\\space distances\\space are\\space in\\space mm\\space and\\space loads\\space in\\space kN.'))\n",
    "display(Math('Areas\\space are\\space in\\space mm^{2}\\space and\\space so\\space on.'))\n",
    "L1,L2,P,E,I=input(\"Enter the values of L1, L2, P, E (in GPa) and I  in the same order separated by commas\\n\").split(',')\n",
    "L1,L2,P,E,I=float(L1),float(L2),float(P),float(E),float(I)"
   ]
  },
  {
   "cell_type": "markdown",
   "metadata": {},
   "source": [
    "# Member stiffness matrices"
   ]
  },
  {
   "cell_type": "code",
   "execution_count": 37,
   "metadata": {},
   "outputs": [
    {
     "data": {
      "text/latex": [
       "$\\displaystyle k_{1}=k_{2}\\space (in\\space kN/mm)=\\left[\\begin{matrix}18.9 & 18900.0 & -18.9 & 18900.0\\\\18900.0 & 25200000.0 & -18900.0 & 12600000.0\\\\-18.9 & -18900.0 & 18.9 & -18900.0\\\\18900.0 & 12600000.0 & -18900.0 & 25200000.0\\end{matrix}\\right]  $"
      ],
      "text/plain": [
       "<IPython.core.display.Math object>"
      ]
     },
     "metadata": {},
     "output_type": "display_data"
    }
   ],
   "source": [
    "# Member 1 (connecting nodes 1 and 2)            #renumbered nodes\n",
    "\n",
    "k1=np.array([[12*E*I/(L2**3),6*E*I/(L2**2),-12*E*I/(L2**3),6*E*I/(L2**2)],[6*E*I/(L2**2),4*E*I/L2,-6*E*I/(L2**2),2*E*I/(L2)],[-12*E*I/(L2**3),-6*E*I/(L2**2),12*E*I/(L2**3),-6*E*I/(L2**2)],[6*E*I/(L2**2),2*E*I/(L2),-6*E*I/(L2**2),4*E*I/(L2)]])\n",
    "        \n",
    "#Association matrix\n",
    "\n",
    "As_1=[1,2,4,3]               #3 comes after 4 to account for the numbering of rotation first at the right end\n",
    "\n",
    "# Member 2 (containing nodes 3 and 1)\n",
    "\n",
    "k2=np.array([[12*E*I/(L1**3),6*E*I/(L1**2),-12*E*I/(L1**3),6*E*I/(L1**2)],[6*E*I/(L1**2),4*E*I/L1,-6*E*I/(L1**2),2*E*I/(L1)],[-12*E*I/(L1**3),-6*E*I/(L1**2),12*E*I/(L1**3),-6*E*I/(L1**2)],[6*E*I/(L1**2),2*E*I/(L1),-6*E*I/(L1**2),4*E*I/(L1)]])\n",
    "\n",
    "As_2=[5,6,1,2]\n",
    "display(Math('k_{1}=k_{2}\\space (in\\space kN/mm)=%s  '%sym.latex(sym.sympify(k1))))"
   ]
  },
  {
   "cell_type": "markdown",
   "metadata": {},
   "source": [
    "# Total structure stiffness matrix (KTS)"
   ]
  },
  {
   "cell_type": "code",
   "execution_count": 39,
   "metadata": {},
   "outputs": [
    {
     "data": {
      "text/latex": [
       "$\\displaystyle K_{TS}\\space(in\\space kN/mm)=\\left[\\begin{matrix}18.9 & 18900.0 & -18.9 & 18900.0 & 0.0 & 0.0\\\\18900.0 & 25200000.0 & -18900.0 & 12600000.0 & 0.0 & 0.0\\\\-18.9 & -18900.0 & 37.8 & 0.0 & 18900.0 & -18.9\\\\18900.0 & 12600000.0 & 0.0 & 50400000.0 & 12600000.0 & -18900.0\\\\0.0 & 0.0 & 18900.0 & 12600000.0 & 25200000.0 & -18900.0\\\\0.0 & 0.0 & -18.9 & -18900.0 & -18900.0 & 18.9\\end{matrix}\\right]$"
      ],
      "text/plain": [
       "<IPython.core.display.Math object>"
      ]
     },
     "metadata": {},
     "output_type": "display_data"
    }
   ],
   "source": [
    "k_com=[k1,k2]\n",
    "\n",
    "As_com=[As_1,As_2]\n",
    "\n",
    "Kts=np.zeros([6,6])\n",
    "for i in range(2):       # for 2 elements\n",
    "    for j in range(4):   # both 4s for member dofs          \n",
    "        for k in range(4):\n",
    "            Kts[As_com[i][j]-1][As_com[i][k]-1]+=k_com[i][j][k] \n",
    "\n",
    "#Correcting for reordering   nodes 1,2,3= actualnodes 2,3,1\n",
    "\n",
    "r=[3,4,5,6,1,2]\n",
    "\n",
    "Kts_actual=np.zeros([6,6])\n",
    "\n",
    "for i in range(6):\n",
    "    for j in range(6):\n",
    "        Kts_actual[r[i]-1][r[j]-1]+=Kts[i][j]\n",
    "\n",
    "display(Math('K_{TS}\\space(in\\space kN/mm)=%s'%(sym.latex(sym.sympify(Kts_actual)))))         "
   ]
  },
  {
   "cell_type": "markdown",
   "metadata": {},
   "source": [
    "# Defining force vector F, Kpp and Kxp"
   ]
  },
  {
   "cell_type": "code",
   "execution_count": 43,
   "metadata": {},
   "outputs": [],
   "source": [
    "Kpp=Kts[0:3,0:3]\n",
    "Kxp=Kts[3:6,0:3]\n",
    "F=np.transpose(np.array([[-P,0,0]]))"
   ]
  },
  {
   "cell_type": "markdown",
   "metadata": {},
   "source": [
    "# Finding displacements and rotations"
   ]
  },
  {
   "cell_type": "code",
   "execution_count": 73,
   "metadata": {},
   "outputs": [
    {
     "data": {
      "text/latex": [
       "$\\displaystyle Displacements\\space (in\\space mm\\space and\\space rad)=\\left[\\begin{matrix}-0.925925925925926\\\\-0.000198412698412698\\\\0.000793650793650794\\end{matrix}\\right]$"
      ],
      "text/plain": [
       "<IPython.core.display.Math object>"
      ]
     },
     "metadata": {},
     "output_type": "display_data"
    },
    {
     "name": "stdout",
     "output_type": "stream",
     "text": [
      "Hence, vertical displacement and rotation at node 2 are [-0.92592593]mm and [-0.00019841]rad\n",
      "Rotation at node 3= [0.00079365]rad\n"
     ]
    }
   ],
   "source": [
    "Ikpp=np.linalg.inv(Kpp)                     #Inverse of Kpp as F=Kpp*Dp\n",
    "Dp=np.dot(Ikpp,F)                           #Displacements\n",
    "display(Math('Displacements\\space (in\\space mm\\space and\\space rad)=%s'%sym.latex(sym.sympify(Dp))))\n",
    "print(f'Hence, vertical displacement and rotation at node 2 are {Dp[0]}mm and {Dp[1]}rad')\n",
    "print(f'Rotation at node 3= {Dp[2]}rad')"
   ]
  },
  {
   "cell_type": "markdown",
   "metadata": {},
   "source": [
    "# Finding reactions"
   ]
  },
  {
   "cell_type": "code",
   "execution_count": 72,
   "metadata": {},
   "outputs": [
    {
     "data": {
      "text/latex": [
       "$\\displaystyle Reactions\\space (in\\space kN\\space and\\space kNmm)=\\left[\\begin{matrix}6.25\\\\13.75\\\\15000.0\\end{matrix}\\right]$"
      ],
      "text/plain": [
       "<IPython.core.display.Math object>"
      ]
     },
     "metadata": {},
     "output_type": "display_data"
    },
    {
     "name": "stdout",
     "output_type": "stream",
     "text": [
      "Reactions at node 1 are [13.75]kN and[15000.]kNmm\n",
      "Reaction at node 3 = [6.25]\n"
     ]
    }
   ],
   "source": [
    "X=np.dot(Kxp,Dp)                    # This time, X includes forces acting along reactions\n",
    "display(Math('Reactions\\space (in\\space kN\\space and\\space kNmm)=%s'%sym.latex(sym.sympify(X))))\n",
    "print(f'Reactions at node 1 are {X[1]}kN and{X[2]}kNmm')\n",
    "print(f'Reaction at node 3 = {X[0]}kN')"
   ]
  },
  {
   "cell_type": "markdown",
   "metadata": {},
   "source": [
    "# Shear forces in elements"
   ]
  },
  {
   "cell_type": "code",
   "execution_count": 147,
   "metadata": {},
   "outputs": [
    {
     "name": "stdout",
     "output_type": "stream",
     "text": [
      "Shear force in right element=[-6.25]kN\n",
      "Shear force in left element=[13.75]kN\n"
     ]
    },
    {
     "data": {
      "image/png": "[encoded data removed]",
      "text/plain": [
       "<Figure size 432x288 with 2 Axes>"
      ]
     },
     "metadata": {
      "needs_background": "light"
     },
     "output_type": "display_data"
    }
   ],
   "source": [
    "# Element 1\n",
    "V1=-X[0]\n",
    "V2=X[1]\n",
    "print(f'Shear force in right element={V1}kN\\nShear force in left element={V2}kN')\n",
    "plt.subplot(1,2,2)\n",
    "plt.plot([0,1],[V1,V1])\n",
    "plt.axis([0,1,2*V1,0])\n",
    "plt.title('SFD for the right element')\n",
    "plt.tick_params(bottom=False,labelbottom=False)\n",
    "ax1=plt.gca()\n",
    "ax1.spines['right'].set_color('none')              #removes the right spine(boundary line of the figure)\n",
    "# ax1.spines['top'].set_color('none')\n",
    "# ax1.spines['left'].set_color('none')              \n",
    "ax1.spines['bottom'].set_color('none')\n",
    "plt.subplot(1,2,1)\n",
    "plt.plot([0,1],[V2,V2])\n",
    "plt.axis([0,1,0,2*V2])\n",
    "ax2=plt.gca()\n",
    "plt.title('SFD for the left element')\n",
    "plt.tick_params(bottom=False,labelbottom=False)\n",
    "ax2.spines['right'].set_color('none')              #removes the right spine(boundary line of the figure)\n",
    "ax2.spines['top'].set_color('none')\n",
    "# ax2.spines['left'].set_color('none')              \n",
    "# ax2.spines['bottom'].set_color('none')\n",
    "plt.show()"
   ]
  },
  {
   "cell_type": "markdown",
   "metadata": {},
   "source": [
    "# Bending moments in elements"
   ]
  },
  {
   "cell_type": "code",
   "execution_count": 146,
   "metadata": {},
   "outputs": [
    {
     "data": {
      "image/png": "[encoded data removed]",
      "text/plain": [
       "<Figure size 432x288 with 2 Axes>"
      ]
     },
     "metadata": {
      "needs_background": "light"
     },
     "output_type": "display_data"
    }
   ],
   "source": [
    "x1_plot=np.linspace(0,L2,20)\n",
    "x2_plot=np.linspace(0,L1,20)\n",
    "#Element 1\n",
    "\n",
    "M1_plot=V2*(L1+x1_plot)-X[2]-P*x1_plot\n",
    "\n",
    "#Element 2\n",
    "M2_plot=(V2*x2_plot)-X[2]\n",
    "\n",
    "plt.subplot(1,2,2)\n",
    "plt.plot(x1_plot,M1_plot,'k-')\n",
    "plt.xlabel('$x(mm)$', fontsize=15)\n",
    "plt.ylabel('$M_{right}(kNmm)$',fontsize=15)\n",
    "plt.title('BMD for right element')\n",
    "plt.subplot(1,2,1)\n",
    "plt.plot(x2_plot,M2_plot,'b-')\n",
    "plt.xlabel('$x(mm)$', fontsize=15)\n",
    "plt.ylabel('$M_{left}(kNmm)$',fontsize=15)\n",
    "plt.title('BMD for left element')\n",
    "plt.tight_layout()\n",
    "plt.show()"
   ]
  },
  {
   "cell_type": "code",
   "execution_count": 144,
   "metadata": {},
   "outputs": [
    {
     "data": {
      "text/plain": [
       "array([ 0, -1, -3, 13])"
      ]
     },
     "execution_count": 144,
     "metadata": {},
     "output_type": "execute_result"
    }
   ],
   "source": [
    "[5]-np.array([5,6,8,-8])\n"
   ]
  },
  {
   "cell_type": "code",
   "execution_count": null,
   "metadata": {},
   "outputs": [],
   "source": []
  }
 ],
 "metadata": {
  "celltoolbar": "Raw Cell Format",
  "kernelspec": {
   "display_name": "Python 3.7.6 64-bit ('base': conda)",
   "language": "python",
   "name": "python37664bitbasecondafc1256b7d2c54bb08c8a269d774cc2cb"
  },
  "language_info": {
   "codemirror_mode": {
    "name": "ipython",
    "version": 3
   },
   "file_extension": ".py",
   "mimetype": "text/x-python",
   "name": "python",
   "nbconvert_exporter": "python",
   "pygments_lexer": "ipython3",
   "version": "3.7.6"
  }
 },
 "nbformat": 4,
 "nbformat_minor": 4
}
