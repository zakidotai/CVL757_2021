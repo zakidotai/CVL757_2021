{
 "cells": [
  {
   "cell_type": "code",
   "execution_count": 2,
   "metadata": {},
   "outputs": [],
   "source": [
    "import numpy as np\n",
    "import sympy as sym\n",
    "from IPython.display import Math, display\n",
    "import matplotlib.pyplot as plt"
   ]
  },
  {
   "cell_type": "code",
   "execution_count": 3,
   "metadata": {},
   "outputs": [
    {
     "data": {
      "text/latex": [
       "$\\displaystyle All\\space distances\\space are\\space in\\space mm\\space and\\space loads\\space in\\space kN.$"
      ],
      "text/plain": [
       "<IPython.core.display.Math object>"
      ]
     },
     "metadata": {},
     "output_type": "display_data"
    },
    {
     "data": {
      "text/latex": [
       "$\\displaystyle Areas\\space are\\space in\\space mm^{2}\\space and\\space so\\space on.$"
      ],
      "text/plain": [
       "<IPython.core.display.Math object>"
      ]
     },
     "metadata": {},
     "output_type": "display_data"
    },
    {
     "name": "stdout",
     "output_type": "stream",
     "text": [
      "Enter the values of L1, L2,L3, w (in kN/mm), E (in GPa) and I  in the same order separated by commas\n",
      "3000,4000,2000,0.007,210,5000000\n"
     ]
    }
   ],
   "source": [
    "display(Math('All\\space distances\\space are\\space in\\space mm\\space and\\space loads\\space in\\space kN.'))\n",
    "display(Math('Areas\\space are\\space in\\space mm^{2}\\space and\\space so\\space on.'))\n",
    "L1,L2,L3,w,E,I=input(\"Enter the values of L1, L2,L3, w (in kN/mm), E (in GPa) and I  in the same order separated by commas\\n\").split(',')\n",
    "L1,L2,L3,w,E,I=float(L1),float(L2),float(L3),float(w),float(E),float(I)"
   ]
  },
  {
   "cell_type": "markdown",
   "metadata": {},
   "source": [
    "# Member stiffness matrices"
   ]
  },
  {
   "cell_type": "code",
   "execution_count": 4,
   "metadata": {},
   "outputs": [],
   "source": [
    "# Member 1 (connecting nodes 1 and 2)            \n",
    "\n",
    "k1=np.array([[12*E*I/(L1**3),6*E*I/(L1**2),-12*E*I/(L1**3),6*E*I/(L1**2)],[6*E*I/(L1**2),4*E*I/L1,-6*E*I/(L1**2),2*E*I/(L1)],[-12*E*I/(L1**3),-6*E*I/(L1**2),12*E*I/(L1**3),-6*E*I/(L1**2)],[6*E*I/(L1**2),2*E*I/(L1),-6*E*I/(L1**2),4*E*I/(L1)]])\n",
    "\n",
    "        \n",
    "#Association matrix\n",
    "\n",
    "As_1=[4,1,5,2]               #3 comes after 4 to account for the numbering of rotation first at the right end\n",
    "\n",
    "# Member 2 (containing nodes 2 and 3)\n",
    "\n",
    "k2=np.array([[12*E*I/(L2**3),6*E*I/(L2**2),-12*E*I/(L2**3),6*E*I/(L2**2)],[6*E*I/(L2**2),4*E*I/L2,-6*E*I/(L2**2),2*E*I/(L2)],[-12*E*I/(L2**3),-6*E*I/(L2**2),12*E*I/(L2**3),-6*E*I/(L2**2)],[6*E*I/(L2**2),2*E*I/(L2),-6*E*I/(L2**2),4*E*I/(L2)]])\n",
    "\n",
    "As_2=[5,2,6,3]\n",
    "\n",
    "#Member 3\n",
    "\n",
    "k3=np.array([[12*E*I/(L3**3),6*E*I/(L3**2),-12*E*I/(L3**3),6*E*I/(L3**2)],[6*E*I/(L3**2),4*E*I/L3,-6*E*I/(L3**2),2*E*I/(L3)],[-12*E*I/(L3**3),-6*E*I/(L3**2),12*E*I/(L3**3),-6*E*I/(L3**2)],[6*E*I/(L3**2),2*E*I/(L3),-6*E*I/(L3**2),4*E*I/(L3)]])\n",
    "\n",
    "As_3=[6,3,7,8]"
   ]
  },
  {
   "cell_type": "markdown",
   "metadata": {},
   "source": [
    "# Total structure stiffness matrix"
   ]
  },
  {
   "cell_type": "code",
   "execution_count": 5,
   "metadata": {},
   "outputs": [
    {
     "data": {
      "text/latex": [
       "$\\displaystyle K_{TS}\\space(in\\space kN/mm)=\\left[\\begin{matrix}1400000.0 & 700000.0 & 0.0 & 700.0 & -700.0 & 0.0 & 0.0 & 0.0\\\\700000.0 & 2450000.0 & 525000.0 & 700.0 & -306.25 & -393.75 & 0.0 & 0.0\\\\0.0 & 525000.0 & 3150000.0 & 0.0 & 393.75 & 1181.25 & -1575.0 & 1050000.0\\\\700.0 & 700.0 & 0.0 & 0.466666666666667 & -0.466666666666667 & 0.0 & 0.0 & 0.0\\\\-700.0 & -306.25 & 393.75 & -0.466666666666667 & 0.663541666666667 & -0.196875 & 0.0 & 0.0\\\\0.0 & -393.75 & 1181.25 & 0.0 & -0.196875 & 1.771875 & -1.575 & 1575.0\\\\0.0 & 0.0 & -1575.0 & 0.0 & 0.0 & -1.575 & 1.575 & -1575.0\\\\0.0 & 0.0 & 1050000.0 & 0.0 & 0.0 & 1575.0 & -1575.0 & 2100000.0\\end{matrix}\\right]$"
      ],
      "text/plain": [
       "<IPython.core.display.Math object>"
      ]
     },
     "metadata": {},
     "output_type": "display_data"
    }
   ],
   "source": [
    "As_com=[As_1,As_2,As_3]\n",
    "k_com=[k1,k2,k3]\n",
    "\n",
    "Kts=np.zeros([8,8])\n",
    "for i in range(3):       # for 3 elements\n",
    "    for j in range(4):   # both 4s for member dofs          \n",
    "        for k in range(4):\n",
    "            Kts[As_com[i][j]-1][As_com[i][k]-1]+=k_com[i][j][k] \n",
    "\n",
    "display(Math('K_{TS}\\space(in\\space kN/mm)=%s'%(sym.latex(sym.sympify(Kts))))) "
   ]
  },
  {
   "cell_type": "markdown",
   "metadata": {},
   "source": [
    "# Defining F, Kpp and Kxp"
   ]
  },
  {
   "cell_type": "code",
   "execution_count": 6,
   "metadata": {},
   "outputs": [],
   "source": [
    "Kpp=Kts[0:3,0:3]\n",
    "Kxp=Kts[3:8,0:3]\n",
    "\n",
    "# convert the UDL into equivalent joint loads\n",
    "F=np.transpose(np.array([[0,(-w*L2**2)/12,(w*L2**2)/12]]))"
   ]
  },
  {
   "cell_type": "markdown",
   "metadata": {},
   "source": [
    "# Finding rotations"
   ]
  },
  {
   "cell_type": "code",
   "execution_count": 7,
   "metadata": {},
   "outputs": [
    {
     "data": {
      "text/latex": [
       "$\\displaystyle Rotations\\space at\\space joints\\space 1,2,\\space and\\space 3\\space (in\\space rad)=\\left[\\begin{matrix}0.00270531400966184\\\\-0.00541062801932367\\\\0.00386473429951691\\end{matrix}\\right]$"
      ],
      "text/plain": [
       "<IPython.core.display.Math object>"
      ]
     },
     "metadata": {},
     "output_type": "display_data"
    },
    {
     "name": "stdout",
     "output_type": "stream",
     "text": [
      "Hence, vertical displacement and rotation at node 2 are [0.00270531]mm and [-0.00541063]rad\n",
      "Rotation at node 3= [0.00386473]rad\n"
     ]
    }
   ],
   "source": [
    "Ikpp=np.linalg.inv(Kpp)                     #Inverse of Kpp as F=Kpp*Dp\n",
    "Dp=np.dot(Ikpp,F)                           #Displacements\n",
    "display(Math('Rotations\\space at\\space joints\\space 1,2,\\space and\\space 3\\space (in\\space rad)=%s'%sym.latex(sym.sympify(Dp))))\n",
    "print(f'Hence, vertical displacement and rotation at node 2 are {Dp[0]}mm and {Dp[1]}rad')\n",
    "print(f'Rotation at node 3= {Dp[2]}rad')"
   ]
  },
  {
   "cell_type": "markdown",
   "metadata": {},
   "source": [
    "# Finding reactions"
   ]
  },
  {
   "cell_type": "code",
   "execution_count": 8,
   "metadata": {},
   "outputs": [
    {
     "data": {
      "text/latex": [
       "$\\displaystyle Reactions\\space (in\\space kN\\space and\\space kNmm)=\\left[\\begin{matrix}-1.89371980676328\\\\15.2850241545894\\\\20.695652173913\\\\-6.08695652173913\\\\4057.97101449275\\end{matrix}\\right]$"
      ],
      "text/plain": [
       "<IPython.core.display.Math object>"
      ]
     },
     "metadata": {},
     "output_type": "display_data"
    }
   ],
   "source": [
    "X_n=np.dot(Kxp,Dp)                    # This time, X includes forces acting along reactions\n",
    "X=X_n+np.transpose(np.array([[0,w*L2/2,w*L2/2,0,0]]))\n",
    "display(Math('Reactions\\space (in\\space kN\\space and\\space kNmm)=%s'%sym.latex(sym.sympify(X))))"
   ]
  },
  {
   "cell_type": "markdown",
   "metadata": {},
   "source": [
    "# Shear forces in elements"
   ]
  },
  {
   "cell_type": "code",
   "execution_count": 9,
   "metadata": {},
   "outputs": [
    {
     "data": {
      "image/png": "[encoded data removed]",
      "text/plain": [
       "<Figure size 432x288 with 3 Axes>"
      ]
     },
     "metadata": {
      "needs_background": "light"
     },
     "output_type": "display_data"
    }
   ],
   "source": [
    "#Element 1\n",
    "V1=X[0]\n",
    "plt.subplot(1,3,1)\n",
    "plt.plot([0,L1],[V1,V1])\n",
    "plt.title('SFD for element 1')\n",
    "plt.xlabel('$x(mm)$',fontsize=15)\n",
    "plt.ylabel('$V(kN)$',fontsize=15)\n",
    "\n",
    "#Element 2\n",
    "x2_plot=np.linspace(0,L2,20)\n",
    "V2=V1-w*x2_plot+X[1]\n",
    "plt.subplot(1,3,2)\n",
    "plt.plot(x2_plot,V2)\n",
    "plt.title('SFD for element 2')\n",
    "plt.xlabel('$x(mm)$',fontsize=15)\n",
    "plt.ylabel('$V(kN)$',fontsize=15)\n",
    "\n",
    "#Element 3\n",
    "V3=X[3]\n",
    "plt.subplot(1,3,3)\n",
    "plt.plot([0,L3],[V3,V3])\n",
    "plt.title('SFD for element 3')\n",
    "plt.xlabel('$x(mm)$',fontsize=15)\n",
    "plt.ylabel('$V(kN)$',fontsize=15)\n",
    "\n",
    "plt.tight_layout()\n",
    "plt.show()"
   ]
  },
  {
   "cell_type": "markdown",
   "metadata": {},
   "source": [
    "# Bending moments in elements"
   ]
  },
  {
   "cell_type": "code",
   "execution_count": 10,
   "metadata": {},
   "outputs": [
    {
     "data": {
      "image/png": "[encoded data removed]",
      "text/plain": [
       "<Figure size 432x288 with 3 Axes>"
      ]
     },
     "metadata": {
      "needs_background": "light"
     },
     "output_type": "display_data"
    }
   ],
   "source": [
    "x1_plot=np.linspace(0,L1,20)\n",
    "x3_plot=np.linspace(0,L3,20)          \n",
    "\n",
    "#Element 1\n",
    "M1_plot=V1*x1_plot\n",
    "\n",
    "#Element 2\n",
    "M2_plot=V1*(L1+x2_plot)+(X[1]*x2_plot)-(w*x2_plot*x2_plot/2)\n",
    "\n",
    "#Element 3\n",
    "M3_plot=X[3]*(L3-x3_plot)+X[4]\n",
    "\n",
    "plt.subplot(1,3,1)\n",
    "plt.plot(x1_plot,M1_plot,'k-')\n",
    "plt.xlabel('$x(mm)$', fontsize=15)\n",
    "plt.ylabel('$M(kNmm)$',fontsize=15)\n",
    "plt.title('BMD for element 1')\n",
    "plt.subplot(1,3,2)\n",
    "plt.plot(x2_plot,M2_plot,'b-')\n",
    "plt.xlabel('$x(mm)$', fontsize=15)\n",
    "plt.ylabel('$M(kNmm)$',fontsize=15)\n",
    "plt.title('BMD for element 2')\n",
    "plt.subplot(1,3,3)\n",
    "plt.plot(x3_plot,M3_plot,'g-')\n",
    "plt.xlabel('$x(mm)$', fontsize=15)\n",
    "plt.ylabel('$M(kNmm)$',fontsize=15)\n",
    "plt.title('BMD for element 3')\n",
    "plt.tight_layout()\n",
    "plt.show()"
   ]
  }
 ],
 "metadata": {
  "kernelspec": {
   "display_name": "Python 3.7.6 64-bit ('base': conda)",
   "language": "python",
   "name": "python37664bitbasecondafc1256b7d2c54bb08c8a269d774cc2cb"
  },
  "language_info": {
   "codemirror_mode": {
    "name": "ipython",
    "version": 3
   },
   "file_extension": ".py",
   "mimetype": "text/x-python",
   "name": "python",
   "nbconvert_exporter": "python",
   "pygments_lexer": "ipython3",
   "version": "3.7.6"
  }
 },
 "nbformat": 4,
 "nbformat_minor": 4
}
