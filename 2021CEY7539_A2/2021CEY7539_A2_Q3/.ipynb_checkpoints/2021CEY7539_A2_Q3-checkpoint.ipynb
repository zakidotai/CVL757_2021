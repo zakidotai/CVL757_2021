{
 "cells": [
  {
   "cell_type": "code",
   "execution_count": 1,
   "metadata": {},
   "outputs": [],
   "source": [
    "import sympy as sym\n",
    "import numpy as np\n",
    "import matplotlib.pyplot as plt\n",
    "from IPython.display import display,Math"
   ]
  },
  {
   "cell_type": "markdown",
   "metadata": {},
   "source": [
    "# Renumbering nodes 1,2,3 as 3,1,2 respectively"
   ]
  },
  {
   "cell_type": "code",
   "execution_count": 2,
   "metadata": {},
   "outputs": [
    {
     "data": {
      "text/latex": [
       "$\\displaystyle All\\space distances\\space are\\space in\\space mm\\space and\\space loads\\space in\\space kN.$"
      ],
      "text/plain": [
       "<IPython.core.display.Math object>"
      ]
     },
     "metadata": {},
     "output_type": "display_data"
    },
    {
     "data": {
      "text/latex": [
       "$\\displaystyle Areas\\space are\\space in\\space mm^{2}\\space and\\space so\\space on.$"
      ],
      "text/plain": [
       "<IPython.core.display.Math object>"
      ]
     },
     "metadata": {},
     "output_type": "display_data"
    },
    {
     "name": "stdout",
     "output_type": "stream",
     "text": [
      "Enter the values of L1, L2,P, k (in kN/mm), E (in GPa) and I  in the same order separated by commas\n",
      "3000,3000,10,5,70,40000000\n"
     ]
    }
   ],
   "source": [
    "display(Math('All\\space distances\\space are\\space in\\space mm\\space and\\space loads\\space in\\space kN.'))\n",
    "display(Math('Areas\\space are\\space in\\space mm^{2}\\space and\\space so\\space on.'))\n",
    "L1,L2,P,k,E,I=input(\"Enter the values of L1, L2,P, k (in kN/mm), E (in GPa) and I  in the same order separated by commas\\n\").split(',')\n",
    "L1,L2,P,k,E,I=float(L1),float(L2),float(P),float(k),float(E),float(I)"
   ]
  },
  {
   "cell_type": "markdown",
   "metadata": {},
   "source": [
    "# Element stiffness matrices"
   ]
  },
  {
   "cell_type": "code",
   "execution_count": 3,
   "metadata": {},
   "outputs": [],
   "source": [
    "#Element 1                  (connecting nodes 3 and 1)\n",
    "k1=np.array([[12*E*I/(L1**3),6*E*I/(L1**2),-12*E*I/(L1**3),6*E*I/(L1**2)],[6*E*I/(L1**2),4*E*I/L1,-6*E*I/(L1**2),2*E*I/(L1)],[-12*E*I/(L1**3),-6*E*I/(L1**2),12*E*I/(L1**3),-6*E*I/(L1**2)],[6*E*I/(L1**2),2*E*I/(L1),-6*E*I/(L1**2),4*E*I/(L1)]])\n",
    "\n",
    "As_1=[5,6,3,1]\n",
    "\n",
    "#Element 2      (connecting nodes 1 and 2)\n",
    "k2=np.array([[12*E*I/(L2**3),6*E*I/(L2**2),-12*E*I/(L2**3),6*E*I/(L2**2)],[6*E*I/(L2**2),4*E*I/L2,-6*E*I/(L2**2),2*E*I/(L2)],[-12*E*I/(L2**3),-6*E*I/(L2**2),12*E*I/(L2**3),-6*E*I/(L2**2)],[6*E*I/(L2**2),2*E*I/(L2),-6*E*I/(L2**2),4*E*I/(L2)]])\n",
    "\n",
    "As_2=[3,1,4,2]\n"
   ]
  },
  {
   "cell_type": "markdown",
   "metadata": {},
   "source": [
    "# Total structure stiffness matrix"
   ]
  },
  {
   "cell_type": "code",
   "execution_count": 8,
   "metadata": {},
   "outputs": [
    {
     "data": {
      "text/latex": [
       "$\\displaystyle K_{TS}\\space(in\\space kN/mm)=\\left[\\begin{matrix}1.24444444444444 & 1866.66666666667 & -1.24444444444444 & 1866.66666666667 & 0.0 & 0.0\\\\1866.66666666667 & 3733333.33333333 & -1866.66666666667 & 1866666.66666667 & 0.0 & 0.0\\\\-1.24444444444444 & -1866.66666666667 & 2.48888888888889 & 0.0 & -1.24444444444444 & 1866.66666666667\\\\1866.66666666667 & 1866666.66666667 & 0.0 & 7466666.66666667 & -1866.66666666667 & 1866666.66666667\\\\0.0 & 0.0 & -1.24444444444444 & -1866.66666666667 & 1.24444444444444 & -1866.66666666667\\\\0.0 & 0.0 & 1866.66666666667 & 1866666.66666667 & -1866.66666666667 & 3733333.33333333\\end{matrix}\\right]$"
      ],
      "text/plain": [
       "<IPython.core.display.Math object>"
      ]
     },
     "metadata": {},
     "output_type": "display_data"
    }
   ],
   "source": [
    "k_com=[k1,k2]\n",
    "As_com=[As_1,As_2]\n",
    "\n",
    "Kts=np.zeros([6,6])\n",
    "for i in range(2):       # for 2 elements\n",
    "    for j in range(4):   # both 4s for member dofs          \n",
    "        for k in range(4):\n",
    "            Kts[As_com[i][j]-1][As_com[i][k]-1]+=k_com[i][j][k] \n",
    "            \n",
    "# Correction for renumbering\n",
    "r=[4,6,3,5,1,2]\n",
    "\n",
    "Kts_actual=np.zeros([6,6])\n",
    "\n",
    "for i in range(6):\n",
    "    for j in range(6):\n",
    "        Kts_actual[r[i]-1][r[j]-1]+=Kts[i][j]\n",
    "\n",
    "display(Math('K_{TS}\\space(in\\space kN/mm)=%s'%(sym.latex(sym.sympify(Kts_actual))))) "
   ]
  },
  {
   "cell_type": "markdown",
   "metadata": {},
   "source": [
    "# Computing F, Kpp,Kpx,Kxp and Kxx"
   ]
  },
  {
   "cell_type": "code",
   "execution_count": 45,
   "metadata": {},
   "outputs": [
    {
     "data": {
      "text/plain": [
       "array([[      0.        ,    1866.66666667],\n",
       "       [  -1866.66666667,   -1866.66666667],\n",
       "       [   1866.66666667,       0.        ],\n",
       "       [1866666.66666667,       0.        ]])"
      ]
     },
     "execution_count": 45,
     "metadata": {},
     "output_type": "execute_result"
    }
   ],
   "source": [
    "Kpp=Kts[0:2,0:2]\n",
    "Kpx=Kts[0:2,2:6]\n",
    "Kxp=Kts[2:6,0:2]\n",
    "Kxx=Kts[2:6,2:6]\n",
    "\n",
    "F=np.transpose(np.array([[0,0]]))\n",
    "Kxp"
   ]
  },
  {
   "cell_type": "markdown",
   "metadata": {},
   "source": [
    "# up, ux and X"
   ]
  },
  {
   "cell_type": "code",
   "execution_count": 84,
   "metadata": {},
   "outputs": [],
   "source": [
    "x1,x2,x3,x4,up1,up2=sym.symbols('x_1,x_2,x_3,x_4,u_{p1},u_{p2}')\n",
    "ux=(sym.Matrix([[-x1/5,0,0,0]])).T\n",
    "X=(sym.Matrix([[x1-P,x2,x3,x4]])).T\n",
    "up=(sym.Matrix([[up1,up2]])).T\n",
    "RHS1=Kxp*up+Kxx*ux-X\n",
    "RHS2=Kpp*up+Kpx*ux-F\n",
    "Ans=sym.nonlinsolve(sym.Matrix((RHS1,RHS2)),(up1,up2,x1,x2,x3,x4))\n",
    "Ans=list(Ans)\n",
    "up1,up2,x1,x2,x3,x4=Ans[0][0],Ans[0][1],Ans[0][2],Ans[0][3],Ans[0][4],Ans[0][5]\n",
    "\n",
    "up=np.array([[up1],[up2]])\n",
    "X=np.transpose(np.array([[x1,x2,x3,x4]]))"
   ]
  },
  {
   "cell_type": "markdown",
   "metadata": {},
   "source": [
    "# Rotations"
   ]
  },
  {
   "cell_type": "code",
   "execution_count": 81,
   "metadata": {},
   "outputs": [
    {
     "data": {
      "text/latex": [
       "$\\displaystyle Rotations\\space at\\space joints\\space 2,\\space and\\space 3\\space (in\\space rad)=\\left[\\begin{matrix}-0.000222441917943683\\\\0.000889767671774511\\end{matrix}\\right]$"
      ],
      "text/plain": [
       "<IPython.core.display.Math object>"
      ]
     },
     "metadata": {},
     "output_type": "display_data"
    }
   ],
   "source": [
    "display(Math('Rotations\\space at\\space joints\\space 2,\\space and\\space 3\\space (in\\space rad)=%s'%sym.latex(sym.sympify(up))))"
   ]
  },
  {
   "cell_type": "markdown",
   "metadata": {},
   "source": [
    "# Reactions"
   ]
  },
  {
   "cell_type": "code",
   "execution_count": 85,
   "metadata": {},
   "outputs": [
    {
     "data": {
      "text/latex": [
       "$\\displaystyle Reactions\\space (in\\space kN\\space and\\space kNmm)=\\left[\\begin{matrix}7.78546712802745\\\\0.692041522491309\\\\1.52249134948096\\\\2491.34948096886\\end{matrix}\\right]$"
      ],
      "text/plain": [
       "<IPython.core.display.Math object>"
      ]
     },
     "metadata": {},
     "output_type": "display_data"
    }
   ],
   "source": [
    "display(Math('Reactions\\space (in\\space kN\\space and\\space kNmm)=%s'%sym.latex(sym.sympify(X))))"
   ]
  },
  {
   "cell_type": "markdown",
   "metadata": {},
   "source": [
    "# Force in spring element"
   ]
  },
  {
   "cell_type": "code",
   "execution_count": 88,
   "metadata": {},
   "outputs": [
    {
     "data": {
      "text/latex": [
       "$\\displaystyle Force\\space in\\space spring=7.785kN (C)$"
      ],
      "text/plain": [
       "<IPython.core.display.Math object>"
      ]
     },
     "metadata": {},
     "output_type": "display_data"
    }
   ],
   "source": [
    "F_s=X[0]\n",
    "display(Math('Force\\space in\\space spring=7.785kN (C)'))"
   ]
  },
  {
   "cell_type": "markdown",
   "metadata": {},
   "source": [
    "# SFD"
   ]
  },
  {
   "cell_type": "code",
   "execution_count": 92,
   "metadata": {},
   "outputs": [
    {
     "data": {
      "image/png": "[encoded data removed]",
      "text/plain": [
       "<Figure size 432x288 with 2 Axes>"
      ]
     },
     "metadata": {
      "needs_background": "light"
     },
     "output_type": "display_data"
    }
   ],
   "source": [
    "#Element 1\n",
    "V1=X[2]\n",
    "\n",
    "#Element 2\n",
    "V2=-X[1]\n",
    "\n",
    "plt.subplot(1,2,1)\n",
    "plt.plot([0,L1],[V1,V1])\n",
    "plt.title('SFD for element 1')\n",
    "plt.xlabel('$x(mm)$',fontsize=15)\n",
    "plt.ylabel('$V(kN)$',fontsize=15)\n",
    "\n",
    "#Element 2\n",
    "plt.subplot(1,2,2)\n",
    "plt.plot([0,L2],[V2,V2])\n",
    "plt.title('SFD for element 2')\n",
    "plt.xlabel('$x(mm)$',fontsize=15)\n",
    "plt.ylabel('$V(kN)$',fontsize=15)\n",
    "plt.tight_layout()\n",
    "plt.show()"
   ]
  },
  {
   "cell_type": "markdown",
   "metadata": {},
   "source": [
    "# BMD"
   ]
  },
  {
   "cell_type": "code",
   "execution_count": 94,
   "metadata": {},
   "outputs": [
    {
     "data": {
      "image/png": "[encoded data removed]",
      "text/plain": [
       "<Figure size 432x288 with 2 Axes>"
      ]
     },
     "metadata": {
      "needs_background": "light"
     },
     "output_type": "display_data"
    }
   ],
   "source": [
    "x1_plot=np.linspace(0,L1,20)\n",
    "x2_plot=np.linspace(0,L2,20)\n",
    "\n",
    "M1_plot=X[2]*x1_plot-X[3]\n",
    "M2_plot=X[1]*(L2-x2_plot)\n",
    "\n",
    "plt.subplot(1,2,1)\n",
    "plt.plot(x1_plot,M1_plot,'k-')\n",
    "plt.xlabel('$x(mm)$', fontsize=15)\n",
    "plt.ylabel('$M(kNmm)$',fontsize=15)\n",
    "plt.title('BMD for element 1')\n",
    "plt.subplot(1,2,2)\n",
    "plt.plot(x2_plot,M2_plot,'b-')\n",
    "plt.xlabel('$x(mm)$', fontsize=15)\n",
    "plt.ylabel('$M(kNmm)$',fontsize=15)\n",
    "plt.title('BMD for element 2')\n",
    "\n",
    "plt.tight_layout()\n",
    "plt.show()"
   ]
  }
 ],
 "metadata": {
  "kernelspec": {
   "display_name": "Python 3.8.3 64-bit",
   "language": "python",
   "name": "python38364bitf246d704c71342ae9d7b6a8ca1c3887b"
  },
  "language_info": {
   "codemirror_mode": {
    "name": "ipython",
    "version": 3
   },
   "file_extension": ".py",
   "mimetype": "text/x-python",
   "name": "python",
   "nbconvert_exporter": "python",
   "pygments_lexer": "ipython3",
   "version": "3.8.3"
  }
 },
 "nbformat": 4,
 "nbformat_minor": 4
}
