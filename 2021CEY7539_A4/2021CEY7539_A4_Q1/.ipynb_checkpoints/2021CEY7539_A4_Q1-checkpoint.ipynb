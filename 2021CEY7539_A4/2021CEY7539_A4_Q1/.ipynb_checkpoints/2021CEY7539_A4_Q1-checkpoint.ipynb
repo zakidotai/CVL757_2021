{
 "cells": [
  {
   "cell_type": "code",
   "execution_count": 1,
   "metadata": {},
   "outputs": [],
   "source": [
    "import sympy as sym\n",
    "import numpy as np\n",
    "import matplotlib.pyplot as plt\n",
    "from IPython.display import display,Math"
   ]
  },
  {
   "cell_type": "markdown",
   "metadata": {},
   "source": [
    "# Renumbering the nodes 1,2,3,4 as 4,1,2,3\n"
   ]
  },
  {
   "cell_type": "code",
   "execution_count": 3,
   "metadata": {},
   "outputs": [],
   "source": [
    "def FrameElemStiffness(E,A,H,I):\n",
    "    return np.array([[E*A/H,0,0,-E*A/H,0,0],[0,12*E*I/(H**3),6*E*I/(H**2),0,-12*E*I/(H**3),6*E*I/(H**2)],[0,6*E*I/(H**2),4*E*I/H,0,-6*E*I/(H**2),2*E*I/(H)],[-E*A/H,0,0,E*A/H,0,0],[0,-12*E*I/(H**3),-6*E*I/(H**2),0,12*E*I/(H**3),-6*E*I/(H**2)],[0,6*E*I/(H**2),2*E*I/(H),0,-6*E*I/(H**2),4*E*I/(H)]])"
   ]
  },
  {
   "cell_type": "code",
   "execution_count": 6,
   "metadata": {},
   "outputs": [
    {
     "data": {
      "text/latex": [
       "$\\displaystyle All\\space distances\\space are\\space in\\space mm\\space and\\space loads\\space in\\space kN.$"
      ],
      "text/plain": [
       "<IPython.core.display.Math object>"
      ]
     },
     "metadata": {},
     "output_type": "display_data"
    },
    {
     "data": {
      "text/latex": [
       "$\\displaystyle Areas\\space are\\space in\\space mm^{2}\\space and\\space so\\space on.$"
      ],
      "text/plain": [
       "<IPython.core.display.Math object>"
      ]
     },
     "metadata": {},
     "output_type": "display_data"
    },
    {
     "name": "stdout",
     "output_type": "stream",
     "text": [
      "Enter the values of B,H,P,M,E (in GPa),A and I  in the same order separated by commas\n",
      "4000,3000,20,12000,210,20000,50000000\n"
     ]
    }
   ],
   "source": [
    "display(Math('All\\space distances\\space are\\space in\\space mm\\space and\\space loads\\space in\\space kN.'))\n",
    "display(Math('Areas\\space are\\space in\\space mm^{2}\\space and\\space so\\space on.'))\n",
    "B,H,P,M,E,A,I=input(\"Enter the values of B,H,P,M,E (in GPa),A and I  in the same order separated by commas\\n\").split(',')\n",
    "B,H,P,M,E,A,I=float(B),float(H),float(P),float(M),float(E),float(A),float(I)"
   ]
  },
  {
   "cell_type": "markdown",
   "metadata": {},
   "source": [
    "# Element stiffness matrices"
   ]
  },
  {
   "cell_type": "code",
   "execution_count": 9,
   "metadata": {},
   "outputs": [],
   "source": [
    "#Element 1                  (connecting nodes 4 and 1)\n",
    "\n",
    "k1_l=FrameElemStiffness(E,A,H,I)             #l for local\n",
    "c1,s1=0,1                                    #c,s for cos and sin; theta=90\n",
    "T1=np.array([[c1,s1,0,0,0,0],[-s1,c1,0,0,0,0],[0,0,1,0,0,0],[0,0,0,c1,s1,0],[0,0,0,-s1,c1,0],[0,0,0,0,0,1]])\n",
    "k1=np.linalg.multi_dot([np.matrix.transpose(T1),k1_l,T1])\n",
    "As_1=[10,11,12,1,2,3]\n",
    "\n",
    "#Element 2                  (connecting nodes 1 and 2)\n",
    "\n",
    "k2=FrameElemStiffness(E,A,B,I)\n",
    "As_2=[1,2,3,4,5,6]\n",
    "\n",
    "#Element 3                   (connecting nodes 2 and 3)\n",
    " \n",
    "k3_l=FrameElemStiffness(E,A,H,I)\n",
    "c3,s3=c1,s1\n",
    "T3=np.array([[c1,s1,0,0,0,0],[-s1,c1,0,0,0,0],[0,0,1,0,0,0],[0,0,0,c1,s1,0],[0,0,0,-s1,c1,0],[0,0,0,0,0,1]])\n",
    "k3=np.linalg.multi_dot([np.matrix.transpose(T3),k3_l,T3])\n",
    "As_3=[7,8,9,4,5,6]"
   ]
  },
  {
   "cell_type": "markdown",
   "metadata": {},
   "source": [
    "# Total structure stiffness matrix"
   ]
  },
  {
   "cell_type": "code",
   "execution_count": 11,
   "metadata": {},
   "outputs": [
    {
     "data": {
      "text/latex": [
       "$\\displaystyle K_{TS}\\space(in\\space kN/mm)=\\left[\\begin{array}4.66666666666667 & 0.0 & -7000.0 & -4.66666666666667 & 0.0 & -7000.0 & 0.0 & 0.0 & 0.0 & 0.0 & 0.0 & 0.0\\\\0.0 & 1400.0 & 0.0 & 0.0 & -1400.0 & 0.0 & 0.0 & 0.0 & 0.0 & 0.0 & 0.0 & 0.0\\\\-7000.0 & 0.0 & 14000000.0 & 7000.0 & 0.0 & 7000000.0 & 0.0 & 0.0 & 0.0 & 0.0 & 0.0 & 0.0\\\\-4.66666666666667 & 0.0 & 7000.0 & 1054.66666666667 & 0.0 & 7000.0 & -1050.0 & 0.0 & 0.0 & 0.0 & 0.0 & 0.0\\\\0.0 & -1400.0 & 0.0 & 0.0 & 1401.96875 & 3937.5 & 0.0 & -1.96875 & 3937.5 & 0.0 & 0.0 & 0.0\\\\-7000.0 & 0.0 & 7000000.0 & 7000.0 & 3937.5 & 24500000.0 & 0.0 & -3937.5 & 5250000.0 & 0.0 & 0.0 & 0.0\\\\0.0 & 0.0 & 0.0 & -1050.0 & 0.0 & 0.0 & 1054.66666666667 & 0.0 & 7000.0 & -4.66666666666667 & 0.0 & 7000.0\\\\0.0 & 0.0 & 0.0 & 0.0 & -1.96875 & -3937.5 & 0.0 & 1401.96875 & -3937.5 & 0.0 & -1400.0 & 0.0\\\\0.0 & 0.0 & 0.0 & 0.0 & 3937.5 & 5250000.0 & 7000.0 & -3937.5 & 24500000.0 & -7000.0 & 0.0 & 7000000.0\\\\0.0 & 0.0 & 0.0 & 0.0 & 0.0 & 0.0 & -4.66666666666667 & 0.0 & -7000.0 & 4.66666666666667 & 0.0 & -7000.0\\\\0.0 & 0.0 & 0.0 & 0.0 & 0.0 & 0.0 & 0.0 & -1400.0 & 0.0 & 0.0 & 1400.0 & 0.0\\\\0.0 & 0.0 & 0.0 & 0.0 & 0.0 & 0.0 & 7000.0 & 0.0 & 7000000.0 & -7000.0 & 0.0 & 14000000.0\\end{array}\\right]$"
      ],
      "text/plain": [
       "<IPython.core.display.Math object>"
      ]
     },
     "metadata": {},
     "output_type": "display_data"
    }
   ],
   "source": [
    "As_com=[As_1,As_2,As_3]\n",
    "k_com=[k1,k2,k3]\n",
    "\n",
    "Kts=np.zeros([12,12])\n",
    "for i in range(3):       # for 3 elements\n",
    "    for j in range(6):   # both 6s for member dofs          \n",
    "        for k in range(6):\n",
    "            Kts[As_com[i][j]-1][As_com[i][k]-1]+=k_com[i][j][k]\n",
    "\n",
    "#Correction for renumbering\n",
    "r=[4,5,6,7,8,9,10,11,12,1,2,3]\n",
    "\n",
    "Kts_actual=np.zeros([12,12])\n",
    "\n",
    "for i in range(12):\n",
    "    for j in range(12):\n",
    "        Kts_actual[r[i]-1][r[j]-1]+=Kts[i][j]\n",
    "display(Math('K_{TS}\\space(in\\space kN/mm)=%s'%(sym.latex(sym.sympify(Kts_actual)))))"
   ]
  },
  {
   "cell_type": "markdown",
   "metadata": {},
   "source": [
    "# Displacements and rotations"
   ]
  },
  {
   "cell_type": "code",
   "execution_count": 13,
   "metadata": {},
   "outputs": [
    {
     "data": {
      "text/latex": [
       "$\\displaystyle Displacements\\space (in\\space mm\\space and\\space rad)=\\left[\\begin{matrix}-3.78670353750343\\\\-0.0061332273269372\\\\0.000783082258388492\\\\-3.77926516356657\\\\0.00613322732693505\\\\0.00140375401851535\\end{matrix}\\right]$"
      ],
      "text/plain": [
       "<IPython.core.display.Math object>"
      ]
     },
     "metadata": {},
     "output_type": "display_data"
    }
   ],
   "source": [
    "Kpp=Kts[0:6,0:6]\n",
    "Kxp=Kts[6:12,0:6]\n",
    "F=np.transpose(np.array([[-P,0,0,0,0,M]]))\n",
    "\n",
    "Ikpp=np.linalg.inv(Kpp)                     \n",
    "\n",
    "Dp=np.dot(Ikpp,F)\n",
    "display(Math('Displacements\\space (in\\space mm\\space and\\space rad)=%s'%sym.latex(sym.sympify(Dp))))"
   ]
  },
  {
   "cell_type": "markdown",
   "metadata": {},
   "source": [
    "# Reactions"
   ]
  },
  {
   "cell_type": "code",
   "execution_count": 15,
   "metadata": {},
   "outputs": [
    {
     "data": {
      "text/latex": [
       "$\\displaystyle Reactions\\space at\\space nodes\\space 4\\space and\\space 1 (in\\space kN\\space and\\space kNmm)=\\left[\\begin{matrix}7.81029263370323\\\\-8.58651825770906\\\\-16628.5780153586\\\\12.1897073662966\\\\8.58651825771208\\\\-21025.3489538046\\end{matrix}\\right]$"
      ],
      "text/plain": [
       "<IPython.core.display.Math object>"
      ]
     },
     "metadata": {},
     "output_type": "display_data"
    }
   ],
   "source": [
    "X=np.dot(Kxp,Dp)\n",
    "display(Math('Reactions\\space at\\space nodes\\space 4\\space and\\space 1 (in\\space kN\\space and\\space kNmm)=%s'%sym.latex(sym.sympify(X))))"
   ]
  },
  {
   "cell_type": "markdown",
   "metadata": {},
   "source": [
    "# Element forces"
   ]
  },
  {
   "cell_type": "code",
   "execution_count": 23,
   "metadata": {},
   "outputs": [
    {
     "data": {
      "text/latex": [
       "$\\displaystyle Axial\\space force(kN),\\space shear\\space force(kN)\\space and\\space bending\\space moment(kNmm)\\space for\\space element\\space 1 =\\left[\\begin{matrix}8.58651825771208\\\\-12.1897073662966\\\\-21025.3489538046\\\\-8.58651825771208\\\\12.1897073662966\\\\-15543.7731450851\\end{matrix}\\right]$"
      ],
      "text/plain": [
       "<IPython.core.display.Math object>"
      ]
     },
     "metadata": {},
     "output_type": "display_data"
    },
    {
     "data": {
      "text/latex": [
       "$\\displaystyle Axial\\space force(kN),\\space shear\\space force(kN)\\space and\\space bending\\space moment(kNmm)\\space for\\space element\\space 2 =\\left[\\begin{matrix}-7.81029263370192\\\\8.58651825770906\\\\15543.7731450851\\\\7.81029263370192\\\\-8.58651825770906\\\\18802.2998857511\\end{matrix}\\right]$"
      ],
      "text/plain": [
       "<IPython.core.display.Math object>"
      ]
     },
     "metadata": {},
     "output_type": "display_data"
    },
    {
     "data": {
      "text/latex": [
       "$\\displaystyle Axial\\space force(kN),\\space shear\\space force(kN)\\space and\\space bending\\space moment(kNmm)\\space for\\space element\\space 3 =\\left[\\begin{matrix}-8.58651825770906\\\\-7.81029263370323\\\\-16628.5780153586\\\\8.58651825770906\\\\7.81029263370323\\\\-6802.29988575112\\end{matrix}\\right]$"
      ],
      "text/plain": [
       "<IPython.core.display.Math object>"
      ]
     },
     "metadata": {},
     "output_type": "display_data"
    }
   ],
   "source": [
    "D1=np.zeros([6,1])\n",
    "for i in range(6):\n",
    "    if As_1[i]<=6:\n",
    "        D1[i]+=Dp[As_1[i]-1]\n",
    "\n",
    "D1_l=np.matmul(T1,D1)                                   # l for local\n",
    "\n",
    "#local force vector\n",
    "f_1=np.matmul(k1_l,D1_l)\n",
    "\n",
    "D2=np.zeros([6,1])\n",
    "for i in range(6):\n",
    "    if As_2[i]<=6:\n",
    "        D2[i]+=Dp[As_2[i]-1]\n",
    "\n",
    "D1_2=D2                                   # l for local\n",
    "\n",
    "#local force vector\n",
    "f_2=np.matmul(k2,D1_2)\n",
    "\n",
    "D3=np.zeros([6,1])\n",
    "for i in range(6):\n",
    "    if As_3[i]<=6:\n",
    "        D3[i]+=Dp[As_3[i]-1]\n",
    "\n",
    "D1_3=np.matmul(T3,D3)                                   # l for local\n",
    "\n",
    "#local force vector\n",
    "f_3=np.matmul(k3_l,D1_3)\n",
    "display(Math('Axial\\space force(kN),\\space shear\\space force(kN)\\space and\\space bending\\space moment(kNmm)\\space for\\space element\\space 1 =%s'%sym.latex(sym.sympify(f_1))))\n",
    "display(Math('Axial\\space force(kN),\\space shear\\space force(kN)\\space and\\space bending\\space moment(kNmm)\\space for\\space element\\space 2 =%s'%sym.latex(sym.sympify(f_2))))\n",
    "display(Math('Axial\\space force(kN),\\space shear\\space force(kN)\\space and\\space bending\\space moment(kNmm)\\space for\\space element\\space 3 =%s'%sym.latex(sym.sympify(f_3))))"
   ]
  },
  {
   "cell_type": "markdown",
   "metadata": {},
   "source": [
    "# AFD"
   ]
  },
  {
   "cell_type": "code",
   "execution_count": 29,
   "metadata": {},
   "outputs": [
    {
     "data": {
      "image/png": "[encoded data removed]",
      "text/plain": [
       "<Figure size 432x288 with 3 Axes>"
      ]
     },
     "metadata": {
      "needs_background": "light"
     },
     "output_type": "display_data"
    }
   ],
   "source": [
    "# Negative for compression and positive for tension\n",
    "\n",
    "plt.subplot(1,3,1)\n",
    "plt.plot([0,H],[-f_1[0],-f_1[0]])\n",
    "plt.title('AFD for element 1')\n",
    "\n",
    "plt.subplot(1,3,2)\n",
    "plt.plot([0,B],[-f_2[0],-f_2[0]])\n",
    "plt.title('AFD for element 2')\n",
    "\n",
    "plt.subplot(1,3,3)\n",
    "plt.plot([0,H],[-f_3[0],-f_3[0]])\n",
    "plt.title('AFD for element 3')\n",
    "\n",
    "plt.tight_layout()\n",
    "plt.show()"
   ]
  },
  {
   "cell_type": "markdown",
   "metadata": {},
   "source": [
    "# SFD (All SFDs are drawn on the outer side of element)"
   ]
  },
  {
   "cell_type": "code",
   "execution_count": 33,
   "metadata": {},
   "outputs": [
    {
     "data": {
      "image/png": "[encoded data removed]",
      "text/plain": [
       "<Figure size 432x288 with 3 Axes>"
      ]
     },
     "metadata": {
      "needs_background": "light"
     },
     "output_type": "display_data"
    }
   ],
   "source": [
    "\n",
    "plt.subplot(1,3,1)\n",
    "plt.plot([0,H],[f_1[1],f_1[1]])\n",
    "plt.title('SFD for element 1')\n",
    "\n",
    "plt.subplot(1,3,2)\n",
    "plt.plot([0,B],[f_2[1],f_2[1]])\n",
    "plt.title('SFD for element 2')\n",
    "\n",
    "plt.subplot(1,3,3)\n",
    "plt.plot([0,H],[f_3[1],f_3[1]])\n",
    "plt.title('SFD for element 3')\n",
    "\n",
    "plt.tight_layout()\n",
    "plt.show()"
   ]
  },
  {
   "cell_type": "markdown",
   "metadata": {},
   "source": [
    "# BMD (All BMDs are drawn on the outside of elements)"
   ]
  },
  {
   "cell_type": "code",
   "execution_count": 36,
   "metadata": {},
   "outputs": [
    {
     "data": {
      "image/png": "[encoded data removed]",
      "text/plain": [
       "<Figure size 432x288 with 3 Axes>"
      ]
     },
     "metadata": {
      "needs_background": "light"
     },
     "output_type": "display_data"
    }
   ],
   "source": [
    "x1_plot=np.linspace(0,H,20)\n",
    "x2_plot=np.linspace(0,B,20)\n",
    "x3_plot=np.linspace(0,H,20)\n",
    "\n",
    "M1_plot=-f_1[2]+f_1[1]*x1_plot\n",
    "M2_plot=-f_2[2]+f_2[1]*x2_plot\n",
    "M3_plot=-f_3[2]+f_3[1]*x3_plot\n",
    "\n",
    "plt.subplot(1,3,1)\n",
    "plt.plot(x1_plot,M1_plot,'r-')\n",
    "plt.title('BMD for element 1')\n",
    "\n",
    "plt.subplot(1,3,2)\n",
    "plt.plot(x2_plot,M2_plot,'k-')\n",
    "plt.title('BMD for element 2')\n",
    "\n",
    "plt.subplot(1,3,3)\n",
    "plt.plot(x3_plot,M3_plot,'b-')\n",
    "plt.title('BMD for element 3')\n",
    "\n",
    "plt.tight_layout()\n",
    "plt.show()"
   ]
  }
 ],
 "metadata": {
  "kernelspec": {
   "display_name": "Python 3.8.3 64-bit",
   "language": "python",
   "name": "python38364bitf246d704c71342ae9d7b6a8ca1c3887b"
  },
  "language_info": {
   "codemirror_mode": {
    "name": "ipython",
    "version": 3
   },
   "file_extension": ".py",
   "mimetype": "text/x-python",
   "name": "python",
   "nbconvert_exporter": "python",
   "pygments_lexer": "ipython3",
   "version": "3.8.3"
  }
 },
 "nbformat": 4,
 "nbformat_minor": 4
}
