{
 "cells": [
  {
   "cell_type": "code",
   "execution_count": 1,
   "metadata": {},
   "outputs": [],
   "source": [
    "import sympy as sym\n",
    "import numpy as np\n",
    "import matplotlib.pyplot as plt\n",
    "from IPython.display import display,Math"
   ]
  },
  {
   "cell_type": "markdown",
   "metadata": {},
   "source": [
    "# Renumber nodes 1,2,3 as 2,1,3"
   ]
  },
  {
   "cell_type": "code",
   "execution_count": 2,
   "metadata": {},
   "outputs": [],
   "source": [
    "def FrameElemStiffness(E,A,H,I):\n",
    "    return np.array([[E*A/H,0,0,-E*A/H,0,0],[0,12*E*I/(H**3),6*E*I/(H**2),0,-12*E*I/(H**3),6*E*I/(H**2)],[0,6*E*I/(H**2),4*E*I/H,0,-6*E*I/(H**2),2*E*I/(H)],[-E*A/H,0,0,E*A/H,0,0],[0,-12*E*I/(H**3),-6*E*I/(H**2),0,12*E*I/(H**3),-6*E*I/(H**2)],[0,6*E*I/(H**2),2*E*I/(H),0,-6*E*I/(H**2),4*E*I/(H)]])"
   ]
  },
  {
   "cell_type": "code",
   "execution_count": 3,
   "metadata": {},
   "outputs": [
    {
     "data": {
      "text/latex": [
       "$\\displaystyle All\\space distances\\space are\\space in\\space mm\\space and\\space loads\\space in\\space kN.$"
      ],
      "text/plain": [
       "<IPython.core.display.Math object>"
      ]
     },
     "metadata": {},
     "output_type": "display_data"
    },
    {
     "data": {
      "text/latex": [
       "$\\displaystyle Areas\\space are\\space in\\space mm^{2}\\space and\\space so\\space on.$"
      ],
      "text/plain": [
       "<IPython.core.display.Math object>"
      ]
     },
     "metadata": {},
     "output_type": "display_data"
    },
    {
     "name": "stdout",
     "output_type": "stream",
     "text": [
      "Enter the values of L1,L2,L3,w,E (in GPa),A and I  in the same order separated by commas\n",
      "2000,4000,3000,0.008,200,40000,1000000\n"
     ]
    }
   ],
   "source": [
    "display(Math('All\\space distances\\space are\\space in\\space mm\\space and\\space loads\\space in\\space kN.'))\n",
    "display(Math('Areas\\space are\\space in\\space mm^{2}\\space and\\space so\\space on.'))\n",
    "L1,L2,L3,w,E,A,I=input(\"Enter the values of L1,L2,L3,w,E (in GPa),A and I  in the same order separated by commas\\n\").split(',')\n",
    "L1,L2,L3,w,E,A,I=float(L1),float(L2),float(L3),float(w),float(E),float(A),float(I)"
   ]
  },
  {
   "cell_type": "markdown",
   "metadata": {},
   "source": [
    "# Element stiffness matrices"
   ]
  },
  {
   "cell_type": "code",
   "execution_count": 4,
   "metadata": {},
   "outputs": [],
   "source": [
    "#Element 1                        (connecting nodes 2 and 1)\n",
    "L_3=np.sqrt(L1**2+L3**2)\n",
    "c1,s1=-L1/L_3,L3/L_3\n",
    "k1_l=FrameElemStiffness(E,A,L_3,I)\n",
    "T1=np.array([[c1,s1,0,0,0,0],[-s1,c1,0,0,0,0],[0,0,1,0,0,0],[0,0,0,c1,s1,0],[0,0,0,-s1,c1,0],[0,0,0,0,0,1]])\n",
    "\n",
    "k1=np.linalg.multi_dot([np.matrix.transpose(T1),k1_l,T1])\n",
    "\n",
    "As_1=[1,2,3,4,5,6]\n",
    "\n",
    "k2=FrameElemStiffness(E,A,L2,I)\n",
    "\n",
    "As_2=[1,2,3,7,8,9]"
   ]
  },
  {
   "cell_type": "markdown",
   "metadata": {},
   "source": [
    "# Total structure stiffness matrix"
   ]
  },
  {
   "cell_type": "code",
   "execution_count": 6,
   "metadata": {},
   "outputs": [
    {
     "data": {
      "text/latex": [
       "$\\displaystyle K_{TS}\\space(in\\space kN/mm)=\\left[\\begin{matrix}682.74338211223 & -1024.03826852579 & 76.8046425542625 & -682.74338211223 & 1024.03826852579 & 76.8046425542625 & 0.0 & 0.0 & 0.0\\\\-1024.03826852579 & 1536.10860588372 & 51.203095036175 & 1024.03826852579 & -1536.10860588372 & 51.203095036175 & 0.0 & 0.0 & 0.0\\\\76.8046425542625 & 51.203095036175 & 221880.078490092 & -76.8046425542625 & -51.203095036175 & 110940.039245046 & 0.0 & 0.0 & 0.0\\\\-682.74338211223 & 1024.03826852579 & -76.8046425542625 & 2682.74338211223 & -1024.03826852579 & -76.8046425542625 & -2000.0 & 0.0 & 0.0\\\\1024.03826852579 & -1536.10860588372 & -51.203095036175 & -1024.03826852579 & 1536.14610588372 & 23.796904963825 & 0.0 & -0.0375 & 75.0\\\\76.8046425542625 & 51.203095036175 & 110940.039245046 & -76.8046425542625 & 23.796904963825 & 421880.078490092 & 0.0 & -75.0 & 100000.0\\\\0.0 & 0.0 & 0.0 & -2000.0 & 0.0 & 0.0 & 2000.0 & 0.0 & 0.0\\\\0.0 & 0.0 & 0.0 & 0.0 & -0.0375 & -75.0 & 0.0 & 0.0375 & -75.0\\\\0.0 & 0.0 & 0.0 & 0.0 & 75.0 & 100000.0 & 0.0 & -75.0 & 200000.0\\end{matrix}\\right]$"
      ],
      "text/plain": [
       "<IPython.core.display.Math object>"
      ]
     },
     "metadata": {},
     "output_type": "display_data"
    }
   ],
   "source": [
    "As_com=[As_1,As_2]\n",
    "k_com=[k1,k2]\n",
    "\n",
    "Kts=np.zeros([9,9])\n",
    "for i in range(2):       # for 2 elements\n",
    "    for j in range(6):   # both 6s for member dofs          \n",
    "        for k in range(6):\n",
    "            Kts[As_com[i][j]-1][As_com[i][k]-1]+=k_com[i][j][k]\n",
    "\n",
    "#Correcting for renumbering\n",
    "r=[4,5,6,1,2,3,7,8,9]\n",
    "\n",
    "Kts_actual=np.zeros([9,9])\n",
    "\n",
    "for i in range(9):\n",
    "    for j in range(9):\n",
    "        Kts_actual[r[i]-1][r[j]-1]+=Kts[i][j]\n",
    "display(Math('K_{TS}\\space(in\\space kN/mm)=%s'%(sym.latex(sym.sympify(Kts_actual)))))"
   ]
  },
  {
   "cell_type": "markdown",
   "metadata": {},
   "source": [
    "# Kpp, Kxp and F"
   ]
  },
  {
   "cell_type": "code",
   "execution_count": 11,
   "metadata": {},
   "outputs": [],
   "source": [
    "Kpp=Kts[0:3,0:3]\n",
    "Kxp=Kts[3:9,0:3]\n",
    "\n",
    "F=np.transpose(np.array([[0,-w*L2/2,-(w*L2**2)/12]]))\n"
   ]
  },
  {
   "cell_type": "markdown",
   "metadata": {},
   "source": [
    "# Displacements"
   ]
  },
  {
   "cell_type": "code",
   "execution_count": 12,
   "metadata": {},
   "outputs": [
    {
     "data": {
      "text/latex": [
       "$\\displaystyle Displacements\\space at\\space node\\space 2 (in\\space mm\\space and\\space rad)=\\left[\\begin{matrix}-0.00610316323080579\\\\-0.0140925349308679\\\\-0.025283962441173\\end{matrix}\\right]$"
      ],
      "text/plain": [
       "<IPython.core.display.Math object>"
      ]
     },
     "metadata": {},
     "output_type": "display_data"
    }
   ],
   "source": [
    "Ikpp=np.linalg.inv(Kpp)                     \n",
    "\n",
    "Dp=np.dot(Ikpp,F)\n",
    "display(Math('Displacements\\space at\\space node\\space 2 (in\\space mm\\space and\\space rad)=%s'%sym.latex(sym.sympify(Dp))))"
   ]
  },
  {
   "cell_type": "markdown",
   "metadata": {},
   "source": [
    "# Reactions"
   ]
  },
  {
   "cell_type": "code",
   "execution_count": 13,
   "metadata": {},
   "outputs": [
    {
     "data": {
      "text/latex": [
       "$\\displaystyle Reactions\\space (in\\space kN\\space and\\space kNmm)=\\left[\\begin{matrix}-12.2063264616116\\\\14.1031743468521\\\\-2803.81345281824\\\\12.2063264616116\\\\17.8968256531479\\\\-13196.1198509038\\end{matrix}\\right]$"
      ],
      "text/plain": [
       "<IPython.core.display.Math object>"
      ]
     },
     "metadata": {},
     "output_type": "display_data"
    }
   ],
   "source": [
    "X_n=np.dot(Kxp,Dp)                    # This time, X includes forces acting along reactions\n",
    "X=X_n+np.transpose(np.array([[0,0,0,0,w*L2/2,-(w*L2**2)/12]]))\n",
    "\n",
    "display(Math('Reactions\\space (in\\space kN\\space and\\space kNmm)=%s'%sym.latex(sym.sympify(X))))"
   ]
  },
  {
   "cell_type": "markdown",
   "metadata": {},
   "source": [
    "# Element forces"
   ]
  },
  {
   "cell_type": "code",
   "execution_count": 18,
   "metadata": {},
   "outputs": [
    {
     "data": {
      "text/latex": [
       "$\\displaystyle Axial\\space force(kN),\\space shear\\space force(kN)\\space and\\space bending\\space moment(kNmm)\\space for\\space element\\space 1 =\\left[\\begin{matrix}-18.5054020498414\\\\-2.33324394757023\\\\-5608.81723831224\\\\18.5054020498414\\\\2.33324394757023\\\\-2803.81345281824\\end{matrix}\\right]$"
      ],
      "text/plain": [
       "<IPython.core.display.Math object>"
      ]
     },
     "metadata": {},
     "output_type": "display_data"
    },
    {
     "data": {
      "text/latex": [
       "$\\displaystyle Axial\\space force(kN),\\space shear\\space force(kN)\\space and\\space bending\\space moment(kNmm)\\space for\\space element\\space 2 =\\left[\\begin{matrix}-12.2063264616116\\\\14.1031743468521\\\\5608.81723831224\\\\12.2063264616116\\\\17.8968256531479\\\\-13196.1198509038\\end{matrix}\\right]$"
      ],
      "text/plain": [
       "<IPython.core.display.Math object>"
      ]
     },
     "metadata": {},
     "output_type": "display_data"
    }
   ],
   "source": [
    "D1=np.zeros([6,1])\n",
    "for i in range(6):\n",
    "    if As_1[i]<=3:\n",
    "        D1[i]+=Dp[As_1[i]-1]\n",
    "\n",
    "D1_l=np.matmul(T1,D1)                                   # l for local\n",
    "\n",
    "#local force vector\n",
    "f_1=np.matmul(k1_l,D1_l)\n",
    "\n",
    "D2=np.zeros([6,1])\n",
    "for i in range(6):\n",
    "    if As_1[i]<=3:\n",
    "        D2[i]+=Dp[As_2[i]-1]\n",
    "\n",
    "# Considering contribution from fixed-end forces\n",
    "\n",
    "f_2=np.matmul(k2,D2)+np.transpose(np.array([[0,w*L2/2,(w*L2**2)/12,0,w*L2/2,-(w*L2**2)/12]]))\n",
    "display(Math('Axial\\space force(kN),\\space shear\\space force(kN)\\space and\\space bending\\space moment(kNmm)\\space for\\space element\\space 1 =%s'%sym.latex(sym.sympify(f_1))))\n",
    "display(Math('Axial\\space force(kN),\\space shear\\space force(kN)\\space and\\space bending\\space moment(kNmm)\\space for\\space element\\space 2 =%s'%sym.latex(sym.sympify(f_2))))"
   ]
  },
  {
   "cell_type": "markdown",
   "metadata": {},
   "source": [
    "# AFD (considering compression as negative)"
   ]
  },
  {
   "cell_type": "code",
   "execution_count": 20,
   "metadata": {},
   "outputs": [
    {
     "data": {
      "image/png": "[encoded data removed]",
      "text/plain": [
       "<Figure size 432x288 with 2 Axes>"
      ]
     },
     "metadata": {
      "needs_background": "light"
     },
     "output_type": "display_data"
    }
   ],
   "source": [
    "plt.subplot(1,2,1)\n",
    "plt.plot([0,L_3],[-f_1[0],-f_1[0]])\n",
    "plt.title('AFD for element 1')\n",
    "\n",
    "plt.subplot(1,2,2)\n",
    "plt.plot([0,L2],[-f_2[0],-f_2[0]])\n",
    "plt.title('AFD for element 2')\n",
    "\n",
    "\n",
    "plt.tight_layout()\n",
    "plt.show()"
   ]
  },
  {
   "cell_type": "markdown",
   "metadata": {},
   "source": [
    "# SFD"
   ]
  },
  {
   "cell_type": "code",
   "execution_count": 22,
   "metadata": {},
   "outputs": [
    {
     "data": {
      "image/png": "[encoded data removed]",
      "text/plain": [
       "<Figure size 432x288 with 2 Axes>"
      ]
     },
     "metadata": {
      "needs_background": "light"
     },
     "output_type": "display_data"
    }
   ],
   "source": [
    "plt.subplot(1,2,1)\n",
    "plt.plot([0,L_3],[f_1[1],f_1[1]])\n",
    "plt.title('SFD for element 1')\n",
    "\n",
    "plt.subplot(1,2,2)\n",
    "plt.plot([0,L2],[f_2[1],f_2[1]])\n",
    "plt.title('SFD for element 2')\n",
    "\n",
    "\n",
    "plt.tight_layout()\n",
    "plt.show()"
   ]
  },
  {
   "cell_type": "markdown",
   "metadata": {},
   "source": [
    "# BMD"
   ]
  },
  {
   "cell_type": "code",
   "execution_count": 23,
   "metadata": {},
   "outputs": [
    {
     "data": {
      "image/png": "[encoded data removed]",
      "text/plain": [
       "<Figure size 432x288 with 2 Axes>"
      ]
     },
     "metadata": {
      "needs_background": "light"
     },
     "output_type": "display_data"
    }
   ],
   "source": [
    "x1_plot=np.linspace(0,L_3,20)\n",
    "x2_plot=np.linspace(0,L2,20)\n",
    "\n",
    "\n",
    "M1_plot=-f_1[2]+f_1[1]*x1_plot\n",
    "M2_plot=-f_2[2]+f_2[1]*x2_plot-w*x2_plot*x2_plot/2\n",
    "\n",
    "\n",
    "plt.subplot(1,3,1)\n",
    "plt.plot(x1_plot,M1_plot,'r-')\n",
    "plt.title('BMD for element 1')\n",
    "\n",
    "plt.subplot(1,3,2)\n",
    "plt.plot(x2_plot,M2_plot,'k-')\n",
    "plt.title('BMD for element 2')\n",
    "\n",
    "\n",
    "\n",
    "plt.tight_layout()\n",
    "plt.show()"
   ]
  }
 ],
 "metadata": {
  "kernelspec": {
   "display_name": "Python 3.8.3 64-bit",
   "language": "python",
   "name": "python38364bitf246d704c71342ae9d7b6a8ca1c3887b"
  },
  "language_info": {
   "codemirror_mode": {
    "name": "ipython",
    "version": 3
   },
   "file_extension": ".py",
   "mimetype": "text/x-python",
   "name": "python",
   "nbconvert_exporter": "python",
   "pygments_lexer": "ipython3",
   "version": "3.8.3"
  }
 },
 "nbformat": 4,
 "nbformat_minor": 4
}
