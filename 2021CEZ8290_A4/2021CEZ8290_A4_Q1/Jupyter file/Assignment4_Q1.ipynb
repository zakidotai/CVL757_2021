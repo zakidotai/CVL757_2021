{
 "cells": [
  {
   "cell_type": "code",
   "execution_count": 20,
   "id": "5b5c024b",
   "metadata": {},
   "outputs": [],
   "source": [
    "import numpy as np\n",
    "import matplotlib.pyplot as plt"
   ]
  },
  {
   "cell_type": "code",
   "execution_count": 55,
   "id": "48fec0a6",
   "metadata": {},
   "outputs": [],
   "source": [
    "#coordinates and connectivity\n",
    "\n",
    "Cord=np.array([[0,0],[0,3],[4,3],[4,0]])\n",
    "Conec=np.array([[1,2],[2,3],[4,3]])-1\n",
    "theta=np.array([90,0,90],dtype=int)\n",
    "theta=np.deg2rad(theta,dtype=float,)\n",
    "membs=(Conec.shape[0])\n",
    "ndof=3*(Cord.shape[0])"
   ]
  },
  {
   "cell_type": "code",
   "execution_count": 56,
   "id": "02961585",
   "metadata": {
    "scrolled": true
   },
   "outputs": [],
   "source": [
    "#store the sin and cos of each member as C and S\n",
    "\n",
    "lamxy=np.zeros(Conec.shape)\n",
    "for i in range(len(Conec)):\n",
    "    C=np.cos(theta[i])\n",
    "    S=np.sin(theta[i])\n",
    "    lamxy[i]=np.array([C,S])\n"
   ]
  },
  {
   "cell_type": "code",
   "execution_count": 57,
   "id": "eb17bd33",
   "metadata": {},
   "outputs": [],
   "source": [
    "#section information\n",
    "\n",
    "E=210e6\n",
    "A=2e-2\n",
    "I=5e-5\n"
   ]
  },
  {
   "cell_type": "code",
   "execution_count": 58,
   "id": "6295f0fe",
   "metadata": {},
   "outputs": [],
   "source": [
    "#function calucates length of each member\n",
    "def Lmember(Cordinates, Conec,member=1):\n",
    "    m=member\n",
    "    Cord=Cordinates\n",
    "    Conec=Conec\n",
    "    x1,y1= Cord[Conec[m,0]][0], Cord[Conec[m,0]][1]\n",
    "    x2,y2= Cord[Conec[m,1]][0], Cord[Conec[m,1]][1]\n",
    "    L=np.power( (np.power((x1-x2),2) + np.power((y1-y2),2)),0.5)\n",
    "    return L\n"
   ]
  },
  {
   "cell_type": "code",
   "execution_count": 59,
   "id": "e936881f",
   "metadata": {},
   "outputs": [],
   "source": [
    "#length of all the members stored in Lenths array\n",
    "Lenths=np.zeros((membs,))\n",
    "for i in range(membs):\n",
    "    Lenths[i]=Lmember(Cord,Conec,member=i)\n",
    "    "
   ]
  },
  {
   "cell_type": "code",
   "execution_count": 60,
   "id": "482797d4",
   "metadata": {},
   "outputs": [],
   "source": [
    "#element stiffness matrix\n",
    "km=np.zeros((membs,6,6))\n",
    "for i in range(membs):\n",
    "    L=Lenths[i]\n",
    "    C=lamxy[i][0]\n",
    "    S=lamxy[i][1]\n",
    "    \n",
    "    P=((12*I)/L**2) \n",
    "    Q= (6*I)/L\n",
    "\n",
    "    km[i]= (E/L)*np.array([ [A*C**2 + P*S**2 , (A-P)*C*S, -Q*S, -(A*C**2 + P*S**2), -(A-P)*C*S, -Q*S],\n",
    "                  [(A-P)*C*S,  A*S**2 + P*C**2, Q*C, -(A-P)*C*S, -(A*S**2 + P*C**2) ,Q*C],\n",
    "                 [-Q*S,Q*C,4*I, Q*S,-Q*C,2*I],\n",
    "                 [ -(A*C**2 + P*S**2), -(A-P)*C*S, Q*S, (A*C**2 + P*S**2), (A-P)*C*S, Q*S],\n",
    "                 [-(A-P)*C*S, -(A*S**2 + P*C**2) , -Q*C, -(A-P)*C*S,A*S**2+P*C**2, -P*C ],\n",
    "                 [-Q*S,Q*C,2*I,Q*S,-Q*C,4*I]])\n",
    "\n"
   ]
  },
  {
   "cell_type": "code",
   "execution_count": 61,
   "id": "603a7fe0",
   "metadata": {},
   "outputs": [
    {
     "name": "stdout",
     "output_type": "stream",
     "text": [
      "[[ 0  1  2  3  4  5]\n",
      " [ 3  4  5  6  7  8]\n",
      " [ 9 10 11  6  7  8]]\n"
     ]
    }
   ],
   "source": [
    "#connectivity information of each member\n",
    "\n",
    "dofs=np.array([[1,2,3],[4,5,6],[7,8,9],[10,11,12]])-1\n",
    "Cord=np.array([[0,0],[0,3],[4,3],[4,0]])\n",
    "Conec=np.array([[1,2],[2,3],[4,3]])-1\n",
    "dof_label=np.zeros((membs,6),dtype=int)\n",
    "for i in range(membs):\n",
    "    p,q=Conec[i]\n",
    "    dof_label[i]=np.concatenate((dofs[p],dofs[q]),)   \n",
    "print(dof_label)  "
   ]
  },
  {
   "cell_type": "code",
   "execution_count": 75,
   "id": "15c14de1",
   "metadata": {},
   "outputs": [
    {
     "name": "stdout",
     "output_type": "stream",
     "text": [
      "[[  0.047   0.     -0.07   -0.047  -0.     -0.07    0.      0.      0.\n",
      "    0.      0.      0.   ]\n",
      " [  0.     14.      0.     -0.    -14.      0.      0.      0.      0.\n",
      "    0.      0.      0.   ]\n",
      " [ -0.07    0.      0.14    0.07   -0.      0.07    0.      0.      0.\n",
      "    0.      0.      0.   ]\n",
      " [ -0.047  -0.      0.07   10.547  -0.      0.07  -10.5     0.      0.\n",
      "    0.      0.      0.   ]\n",
      " [ -0.    -14.     -0.      0.     14.02    0.039   0.     -0.02    0.039\n",
      "    0.      0.      0.   ]\n",
      " [ -0.07    0.      0.07    0.07    0.039   0.245   0.     -0.039   0.052\n",
      "    0.      0.      0.   ]\n",
      " [  0.      0.      0.    -10.5     0.      0.     10.547  -0.      0.07\n",
      "   -0.047  -0.      0.07 ]\n",
      " [  0.      0.      0.      0.     -0.02   -0.039   0.     14.02   -0.039\n",
      "   -0.    -14.     -0.   ]\n",
      " [  0.      0.      0.      0.      0.039   0.052   0.07   -0.02    0.245\n",
      "   -0.07    0.      0.07 ]\n",
      " [  0.      0.      0.      0.      0.      0.     -0.047  -0.     -0.07\n",
      "    0.047   0.     -0.07 ]\n",
      " [  0.      0.      0.      0.      0.      0.     -0.    -14.      0.\n",
      "    0.     14.      0.   ]\n",
      " [  0.      0.      0.      0.      0.      0.      0.07   -0.      0.07\n",
      "   -0.07    0.      0.14 ]]\n"
     ]
    }
   ],
   "source": [
    "#global matrix\n",
    "\n",
    "# np.set_printoptions(precision=4)\n",
    "np.set_printoptions(suppress=True,precision=3)\n",
    "KK=np.zeros((ndof,ndof))\n",
    "for p in range(km.shape[0]):\n",
    "    for q in range(km.shape[1]):\n",
    "        for r in range(km.shape[2]):\n",
    "            KK[dof_label[p][r],dof_label[p][q]]+=km[p][q][r]\n",
    "print(KK/100000)"
   ]
  },
  {
   "cell_type": "code",
   "execution_count": 76,
   "id": "b601e4af",
   "metadata": {},
   "outputs": [],
   "source": [
    "#post processing\n",
    "\n",
    "\n",
    "dof_seq=np.array([4,5,6,7,8,9,1,2,3,10,11,12])-1  #[knows unknowns]----\n",
    "free_dofs=6\n",
    "xx=free_dofs\n",
    "uk=dof_seq[-xx:]\n",
    "uu=dof_seq[:xx]"
   ]
  },
  {
   "cell_type": "code",
   "execution_count": 84,
   "id": "2e08d40f",
   "metadata": {},
   "outputs": [],
   "source": [
    "F=np.zeros((ndof,))\n",
    "UU=np.zeros((ndof,))\n",
    "U=np.zeros((ndof,))"
   ]
  },
  {
   "cell_type": "code",
   "execution_count": 85,
   "id": "a5d56ab6",
   "metadata": {},
   "outputs": [],
   "source": [
    "F[3]=-20 #kn\n",
    "F[8]=12 #kN-m\n",
    "F=F[dof_seq]\n",
    "fk=F[:xx]"
   ]
  },
  {
   "cell_type": "code",
   "execution_count": 86,
   "id": "c9c6dec4",
   "metadata": {
    "scrolled": true
   },
   "outputs": [],
   "source": [
    "#Kpp=KG[np.ix_(dof_seq[:xx],dof_seq[:xx])]\n",
    "k11=KK[np.ix_(uu,uu)]\n"
   ]
  },
  {
   "cell_type": "code",
   "execution_count": 87,
   "id": "ad3571f8",
   "metadata": {},
   "outputs": [
    {
     "name": "stdout",
     "output_type": "stream",
     "text": [
      " 10e6 \n",
      "* [[ 1.0547 -0.      0.007  -1.05    0.      0.    ]\n",
      " [ 0.      1.402   0.0039  0.     -0.002   0.0039]\n",
      " [ 0.007   0.0039  0.0245  0.     -0.0039  0.0053]\n",
      " [-1.05    0.      0.      1.0547 -0.      0.007 ]\n",
      " [ 0.     -0.002  -0.0039  0.      1.402  -0.0039]\n",
      " [ 0.      0.0039  0.0053  0.007  -0.002   0.0245]]\n"
     ]
    }
   ],
   "source": [
    "print(f' 10e6 \\n* {k11/1000000}')"
   ]
  },
  {
   "cell_type": "code",
   "execution_count": 88,
   "id": "3d2aedb9",
   "metadata": {},
   "outputs": [],
   "source": [
    "k11=np.linalg.inv(k11)\n",
    "# k11=np.round(k11,6)\n",
    "\n",
    "#unknown dof dispalcement\n",
    "UK=np.matmul(k11,fk)"
   ]
  },
  {
   "cell_type": "code",
   "execution_count": 89,
   "id": "41b5b83c",
   "metadata": {},
   "outputs": [
    {
     "name": "stdout",
     "output_type": "stream",
     "text": [
      "[-0.0038 -0.      0.0008 -0.0038  0.      0.0014]\n"
     ]
    }
   ],
   "source": [
    "np.set_printoptions(precision=4)\n",
    "print(UK)"
   ]
  },
  {
   "cell_type": "code",
   "execution_count": 91,
   "id": "b095a706",
   "metadata": {},
   "outputs": [],
   "source": [
    "#supplying unknown displacemnts into main nodal displacement vecotr\n",
    "UU[:xx]=UK\n",
    "\n",
    "#resequencing the nodal displacement vector as indexed from 0 - dofs\n",
    "U[dof_seq]=UU\n",
    "# for i in range(len(dof_seq)):\n",
    "#     U[dof_seq[i]]=UU[i]\n",
    "#     P[dof_seq[i]]=FF[i]"
   ]
  },
  {
   "cell_type": "code",
   "execution_count": null,
   "id": "113c0011",
   "metadata": {},
   "outputs": [],
   "source": []
  },
  {
   "cell_type": "code",
   "execution_count": 92,
   "id": "8dc7962f",
   "metadata": {},
   "outputs": [],
   "source": [
    "# for i in range(len(dof_seq)):\n",
    "#     U[dof_seq[i]]=UU[i]\n",
    "#     P[dof_seq[i]]=FF[i]"
   ]
  },
  {
   "cell_type": "code",
   "execution_count": 107,
   "id": "faf1fde8",
   "metadata": {},
   "outputs": [
    {
     "name": "stdout",
     "output_type": "stream",
     "text": [
      "Global forces vector\n",
      "[[ 12.1875]\n",
      " [  8.5841]\n",
      " [-21.0221]\n",
      " [-20.    ]\n",
      " [  0.    ]\n",
      " [  0.    ]\n",
      " [ -0.    ]\n",
      " [ -0.    ]\n",
      " [ 12.    ]\n",
      " [  7.8125]\n",
      " [ -8.5841]\n",
      " [-16.6297]]\n"
     ]
    }
   ],
   "source": [
    "#Global force vector\n",
    "F=np.matmul(KK,U)\n",
    "print(\"Global forces vector\")\n",
    "print(np.vstack(F))"
   ]
  },
  {
   "cell_type": "code",
   "execution_count": 94,
   "id": "4e9d4ee2",
   "metadata": {},
   "outputs": [],
   "source": [
    "#eleU stores element displacements of each dof \n",
    "eleU=np.zeros((membs,6))"
   ]
  },
  {
   "cell_type": "code",
   "execution_count": 95,
   "id": "7553762d",
   "metadata": {},
   "outputs": [],
   "source": [
    "for i in range(membs):\n",
    "    p,q=Conec[i]\n",
    "    eleU[i]=np.concatenate((U[dofs[p]],U[dofs[q]]))"
   ]
  },
  {
   "cell_type": "code",
   "execution_count": 96,
   "id": "9a9690d1",
   "metadata": {
    "scrolled": true
   },
   "outputs": [
    {
     "name": "stdout",
     "output_type": "stream",
     "text": [
      "[[ 0.     -0.0038  0.    ]\n",
      " [ 0.     -0.      0.    ]\n",
      " [ 0.      0.0008  0.    ]\n",
      " [-0.0038 -0.0038 -0.0038]\n",
      " [-0.      0.      0.    ]\n",
      " [ 0.0008  0.0014  0.0014]]\n"
     ]
    }
   ],
   "source": [
    "#eaach vector has the nodal displacements of a particular memeber\n",
    "print(eleU.T)"
   ]
  },
  {
   "cell_type": "code",
   "execution_count": 97,
   "id": "5c20e952",
   "metadata": {},
   "outputs": [],
   "source": [
    "#member force function\n",
    "def memforce(lamxy,Lenths,eleU,member=1):\n",
    "    i=member\n",
    "    L=Lenths[i]\n",
    "    C=lamxy[i][0]\n",
    "    S=lamxy[i][1]\n",
    "    w1 = E*A/L;\n",
    "    w2 = 12*E*I/(L*L*L);\n",
    "    w3 = 6*E*I/(L*L);\n",
    "    w4 = 4*E*I/L;\n",
    "    w5 = 2*E*I/L;\n",
    "    u=eleU[i].T\n",
    "    kprime = np.array([[w1, 0, 0, -w1, 0, 0],\n",
    "                       [0, w2, w3, 0, -w2, w3],\n",
    "                        [0, w3, w4, 0, -w3, w5],\n",
    "                        [-w1, 0, 0, w1, 0, 0,],\n",
    "                        [0, -w2, -w3, 0, w2, -w3],\n",
    "                       [0, w3, w5, 0, -w3, w4]]);\n",
    "    T = np.array([[C, S, 0, 0, 0, 0],\n",
    "                  [-S, C, 0, 0, 0, 0],\n",
    "                  [0, 0, 1, 0, 0, 0],\n",
    "                  [0, 0, 0, C, S, 0],\n",
    "                  [0, 0, 0, -S, C, 0],\n",
    "                  [0, 0, 0, 0, 0, 1]])\n",
    "    y = np.matmul(kprime,np.matmul(T,u))   #nodal force for each vector: kprime*T*u\n",
    "    return y"
   ]
  },
  {
   "cell_type": "code",
   "execution_count": 98,
   "id": "c37ef4ac",
   "metadata": {},
   "outputs": [],
   "source": [
    "#this stores the member forces of all the members \n",
    "memberforces=np.zeros((membs,6))\n",
    "for i in range(membs):\n",
    "    memberforces[i]=memforce(lamxy,Lenths,eleU, member=i)\n"
   ]
  },
  {
   "cell_type": "code",
   "execution_count": 99,
   "id": "5905915f",
   "metadata": {
    "scrolled": true
   },
   "outputs": [
    {
     "name": "stdout",
     "output_type": "stream",
     "text": [
      "[[  8.5841  -7.8125  -8.5841]\n",
      " [-12.1875   8.5841  -7.8125]\n",
      " [-21.0221  15.5405 -16.6297]\n",
      " [ -8.5841   7.8125   8.5841]\n",
      " [ 12.1875  -8.5841   7.8125]\n",
      " [-15.5405  18.7957  -6.8078]]\n"
     ]
    }
   ],
   "source": [
    "##member forces-Each column corrresponds to a particular member\n",
    "\n",
    "print(memberforces.T)"
   ]
  },
  {
   "cell_type": "markdown",
   "id": "1dbc1651",
   "metadata": {},
   "source": [
    "\n"
   ]
  },
  {
   "cell_type": "code",
   "execution_count": 100,
   "id": "e38881e6",
   "metadata": {
    "scrolled": true
   },
   "outputs": [],
   "source": [
    "\n",
    "#ploting SF, BM and Axial forces\n",
    "\n",
    "# fig,axs=plt.subplots(nrows=3, ncols=1, ) #sharex=True\n",
    "def figs(Lenths,member=1):\n",
    "    member=member\n",
    "    x=[0,Lenths[member]]\n",
    "    #bm\n",
    "    y_bm=np.multiply(memberforces[member,[2,-1]],np.array([-1,1]))\n",
    "    y_sf=np.multiply(memberforces[member,[1,-2]],np.array([1,-1]))\n",
    "    y_ax=memberforces[member,[-3,-3]]\n",
    "    plt.plot(x,y_bm,color='b',label=\"BM\")\n",
    "    plt.title(f'Member {member+1}')\n",
    "    plt.xlabel('Lenght-m')\n",
    "    plt.ylabel('kN-m')\n",
    "    plt.legend(bbox_to_anchor=(1.05, 1), loc=2, borderaxespad=0.)\n",
    "    plt.show()\n",
    "    \n",
    "    plt.plot(x,y_sf,color='g',label='SF')\n",
    "    plt.xlabel('Lenght-m')\n",
    "    plt.ylabel('kN')\n",
    "    plt.title(f'Member {member+1}')\n",
    "    plt.legend(bbox_to_anchor=(1.05, 1), loc=2, borderaxespad=0.)\n",
    "    plt.show()\n",
    "    \n",
    "    plt.plot(x,y_ax,color='k',label='Axial')\n",
    "    plt.title(f'Member {member+1}')\n",
    "    plt.xlabel('Length-m')\n",
    "    plt.ylabel('kN')\n",
    "    plt.legend(bbox_to_anchor=(1.05, 1), loc=2, borderaxespad=0.)\n",
    "    plt.show()\n",
    "# axs[0].plot(x,y_bm)\n",
    "# axs[1].plot(x,y_sf)\n",
    "# axs[2].plot(x,y_ax)\n",
    "\n",
    "\n",
    "# plt[0]=plt(x,y_bm)"
   ]
  },
  {
   "cell_type": "code",
   "execution_count": 105,
   "id": "e7fd6c93",
   "metadata": {},
   "outputs": [
    {
     "data": {
      "image/png": "[encoded data removed]",
      "text/plain": [
       "<Figure size 432x288 with 1 Axes>"
      ]
     },
     "metadata": {
      "needs_background": "light"
     },
     "output_type": "display_data"
    },
    {
     "data": {
      "image/png": "[encoded data removed]",
      "text/plain": [
       "<Figure size 432x288 with 1 Axes>"
      ]
     },
     "metadata": {
      "needs_background": "light"
     },
     "output_type": "display_data"
    },
    {
     "data": {
      "image/png": "[encoded data removed]",
      "text/plain": [
       "<Figure size 432x288 with 1 Axes>"
      ]
     },
     "metadata": {
      "needs_background": "light"
     },
     "output_type": "display_data"
    }
   ],
   "source": [
    "figs(Lenths,member=0)"
   ]
  },
  {
   "cell_type": "code",
   "execution_count": 101,
   "id": "e7174306",
   "metadata": {},
   "outputs": [
    {
     "data": {
      "image/png": "[encoded data removed]",
      "text/plain": [
       "<Figure size 432x288 with 1 Axes>"
      ]
     },
     "metadata": {
      "needs_background": "light"
     },
     "output_type": "display_data"
    },
    {
     "data": {
      "image/png": "[encoded data removed]",
      "text/plain": [
       "<Figure size 432x288 with 1 Axes>"
      ]
     },
     "metadata": {
      "needs_background": "light"
     },
     "output_type": "display_data"
    },
    {
     "data": {
      "image/png": "[encoded data removed]",
      "text/plain": [
       "<Figure size 432x288 with 1 Axes>"
      ]
     },
     "metadata": {
      "needs_background": "light"
     },
     "output_type": "display_data"
    }
   ],
   "source": [
    "figs(Lenths,member=1)"
   ]
  },
  {
   "cell_type": "code",
   "execution_count": 103,
   "id": "6d55e6a5",
   "metadata": {},
   "outputs": [
    {
     "data": {
      "image/png": "[encoded data removed]",
      "text/plain": [
       "<Figure size 432x288 with 1 Axes>"
      ]
     },
     "metadata": {
      "needs_background": "light"
     },
     "output_type": "display_data"
    },
    {
     "data": {
      "image/png": "[encoded data removed]",
      "text/plain": [
       "<Figure size 432x288 with 1 Axes>"
      ]
     },
     "metadata": {
      "needs_background": "light"
     },
     "output_type": "display_data"
    },
    {
     "data": {
      "image/png": "[encoded data removed]",
      "text/plain": [
       "<Figure size 432x288 with 1 Axes>"
      ]
     },
     "metadata": {
      "needs_background": "light"
     },
     "output_type": "display_data"
    }
   ],
   "source": [
    "figs(Lenths,member=2)"
   ]
  },
  {
   "cell_type": "code",
   "execution_count": null,
   "id": "dc452f8b",
   "metadata": {},
   "outputs": [],
   "source": []
  }
 ],
 "metadata": {
  "kernelspec": {
   "display_name": "Python 3 (ipykernel)",
   "language": "python",
   "name": "python3"
  },
  "language_info": {
   "codemirror_mode": {
    "name": "ipython",
    "version": 3
   },
   "file_extension": ".py",
   "mimetype": "text/x-python",
   "name": "python",
   "nbconvert_exporter": "python",
   "pygments_lexer": "ipython3",
   "version": "3.9.6"
  }
 },
 "nbformat": 4,
 "nbformat_minor": 5
}
