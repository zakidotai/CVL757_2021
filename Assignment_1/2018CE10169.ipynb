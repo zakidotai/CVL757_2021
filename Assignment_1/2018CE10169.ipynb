{
 "cells": [
  {
   "cell_type": "markdown",
   "source": [
    "<h1>Assignment 1"
   ],
   "metadata": {}
  },
  {
   "cell_type": "markdown",
   "source": [
    "<h3>Q1: Reversing a list"
   ],
   "metadata": {}
  },
  {
   "cell_type": "code",
   "execution_count": 77,
   "source": [
    "#following are sample input and corresponding outputs\r\n",
    "Input  = [12, 35, 9, 56, 24]\r\n",
    "Output = [24, 35, 9, 56, 12]\r\n",
    "\r\n",
    "#Input  = [1, 2, 3]\r\n",
    "#Output = [3, 2, 1]"
   ],
   "outputs": [],
   "metadata": {}
  },
  {
   "cell_type": "code",
   "execution_count": 80,
   "source": [
    "#write your solution here to reverse a list\r\n",
    "\r\n",
    "print(Input[::-1])"
   ],
   "outputs": [
    {
     "output_type": "stream",
     "name": "stdout",
     "text": [
      "[24, 56, 9, 35, 12]\n"
     ]
    }
   ],
   "metadata": {}
  },
  {
   "cell_type": "markdown",
   "source": [
    "<h3>Q2: Swapping elements in lists"
   ],
   "metadata": {}
  },
  {
   "cell_type": "code",
   "execution_count": 81,
   "source": [
    "Input  = [12, 35, 9, 56, 24]\r\n",
    "Output = [12, 9, 35, 56, 24]"
   ],
   "outputs": [],
   "metadata": {}
  },
  {
   "cell_type": "code",
   "execution_count": 83,
   "source": [
    "\r\n",
    "Input[1],Input[2]=Input[2],Input[1]\r\n",
    "print(Input)"
   ],
   "outputs": [
    {
     "output_type": "stream",
     "name": "stdout",
     "text": [
      "[12, 35, 9, 56, 24]\n"
     ]
    }
   ],
   "metadata": {}
  },
  {
   "cell_type": "markdown",
   "source": [
    "<h3>Q3: Reversing a string"
   ],
   "metadata": {}
  },
  {
   "cell_type": "code",
   "execution_count": 5,
   "source": [
    "input_str  = 'This is CVL757'\r\n",
    "output_str = '757LVC si sihT'"
   ],
   "outputs": [],
   "metadata": {}
  },
  {
   "cell_type": "code",
   "execution_count": 84,
   "source": [
    "#write your solution here\r\n",
    "print(input_str[::-1])"
   ],
   "outputs": [
    {
     "output_type": "stream",
     "name": "stdout",
     "text": [
      "757LVC si sihT\n"
     ]
    }
   ],
   "metadata": {}
  },
  {
   "cell_type": "markdown",
   "source": [
    "<h3>Q4: Reversing the order of words in a string"
   ],
   "metadata": {}
  },
  {
   "cell_type": "code",
   "execution_count": 7,
   "source": [
    "input_str  = 'This is CVL757'\r\n",
    "output_str = 'CVL757 is This'"
   ],
   "outputs": [],
   "metadata": {}
  },
  {
   "cell_type": "code",
   "execution_count": 87,
   "source": [
    "#write your solution here\r\n",
    "def rev_words(a :str,sep=' '):\r\n",
    "    a=a.split(sep)\r\n",
    "    return \" \".join(a[::-1])\r\n",
    "\r\n",
    "print(rev_words(input_str))"
   ],
   "outputs": [
    {
     "output_type": "stream",
     "name": "stdout",
     "text": [
      "CVL757 is This\n"
     ]
    }
   ],
   "metadata": {}
  },
  {
   "cell_type": "markdown",
   "source": [
    "<h3>Q5: Initialise a 3x3 matrix with random values, use numpy"
   ],
   "metadata": {}
  },
  {
   "cell_type": "code",
   "execution_count": 88,
   "source": [
    "import numpy as np\r\n",
    "        #write solution here"
   ],
   "outputs": [],
   "metadata": {}
  },
  {
   "cell_type": "code",
   "execution_count": 89,
   "source": [
    "\r\n",
    "np.random.seed(50)\r\n",
    "random_matrix =np.random.rand(3,3) \r\n",
    "print(random_matrix)"
   ],
   "outputs": [
    {
     "output_type": "stream",
     "name": "stdout",
     "text": [
      "[[0.49460165 0.2280831  0.25547392]\n",
      " [0.39632991 0.3773151  0.99657423]\n",
      " [0.4081972  0.77189399 0.76053669]]\n"
     ]
    }
   ],
   "metadata": {}
  },
  {
   "cell_type": "markdown",
   "source": [
    "<h3>Q6: Swap the columns of random_matrix"
   ],
   "metadata": {}
  },
  {
   "cell_type": "code",
   "execution_count": 90,
   "source": [
    "inp = np.array([[0.13806091, 0.82474243, 0.15646752],\r\n",
    "                [0.50029824, 0.45875794, 0.53401557],\r\n",
    "                [0.95397773, 0.79407795, 0.07442586]])\r\n",
    "\r\n",
    "out = np.array([[0.15646752, 0.82474243, 0.13806091],\r\n",
    "                [0.53401557, 0.45875794, 0.50029824],\r\n",
    "                [0.07442586, 0.79407795, 0.95397773]])\r\n",
    "\r\n",
    "print(inp)"
   ],
   "outputs": [
    {
     "output_type": "stream",
     "name": "stdout",
     "text": [
      "[[0.13806091 0.82474243 0.15646752]\n",
      " [0.50029824 0.45875794 0.53401557]\n",
      " [0.95397773 0.79407795 0.07442586]]\n"
     ]
    }
   ],
   "metadata": {}
  },
  {
   "cell_type": "code",
   "execution_count": 91,
   "source": [
    "#write your solution here to swap 1st and last column\r\n",
    "inp[:,[0,-1]]=inp[:,[-1,0]]\r\n",
    "\r\n",
    "print(inp)"
   ],
   "outputs": [
    {
     "output_type": "stream",
     "name": "stdout",
     "text": [
      "[[0.15646752 0.82474243 0.13806091]\n",
      " [0.53401557 0.45875794 0.50029824]\n",
      " [0.07442586 0.79407795 0.95397773]]\n"
     ]
    }
   ],
   "metadata": {}
  },
  {
   "cell_type": "markdown",
   "source": [
    "<h3>Q7: Swap the rows of random_matrix"
   ],
   "metadata": {}
  },
  {
   "cell_type": "code",
   "execution_count": 92,
   "source": [
    "inp = np.array([[0.13806091, 0.82474243, 0.15646752],\r\n",
    "               [0.50029824, 0.45875794, 0.53401557],\r\n",
    "               [0.95397773, 0.79407795, 0.07442586]])\r\n",
    "\r\n",
    "out = np.array([[0.95397773, 0.79407795, 0.07442586],\r\n",
    "               [0.50029824, 0.45875794, 0.53401557],\r\n",
    "               [0.13806091, 0.82474243, 0.15646752]])"
   ],
   "outputs": [],
   "metadata": {}
  },
  {
   "cell_type": "code",
   "execution_count": 93,
   "source": [
    "#write your solution here to swap 1st and 3rd rows\r\n",
    "inp[[0,2],:]=inp[[2,0],:]\r\n",
    "print(inp)"
   ],
   "outputs": [
    {
     "output_type": "stream",
     "name": "stdout",
     "text": [
      "[[0.95397773 0.79407795 0.07442586]\n",
      " [0.50029824 0.45875794 0.53401557]\n",
      " [0.13806091 0.82474243 0.15646752]]\n"
     ]
    }
   ],
   "metadata": {}
  },
  {
   "cell_type": "markdown",
   "source": [
    "<h3>Q8: Plot the sine and cosine curves as shown below"
   ],
   "metadata": {}
  },
  {
   "cell_type": "code",
   "execution_count": 15,
   "source": [
    "import matplotlib.pyplot as plt"
   ],
   "outputs": [],
   "metadata": {}
  },
  {
   "cell_type": "code",
   "execution_count": 97,
   "source": [
    "x = np.arange(0,2*np.pi,0.01)\r\n",
    "#write code here to plot and_and_and show the legend also\r\n",
    "fig,ax=plt.subplots(1,1)\r\n",
    "ax.plot(x,np.sin(x))\r\n",
    "ax.plot(x,np.cos(x))\r\n",
    "ax.set_xlabel(\"x------->\")\r\n",
    "ax.set_ylabel(\"f(x)------>\")\r\n",
    "ax.legend([\"Sin(x)\",\"Cos(x)\"])\r\n",
    "fig.savefig(\"2018CE10169_Q8.png\")\r\n",
    "plt.show()"
   ],
   "outputs": [
    {
     "output_type": "display_data",
     "data": {
      "image/png": "[encoded data removed]",
      "text/plain": [
       "<Figure size 432x288 with 1 Axes>"
      ]
     },
     "metadata": {
      "needs_background": "light"
     }
    }
   ],
   "metadata": {}
  },
  {
   "cell_type": "markdown",
   "source": [
    "<h3>Q9: Plot the following truss</h3>\n",
    "Length of element 2, 6 and 9 (between nodes 1 and 3, 3 and 5, and 5 and 9) is 5.<br>\n",
    "Length of element 3 and 7 is 7m.\n",
    " "
   ],
   "metadata": {}
  },
  {
   "cell_type": "markdown",
   "source": [
    "<img src='q9.svg' alt=\"Truss Q9\" width=\"500\" height=\"600\">"
   ],
   "metadata": {}
  },
  {
   "cell_type": "code",
   "execution_count": 98,
   "source": [
    "#write solution here\r\n",
    "Nodes=[1,2,3,4,5,6]\r\n",
    "Nod_cord=[(0,0),(5,7),(5,0),(10,7),(10,0),(15,0)]\r\n",
    "Elements=[(1,2),(1,3),(2,3),(2,4),(2,5),(3,5),(4,5),(4,6),(5,6)]\r\n",
    "\r\n",
    "fig,ax=plt.subplots(1,1)\r\n",
    "ax.scatter([i[0] for i in Nod_cord],[i[1] for i in Nod_cord],s=100,color='k')\r\n",
    "\r\n",
    "for i in Elements:\r\n",
    "    ax.plot([Nod_cord[i[0]-1][0],Nod_cord[i[1]-1][0]],[Nod_cord[i[0]-1][1],Nod_cord[i[1]-1][1]],color='k')\r\n",
    "\r\n",
    "ax.set_xlim(-2,17)\r\n",
    "ax.set_ylim(-2,10)\r\n",
    "fig.savefig(\"2018CE10169_Q9.png\")\r\n",
    "plt.show()"
   ],
   "outputs": [
    {
     "output_type": "display_data",
     "data": {
      "image/png": "[encoded data removed]",
      "text/plain": [
       "<Figure size 432x288 with 1 Axes>"
      ]
     },
     "metadata": {
      "needs_background": "light"
     }
    }
   ],
   "metadata": {}
  },
  {
   "cell_type": "markdown",
   "source": [
    "**Q10: Consider the plane truss shown above. Given E = 200GPa and A = 0.005m2, and horizontal load of 20kN at node 2. Both node 1 and node 6 have pin supports:**\n",
    "\n",
    "1. the global stiffness matrix for the structure.\n",
    "2. the horizontal and vertical displacements at nodes 2, 3, 4, and 5.\n",
    "3. the horizontal and vertical reactions at nodes 1 and 6.\n",
    "4. the stress in each element."
   ],
   "metadata": {}
  },
  {
   "cell_type": "code",
   "execution_count": 31,
   "source": [
    "#Defining a Node and Bar element\r\n",
    "import numpy as np\r\n",
    "class Node:\r\n",
    "    \"\"\"Node\r\n",
    "        -Num= node id\r\n",
    "        -Pos: [x,y] Coordinate Position\r\n",
    "        -Disp: [ux,uy],( =[None,None] if unknown)\r\n",
    "        -Restrained[i]==1 if restrained 0 if unrestrained\r\n",
    "        -Load Vector=[Px,Py]    (Default [0,0])\r\n",
    "        -Association :list ->Association[i]=Structure DOF corresponding to ith local DOF\r\n",
    "        \"\"\"\r\n",
    "    def __init__(self,num,Pos,Disp=[0.0,0.0],Restrain=[0,0],Load=[0,0],Association=[None,None]) -> None:\r\n",
    "        self.Num=id\r\n",
    "        self.Pos=np.asarray(Pos)\r\n",
    "        self.Disp_vec=np.asarray(Disp)\r\n",
    "        self.restrained=np.asarray(Restrain)\r\n",
    "        self.Load=np.asarray(Load)\r\n",
    "        self.Association=Association\r\n",
    "    def set_Pos(self,Pos):\r\n",
    "        self.Pos=Pos\r\n",
    "    def get_Pos(self):\r\n",
    "        return self.Pos\r\n",
    "    def get_ID(self):\r\n",
    "        return self.ID\r\n",
    "    def get_Disp(self):\r\n",
    "        return self.Disp_vec\r\n",
    "    def get_new_pos(self,scale=1.0):\r\n",
    "        prev_pos=self.Pos.reshape(-1,1)\r\n",
    "        Disp_vec=self.Disp_vec.reshape(-1,1)\r\n",
    "        new_pos=np.add(prev_pos,scale*Disp_vec)\r\n",
    "        return new_pos\r\n",
    "    def set_Disp(self,Disp):\r\n",
    "        self.Disp_vec=np.asarray(Disp)\r\n",
    "    def get_Load(self):\r\n",
    "        return self.Load\r\n",
    "    def get_restrains(self):\r\n",
    "        return self.restrained\r\n",
    "    def set_Load(self,Load=[0,0]):\r\n",
    "        self.Load=np.asarray(Load)\r\n",
    "    def set_Restr(self,Restrain=[0,0]):\r\n",
    "        self.restrained=np.asarray(Restrain)\r\n",
    "    def get_Association(self):\r\n",
    "        res=[]\r\n",
    "        res=self.Association.copy()\r\n",
    "        return res\r\n",
    "    def set_Association(self,Association :list):\r\n",
    "        assert len(Association)==2\r\n",
    "        self.Association=Association\r\n",
    "class Bar_element:\r\n",
    "    \"\"\"Bar Element\r\n",
    "        -E,A,L  (Material and Geometrical properties)\r\n",
    "        -K[2x2]=[[k -k],[-k,k]] (Local Stiffness matrix where k=EA/L)\r\n",
    "        -Theta (in degrees) from global x-axis\r\n",
    "        -N1, N2 :Nodes of element\"\"\"\r\n",
    "    def __init__(self,N1:Node,N2 :Node,E=1,A=1) -> None:\r\n",
    "        self.L=np.linalg.norm(np.add(N2.get_Pos(),-1*N1.get_Pos()))\r\n",
    "        self.N1=N1\r\n",
    "        self.N2=N2\r\n",
    "        self.E=E\r\n",
    "        self.A=A\r\n",
    "        self.K=E*A/self.L\r\n",
    "        if(np.add(N2.get_Pos(),-1*N1.get_Pos())[0]==0.0):\r\n",
    "            self.Theta=90.0\r\n",
    "        else:\r\n",
    "            self.Theta=np.arctan(np.add(N2.get_Pos(),-1*N1.get_Pos())[1]/np.add(N2.get_Pos(),-1*N1.get_Pos())[0])*180/np.pi\r\n",
    "        \r\n",
    "    def get_local_k(self):\r\n",
    "        #Returns local stiffness matrix [2x2]\r\n",
    "        return np.asarray([[self.K,-1*self.K],[-1*self.K,self.K]])\r\n",
    "\r\n",
    "    def get_disp(self):\r\n",
    "        return np.concatenate((self.N1.get_Disp(),self.N2.get_Disp()))\r\n",
    "    \r\n",
    "    def get_force(self):\r\n",
    "        return np.concatenate((self.N1.get_Load(),self.N2.get_Load()))\r\n",
    "    def get_global_k(self):\r\n",
    "        #Return global stiffness matrix =[T]'*[K_Local]*[T]\r\n",
    "        #T=[[cos()  sin()   0   0   ],\r\n",
    "        #   [0      0   cos()   sin()]]\r\n",
    "        if(self.Theta==90.0):\r\n",
    "            c=0.0\r\n",
    "            s=1.0\r\n",
    "        else:\r\n",
    "            c=np.cos(self.Theta*np.pi/180)\r\n",
    "            s=np.sin(self.Theta*np.pi/180)\r\n",
    "        T :np.ndarray=np.asarray([[c,s,0.0,0.0],[0.0,0.0,c,s]])\r\n",
    "        K_Local=self.get_local_k()\r\n",
    "        return np.dot(np.dot(T.T,K_Local),T)\r\n",
    "\r\n",
    "    def get_stress(self):\r\n",
    "        U=self.get_disp()\r\n",
    "        #Convert to local coodrinates\r\n",
    "        if(self.Theta==90.0):\r\n",
    "            c=0.0\r\n",
    "            s=1.0\r\n",
    "        else:\r\n",
    "            c=np.cos(self.Theta*np.pi/180)\r\n",
    "            s=np.sin(self.Theta*np.pi/180)\r\n",
    "        T :np.ndarray=np.asarray([[c,s,0.0,0.0],[0.0,0.0,c,s]])\r\n",
    "        U_local=np.dot(T,U)\r\n",
    "        #print(\"Nodal Displacements(Local):\",U_local)\r\n",
    "        #print(\"Nodal Forces(Local)       :\",np.dot(self.get_local_k(),U_local))\r\n",
    "        return (U_local[1]-U_local[0])*self.E/self.L\r\n",
    "    def get_Nodal_Force(self):\r\n",
    "        U=self.get_disp()\r\n",
    "        #Convert to local coodrinates\r\n",
    "        if(self.Theta==90.0):\r\n",
    "            c=0.0\r\n",
    "            s=1.0\r\n",
    "        else:\r\n",
    "            c=np.cos(self.Theta*np.pi/180)\r\n",
    "            s=np.sin(self.Theta*np.pi/180)\r\n",
    "        T :np.ndarray=np.asarray([[c,s,0.0,0.0],[0.0,0.0,c,s]])\r\n",
    "        U_local=np.dot(T,U)\r\n",
    "        #print(\"Nodal Displacements(Local):\",U_local)\r\n",
    "        #print(\"Nodal Forces(Local)       :\",np.dot(self.get_local_k(),U_local))\r\n",
    "        return np.dot(self.get_local_k(),U_local)\r\n",
    "    def set_E(self,E):\r\n",
    "        self.E=E\r\n",
    "    def set_A(self,A):\r\n",
    "        self.A=A\r\n",
    "    def get_E(self):\r\n",
    "        return self.E\r\n",
    "    def get_A(self):\r\n",
    "        return self.A\r\n",
    "    def get_Nodes(self):\r\n",
    "        return [self.N1,self.N2]\r\n",
    "    def get_Association(self):\r\n",
    "        return self.N1.get_Association()+self.N2.get_Association()\r\n",
    "    "
   ],
   "outputs": [],
   "metadata": {}
  },
  {
   "cell_type": "code",
   "execution_count": 100,
   "source": [
    "#write solution here \r\n",
    "\r\n",
    "#units= kN-m\r\n",
    "\r\n",
    "#Step1: Define the Node coordinates and elements as set of two nodes\r\n",
    "Nod_cord=[(0,0),(5,7),(5,0),(10,7),(10,0),(15,0)]\r\n",
    "Elements=[(1,2),(1,3),(2,3),(2,4),(2,5),(3,5),(4,5),(4,6),(5,6)]\r\n",
    "\r\n",
    "#Step2: Create Nodes and elements\r\n",
    "Nodes=dict()\r\n",
    "Elem=dict()\r\n",
    "for i in range(len(Nod_cord)):\r\n",
    "    Nodes[i+1]=Node(i+1,[Nod_cord[i][0],Nod_cord[i][1]])\r\n",
    "\r\n",
    "#Step3: Apply Loads and Restraints\r\n",
    "Nodes[2].set_Load([20,0])\r\n",
    "Nodes[1].set_Restr([1,1])   #1 for restrained, 0 for unrestrained [Ux_restr,Uy_restr]\r\n",
    "Nodes[6].set_Restr([1,1])\r\n",
    "for i in range(len(Elements)):\r\n",
    "    N1=Elements[i][0]\r\n",
    "    N2=Elements[i][1]\r\n",
    "    Elem[i+1]=Bar_element(Nodes[N1],Nodes[N2],E=2e8,A=0.005)\r\n",
    "\r\n",
    "\r\n",
    "#Step 4: Node numbering with structural dofs, forming association matrices\r\n",
    "Count_P=0\r\n",
    "DOF_counter=0\r\n",
    "for i in Nodes.keys():\r\n",
    "    #Take node\r\n",
    "    node :Node=Nodes[i]\r\n",
    "    restr=node.get_restrains()\r\n",
    "    #Check its restraints , restr[j]==0 implies unrestrained, restr[j]==1 implies restrained\r\n",
    "    #restr=node.get_Restr()\r\n",
    "    Associate=node.get_Association()\r\n",
    "    for j in range(len(restr)):\r\n",
    "        if(restr[j]==0):\r\n",
    "            Associate[j]=DOF_counter\r\n",
    "            Count_P+=1\r\n",
    "            DOF_counter+=1\r\n",
    "    node.set_Association(Associate)\r\n",
    "\r\n",
    "    #Now number restrained joints\r\n",
    "for i in Nodes.keys():\r\n",
    "    #Take node\r\n",
    "    node :Node=Nodes[i]\r\n",
    "    #Check its restraints\r\n",
    "    restr1=Nodes[i].get_restrains()\r\n",
    "    Associate=node.get_Association()\r\n",
    "    for j in range(len(restr1)):\r\n",
    "        if(restr1[j]==1):\r\n",
    "            Associate[j]=DOF_counter\r\n",
    "            DOF_counter+=1\r\n",
    "    node.set_Association(Associate)\r\n",
    "\r\n",
    "\r\n",
    "#Step 5: ASSEMBLING\r\n",
    "    #Global stiffness maTriX [K_total] (2n x 2n), [Force Vector](nx1) and [Displacement Vector](nx1)\r\n",
    "N=2*len(Nodes)\r\n",
    "P=Count_P            #No. of Unrestrained joints for KPP :P x P\r\n",
    "K_Ts=np.zeros((N,N)) #Total stiffness matrix\r\n",
    "for i in Elem.keys():\r\n",
    "    member :Bar_element=Elem[i]\r\n",
    "    Association=member.get_Association()\r\n",
    "    k_g=member.get_global_k()\r\n",
    "    K_Ts[np.ix_(Association,Association)]=np.add(K_Ts[np.ix_(Association,Association)],k_g)\r\n",
    "\r\n",
    "#print(K_Ts)\r\n",
    "\r\n",
    "F=np.zeros((N,1))    #Nodal Force vector\r\n",
    "U=np.zeros((N,1))    #Nodal Displacement Vector\r\n",
    "for i in Nodes.keys():\r\n",
    "    node :Node =Nodes[i]\r\n",
    "    Association=node.get_Association()\r\n",
    "    node_disp=node.get_Disp().reshape(-1,1)\r\n",
    "    node_force=node.get_Load().reshape(-1,1)\r\n",
    "    F[Association]=node_force\r\n",
    "    U[Association]=node_disp\r\n",
    "\r\n",
    "#Step 6: Partition [K_total] into Kpp,Kpx,Kxp,Kxx and [U] into Up,Ux, and [F] into Fp,Fx\r\n",
    "\r\n",
    "Kpp=K_Ts[:P,:P]\r\n",
    "Kpx=K_Ts[:P,P:]\r\n",
    "Kxp=K_Ts[P:,:P]\r\n",
    "Kxx=K_Ts[P:,P:]\r\n",
    "\r\n",
    "Fp=F[:P]\r\n",
    "Fx=F[P:]\r\n",
    "Up=U[:P]\r\n",
    "Ux=U[P:]\r\n",
    "\r\n",
    "#Step 7: Solve the F-D relation equations\r\n",
    "\"\"\"Solving force-displacement equations\r\n",
    "    [Kpp]{Up}+[Kpx]{Ux}={Fp}\r\n",
    "    [Kxp]{Up}+[Kxx]{Ux}={Fx}\r\n",
    "\r\n",
    "    {Up}=[Kpp]^(-1){[Fp]-[Kpx][Ux]}     #Unknown forces \r\n",
    "    {Fx}=[Kxp]{Up}+[Kxx]{Ux}            #Unknown Reactions\r\n",
    "\"\"\"\r\n",
    "Up=np.dot(np.linalg.inv(Kpp),np.add(Fp,-1*np.dot(Kpx,Ux)))\r\n",
    "Fx=np.add(np.dot(Kxp,Up),np.dot(Kxx,Ux))\r\n",
    "U=np.concatenate((Up,Ux))\r\n",
    "F=np.concatenate((Fp,Fx))\r\n",
    "\r\n",
    "#Step 8: UPDATING NODAL VALUES with outputs\r\n",
    "for i in Nodes.keys():\r\n",
    "    node :Node =Nodes[i]\r\n",
    "    Association=node.get_Association()\r\n",
    "    node.set_Disp(U[Association])\r\n",
    "    node.set_Load(F[Association])\r\n",
    "    \r\n",
    "\r\n",
    "#Step 9 :Print Results\r\n",
    "print(\"Results\")\r\n",
    "print(\"\\nNode\\tUx(mm)\\tUy(mm)\\tFx(kN)\\tFy(kN)\")\r\n",
    "for i in Nodes.keys():\r\n",
    "    node :Node =Nodes[i]\r\n",
    "    Disp_node=node.get_Disp()\r\n",
    "    Disp_force=node.get_Load()\r\n",
    "    print(i,\"\\t%8.7f\\t %8.7f\\t %8.7f\\t %8.7f\"%(Disp_node[0][0]*1000,Disp_node[1][0]*1000,Disp_force[0][0],Disp_force[1][0]))\r\n",
    "\r\n",
    "print(\"\\nElement\\tStress(kN/m^2)\")\r\n",
    "for i in Elem.keys():\r\n",
    "    member :Bar_element =Elem[i]\r\n",
    "    stress=member.get_stress()\r\n",
    "    Nodal_force=member.get_Nodal_Force()\r\n",
    "    print(i,'\\t',\"%5.4f\"%stress[0])\r\n",
    "\r\n",
    "\r\n"
   ],
   "outputs": [
    {
     "output_type": "stream",
     "name": "stdout",
     "text": [
      "Results\n",
      "\n",
      "Node\tUx(mm)\tUy(mm)\tFx(kN)\tFy(kN)\n",
      "1 \t0.0000000\t 0.0000000\t -8.8888889\t -9.3333333\n",
      "2 \t0.2187600\t -0.0350053\t 20.0000000\t 0.0000000\n",
      "3 \t0.0111111\t -0.0350053\t 0.0000000\t 0.0000000\n",
      "4 \t0.1854266\t 0.0111958\t 0.0000000\t 0.0000000\n",
      "5 \t0.0222222\t -0.0541376\t 0.0000000\t 0.0000000\n",
      "6 \t0.0000000\t 0.0000000\t -11.1111111\t 9.3333333\n",
      "\n",
      "Element\tStress(kN/m^2)\n",
      "1 \t 2293.9534\n",
      "2 \t 444.4444\n",
      "3 \t 0.0000\n",
      "4 \t -1333.3333\n",
      "5 \t -2293.9534\n",
      "6 \t 444.4444\n",
      "7 \t -1866.6667\n",
      "8 \t -2293.9534\n",
      "9 \t -888.8889\n"
     ]
    }
   ],
   "metadata": {}
  },
  {
   "cell_type": "markdown",
   "source": [
    "<H1>BONUS QUESTION</H1>\n",
    "Plot the deformed shape of truss obtained in Q10"
   ],
   "metadata": {}
  },
  {
   "cell_type": "code",
   "execution_count": 101,
   "source": [
    "#write solution here\r\n",
    "Nod_cord=[(0,0),(5,7),(5,0),(10,7),(10,0),(15,0)]\r\n",
    "New_cord=[]\r\n",
    "Scale=2000\r\n",
    "for i in Nodes.keys():\r\n",
    "    coord=list(Nodes[i].get_new_pos(Scale).flat)\r\n",
    "    New_cord+=[(coord[0],coord[1])]\r\n",
    "Elements=[(1,2),(1,3),(2,3),(2,4),(2,5),(3,5),(4,5),(4,6),(5,6)]\r\n",
    "\r\n",
    "fig,ax=plt.subplots(1,1)\r\n",
    "ax.scatter([i[0] for i in New_cord],[i[1] for i in New_cord],s=100,color='k')\r\n",
    "\r\n",
    "for i in Elements:\r\n",
    "    ax.plot([New_cord[i[0]-1][0],New_cord[i[1]-1][0]],[New_cord[i[0]-1][1],New_cord[i[1]-1][1]],color='k',linestyle='--')\r\n",
    "    ax.plot([Nod_cord[i[0]-1][0],Nod_cord[i[1]-1][0]],[Nod_cord[i[0]-1][1],Nod_cord[i[1]-1][1]],color='b')\r\n",
    "\r\n",
    "ax.legend([\"Deflected\",\"Original\"])\r\n",
    "fig.savefig(\"2018CE10169_Q11.png\")\r\n",
    "plt.show()\r\n"
   ],
   "outputs": [
    {
     "output_type": "display_data",
     "data": {
      "image/png": "[encoded data removed]",
      "text/plain": [
       "<Figure size 432x288 with 1 Axes>"
      ]
     },
     "metadata": {
      "needs_background": "light"
     }
    }
   ],
   "metadata": {}
  },
  {
   "cell_type": "code",
   "execution_count": null,
   "source": [],
   "outputs": [],
   "metadata": {}
  }
 ],
 "metadata": {
  "interpreter": {
   "hash": "5c45d054ff7e3515fce9eec686a49e209967f958079ad1677afbc7181e38d20c"
  },
  "kernelspec": {
   "name": "python3",
   "display_name": "Python 3.7.2 32-bit"
  },
  "language_info": {
   "codemirror_mode": {
    "name": "ipython",
    "version": 3
   },
   "file_extension": ".py",
   "mimetype": "text/x-python",
   "name": "python",
   "nbconvert_exporter": "python",
   "pygments_lexer": "ipython3",
   "version": "3.7.2"
  }
 },
 "nbformat": 4,
 "nbformat_minor": 4
}