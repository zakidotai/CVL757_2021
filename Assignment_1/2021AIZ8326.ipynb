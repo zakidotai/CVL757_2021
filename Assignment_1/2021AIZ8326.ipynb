{
 "cells": [
  {
   "cell_type": "markdown",
   "metadata": {},
   "source": [
    "<h1>Assignment 1"
   ]
  },
  {
   "cell_type": "markdown",
   "metadata": {},
   "source": [
    "<h3>Q1: Reversing a list"
   ]
  },
  {
   "cell_type": "code",
   "execution_count": 2,
   "metadata": {},
   "outputs": [],
   "source": [
    "#following are sample input and corresponding outputs\n",
    "Input  = [12, 35, 9, 56, 24]\n",
    "Output = [24, 35, 9, 56, 12]\n",
    "\n",
    "Input  = [1, 2, 3]\n",
    "Output = [3, 2, 1]"
   ]
  },
  {
   "cell_type": "code",
   "execution_count": 3,
   "metadata": {},
   "outputs": [
    {
     "data": {
      "text/plain": [
       "[3, 2, 1]"
      ]
     },
     "execution_count": 3,
     "metadata": {},
     "output_type": "execute_result"
    }
   ],
   "source": [
    "#write your solution here to reverse a list\n",
    "list(reversed(Input))\n"
   ]
  },
  {
   "cell_type": "markdown",
   "metadata": {},
   "source": [
    "<h3>Q2: Swapping elements in lists"
   ]
  },
  {
   "cell_type": "code",
   "execution_count": 4,
   "metadata": {},
   "outputs": [],
   "source": [
    "Input  = [12, 35, 9, 56, 24]\n",
    "Output = [12, 9, 35, 56, 24]"
   ]
  },
  {
   "cell_type": "code",
   "execution_count": 5,
   "metadata": {},
   "outputs": [],
   "source": [
    "#write your solution here\n",
    "Input[1], Input[2] = Input[1], Input[2]\n"
   ]
  },
  {
   "cell_type": "markdown",
   "metadata": {},
   "source": [
    "<h3>Q3: Reversing a string"
   ]
  },
  {
   "cell_type": "code",
   "execution_count": 6,
   "metadata": {},
   "outputs": [],
   "source": [
    "input_str  = 'This is CVL757'\n",
    "output_str = '757LVC si sihT'"
   ]
  },
  {
   "cell_type": "code",
   "execution_count": 8,
   "metadata": {},
   "outputs": [
    {
     "data": {
      "text/plain": [
       "'757LVC si sihT'"
      ]
     },
     "execution_count": 8,
     "metadata": {},
     "output_type": "execute_result"
    }
   ],
   "source": [
    "#write your solution here\n",
    "input_str[::-1]"
   ]
  },
  {
   "cell_type": "markdown",
   "metadata": {},
   "source": [
    "<h3>Q4: Reversing the order of words in a string"
   ]
  },
  {
   "cell_type": "code",
   "execution_count": 9,
   "metadata": {},
   "outputs": [],
   "source": [
    "input_str  = 'This is CVL757'\n",
    "output_str = 'CVL757 is This'"
   ]
  },
  {
   "cell_type": "code",
   "execution_count": 11,
   "metadata": {},
   "outputs": [
    {
     "data": {
      "text/plain": [
       "'CVL757 is This'"
      ]
     },
     "execution_count": 11,
     "metadata": {},
     "output_type": "execute_result"
    }
   ],
   "source": [
    "#write your solution here\n",
    "temp = input_str.split(\" \")[::-1]\n",
    "out = ' '.join(word for word in temp)\n",
    "out"
   ]
  },
  {
   "cell_type": "markdown",
   "metadata": {},
   "source": [
    "<h3>Q5: Initialise a 3x3 matrix with random values, use numpy"
   ]
  },
  {
   "cell_type": "code",
   "execution_count": 13,
   "metadata": {},
   "outputs": [],
   "source": [
    "#write solution here"
   ]
  },
  {
   "cell_type": "code",
   "execution_count": 14,
   "metadata": {},
   "outputs": [
    {
     "data": {
      "text/plain": [
       "array([[0.5488135 , 0.71518937, 0.60276338],\n",
       "       [0.54488318, 0.4236548 , 0.64589411],\n",
       "       [0.43758721, 0.891773  , 0.96366276]])"
      ]
     },
     "execution_count": 14,
     "metadata": {},
     "output_type": "execute_result"
    }
   ],
   "source": [
    "import numpy as np\n",
    "np.random.seed(0)\n",
    "random_matrix = np.random.rand(3,3)\n",
    "random_matrix"
   ]
  },
  {
   "cell_type": "markdown",
   "metadata": {},
   "source": [
    "<h3>Q6: Swap the columns of random_matrix"
   ]
  },
  {
   "cell_type": "code",
   "execution_count": 15,
   "metadata": {},
   "outputs": [],
   "source": [
    "inp = np.array([[0.13806091, 0.82474243, 0.15646752],\n",
    "                [0.50029824, 0.45875794, 0.53401557],\n",
    "                [0.95397773, 0.79407795, 0.07442586]])\n",
    "\n",
    "out = np.array([[0.15646752, 0.82474243, 0.13806091],\n",
    "                [0.53401557, 0.45875794, 0.50029824],\n",
    "                [0.07442586, 0.79407795, 0.95397773]])\n",
    "\n"
   ]
  },
  {
   "cell_type": "code",
   "execution_count": 18,
   "metadata": {},
   "outputs": [
    {
     "data": {
      "text/plain": [
       "array([[0.60276338, 0.71518937, 0.5488135 ],\n",
       "       [0.64589411, 0.4236548 , 0.54488318],\n",
       "       [0.96366276, 0.891773  , 0.43758721]])"
      ]
     },
     "execution_count": 18,
     "metadata": {},
     "output_type": "execute_result"
    }
   ],
   "source": [
    "#write your solution here to swap 1st and last column\n",
    "random_matrix[:, [2,0]] = random_matrix[:, [0,2]]\n",
    "random_matrix"
   ]
  },
  {
   "cell_type": "markdown",
   "metadata": {},
   "source": [
    "<h3>Q7: Swap the rows of random_matrix"
   ]
  },
  {
   "cell_type": "code",
   "execution_count": 72,
   "metadata": {},
   "outputs": [],
   "source": [
    "inp = np.array([[0.13806091, 0.82474243, 0.15646752],\n",
    "               [0.50029824, 0.45875794, 0.53401557],\n",
    "               [0.95397773, 0.79407795, 0.07442586]])\n",
    "\n",
    "out = np.array([[0.95397773, 0.79407795, 0.07442586],\n",
    "               [0.50029824, 0.45875794, 0.53401557],\n",
    "               [0.13806091, 0.82474243, 0.15646752]])"
   ]
  },
  {
   "cell_type": "code",
   "execution_count": 19,
   "metadata": {},
   "outputs": [
    {
     "data": {
      "text/plain": [
       "array([[0.96366276, 0.891773  , 0.43758721],\n",
       "       [0.64589411, 0.4236548 , 0.54488318],\n",
       "       [0.60276338, 0.71518937, 0.5488135 ]])"
      ]
     },
     "execution_count": 19,
     "metadata": {},
     "output_type": "execute_result"
    }
   ],
   "source": [
    "#write your solution here to swap 1st and 3rd rows\n",
    "random_matrix[[2,0], :] = random_matrix[[0,2], :]\n",
    "random_matrix"
   ]
  },
  {
   "cell_type": "markdown",
   "metadata": {},
   "source": [
    "<h3>Q8: Plot the sine and cosine curves as shown below"
   ]
  },
  {
   "cell_type": "code",
   "execution_count": 20,
   "metadata": {},
   "outputs": [],
   "source": [
    "import matplotlib.pyplot as plt"
   ]
  },
  {
   "cell_type": "code",
   "execution_count": 21,
   "metadata": {},
   "outputs": [
    {
     "data": {
      "image/png": "[encoded data removed]",
      "text/plain": [
       "<Figure size 432x288 with 1 Axes>"
      ]
     },
     "metadata": {
      "needs_background": "light"
     },
     "output_type": "display_data"
    }
   ],
   "source": [
    "x = np.arange(0,2*np.pi,0.01)\n",
    "#write code here to plot and show the legend also\n",
    "plt.plot(x, np.sin(x))\n",
    "plt.plot(x, np.cos(x))\n",
    "plt.xlabel('X axis')\n",
    "plt.ylabel('Y axis')\n",
    "plt.legend(['sin(θ)', 'cos(θ)'])\n",
    "plt.show()"
   ]
  },
  {
   "cell_type": "markdown",
   "metadata": {},
   "source": [
    "<h3>Q9: Plot the following truss</h3>\n",
    "Length of element 2, 6 and 9 (between nodes 1 and 3, 3 and 5, and 5 and 9) is 5.<br>\n",
    "Length of element 3 and 7 is 7m.\n",
    " "
   ]
  },
  {
   "cell_type": "markdown",
   "metadata": {},
   "source": [
    "<img src='q9.svg' alt=\"Truss Q9\" width=\"500\" height=\"600\">"
   ]
  },
  {
   "cell_type": "code",
   "execution_count": 22,
   "metadata": {},
   "outputs": [
    {
     "data": {
      "image/png": "[encoded data removed]",
      "text/plain": [
       "<Figure size 432x288 with 1 Axes>"
      ]
     },
     "metadata": {
      "needs_background": "light"
     },
     "output_type": "display_data"
    }
   ],
   "source": [
    "#write solution here\n",
    "import matplotlib.pyplot as plt\n",
    "nodes=[1,2,3,4,5,6]\n",
    "cords=[(0,0),(5,7),(5,0),(10,7),(10,0),(15,0)]\n",
    "members=[(1,2),(1,3),(2,3),(2,4),(2,5),(3,5),(4,5),(4,6),(5,6)]\n",
    "\n",
    "fig,ax=plt.subplots(1,1)\n",
    "\n",
    "for i in cords:\n",
    "    ax.scatter(i[0], i[1], color='k')\n",
    "    \n",
    "for i in members:\n",
    "    ax.plot([cords[nodes.index(i[0])][0],cords[nodes.index(i[1])][0]], \n",
    "            [cords[nodes.index(i[0])][1],cords[nodes.index(i[1])][1]], color='k')"
   ]
  },
  {
   "cell_type": "markdown",
   "metadata": {},
   "source": [
    "**Q10: Consider the plane truss shown above. Given E = 200GPa and A = 0.005m2,\n",
    "determine and horizontal load of 20kN at node 2. Both node 1 and node 6 have pin supports:**\n",
    "\n",
    "1. the global stiffness matrix for the structure.\n",
    "2. the horizontal and vertical displacements at nodes 2, 3, 4, and 5.\n",
    "3. the horizontal and vertical reactions at nodes 1 and 6.\n",
    "4. the stress in each element."
   ]
  },
  {
   "cell_type": "code",
   "execution_count": 24,
   "metadata": {},
   "outputs": [
    {
     "name": "stdout",
     "output_type": "stream",
     "text": [
      "Element:  1\n",
      "Nodal Displacements(Local): [[0.00000000e+00]\n",
      " [9.86666667e-05]]\n",
      "Nodal Forces(Local)       : [[-11.46976702]\n",
      " [ 11.46976702]]\n",
      "Stress:  [2293.95340454]\n",
      "Element:  2\n",
      "Nodal Displacements(Local): [[0.00000000e+00]\n",
      " [6.66666667e-05]]\n",
      "Nodal Forces(Local)       : [[-13.33333333]\n",
      " [ 13.33333333]]\n",
      "Stress:  [2666.66666667]\n",
      "Element:  3\n",
      "Nodal Displacements(Local): [[-0.00010114]\n",
      " [-0.00010114]]\n",
      "Nodal Forces(Local)       : [[ 1.77635684e-15]\n",
      " [-1.77635684e-15]]\n",
      "Stress:  [-3.87215062e-13]\n",
      "Element:  4\n",
      "Nodal Displacements(Local): [[0.00031135]\n",
      " [0.00027802]]\n",
      "Nodal Forces(Local)       : [[ 6.66666667]\n",
      " [-6.66666667]]\n",
      "Stress:  [-1333.33333333]\n",
      "Element:  5\n",
      "Nodal Displacements(Local): [[0.00026327]\n",
      " [0.00016461]]\n",
      "Nodal Forces(Local)       : [[ 11.46976702]\n",
      " [-11.46976702]]\n",
      "Stress:  [-2293.95340454]\n",
      "Element:  6\n",
      "Nodal Displacements(Local): [[6.66666667e-05]\n",
      " [1.33333333e-04]]\n",
      "Nodal Forces(Local)       : [[-13.33333333]\n",
      " [ 13.33333333]]\n",
      "Stress:  [2666.66666667]\n",
      "Element:  7\n",
      "Nodal Displacements(Local): [[-4.17142857e-05]\n",
      " [-1.07047619e-04]]\n",
      "Nodal Forces(Local)       : [[ 9.33333333]\n",
      " [-9.33333333]]\n",
      "Stress:  [-1866.66666667]\n",
      "Element:  8\n",
      "Nodal Displacements(Local): [[1.95539699e-04]\n",
      " [9.68730323e-05]]\n",
      "Nodal Forces(Local)       : [[ 11.46976702]\n",
      " [-11.46976702]]\n",
      "Stress:  [-2293.95340454]\n",
      "Element:  9\n",
      "Nodal Displacements(Local): [[0.00013333]\n",
      " [0.00016667]]\n",
      "Nodal Forces(Local)       : [[-6.66666667]\n",
      " [ 6.66666667]]\n",
      "Stress:  [1333.33333333]\n"
     ]
    }
   ],
   "source": [
    "#write solution here\n",
    "import numpy as np\n",
    "\n",
    "class Node:\n",
    "    \"\"\"Node\n",
    "        -Num= node id\n",
    "        -Pos: Coordinate Position\n",
    "        -Disp: [ux,uy], =[None,None] if unknown\n",
    "        -Restrained[i]==1 if restrained 0 if unrestrained\n",
    "        -Load Vector=[Px,Py]\n",
    "        -Association[i]=Structure DOF corresponding to ith local dof\n",
    "        \"\"\"\n",
    "    def __init__(self,num,Pos,Disp=[0.0,0.0],Restrain=[0,0],Load=[0,0],Association=[None,None]) -> None:\n",
    "        self.Num=id\n",
    "        self.Pos=np.asarray(Pos)\n",
    "        self.Disp_vec=np.asarray(Disp)\n",
    "        self.restrained=np.asarray(Restrain)\n",
    "        self.Load=np.asarray(Load)\n",
    "        self.Association=Association\n",
    "    def set_Pos(self,Pos):\n",
    "        self.Pos=Pos\n",
    "    def get_Pos(self):\n",
    "        return self.Pos\n",
    "    def get_ID(self):\n",
    "\n",
    "        return self.ID\n",
    "    def get_Disp(self):\n",
    "        return self.Disp_vec\n",
    "    def get_disp_pos(self,exxag=1.0):\n",
    "        prev_pos=self.Pos.reshape(-1,1)\n",
    "        Disp_vec=self.Disp_vec.reshape(-1,1)\n",
    "        new_pos=np.add(prev_pos,exxag*Disp_vec)\n",
    "        return new_pos\n",
    "    def set_Disp(self,Disp):\n",
    "        self.Disp_vec=np.asarray(Disp)\n",
    "    def get_Load(self):\n",
    "        return self.Load\n",
    "    def get_restrains(self):\n",
    "        return self.restrained\n",
    "    def set_Load(self,Load=[0,0]):\n",
    "        self.Load=np.asarray(Load)\n",
    "    def set_Restr(self,Restrain=[0,0]):\n",
    "        self.restrained=np.asarray(Restrain)\n",
    "    def get_Association(self):\n",
    "        res=[]\n",
    "        res=self.Association.copy()\n",
    "        return res\n",
    "    def set_Association(self,Association :list):\n",
    "        assert len(Association)==2\n",
    "        self.Association=Association\n",
    "        \n",
    "class Bar_element:\n",
    "    \"\"\"Bar Element\n",
    "        -E,A,L\n",
    "        -K[2x2]=[[k -k],[-k,k]]\n",
    "        -Theta (in degrees) from global axes\"\"\"\n",
    "    def __init__(self,N1:Node,N2 :Node,E=1,A=1) -> None:\n",
    "        self.L=np.linalg.norm(np.add(N2.get_Pos(),-1*N1.get_Pos()))\n",
    "        self.N1=N1\n",
    "        self.N2=N2\n",
    "        self.E=E\n",
    "        self.A=A\n",
    "        self.K=E*A/self.L\n",
    "        if(np.add(N2.get_Pos(),-1*N1.get_Pos())[0]==0.0):\n",
    "            self.Theta=90.0\n",
    "        else:\n",
    "            self.Theta=np.arctan(np.add(N2.get_Pos(),-1*N1.get_Pos())[1]/np.add(N2.get_Pos(),-1*N1.get_Pos())[0])*180/np.pi\n",
    "        \n",
    "    def get_local_k(self):\n",
    "        #Returns local stiffness matrix [2x2]\n",
    "        return np.asarray([[self.K,-1*self.K],[-1*self.K,self.K]])\n",
    "\n",
    "    def get_disp(self):\n",
    "        return np.concatenate((self.N1.get_Disp(),self.N2.get_Disp()))\n",
    "    \n",
    "    def get_force(self):\n",
    "        return np.concatenate((self.N1.get_Load(),self.N2.get_Load()))\n",
    "    def get_global_k(self):\n",
    "        #Return global stiffness matrix =[T]'*[K_Local]*[T]\n",
    "        #T=[[cos()  sin()   0   0   ],\n",
    "        #   [0      0   cos()   sin()]]\n",
    "        if(self.Theta==90.0):\n",
    "            c=0.0\n",
    "            s=1.0\n",
    "        else:\n",
    "            c=np.cos(self.Theta*np.pi/180)\n",
    "            s=np.sin(self.Theta*np.pi/180)\n",
    "        T :np.ndarray=np.asarray([[c,s,0.0,0.0],[0.0,0.0,c,s]])\n",
    "        K_Local=self.get_local_k()\n",
    "        return np.dot(np.dot(T.T,K_Local),T)\n",
    "\n",
    "    def get_stress(self):\n",
    "        U=self.get_disp()\n",
    "        #Convert to local coodrinates\n",
    "        if(self.Theta==90.0):\n",
    "            c=0.0\n",
    "            s=1.0\n",
    "        else:\n",
    "            c=np.cos(self.Theta*np.pi/180)\n",
    "            s=np.sin(self.Theta*np.pi/180)\n",
    "        T :np.ndarray=np.asarray([[c,s,0.0,0.0],[0.0,0.0,c,s]])\n",
    "        U_local=np.dot(T,U)\n",
    "        print(\"Nodal Displacements(Local):\",U_local)\n",
    "        print(\"Nodal Forces(Local)       :\",np.dot(self.get_local_k(),U_local))\n",
    "        return (U_local[1]-U_local[0])*self.E/self.L\n",
    "    def set_E(self,E):\n",
    "        self.E=E\n",
    "    def set_A(self,A):\n",
    "        self.A=A\n",
    "    def get_E(self):\n",
    "        return self.E\n",
    "    def get_A(self):\n",
    "        return self.A\n",
    "    def get_Nodes(self):\n",
    "        return [self.N1,self.N2]\n",
    "    def get_Association(self):\n",
    "        return self.N1.get_Association()+self.N2.get_Association()\n",
    "    \n",
    "\n",
    "import numpy as np\n",
    "Nod_cord=[(0,0),(5,7),(5,0),(10,7),(10,0),(15,0)]\n",
    "Elements=[(1,2),(1,3),(2,3),(2,4),(2,5),(3,5),(4,5),(4,6),(5,6)]\n",
    "\n",
    "Nodes=dict()\n",
    "Elem=dict()\n",
    "for i in range(len(Nod_cord)):\n",
    "    Nodes[i+1]=Node(i+1,[Nod_cord[i][0],Nod_cord[i][1]])\n",
    "Nodes[2].set_Load([20,0])\n",
    "Nodes[1].set_Restr([1,1])\n",
    "Nodes[6].set_Restr([0,1])\n",
    "for i in range(len(Elements)):\n",
    "    N1=Elements[i][0]\n",
    "    N2=Elements[i][1]\n",
    "    Elem[i+1]=Bar_element(Nodes[N1],Nodes[N2],E=2e8,A=0.005)\n",
    "    \n",
    "#Node numbering with structural dofs, forming association matrices\n",
    "Count_P=0\n",
    "DOF_counter=0\n",
    "for i in Nodes.keys():\n",
    "    #Take node\n",
    "    node :Node=Nodes[i]\n",
    "    restr=node.get_restrains()\n",
    "    Associate=node.get_Association()\n",
    "    for j in range(len(restr)):\n",
    "        if(restr[j]==0):\n",
    "            Associate[j]=DOF_counter\n",
    "            Count_P+=1\n",
    "            DOF_counter+=1\n",
    "    node.set_Association(Associate)\n",
    "    \n",
    "#Now number restrained joints\n",
    "\n",
    "for i in Nodes.keys():\n",
    "    #Take node\n",
    "    node :Node=Nodes[i]\n",
    "    #Check its restraints\n",
    "    restr1=Nodes[i].get_restrains()\n",
    "    Associate=node.get_Association()\n",
    "    for j in range(len(restr1)):\n",
    "        if(restr1[j]==1):\n",
    "            Associate[j]=DOF_counter\n",
    "            DOF_counter+=1\n",
    "    node.set_Association(Associate)\n",
    "\n",
    "N=2*len(Nodes)\n",
    "P=Count_P\n",
    "K_Ts=np.zeros((N,N))\n",
    "\n",
    "for i in Elem.keys():\n",
    "    member :Bar_element=Elem[i]\n",
    "    Association=member.get_Association()\n",
    "    k_g=member.get_global_k()\n",
    "    K_Ts[np.ix_(Association,Association)]=np.add(K_Ts[np.ix_(Association,Association)],k_g)\n",
    "    \n",
    "F=np.zeros((N,1))\n",
    "U=np.zeros((N,1))\n",
    "for i in Nodes.keys():\n",
    "    node :Node =Nodes[i]\n",
    "    Association=node.get_Association()\n",
    "    node_disp =node.get_Disp().reshape( -1,1)\n",
    "    node_force=node.get_Load().reshape( -1,1)\n",
    "    F[Association]=node_force\n",
    "    U[Association]=node_disp\n",
    "    \n",
    "#partition into Kpp,Kxp,Kpx,Kxx and Up,Ux,Fp,Fx\n",
    "\n",
    "Kpp =K_Ts[:P,:P]\n",
    "Kpx =K_Ts[:P,P:]\n",
    "Kxp =K_Ts[ P:,:P]\n",
    "Kxx =K_Ts[ P:,P:]\n",
    "\n",
    "\n",
    "Fp=F[:P]\n",
    "Fx=F[P:]\n",
    "Up=U[:P]\n",
    "Ux=U[P:]\n",
    "\n",
    "\"\"\"Solving force-displacement equations\n",
    "   [Kpp]{Up}+[Kpx]{Ux}={Fp}\n",
    "   [Kxp]{Up}+[Kxx]{Ux}={Fx}\n",
    "   \n",
    "   {Up}=[Kpp]A(-1){[Fp]-[Kpx][Ux]}\n",
    "   {Fx}=[Kxp]{Up}+[Kxx]{Ux}\n",
    " \"\"\"\n",
    "Up=np.dot(np.linalg.inv(Kpp),np.add(Fp,-1*np.dot(Kpx,Ux)))\n",
    "Fx=np.add(np.dot(Kxp,Up),np.dot(Kxx,Ux))\n",
    "U=np.concatenate((Up,Ux))\n",
    "F=np.concatenate((Fp,Fx))\n",
    "\n",
    "#Updating Nodal Values\n",
    "for i in Nodes.keys():\n",
    "    node :Node =Nodes[i]\n",
    "    Association=node.get_Association()\n",
    "    node.set_Disp(U[Association])\n",
    "    node_force=node.set_Load(F[Association])\n",
    "    \n",
    "for i in Elem.keys():\n",
    "    member :Bar_element =Elem[i]\n",
    "    print(\"Element: \",i)\n",
    "    stress=member.get_stress()\n",
    "    print(\"Stress: \",stress)"
   ]
  },
  {
   "cell_type": "markdown",
   "metadata": {},
   "source": [
    "<H1>BONUS QUESTION</H1>\n",
    "Plot the defomred shape of truss obtained in Q10"
   ]
  },
  {
   "cell_type": "code",
   "execution_count": 25,
   "metadata": {},
   "outputs": [
    {
     "data": {
      "image/png": "[encoded data removed]",
      "text/plain": [
       "<Figure size 432x288 with 1 Axes>"
      ]
     },
     "metadata": {
      "needs_background": "light"
     },
     "output_type": "display_data"
    }
   ],
   "source": [
    "#write solution here\n",
    "Nod_cord=[(0,0),(5,7),(5,0),(10,7),(10,0),(15,0)]\n",
    "New_cord=[]\n",
    "for i in Nodes.keys():\n",
    "    \n",
    "    coord=list(Nodes[i].get_disp_pos(2000.0).flat)\n",
    "    New_cord+=[(coord[0],coord[1])]\n",
    "Elements=[(1,2),(1,3),(2,3),(2,4),(2,5),(3,5),(4,5),(4,6),(5,6)]\n",
    "\n",
    "fig,ax=plt.subplots(1,1)\n",
    "ax.scatter([i[0] for i in New_cord],[i[1] for i in New_cord],s=100,color='k')\n",
    "\n",
    "for i in Elements:\n",
    "    ax.plot([New_cord[i[0]-1][0],New_cord[i[1]-1][0]],[New_cord[i[0]-1][1],New_cord[i[1]-1][1]],color='k',linestyle='--')\n",
    "    ax.plot([Nod_cord[i[0]-1][0],Nod_cord[i[1]-1][0]],[Nod_cord[i[0]-1][1],Nod_cord[i[1]-1][1]],color='r')"
   ]
  },
  {
   "cell_type": "code",
   "execution_count": null,
   "metadata": {},
   "outputs": [],
   "source": []
  }
 ],
 "metadata": {
  "kernelspec": {
   "display_name": "Python 3",
   "language": "python",
   "name": "python3"
  },
  "language_info": {
   "codemirror_mode": {
    "name": "ipython",
    "version": 3
   },
   "file_extension": ".py",
   "mimetype": "text/x-python",
   "name": "python",
   "nbconvert_exporter": "python",
   "pygments_lexer": "ipython3",
   "version": "3.6.5"
  }
 },
 "nbformat": 4,
 "nbformat_minor": 4
}
