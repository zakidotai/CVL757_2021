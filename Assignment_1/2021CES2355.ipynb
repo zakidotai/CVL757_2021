{
 "cells": [
  {
   "cell_type": "markdown",
   "source": [
    "# Assignment 1\r\n",
    "<br/>\r\n",
    "<br/>\r\n",
    "\r\n"
   ],
   "metadata": {}
  },
  {
   "cell_type": "markdown",
   "source": [
    "#### Q1 : Reversing List\r\n"
   ],
   "metadata": {}
  },
  {
   "cell_type": "code",
   "execution_count": 43,
   "source": [
    "Input  = [12, 35, 9, 56, 24]\r\n",
    "def reverse_list(l):\r\n",
    "    return l[::-1]\r\n",
    "print(f\"Reverse List is : {reverse_list(Input)}\")\r\n"
   ],
   "outputs": [
    {
     "output_type": "stream",
     "name": "stdout",
     "text": [
      "Reverse List is : [24, 56, 9, 35, 12]\n"
     ]
    }
   ],
   "metadata": {}
  },
  {
   "cell_type": "markdown",
   "source": [
    "#### Q2 : Swapping Elements in Lists\r\n",
    "\r\n",
    " "
   ],
   "metadata": {}
  },
  {
   "cell_type": "code",
   "execution_count": 44,
   "source": [
    "l =[1, 2, 3, 4, 5, 6, 7, 8]\r\n",
    "p1 = 3\r\n",
    "p2 = 5\r\n",
    "def swapFunc(l,p1,p2):\r\n",
    "    l[p1], l[p2] = l[p2], l[p1]\r\n",
    "    return l\r\n",
    "print(f\"Swapped List is : {swapFunc(l,(p1-1),(p2-1))}\") #**SInce in indexing of list starts from 0 we make p1-1 for correction**"
   ],
   "outputs": [
    {
     "output_type": "stream",
     "name": "stdout",
     "text": [
      "Swapped List is : [1, 2, 5, 4, 3, 6, 7, 8]\n"
     ]
    }
   ],
   "metadata": {}
  },
  {
   "cell_type": "markdown",
   "source": [
    "#### Q3: Reversing a string\r\n"
   ],
   "metadata": {}
  },
  {
   "cell_type": "code",
   "execution_count": 45,
   "source": [
    "s = \"CVL756\"\r\n",
    "def reverse_string(s):\r\n",
    "    return s[::-1]\r\n",
    "print(f\"Reverse String is : {reverse_string(s)}\")\r\n"
   ],
   "outputs": [
    {
     "output_type": "stream",
     "name": "stdout",
     "text": [
      "Reverse String is : 657LVC\n"
     ]
    }
   ],
   "metadata": {}
  },
  {
   "cell_type": "markdown",
   "source": [
    "#### Q4: Reversing the order of words in a string\r\n"
   ],
   "metadata": {}
  },
  {
   "cell_type": "code",
   "execution_count": 46,
   "source": [
    "\r\n",
    "s = \"This is CVL756\"\r\n",
    "def reverse_sentence(s):\r\n",
    "    rev = (' '.join(reversed(s.split(' ')))) \r\n",
    "    # in above sentence we first split sentence in words and then reverse and join with <space>\r\n",
    "    return rev\r\n",
    "print(f\"Reverse sentence is : {reverse_sentence(s)}\")\r\n",
    "    "
   ],
   "outputs": [
    {
     "output_type": "stream",
     "name": "stdout",
     "text": [
      "Reverse sentence is : CVL756 is This\n"
     ]
    }
   ],
   "metadata": {
    "scrolled": true
   }
  },
  {
   "cell_type": "markdown",
   "source": [
    " #### Q5: Initialise a 3x3 matrix with random values, use numpy\r\n"
   ],
   "metadata": {}
  },
  {
   "cell_type": "code",
   "execution_count": 47,
   "source": [
    "import numpy as np\r\n",
    "np.random.seed(20)\r\n",
    "random_matrix = np.random.rand(3,3)\r\n",
    "print(random_matrix)"
   ],
   "outputs": [
    {
     "output_type": "stream",
     "name": "stdout",
     "text": [
      "[[0.5881308  0.89771373 0.89153073]\n",
      " [0.81583748 0.03588959 0.69175758]\n",
      " [0.37868094 0.51851095 0.65795147]]\n"
     ]
    }
   ],
   "metadata": {}
  },
  {
   "cell_type": "markdown",
   "source": [
    "#### Q6: Swap the columns of random_matrix\r\n"
   ],
   "metadata": {}
  },
  {
   "cell_type": "code",
   "execution_count": 48,
   "source": [
    "random_matrix_col = np.array([[0.5881308,  0.89771373, 0.89153073],\r\n",
    "                              [0.81583748, 0.03588959, 0.69175758],\r\n",
    "                              [0.37868094, 0.51851095, 0.65795147]])\r\n",
    "c1 = 1\r\n",
    "c2 = 2\r\n",
    "def swap_column(l,c1,c2):\r\n",
    "    l[:, [c1, c2]] = l[:, [c2, c1]]\r\n",
    "    return l\r\n",
    "print(f\"Matrix with swapped column :\\n {swap_column(random_matrix_col,c1-1,c2-1)}\")"
   ],
   "outputs": [
    {
     "output_type": "stream",
     "name": "stdout",
     "text": [
      "Matrix with swapped column :\n",
      " [[0.89771373 0.5881308  0.89153073]\n",
      " [0.03588959 0.81583748 0.69175758]\n",
      " [0.51851095 0.37868094 0.65795147]]\n"
     ]
    }
   ],
   "metadata": {
    "scrolled": true
   }
  },
  {
   "cell_type": "markdown",
   "source": [
    "#### Q7: Swap the rows of random_matrix\r\n"
   ],
   "metadata": {}
  },
  {
   "cell_type": "code",
   "execution_count": 49,
   "source": [
    "random_matrix_row = np.array([[0.5881308,  0.89771373, 0.89153073],\r\n",
    "                              [0.81583748, 0.03588959, 0.69175758],\r\n",
    "                              [0.37868094, 0.51851095, 0.65795147]])\r\n",
    "r1 = 1\r\n",
    "r2 = 2\r\n",
    "def swap_rows(l,r1,r2):\r\n",
    "    l[[r1]], l[[r2]] = l[[r2]], l[[r1]]\r\n",
    "    return l\r\n",
    "print(f\"Matrix with swapped row :\\n {swap_rows(random_matrix_row,r1-1,r2-1)}\")"
   ],
   "outputs": [
    {
     "output_type": "stream",
     "name": "stdout",
     "text": [
      "Matrix with swapped row :\n",
      " [[0.81583748 0.03588959 0.69175758]\n",
      " [0.5881308  0.89771373 0.89153073]\n",
      " [0.37868094 0.51851095 0.65795147]]\n"
     ]
    }
   ],
   "metadata": {}
  },
  {
   "cell_type": "markdown",
   "source": [
    "#### Q8: Plot the sine and cosine curves as shown below\r\n"
   ],
   "metadata": {}
  },
  {
   "cell_type": "code",
   "execution_count": 50,
   "source": [
    "import matplotlib.pyplot as plt\r\n",
    "import numpy as np\r\n",
    "x = np.arange(0,2*np.pi,0.001)\r\n",
    "y1 = np.sin(x)\r\n",
    "y2 = np.cos(x)\r\n",
    "plt.plot(x,y1,'b', label='sine(\\u03B8)')\r\n",
    "plt.plot(x,y2,'r',label='cosine(\\u03B8)')\r\n",
    "plt.xlabel('\\u03B8 values from 0 to 2\\u03C0')\r\n",
    "plt.ylabel('sin(\\u03B8)\\n cos(\\u03B8)')\r\n",
    "plt.grid()\r\n",
    "plt.legend(loc= \"best\")\r\n",
    "plt.show()"
   ],
   "outputs": [
    {
     "output_type": "display_data",
     "data": {
      "image/png": "[encoded data removed]",
      "text/plain": [
       "<Figure size 432x288 with 1 Axes>"
      ]
     },
     "metadata": {
      "needs_background": "light"
     }
    }
   ],
   "metadata": {}
  },
  {
   "cell_type": "markdown",
   "source": [
    "<h3>Q9: Plot the following truss</h3>\r\n",
    "Length of element 2, 6 and 9 (between nodes 1 and 3, 3 and 5, and 5 and 9) is 5.<br>\r\n",
    "Length of element 3 and 7 is 7m."
   ],
   "metadata": {}
  },
  {
   "cell_type": "code",
   "execution_count": 51,
   "source": [
    "import matplotlib.pyplot as plt\r\n",
    "\r\n",
    "plt.plot([0,5],[0,7],'black')\r\n",
    "plt.plot([0,5],[0,0],'black')\r\n",
    "plt.plot([5,5],[7,0],'black')\r\n",
    "plt.plot([5,10],[7,7],'black')\r\n",
    "plt.plot([5,10],[7,0],'black')\r\n",
    "plt.plot([5,10],[0,0],'black')\r\n",
    "plt.plot([10,10],[7,0],'black')\r\n",
    "plt.plot([10,15],[7,0],'black')\r\n",
    "plt.plot([10,15],[0,0],'black')\r\n",
    "\r\n",
    "plt.show()"
   ],
   "outputs": [
    {
     "output_type": "display_data",
     "data": {
      "image/png": "[encoded data removed]",
      "text/plain": [
       "<Figure size 432x288 with 1 Axes>"
      ]
     },
     "metadata": {
      "needs_background": "light"
     }
    }
   ],
   "metadata": {}
  },
  {
   "cell_type": "markdown",
   "source": [
    "**Q10: Consider the plane truss shown above. Given E = 200GPa and A = 0.005m2,\r\n",
    "determine and horizontal load of 20kN at node 2. Both node 1 and node 6 have pin supports:**\r\n",
    "\r\n",
    "1. the global stiffness matrix for the structure.\r\n",
    "2. the horizontal and vertical displacements at nodes 2, 3, 4, and 5.\r\n",
    "3. the horizontal and vertical reactions at nodes 1 and 6.\r\n",
    "4. the stress in each element."
   ],
   "metadata": {}
  },
  {
   "cell_type": "code",
   "execution_count": 52,
   "source": [
    "import numpy as np\r\n",
    "A= 0.005  # meter^2\r\n",
    "E = 2e8   # KN/m^2\r\n",
    "L1=5      # meter\r\n",
    "L2=7      # meter\r\n",
    "L3=8.6023 # meter\r\n",
    "ndcon= np.array([[1,2],[1,3],[3, 2],[2, 4],[2, 5],[3, 5],[5, 4],[4, 6],[5,6]])\r\n",
    "nelem = len(ndcon)\r\n",
    "x=[0,5,5,10,10,15]\r\n",
    "y=[0,7,0,7,0,0]\r\n",
    "nodes = len(x)\r\n",
    "ndofn=2\r\n",
    "nnode = 2\r\n",
    "tdofs = nodes*ndofn\r\n",
    "gstiff = np.zeros([tdofs,tdofs])\r\n",
    "import math as mt\r\n",
    "ielem=0\r\n",
    "while ielem < 9:   \r\n",
    "    x1 =x[ndcon[ielem][0]-1]\r\n",
    "    x2 =x[ndcon[ielem][1]-1]\r\n",
    "    y1 =y[ndcon[ielem][0]-1]\r\n",
    "    y2 =y[ndcon[ielem][1]-1]\r\n",
    "    gbdof=[]\r\n",
    "    L1 = mt.sqrt((x2-x1)**2+(y2-y1)**2)\r\n",
    "    C =(x2-x1)/L1\r\n",
    "    S = (y2-y1)/L1\r\n",
    "    A1 = A*E/L1\r\n",
    "    K1 =A1* np.matrix('%s, %s , %s, %s; %s, %s, %s, %s; %s, %s, %s, %s; %s, %s, %s, %s' % (C**2, C*S,-C**2, -C*S, C*S, S**2, -C*S, -S**2,-C**2, -C*S, C**2, C*S, -C*S, -S**2, C*S, S**2))\r\n",
    "    \r\n",
    "    inode =0\r\n",
    "    while inode < nnode:\r\n",
    "        idofn=1\r\n",
    "        while idofn <= ndofn:\r\n",
    "            gbdof.append((ndcon[ielem,inode]-1)*ndofn+idofn)\r\n",
    "            idofn += 1\r\n",
    "        inode += 1\r\n",
    "    i = 0\r\n",
    "    if i == 0:\r\n",
    "        gstiff[gbdof[i]-1,gbdof[i]-1]=gstiff[gbdof[i]-1,gbdof[i]-1] + K1[0,0]\r\n",
    "        gstiff[gbdof[i]-1,gbdof[i+1]-1]=gstiff[gbdof[i]-1,gbdof[i+1]-1] + K1[0,1]\r\n",
    "        gstiff[gbdof[i]-1,gbdof[i+2]-1]=gstiff[gbdof[i]-1,gbdof[i+2]-1] + K1[0,2]\r\n",
    "        gstiff[gbdof[i]-1,gbdof[i+3]-1]=gstiff[gbdof[i]-1,gbdof[i+3]-1] + K1[0,3]\r\n",
    "    i = 1\r\n",
    "    if i == 1:\r\n",
    "        gstiff[gbdof[i]-1,gbdof[i-1]-1]=gstiff[gbdof[i]-1,gbdof[i-1]-1] + K1[1,0]\r\n",
    "        gstiff[gbdof[i]-1,gbdof[i]-1]=gstiff[gbdof[i]-1,gbdof[i]-1]     + K1[1,1]\r\n",
    "        gstiff[gbdof[i]-1,gbdof[i+1]-1]=gstiff[gbdof[i]-1,gbdof[i+1]-1] + K1[1,2]\r\n",
    "        gstiff[gbdof[i]-1,gbdof[i+2]-1]=gstiff[gbdof[i]-1,gbdof[i+2]-1] + K1[1,3]\r\n",
    "    i = 2\r\n",
    "    if i == 2:\r\n",
    "        gstiff[gbdof[i]-1,gbdof[i-2]-1]=gstiff[gbdof[i]-1,gbdof[i-2]-1] + K1[2,0]\r\n",
    "        gstiff[gbdof[i]-1,gbdof[i-1]-1]=gstiff[gbdof[i]-1,gbdof[i-1]-1] + K1[2,1]\r\n",
    "        gstiff[gbdof[i]-1,gbdof[i]-1]=gstiff[gbdof[i]-1,gbdof[i]-1]     + K1[2,2]\r\n",
    "        gstiff[gbdof[i]-1,gbdof[i+1]-1]=gstiff[gbdof[i]-1,gbdof[i+1]-1] + K1[2,3]\r\n",
    "    i = 3 \r\n",
    "    if i == 3:\r\n",
    "        gstiff[gbdof[i]-1,gbdof[i-3]-1]=gstiff[gbdof[i]-1,gbdof[i-3]-1] + K1[3,0]\r\n",
    "        gstiff[gbdof[i]-1,gbdof[i-2]-1]=gstiff[gbdof[i]-1,gbdof[i-2]-1] + K1[3,1]\r\n",
    "        gstiff[gbdof[i]-1,gbdof[i-1]-1]=gstiff[gbdof[i]-1,gbdof[i-1]-1] + K1[3,2]\r\n",
    "        gstiff[gbdof[i]-1,gbdof[i]-1]=gstiff[gbdof[i]-1,gbdof[i]-1]     + K1[3,3]\r\n",
    "    ielem += 1\r\n",
    "    \r\n",
    "print(\"Global Stiffness Matrix = \")\r\n",
    "print(gstiff)\r\n",
    "\r\n",
    "b = np.delete(gstiff,0, 0)\r\n",
    "b = np.delete(b,0,1)\r\n",
    "b = np.delete(b,0, 0)\r\n",
    "b = np.delete(b,0,1)\r\n",
    "b = np.delete(b,8, 0)\r\n",
    "b = np.delete(b,8,1)\r\n",
    "b = np.delete(b,8, 0)\r\n",
    "b = np.delete(b,8,1)\r\n",
    "force=np.matrix('0;0;20;0;0;0;0;0;0;0;0;0')\r\n",
    "f1 = np.delete(force,0, 0)\r\n",
    "f1 = np.delete(f1,0,0)\r\n",
    "f1= np.delete(f1,8, 0)\r\n",
    "f1= np.delete(f1,8,0)\r\n",
    "u = np.linalg.inv(b).dot(f1)\r\n",
    "U=np.zeros([tdofs,1])\r\n",
    "\r\n",
    "i=0\r\n",
    "while i<8:\r\n",
    "    U[i+2][0]=u[i][0]\r\n",
    "    i +=1\r\n",
    "print(\"Displacement at Joints\")    \r\n",
    "print(np.matrix([U[0],U[1],U[10],U[11]]))\r\n",
    "print(\"other displacement\")\r\n",
    "print(u)\r\n",
    "ielem=0\r\n",
    "\r\n",
    "while ielem < 9: \r\n",
    "    x1 =x[ndcon[ielem][0]-1]\r\n",
    "    x2 =x[ndcon[ielem][1]-1]\r\n",
    "    y1 =y[ndcon[ielem][0]-1]\r\n",
    "    y2 =y[ndcon[ielem][1]-1] \r\n",
    "    L1 = mt.sqrt((x2-x1)**2+(y2-y1)**2)\r\n",
    "    C =(x2-x1)/L1\r\n",
    "    S = (y2-y1)/L1\r\n",
    "    stress=(E/L1)*np.matrix([-C,-S,C,S]).dot(np.matrix([U[ndcon[ielem][0]*2-2],U[ndcon[ielem][0]*2-1],U[ndcon[ielem][1]*2-2],U[ndcon[ielem][1]*2-1]]))\r\n",
    "    print(f\"stress in element {ielem+1} is : {stress} KN/m^2\")\r\n",
    "   # print(stress)\r\n",
    "    ielem +=1\r\n",
    "print(\"\\n Calculation of reactions at node 1 and 6\")\r\n",
    "# Calculation of the reactions    \r\n",
    "F = np.matrix(gstiff).dot(np.matrix(U))\r\n",
    "print(f\"Horizontal Reaction at node 1 = {F[0]}\\nVertical Reactiona at node 1 = {F[1]}\\nHorizontal Reaction at node 6 = {F[10]}\\nVertical Reactiona at node 6 = {F[11]}\")"
   ],
   "outputs": [
    {
     "output_type": "stream",
     "name": "stdout",
     "text": [
      "Global Stiffness Matrix = \n",
      "[[ 239272.85092697   54981.99129775  -39272.85092697  -54981.99129775\n",
      "  -200000.               0.               0.               0.\n",
      "        0.               0.               0.               0.        ]\n",
      " [  54981.99129775   76974.78781685  -54981.99129775  -76974.78781685\n",
      "        0.               0.               0.               0.\n",
      "        0.               0.               0.               0.        ]\n",
      " [ -39272.85092697  -54981.99129775  278545.70185393       0.\n",
      "        0.               0.         -200000.               0.\n",
      "   -39272.85092697   54981.99129775       0.               0.        ]\n",
      " [ -54981.99129775  -76974.78781685       0.          296806.71849085\n",
      "        0.         -142857.14285714       0.               0.\n",
      "    54981.99129775  -76974.78781685       0.               0.        ]\n",
      " [-200000.               0.               0.               0.\n",
      "   400000.               0.               0.               0.\n",
      "  -200000.               0.               0.               0.        ]\n",
      " [      0.               0.               0.         -142857.14285714\n",
      "        0.          142857.14285714       0.               0.\n",
      "        0.               0.               0.               0.        ]\n",
      " [      0.               0.         -200000.               0.\n",
      "        0.               0.          239272.85092697  -54981.99129775\n",
      "        0.               0.          -39272.85092697   54981.99129775]\n",
      " [      0.               0.               0.               0.\n",
      "        0.               0.          -54981.99129775  219831.930674\n",
      "        0.         -142857.14285714   54981.99129775  -76974.78781685]\n",
      " [      0.               0.          -39272.85092697   54981.99129775\n",
      "  -200000.               0.               0.               0.\n",
      "   439272.85092697  -54981.99129775 -200000.               0.        ]\n",
      " [      0.               0.           54981.99129775  -76974.78781685\n",
      "        0.               0.               0.         -142857.14285714\n",
      "   -54981.99129775  219831.930674         0.               0.        ]\n",
      " [      0.               0.               0.               0.\n",
      "        0.               0.          -39272.85092697   54981.99129775\n",
      "  -200000.               0.          239272.85092697  -54981.99129775]\n",
      " [      0.               0.               0.               0.\n",
      "        0.               0.           54981.99129775  -76974.78781685\n",
      "        0.               0.          -54981.99129775   76974.78781685]]\n",
      "Displacement at Joints\n",
      "[[0.]\n",
      " [0.]\n",
      " [0.]\n",
      " [0.]]\n",
      "other displacement\n",
      "[[ 2.18759959e-04]\n",
      " [-3.50052910e-05]\n",
      " [ 1.11111111e-05]\n",
      " [-3.50052910e-05]\n",
      " [ 1.85426626e-04]\n",
      " [ 1.11957672e-05]\n",
      " [ 2.22222222e-05]\n",
      " [-5.41375661e-05]]\n",
      "stress in element 1 is : [[2293.95340454]] KN/m^2\n",
      "stress in element 2 is : [[444.44444444]] KN/m^2\n",
      "stress in element 3 is : [[0.]] KN/m^2\n",
      "stress in element 4 is : [[-1333.33333333]] KN/m^2\n",
      "stress in element 5 is : [[-2293.95340454]] KN/m^2\n",
      "stress in element 6 is : [[444.44444444]] KN/m^2\n",
      "stress in element 7 is : [[1866.66666667]] KN/m^2\n",
      "stress in element 8 is : [[-2293.95340454]] KN/m^2\n",
      "stress in element 9 is : [[-888.88888889]] KN/m^2\n",
      "\n",
      " Calculation of reactions at node 1 and 6\n",
      "Horizontal Reaction at node 1 = [[-8.88888889]]\n",
      "Vertical Reactiona at node 1 = [[-9.33333333]]\n",
      "Horizontal Reaction at node 6 = [[-11.11111111]]\n",
      "Vertical Reactiona at node 6 = [[9.33333333]]\n"
     ]
    }
   ],
   "metadata": {}
  }
 ],
 "metadata": {
  "interpreter": {
   "hash": "792d82fdb7acbc3207629a777f5104b0f8ddf6f9498b10b1b9424d0026d068e7"
  },
  "kernelspec": {
   "name": "python3",
   "display_name": "Python 3.8.8 64-bit ('base': conda)"
  },
  "language_info": {
   "codemirror_mode": {
    "name": "ipython",
    "version": 3
   },
   "file_extension": ".py",
   "mimetype": "text/x-python",
   "name": "python",
   "nbconvert_exporter": "python",
   "pygments_lexer": "ipython3",
   "version": "3.8.8"
  },
  "toc": {
   "base_numbering": 1,
   "nav_menu": {},
   "number_sections": true,
   "sideBar": true,
   "skip_h1_title": false,
   "title_cell": "Table of Contents",
   "title_sidebar": "Contents",
   "toc_cell": false,
   "toc_position": {},
   "toc_section_display": true,
   "toc_window_display": false
  }
 },
 "nbformat": 4,
 "nbformat_minor": 5
}