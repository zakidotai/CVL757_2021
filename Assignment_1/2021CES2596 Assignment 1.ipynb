{
 "cells": [
  {
   "cell_type": "code",
   "execution_count": 26,
   "id": "6522c32a",
   "metadata": {},
   "outputs": [
    {
     "name": "stdout",
     "output_type": "stream",
     "text": [
      "[24, 35, 9, 56, 12]\n"
     ]
    }
   ],
   "source": [
    "# Q1: Reversing a list\n",
    "\n",
    "def swapList(num):\n",
    "    size = len(num)\n",
    "    temp = num[0]\n",
    "    num[0] = num[size - 1]\n",
    "    num[size - 1] = temp\n",
    "     \n",
    "    return num\n",
    "num = [12, 35, 9, 56, 24]\n",
    " \n",
    "print(swapList(num))"
   ]
  },
  {
   "cell_type": "code",
   "execution_count": 28,
   "id": "28c1e87c",
   "metadata": {},
   "outputs": [
    {
     "name": "stdout",
     "output_type": "stream",
     "text": [
      "[3, 2, 1]\n"
     ]
    }
   ],
   "source": [
    "# Q1: Reversing a list\n",
    "\n",
    "import numpy as np\n",
    "lst = [1, 2, 3]\n",
    "lst.reverse()\n",
    "print(lst)"
   ]
  },
  {
   "cell_type": "code",
   "execution_count": 29,
   "id": "973144e7",
   "metadata": {},
   "outputs": [
    {
     "name": "stdout",
     "output_type": "stream",
     "text": [
      "[12, 9, 35, 56, 24]\n"
     ]
    }
   ],
   "source": [
    "# Q2: Swapping elements in lists\n",
    "\n",
    "def swaplist(num):\n",
    "    num[1],num[2]=num[2],num[1]\n",
    "    \n",
    "    return num\n",
    "num=[12,35,9,56,24]\n",
    "print(swaplist(num))"
   ]
  },
  {
   "cell_type": "code",
   "execution_count": 31,
   "id": "ee6590d7",
   "metadata": {},
   "outputs": [
    {
     "name": "stdout",
     "output_type": "stream",
     "text": [
      "The original string  is : This is CVL757\n",
      "The reversed string(using loops) is : 757LVC si sihT\n"
     ]
    }
   ],
   "source": [
    "# Q3: Reversing a string\n",
    "\n",
    "def reverse(s):\n",
    "  str = \"\"\n",
    "  for i in s:\n",
    "    str = i + str\n",
    "  return str\n",
    "  \n",
    "s = \"This is CVL757\"\n",
    "  \n",
    "print (\"The original string  is : \",end=\"\")\n",
    "print (s)\n",
    "  \n",
    "print (\"The reversed string(using loops) is : \",end=\"\")\n",
    "print (reverse(s))"
   ]
  },
  {
   "cell_type": "code",
   "execution_count": 32,
   "id": "58535bc2",
   "metadata": {},
   "outputs": [
    {
     "name": "stdout",
     "output_type": "stream",
     "text": [
      "CVL757 is This\n"
     ]
    }
   ],
   "source": [
    "# Q4: Reversing the order of words in a string\n",
    "\n",
    "def rev_sentence(sentence): \n",
    "   \n",
    "    words = sentence.split(' ') \n",
    "  \n",
    "    reverse_sentence = ' '.join(reversed(words)) \n",
    "   \n",
    "    return reverse_sentence \n",
    "  \n",
    "if __name__ == \"__main__\": \n",
    "    input = 'This is CVL757'\n",
    "    print (rev_sentence(input))"
   ]
  },
  {
   "cell_type": "code",
   "execution_count": 34,
   "id": "0e9370c4",
   "metadata": {},
   "outputs": [
    {
     "name": "stdout",
     "output_type": "stream",
     "text": [
      "\n",
      "\n",
      "2D Array filled with random values : \n",
      " [[0.10606491 0.74547148 0.57231354]\n",
      " [0.45824118 0.3847059  0.27398931]\n",
      " [0.66796241 0.39547501 0.28157289]]\n"
     ]
    }
   ],
   "source": [
    "# Q5: Initialise a 3x3 matrix with random values, use numpy\n",
    "\n",
    "import numpy as np \n",
    "seed_values =124\n",
    "array=np.random.seed(seed_values)\n",
    "array = np.random.rand(3, 3)\n",
    "print(\"\\n\\n2D Array filled with random values : \\n\", array);"
   ]
  },
  {
   "cell_type": "code",
   "execution_count": 35,
   "id": "1832f5af",
   "metadata": {},
   "outputs": [
    {
     "name": "stdout",
     "output_type": "stream",
     "text": [
      "\n",
      "\n",
      "2D Array filled with random values : \n",
      " [[0.10606491 0.74547148 0.57231354]\n",
      " [0.45824118 0.3847059  0.27398931]\n",
      " [0.66796241 0.39547501 0.28157289]]\n",
      "After swapping arrays the last column and first column:\n",
      "[[0.57231354 0.74547148 0.10606491]\n",
      " [0.27398931 0.3847059  0.45824118]\n",
      " [0.28157289 0.39547501 0.66796241]]\n"
     ]
    }
   ],
   "source": [
    "# Q6: Swap the columns of random_matrix\n",
    "\n",
    "import numpy as np \n",
    "seed_values =124\n",
    "array=np.random.seed(seed_values)\n",
    "array = np.random.rand(3, 3)\n",
    "print(\"\\n\\n2D Array filled with random values : \\n\", array);\n",
    "array[:, [2, 0]] = array[:, [0, 2]]\n",
    "print(\"After swapping arrays the last column and first column:\")\n",
    "print(array)"
   ]
  },
  {
   "cell_type": "code",
   "execution_count": 36,
   "id": "c6682cf8",
   "metadata": {},
   "outputs": [
    {
     "name": "stdout",
     "output_type": "stream",
     "text": [
      "\n",
      "\n",
      "2D Array filled with random values : \n",
      " [[0.10606491 0.74547148 0.57231354]\n",
      " [0.45824118 0.3847059  0.27398931]\n",
      " [0.66796241 0.39547501 0.28157289]]\n",
      "After swapping arrays the last row and first row:\n",
      "[[0.66796241 0.39547501 0.28157289]\n",
      " [0.45824118 0.3847059  0.27398931]\n",
      " [0.10606491 0.74547148 0.57231354]]\n"
     ]
    }
   ],
   "source": [
    "# Q7: Swap the rows of random_matrix\n",
    "\n",
    "import numpy as np \n",
    "seed_values =124\n",
    "array=np.random.seed(seed_values)\n",
    "array = np.random.rand(3, 3)\n",
    "print(\"\\n\\n2D Array filled with random values : \\n\", array);\n",
    "array[ [2, 0], :] = array[[0, 2], :]\n",
    "print(\"After swapping arrays the last row and first row:\")\n",
    "print(array)"
   ]
  },
  {
   "cell_type": "code",
   "execution_count": 37,
   "id": "5abd340a",
   "metadata": {},
   "outputs": [
    {
     "data": {
      "image/png": "[encoded data removed]",
      "text/plain": [
       "<Figure size 432x288 with 1 Axes>"
      ]
     },
     "metadata": {
      "needs_background": "light"
     },
     "output_type": "display_data"
    }
   ],
   "source": [
    "# \n",
    "import matplotlib.pyplot as plt\n",
    "import numpy as np\n",
    "import math\n",
    "import pandas as pd\n",
    "  \n",
    "X = np.arange(0, math.pi*2, 0.05)\n",
    "  \n",
    "y = np.sin(X)\n",
    "z = np.cos(X)\n",
    "  \n",
    "plt.plot(X, y, color='r', label='sin')\n",
    "plt.plot(X, z, color='g', label='cos')\n",
    "  \n",
    "plt.xlabel(\"Angle\")\n",
    "plt.ylabel(\"Magnitude\")\n",
    "plt.title(\"Sine and Cosine functions\")\n",
    "  \n",
    "plt.legend()\n",
    "  \n",
    "plt.show()"
   ]
  },
  {
   "cell_type": "code",
   "execution_count": 38,
   "id": "4bfea6d1",
   "metadata": {},
   "outputs": [
    {
     "data": {
      "image/png": "[encoded data removed]",
      "text/plain": [
       "<Figure size 432x288 with 1 Axes>"
      ]
     },
     "metadata": {
      "needs_background": "light"
     },
     "output_type": "display_data"
    }
   ],
   "source": [
    "# Question 9  Plot the following truss\n",
    "\n",
    "import numpy as np\n",
    "import matplotlib.pyplot as plt\n",
    "nodes= []\n",
    "bars= []\n",
    "nodes.append([0,0])\n",
    "nodes.append([5,7])\n",
    "nodes.append([5,0])\n",
    "nodes.append([10,7])\n",
    "nodes.append([10,0])\n",
    "nodes.append([15,0])\n",
    "bars.append([0,1])\n",
    "bars.append([0,2])\n",
    "bars.append([1,2])\n",
    "bars.append([1,3])\n",
    "bars.append([1,4])\n",
    "bars.append([2,4])\n",
    "bars.append([3,4])\n",
    "bars.append([3,5])\n",
    "bars.append([4,5])\n",
    "# convert array to high array\n",
    "nodes = np.array(nodes).astype(float)\n",
    "bars = np.array(bars)\n",
    "# Applied forces\n",
    "P= np.zeros_like(nodes)\n",
    "# 1 represents y axis.\n",
    "P[1,1]=-20\n",
    "# Support displacements \n",
    "Ur = [0,0,0,0]\n",
    "# condition of DOF (1- free, 0- fixed)\n",
    "DOFCON = np.ones_like(nodes).astype(int)\n",
    "DOFCON[0,:] = 0 # 0th node in X and Y axis\n",
    "DOFCON[5,:] = 0 # 5th node in X and Y axis\n",
    "# def Truss Analysis():\n",
    "#NN= Len(nodes)\n",
    "#NE= Len(bars)\n",
    "#DOF=2\n",
    "#NDOF=DOF*NN\n",
    "\n",
    "def plot(nodes, c, lt, lw, lg):\n",
    "    for i in range(len(bars)):\n",
    "        xi, xf = nodes[bars[i,0],0], nodes[bars[i,1],0]\n",
    "        yi, yf = nodes[bars[i,0],1], nodes[bars[i,1],1]\n",
    "        line, = plt.plot([xi,xf], [yi, yf], color=c, linestyle=lt, linewidth=lw)\n",
    "    line.set_label(lg)\n",
    "    plt.legend(prop={'size': 8})\n",
    "plot(nodes,'gray','-',1,'undeformed')\n"
   ]
  },
  {
   "cell_type": "code",
   "execution_count": 66,
   "id": "9b3736a1",
   "metadata": {
    "scrolled": true
   },
   "outputs": [
    {
     "name": "stdout",
     "output_type": "stream",
     "text": [
      "[[ 41310.81  57768.32 -41310.81 -57768.32]\n",
      " [ 57768.32  80782.21 -57768.32 -80782.21]\n",
      " [-41310.81 -57768.32  41310.81  57768.32]\n",
      " [-57768.32 -80782.21  57768.32  80782.21]]\n",
      "[[ 210000.       0. -210000.      -0.]\n",
      " [      0.       0.      -0.      -0.]\n",
      " [-210000.      -0.  210000.       0.]\n",
      " [     -0.      -0.       0.       0.]]\n",
      "[[      0.       0.      -0.      -0.]\n",
      " [      0.  150000.      -0. -150000.]\n",
      " [     -0.      -0.       0.       0.]\n",
      " [     -0. -150000.       0.  150000.]]\n",
      "[[ 210000.       0. -210000.      -0.]\n",
      " [      0.       0.      -0.      -0.]\n",
      " [-210000.      -0.  210000.       0.]\n",
      " [     -0.      -0.       0.       0.]]\n",
      "[[ 41218.83 -57736.81 -41218.83  57736.81]\n",
      " [-57736.81  80874.19  57736.81 -80874.19]\n",
      " [-41218.83  57736.81  41218.83 -57736.81]\n",
      " [ 57736.81 -80874.19 -57736.81  80874.19]]\n",
      "[[ 210000.       0. -210000.      -0.]\n",
      " [      0.       0.      -0.      -0.]\n",
      " [-210000.      -0.  210000.       0.]\n",
      " [     -0.      -0.       0.       0.]]\n",
      "[[      0.       0.      -0.      -0.]\n",
      " [      0.  150000.      -0. -150000.]\n",
      " [     -0.      -0.       0.       0.]\n",
      " [     -0. -150000.       0.  150000.]]\n",
      "[[ 41218.83 -57736.81 -41218.83  57736.81]\n",
      " [-57736.81  80874.19  57736.81 -80874.19]\n",
      " [-41218.83  57736.81  41218.83 -57736.81]\n",
      " [ 57736.81 -80874.19 -57736.81  80874.19]]\n",
      "[[ 210000.       0. -210000.      -0.]\n",
      " [      0.       0.      -0.      -0.]\n",
      " [-210000.      -0.  210000.       0.]\n",
      " [     -0.      -0.       0.       0.]]\n"
     ]
    },
    {
     "data": {
      "text/plain": [
       "array([[ 2.51311e+05,  5.77680e+04, -4.13110e+04, -5.77680e+04, -2.10000e+05,  0.00000e+00,  0.00000e+00,  0.00000e+00,  0.00000e+00,  0.00000e+00,  0.00000e+00,  0.00000e+00],\n",
       "       [ 5.77680e+04,  8.07820e+04, -5.77680e+04, -8.07820e+04,  0.00000e+00,  0.00000e+00,  0.00000e+00,  0.00000e+00,  0.00000e+00,  0.00000e+00,  0.00000e+00,  0.00000e+00],\n",
       "       [-4.13110e+04, -5.77680e+04,  2.92530e+05,  3.20000e+01, -0.00000e+00, -0.00000e+00, -2.10000e+05,  0.00000e+00, -4.12190e+04,  5.77370e+04,  0.00000e+00,  0.00000e+00],\n",
       "       [-5.77680e+04, -8.07820e+04,  3.20000e+01,  3.11656e+05, -0.00000e+00, -1.50000e+05,  0.00000e+00,  0.00000e+00,  5.77370e+04, -8.08740e+04,  0.00000e+00,  0.00000e+00],\n",
       "       [-2.10000e+05,  0.00000e+00, -0.00000e+00, -0.00000e+00,  4.20000e+05,  0.00000e+00,  0.00000e+00,  0.00000e+00, -2.10000e+05,  0.00000e+00,  0.00000e+00,  0.00000e+00],\n",
       "       [ 0.00000e+00,  0.00000e+00, -0.00000e+00, -1.50000e+05,  0.00000e+00,  1.50000e+05,  0.00000e+00,  0.00000e+00,  0.00000e+00,  0.00000e+00,  0.00000e+00,  0.00000e+00],\n",
       "       [ 0.00000e+00,  0.00000e+00, -2.10000e+05,  0.00000e+00,  0.00000e+00,  0.00000e+00,  2.51219e+05, -5.77370e+04, -0.00000e+00, -0.00000e+00, -4.12190e+04,  5.77370e+04],\n",
       "       [ 0.00000e+00,  0.00000e+00,  0.00000e+00,  0.00000e+00,  0.00000e+00,  0.00000e+00, -5.77370e+04,  2.30874e+05, -0.00000e+00, -1.50000e+05,  5.77370e+04, -8.08740e+04],\n",
       "       [ 0.00000e+00,  0.00000e+00, -4.12190e+04,  5.77370e+04, -2.10000e+05,  0.00000e+00, -0.00000e+00, -0.00000e+00,  4.61219e+05, -5.77370e+04, -2.10000e+05,  0.00000e+00],\n",
       "       [ 0.00000e+00,  0.00000e+00,  5.77370e+04, -8.08740e+04,  0.00000e+00,  0.00000e+00, -0.00000e+00, -1.50000e+05, -5.77370e+04,  2.30874e+05,  0.00000e+00,  0.00000e+00],\n",
       "       [ 0.00000e+00,  0.00000e+00,  0.00000e+00,  0.00000e+00,  0.00000e+00,  0.00000e+00, -4.12190e+04,  5.77370e+04, -2.10000e+05,  0.00000e+00,  2.51219e+05, -5.77370e+04],\n",
       "       [ 0.00000e+00,  0.00000e+00,  0.00000e+00,  0.00000e+00,  0.00000e+00,  0.00000e+00,  5.77370e+04, -8.08740e+04,  0.00000e+00,  0.00000e+00, -5.77370e+04,  8.08740e+04]])"
      ]
     },
     "execution_count": 66,
     "metadata": {},
     "output_type": "execute_result"
    }
   ],
   "source": [
    "# QUESTION 10: Consider the plane truss shown above. Given E = 200GPa and A = 0.005m2, and horizontal load of 20kN at node 2. Both node 1 and node 6 have pin supports:\n",
    "\n",
    "import math\n",
    "import numpy as np\n",
    "E=210000000\n",
    "A=0.005\n",
    "p1=[0,0]\n",
    "p2=[5,7]\n",
    "p3=[5,0]\n",
    "p4=[10,7]\n",
    "p5=[10,0]\n",
    "p6=[15,0]\n",
    "L1 = round(math.sqrt( ((p1[0]-p2[0])**2)+((p1[1]-p2[1])**2) ),2)\n",
    "L2=5\n",
    "L3=7\n",
    "L4=5\n",
    "L5 = round(math.sqrt( ((p2[0]-p5[0])**2)+((p2[1]-p5[1])**2) ),2)\n",
    "L6=5\n",
    "L7=7\n",
    "L8 = round(math.sqrt( ((p4[0]-p6[0])**2)+((p4[1]-p6[1])**2) ),2)\n",
    "L9=5\n",
    "theta1=round(math.atan(7/5),2)\n",
    "theta2=0\n",
    "theta3=math.pi/2\n",
    "theta4=0\n",
    "theta5=round(math.atan(5/7),2)+(3*math.pi)/2\n",
    "theta6=0\n",
    "theta7=math.pi/2\n",
    "theta8=round(math.atan(5/7),2)+(3*math.pi)/2\n",
    "theta9=0\n",
    "k1_11=math.cos(theta1)**2\n",
    "k1_12=math.cos(theta1)*math.sin(theta1)\n",
    "k1_13=-math.cos(theta1)**2\n",
    "k1_14=-math.cos(theta1)*math.sin(theta1)\n",
    "k1_21=math.cos(theta1)*math.sin(theta1)\n",
    "k1_22=math.sin(theta1)**2\n",
    "k1_23=-math.cos(theta1)*math.sin(theta1)\n",
    "k1_24=-math.sin(theta1)**2\n",
    "k1_31=-math.cos(theta1)**2\n",
    "k1_32=-math.cos(theta1)*math.sin(theta1)\n",
    "k1_33=math.cos(theta1)**2\n",
    "k1_34=math.cos(theta1)*math.sin(theta1)\n",
    "k1_41=-math.cos(theta1)*math.sin(theta1)\n",
    "k1_42=-math.sin(theta1)**2\n",
    "k1_43=math.cos(theta1)*math.sin(theta1)\n",
    "k1_44=math.sin(theta1)**2\n",
    "k1=(E*A/L1)*np.array([[k1_11,k1_12,k1_13,k1_14],[k1_21,k1_22,k1_23,k1_24],[k1_31,k1_32,k1_33,k1_34],\n",
    " [k1_41,k1_42,k1_43,k1_44]])\n",
    "print(np.round(k1,2))\n",
    "k2_11=math.cos(theta2)**2\n",
    "k2_12=math.cos(theta2)*math.sin(theta2)\n",
    "k2_13=-math.cos(theta2)**2\n",
    "k2_14=-math.cos(theta2)*math.sin(theta2)\n",
    "k2_21=math.cos(theta2)*math.sin(theta2)\n",
    "k2_22=math.sin(theta2)**2\n",
    "k2_23=-math.cos(theta2)*math.sin(theta2)\n",
    "k2_24=-math.sin(theta2)**2\n",
    "k2_31=-math.cos(theta2)**2\n",
    "k2_32=-math.cos(theta2)*math.sin(theta2)\n",
    "k2_33=math.cos(theta2)**2\n",
    "k2_34=math.cos(theta2)*math.sin(theta2)\n",
    "k2_41=-math.cos(theta2)*math.sin(theta2)\n",
    "k2_42=-math.sin(theta2)**2\n",
    "k2_43=math.cos(theta2)*math.sin(theta2)\n",
    "k2_44=math.sin(theta2)**2\n",
    "k2=((E*A)/L2)*np.array([[k2_11,k2_12,k2_13,k2_14],[k2_21,k2_22,k2_23,k2_24],[k2_31,k2_32,k2_33,k2_34],\n",
    " [k2_41,k2_42,k2_43,k2_44]])\n",
    "print(k2)\n",
    "k3_11=math.cos(theta3)**2\n",
    "k3_12=math.cos(theta3)*math.sin(theta3)\n",
    "k3_13=-math.cos(theta3)**2\n",
    "k3_14=-math.cos(theta3)*math.sin(theta3)\n",
    "k3_21=math.cos(theta3)*math.sin(theta3)\n",
    "k3_22=math.sin(theta3)**2\n",
    "k3_23=-math.cos(theta3)*math.sin(theta3)\n",
    "k3_24=-math.sin(theta3)**2\n",
    "k3_31=-math.cos(theta3)**2\n",
    "k3_32=-math.cos(theta3)*math.sin(theta3)\n",
    "k3_33=math.cos(theta3)**2\n",
    "k3_34=math.cos(theta3)*math.sin(theta3)\n",
    "k3_41=-math.cos(theta3)*math.sin(theta3)\n",
    "k3_42=-math.sin(theta3)**2\n",
    "k3_43=math.cos(theta3)*math.sin(theta3)\n",
    "k3_44=math.sin(theta3)**2\n",
    "k3=(E*A/L3)*np.array([[k3_11,k3_12,k3_13,k3_14],[k3_21,k3_22,k3_23,k3_24],[k3_31,k3_32,k3_33,k3_34],\n",
    " [k3_41,k3_42,k3_43,k3_44]])\n",
    "print(np.round(k3,2))\n",
    "k4_11=math.cos(theta4)**2\n",
    "k4_12=math.cos(theta4)*math.sin(theta4)\n",
    "k4_13=-math.cos(theta4)**2\n",
    "k4_14=-math.cos(theta4)*math.sin(theta4)\n",
    "k4_21=math.cos(theta4)*math.sin(theta4)\n",
    "k4_22=math.sin(theta4)**2\n",
    "k4_23=-math.cos(theta4)*math.sin(theta4)\n",
    "k4_24=-math.sin(theta4)**2\n",
    "k4_31=-math.cos(theta4)**2\n",
    "k4_32=-math.cos(theta4)*math.sin(theta4)\n",
    "k4_33=math.cos(theta4)**2\n",
    "k4_34=math.cos(theta4)*math.sin(theta4)\n",
    "k4_41=-math.cos(theta4)*math.sin(theta4)\n",
    "k4_42=-math.sin(theta4)**2\n",
    "k4_43=math.cos(theta4)*math.sin(theta4)\n",
    "k4_44=math.sin(theta4)**2\n",
    "k4=(E*A/L4)*np.array([[k4_11,k4_12,k4_13,k4_14],[k4_21,k4_22,k4_23,k4_24],[k4_31,k4_32,k4_33,k4_34],\n",
    " [k4_41,k4_42,k4_43,k4_44]])\n",
    "print(k4)\n",
    "k5_11=math.cos(theta5)**2\n",
    "k5_12=math.cos(theta5)*math.sin(theta5)\n",
    "k5_13=-math.cos(theta5)**2\n",
    "k5_14=-math.cos(theta5)*math.sin(theta5)\n",
    "k5_21=math.cos(theta5)*math.sin(theta5)\n",
    "k5_22=math.sin(theta5)**2\n",
    "k5_23=-math.cos(theta5)*math.sin(theta5)\n",
    "k5_24=-math.sin(theta5)**2\n",
    "k5_31=-math.cos(theta5)**2\n",
    "k5_32=-math.cos(theta5)*math.sin(theta5)\n",
    "k5_33=math.cos(theta5)**2\n",
    "k5_34=math.cos(theta5)*math.sin(theta5)\n",
    "k5_41=-math.cos(theta5)*math.sin(theta5)\n",
    "k5_42=-math.sin(theta5)**2\n",
    "k5_43=math.cos(theta5)*math.sin(theta5)\n",
    "k5_44=math.sin(theta5)**2\n",
    "k5=(E*A/L5)*np.array([[k5_11,k5_12,k5_13,k5_14],[k5_21,k5_22,k5_23,k5_24],[k5_31,k5_32,k5_33,k5_34],\n",
    " [k5_41,k5_42,k5_43,k5_44]])\n",
    "print(np.round(k5,2))\n",
    "k6_11=math.cos(theta6)**2\n",
    "k6_12=math.cos(theta6)*math.sin(theta6)\n",
    "k6_13=-math.cos(theta6)**2\n",
    "k6_14=-math.cos(theta6)*math.sin(theta6)\n",
    "k6_21=math.cos(theta6)*math.sin(theta6)\n",
    "k6_22=math.sin(theta6)**2\n",
    "k6_23=-math.cos(theta6)*math.sin(theta6)\n",
    "k6_24=-math.sin(theta6)**2\n",
    "k6_31=-math.cos(theta6)**2\n",
    "k6_32=-math.cos(theta6)*math.sin(theta6)\n",
    "k6_33=math.cos(theta6)**2\n",
    "k6_34=math.cos(theta6)*math.sin(theta6)\n",
    "k6_41=-math.cos(theta6)*math.sin(theta6)\n",
    "k6_42=-math.sin(theta6)**2\n",
    "k6_43=math.cos(theta6)*math.sin(theta6)\n",
    "k6_44=math.sin(theta6)**2\n",
    "k6=(E*A/L6)*np.array([[k6_11,k6_12,k6_13,k6_14],[k6_21,k6_22,k6_23,k6_24],[k6_31,k6_32,k6_33,k6_34],\n",
    " [k6_41,k6_42,k6_43,k6_44]])\n",
    "print(k6)\n",
    "k7_11=math.cos(theta7)**2\n",
    "k7_12=math.cos(theta7)*math.sin(theta7)\n",
    "k7_13=-math.cos(theta7)**2\n",
    "k7_14=-math.cos(theta7)*math.sin(theta7)\n",
    "k7_21=math.cos(theta7)*math.sin(theta7)\n",
    "k7_22=math.sin(theta7)**2\n",
    "k7_23=-math.cos(theta7)*math.sin(theta7)\n",
    "k7_24=-math.sin(theta7)**2\n",
    "k7_31=-math.cos(theta7)**2\n",
    "k7_32=-math.cos(theta7)*math.sin(theta7)\n",
    "k7_33=math.cos(theta7)**2\n",
    "k7_34=math.cos(theta7)*math.sin(theta7)\n",
    "k7_41=-math.cos(theta7)*math.sin(theta7)\n",
    "k7_42=-math.sin(theta7)**2\n",
    "k7_43=math.cos(theta7)*math.sin(theta7)\n",
    "k7_44=math.sin(theta7)**2\n",
    "k7=(E*A/L7)*np.array([[k7_11,k7_12,k7_13,k7_14],[k7_21,k7_22,k7_23,k7_24],[k7_31,k7_32,k7_33,k7_34],\n",
    " [k7_41,k7_42,k7_43,k7_44]])\n",
    "print(np.round(k7,2))\n",
    "k8_11=math.cos(theta8)**2\n",
    "k8_12=math.cos(theta8)*math.sin(theta8)\n",
    "k8_13=-math.cos(theta8)**2\n",
    "k8_14=-math.cos(theta8)*math.sin(theta8)\n",
    "k8_21=math.cos(theta8)*math.sin(theta8)\n",
    "k8_22=math.sin(theta8)**2\n",
    "k8_23=-math.cos(theta8)*math.sin(theta8)\n",
    "k8_24=-math.sin(theta8)**2\n",
    "k8_31=-math.cos(theta8)**2\n",
    "k8_32=-math.cos(theta8)*math.sin(theta8)\n",
    "k8_33=math.cos(theta8)**2\n",
    "k8_34=math.cos(theta8)*math.sin(theta8)\n",
    "k8_41=-math.cos(theta8)*math.sin(theta8)\n",
    "k8_42=-math.sin(theta8)**2\n",
    "k8_43=math.cos(theta8)*math.sin(theta8)\n",
    "k8_44=math.sin(theta8)**2\n",
    "k8=(E*A/L8)*np.array([[k8_11,k8_12,k8_13,k8_14],[k8_21,k8_22,k8_23,k8_24],[k8_31,k8_32,k8_33,k8_34],\n",
    " [k8_41,k8_42,k8_43,k8_44]])\n",
    "print(np.round(k8,2))\n",
    "k9_11=math.cos(theta9)**2\n",
    "k9_12=math.cos(theta9)*math.sin(theta9)\n",
    "k9_13=-math.cos(theta9)**2\n",
    "k9_14=-math.cos(theta9)*math.sin(theta9)\n",
    "k9_21=math.cos(theta9)*math.sin(theta9)\n",
    "k9_22=math.sin(theta9)**2\n",
    "k9_23=-math.cos(theta9)*math.sin(theta9)\n",
    "k9_24=-math.sin(theta9)**2\n",
    "k9_31=-math.cos(theta9)**2\n",
    "k9_32=-math.cos(theta9)*math.sin(theta9)\n",
    "k9_33=math.cos(theta9)**2\n",
    "k9_34=math.cos(theta9)*math.sin(theta9)\n",
    "k9_41=-math.cos(theta9)*math.sin(theta9)\n",
    "k9_42=-math.sin(theta9)**2\n",
    "k9_43=math.cos(theta9)*math.sin(theta9)\n",
    "k9_44=math.sin(theta9)**2\n",
    "k9=(E*A/L9)*np.array([[k9_11,k9_12,k9_13,k9_14],[k9_21,k9_22,k9_23,k9_24],[k9_31,k9_32,k9_33,k9_34],\n",
    " [k9_41,k9_42,k9_43,k9_44]])\n",
    "print(k9)\n",
    "TSM=np.zeros((12,12))\n",
    "np.set_printoptions(edgeitems=12,linewidth=10000)\n",
    "TSM[0:4,0:4]+=k1\n",
    "TSM[0:2,0:2]+=k2[0:2,0:2]\n",
    "TSM[0:2,4:6]+=k2[0:2,2:4]\n",
    "TSM[4:6,0:2]+=k2[2:4,0:2]\n",
    "TSM[4:6,4:6]+=(k2[2:4,2:4] + k3[2:4,2:4] + k6[0:2,0:2])\n",
    "TSM[2:4,2:4]+=(k3[0:2,0:2] + k4[0:2,0:2] + k5[0:2,0:2])\n",
    "TSM[2:4,4:6]+=k3[0:2,2:4]\n",
    "TSM[4:6,2:4]+=k3[2:4,0:2]\n",
    "TSM[2:4, 6:8]+=k4[0:2,2:4]\n",
    "TSM[6:8, 2:4]+=k4[2:4,0:2]\n",
    "TSM[6:8,6:8]+=(k4[2:4,2:4] + k7[0:2,0:2] + k8[0:2,0:2])\n",
    "TSM[2:4,8:10]+=k5[0:2,2:4]\n",
    "TSM[8:10,2:4]+=k5[2:4,0:2]\n",
    "TSM[8:10,8:10]+=(k5[2:4,2:4] + k6[2:4,2:4] + k7[2:4,2:4] + k9[0:2,0:2])\n",
    "TSM[4:6,8:10]+=k6[0:2,2:4]\n",
    "TSM[8:10,4:6]+=k6[2:4,0:2]\n",
    "TSM[6:8,8:10]+=k7[0:2,2:4]\n",
    "TSM[8:10,6:8]+=k7[2:4,0:2]\n",
    "TSM[6:8,10:12]+=k8[0:2,2:4]\n",
    "TSM[10:12,6:8]+=k8[2:4,0:2]\n",
    "TSM[10:12,10:12]+=(k8[2:4,2:4]+k9[2:4,2:4])\n",
    "TSM[8:10,10:12]+=k9[0:2,2:4]\n",
    "TSM[10:12,8:10]+=k9[2:4,0:2]\n",
    "np.round(TSM,0)\n",
    "\n"
   ]
  },
  {
   "cell_type": "code",
   "execution_count": 65,
   "id": "56417e29",
   "metadata": {},
   "outputs": [
    {
     "data": {
      "text/plain": [
       "array([[ 2.92529643e+05,  3.15053866e+01, -5.62409918e-28, -9.18485099e-12, -2.10000000e+05,  0.00000000e+00, -4.12188315e+04,  5.77368139e+04],\n",
       "       [ 3.15053866e+01,  3.11656404e+05, -9.18485099e-12, -1.50000000e+05,  0.00000000e+00,  0.00000000e+00,  5.77368139e+04, -8.08741918e+04],\n",
       "       [-5.62409918e-28, -9.18485099e-12,  4.20000000e+05,  9.18485099e-12,  0.00000000e+00,  0.00000000e+00, -2.10000000e+05,  0.00000000e+00],\n",
       "       [-9.18485099e-12, -1.50000000e+05,  9.18485099e-12,  1.50000000e+05,  0.00000000e+00,  0.00000000e+00,  0.00000000e+00,  0.00000000e+00],\n",
       "       [-2.10000000e+05,  0.00000000e+00,  0.00000000e+00,  0.00000000e+00,  2.51218831e+05, -5.77368139e+04, -5.62409918e-28, -9.18485099e-12],\n",
       "       [ 0.00000000e+00,  0.00000000e+00,  0.00000000e+00,  0.00000000e+00, -5.77368139e+04,  2.30874192e+05, -9.18485099e-12, -1.50000000e+05],\n",
       "       [-4.12188315e+04,  5.77368139e+04, -2.10000000e+05,  0.00000000e+00, -5.62409918e-28, -9.18485099e-12,  4.61218831e+05, -5.77368139e+04],\n",
       "       [ 5.77368139e+04, -8.08741918e+04,  0.00000000e+00,  0.00000000e+00, -9.18485099e-12, -1.50000000e+05, -5.77368139e+04,  2.30874192e+05]])"
      ]
     },
     "execution_count": 65,
     "metadata": {},
     "output_type": "execute_result"
    }
   ],
   "source": [
    "eightbyeight=TSM[2:10,2:10]\n",
    "eightbyeight\n"
   ]
  },
  {
   "cell_type": "code",
   "execution_count": 64,
   "id": "df2672b3",
   "metadata": {},
   "outputs": [
    {
     "data": {
      "text/plain": [
       "array([[20],\n",
       "       [ 0],\n",
       "       [ 0],\n",
       "       [ 0],\n",
       "       [ 0],\n",
       "       [ 0],\n",
       "       [ 0],\n",
       "       [ 0]])"
      ]
     },
     "execution_count": 64,
     "metadata": {},
     "output_type": "execute_result"
    }
   ],
   "source": [
    "test=np.array([20,0,0,0,0,0,0,0]).reshape((8,1))\n",
    "test"
   ]
  },
  {
   "cell_type": "code",
   "execution_count": 67,
   "id": "a832821b",
   "metadata": {},
   "outputs": [
    {
     "data": {
      "text/plain": [
       "array([[ 2.08270121e-04],\n",
       "       [-3.34033729e-05],\n",
       "       [ 1.05760707e-05],\n",
       "       [-3.34033729e-05],\n",
       "       [ 1.76541909e-04],\n",
       "       [ 1.06331924e-05],\n",
       "       [ 2.11521414e-05],\n",
       "       [-5.15869174e-05]])"
      ]
     },
     "execution_count": 67,
     "metadata": {},
     "output_type": "execute_result"
    }
   ],
   "source": [
    "np.round((np.linalg.inv(eightbyeight) * test)*1000,9)\n",
    "np.linalg.solve(eightbyeight,test)"
   ]
  },
  {
   "cell_type": "code",
   "execution_count": 68,
   "id": "130eeb35",
   "metadata": {},
   "outputs": [
    {
     "data": {
      "text/plain": [
       "array([[ 0.00000000e+00],\n",
       "       [ 0.00000000e+00],\n",
       "       [ 2.08270121e-04],\n",
       "       [-3.34033729e-05],\n",
       "       [ 1.05760707e-05],\n",
       "       [-3.34033729e-05],\n",
       "       [ 1.76541909e-04],\n",
       "       [ 1.06331924e-05],\n",
       "       [ 2.11521414e-05],\n",
       "       [-5.15869174e-05],\n",
       "       [ 0.00000000e+00],\n",
       "       [ 0.00000000e+00]])"
      ]
     },
     "execution_count": 68,
     "metadata": {},
     "output_type": "execute_result"
    }
   ],
   "source": [
    "disp=np.zeros((12,1))\n",
    "disp[2:10]=np.linalg.solve(eightbyeight,test)\n",
    "disp"
   ]
  },
  {
   "cell_type": "code",
   "execution_count": 69,
   "id": "7f53ab68",
   "metadata": {},
   "outputs": [
    {
     "data": {
      "text/plain": [
       "array([[ -8.8951],\n",
       "       [ -9.333 ],\n",
       "       [ 20.    ],\n",
       "       [ -0.    ],\n",
       "       [  0.    ],\n",
       "       [  0.    ],\n",
       "       [  0.    ],\n",
       "       [ -0.    ],\n",
       "       [  0.    ],\n",
       "       [ -0.    ],\n",
       "       [-11.1049],\n",
       "       [  9.333 ]])"
      ]
     },
     "execution_count": 69,
     "metadata": {},
     "output_type": "execute_result"
    }
   ],
   "source": [
    "np.round(np.matmul(TSM,disp),4)"
   ]
  },
  {
   "cell_type": "code",
   "execution_count": 16,
   "id": "0cdff8ef",
   "metadata": {},
   "outputs": [
    {
     "data": {
      "text/plain": [
       "array([[ 0.00000000e+00],\n",
       "       [ 0.00000000e+00],\n",
       "       [ 2.08270121e-04],\n",
       "       [-3.34033729e-05]])"
      ]
     },
     "execution_count": 16,
     "metadata": {},
     "output_type": "execute_result"
    }
   ],
   "source": [
    "u1=disp[0:4]\n",
    "u1"
   ]
  },
  {
   "cell_type": "code",
   "execution_count": 36,
   "id": "329e52f4",
   "metadata": {},
   "outputs": [
    {
     "data": {
      "text/plain": [
       "array([2294.77])"
      ]
     },
     "execution_count": 36,
     "metadata": {},
     "output_type": "execute_result"
    }
   ],
   "source": [
    "f11=-math.cos(theta1)\n",
    "f12=-math.sin(theta1)\n",
    "f13=math.cos(theta1)\n",
    "f14=math.sin(theta1)\n",
    "f1=(E*A/L1)*np.array([f11,f12,f13,f14])\n",
    "np.matmul(f1,u1)\n",
    "sigma1=np.matmul(f1,u1)/A\n",
    "np.round(sigma1,2)\n"
   ]
  },
  {
   "cell_type": "code",
   "execution_count": 18,
   "id": "bffe2e92",
   "metadata": {},
   "outputs": [
    {
     "data": {
      "text/plain": [
       "array([[ 0.00000000e+00],\n",
       "       [ 0.00000000e+00],\n",
       "       [ 1.05760707e-05],\n",
       "       [-3.34033729e-05]])"
      ]
     },
     "execution_count": 18,
     "metadata": {},
     "output_type": "execute_result"
    }
   ],
   "source": [
    "u2=np.zeros((4,1))\n",
    "u2[0:2]=disp[0:2]\n",
    "u2[2:4]=disp[4:6]\n",
    "u2\n"
   ]
  },
  {
   "cell_type": "code",
   "execution_count": 38,
   "id": "79f27749",
   "metadata": {},
   "outputs": [
    {
     "data": {
      "text/plain": [
       "array([444.19])"
      ]
     },
     "execution_count": 38,
     "metadata": {},
     "output_type": "execute_result"
    }
   ],
   "source": [
    "f21=-math.cos(theta2)\n",
    "f22=-math.sin(theta2)\n",
    "f23=math.cos(theta2)\n",
    "f24=math.sin(theta2)\n",
    "f2=(E*A/L2)*np.array([f21,f22,f23,f24])\n",
    "np.matmul(f2,u2)\n",
    "sigma2=np.matmul(f2,u2)/A\n",
    "np.round(sigma2,2)\n"
   ]
  },
  {
   "cell_type": "code",
   "execution_count": 20,
   "id": "6f376481",
   "metadata": {},
   "outputs": [
    {
     "data": {
      "text/plain": [
       "array([[ 2.08270121e-04],\n",
       "       [-3.34033729e-05],\n",
       "       [ 1.05760707e-05],\n",
       "       [-3.34033729e-05]])"
      ]
     },
     "execution_count": 20,
     "metadata": {},
     "output_type": "execute_result"
    }
   ],
   "source": [
    "u3=disp[2:6]\n",
    "u3\n"
   ]
  },
  {
   "cell_type": "code",
   "execution_count": 39,
   "id": "c9966019",
   "metadata": {},
   "outputs": [
    {
     "data": {
      "text/plain": [
       "array([0.])"
      ]
     },
     "execution_count": 39,
     "metadata": {},
     "output_type": "execute_result"
    }
   ],
   "source": [
    "f31=-math.cos(theta3)\n",
    "f32=-math.sin(theta3)\n",
    "f33=math.cos(theta3)\n",
    "f34=math.sin(theta3)\n",
    "f3=(E*A/L3)*np.array([f31,f32,f33,f34])\n",
    "np.matmul(f3,u3)\n",
    "sigma3=np.matmul(f3,u3)/A\n",
    "np.round(sigma3,2)"
   ]
  },
  {
   "cell_type": "code",
   "execution_count": 22,
   "id": "38055f75",
   "metadata": {},
   "outputs": [
    {
     "data": {
      "text/plain": [
       "array([[ 2.08270121e-04],\n",
       "       [-3.34033729e-05],\n",
       "       [ 1.76541909e-04],\n",
       "       [ 1.06331924e-05]])"
      ]
     },
     "execution_count": 22,
     "metadata": {},
     "output_type": "execute_result"
    }
   ],
   "source": [
    "u4=np.zeros((4,1))\n",
    "u4[0:2]=disp[2:4]\n",
    "u4[2:4]=disp[6:8]\n",
    "u4\n"
   ]
  },
  {
   "cell_type": "code",
   "execution_count": 40,
   "id": "c5604f0a",
   "metadata": {},
   "outputs": [
    {
     "data": {
      "text/plain": [
       "array([-1332.58])"
      ]
     },
     "execution_count": 40,
     "metadata": {},
     "output_type": "execute_result"
    }
   ],
   "source": [
    "f41=-math.cos(theta4)\n",
    "f42=-math.sin(theta4)\n",
    "f43=math.cos(theta4)\n",
    "f44=math.sin(theta4)\n",
    "f4=(E*A/L4)*np.array([f41,f42,f43,f44])\n",
    "np.matmul(f4,u4)\n",
    "sigma4=np.matmul(f4,u4)/A\n",
    "np.round(sigma4,2)\n"
   ]
  },
  {
   "cell_type": "code",
   "execution_count": 24,
   "id": "aef2e18d",
   "metadata": {},
   "outputs": [
    {
     "data": {
      "text/plain": [
       "array([[ 2.08270121e-04],\n",
       "       [-3.34033729e-05],\n",
       "       [ 2.11521414e-05],\n",
       "       [-5.15869174e-05]])"
      ]
     },
     "execution_count": 24,
     "metadata": {},
     "output_type": "execute_result"
    }
   ],
   "source": [
    "u5=np.zeros((4,1))\n",
    "u5[0:2]=disp[2:4]\n",
    "u5[2:4]=disp[8:10]\n",
    "u5\n"
   ]
  },
  {
   "cell_type": "code",
   "execution_count": 41,
   "id": "b9306886",
   "metadata": {},
   "outputs": [
    {
     "data": {
      "text/plain": [
       "array([-2293.47])"
      ]
     },
     "execution_count": 41,
     "metadata": {},
     "output_type": "execute_result"
    }
   ],
   "source": [
    "f51=-math.cos(theta5)\n",
    "f52=-math.sin(theta5)\n",
    "f53=math.cos(theta5)\n",
    "f54=math.sin(theta5)\n",
    "f5=(E*A/L5)*np.array([f51,f52,f53,f54])\n",
    "np.matmul(f5,u5)\n",
    "sigma5=np.matmul(f5,u5)/A\n",
    "np.round(sigma5,2)\n",
    "\n"
   ]
  },
  {
   "cell_type": "code",
   "execution_count": 26,
   "id": "ce00bc1c",
   "metadata": {},
   "outputs": [
    {
     "data": {
      "text/plain": [
       "array([[ 1.05760707e-05],\n",
       "       [-3.34033729e-05],\n",
       "       [ 2.11521414e-05],\n",
       "       [-5.15869174e-05]])"
      ]
     },
     "execution_count": 26,
     "metadata": {},
     "output_type": "execute_result"
    }
   ],
   "source": [
    "u6=np.zeros((4,1))\n",
    "u6[0:2]=disp[4:6]\n",
    "u6[2:4]=disp[8:10]\n",
    "u6\n"
   ]
  },
  {
   "cell_type": "code",
   "execution_count": 42,
   "id": "14024d3f",
   "metadata": {},
   "outputs": [
    {
     "data": {
      "text/plain": [
       "array([444.19])"
      ]
     },
     "execution_count": 42,
     "metadata": {},
     "output_type": "execute_result"
    }
   ],
   "source": [
    "f61=-math.cos(theta6)\n",
    "f62=-math.sin(theta6)\n",
    "f63=math.cos(theta6)\n",
    "f64=math.sin(theta6)\n",
    "f6=(E*A/L6)*np.array([f61,f62,f63,f64])\n",
    "np.matmul(f6,u6)\n",
    "sigma6=np.matmul(f6,u6)/A\n",
    "np.round(sigma6,2)\n"
   ]
  },
  {
   "cell_type": "code",
   "execution_count": 28,
   "id": "5c255046",
   "metadata": {},
   "outputs": [
    {
     "data": {
      "text/plain": [
       "array([[ 1.76541909e-04],\n",
       "       [ 1.06331924e-05],\n",
       "       [ 2.11521414e-05],\n",
       "       [-5.15869174e-05]])"
      ]
     },
     "execution_count": 28,
     "metadata": {},
     "output_type": "execute_result"
    }
   ],
   "source": [
    "u7=disp[6:10]\n",
    "u7"
   ]
  },
  {
   "cell_type": "code",
   "execution_count": 43,
   "id": "2d7a5595",
   "metadata": {},
   "outputs": [
    {
     "data": {
      "text/plain": [
       "array([-1866.6])"
      ]
     },
     "execution_count": 43,
     "metadata": {},
     "output_type": "execute_result"
    }
   ],
   "source": [
    "f71=-math.cos(theta7)\n",
    "f72=-math.sin(theta7)\n",
    "f73=math.cos(theta7)\n",
    "f74=math.sin(theta7)\n",
    "f7=(E*A/L7)*np.array([f71,f72,f73,f74])\n",
    "np.matmul(f7,u7)\n",
    "sigma7=np.matmul(f7,u7)/A\n",
    "np.round(sigma7,2)\n"
   ]
  },
  {
   "cell_type": "code",
   "execution_count": 30,
   "id": "eccdb947",
   "metadata": {},
   "outputs": [
    {
     "data": {
      "text/plain": [
       "array([[1.76541909e-04],\n",
       "       [1.06331924e-05],\n",
       "       [0.00000000e+00],\n",
       "       [0.00000000e+00]])"
      ]
     },
     "execution_count": 30,
     "metadata": {},
     "output_type": "execute_result"
    }
   ],
   "source": [
    "u8=np.zeros((4,1))\n",
    "u8[0:2]=disp[6:8]\n",
    "u8[2:4]=disp[10:12]\n",
    "u8\n"
   ]
  },
  {
   "cell_type": "code",
   "execution_count": 44,
   "id": "1aea2283",
   "metadata": {},
   "outputs": [
    {
     "data": {
      "text/plain": [
       "array([-2293.47])"
      ]
     },
     "execution_count": 44,
     "metadata": {},
     "output_type": "execute_result"
    }
   ],
   "source": [
    "f81=-math.cos(theta8)\n",
    "f82=-math.sin(theta8)\n",
    "f83=math.cos(theta8)\n",
    "f84=math.sin(theta8)\n",
    "f8=(E*A/L8)*np.array([f81,f82,f83,f84])\n",
    "np.matmul(f8,u8)\n",
    "sigma8=np.matmul(f8,u8)/A\n",
    "np.round(sigma8,2)\n"
   ]
  },
  {
   "cell_type": "code",
   "execution_count": 32,
   "id": "95bb1959",
   "metadata": {},
   "outputs": [
    {
     "data": {
      "text/plain": [
       "array([[ 2.11521414e-05],\n",
       "       [-5.15869174e-05],\n",
       "       [ 0.00000000e+00],\n",
       "       [ 0.00000000e+00]])"
      ]
     },
     "execution_count": 32,
     "metadata": {},
     "output_type": "execute_result"
    }
   ],
   "source": [
    "u9=disp[8:12]\n",
    "u9"
   ]
  },
  {
   "cell_type": "code",
   "execution_count": 45,
   "id": "5af44ecd",
   "metadata": {},
   "outputs": [
    {
     "data": {
      "text/plain": [
       "array([-888.39])"
      ]
     },
     "execution_count": 45,
     "metadata": {},
     "output_type": "execute_result"
    }
   ],
   "source": [
    "f91=-math.cos(theta9)\n",
    "f92=-math.sin(theta9)\n",
    "f93=math.cos(theta9)\n",
    "f94=math.sin(theta9)\n",
    "f9=(E*A/L9)*np.array([f91,f92,f93,f94])\n",
    "np.matmul(f9,u9)\n",
    "sigma9=np.matmul(f9,u9)/A\n",
    "np.round(sigma9,2)\n"
   ]
  },
  {
   "cell_type": "code",
   "execution_count": null,
   "id": "5d581603",
   "metadata": {},
   "outputs": [],
   "source": []
  }
 ],
 "metadata": {
  "kernelspec": {
   "display_name": "Python 3",
   "language": "python",
   "name": "python3"
  },
  "language_info": {
   "codemirror_mode": {
    "name": "ipython",
    "version": 3
   },
   "file_extension": ".py",
   "mimetype": "text/x-python",
   "name": "python",
   "nbconvert_exporter": "python",
   "pygments_lexer": "ipython3",
   "version": "3.8.8"
  }
 },
 "nbformat": 4,
 "nbformat_minor": 5
}
