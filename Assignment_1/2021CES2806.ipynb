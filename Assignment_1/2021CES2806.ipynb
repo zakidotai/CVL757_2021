{
 "cells": [
  {
   "cell_type": "markdown",
   "id": "6580de15",
   "metadata": {},
   "source": [
    "# FEM Assignment 1_Bikash Sharma (CES212806)"
   ]
  },
  {
   "cell_type": "markdown",
   "id": "4fb3a133",
   "metadata": {},
   "source": [
    "## Question 1: Reversing a list"
   ]
  },
  {
   "cell_type": "code",
   "execution_count": 77,
   "id": "0d47fc1e",
   "metadata": {},
   "outputs": [
    {
     "name": "stdout",
     "output_type": "stream",
     "text": [
      "[12, 35, 9, 56, 24]\n"
     ]
    }
   ],
   "source": [
    "List1=[12,35,9,56,24]\n",
    "print(List1)"
   ]
  },
  {
   "cell_type": "code",
   "execution_count": 78,
   "id": "eb846026",
   "metadata": {},
   "outputs": [
    {
     "name": "stdout",
     "output_type": "stream",
     "text": [
      "[24, 56, 9, 35, 12]\n"
     ]
    }
   ],
   "source": [
    "List1.reverse()\n",
    "print(List1)"
   ]
  },
  {
   "cell_type": "code",
   "execution_count": 79,
   "id": "d0f302d9",
   "metadata": {},
   "outputs": [
    {
     "name": "stdout",
     "output_type": "stream",
     "text": [
      "[1, 2, 3]\n"
     ]
    }
   ],
   "source": [
    "List2=[1,2,3]\n",
    "print(List2)"
   ]
  },
  {
   "cell_type": "code",
   "execution_count": 80,
   "id": "b9e9e3bb",
   "metadata": {},
   "outputs": [
    {
     "name": "stdout",
     "output_type": "stream",
     "text": [
      "[3, 2, 1]\n"
     ]
    }
   ],
   "source": [
    "List2.reverse()\n",
    "print(List2)"
   ]
  },
  {
   "cell_type": "markdown",
   "id": "7b7c8915",
   "metadata": {},
   "source": [
    "## Question 2: Swapping elements in list"
   ]
  },
  {
   "cell_type": "code",
   "execution_count": 81,
   "id": "40c81fbe",
   "metadata": {},
   "outputs": [
    {
     "name": "stdout",
     "output_type": "stream",
     "text": [
      "[12, 35, 9, 56, 24]\n"
     ]
    }
   ],
   "source": [
    "List3=[12,35,9,56,24]\n",
    "print (List3)"
   ]
  },
  {
   "cell_type": "code",
   "execution_count": 82,
   "id": "e9e41c53",
   "metadata": {},
   "outputs": [
    {
     "name": "stdout",
     "output_type": "stream",
     "text": [
      "[12, 9, 35, 56, 24]\n"
     ]
    }
   ],
   "source": [
    "List3[1],List3[2]=List3[2],List3[1]\n",
    "print(List3)"
   ]
  },
  {
   "cell_type": "markdown",
   "id": "7d8d1fcf",
   "metadata": {},
   "source": [
    "## Question 3: Reversing a string"
   ]
  },
  {
   "cell_type": "code",
   "execution_count": 83,
   "id": "e0f4102a",
   "metadata": {
    "scrolled": true
   },
   "outputs": [
    {
     "name": "stdout",
     "output_type": "stream",
     "text": [
      "This is CVL757\n"
     ]
    }
   ],
   "source": [
    "text1='This is CVL757'\n",
    "print(text1)"
   ]
  },
  {
   "cell_type": "code",
   "execution_count": 84,
   "id": "9d27412f",
   "metadata": {},
   "outputs": [
    {
     "name": "stdout",
     "output_type": "stream",
     "text": [
      "757LVC si sihT\n"
     ]
    }
   ],
   "source": [
    "print(text1[::-1])"
   ]
  },
  {
   "cell_type": "markdown",
   "id": "983af893",
   "metadata": {},
   "source": [
    "## Question 4: Reversing the order of words in a string"
   ]
  },
  {
   "cell_type": "code",
   "execution_count": 85,
   "id": "149541ab",
   "metadata": {},
   "outputs": [
    {
     "name": "stdout",
     "output_type": "stream",
     "text": [
      "This is CVL757\n"
     ]
    }
   ],
   "source": [
    "text2='This is CVL757'\n",
    "print(text2)"
   ]
  },
  {
   "cell_type": "code",
   "execution_count": 86,
   "id": "b9a7dcf2",
   "metadata": {},
   "outputs": [
    {
     "name": "stdout",
     "output_type": "stream",
     "text": [
      " CVL757 is This\n"
     ]
    }
   ],
   "source": [
    "listOfText2=text2.split()\n",
    "listOfText2.reverse()\n",
    "temp=\"\"\n",
    "for x in listOfText2:\n",
    "    temp=temp+' '+x\n",
    "print(temp)"
   ]
  },
  {
   "cell_type": "markdown",
   "id": "1d06e40a",
   "metadata": {},
   "source": [
    "## Question 5: Initialize a 3x3 matrix, use numpy"
   ]
  },
  {
   "cell_type": "code",
   "execution_count": 90,
   "id": "cb476002",
   "metadata": {},
   "outputs": [
    {
     "name": "stdout",
     "output_type": "stream",
     "text": [
      "[[0.77132064 0.02075195 0.63364823]\n",
      " [0.74880388 0.49850701 0.22479665]\n",
      " [0.19806286 0.76053071 0.16911084]]\n"
     ]
    }
   ],
   "source": [
    "import numpy as np\n",
    "np.random.seed(10)\n",
    "matrix3x3=np.array([np.random.rand(9)]).reshape(3,3)\n",
    "print(matrix3x3)"
   ]
  },
  {
   "cell_type": "markdown",
   "id": "94c86f4b",
   "metadata": {},
   "source": [
    "## Question 6: Swap the columns of random matrix"
   ]
  },
  {
   "cell_type": "code",
   "execution_count": 91,
   "id": "4223cd5c",
   "metadata": {},
   "outputs": [
    {
     "name": "stdout",
     "output_type": "stream",
     "text": [
      "[[0.63364823 0.02075195 0.77132064]\n",
      " [0.22479665 0.49850701 0.74880388]\n",
      " [0.16911084 0.76053071 0.19806286]]\n"
     ]
    }
   ],
   "source": [
    "matrix3x3[:,[0]], matrix3x3[:,[2]]=matrix3x3[:,[2]], matrix3x3[:,[0]]\n",
    "print(matrix3x3)"
   ]
  },
  {
   "cell_type": "markdown",
   "id": "575b9520",
   "metadata": {},
   "source": [
    "## Question 7: Swap the rows of random matrix"
   ]
  },
  {
   "cell_type": "code",
   "execution_count": 92,
   "id": "393bbb89",
   "metadata": {},
   "outputs": [
    {
     "name": "stdout",
     "output_type": "stream",
     "text": [
      "[[0.16911084 0.76053071 0.19806286]\n",
      " [0.22479665 0.49850701 0.74880388]\n",
      " [0.63364823 0.02075195 0.77132064]]\n"
     ]
    }
   ],
   "source": [
    "matrix3x3[[0],:], matrix3x3[[2],:]=matrix3x3[[2],:], matrix3x3[[0],:]\n",
    "print(matrix3x3)"
   ]
  },
  {
   "cell_type": "markdown",
   "id": "0a81f5c3",
   "metadata": {},
   "source": [
    "## Question 8: Plot the sine and cosine curves"
   ]
  },
  {
   "cell_type": "code",
   "execution_count": 1,
   "id": "062007f1",
   "metadata": {
    "scrolled": true
   },
   "outputs": [
    {
     "data": {
      "image/png": "[encoded data removed]",
      "text/plain": [
       "<Figure size 432x288 with 1 Axes>"
      ]
     },
     "metadata": {
      "needs_background": "light"
     },
     "output_type": "display_data"
    },
    {
     "data": {
      "text/plain": [
       "<Figure size 432x288 with 0 Axes>"
      ]
     },
     "metadata": {},
     "output_type": "display_data"
    }
   ],
   "source": [
    "import matplotlib.pyplot as plt\n",
    "import numpy as np\n",
    "x = np.arange(0,2*np.pi,0.01)\n",
    "sinValue=np.sin(x)\n",
    "cosValue=np.cos(x)\n",
    "plt.plot(x,sinValue,x,cosValue)\n",
    "plt.legend([\"sin(ϴ)\", \"cos(\\u03F4)\"],loc=\"lower left\")\n",
    "#plt.plot(x,cosValue)\n",
    "plt.show()\n",
    "plt.savefig('Sine and Cosine Curves')"
   ]
  },
  {
   "cell_type": "markdown",
   "id": "cdf04143",
   "metadata": {},
   "source": [
    "## Question 9: Plot the following truss"
   ]
  },
  {
   "cell_type": "code",
   "execution_count": 3,
   "id": "a47eb1d4",
   "metadata": {},
   "outputs": [
    {
     "data": {
      "image/png": "[encoded data removed]",
      "text/plain": [
       "<Figure size 432x288 with 1 Axes>"
      ]
     },
     "metadata": {
      "needs_background": "light"
     },
     "output_type": "display_data"
    }
   ],
   "source": [
    "import matplotlib.pyplot as plt\n",
    "node1=[0,0]\n",
    "node2=[5,7]\n",
    "node3=[5,0]\n",
    "node4=[10,7]\n",
    "node5=[10,0]\n",
    "node6=[15,0]\n",
    "xValue=[node3[0],node1[0],node2[0],node4[0],node6[0],node5[0],node3[0],node2[0],node5[0],node4[0]]\n",
    "yValue=[node3[1],node1[1],node2[1],node4[1],node6[1],node5[1],node3[1],node2[1],node5[1],node4[1]]\n",
    "plt.plot(xValue,yValue,\"bo-\")\n",
    "plt.savefig('Truss')"
   ]
  },
  {
   "cell_type": "markdown",
   "id": "aecace2d",
   "metadata": {},
   "source": [
    "## Question 10: Consider the plane truss shown above. Given E = 200GPa and A = 0.005m2, and horizontal load of 20kN at node 2. Both node 1 and node 6 have pin supports:"
   ]
  },
  {
   "cell_type": "code",
   "execution_count": 4,
   "id": "de08f9f3",
   "metadata": {},
   "outputs": [],
   "source": [
    "import math\n",
    "import numpy as np\n",
    "E=210000000\n",
    "A=0.005\n",
    "p1=[0,0]\n",
    "p2=[5,7]\n",
    "p3=[5,0]\n",
    "p4=[10,7]\n",
    "p5=[10,0]\n",
    "p6=[15,0]\n",
    "L1 = round(math.sqrt( ((p1[0]-p2[0])**2)+((p1[1]-p2[1])**2) ),2)\n",
    "L2=5\n",
    "L3=7\n",
    "L4=5\n",
    "L5 = round(math.sqrt( ((p2[0]-p5[0])**2)+((p2[1]-p5[1])**2) ),2)\n",
    "L6=5\n",
    "L7=7\n",
    "L8 = round(math.sqrt( ((p4[0]-p6[0])**2)+((p4[1]-p6[1])**2) ),2)\n",
    "L9=5\n",
    "theta1=round(math.atan(7/5),2)\n",
    "theta2=0\n",
    "theta3=math.pi/2\n",
    "theta4=0\n",
    "theta5=round(math.atan(5/7),2)+(3*math.pi)/2\n",
    "theta6=0\n",
    "theta7=math.pi/2\n",
    "theta8=round(math.atan(5/7),2)+(3*math.pi)/2\n",
    "theta9=0"
   ]
  },
  {
   "cell_type": "markdown",
   "id": "c7244e76",
   "metadata": {},
   "source": [
    "## Element Stiffness Matrices (k1,k2,k3,k4,k5,k6,k7,k8,k9)"
   ]
  },
  {
   "cell_type": "markdown",
   "id": "a3c94df0",
   "metadata": {},
   "source": [
    "## k1_between node 1 & 2"
   ]
  },
  {
   "cell_type": "code",
   "execution_count": 5,
   "id": "8e260cb3",
   "metadata": {
    "scrolled": true
   },
   "outputs": [
    {
     "name": "stdout",
     "output_type": "stream",
     "text": [
      "[[ 41310.81  57768.32 -41310.81 -57768.32]\n",
      " [ 57768.32  80782.21 -57768.32 -80782.21]\n",
      " [-41310.81 -57768.32  41310.81  57768.32]\n",
      " [-57768.32 -80782.21  57768.32  80782.21]]\n"
     ]
    }
   ],
   "source": [
    "k1_11=math.cos(theta1)**2\n",
    "k1_12=math.cos(theta1)*math.sin(theta1)\n",
    "k1_13=-math.cos(theta1)**2\n",
    "k1_14=-math.cos(theta1)*math.sin(theta1)\n",
    "k1_21=math.cos(theta1)*math.sin(theta1)\n",
    "k1_22=math.sin(theta1)**2\n",
    "k1_23=-math.cos(theta1)*math.sin(theta1)\n",
    "k1_24=-math.sin(theta1)**2\n",
    "k1_31=-math.cos(theta1)**2\n",
    "k1_32=-math.cos(theta1)*math.sin(theta1)\n",
    "k1_33=math.cos(theta1)**2\n",
    "k1_34=math.cos(theta1)*math.sin(theta1)\n",
    "k1_41=-math.cos(theta1)*math.sin(theta1)\n",
    "k1_42=-math.sin(theta1)**2\n",
    "k1_43=math.cos(theta1)*math.sin(theta1)\n",
    "k1_44=math.sin(theta1)**2\n",
    "k1=(E*A/L1)*np.array([[k1_11,k1_12,k1_13,k1_14],[k1_21,k1_22,k1_23,k1_24],[k1_31,k1_32,k1_33,k1_34],[k1_41,k1_42,k1_43,k1_44]])\n",
    "print(np.round(k1,2))"
   ]
  },
  {
   "cell_type": "markdown",
   "id": "101eba71",
   "metadata": {},
   "source": [
    "## k2_between node 1 & 3"
   ]
  },
  {
   "cell_type": "code",
   "execution_count": 6,
   "id": "82b10388",
   "metadata": {},
   "outputs": [
    {
     "name": "stdout",
     "output_type": "stream",
     "text": [
      "[[ 210000.       0. -210000.      -0.]\n",
      " [      0.       0.      -0.      -0.]\n",
      " [-210000.      -0.  210000.       0.]\n",
      " [     -0.      -0.       0.       0.]]\n"
     ]
    }
   ],
   "source": [
    "k2_11=math.cos(theta2)**2\n",
    "k2_12=math.cos(theta2)*math.sin(theta2)\n",
    "k2_13=-math.cos(theta2)**2\n",
    "k2_14=-math.cos(theta2)*math.sin(theta2)\n",
    "k2_21=math.cos(theta2)*math.sin(theta2)\n",
    "k2_22=math.sin(theta2)**2\n",
    "k2_23=-math.cos(theta2)*math.sin(theta2)\n",
    "k2_24=-math.sin(theta2)**2\n",
    "k2_31=-math.cos(theta2)**2\n",
    "k2_32=-math.cos(theta2)*math.sin(theta2)\n",
    "k2_33=math.cos(theta2)**2\n",
    "k2_34=math.cos(theta2)*math.sin(theta2)\n",
    "k2_41=-math.cos(theta2)*math.sin(theta2)\n",
    "k2_42=-math.sin(theta2)**2\n",
    "k2_43=math.cos(theta2)*math.sin(theta2)\n",
    "k2_44=math.sin(theta2)**2\n",
    "k2=((E*A)/L2)*np.array([[k2_11,k2_12,k2_13,k2_14],[k2_21,k2_22,k2_23,k2_24],[k2_31,k2_32,k2_33,k2_34],[k2_41,k2_42,k2_43,k2_44]])\n",
    "print(k2)"
   ]
  },
  {
   "cell_type": "markdown",
   "id": "199da65e",
   "metadata": {},
   "source": [
    "## k3_between node 2 & 3"
   ]
  },
  {
   "cell_type": "code",
   "execution_count": 7,
   "id": "bf62a527",
   "metadata": {
    "scrolled": true
   },
   "outputs": [
    {
     "name": "stdout",
     "output_type": "stream",
     "text": [
      "[[      0.       0.      -0.      -0.]\n",
      " [      0.  150000.      -0. -150000.]\n",
      " [     -0.      -0.       0.       0.]\n",
      " [     -0. -150000.       0.  150000.]]\n"
     ]
    }
   ],
   "source": [
    "k3_11=math.cos(theta3)**2\n",
    "k3_12=math.cos(theta3)*math.sin(theta3)\n",
    "k3_13=-math.cos(theta3)**2\n",
    "k3_14=-math.cos(theta3)*math.sin(theta3)\n",
    "k3_21=math.cos(theta3)*math.sin(theta3)\n",
    "k3_22=math.sin(theta3)**2\n",
    "k3_23=-math.cos(theta3)*math.sin(theta3)\n",
    "k3_24=-math.sin(theta3)**2\n",
    "k3_31=-math.cos(theta3)**2\n",
    "k3_32=-math.cos(theta3)*math.sin(theta3)\n",
    "k3_33=math.cos(theta3)**2\n",
    "k3_34=math.cos(theta3)*math.sin(theta3)\n",
    "k3_41=-math.cos(theta3)*math.sin(theta3)\n",
    "k3_42=-math.sin(theta3)**2\n",
    "k3_43=math.cos(theta3)*math.sin(theta3)\n",
    "k3_44=math.sin(theta3)**2\n",
    "k3=(E*A/L3)*np.array([[k3_11,k3_12,k3_13,k3_14],[k3_21,k3_22,k3_23,k3_24],[k3_31,k3_32,k3_33,k3_34],[k3_41,k3_42,k3_43,k3_44]])\n",
    "print(np.round(k3,2))"
   ]
  },
  {
   "cell_type": "markdown",
   "id": "88535c30",
   "metadata": {},
   "source": [
    "## k4_between node 2 & 4"
   ]
  },
  {
   "cell_type": "code",
   "execution_count": 8,
   "id": "68af6a61",
   "metadata": {},
   "outputs": [
    {
     "name": "stdout",
     "output_type": "stream",
     "text": [
      "[[ 210000.       0. -210000.      -0.]\n",
      " [      0.       0.      -0.      -0.]\n",
      " [-210000.      -0.  210000.       0.]\n",
      " [     -0.      -0.       0.       0.]]\n"
     ]
    }
   ],
   "source": [
    "k4_11=math.cos(theta4)**2\n",
    "k4_12=math.cos(theta4)*math.sin(theta4)\n",
    "k4_13=-math.cos(theta4)**2\n",
    "k4_14=-math.cos(theta4)*math.sin(theta4)\n",
    "k4_21=math.cos(theta4)*math.sin(theta4)\n",
    "k4_22=math.sin(theta4)**2\n",
    "k4_23=-math.cos(theta4)*math.sin(theta4)\n",
    "k4_24=-math.sin(theta4)**2\n",
    "k4_31=-math.cos(theta4)**2\n",
    "k4_32=-math.cos(theta4)*math.sin(theta4)\n",
    "k4_33=math.cos(theta4)**2\n",
    "k4_34=math.cos(theta4)*math.sin(theta4)\n",
    "k4_41=-math.cos(theta4)*math.sin(theta4)\n",
    "k4_42=-math.sin(theta4)**2\n",
    "k4_43=math.cos(theta4)*math.sin(theta4)\n",
    "k4_44=math.sin(theta4)**2\n",
    "k4=(E*A/L4)*np.array([[k4_11,k4_12,k4_13,k4_14],[k4_21,k4_22,k4_23,k4_24],[k4_31,k4_32,k4_33,k4_34],[k4_41,k4_42,k4_43,k4_44]])\n",
    "print(k4)"
   ]
  },
  {
   "cell_type": "markdown",
   "id": "89a63544",
   "metadata": {},
   "source": [
    "## k5_between node 2 & 5"
   ]
  },
  {
   "cell_type": "code",
   "execution_count": 9,
   "id": "2903b4bc",
   "metadata": {},
   "outputs": [
    {
     "name": "stdout",
     "output_type": "stream",
     "text": [
      "[[ 41218.83 -57736.81 -41218.83  57736.81]\n",
      " [-57736.81  80874.19  57736.81 -80874.19]\n",
      " [-41218.83  57736.81  41218.83 -57736.81]\n",
      " [ 57736.81 -80874.19 -57736.81  80874.19]]\n"
     ]
    }
   ],
   "source": [
    "k5_11=math.cos(theta5)**2\n",
    "k5_12=math.cos(theta5)*math.sin(theta5)\n",
    "k5_13=-math.cos(theta5)**2\n",
    "k5_14=-math.cos(theta5)*math.sin(theta5)\n",
    "k5_21=math.cos(theta5)*math.sin(theta5)\n",
    "k5_22=math.sin(theta5)**2\n",
    "k5_23=-math.cos(theta5)*math.sin(theta5)\n",
    "k5_24=-math.sin(theta5)**2\n",
    "k5_31=-math.cos(theta5)**2\n",
    "k5_32=-math.cos(theta5)*math.sin(theta5)\n",
    "k5_33=math.cos(theta5)**2\n",
    "k5_34=math.cos(theta5)*math.sin(theta5)\n",
    "k5_41=-math.cos(theta5)*math.sin(theta5)\n",
    "k5_42=-math.sin(theta5)**2\n",
    "k5_43=math.cos(theta5)*math.sin(theta5)\n",
    "k5_44=math.sin(theta5)**2\n",
    "k5=(E*A/L5)*np.array([[k5_11,k5_12,k5_13,k5_14],[k5_21,k5_22,k5_23,k5_24],[k5_31,k5_32,k5_33,k5_34],[k5_41,k5_42,k5_43,k5_44]])\n",
    "print(np.round(k5,2))"
   ]
  },
  {
   "cell_type": "markdown",
   "id": "ae686545",
   "metadata": {},
   "source": [
    "## k6_between node 3 & 5"
   ]
  },
  {
   "cell_type": "code",
   "execution_count": 10,
   "id": "93988e7e",
   "metadata": {},
   "outputs": [
    {
     "name": "stdout",
     "output_type": "stream",
     "text": [
      "[[ 210000.       0. -210000.      -0.]\n",
      " [      0.       0.      -0.      -0.]\n",
      " [-210000.      -0.  210000.       0.]\n",
      " [     -0.      -0.       0.       0.]]\n"
     ]
    }
   ],
   "source": [
    "k6_11=math.cos(theta6)**2\n",
    "k6_12=math.cos(theta6)*math.sin(theta6)\n",
    "k6_13=-math.cos(theta6)**2\n",
    "k6_14=-math.cos(theta6)*math.sin(theta6)\n",
    "k6_21=math.cos(theta6)*math.sin(theta6)\n",
    "k6_22=math.sin(theta6)**2\n",
    "k6_23=-math.cos(theta6)*math.sin(theta6)\n",
    "k6_24=-math.sin(theta6)**2\n",
    "k6_31=-math.cos(theta6)**2\n",
    "k6_32=-math.cos(theta6)*math.sin(theta6)\n",
    "k6_33=math.cos(theta6)**2\n",
    "k6_34=math.cos(theta6)*math.sin(theta6)\n",
    "k6_41=-math.cos(theta6)*math.sin(theta6)\n",
    "k6_42=-math.sin(theta6)**2\n",
    "k6_43=math.cos(theta6)*math.sin(theta6)\n",
    "k6_44=math.sin(theta6)**2\n",
    "k6=(E*A/L6)*np.array([[k6_11,k6_12,k6_13,k6_14],[k6_21,k6_22,k6_23,k6_24],[k6_31,k6_32,k6_33,k6_34],[k6_41,k6_42,k6_43,k6_44]])\n",
    "print(k6)"
   ]
  },
  {
   "cell_type": "markdown",
   "id": "f7b9d68b",
   "metadata": {},
   "source": [
    "## k7_between node 4 & 5"
   ]
  },
  {
   "cell_type": "code",
   "execution_count": 11,
   "id": "66af58e2",
   "metadata": {},
   "outputs": [
    {
     "name": "stdout",
     "output_type": "stream",
     "text": [
      "[[      0.       0.      -0.      -0.]\n",
      " [      0.  150000.      -0. -150000.]\n",
      " [     -0.      -0.       0.       0.]\n",
      " [     -0. -150000.       0.  150000.]]\n"
     ]
    }
   ],
   "source": [
    "k7_11=math.cos(theta7)**2\n",
    "k7_12=math.cos(theta7)*math.sin(theta7)\n",
    "k7_13=-math.cos(theta7)**2\n",
    "k7_14=-math.cos(theta7)*math.sin(theta7)\n",
    "k7_21=math.cos(theta7)*math.sin(theta7)\n",
    "k7_22=math.sin(theta7)**2\n",
    "k7_23=-math.cos(theta7)*math.sin(theta7)\n",
    "k7_24=-math.sin(theta7)**2\n",
    "k7_31=-math.cos(theta7)**2\n",
    "k7_32=-math.cos(theta7)*math.sin(theta7)\n",
    "k7_33=math.cos(theta7)**2\n",
    "k7_34=math.cos(theta7)*math.sin(theta7)\n",
    "k7_41=-math.cos(theta7)*math.sin(theta7)\n",
    "k7_42=-math.sin(theta7)**2\n",
    "k7_43=math.cos(theta7)*math.sin(theta7)\n",
    "k7_44=math.sin(theta7)**2\n",
    "k7=(E*A/L7)*np.array([[k7_11,k7_12,k7_13,k7_14],[k7_21,k7_22,k7_23,k7_24],[k7_31,k7_32,k7_33,k7_34],[k7_41,k7_42,k7_43,k7_44]])\n",
    "print(np.round(k7,2))"
   ]
  },
  {
   "cell_type": "markdown",
   "id": "3883da0e",
   "metadata": {},
   "source": [
    "## k8_between node 4 & 6"
   ]
  },
  {
   "cell_type": "code",
   "execution_count": 12,
   "id": "f818198e",
   "metadata": {},
   "outputs": [
    {
     "name": "stdout",
     "output_type": "stream",
     "text": [
      "[[ 41218.83 -57736.81 -41218.83  57736.81]\n",
      " [-57736.81  80874.19  57736.81 -80874.19]\n",
      " [-41218.83  57736.81  41218.83 -57736.81]\n",
      " [ 57736.81 -80874.19 -57736.81  80874.19]]\n"
     ]
    }
   ],
   "source": [
    "k8_11=math.cos(theta8)**2\n",
    "k8_12=math.cos(theta8)*math.sin(theta8)\n",
    "k8_13=-math.cos(theta8)**2\n",
    "k8_14=-math.cos(theta8)*math.sin(theta8)\n",
    "k8_21=math.cos(theta8)*math.sin(theta8)\n",
    "k8_22=math.sin(theta8)**2\n",
    "k8_23=-math.cos(theta8)*math.sin(theta8)\n",
    "k8_24=-math.sin(theta8)**2\n",
    "k8_31=-math.cos(theta8)**2\n",
    "k8_32=-math.cos(theta8)*math.sin(theta8)\n",
    "k8_33=math.cos(theta8)**2\n",
    "k8_34=math.cos(theta8)*math.sin(theta8)\n",
    "k8_41=-math.cos(theta8)*math.sin(theta8)\n",
    "k8_42=-math.sin(theta8)**2\n",
    "k8_43=math.cos(theta8)*math.sin(theta8)\n",
    "k8_44=math.sin(theta8)**2\n",
    "k8=(E*A/L8)*np.array([[k8_11,k8_12,k8_13,k8_14],[k8_21,k8_22,k8_23,k8_24],[k8_31,k8_32,k8_33,k8_34],[k8_41,k8_42,k8_43,k8_44]])\n",
    "print(np.round(k8,2))"
   ]
  },
  {
   "cell_type": "markdown",
   "id": "9c672375",
   "metadata": {},
   "source": [
    "## k9_between node 5 & 6"
   ]
  },
  {
   "cell_type": "code",
   "execution_count": 13,
   "id": "b11fcb73",
   "metadata": {
    "scrolled": true
   },
   "outputs": [
    {
     "name": "stdout",
     "output_type": "stream",
     "text": [
      "[[ 210000.       0. -210000.      -0.]\n",
      " [      0.       0.      -0.      -0.]\n",
      " [-210000.      -0.  210000.       0.]\n",
      " [     -0.      -0.       0.       0.]]\n"
     ]
    }
   ],
   "source": [
    "k9_11=math.cos(theta9)**2\n",
    "k9_12=math.cos(theta9)*math.sin(theta9)\n",
    "k9_13=-math.cos(theta9)**2\n",
    "k9_14=-math.cos(theta9)*math.sin(theta9)\n",
    "k9_21=math.cos(theta9)*math.sin(theta9)\n",
    "k9_22=math.sin(theta9)**2\n",
    "k9_23=-math.cos(theta9)*math.sin(theta9)\n",
    "k9_24=-math.sin(theta9)**2\n",
    "k9_31=-math.cos(theta9)**2\n",
    "k9_32=-math.cos(theta9)*math.sin(theta9)\n",
    "k9_33=math.cos(theta9)**2\n",
    "k9_34=math.cos(theta9)*math.sin(theta9)\n",
    "k9_41=-math.cos(theta9)*math.sin(theta9)\n",
    "k9_42=-math.sin(theta9)**2\n",
    "k9_43=math.cos(theta9)*math.sin(theta9)\n",
    "k9_44=math.sin(theta9)**2\n",
    "k9=(E*A/L9)*np.array([[k9_11,k9_12,k9_13,k9_14],[k9_21,k9_22,k9_23,k9_24],[k9_31,k9_32,k9_33,k9_34],[k9_41,k9_42,k9_43,k9_44]])\n",
    "print(k9)"
   ]
  },
  {
   "cell_type": "markdown",
   "id": "7d1e2284",
   "metadata": {},
   "source": [
    "## Question 10. 1) Total Stiffness Matrix"
   ]
  },
  {
   "cell_type": "code",
   "execution_count": 14,
   "id": "56584f4d",
   "metadata": {},
   "outputs": [
    {
     "data": {
      "text/plain": [
       "array([[ 2.51311e+05,  5.77680e+04, -4.13110e+04, -5.77680e+04, -2.10000e+05,  0.00000e+00,  0.00000e+00,  0.00000e+00,  0.00000e+00,  0.00000e+00,  0.00000e+00,  0.00000e+00],\n",
       "       [ 5.77680e+04,  8.07820e+04, -5.77680e+04, -8.07820e+04,  0.00000e+00,  0.00000e+00,  0.00000e+00,  0.00000e+00,  0.00000e+00,  0.00000e+00,  0.00000e+00,  0.00000e+00],\n",
       "       [-4.13110e+04, -5.77680e+04,  2.92530e+05,  3.20000e+01, -0.00000e+00, -0.00000e+00, -2.10000e+05,  0.00000e+00, -4.12190e+04,  5.77370e+04,  0.00000e+00,  0.00000e+00],\n",
       "       [-5.77680e+04, -8.07820e+04,  3.20000e+01,  3.11656e+05, -0.00000e+00, -1.50000e+05,  0.00000e+00,  0.00000e+00,  5.77370e+04, -8.08740e+04,  0.00000e+00,  0.00000e+00],\n",
       "       [-2.10000e+05,  0.00000e+00, -0.00000e+00, -0.00000e+00,  4.20000e+05,  0.00000e+00,  0.00000e+00,  0.00000e+00, -2.10000e+05,  0.00000e+00,  0.00000e+00,  0.00000e+00],\n",
       "       [ 0.00000e+00,  0.00000e+00, -0.00000e+00, -1.50000e+05,  0.00000e+00,  1.50000e+05,  0.00000e+00,  0.00000e+00,  0.00000e+00,  0.00000e+00,  0.00000e+00,  0.00000e+00],\n",
       "       [ 0.00000e+00,  0.00000e+00, -2.10000e+05,  0.00000e+00,  0.00000e+00,  0.00000e+00,  2.51219e+05, -5.77370e+04, -0.00000e+00, -0.00000e+00, -4.12190e+04,  5.77370e+04],\n",
       "       [ 0.00000e+00,  0.00000e+00,  0.00000e+00,  0.00000e+00,  0.00000e+00,  0.00000e+00, -5.77370e+04,  2.30874e+05, -0.00000e+00, -1.50000e+05,  5.77370e+04, -8.08740e+04],\n",
       "       [ 0.00000e+00,  0.00000e+00, -4.12190e+04,  5.77370e+04, -2.10000e+05,  0.00000e+00, -0.00000e+00, -0.00000e+00,  4.61219e+05, -5.77370e+04, -2.10000e+05,  0.00000e+00],\n",
       "       [ 0.00000e+00,  0.00000e+00,  5.77370e+04, -8.08740e+04,  0.00000e+00,  0.00000e+00, -0.00000e+00, -1.50000e+05, -5.77370e+04,  2.30874e+05,  0.00000e+00,  0.00000e+00],\n",
       "       [ 0.00000e+00,  0.00000e+00,  0.00000e+00,  0.00000e+00,  0.00000e+00,  0.00000e+00, -4.12190e+04,  5.77370e+04, -2.10000e+05,  0.00000e+00,  2.51219e+05, -5.77370e+04],\n",
       "       [ 0.00000e+00,  0.00000e+00,  0.00000e+00,  0.00000e+00,  0.00000e+00,  0.00000e+00,  5.77370e+04, -8.08740e+04,  0.00000e+00,  0.00000e+00, -5.77370e+04,  8.08740e+04]])"
      ]
     },
     "execution_count": 14,
     "metadata": {},
     "output_type": "execute_result"
    }
   ],
   "source": [
    "TSM=np.zeros((12,12))\n",
    "np.set_printoptions(edgeitems=12,linewidth=10000)\n",
    "TSM[0:4,0:4]+=k1\n",
    "TSM[0:2,0:2]+=k2[0:2,0:2]\n",
    "TSM[0:2,4:6]+=k2[0:2,2:4]\n",
    "TSM[4:6,0:2]+=k2[2:4,0:2]\n",
    "TSM[4:6,4:6]+=(k2[2:4,2:4] + k3[2:4,2:4] + k6[0:2,0:2])\n",
    "TSM[2:4,2:4]+=(k3[0:2,0:2] + k4[0:2,0:2] + k5[0:2,0:2])\n",
    "TSM[2:4,4:6]+=k3[0:2,2:4]\n",
    "TSM[4:6,2:4]+=k3[2:4,0:2] \n",
    "TSM[2:4, 6:8]+=k4[0:2,2:4]\n",
    "TSM[6:8, 2:4]+=k4[2:4,0:2]\n",
    "TSM[6:8,6:8]+=(k4[2:4,2:4] + k7[0:2,0:2] + k8[0:2,0:2])\n",
    "TSM[2:4,8:10]+=k5[0:2,2:4]\n",
    "TSM[8:10,2:4]+=k5[2:4,0:2]\n",
    "TSM[8:10,8:10]+=(k5[2:4,2:4] + k6[2:4,2:4] + k7[2:4,2:4] + k9[0:2,0:2])\n",
    "TSM[4:6,8:10]+=k6[0:2,2:4]\n",
    "TSM[8:10,4:6]+=k6[2:4,0:2]\n",
    "TSM[6:8,8:10]+=k7[0:2,2:4]\n",
    "TSM[8:10,6:8]+=k7[2:4,0:2]\n",
    "TSM[6:8,10:12]+=k8[0:2,2:4]\n",
    "TSM[10:12,6:8]+=k8[2:4,0:2]\n",
    "TSM[10:12,10:12]+=(k8[2:4,2:4]+k9[2:4,2:4])\n",
    "TSM[8:10,10:12]+=k9[0:2,2:4]\n",
    "TSM[10:12,8:10]+=k9[2:4,0:2]\n",
    "np.round(TSM,0)"
   ]
  },
  {
   "cell_type": "markdown",
   "id": "e6233970",
   "metadata": {},
   "source": [
    "## 10. 2) Horizontal and Vertical dispalcements at nodes 2,3,4 & 5 "
   ]
  },
  {
   "cell_type": "markdown",
   "id": "a4b1ae3d",
   "metadata": {},
   "source": [
    "## Applying boundary conditions u1x=u1y=u6x=u6y=0, we get an 8x8 matrix as shown below:"
   ]
  },
  {
   "cell_type": "code",
   "execution_count": 15,
   "id": "d38574a6",
   "metadata": {},
   "outputs": [
    {
     "data": {
      "text/plain": [
       "array([[ 2.92529643e+05,  3.15053866e+01, -5.62409918e-28, -9.18485099e-12, -2.10000000e+05,  0.00000000e+00, -4.12188315e+04,  5.77368139e+04],\n",
       "       [ 3.15053866e+01,  3.11656404e+05, -9.18485099e-12, -1.50000000e+05,  0.00000000e+00,  0.00000000e+00,  5.77368139e+04, -8.08741918e+04],\n",
       "       [-5.62409918e-28, -9.18485099e-12,  4.20000000e+05,  9.18485099e-12,  0.00000000e+00,  0.00000000e+00, -2.10000000e+05,  0.00000000e+00],\n",
       "       [-9.18485099e-12, -1.50000000e+05,  9.18485099e-12,  1.50000000e+05,  0.00000000e+00,  0.00000000e+00,  0.00000000e+00,  0.00000000e+00],\n",
       "       [-2.10000000e+05,  0.00000000e+00,  0.00000000e+00,  0.00000000e+00,  2.51218831e+05, -5.77368139e+04, -5.62409918e-28, -9.18485099e-12],\n",
       "       [ 0.00000000e+00,  0.00000000e+00,  0.00000000e+00,  0.00000000e+00, -5.77368139e+04,  2.30874192e+05, -9.18485099e-12, -1.50000000e+05],\n",
       "       [-4.12188315e+04,  5.77368139e+04, -2.10000000e+05,  0.00000000e+00, -5.62409918e-28, -9.18485099e-12,  4.61218831e+05, -5.77368139e+04],\n",
       "       [ 5.77368139e+04, -8.08741918e+04,  0.00000000e+00,  0.00000000e+00, -9.18485099e-12, -1.50000000e+05, -5.77368139e+04,  2.30874192e+05]])"
      ]
     },
     "execution_count": 15,
     "metadata": {},
     "output_type": "execute_result"
    }
   ],
   "source": [
    "eightbyeight=TSM[2:10,2:10]\n",
    "eightbyeight"
   ]
  },
  {
   "cell_type": "code",
   "execution_count": 16,
   "id": "55a13475",
   "metadata": {},
   "outputs": [
    {
     "data": {
      "text/plain": [
       "array([[20],\n",
       "       [ 0],\n",
       "       [ 0],\n",
       "       [ 0],\n",
       "       [ 0],\n",
       "       [ 0],\n",
       "       [ 0],\n",
       "       [ 0]])"
      ]
     },
     "execution_count": 16,
     "metadata": {},
     "output_type": "execute_result"
    }
   ],
   "source": [
    "f_vec=np.array([20,0,0,0,0,0,0,0]).reshape((8,1))\n",
    "f_vec"
   ]
  },
  {
   "cell_type": "code",
   "execution_count": 17,
   "id": "53c8de2f",
   "metadata": {},
   "outputs": [
    {
     "data": {
      "text/plain": [
       "array([[ 2.08270121e-04],\n",
       "       [-3.34033729e-05],\n",
       "       [ 1.05760707e-05],\n",
       "       [-3.34033729e-05],\n",
       "       [ 1.76541909e-04],\n",
       "       [ 1.06331924e-05],\n",
       "       [ 2.11521414e-05],\n",
       "       [-5.15869174e-05]])"
      ]
     },
     "execution_count": 17,
     "metadata": {},
     "output_type": "execute_result"
    }
   ],
   "source": [
    "np.round((np.linalg.inv(eightbyeight) * f_vec)*1000,9)\n",
    "np.linalg.solve(eightbyeight,f_vec)"
   ]
  },
  {
   "cell_type": "markdown",
   "id": "5a0cb7a5",
   "metadata": {},
   "source": [
    "## The horizontal and vertical displacements at node 2 are 2.08270121e-04m and -3.34033729e-05 m respectively. Similarly, the horizontal and vertical displacements for node 3,4&5 are as shown in the 8x1 matrix above."
   ]
  },
  {
   "cell_type": "markdown",
   "id": "9b8abbe9",
   "metadata": {},
   "source": [
    "## 10. 3) Horizontal and Vertical Reactions at nodes 1 & 6"
   ]
  },
  {
   "cell_type": "code",
   "execution_count": 18,
   "id": "b3fbf94a",
   "metadata": {},
   "outputs": [
    {
     "data": {
      "text/plain": [
       "array([[ 0.00000000e+00],\n",
       "       [ 0.00000000e+00],\n",
       "       [ 2.08270121e-04],\n",
       "       [-3.34033729e-05],\n",
       "       [ 1.05760707e-05],\n",
       "       [-3.34033729e-05],\n",
       "       [ 1.76541909e-04],\n",
       "       [ 1.06331924e-05],\n",
       "       [ 2.11521414e-05],\n",
       "       [-5.15869174e-05],\n",
       "       [ 0.00000000e+00],\n",
       "       [ 0.00000000e+00]])"
      ]
     },
     "execution_count": 18,
     "metadata": {},
     "output_type": "execute_result"
    }
   ],
   "source": [
    "disp=np.zeros((12,1))\n",
    "disp[2:10]=np.linalg.solve(eightbyeight,f_vec)\n",
    "disp"
   ]
  },
  {
   "cell_type": "code",
   "execution_count": 19,
   "id": "e8e5d381",
   "metadata": {},
   "outputs": [
    {
     "data": {
      "text/plain": [
       "array([[ -8.8951],\n",
       "       [ -9.333 ],\n",
       "       [ 20.    ],\n",
       "       [  0.    ],\n",
       "       [ -0.    ],\n",
       "       [ -0.    ],\n",
       "       [ -0.    ],\n",
       "       [ -0.    ],\n",
       "       [  0.    ],\n",
       "       [ -0.    ],\n",
       "       [-11.1049],\n",
       "       [  9.333 ]])"
      ]
     },
     "execution_count": 19,
     "metadata": {},
     "output_type": "execute_result"
    }
   ],
   "source": [
    "np.round(np.matmul(TSM,disp),4)"
   ]
  },
  {
   "cell_type": "markdown",
   "id": "6c911981",
   "metadata": {},
   "source": [
    "## The horizontal and vertical reactions at node 1 are 8.8951 kN (directed to left) and 9.933 kN (directed downward) respectively. Similarly, the horizontal and vertical reactions at node 6 are 11.1049 kN (directed downward) and 9.333 kN (directed upward) respectively."
   ]
  },
  {
   "cell_type": "markdown",
   "id": "4cbaf0cc",
   "metadata": {},
   "source": [
    "## 10. 4) Stresses in each element"
   ]
  },
  {
   "cell_type": "code",
   "execution_count": 20,
   "id": "1074aad2",
   "metadata": {},
   "outputs": [
    {
     "data": {
      "text/plain": [
       "array([[ 0.00000000e+00],\n",
       "       [ 0.00000000e+00],\n",
       "       [ 2.08270121e-04],\n",
       "       [-3.34033729e-05]])"
      ]
     },
     "execution_count": 20,
     "metadata": {},
     "output_type": "execute_result"
    }
   ],
   "source": [
    "u1=disp[0:4]\n",
    "u1"
   ]
  },
  {
   "cell_type": "code",
   "execution_count": 21,
   "id": "bc040d90",
   "metadata": {},
   "outputs": [
    {
     "data": {
      "text/plain": [
       "array([2294.77])"
      ]
     },
     "execution_count": 21,
     "metadata": {},
     "output_type": "execute_result"
    }
   ],
   "source": [
    "f11=-math.cos(theta1)\n",
    "f12=-math.sin(theta1)\n",
    "f13=math.cos(theta1)\n",
    "f14=math.sin(theta1)\n",
    "f1=(E*A/L1)*np.array([f11,f12,f13,f14])\n",
    "np.matmul(f1,u1)\n",
    "sigma1=np.matmul(f1,u1)/0.005\n",
    "np.round(sigma1,2)"
   ]
  },
  {
   "cell_type": "markdown",
   "id": "bd8cd050",
   "metadata": {},
   "source": [
    "## The stress in element 1 is 2294.77 MPa (tensile)"
   ]
  },
  {
   "cell_type": "code",
   "execution_count": 22,
   "id": "9be33b05",
   "metadata": {
    "scrolled": true
   },
   "outputs": [
    {
     "data": {
      "text/plain": [
       "array([[ 0.00000000e+00],\n",
       "       [ 0.00000000e+00],\n",
       "       [ 1.05760707e-05],\n",
       "       [-3.34033729e-05]])"
      ]
     },
     "execution_count": 22,
     "metadata": {},
     "output_type": "execute_result"
    }
   ],
   "source": [
    "u2=np.zeros((4,1))\n",
    "u2[0:2]=disp[0:2]\n",
    "u2[2:4]=disp[4:6]\n",
    "u2"
   ]
  },
  {
   "cell_type": "code",
   "execution_count": 23,
   "id": "877e4076",
   "metadata": {},
   "outputs": [
    {
     "data": {
      "text/plain": [
       "array([444.19])"
      ]
     },
     "execution_count": 23,
     "metadata": {},
     "output_type": "execute_result"
    }
   ],
   "source": [
    "f21=-math.cos(theta2)\n",
    "f22=-math.sin(theta2)\n",
    "f23=math.cos(theta2)\n",
    "f24=math.sin(theta2)\n",
    "f2=(E*A/L2)*np.array([f21,f22,f23,f24])\n",
    "np.matmul(f2,u2)\n",
    "sigma2=np.matmul(f2,u2)/A\n",
    "np.round(sigma2,2)"
   ]
  },
  {
   "cell_type": "markdown",
   "id": "d36dee45",
   "metadata": {},
   "source": [
    "## The stress in element 2 is 444.19 MPa (tensile)"
   ]
  },
  {
   "cell_type": "code",
   "execution_count": 24,
   "id": "b089e02c",
   "metadata": {},
   "outputs": [
    {
     "data": {
      "text/plain": [
       "array([[ 2.08270121e-04],\n",
       "       [-3.34033729e-05],\n",
       "       [ 1.05760707e-05],\n",
       "       [-3.34033729e-05]])"
      ]
     },
     "execution_count": 24,
     "metadata": {},
     "output_type": "execute_result"
    }
   ],
   "source": [
    "u3=disp[2:6]\n",
    "u3"
   ]
  },
  {
   "cell_type": "code",
   "execution_count": 25,
   "id": "a7f0b502",
   "metadata": {},
   "outputs": [
    {
     "data": {
      "text/plain": [
       "array([-0.])"
      ]
     },
     "execution_count": 25,
     "metadata": {},
     "output_type": "execute_result"
    }
   ],
   "source": [
    "f31=-math.cos(theta3)\n",
    "f32=-math.sin(theta3)\n",
    "f33=math.cos(theta3)\n",
    "f34=math.sin(theta3)\n",
    "f3=(E*A/L3)*np.array([f31,f32,f33,f34])\n",
    "np.matmul(f3,u3)\n",
    "sigma3=np.matmul(f3,u3)/A\n",
    "np.round(sigma3,2)"
   ]
  },
  {
   "cell_type": "markdown",
   "id": "51cb1736",
   "metadata": {},
   "source": [
    "## The stress in element 3 is zero"
   ]
  },
  {
   "cell_type": "code",
   "execution_count": 26,
   "id": "ca28e302",
   "metadata": {},
   "outputs": [
    {
     "data": {
      "text/plain": [
       "array([[ 2.08270121e-04],\n",
       "       [-3.34033729e-05],\n",
       "       [ 1.76541909e-04],\n",
       "       [ 1.06331924e-05]])"
      ]
     },
     "execution_count": 26,
     "metadata": {},
     "output_type": "execute_result"
    }
   ],
   "source": [
    "u4=np.zeros((4,1))\n",
    "u4[0:2]=disp[2:4]\n",
    "u4[2:4]=disp[6:8]\n",
    "u4"
   ]
  },
  {
   "cell_type": "code",
   "execution_count": 27,
   "id": "87698ed4",
   "metadata": {},
   "outputs": [
    {
     "data": {
      "text/plain": [
       "array([-1332.58])"
      ]
     },
     "execution_count": 27,
     "metadata": {},
     "output_type": "execute_result"
    }
   ],
   "source": [
    "f41=-math.cos(theta4)\n",
    "f42=-math.sin(theta4)\n",
    "f43=math.cos(theta4)\n",
    "f44=math.sin(theta4)\n",
    "f4=(E*A/L4)*np.array([f41,f42,f43,f44])\n",
    "np.matmul(f4,u4)\n",
    "sigma4=np.matmul(f4,u4)/A\n",
    "np.round(sigma4,2)"
   ]
  },
  {
   "cell_type": "markdown",
   "id": "1d44112b",
   "metadata": {},
   "source": [
    "## The stress in element 4 is 1332.58 MPa (Compressive)"
   ]
  },
  {
   "cell_type": "code",
   "execution_count": 28,
   "id": "6b6a56a9",
   "metadata": {},
   "outputs": [
    {
     "data": {
      "text/plain": [
       "array([[ 2.08270121e-04],\n",
       "       [-3.34033729e-05],\n",
       "       [ 2.11521414e-05],\n",
       "       [-5.15869174e-05]])"
      ]
     },
     "execution_count": 28,
     "metadata": {},
     "output_type": "execute_result"
    }
   ],
   "source": [
    "u5=np.zeros((4,1))\n",
    "u5[0:2]=disp[2:4]\n",
    "u5[2:4]=disp[8:10]\n",
    "u5"
   ]
  },
  {
   "cell_type": "code",
   "execution_count": 29,
   "id": "086bc063",
   "metadata": {},
   "outputs": [
    {
     "data": {
      "text/plain": [
       "array([-2293.47])"
      ]
     },
     "execution_count": 29,
     "metadata": {},
     "output_type": "execute_result"
    }
   ],
   "source": [
    "f51=-math.cos(theta5)\n",
    "f52=-math.sin(theta5)\n",
    "f53=math.cos(theta5)\n",
    "f54=math.sin(theta5)\n",
    "f5=(E*A/L5)*np.array([f51,f52,f53,f54])\n",
    "np.matmul(f5,u5)\n",
    "sigma5=np.matmul(f5,u5)/A\n",
    "np.round(sigma5,2)"
   ]
  },
  {
   "cell_type": "markdown",
   "id": "41eb2b7c",
   "metadata": {},
   "source": [
    "## The stress in element 5 is 2293.47 MPa (Compressive)"
   ]
  },
  {
   "cell_type": "code",
   "execution_count": 30,
   "id": "606ec314",
   "metadata": {},
   "outputs": [
    {
     "data": {
      "text/plain": [
       "array([[ 1.05760707e-05],\n",
       "       [-3.34033729e-05],\n",
       "       [ 2.11521414e-05],\n",
       "       [-5.15869174e-05]])"
      ]
     },
     "execution_count": 30,
     "metadata": {},
     "output_type": "execute_result"
    }
   ],
   "source": [
    "u6=np.zeros((4,1))\n",
    "u6[0:2]=disp[4:6]\n",
    "u6[2:4]=disp[8:10]\n",
    "u6"
   ]
  },
  {
   "cell_type": "code",
   "execution_count": 31,
   "id": "bfe29718",
   "metadata": {},
   "outputs": [
    {
     "data": {
      "text/plain": [
       "array([444.19])"
      ]
     },
     "execution_count": 31,
     "metadata": {},
     "output_type": "execute_result"
    }
   ],
   "source": [
    "f61=-math.cos(theta6)\n",
    "f62=-math.sin(theta6)\n",
    "f63=math.cos(theta6)\n",
    "f64=math.sin(theta6)\n",
    "f6=(E*A/L6)*np.array([f61,f62,f63,f64])\n",
    "np.matmul(f6,u6)\n",
    "sigma6=np.matmul(f6,u6)/A\n",
    "np.round(sigma6,2)"
   ]
  },
  {
   "cell_type": "markdown",
   "id": "b1505c1d",
   "metadata": {},
   "source": [
    "## The stress in element 6 is 444.19 MPa (tensile)"
   ]
  },
  {
   "cell_type": "code",
   "execution_count": 32,
   "id": "ed6e4d4d",
   "metadata": {},
   "outputs": [
    {
     "data": {
      "text/plain": [
       "array([[ 1.76541909e-04],\n",
       "       [ 1.06331924e-05],\n",
       "       [ 2.11521414e-05],\n",
       "       [-5.15869174e-05]])"
      ]
     },
     "execution_count": 32,
     "metadata": {},
     "output_type": "execute_result"
    }
   ],
   "source": [
    "u7=disp[6:10]\n",
    "u7"
   ]
  },
  {
   "cell_type": "code",
   "execution_count": 33,
   "id": "f199722a",
   "metadata": {},
   "outputs": [
    {
     "data": {
      "text/plain": [
       "array([-1866.6])"
      ]
     },
     "execution_count": 33,
     "metadata": {},
     "output_type": "execute_result"
    }
   ],
   "source": [
    "f71=-math.cos(theta7)\n",
    "f72=-math.sin(theta7)\n",
    "f73=math.cos(theta7)\n",
    "f74=math.sin(theta7)\n",
    "f7=(E*A/L7)*np.array([f71,f72,f73,f74])\n",
    "np.matmul(f7,u7)\n",
    "sigma7=np.matmul(f7,u7)/A\n",
    "np.round(sigma7,2)"
   ]
  },
  {
   "cell_type": "markdown",
   "id": "6d24615a",
   "metadata": {},
   "source": [
    "## The stress in element 7 is 1866.6 MPa (Compressive)"
   ]
  },
  {
   "cell_type": "code",
   "execution_count": 34,
   "id": "0d7a2743",
   "metadata": {},
   "outputs": [
    {
     "data": {
      "text/plain": [
       "array([[1.76541909e-04],\n",
       "       [1.06331924e-05],\n",
       "       [0.00000000e+00],\n",
       "       [0.00000000e+00]])"
      ]
     },
     "execution_count": 34,
     "metadata": {},
     "output_type": "execute_result"
    }
   ],
   "source": [
    "u8=np.zeros((4,1))\n",
    "u8[0:2]=disp[6:8]\n",
    "u8[2:4]=disp[10:12]\n",
    "u8"
   ]
  },
  {
   "cell_type": "code",
   "execution_count": 35,
   "id": "809adea2",
   "metadata": {},
   "outputs": [
    {
     "data": {
      "text/plain": [
       "array([-2293.47])"
      ]
     },
     "execution_count": 35,
     "metadata": {},
     "output_type": "execute_result"
    }
   ],
   "source": [
    "f81=-math.cos(theta8)\n",
    "f82=-math.sin(theta8)\n",
    "f83=math.cos(theta8)\n",
    "f84=math.sin(theta8)\n",
    "f8=(E*A/L8)*np.array([f81,f82,f83,f84])\n",
    "np.matmul(f8,u8)\n",
    "sigma8=np.matmul(f8,u8)/A\n",
    "np.round(sigma8,2)"
   ]
  },
  {
   "cell_type": "markdown",
   "id": "11c63fec",
   "metadata": {},
   "source": [
    "## The stress in element 8 is 2293.47 MPa (Compressive)"
   ]
  },
  {
   "cell_type": "code",
   "execution_count": 36,
   "id": "516e935a",
   "metadata": {},
   "outputs": [
    {
     "data": {
      "text/plain": [
       "array([[ 2.11521414e-05],\n",
       "       [-5.15869174e-05],\n",
       "       [ 0.00000000e+00],\n",
       "       [ 0.00000000e+00]])"
      ]
     },
     "execution_count": 36,
     "metadata": {},
     "output_type": "execute_result"
    }
   ],
   "source": [
    "u9=disp[8:12]\n",
    "u9"
   ]
  },
  {
   "cell_type": "code",
   "execution_count": 37,
   "id": "b769152b",
   "metadata": {},
   "outputs": [
    {
     "data": {
      "text/plain": [
       "array([-888.39])"
      ]
     },
     "execution_count": 37,
     "metadata": {},
     "output_type": "execute_result"
    }
   ],
   "source": [
    "f91=-math.cos(theta9)\n",
    "f92=-math.sin(theta9)\n",
    "f93=math.cos(theta9)\n",
    "f94=math.sin(theta9)\n",
    "f9=(E*A/L9)*np.array([f91,f92,f93,f94])\n",
    "np.matmul(f9,u9)\n",
    "sigma9=np.matmul(f9,u9)/A\n",
    "np.round(sigma9,2)"
   ]
  },
  {
   "cell_type": "markdown",
   "id": "0862c588",
   "metadata": {},
   "source": [
    "## The stress in element 9 is 888.39 MPa (Compressive)"
   ]
  },
  {
   "cell_type": "markdown",
   "id": "fc8abb50",
   "metadata": {},
   "source": [
    "## BONUS QUESTION: Deformed Shape of Truss obtained in Q10"
   ]
  },
  {
   "cell_type": "code",
   "execution_count": 38,
   "id": "a3fd6d60",
   "metadata": {},
   "outputs": [
    {
     "data": {
      "image/png": "[encoded data removed]",
      "text/plain": [
       "<Figure size 432x288 with 1 Axes>"
      ]
     },
     "metadata": {
      "needs_background": "light"
     },
     "output_type": "display_data"
    }
   ],
   "source": [
    "new_node1=[0,0]\n",
    "new_node2=[5+2.08270121e-04,7-3.34033729e-05]\n",
    "new_node3=[5+1.05760707e-05,0-3.34033729e-05]\n",
    "new_node4=[10+1.76541909e-04,7+1.06331924e-05]\n",
    "new_node5=[10+2.11521414e-05,0-5.15869174e-05]\n",
    "new_node6=[15,0]\n",
    "new_xValues=[new_node3[0],new_node1[0],new_node2[0],new_node4[0],new_node6[0],new_node5[0],new_node3[0],new_node2[0],new_node5[0],new_node4[0]]\n",
    "new_yValues=[new_node3[1],new_node1[1],new_node2[1],new_node4[1],new_node6[1],new_node5[1],new_node3[1],new_node2[1],new_node5[1],new_node4[1]]\n",
    "node1=[0,0]\n",
    "node2=[5,7]\n",
    "node3=[5,0]\n",
    "node4=[10,7]\n",
    "node5=[10,0]\n",
    "node6=[15,0]\n",
    "xValues=[node3[0],node1[0],node2[0],node4[0],node6[0],node5[0],node3[0],node2[0],node5[0],node4[0]]\n",
    "yValues=[node3[1],node1[1],node2[1],node4[1],node6[1],node5[1],node3[1],node2[1],node5[1],node4[1]]\n",
    "plt.plot(xValues,yValues,\"bo-\")\n",
    "plt.plot(new_xValues,new_yValues,\"ro-\")\n",
    "plt.legend([\"Undeformed\", \"Deformed\"],loc=\"upper right\")\n",
    "plt.savefig('Deformed Shape')"
   ]
  }
 ],
 "metadata": {
  "kernelspec": {
   "display_name": "Python 3 (ipykernel)",
   "language": "python",
   "name": "python3"
  },
  "language_info": {
   "codemirror_mode": {
    "name": "ipython",
    "version": 3
   },
   "file_extension": ".py",
   "mimetype": "text/x-python",
   "name": "python",
   "nbconvert_exporter": "python",
   "pygments_lexer": "ipython3",
   "version": "3.9.0"
  }
 },
 "nbformat": 4,
 "nbformat_minor": 5
}
