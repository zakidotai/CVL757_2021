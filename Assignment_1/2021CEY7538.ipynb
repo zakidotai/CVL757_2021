{
 "cells": [
  {
   "cell_type": "markdown",
   "source": [
    "<h1>Assignment 1"
   ],
   "metadata": {}
  },
  {
   "cell_type": "markdown",
   "source": [
    "<h3>Q1: Reversing a list"
   ],
   "metadata": {}
  },
  {
   "cell_type": "code",
   "execution_count": null,
   "source": [
    "#following are sample input and corresponding outputs\r\n",
    "Input1  = [12, 35, 9, 56, 24]\r\n",
    "Output1 = [24, 35, 9, 56, 12]\r\n",
    "\r\n",
    "Input2  = [1, 2, 3]\r\n",
    "Output2 = [3, 2, 1]"
   ],
   "outputs": [],
   "metadata": {}
  },
  {
   "cell_type": "code",
   "execution_count": null,
   "source": [
    "#write your solution here to reverse a list\r\n",
    "\r\n",
    "Input1.reverse()\r\n",
    "Output= Input1\r\n",
    "print(Output1)\r\n",
    "\r\n",
    "Input2.reverse()\r\n",
    "Output2= Input2\r\n",
    "print(Output2)"
   ],
   "outputs": [
    {
     "output_type": "stream",
     "name": "stdout",
     "text": [
      "[24, 35, 9, 56, 12]\n",
      "[3, 2, 1]\n"
     ]
    }
   ],
   "metadata": {}
  },
  {
   "cell_type": "markdown",
   "source": [
    "<h3>Q2: Swapping elements in lists"
   ],
   "metadata": {}
  },
  {
   "cell_type": "code",
   "execution_count": null,
   "source": [
    "Input  = [12, 35, 9, 56, 24]\r\n",
    "Output = [12, 9, 35, 56, 24]"
   ],
   "outputs": [],
   "metadata": {}
  },
  {
   "cell_type": "code",
   "execution_count": null,
   "source": [
    "#write your solution here\r\n",
    "\r\n",
    "\r\n",
    "##### element to be swapped  #####\r\n",
    "\r\n",
    "###:Method1: By invoking indicides\r\n",
    "\r\n",
    "#Intializing index values to be swapped\r\n",
    "index1 = 1\r\n",
    "index2 = 2\r\n",
    "\r\n",
    "\r\n",
    "#swapping \r\n",
    "Input[index1], Input[index2] = Input[index2], Input[index1]\r\n",
    "\r\n",
    "\r\n",
    "#print results\r\n",
    "print(Input)\r\n",
    "\r\n",
    "\r\n"
   ],
   "outputs": [
    {
     "output_type": "stream",
     "name": "stdout",
     "text": [
      "[12, 9, 35, 56, 24]\n"
     ]
    }
   ],
   "metadata": {}
  },
  {
   "cell_type": "markdown",
   "source": [
    "<h3>Q3: Reversing a string"
   ],
   "metadata": {}
  },
  {
   "cell_type": "code",
   "execution_count": null,
   "source": [
    "input_str  = 'This is CVL757'\r\n",
    "output_str = '757LVC si sihT'"
   ],
   "outputs": [],
   "metadata": {}
  },
  {
   "cell_type": "code",
   "execution_count": null,
   "source": [
    "#write your solution here\r\n",
    "print(input_str[::-1])"
   ],
   "outputs": [
    {
     "output_type": "stream",
     "name": "stdout",
     "text": [
      "757LVC si sihT\n"
     ]
    }
   ],
   "metadata": {}
  },
  {
   "cell_type": "markdown",
   "source": [
    "<h3>Q4: Reversing the order of words in a string"
   ],
   "metadata": {}
  },
  {
   "cell_type": "markdown",
   "source": [],
   "metadata": {}
  },
  {
   "cell_type": "code",
   "execution_count": null,
   "source": [
    "input_str  = 'This is CVL757'\r\n",
    "output_str = 'CVL757 is This'"
   ],
   "outputs": [],
   "metadata": {}
  },
  {
   "cell_type": "code",
   "execution_count": null,
   "source": [
    "#write your solution here\r\n",
    "def reverse_str(a:str,sep=' '):\r\n",
    "    a=a.split(sep)\r\n",
    "    return \" \".join(a[::-1])\r\n",
    "print(reverse_str(input_str))"
   ],
   "outputs": [
    {
     "output_type": "stream",
     "name": "stdout",
     "text": [
      "CVL757 is This\n"
     ]
    }
   ],
   "metadata": {}
  },
  {
   "cell_type": "markdown",
   "source": [
    "<h3>Q5: Initialise a 3x3 matrix with random values, use numpy"
   ],
   "metadata": {}
  },
  {
   "cell_type": "code",
   "execution_count": null,
   "source": [
    "import numpy as np\n",
    "\n",
    "random_matrix =  np.random.rand(3,3)\n",
    "print(random_matrix)"
   ],
   "outputs": [
    {
     "output_type": "stream",
     "name": "stdout",
     "text": [
      "[[0.76903258 0.02752954 0.74741422]\n",
      " [0.74846977 0.26806295 0.60181414]\n",
      " [0.36845539 0.01448953 0.58612824]]\n"
     ]
    }
   ],
   "metadata": {}
  },
  {
   "cell_type": "markdown",
   "source": [
    "<h3>Q6: Swap the columns of random_matrix"
   ],
   "metadata": {}
  },
  {
   "cell_type": "code",
   "execution_count": null,
   "source": [
    "inp = np.array([[0.13806091, 0.82474243, 0.15646752],\n",
    "                [0.50029824, 0.45875794, 0.53401557],\n",
    "                [0.95397773, 0.79407795, 0.07442586]])\n",
    "\n",
    "out = np.array([[0.15646752, 0.82474243, 0.13806091],\n",
    "                [0.53401557, 0.45875794, 0.50029824],\n",
    "                [0.07442586, 0.79407795, 0.95397773]])\n",
    "\n"
   ],
   "outputs": [],
   "metadata": {}
  },
  {
   "cell_type": "code",
   "execution_count": null,
   "source": [
    "#write your solution here to swap 1st and last column\n",
    "inp[:, [0,-1]] = inp[:, [-1,0]]\n",
    "\n",
    "print(inp)"
   ],
   "outputs": [
    {
     "output_type": "stream",
     "name": "stdout",
     "text": [
      "[[0.15646752 0.82474243 0.13806091]\n",
      " [0.53401557 0.45875794 0.50029824]\n",
      " [0.07442586 0.79407795 0.95397773]]\n"
     ]
    }
   ],
   "metadata": {}
  },
  {
   "cell_type": "markdown",
   "source": [
    "<h3>Q7: Swap the rows of random_matrix"
   ],
   "metadata": {}
  },
  {
   "cell_type": "code",
   "execution_count": null,
   "source": [
    "inp = np.array([[0.13806091, 0.82474243, 0.15646752],\n",
    "               [0.50029824, 0.45875794, 0.53401557],\n",
    "               [0.95397773, 0.79407795, 0.07442586]])\n",
    "\n",
    "out = np.array([[0.95397773, 0.79407795, 0.07442586],\n",
    "               [0.50029824, 0.45875794, 0.53401557],\n",
    "               [0.13806091, 0.82474243, 0.15646752]])"
   ],
   "outputs": [],
   "metadata": {}
  },
  {
   "cell_type": "code",
   "execution_count": null,
   "source": [
    "#write your solution here to swap 1st and 3rd rows\n",
    "inp[[0,2] ,:] = inp[[2,0],:]\n",
    "\n",
    "print(inp)"
   ],
   "outputs": [
    {
     "output_type": "stream",
     "name": "stdout",
     "text": [
      "[[0.95397773 0.79407795 0.07442586]\n",
      " [0.50029824 0.45875794 0.53401557]\n",
      " [0.13806091 0.82474243 0.15646752]]\n"
     ]
    }
   ],
   "metadata": {}
  },
  {
   "cell_type": "markdown",
   "source": [
    "<h3>Q8: Plot the sine and cosine curves as shown below"
   ],
   "metadata": {}
  },
  {
   "cell_type": "code",
   "execution_count": null,
   "source": [
    "import matplotlib.pyplot as plt"
   ],
   "outputs": [],
   "metadata": {}
  },
  {
   "cell_type": "code",
   "execution_count": null,
   "source": [
    "x = np.arange(0,2*np.pi,0.01)\n",
    "#write code here to plot and show the legend also\n",
    "x = np.arange(0,2*np.pi,0.001)\n",
    "#write code here to plot and show the legend als\n",
    "y=np.sin(x)\n",
    "z=np.cos(x)\n",
    "plt.plot(x,y,x,z)\n",
    "plt.legend([\"Sinθ\", \"Cosθ\"], loc =\"lower left\")\n",
    "plt.savefig('2021CEY7538_Q8')\n",
    "plt.show()"
   ],
   "outputs": [
    {
     "data": {
      "image/png": "[encoded data removed]",
      "text/plain": [
       "<Figure size 432x288 with 1 Axes>"
      ]
     },
     "metadata": {},
     "output_type": "display_data"
    }
   ],
   "metadata": {}
  },
  {
   "cell_type": "markdown",
   "source": [
    "<h3>Q9: Plot the following truss</h3>\n",
    "Length of element 2, 6 and 9 (between nodes 1 and 3, 3 and 5, and 5 and 9) is 5.<br>\n",
    "Length of element 3 and 7 is 7m.\n",
    " "
   ],
   "metadata": {}
  },
  {
   "cell_type": "markdown",
   "source": [
    "<img src='q9.svg' alt=\"Truss Q9\" width=\"500\" height=\"600\">"
   ],
   "metadata": {}
  },
  {
   "cell_type": "code",
   "execution_count": null,
   "source": [
    "#write solution here\n",
    "\n",
    "coord=[(0,0), (5,7), (5,0), (10,7), (10,0), (15,0) ]   #nodes 1,2,3,4,5,6\n",
    "connec=[(1,2), (1,3), (3,2), (2,4), (5,2), (3,5), (5,4), (6,4),(5,6)]\n",
    "\n",
    "from matplotlib.pyplot import figure\n",
    "figure(figsize=(8, 4), dpi=70)\n",
    "xc=[]\n",
    "yc=[]\n",
    "for i in range(len(connec)):\n",
    "    xc1,xc2=coord [connec[i][0]-1][0],coord [connec[i][1]-1][0]\n",
    "    yc1,yc2=coord [connec[i][0]-1][1],coord [connec[i][1]-1][1]\n",
    "    xc.append(xc1), xc.append(xc2),yc.append(yc1),yc.append(yc2)\n",
    "    plt.axis('off')\n",
    "    \n",
    "plt.plot(xc,yc,color='black',marker='o',linewidth=2.0,markersize=15)\n",
    "plt.savefig(\"2021CEY7538_Q9\")    "
   ],
   "outputs": [
    {
     "data": {
      "image/png": "[encoded data removed]",
      "text/plain": [
       "<Figure size 560x280 with 1 Axes>"
      ]
     },
     "metadata": {},
     "output_type": "display_data"
    }
   ],
   "metadata": {}
  },
  {
   "cell_type": "markdown",
   "source": [
    "**Q10: Consider the plane truss shown above. Given E = 200GPa and A = 0.005m2, and horizontal load of 20kN at node 2. Both node 1 and node 6 have pin supports:**\n",
    "\n",
    "1. the global stiffness matrix for the structure.\n",
    "2. the horizontal and vertical displacements at nodes 2, 3, 4, and 5.\n",
    "3. the horizontal and vertical reactions at nodes 1 and 6.\n",
    "4. the stress in each element."
   ],
   "metadata": {}
  },
  {
   "cell_type": "code",
   "execution_count": null,
   "source": [
    "#write solution here\n",
    "#creates a list of member lengths\n",
    "#the indicies of the list represents the member number as decided\n",
    "\n",
    "def lmember(coordinates, connections):\n",
    "    n_cod= coordinates\n",
    "    conec=connections\n",
    "    l_mem=[]\n",
    "    for i in range(len(conec)):\n",
    "        x1=n_cod [conec[i][0]-1][0]\n",
    "        x2=n_cod [conec[i][1]-1][0]\n",
    "        y1=n_cod [conec[i][0]-1][1]\n",
    "        y2=n_cod [conec[i][1]-1][1]\n",
    "        length_member=np.sqrt( (x2-x1)**2 +(y2-y1)**2 )\n",
    "        l_mem.append(length_member)\n",
    "    return l_mem\n",
    "\n",
    "\n",
    "#nodes as numbered\n",
    "coordinates= [(0,0), (5,7), (5,0), (10,7), (10,0), (15,0) ]   #nodes 1,2,3,4,5,6 \n",
    "\n",
    "#each item represents the node number of the ends of that memeber\n",
    "connections =[(1,2), (1,3), (3,2), (2,4), (5,2), (3,5), (5,4), (6,4),(5,6)]\n",
    "\n",
    "\n",
    "\n",
    "c=np.sqrt(5*5 +7*7)\n",
    "cos=5/c\n",
    "sin=7/c\n",
    "\n",
    "#(cos,sin) for each member as per the member connections required for formulating the member stiffness matrix Km\n",
    "lamxlamy= np.array([ [cos,sin], [1,0], [0,1], [1,0], [-cos,sin], [1,0], [0,1], [-cos,sin], [1,0] ])\n",
    "\n",
    "#total degrees of freedom = total nodes *2\n",
    "ndof= len(coordinates)*2\n",
    "free_dof=8    #these are total known dofs.\n",
    "dof_seq=[2,3,4,5,6,7,8,9,0,1,10,11]  #write the ID of dofs such that the they are divided into unknown dofs and known dofs\n",
    "                                    #here, since free_dofs =8, therefore first 8 in dof_seq represent\n",
    "                                    #known displacements (u-known) and rest are unknown\n",
    "\n",
    "#Cross sectional properties\n",
    "E=2e+9\n",
    "A=0.005\n",
    "\n",
    "\n",
    "#caclualte the length of members \n",
    "L=lmember(coordinates, connections)\n",
    "\n",
    "#Initialize the member stiffness matricies into a single variable\n",
    "#Km [member stiiffness] will be of shape ----number of members *4 *4\n",
    "km=np.zeros(((len(L)),4,4))\n",
    "\n",
    "for i in range(len(L)):\n",
    "    c,d =lamxlamy[i]\n",
    "    km[i]= np.array([[c**2, c*d , -c**2, -c*d],[c*d, d**2, -c*d, -d**2],[-c**2, -c*d, c**2, c*d],[-c*d, -d**2, c*d, d**2 ]])\n",
    "    gamma= (A*E)/L[i]\n",
    "    km[i]=km[i] * gamma\n",
    "\n",
    "\n",
    "\n",
    "\n",
    "#to calcuate the dofs associated with each member.\n",
    "#dof-label list stores the dofs of each member\n",
    "#eg. for the first member, the dofs are u0,u1,u2,u2 stored as [0,1,2,3] in the dof_label array\n",
    "\n",
    "\n",
    "dof_label=[]\n",
    "dof=np.array([ [1,2], [3,4], [5,6],[7,8], [9,10], [11,12] ])\n",
    "for p in range(len(connections)):\n",
    "    i,j =connections[p]\n",
    "    mm=np.concatenate([dof[i-1],dof[j-1]])-1\n",
    "    lb=mm.tolist()\n",
    "    dof_label.append(lb)\n",
    "\n",
    "\n",
    "##GLOBAL STIFFNESS MATRIX KG\n",
    "    ##initialized to the size of ndof*ndof\n",
    "\n",
    "KG= np.zeros((ndof,ndof))\n",
    "\n",
    "##By using the member stiffness matrix km, the global stiffness matrix is calucated as K\n",
    "for k in range(km.shape[0]):\n",
    "    for i in range(4):\n",
    "        for j in range(4):\n",
    "            x=int(dof_label[k][j])\n",
    "            y=int(dof_label[k][i])         \n",
    "            KG[x,y]= (KG[x,y]+km[k,i,j])\n",
    "#Printing KG\n",
    "print(f'Global matrix   \\n {KG}')\n",
    "\n",
    "### MEMBER FORCES AND NODAL DISPLACEMENTS\n",
    "\n",
    "##Member forces P and nodal displacements as U            \n",
    "P=np.zeros((ndof,))\n",
    "U=np.zeros((ndof,))\n",
    "\n",
    "#Intital condtion of 20KN load along the u3 dof. \n",
    "\n",
    "P[2]=20e3\n",
    "\n",
    "##Shuffle the KG matrix and P such that it is divided into known DOfs and Unknown DOfs in terms of nodal displacements\n",
    "# the shuffle is done as per dof_seq which specifies the the nodal displacements  \"U:= [U_unknows, U_knowns]\"\"\n",
    "KG[:,:]=KG[dof_seq,:]\n",
    "KG[:,:]=KG[:,dof_seq]\n",
    "\n",
    "P[:,]=P[[2,3,4,5,6,7,8,9,0,1,10,11],]\n",
    "\n",
    "#packing the P as P_knowns(pk) and P_unknowns(pu) [P]:=[pk,pu].  Same for U [U]:=[uu,uk] \n",
    "xx=free_dof\n",
    "pk=P[:xx,]\n",
    "pu=P[xx:,]\n",
    "uk=U[xx:,]  \n",
    "uu=U[:xx,]\n",
    "\n",
    "#Breaking the shuffled matrix as per uu and uk\n",
    "K11=KG[:xx,:xx]\n",
    "K12=KG[:xx,xx:]\n",
    "K21=KG[xx:,:xx]\n",
    "K22=KG[xx:,xx:]\n",
    "\n",
    "\n",
    "#calculate uu(U-unknowns). uu= inverse(K11)*pk\n",
    "uu= np.matmul(np.linalg.inv(K11),pk)\n",
    "pu=np.matmul(K21,uu)\n",
    "\n",
    "#Updating the U and P arrays with calculted values\n",
    "UU=np.concatenate((uu,uk), axis=0)\n",
    "FF=np.round(np.concatenate((pk,pu), axis=0),6)\n",
    "FF2=np.round(np.concatenate((pk,pu), axis=0),6)\n",
    "\n",
    "#shuffling the U and P to their original sequence as [U]=[U0,U1,U2,U3....] and [P]=[P1,P2,P3......]\n",
    "UU[2:10,]=UU[:8,]\n",
    "UU[0]=0\n",
    "UU[1]=0\n",
    "node_disp=np.vstack(UU)\n",
    "\n",
    "\n",
    "FF[2:10,]=FF2[:8,]\n",
    "FF[0]=FF2[-4]\n",
    "FF[1]=FF2[-3]\n",
    "nodal_forces= np.vstack(FF)\n",
    "\n",
    "\n",
    "\n",
    "#This function calculates the member forces for each member\n",
    "def memforce(u,m=0, A=0.005,E=2e9):\n",
    "    u=np.transpose(u)\n",
    "    lambdas=lamxlamy[m]\n",
    "    c=lambdas[0]\n",
    "    d=lambdas[1]\n",
    "    F=np.zeros((2,))\n",
    "    t_matrix= np.zeros((2,4))\n",
    "    alpha=(A*E)/L[m]\n",
    "    t_matrix= alpha* np.array([ [c,d,-c,-d],[-c,-d,c,d]])\n",
    "    F= np.matmul(t_matrix,u)\n",
    "    return F\n",
    "\n",
    "forces= np.zeros( (2,(len(L))) )\n",
    "for i in range(len(L)):\n",
    "    forces[:,i]= np.round(memforce(UU[dof_label[i]] ,m=i),5)\n",
    "    member_forces= np.vstack(np.array(forces[0]))\n",
    "\n",
    "###printing member forces, nodal forces and nodal dispalcements\n",
    "print('\\n')\n",
    "print(f'NODAL DISPLACEMENTS in mm  \\n {np.round(node_disp*1000,5)}')\n",
    "print('\\n')\n",
    "print(f'NODAL FORCES in kN  \\n {np.round(nodal_forces/1000,3)}')\n",
    "print('\\n')\n",
    "print(f'MEMBER FORCES in kN  \\n {np.round(member_forces/1000,3)}')\n",
    "print('\\n')\n",
    "print(f'MEMBER STRESSES in kN/m2  \\n {member_forces/(A*1000)}')\n",
    "\n"
   ],
   "outputs": [
    {
     "output_type": "stream",
     "name": "stdout",
     "text": [
      "Global matrix   \n",
      " [[ 2392728.50926966   549819.91297752  -392728.50926966  -549819.91297752\n",
      "  -2000000.                0.                0.                0.\n",
      "         0.                0.                0.                0.        ]\n",
      " [  549819.91297752   769747.87816853  -549819.91297752  -769747.87816853\n",
      "         0.                0.                0.                0.\n",
      "         0.                0.                0.                0.        ]\n",
      " [ -392728.50926966  -549819.91297752  2785457.01853932        0.\n",
      "         0.                0.         -2000000.                0.\n",
      "   -392728.50926966   549819.91297752        0.                0.        ]\n",
      " [ -549819.91297752  -769747.87816853        0.          2968067.18490849\n",
      "         0.         -1428571.42857143        0.                0.\n",
      "    549819.91297752  -769747.87816853        0.                0.        ]\n",
      " [-2000000.                0.                0.                0.\n",
      "   4000000.                0.                0.                0.\n",
      "  -2000000.                0.                0.                0.        ]\n",
      " [       0.                0.                0.         -1428571.42857143\n",
      "         0.          1428571.42857143        0.                0.\n",
      "         0.                0.                0.                0.        ]\n",
      " [       0.                0.         -2000000.                0.\n",
      "         0.                0.          2392728.50926966  -549819.91297752\n",
      "         0.                0.          -392728.50926966   549819.91297752]\n",
      " [       0.                0.                0.                0.\n",
      "         0.                0.          -549819.91297752  2198319.30673996\n",
      "         0.         -1428571.42857143   549819.91297752  -769747.87816853]\n",
      " [       0.                0.          -392728.50926966   549819.91297752\n",
      "  -2000000.                0.                0.                0.\n",
      "   4392728.50926966  -549819.91297752 -2000000.                0.        ]\n",
      " [       0.                0.           549819.91297752  -769747.87816853\n",
      "         0.                0.                0.         -1428571.42857143\n",
      "   -549819.91297752  2198319.30673996        0.                0.        ]\n",
      " [       0.                0.                0.                0.\n",
      "         0.                0.          -392728.50926966   549819.91297752\n",
      "  -2000000.                0.          2392728.50926966  -549819.91297752]\n",
      " [       0.                0.                0.                0.\n",
      "         0.                0.           549819.91297752  -769747.87816853\n",
      "         0.                0.          -549819.91297752   769747.87816853]]\n",
      "\n",
      "\n",
      "NODAL DISPLACEMENTS in mm  \n",
      " [[ 0.     ]\n",
      " [ 0.     ]\n",
      " [21.876  ]\n",
      " [-3.50053]\n",
      " [ 1.11111]\n",
      " [-3.50053]\n",
      " [18.54266]\n",
      " [ 1.11958]\n",
      " [ 2.22222]\n",
      " [-5.41376]\n",
      " [ 0.     ]\n",
      " [ 0.     ]]\n",
      "\n",
      "\n",
      "NODAL FORCES in kN  \n",
      " [[ -8.889]\n",
      " [ -9.333]\n",
      " [ 20.   ]\n",
      " [  0.   ]\n",
      " [  0.   ]\n",
      " [  0.   ]\n",
      " [  0.   ]\n",
      " [  0.   ]\n",
      " [  0.   ]\n",
      " [  0.   ]\n",
      " [-11.111]\n",
      " [  9.333]]\n",
      "\n",
      "\n",
      "MEMBER FORCES in kN  \n",
      " [[-11.47 ]\n",
      " [ -2.222]\n",
      " [ -0.   ]\n",
      " [  6.667]\n",
      " [ 11.47 ]\n",
      " [ -2.222]\n",
      " [ -9.333]\n",
      " [ 11.47 ]\n",
      " [  4.444]]\n",
      "\n",
      "\n",
      "MEMBER STRESSES in kN/m2  \n",
      " [[-2293.953404]\n",
      " [ -444.444444]\n",
      " [   -0.      ]\n",
      " [ 1333.333334]\n",
      " [ 2293.953404]\n",
      " [ -444.444444]\n",
      " [-1866.666666]\n",
      " [ 2293.953404]\n",
      " [  888.888888]]\n"
     ]
    }
   ],
   "metadata": {}
  },
  {
   "cell_type": "markdown",
   "source": [
    "<H1>BONUS QUESTION</H1>\n",
    "Plot the deformed shape of truss obtained in Q10"
   ],
   "metadata": {}
  },
  {
   "cell_type": "code",
   "execution_count": null,
   "source": [
    "#write solution here\n",
    "#write solution here\n",
    "\n",
    "from matplotlib.pyplot import figure\n",
    "figure(figsize=(8, 6), dpi=60)\n",
    "\n",
    "##separating nodal displacements into horizontal and vertical displacements\n",
    "nx=node_disp[::2]\n",
    "ny=node_disp[1::2]\n",
    "newcords=[]\n",
    "\n",
    "#since the displacments are small, they won't be discernable if plotted as per orginal dimensions.fac amplifies the \n",
    "#displacements for the sake of plotting\n",
    "fac=30\n",
    "\n",
    "\n",
    "##Getting new nodal coordinates bu adjusting displacements\n",
    "for i in range(len(coordinates)):\n",
    "    newcords.append((coordinates[i][0]+fac*nx[i][0],coordinates[i][1]+fac*ny[i][0]))\n",
    "\n",
    "#plotting deformed and undefromed shapes\n",
    "n_cod=coordinates\n",
    "conec=connections\n",
    "n_cod2=newcords\n",
    "x=[]\n",
    "y=[]\n",
    "xx=[]\n",
    "yy=[]\n",
    "for i in range(len(conec)):\n",
    "    x1,x2=n_cod2 [conec[i][0]-1][0],n_cod2 [conec[i][1]-1][0]\n",
    "    y1,y2=n_cod2 [conec[i][0]-1][1],n_cod2 [conec[i][1]-1][1]\n",
    "    x.append(x1), x.append(x2),y.append(y1),y.append(y2)\n",
    "    \n",
    "    xx1,xx2=n_cod [conec[i][0]-1][0],n_cod [conec[i][1]-1][0]\n",
    "    yy1,yy2=n_cod [conec[i][0]-1][1],n_cod [conec[i][1]-1][1]\n",
    "    xx.append(xx1),xx.append(xx2),yy.append(yy1),yy.append(yy2)\n",
    "plt.plot(xx,yy,'-bo',linewidth=0.5,label='UNDEFORMED')\n",
    "plt.plot(x,y,'--ro',linewidth=1.0,label='DEFORMED')\n",
    "plt.legend()\n",
    "plt.savefig(\"2021CEY7538_QBONUS\")\n",
    "plt.show()\n"
   ],
   "outputs": [
    {
     "data": {
      "image/png": "[encoded data removed]",
      "text/plain": [
       "<Figure size 480x360 with 1 Axes>"
      ]
     },
     "metadata": {},
     "output_type": "display_data"
    }
   ],
   "metadata": {}
  }
 ],
 "metadata": {
  "kernelspec": {
   "display_name": "Python 3",
   "language": "python",
   "name": "python3"
  },
  "language_info": {
   "codemirror_mode": {
    "name": "ipython",
    "version": 3
   },
   "file_extension": ".py",
   "mimetype": "text/x-python",
   "name": "python",
   "nbconvert_exporter": "python",
   "pygments_lexer": "ipython3",
   "version": "3.7.6"
  }
 },
 "nbformat": 4,
 "nbformat_minor": 4
}
