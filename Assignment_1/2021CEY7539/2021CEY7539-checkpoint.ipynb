{
 "cells": [
  {
   "cell_type": "markdown",
   "metadata": {},
   "source": [
    "<h1>Assignment 1"
   ]
  },
  {
   "cell_type": "markdown",
   "metadata": {},
   "source": [
    "<h3>Q1: Reversing a list"
   ]
  },
  {
   "cell_type": "code",
   "execution_count": 9,
   "metadata": {},
   "outputs": [],
   "source": [
    "#following are sample input and corresponding outputs\n",
    "Input  = [12, 35, 9, 56, 24]\n",
    "Output = [24, 35, 9, 56, 12]\n",
    "\n",
    "Input  = [1, 2, 3]\n",
    "Output = [3, 2, 1]"
   ]
  },
  {
   "cell_type": "code",
   "execution_count": 32,
   "metadata": {},
   "outputs": [
    {
     "name": "stdout",
     "output_type": "stream",
     "text": [
      "Enter the no. of elements in the list 2\n",
      "Enter the elements\n",
      "4\n",
      "1\n",
      "[1, 4]\n"
     ]
    }
   ],
   "source": [
    "#write your solution here to reverse a list\n",
    "n=int(input(\"Enter the no. of elements in the list \"))\n",
    "print(\"Enter the elements\")\n",
    "list1=[]\n",
    "for r in range(n):\n",
    "    k=input()\n",
    "    list1.append(int(k) if '.' not in k else float(k)) \n",
    "rev=list1[::-1]\n",
    "print(rev)"
   ]
  },
  {
   "cell_type": "markdown",
   "metadata": {},
   "source": [
    "<h3>Q2: Swapping elements in lists"
   ]
  },
  {
   "cell_type": "code",
   "execution_count": 12,
   "metadata": {},
   "outputs": [],
   "source": [
    "Input  = [12, 35, 9, 56, 24]\n",
    "Output = [12, 9, 35, 56, 24]"
   ]
  },
  {
   "cell_type": "code",
   "execution_count": 68,
   "metadata": {},
   "outputs": [
    {
     "name": "stdout",
     "output_type": "stream",
     "text": [
      "Enter the no. of elements in the list 4\n",
      "Enter the elements\n",
      "5\n",
      "7\n",
      "8\n",
      "9\n",
      "[5, 9, 8, 7]\n"
     ]
    }
   ],
   "source": [
    "#write your solution here\n",
    "import random as rn\n",
    "n=int(input(\"Enter the no. of elements in the list \"))\n",
    "print(\"Enter the elements\")\n",
    "list1=[]\n",
    "for r in range(n):\n",
    "    k=input()\n",
    "    list1.append(int(k) if '.' not in k else float(k))\n",
    "k,l=rn.randint(0,n-1),rn.randint(0,n-1)\n",
    "while k==l:\n",
    "    k,l=rn.randint(0,n-1),rn.randint(0,n-1)\n",
    "list1[k],list1[l]=list1[l],list1[k]\n",
    "print(list1)"
   ]
  },
  {
   "cell_type": "markdown",
   "metadata": {},
   "source": [
    "<h3>Q3: Reversing a string"
   ]
  },
  {
   "cell_type": "code",
   "execution_count": null,
   "metadata": {},
   "outputs": [],
   "source": [
    "input_str  = 'This is CVL757'\n",
    "output_str = '757LVC si sihT'"
   ]
  },
  {
   "cell_type": "code",
   "execution_count": 34,
   "metadata": {},
   "outputs": [
    {
     "name": "stdout",
     "output_type": "stream",
     "text": [
      "Enter a string\n",
      "Hi! What's up?\n",
      "?pu s'tahW !iH\n"
     ]
    }
   ],
   "source": [
    "#write your solution here\n",
    "s=input('Enter a string\\n')\n",
    "n=len(s)\n",
    "s2=''\n",
    "for i in range(n):\n",
    "    s2+=s[-(i+1)]\n",
    "print(s2)"
   ]
  },
  {
   "cell_type": "markdown",
   "metadata": {},
   "source": [
    "<h3>Q4: Reversing the order of words in a string"
   ]
  },
  {
   "cell_type": "code",
   "execution_count": 14,
   "metadata": {},
   "outputs": [],
   "source": [
    "input_str  = 'This is CVL757'\n",
    "output_str = 'CVL757 is This'"
   ]
  },
  {
   "cell_type": "code",
   "execution_count": 45,
   "metadata": {},
   "outputs": [
    {
     "name": "stdout",
     "output_type": "stream",
     "text": [
      "Enter a string\n",
      " what is this?\n",
      "this? is what \n"
     ]
    }
   ],
   "source": [
    "#write your solution here\n",
    "s=input('Enter a string\\n')\n",
    "n=len(s)\n",
    "def rev(str):\n",
    "    return str[::-1]\n",
    "r=rev(s)\n",
    "t=''\n",
    "i,j=0,0\n",
    "while i<n:\n",
    "    if r[i]==' ':\n",
    "        t+=rev(r[j:i])+' '\n",
    "        j=i+1\n",
    "    i+=1\n",
    "t+=rev(r[j:n])\n",
    "print(t)"
   ]
  },
  {
   "cell_type": "markdown",
   "metadata": {},
   "source": [
    "<h3>Q5: Initialise a 3x3 matrix with random values, use numpy"
   ]
  },
  {
   "cell_type": "code",
   "execution_count": 18,
   "metadata": {},
   "outputs": [],
   "source": [
    "random_matrix = #write solution here"
   ]
  },
  {
   "cell_type": "code",
   "execution_count": 57,
   "metadata": {},
   "outputs": [
    {
     "name": "stdout",
     "output_type": "stream",
     "text": [
      "[[76.19625024 73.95881547 60.39885145]\n",
      " [36.29349583 86.81680791 80.875193  ]\n",
      " [72.52860229  9.62995616 99.81396148]]\n"
     ]
    },
    {
     "data": {
      "text/plain": [
       "(3, 3)"
      ]
     },
     "execution_count": 57,
     "metadata": {},
     "output_type": "execute_result"
    }
   ],
   "source": [
    "import numpy as np\n",
    "print(np.random.uniform(low=0,high=100,size=(3,3)))           #random values are between 0 and 100"
   ]
  },
  {
   "cell_type": "markdown",
   "metadata": {},
   "source": [
    "<h3>Q6: Swap the columns of random_matrix"
   ]
  },
  {
   "cell_type": "code",
   "execution_count": 69,
   "metadata": {},
   "outputs": [],
   "source": [
    "inp = np.array([[0.13806091, 0.82474243, 0.15646752],\n",
    "                [0.50029824, 0.45875794, 0.53401557],\n",
    "                [0.95397773, 0.79407795, 0.07442586]])\n",
    "\n",
    "out = np.array([[0.15646752, 0.82474243, 0.13806091],\n",
    "                [0.53401557, 0.45875794, 0.50029824],\n",
    "                [0.07442586, 0.79407795, 0.95397773]])\n",
    "\n"
   ]
  },
  {
   "cell_type": "code",
   "execution_count": 70,
   "metadata": {},
   "outputs": [
    {
     "name": "stdout",
     "output_type": "stream",
     "text": [
      "Enter the number of rows 3\n",
      "Enter the number of columns 3\n",
      "[[81.9307861  44.28788437 50.62147652]\n",
      " [61.70771696 47.00916267 70.84361484]\n",
      " [82.29693888 75.70707178 97.16741351]]\n",
      "\n",
      "After swapping the first and last columns\n",
      "\n",
      "[[50.62147652 44.28788437 81.9307861 ]\n",
      " [70.84361484 47.00916267 61.70771696]\n",
      " [97.16741351 75.70707178 82.29693888]]\n"
     ]
    }
   ],
   "source": [
    "#write your solution here to swap 1st and last column\n",
    "b=['rows','columns']\n",
    "[r,c]=[int(input('Enter the number of %s '%b[i])) for i in range(2)]\n",
    "k=np.random.uniform(low=0,high=100,size=(r,c))\n",
    "print(k)                             #before swapping\n",
    "t=np.zeros([r,c])\n",
    "t[:,0]=k[:,c-1]\n",
    "k[:,c-1]=k[:,0]\n",
    "k[:,0]=t[:,0]\n",
    "print('\\nAfter swapping the first and last columns\\n')\n",
    "print(k)"
   ]
  },
  {
   "cell_type": "markdown",
   "metadata": {},
   "source": [
    "<h3>Q7: Swap the rows of random_matrix"
   ]
  },
  {
   "cell_type": "code",
   "execution_count": 72,
   "metadata": {},
   "outputs": [],
   "source": [
    "inp = np.array([[0.13806091, 0.82474243, 0.15646752],\n",
    "               [0.50029824, 0.45875794, 0.53401557],\n",
    "               [0.95397773, 0.79407795, 0.07442586]])\n",
    "\n",
    "out = np.array([[0.95397773, 0.79407795, 0.07442586],\n",
    "               [0.50029824, 0.45875794, 0.53401557],\n",
    "               [0.13806091, 0.82474243, 0.15646752]])"
   ]
  },
  {
   "cell_type": "code",
   "execution_count": 71,
   "metadata": {},
   "outputs": [
    {
     "name": "stdout",
     "output_type": "stream",
     "text": [
      "[[89.8543354  77.39611365 92.56799798]\n",
      " [37.63494451  8.92857528 29.85598768]\n",
      " [47.65697397 55.80594211 84.44481054]]\n",
      "\n",
      "After swapping the first and last rows\n",
      "\n",
      "[[47.65697397 55.80594211 84.44481054]\n",
      " [37.63494451  8.92857528 29.85598768]\n",
      " [89.8543354  77.39611365 92.56799798]]\n"
     ]
    }
   ],
   "source": [
    "#write your solution here to swap 1st and 3rd rows\n",
    "k=np.random.uniform(low=0,high=100,size=(3,3))\n",
    "print(k)\n",
    "t=np.zeros([3,3])\n",
    "t[0,:]=k[2,:]\n",
    "k[2,:]=k[0,:]\n",
    "k[0,:]=t[0,:]\n",
    "print('\\nAfter swapping the first and last rows\\n')\n",
    "print(k)"
   ]
  },
  {
   "cell_type": "markdown",
   "metadata": {},
   "source": [
    "<h3>Q8: Plot the sine and cosine curves as shown below"
   ]
  },
  {
   "cell_type": "code",
   "execution_count": 72,
   "metadata": {},
   "outputs": [],
   "source": [
    "import matplotlib.pyplot as plt"
   ]
  },
  {
   "cell_type": "code",
   "execution_count": 73,
   "metadata": {},
   "outputs": [
    {
     "data": {
      "image/png": "[encoded data removed]",
      "text/plain": [
       "<Figure size 432x288 with 1 Axes>"
      ]
     },
     "metadata": {
      "needs_background": "light"
     },
     "output_type": "display_data"
    }
   ],
   "source": [
    "x = np.arange(0,2*np.pi,0.01)\n",
    "#write code here to plot and show the legend also\n",
    "s,c=np.sin(x),np.cos(x)\n",
    "plt.plot(x,s,'b-',label='y=sinx')\n",
    "plt.plot(x,c,'r-',label='y=cosx')\n",
    "plt.legend()\n",
    "plt.show()"
   ]
  },
  {
   "cell_type": "markdown",
   "metadata": {},
   "source": [
    "<h3>Q9: Plot the following truss</h3>\n",
    "Length of element 2, 6 and 9 (between nodes 1 and 3, 3 and 5, and 5 and 9) is 5.<br>\n",
    "Length of element 3 and 7 is 7m.\n",
    " "
   ]
  },
  {
   "cell_type": "markdown",
   "metadata": {},
   "source": [
    "<img src='q9.svg' alt=\"Truss Q9\" width=\"500\" height=\"600\">"
   ]
  },
  {
   "cell_type": "code",
   "execution_count": 119,
   "metadata": {},
   "outputs": [
    {
     "data": {
      "image/png": "[encoded data removed]",
      "text/plain": [
       "<Figure size 432x288 with 1 Axes>"
      ]
     },
     "metadata": {},
     "output_type": "display_data"
    }
   ],
   "source": [
    "#write solution here\n",
    "import matplotlib.pyplot as plt\n",
    "cor=np.array([[0,0],[5,7],[5,0],[10,0],[10,7],[15,0]])      # coordinates of nodes(1,2,3,5,4,6) considering node 1 as the origin\n",
    "cols=[list(cor[:,i]) for i in range(2)]                           #extract the columns of cor\n",
    "plt.plot(cols[0],cols[1],'o-',c='black',markersize=10)\n",
    "plt.plot([0,5,10,15,10,5,10],[0,0,0,0,7,7,0],c='black')\n",
    "plt.axis([-1,16,-1,8])\n",
    "plt.tick_params(left=False,bottom=False,labelleft=False,labelbottom=False)\n",
    "ax=plt.gca()\n",
    "ax.spines['right'].set_color('none')              #removes the right spine(boundary line of the figure)\n",
    "ax.spines['top'].set_color('none')\n",
    "ax.spines['left'].set_color('none')              \n",
    "ax.spines['bottom'].set_color('none')\n",
    "plt.annotate('1',(0,-0.75))\n",
    "plt.annotate('2',(5,7.5))\n",
    "plt.annotate('3',(5,-0.75))\n",
    "plt.annotate('4',(10,7.5))\n",
    "plt.annotate('5',(10,-0.75))\n",
    "plt.annotate('6',(15,-0.75))\n",
    "plt.annotate('1',(2,4),c='red')\n",
    "plt.annotate('2',(2,0.25),c='red')\n",
    "plt.annotate('3',(4.5,3.5),c='red')\n",
    "plt.annotate('4',(7.5,7.25),c='red')\n",
    "plt.annotate('5',(7.5,3.8),c='red')\n",
    "plt.annotate('6',(7.5,0.25),c='red')\n",
    "plt.annotate('7',(10.25,3.5),c='red')\n",
    "plt.annotate('8',(12.5,3.8),c='red')\n",
    "plt.annotate('9',(12.5,0.25),c='red')\n",
    "plt.savefig('q9.png')\n",
    "plt.show()"
   ]
  },
  {
   "cell_type": "markdown",
   "metadata": {},
   "source": [
    "**Q10: Consider the plane truss shown above. Given E = 200GPa and A = 0.005m2, and horizontal load of 20kN at node 2. Both node 1 and node 6 have pin supports:**\n",
    "\n",
    "1. the global stiffness matrix for the structure.\n",
    "2. the horizontal and vertical displacements at nodes 2, 3, 4, and 5.\n",
    "3. the horizontal and vertical reactions at nodes 1 and 6.\n",
    "4. the stress in each element."
   ]
  },
  {
   "cell_type": "code",
   "execution_count": 202,
   "metadata": {
    "scrolled": true
   },
   "outputs": [
    {
     "name": "stdout",
     "output_type": "stream",
     "text": [
      "[[ 278.54570185    0.         -200.            0.            0.\n",
      "     0.          -39.27285093   54.9819913   -39.27285093  -54.9819913\n",
      "     0.            0.        ]\n",
      " [   0.          296.80671849    0.            0.            0.\n",
      "  -142.85714286   54.9819913   -76.97478782  -54.9819913   -76.97478782\n",
      "     0.            0.        ]\n",
      " [-200.            0.          239.27285093  -54.9819913     0.\n",
      "     0.            0.            0.            0.            0.\n",
      "   -39.27285093   54.9819913 ]\n",
      " [   0.            0.          -54.9819913   219.83193067    0.\n",
      "     0.            0.         -142.85714286    0.            0.\n",
      "    54.9819913   -76.97478782]\n",
      " [   0.            0.            0.            0.          400.\n",
      "     0.         -200.            0.         -200.            0.\n",
      "     0.            0.        ]\n",
      " [   0.         -142.85714286    0.            0.            0.\n",
      "   142.85714286    0.            0.            0.            0.\n",
      "     0.            0.        ]\n",
      " [ -39.27285093   54.9819913     0.            0.         -200.\n",
      "     0.          439.27285093  -54.9819913     0.            0.\n",
      "  -200.            0.        ]\n",
      " [  54.9819913   -76.97478782    0.         -142.85714286    0.\n",
      "     0.          -54.9819913   219.83193067    0.            0.\n",
      "     0.            0.        ]\n",
      " [ -39.27285093  -54.9819913     0.            0.         -200.\n",
      "     0.            0.            0.          239.27285093   54.9819913\n",
      "     0.            0.        ]\n",
      " [ -54.9819913   -76.97478782    0.            0.            0.\n",
      "     0.            0.            0.           54.9819913    76.97478782\n",
      "     0.            0.        ]\n",
      " [   0.            0.          -39.27285093   54.9819913     0.\n",
      "     0.         -200.            0.            0.            0.\n",
      "   239.27285093  -54.9819913 ]\n",
      " [   0.            0.           54.9819913   -76.97478782    0.\n",
      "     0.            0.            0.            0.            0.\n",
      "   -54.9819913    76.97478782]]\n"
     ]
    },
    {
     "data": {
      "text/plain": [
       "[array([[ -1.27522523,  -1.1477027 , -11.47702703,  -5.73851351],\n",
       "        [ -1.27522523,  -1.1477027 ,  -2.29540541,  -1.91283784],\n",
       "        [ -2.29540541,  -1.91283784, -11.47702703,  -5.73851351],\n",
       "        [-11.47702703,  -5.73851351,  -3.82567568,  -2.86925676],\n",
       "        [-11.47702703,  -5.73851351,  -1.63957529,  -1.43462838],\n",
       "        [ -2.29540541,  -1.91283784,  -1.63957529,  -1.43462838],\n",
       "        [ -1.63957529,  -1.43462838,  -3.82567568,  -2.86925676],\n",
       "        [ -3.82567568,  -2.86925676,  -1.04336609,  -0.95641892],\n",
       "        [ -1.63957529,  -1.43462838,  -1.04336609,  -0.95641892]]),\n",
       " array([[-0.24666667, -0.222     , -2.22      , -1.11      ],\n",
       "        [-0.24666667, -0.222     , -0.444     , -0.37      ],\n",
       "        [-0.444     , -0.37      , -2.22      , -1.11      ],\n",
       "        [-2.22      , -1.11      , -0.74      , -0.555     ],\n",
       "        [-2.22      , -1.11      , -0.31714286, -0.2775    ],\n",
       "        [-0.444     , -0.37      , -0.31714286, -0.2775    ],\n",
       "        [-0.31714286, -0.2775    , -0.74      , -0.555     ],\n",
       "        [-0.74      , -0.555     , -0.20181818, -0.185     ],\n",
       "        [-0.31714286, -0.2775    , -0.20181818, -0.185     ]]),\n",
       " array([[-0.0015873 , -0.00142857, -0.01428571, -0.00714286],\n",
       "        [-0.0015873 , -0.00142857, -0.00285714, -0.00238095],\n",
       "        [-0.00285714, -0.00238095, -0.01428571, -0.00714286],\n",
       "        [-0.01428571, -0.00714286, -0.0047619 , -0.00357143],\n",
       "        [-0.01428571, -0.00714286, -0.00204082, -0.00178571],\n",
       "        [-0.00285714, -0.00238095, -0.00204082, -0.00178571],\n",
       "        [-0.00204082, -0.00178571, -0.0047619 , -0.00357143],\n",
       "        [-0.0047619 , -0.00357143, -0.0012987 , -0.00119048],\n",
       "        [-0.00204082, -0.00178571, -0.0012987 , -0.00119048]]),\n",
       " array([[ -1.48222222,  -1.334     , -13.34      ,  -6.67      ],\n",
       "        [ -1.48222222,  -1.334     ,  -2.668     ,  -2.22333333],\n",
       "        [ -2.668     ,  -2.22333333, -13.34      ,  -6.67      ],\n",
       "        [-13.34      ,  -6.67      ,  -4.44666667,  -3.335     ],\n",
       "        [-13.34      ,  -6.67      ,  -1.90571429,  -1.6675    ],\n",
       "        [ -2.668     ,  -2.22333333,  -1.90571429,  -1.6675    ],\n",
       "        [ -1.90571429,  -1.6675    ,  -4.44666667,  -3.335     ],\n",
       "        [ -4.44666667,  -3.335     ,  -1.21272727,  -1.11166667],\n",
       "        [ -1.90571429,  -1.6675    ,  -1.21272727,  -1.11166667]]),\n",
       " array([[ 1.27357357,  1.14621622, 11.46216216,  5.73108108],\n",
       "        [ 1.27357357,  1.14621622,  2.29243243,  1.91036036],\n",
       "        [ 2.29243243,  1.91036036, 11.46216216,  5.73108108],\n",
       "        [11.46216216,  5.73108108,  3.82072072,  2.86554054],\n",
       "        [11.46216216,  5.73108108,  1.63745174,  1.43277027],\n",
       "        [ 2.29243243,  1.91036036,  1.63745174,  1.43277027],\n",
       "        [ 1.63745174,  1.43277027,  3.82072072,  2.86554054],\n",
       "        [ 3.82072072,  2.86554054,  1.04201474,  0.95518018],\n",
       "        [ 1.63745174,  1.43277027,  1.04201474,  0.95518018]]),\n",
       " array([[-0.24666667, -0.222     , -2.22      , -1.11      ],\n",
       "        [-0.24666667, -0.222     , -0.444     , -0.37      ],\n",
       "        [-0.444     , -0.37      , -2.22      , -1.11      ],\n",
       "        [-2.22      , -1.11      , -0.74      , -0.555     ],\n",
       "        [-2.22      , -1.11      , -0.31714286, -0.2775    ],\n",
       "        [-0.444     , -0.37      , -0.31714286, -0.2775    ],\n",
       "        [-0.31714286, -0.2775    , -0.74      , -0.555     ],\n",
       "        [-0.74      , -0.555     , -0.20181818, -0.185     ],\n",
       "        [-0.31714286, -0.2775    , -0.20181818, -0.185     ]]),\n",
       " array([[-1.03650794, -0.93285714, -9.32857143, -4.66428571],\n",
       "        [-1.03650794, -0.93285714, -1.86571429, -1.5547619 ],\n",
       "        [-1.86571429, -1.5547619 , -9.32857143, -4.66428571],\n",
       "        [-9.32857143, -4.66428571, -3.10952381, -2.33214286],\n",
       "        [-9.32857143, -4.66428571, -1.33265306, -1.16607143],\n",
       "        [-1.86571429, -1.5547619 , -1.33265306, -1.16607143],\n",
       "        [-1.33265306, -1.16607143, -3.10952381, -2.33214286],\n",
       "        [-3.10952381, -2.33214286, -0.84805195, -0.77738095],\n",
       "        [-1.33265306, -1.16607143, -0.84805195, -0.77738095]]),\n",
       " array([[ 1.27462462,  1.14716216, 11.47162162,  5.73581081],\n",
       "        [ 1.27462462,  1.14716216,  2.29432432,  1.91193694],\n",
       "        [ 2.29432432,  1.91193694, 11.47162162,  5.73581081],\n",
       "        [11.47162162,  5.73581081,  3.82387387,  2.86790541],\n",
       "        [11.47162162,  5.73581081,  1.63880309,  1.4339527 ],\n",
       "        [ 2.29432432,  1.91193694,  1.63880309,  1.4339527 ],\n",
       "        [ 1.63880309,  1.4339527 ,  3.82387387,  2.86790541],\n",
       "        [ 3.82387387,  2.86790541,  1.04287469,  0.95596847],\n",
       "        [ 1.63880309,  1.4339527 ,  1.04287469,  0.95596847]]),\n",
       " array([[0.49333333, 0.444     , 4.44      , 2.22      ],\n",
       "        [0.49333333, 0.444     , 0.888     , 0.74      ],\n",
       "        [0.888     , 0.74      , 4.44      , 2.22      ],\n",
       "        [4.44      , 2.22      , 1.48      , 1.11      ],\n",
       "        [4.44      , 2.22      , 0.63428571, 0.555     ],\n",
       "        [0.888     , 0.74      , 0.63428571, 0.555     ],\n",
       "        [0.63428571, 0.555     , 1.48      , 1.11      ],\n",
       "        [1.48      , 1.11      , 0.40363636, 0.37      ],\n",
       "        [0.63428571, 0.555     , 0.40363636, 0.37      ]])]"
      ]
     },
     "execution_count": 202,
     "metadata": {},
     "output_type": "execute_result"
    }
   ],
   "source": [
    "#write solution here\n",
    "from IPython.display import display,Math\n",
    "import sympy as sym\n",
    "\n",
    "E=200                            #kN/mm squared\n",
    "A=5000                           #in mm squared\n",
    "l1=5000                          #lengths of members in mm\n",
    "l2=7000\n",
    "l3=np.sqrt(l1**2+l2**2)\n",
    "\n",
    "#for member 1, find c1=cos0 and s1=sin0\n",
    "c1=5000/l3\n",
    "s1=7000/l3\n",
    "T1=np.array([[c1,s1,0,0],[0,0,c1,s1]])                         #transformation matrix for member 1\n",
    "kl1=np.array([[E*A/l3,-E*A/l3],[-E*A/l3,E*A/l3]])       #local stifnnes matrix for member 1\n",
    "kl5,kl8=kl1,kl1\n",
    "kg1=np.linalg.multi_dot([np.matrix.transpose(T1),kl1,T1])     #global stiffness matrix for member 1\n",
    "\n",
    "#for member 5 and member 8\n",
    "c5=c1\n",
    "s5=-s1\n",
    "T5=np.array([[c5,s5,0,0],[0,0,c5,s5]])\n",
    "kg5=np.linalg.multi_dot([np.matrix.transpose(T5),kl5,T5])\n",
    "kg8=kg5\n",
    "\n",
    "#for members 3 and 7\n",
    "c3,s3=0,1\n",
    "T3=np.array([[c3,s3,0,0],[0,0,c3,s3]])\n",
    "kl3=np.array([[E*A/l2,-E*A/l2],[-E*A/l2,E*A/l2]])\n",
    "kl7=kl3\n",
    "kg3=np.linalg.multi_dot([np.matrix.transpose(T3),kl3,T3])\n",
    "kg7=kg3\n",
    "\n",
    "#for members 2, 6, 9 and 4\n",
    "#no transformation required\n",
    "kg2=np.array([[E*A/l1,0,-E*A/l1,0],[0,0,0,0],[-E*A/l1,0,E*A/l1,0],[0,0,0,0]])\n",
    "kg4,kg6,kg9=kg2,kg2,kg2\n",
    "kl2,kl6,kl9,kl4=kg2,kg2,kg2,kg2\n",
    "\n",
    "# array of association matrices for elements (in order of their numbering)\n",
    "A=np.array([[9,10,1,2],[9,10,5,6],[5,6,1,2],[1,2,3,4],[1,2,7,8],[5,6,7,8],[7,8,3,4],[3,4,11,12],[7,8,11,12]])\n",
    "\n",
    "#we've numbered the dofs in the following order of nodes with the horizontal dof preceding the vertical dof:\n",
    "    #node ordering for dof numbering      2,4,3,5,1,6\n",
    "#combining all member global stiffness matrices into an array\n",
    "Kg=np.array([kg1,kg2,kg3,kg4,kg5,kg6,kg7,kg8,kg9])\n",
    "\n",
    "#constructing the total structure stiffness matrix using code number approach\n",
    "Kts=np.zeros([12,12])                           #Kts has a size of 12 by 12\n",
    "for i in range(9):                              # for 9 elements\n",
    "    for j in range(4):                          # both 4s for member dofs\n",
    "        for k in range(4):\n",
    "            Kts[A[i][j]-1][A[i][k]-1]+=Kg[i][j][k]\n",
    "print(Kts)                    #TotaL structure stiffness matrix\n",
    "#displacements at nodes 2, 3, 4, 5 i.e. along dofs 3,4,5,6,7,8,9,10\n",
    "D=np.zeros([8,1])                       \n",
    "\n",
    "#Force vector\n",
    "P=np.array([[0],[0],[20],[0],[0],[0],[0],[0]])                   # 8by 1 vector\n",
    "Kpp=Kts[0:8,0:8]\n",
    "Ikpp=np.linalg.inv(Kpp)                     #Inverse of Kpp as P=Kpp*Dp\n",
    "Dp=np.dot(Ikpp,P)                        #Displacements along global dofs (except at supports)i.e. horizontal and vertical                                             \n",
    "Kxp=Kts[8:12,0:8]\n",
    "X=np.dot(Kxp,Dp)                    #Support reactions as X=Kxp*Dp\n",
    "\n",
    "# Forces in elements\n",
    "\n",
    "#Element 1\n",
    "D1=np.array([[0],[0],[0.1854],[-0.0111]])\n",
    "d1=np.dot(T1,D1)                    #member end displacements in local coordinates\n",
    "f1=np.dot(kl1,d1)\n",
    "\n",
    "#Element 2\n",
    "D2=np.array([[0],[0],[0.0111],[-0.0112]])\n",
    "d2=D2\n",
    "f2=np.dot(kl2,d2)\n",
    "\n",
    "#Element 3\n",
    "D3=np.array([[0.0111],[-0.0112],[0.1854],[-0.0111]])\n",
    "d3=np.dot(T3,D3)\n",
    "f3=np.dot(kl3,d3)\n",
    "\n",
    "#Element 4\n",
    "D4=np.array([[0.1854],[-0.0111],[0.2521],[0.0588]])\n",
    "d4=D4\n",
    "f4=np.dot(kl4,d4)\n",
    "\n",
    "#Element 5\n",
    "D5=np.array([[0.1854],[-0.0111],[0.0222],[-0.0065]])\n",
    "d5=np.dot(T5,D5)\n",
    "f5=np.dot(kl5,d5)\n",
    "\n",
    "#element 6\n",
    "D6=np.array([[0.0111],[-0.0112],[0.0222],[-0.0065]])\n",
    "d6=D6\n",
    "f6=np.dot(kl6,d6)\n",
    "\n",
    "#Element 7\n",
    "D7=np.array([[0.0222],[-0.0065],[0.2521],[0.0588]])\n",
    "d7=np.dot(T3,D7)\n",
    "f7=np.dot(kl7,d7)\n",
    "\n",
    "#Element 8\n",
    "D8=np.array([[0.2521],[0.0588],[0],[0]])\n",
    "d8=np.dot(T5,D8)\n",
    "f8=np.dot(kl8,d8)\n",
    "\n",
    "#Element 9\n",
    "D9=np.array([[0.0222],[-0.0065],[0],[0]])\n",
    "d9=D9\n",
    "f9=np.dot(kl9,d9)\n",
    " #Stresses=forces/area"
   ]
  },
  {
   "cell_type": "markdown",
   "metadata": {},
   "source": [
    "<H1>BONUS QUESTION</H1>\n",
    "Plot the deformed shape of truss obtained in Q10"
   ]
  },
  {
   "cell_type": "code",
   "execution_count": null,
   "metadata": {},
   "outputs": [],
   "source": [
    "#write solution here"
   ]
  }
 ],
 "metadata": {
  "kernelspec": {
   "display_name": "Python 3",
   "language": "python",
   "name": "python3"
  },
  "language_info": {
   "codemirror_mode": {
    "name": "ipython",
    "version": 3
   },
   "file_extension": ".py",
   "mimetype": "text/x-python",
   "name": "python",
   "nbconvert_exporter": "python",
   "pygments_lexer": "ipython3",
   "version": "3.7.6"
  }
 },
 "nbformat": 4,
 "nbformat_minor": 4
}
