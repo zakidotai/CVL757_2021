{
 "cells": [
  {
   "cell_type": "markdown",
   "metadata": {},
   "source": [
    "<h1>Assignment 1"
   ]
  },
  {
   "cell_type": "markdown",
   "metadata": {},
   "source": [
    "<h3>Q1: Reversing a list"
   ]
  },
  {
   "cell_type": "code",
   "execution_count": 1,
   "metadata": {},
   "outputs": [],
   "source": [
    "#following are sample input and corresponding outputs\n",
    "Input  = [12, 35, 9, 56, 24]\n",
    "Output = [24, 35, 9, 56, 12]\n",
    "\n",
    "Input  = [1, 2, 3]\n",
    "Output = [3, 2, 1]"
   ]
  },
  {
   "cell_type": "code",
   "execution_count": 4,
   "metadata": {},
   "outputs": [
    {
     "name": "stdout",
     "output_type": "stream",
     "text": [
      "[24, 56, 9, 35, 12]\n",
      "[3, 2, 1]\n"
     ]
    }
   ],
   "source": [
    "#write your solution here to reverse a list\n",
    "I=[12,35,9,56,24]\n",
    "I.reverse()\n",
    "print(I)\n",
    "I=[1,2,3]\n",
    "I.reverse()\n",
    "print(I)"
   ]
  },
  {
   "cell_type": "markdown",
   "metadata": {},
   "source": [
    "<h3>Q2: Swapping elements in lists"
   ]
  },
  {
   "cell_type": "code",
   "execution_count": 7,
   "metadata": {},
   "outputs": [],
   "source": [
    "Input  = [12, 35, 9, 56, 24]\n",
    "Output = [12, 9, 35, 56, 24]"
   ]
  },
  {
   "cell_type": "code",
   "execution_count": 8,
   "metadata": {},
   "outputs": [
    {
     "name": "stdout",
     "output_type": "stream",
     "text": [
      "[12, 9, 35, 56, 24]\n"
     ]
    }
   ],
   "source": [
    "#write your solution here\n",
    "temp=Input[1]\n",
    "Input[1]=Input[2]\n",
    "Input[2]=temp\n",
    "print(Input)"
   ]
  },
  {
   "cell_type": "markdown",
   "metadata": {},
   "source": [
    "<h3>Q3: Reversing a string"
   ]
  },
  {
   "cell_type": "code",
   "execution_count": null,
   "metadata": {},
   "outputs": [],
   "source": [
    "input_str  = 'This is CVL757'\n",
    "output_str = '757LVC si sihT'"
   ]
  },
  {
   "cell_type": "code",
   "execution_count": 12,
   "metadata": {},
   "outputs": [
    {
     "name": "stdout",
     "output_type": "stream",
     "text": [
      "757LVC si sihT\n"
     ]
    }
   ],
   "source": [
    "#write your solution here\n",
    "s='This is CVL757'\n",
    "st=\"\"\n",
    "for i in s:\n",
    "    st=i+st\n",
    "print (st)\n"
   ]
  },
  {
   "cell_type": "markdown",
   "metadata": {},
   "source": [
    "<h3>Q4: Reversing the order of words in a string"
   ]
  },
  {
   "cell_type": "code",
   "execution_count": 13,
   "metadata": {},
   "outputs": [],
   "source": [
    "input_str  = 'This is CVL757'\n",
    "output_str = 'CVL757 is This'"
   ]
  },
  {
   "cell_type": "code",
   "execution_count": 19,
   "metadata": {},
   "outputs": [
    {
     "name": "stdout",
     "output_type": "stream",
     "text": [
      "['This', 'is', 'CVL757']\n",
      "CVL757 is This \n"
     ]
    }
   ],
   "source": [
    "#write your solution here\n",
    "sentence='This is CVL757'\n",
    "sentbreak=sentence.split(' ')\n",
    "print(sentbreak)\n",
    "revSent=\"\"\n",
    "for i in sentbreak:\n",
    "    revSent= i+' '+revSent\n",
    "print(revSent)"
   ]
  },
  {
   "cell_type": "markdown",
   "metadata": {},
   "source": [
    "<h3>Q5: Initialise a 3x3 matrix with random values, use numpy"
   ]
  },
  {
   "cell_type": "code",
   "execution_count": 23,
   "metadata": {},
   "outputs": [
    {
     "name": "stdout",
     "output_type": "stream",
     "text": [
      "[[0.61968735 0.4433292  0.80317804]\n",
      " [0.89114743 0.5481405  0.19342213]\n",
      " [0.93891045 0.28661821 0.76267287]]\n"
     ]
    }
   ],
   "source": [
    "#random_matrix = #write solution here\n",
    "import numpy as np\n",
    "A=np.random.random((3,3))\n",
    "print (A)"
   ]
  },
  {
   "cell_type": "code",
   "execution_count": null,
   "metadata": {},
   "outputs": [],
   "source": []
  },
  {
   "cell_type": "markdown",
   "metadata": {},
   "source": [
    "<h3>Q6: Swap the columns of random_matrix"
   ]
  },
  {
   "cell_type": "code",
   "execution_count": 35,
   "metadata": {},
   "outputs": [],
   "source": [
    "inp = np.array([[0.13806091, 0.82474243, 0.15646752],\n",
    "                [0.50029824, 0.45875794, 0.53401557],\n",
    "                [0.95397773, 0.79407795, 0.07442586]])\n",
    "\n",
    "out = np.array([[0.15646752, 0.82474243, 0.13806091],\n",
    "                [0.53401557, 0.45875794, 0.50029824],\n",
    "                [0.07442586, 0.79407795, 0.95397773]])\n",
    "\n"
   ]
  },
  {
   "cell_type": "code",
   "execution_count": 36,
   "metadata": {},
   "outputs": [
    {
     "name": "stdout",
     "output_type": "stream",
     "text": [
      "[[0.15646752 0.82474243 0.13806091]\n",
      " [0.53401557 0.45875794 0.50029824]\n",
      " [0.07442586 0.79407795 0.95397773]]\n"
     ]
    }
   ],
   "source": [
    "#write your solution here to swap 1st and last column\n",
    "temp = np.copy(inp[:,0])\n",
    "inp[:,0]=inp[:,2]\n",
    "inp[:,2]=temp\n",
    "print(inp)"
   ]
  },
  {
   "cell_type": "markdown",
   "metadata": {},
   "source": [
    "<h3>Q7: Swap the rows of random_matrix"
   ]
  },
  {
   "cell_type": "code",
   "execution_count": 37,
   "metadata": {},
   "outputs": [],
   "source": [
    "inp = np.array([[0.13806091, 0.82474243, 0.15646752],\n",
    "               [0.50029824, 0.45875794, 0.53401557],\n",
    "               [0.95397773, 0.79407795, 0.07442586]])\n",
    "\n",
    "out = np.array([[0.95397773, 0.79407795, 0.07442586],\n",
    "               [0.50029824, 0.45875794, 0.53401557],\n",
    "               [0.13806091, 0.82474243, 0.15646752]])"
   ]
  },
  {
   "cell_type": "code",
   "execution_count": 38,
   "metadata": {},
   "outputs": [
    {
     "name": "stdout",
     "output_type": "stream",
     "text": [
      "[[0.95397773 0.79407795 0.07442586]\n",
      " [0.50029824 0.45875794 0.53401557]\n",
      " [0.13806091 0.82474243 0.15646752]]\n"
     ]
    }
   ],
   "source": [
    "#write your solution here to swap 1st and 3rd rows\n",
    "temp=np.copy(inp[0,:])\n",
    "inp[0,:]=inp[2,:]\n",
    "inp[2,:]=temp\n",
    "print (inp)"
   ]
  },
  {
   "cell_type": "markdown",
   "metadata": {},
   "source": [
    "<h3>Q8: Plot the sine and cosine curves as shown below"
   ]
  },
  {
   "cell_type": "code",
   "execution_count": 40,
   "metadata": {},
   "outputs": [],
   "source": [
    "import matplotlib.pyplot as plt"
   ]
  },
  {
   "cell_type": "code",
   "execution_count": 41,
   "metadata": {},
   "outputs": [
    {
     "data": {
      "image/png": "[encoded data removed]",
      "text/plain": [
       "<Figure size 432x288 with 1 Axes>"
      ]
     },
     "metadata": {
      "needs_background": "light"
     },
     "output_type": "display_data"
    }
   ],
   "source": [
    "x = np.arange(0,2*np.pi,0.01)\n",
    "#write code here to plot and show the legend also\n",
    "y=np.sin(x)\n",
    "z=np.cos(x)\n",
    "plt.plot(x,y,x,z)\n",
    "plt.legend(['sin(x)','cos(x)'])\n",
    "plt.show()"
   ]
  },
  {
   "cell_type": "markdown",
   "metadata": {},
   "source": [
    "<h3>Q9: Plot the following truss</h3>\n",
    "Length of element 2, 6 and 9 (between nodes 1 and 3, 3 and 5, and 5 and 9) is 5.<br>\n",
    "Length of element 3 and 7 is 7m.\n",
    " "
   ]
  },
  {
   "cell_type": "markdown",
   "metadata": {},
   "source": [
    "<img src='q9.svg' alt=\"Truss Q9\" width=\"500\" height=\"600\">"
   ]
  },
  {
   "cell_type": "code",
   "execution_count": 54,
   "metadata": {},
   "outputs": [
    {
     "data": {
      "image/png": "[encoded data removed]",
      "text/plain": [
       "<Figure size 432x288 with 1 Axes>"
      ]
     },
     "metadata": {
      "needs_background": "light"
     },
     "output_type": "display_data"
    }
   ],
   "source": [
    "#write solution here\n",
    "points = np.array([[0,0],[5,7],[5,0], [10,7], [10,0], [15,0]])\n",
    "lines =np.array([[points[0], points[1]],\n",
    "                 [points[0], points[2]],\n",
    "                 [points[1], points[2]],\n",
    "                 [points[1], points[3]],\n",
    "                 [points[1], points[4]],\n",
    "                 [points[2], points[5]],\n",
    "                 [points[3], points[4]],\n",
    "                 [points[3], points[5]],\n",
    "                 [points[4], points[5]]])\n",
    "for line in lines:\n",
    "    plt.plot(line[:,0], line[:,1])\n",
    "plt.show()"
   ]
  },
  {
   "cell_type": "markdown",
   "metadata": {},
   "source": [
    "**Q10: Consider the plane truss shown above. Given E = 200GPa and A = 0.005m2, and horizontal load of 20kN at node 2. Both node 1 and node 6 have pin supports:**\n",
    "\n",
    "1. the global stiffness matrix for the structure.\n",
    "2. the horizontal and vertical displacements at nodes 2, 3, 4, and 5.\n",
    "3. the horizontal and vertical reactions at nodes 1 and 6.\n",
    "4. the stress in each element."
   ]
  },
  {
   "cell_type": "code",
   "execution_count": 5,
   "metadata": {},
   "outputs": [
    {
     "name": "stdout",
     "output_type": "stream",
     "text": [
      "structure stiffness matrix: \n",
      " [[ 5.00000000e+08  0.00000000e+00  0.00000000e+00  0.00000000e+00\n",
      "  -5.00000000e+08  0.00000000e+00  0.00000000e+00  0.00000000e+00\n",
      "   0.00000000e+00  0.00000000e+00  0.00000000e+00  0.00000000e+00]\n",
      " [ 0.00000000e+00  1.00000000e+09  0.00000000e+00 -1.00000000e+09\n",
      "   0.00000000e+00  0.00000000e+00  0.00000000e+00  0.00000000e+00\n",
      "   0.00000000e+00  0.00000000e+00  0.00000000e+00  0.00000000e+00]\n",
      " [ 0.00000000e+00  0.00000000e+00  9.39593091e+08  1.17600747e+08\n",
      "  -3.57770876e+08  1.78885438e+08 -3.53553391e+08 -3.53553391e+08\n",
      "  -2.28268824e+08  5.70672059e+07  0.00000000e+00  0.00000000e+00]\n",
      " [ 0.00000000e+00 -1.00000000e+09  1.17600747e+08  1.45726291e+09\n",
      "   1.78885438e+08 -8.94427191e+07 -3.53553391e+08 -3.53553391e+08\n",
      "   5.70672059e+07 -1.42668015e+07  0.00000000e+00  0.00000000e+00]\n",
      " [-5.00000000e+08  0.00000000e+00 -3.57770876e+08  1.78885438e+08\n",
      "   1.35777088e+09 -1.78885438e+08  0.00000000e+00  0.00000000e+00\n",
      "  -5.00000000e+08  0.00000000e+00  0.00000000e+00  0.00000000e+00]\n",
      " [ 0.00000000e+00  0.00000000e+00  1.78885438e+08 -8.94427191e+07\n",
      "  -1.78885438e+08  8.94427191e+07  0.00000000e+00  0.00000000e+00\n",
      "   0.00000000e+00  0.00000000e+00  0.00000000e+00  0.00000000e+00]\n",
      " [ 0.00000000e+00  0.00000000e+00 -3.53553391e+08 -3.53553391e+08\n",
      "   0.00000000e+00  0.00000000e+00  8.99118388e+08  5.79099044e+08\n",
      "  -1.92011606e+08  1.28007738e+08 -3.53553391e+08 -3.53553391e+08]\n",
      " [ 0.00000000e+00  0.00000000e+00 -3.53553391e+08 -3.53553391e+08\n",
      "   0.00000000e+00  0.00000000e+00  5.79099044e+08  7.92445273e+08\n",
      "   1.28007738e+08 -8.53384917e+07 -3.53553391e+08 -3.53553391e+08]\n",
      " [ 0.00000000e+00  0.00000000e+00 -2.28268824e+08  5.70672059e+07\n",
      "  -5.00000000e+08  0.00000000e+00 -1.92011606e+08  1.28007738e+08\n",
      "   1.00561892e+09 -3.13082681e+08 -8.53384917e+07  1.28007738e+08]\n",
      " [ 0.00000000e+00  0.00000000e+00  5.70672059e+07 -1.42668015e+07\n",
      "   0.00000000e+00  0.00000000e+00  1.28007738e+08 -8.53384917e+07\n",
      "  -3.13082681e+08  2.91616900e+08  1.28007738e+08 -1.92011606e+08]\n",
      " [ 0.00000000e+00  0.00000000e+00  0.00000000e+00  0.00000000e+00\n",
      "   0.00000000e+00  0.00000000e+00 -3.53553391e+08 -3.53553391e+08\n",
      "  -8.53384917e+07  1.28007738e+08  4.38891882e+08  2.25545653e+08]\n",
      " [ 0.00000000e+00  0.00000000e+00  0.00000000e+00  0.00000000e+00\n",
      "   0.00000000e+00  0.00000000e+00 -3.53553391e+08 -3.53553391e+08\n",
      "   1.28007738e+08 -1.92011606e+08  2.25545653e+08  5.45564997e+08]]\n",
      "\n",
      "\n",
      "Reaction in Newton and Displacement in metre:\n",
      "\n",
      "rx1= -7829.072175590931\n",
      "ry1= 8256.391736613603\n",
      "rx6= -12170.927824409064\n",
      "ry6= -8256.391736613596\n",
      "\n",
      "\n",
      "displacement of 2nd node in (x,y)=( 6.824797247917226e-05 , -8.256391736613603e-06 )\n",
      "displacement of 3nd node in (x,y)=( 1.565814435118186e-05 , -0.0001134360479925944 )\n",
      "displacement of 4th node in (x,y)=( 2.73299533851559e-05 , 2.6658369861234234e-06 )\n",
      "displacement of 5th node in (x,y)=( 3.1316288702363715e-05 , 8.645339961935149e-06 )\n",
      "\n",
      "\n",
      "Stress(N/m^2) in members between node 1 and 2 is 766067.892539368\n",
      "Stress(N/m^2) in members between node 1 and 3 is 626325.7740472745\n",
      "Stress(N/m^2) in members between node 3 and 2 is 3005133.0358851654\n",
      "Stress(N/m^2) in members between node 2 and 4 is -1636720.7637606545\n",
      "Stress(N/m^2) in members between node 5 and 2 is -818839.2993888757\n",
      "Stress(N/m^2) in members between node 3 and 5 is 626325.7740472743\n",
      "Stress(N/m^2) in members between node 5 and 4 is -170842.94216604927\n",
      "Stress(N/m^2) in members between node 6 and 4 is -318888.94060247444\n",
      "Stress(N/m^2) in members between node 5 and 6 is -1252651.5480945488\n"
     ]
    }
   ],
   "source": [
    "#write solution here\n",
    "import numpy as np\n",
    "nodes=[[0,0],\n",
    "                 [5,7],\n",
    "                 [5,0],\n",
    "                 [10,7],\n",
    "                 [10,0],\n",
    "                 [15,0]]\n",
    "members=             [[1,2],\n",
    "                     [1,3],\n",
    "                     [3,2],\n",
    "                     [2,4],\n",
    "                     [5,2],\n",
    "                     [3,5],\n",
    "                     [5,4],\n",
    "                     [6,4],\n",
    "                     [5,6]]\n",
    "dof=2*len(nodes)\n",
    "structure_stiffness=np.zeros((dof,dof))\n",
    "for i in range(0,9):\n",
    "    \n",
    "    fnode=members[i][0]\n",
    "    snode=members[i][1]\n",
    "    fnodecordinate=members[fnode-1][:]\n",
    "    snodecordinate=members[snode-1][:]\n",
    "    x1=fnodecordinate[0]\n",
    "    y1=fnodecordinate[1]\n",
    "    x2=snodecordinate[0]\n",
    "    y2=snodecordinate[1]    \n",
    "    length= (((x2-x1)**2)+((y2-y1)**2))**0.5\n",
    "    #print('/n',length)\n",
    "    c=(x2-x1)/length\n",
    "    s=(y2-y1)/length\n",
    "    if x1==x2:\n",
    "      tan=0\n",
    "    else:\n",
    "      tan=s/c\n",
    "      \n",
    "    Transformation_matrix=[[c, s, 0,0],[0,0,c,s]]\n",
    "    Transformation_matrix = np.array(Transformation_matrix)\n",
    "    transpose_Transformation_matrix=np.transpose(Transformation_matrix)\n",
    "    k=0.005*2*(10**11)/length\n",
    "    local_element_stiffness=[[k,-k],[-k,k]]\n",
    "    local_element_stiffness = np.array(local_element_stiffness)\n",
    "    global_element_stiffness=transpose_Transformation_matrix@local_element_stiffness@Transformation_matrix\n",
    "    #print('local_element_stiffness',local_element_stiffness)\n",
    "    #print('global_element_stiffness',global_element_stiffness)\n",
    "   \n",
    "    expanded_element_stiffness=np.zeros((dof,dof))\n",
    "                \n",
    "    expanded_element_stiffness[2*fnode-2,2*fnode-2]=global_element_stiffness[0,0]\n",
    "    expanded_element_stiffness[2*fnode-2,2*fnode-1]=global_element_stiffness[0,1]\n",
    "    expanded_element_stiffness[2*fnode-2,2*snode-2]=global_element_stiffness[0,2]\n",
    "    expanded_element_stiffness[2*fnode-2,2*snode-1]=global_element_stiffness[0,3]\n",
    "            \n",
    "    expanded_element_stiffness[2*fnode-1,2*fnode-2]=global_element_stiffness[1,0]\n",
    "    expanded_element_stiffness[2*fnode-1,2*fnode-1]=global_element_stiffness[1,1]\n",
    "    expanded_element_stiffness[2*fnode-1,2*snode-2]=global_element_stiffness[1,2]\n",
    "    expanded_element_stiffness[2*fnode-1,2*snode-1]=global_element_stiffness[1,3]\n",
    "            \n",
    "    expanded_element_stiffness[2*snode-2,2*fnode-2]=global_element_stiffness[2,0]\n",
    "    expanded_element_stiffness[2*snode-2,2*fnode-1]=global_element_stiffness[2,1]\n",
    "    expanded_element_stiffness[2*snode-2,2*snode-2]=global_element_stiffness[2,2]\n",
    "    expanded_element_stiffness[2*snode-2,2*snode-1]=global_element_stiffness[2,3]\n",
    "            \n",
    "    expanded_element_stiffness[2*snode-1,2*fnode-2]=global_element_stiffness[3,0]\n",
    "    expanded_element_stiffness[2*snode-1,2*fnode-1]=global_element_stiffness[3,1]\n",
    "    expanded_element_stiffness[2*snode-1,2*snode-2]=global_element_stiffness[3,2]\n",
    "    expanded_element_stiffness[2*snode-1,2*snode-1]=global_element_stiffness[3,3]\n",
    "            \n",
    "    structure_stiffness=structure_stiffness+expanded_element_stiffness\n",
    "\n",
    "print('structure stiffness matrix: \\n', structure_stiffness)\n",
    "print('\\n')\n",
    "\n",
    "force=np.zeros(dof)\n",
    "displacement=np.zeros(dof)\n",
    "force[2]=20000\n",
    "force1=force[2:10]\n",
    "#print(force,force1)\n",
    "stiffness=structure_stiffness[2:10,2:10]\n",
    "#print(\"stiffness\",stiffness)\n",
    "inv_stiffness=np.linalg.inv(stiffness)\n",
    "displacement1=inv_stiffness@force1\n",
    "displacement[2:10]=displacement1                            \n",
    "force=structure_stiffness@displacement\n",
    "\n",
    "print('Reaction in Newton and Displacement in metre:\\n')                  \n",
    "print('rx1=',force[0])  \n",
    "print('ry1=',force[1])  \n",
    "print('rx6=',force[10])  \n",
    "print('ry6=',force[11]) \n",
    "print('\\n')\n",
    "print('displacement of 2nd node in (x,y)=(',displacement[2],',',displacement[3],')')                   \n",
    "print('displacement of 3nd node in (x,y)=(',displacement[4],',',displacement[5],')')   \n",
    "print('displacement of 4th node in (x,y)=(',displacement[6],',',displacement[7],')')   \n",
    "print('displacement of 5th node in (x,y)=(',displacement[8],',',displacement[9],')')  \n",
    "print('\\n')                            \n",
    "strain=np.zeros(len(element_connectivity)) \n",
    "stress=np.zeros(len(element_connectivity)) \n",
    "global_element_displacement=np.zeros(4)\n",
    "for i in range(0,9):\n",
    "    fnode=element_connectivity[i][0]\n",
    "    snode=element_connectivity[i][1]\n",
    "    fnodecordinate=cordinate_matrix[fnode-1][:]                        \n",
    "    snodecordinate=cordinate_matrix[snode-1][:]\n",
    "    x1=fnodecordinate[0]\n",
    "    y1=fnodecordinate[1]\n",
    "    x2=snodecordinate[0]\n",
    "    y2=snodecordinate[1]    \n",
    "    length= (((x2-x1)**2)+((y2-y1)**2))**0.5\n",
    "    c=(x2-x1)/length\n",
    "    s=(y2-y1)/length\n",
    "    Transformation_matrix=[[c, s, 0,0],\n",
    "                           [0,0,c,s]]\n",
    "    global_element_displacement[0]=displacement[2*fnode-2]\n",
    "    global_element_displacement[1]=displacement[2*fnode-1]\n",
    "    global_element_displacement[2]=displacement[2*snode-2]\n",
    "    global_element_displacement[3]=displacement[2*snode-1]\n",
    "    local_element_displacement=Transformation_matrix@global_element_displacement    \n",
    "    strain[i]= (local_element_displacement[1]- local_element_displacement[0])*(1/length)\n",
    "    stress[i]=2*(10**11)*strain[i]\n",
    "    print('Stress(N/m^2) in members between node',fnode, 'and', snode, 'is',stress[i])  "
   ]
  },
  {
   "cell_type": "markdown",
   "metadata": {},
   "source": [
    "<H1>BONUS QUESTION</H1>\n",
    "Plot the deformed shape of truss obtained in Q10"
   ]
  },
  {
   "cell_type": "code",
   "execution_count": 7,
   "metadata": {},
   "outputs": [
    {
     "name": "stdout",
     "output_type": "stream",
     "text": [
      "[[ 0.          0.        ]\n",
      " [ 0.06824797 -0.00825639]\n",
      " [ 0.01565814 -0.11343605]\n",
      " [ 0.02732995  0.00266584]\n",
      " [ 0.03131629  0.00864534]\n",
      " [ 0.          0.        ]]\n",
      "[[ 0.00000000e+00  0.00000000e+00]\n",
      " [ 5.06824797e+00  6.99174361e+00]\n",
      " [ 5.01565814e+00 -1.13436048e-01]\n",
      " [ 1.00273300e+01  7.00266584e+00]\n",
      " [ 1.00313163e+01  8.64533996e-03]\n",
      " [ 1.50000000e+01  0.00000000e+00]]\n",
      "[[0, 0], [5, 7], [5, 0], [10, 7], [10, 0], [15, 0]]\n"
     ]
    },
    {
     "data": {
      "image/png": "[encoded data removed]",
      "text/plain": [
       "<Figure size 432x288 with 1 Axes>"
      ]
     },
     "metadata": {
      "needs_background": "light"
     },
     "output_type": "display_data"
    }
   ],
   "source": [
    "#write solution here\n",
    "import matplotlib.pyplot as plt\n",
    "import numpy as np\n",
    "cordinate_matrix=[[0,0],\n",
    "                 [5,7],\n",
    "                 [5,0],\n",
    "                 [10,7],\n",
    "                 [10,0],\n",
    "                 [15,0]]\n",
    "\n",
    "displacementxy=[[0,0],\n",
    "                [displacement[2],displacement[3]],\n",
    "                [displacement[4],displacement[5]],\n",
    "                [displacement[6],displacement[7]],\n",
    "                [displacement[8],displacement[9]],\n",
    "                [0,0]]\n",
    "displacementxy=np.multiply(displacementxy,1000)\n",
    "print(displacementxy)\n",
    "new_cordinate_matrix=np.add(cordinate_matrix,displacementxy)\n",
    "print(new_cordinate_matrix)\n",
    "print(cordinate_matrix)\n",
    "element_connectivity=[[1,2],\n",
    "                     [1,3],\n",
    "                     [3,2],\n",
    "                     [2,4],\n",
    "                     [5,2],\n",
    "                     [3,5],\n",
    "                     [5,4],\n",
    "                     [6,4],\n",
    "                     [5,6]]\n",
    "\n",
    "for i in range(0,len(element_connectivity)):\n",
    "    fnode=element_connectivity[i][0]\n",
    "    snode=element_connectivity[i][1]\n",
    "    fnodecordinate=cordinate_matrix[fnode-1][:]\n",
    "    snodecordinate=cordinate_matrix[snode-1][:]\n",
    "    fnodecordinatenew=new_cordinate_matrix[fnode-1][:]\n",
    "    snodecordinatenew=new_cordinate_matrix[snode-1][:]\n",
    "    \n",
    "    x=[fnodecordinatenew[0],snodecordinatenew[0]]\n",
    "    y=[fnodecordinatenew[1],snodecordinatenew[1]]\n",
    "    plt.plot(x,y,color='black',marker='o', markerfacecolor='black', markersize=1)\n",
    "    \n",
    "    x=[fnodecordinate[0],snodecordinate[0]]\n",
    "    y=[fnodecordinate[1],snodecordinate[1]]\n",
    "    plt.plot(x,y,color='red',linestyle='dashed',marker='o', markerfacecolor='red', markersize=1)"
   ]
  },
  {
   "cell_type": "code",
   "execution_count": null,
   "metadata": {},
   "outputs": [],
   "source": []
  },
  {
   "cell_type": "code",
   "execution_count": null,
   "metadata": {},
   "outputs": [],
   "source": []
  },
  {
   "cell_type": "code",
   "execution_count": null,
   "metadata": {},
   "outputs": [],
   "source": []
  }
 ],
 "metadata": {
  "kernelspec": {
   "display_name": "Python 3",
   "language": "python",
   "name": "python3"
  },
  "language_info": {
   "codemirror_mode": {
    "name": "ipython",
    "version": 3
   },
   "file_extension": ".py",
   "mimetype": "text/x-python",
   "name": "python",
   "nbconvert_exporter": "python",
   "pygments_lexer": "ipython3",
   "version": "3.8.8"
  }
 },
 "nbformat": 4,
 "nbformat_minor": 4
}
