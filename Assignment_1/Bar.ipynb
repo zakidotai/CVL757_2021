{
 "cells": [
  {
   "cell_type": "code",
   "execution_count": 1,
   "source": [
    "import numpy as np\r\n",
    "class Node:\r\n",
    "    \"\"\"Node\r\n",
    "        -Num= node id\r\n",
    "        -Pos: Coordinate Position\r\n",
    "        -Disp: [ux,uy]\r\n",
    "        -Restrained[i]==1 if restrained 0 if unrestrained\r\n",
    "        -Load Vector=[Px,Py]\r\n",
    "        \"\"\"\r\n",
    "    def __init__(self,num,Pos,Disp=[0,0],Restr=[0,0],Load=[0,0]) -> None:\r\n",
    "        self.Num=id\r\n",
    "        self.Pos=np.asarray(Pos)\r\n",
    "        self.Disp_vec=np.asarray(Disp)\r\n",
    "        self.restrained=np.asarray(Restr)\r\n",
    "        self.Load=np.asarray(Load)\r\n",
    "    def set_Pos(self,Pos):\r\n",
    "        self.Pos=Pos\r\n",
    "    def get_Pos(self):\r\n",
    "        return self.Pos\r\n",
    "    def get_ID(self):\r\n",
    "        return self.ID\r\n",
    "    def get_Disp(self):\r\n",
    "        return self.Disp_vec\r\n",
    "    def get_Load(self):\r\n",
    "        return self.Load\r\n",
    "    def set_Load(self,Px,Py):\r\n",
    "        self.Load=np.asarray([Px,Py])\r\n",
    "    \r\n",
    "class Bar_element:\r\n",
    "    \"\"\"Bar Element\r\n",
    "        -E,A,L\r\n",
    "        -K[2x2]=[[k -k],[-k,k]]\r\n",
    "        -Theta (in degrees) from global axed\"\"\"\r\n",
    "    def __init__(self,N1:Node,N2 :Node,E=1,A=1) -> None:\r\n",
    "        self.L=np.linalg.norm(np.add(N2.get_Pos(),-1*N1.get_Pos()))\r\n",
    "        self.N1=N1\r\n",
    "        self.N2=N2\r\n",
    "        self.E=E\r\n",
    "        self.A=A\r\n",
    "        self.K=E*A/self.L\r\n",
    "        self.Theta=np.arctan(np.add(N2.get_Pos(),-1*N1.get_Pos())[1]/np.add(N2.get_Pos(),-1*N1.get_Pos())[0])*180/np.pi\r\n",
    "        \r\n",
    "    def get_local_k(self):\r\n",
    "        #Returns local stiffness matrix [2x2]\r\n",
    "        return np.asarray([[self.K,-1*self.K],[-1*self.K,self.K]])\r\n",
    "\r\n",
    "    def get_global_k(self):\r\n",
    "        #Return global stiffness matrix =[T]'*[K_Local]*[T]\r\n",
    "        #T=[[cos()  sin()   0   0   ],\r\n",
    "        #   [0      0   cos()   sin()]]\r\n",
    "        c=np.cos(self.Theta*np.pi/180)\r\n",
    "        s=np.sin(self.Theta*np.pi/180)\r\n",
    "        T :np.ndarray=np.asarray([[c,s,0.0,0.0],[0.0,0.0,c,s]])\r\n",
    "        K_Local=self.get_local_k()\r\n",
    "        return np.dot(np.dot(T.T,K_Local),T)\r\n",
    "\r\n",
    "    def set_E(self,E):\r\n",
    "        self.E=E\r\n",
    "    def set_A(self,A):\r\n",
    "        self.A=A\r\n",
    "    def get_E(self):\r\n",
    "        return self.E\r\n",
    "    def get_A(self):\r\n",
    "        return self.A\r\n",
    "    def get_Nodes(self):\r\n",
    "        return [self.N1,self.N2]"
   ],
   "outputs": [],
   "metadata": {}
  },
  {
   "cell_type": "code",
   "execution_count": 18,
   "source": [
    "N1=Node(1,[0,0],)\r\n",
    "N2=Node(2,[1,0])\r\n",
    "\r\n",
    "Elem=Bar_element(N1,N2)\r\n",
    "print(Elem.get_global_k())\r\n",
    "print(Elem.get_local_k())\r\n",
    "print(Elem.Theta)\r\n",
    "print(Elem.L)\r\n"
   ],
   "outputs": [
    {
     "output_type": "stream",
     "name": "stdout",
     "text": [
      "[[ 1.  0. -1.  0.]\n",
      " [ 0.  0.  0.  0.]\n",
      " [-1.  0.  1.  0.]\n",
      " [ 0.  0.  0.  0.]]\n",
      "[[ 1. -1.]\n",
      " [-1.  1.]]\n",
      "0.0\n",
      "1.0\n"
     ]
    }
   ],
   "metadata": {}
  },
  {
   "cell_type": "code",
   "execution_count": null,
   "source": [],
   "outputs": [],
   "metadata": {}
  }
 ],
 "metadata": {
  "orig_nbformat": 4,
  "language_info": {
   "name": "python",
   "version": "3.7.2",
   "mimetype": "text/x-python",
   "codemirror_mode": {
    "name": "ipython",
    "version": 3
   },
   "pygments_lexer": "ipython3",
   "nbconvert_exporter": "python",
   "file_extension": ".py"
  },
  "kernelspec": {
   "name": "python3",
   "display_name": "Python 3.7.2 32-bit"
  },
  "interpreter": {
   "hash": "5c45d054ff7e3515fce9eec686a49e209967f958079ad1677afbc7181e38d20c"
  }
 },
 "nbformat": 4,
 "nbformat_minor": 2
}