{
 "cells": [
  {
   "cell_type": "code",
   "execution_count": 9,
   "id": "746062a1",
   "metadata": {},
   "outputs": [
    {
     "name": "stdout",
     "output_type": "stream",
     "text": [
      "[[ 39.27285093  54.9819913  -39.27285093 -54.9819913 ]\n",
      " [ 54.9819913   76.97478782 -54.9819913  -76.97478782]\n",
      " [-39.27285093 -54.9819913   39.27285093  54.9819913 ]\n",
      " [-54.9819913  -76.97478782  54.9819913   76.97478782]]\n",
      "[[ 200.    0. -200.    0.]\n",
      " [   0.    0.    0.    0.]\n",
      " [-200.    0.  200.    0.]\n",
      " [   0.    0.    0.    0.]]\n",
      "[[   0.            0.            0.            0.        ]\n",
      " [   0.          142.85714286    0.         -142.85714286]\n",
      " [   0.            0.            0.            0.        ]\n",
      " [   0.         -142.85714286    0.          142.85714286]]\n",
      "[[ 200.    0. -200.    0.]\n",
      " [   0.    0.    0.    0.]\n",
      " [-200.    0.  200.    0.]\n",
      " [   0.    0.    0.    0.]]\n",
      "[[ 39.27285093 -54.9819913  -39.27285093  54.9819913 ]\n",
      " [-54.9819913   76.97478782  54.9819913  -76.97478782]\n",
      " [-39.27285093  54.9819913   39.27285093 -54.9819913 ]\n",
      " [ 54.9819913  -76.97478782 -54.9819913   76.97478782]]\n",
      "[[ 200.    0. -200.    0.]\n",
      " [   0.    0.    0.    0.]\n",
      " [-200.    0.  200.    0.]\n",
      " [   0.    0.    0.    0.]]\n",
      "[[   0.            0.            0.            0.        ]\n",
      " [   0.          142.85714286    0.         -142.85714286]\n",
      " [   0.            0.            0.            0.        ]\n",
      " [   0.         -142.85714286    0.          142.85714286]]\n",
      "[[ 39.27285093 -54.9819913  -39.27285093  54.9819913 ]\n",
      " [-54.9819913   76.97478782  54.9819913  -76.97478782]\n",
      " [-39.27285093  54.9819913   39.27285093 -54.9819913 ]\n",
      " [ 54.9819913  -76.97478782 -54.9819913   76.97478782]]\n",
      "[[ 200.    0. -200.    0.]\n",
      " [   0.    0.    0.    0.]\n",
      " [-200.    0.  200.    0.]\n",
      " [   0.    0.    0.    0.]]\n"
     ]
    }
   ],
   "source": [
    "import numpy as np\n",
    "import math\n",
    "E=200000\n",
    "A=0.005\n",
    "node1=(0,0)\n",
    "node2=(5,7)\n",
    "node3=(5,0)\n",
    "node4=(10,7)\n",
    "node5=(10,0)\n",
    "node6=(15,0)\n",
    "members=[[node1,node2],[node1,node3],[node2,node3],[node2,node4],[node2,node5],[node3,node5],[node4,node5],[node4,node6],[node5,node6]]\n",
    "for member in members:\n",
    "    base=member[1][0]-member[0][0]\n",
    "    height=member[1][1]-member[0][1]\n",
    "    hypotenuese= math.sqrt(((member[1][0]-member[0][0])*(member[1][0]-member[0][0]))+((member[1][1]-member[0][1])*(member[1][1]-member[0][1])))\n",
    "    C=base/hypotenuese\n",
    "    S=height/hypotenuese\n",
    "    K1=([[(C*C),(C*S),(-1*C*C),(-1*C*S)],[(C*S),(S*S),(-1*C*S),(-1*S*S)],[(-1*C*C),(-1*C*S),(C*C),(C*S)],[(-1*C*S),(-1*S*S),(C*S),(S*S)]])\n",
    "    K2=(A*E)/(hypotenuese)\n",
    "    K=(np.dot(K1,K2))\n",
    "    print (K)"
   ]
  },
  {
   "cell_type": "code",
   "execution_count": null,
   "id": "1f8993b0",
   "metadata": {},
   "outputs": [],
   "source": []
  }
 ],
 "metadata": {
  "kernelspec": {
   "display_name": "Python 3",
   "language": "python",
   "name": "python3"
  },
  "language_info": {
   "codemirror_mode": {
    "name": "ipython",
    "version": 3
   },
   "file_extension": ".py",
   "mimetype": "text/x-python",
   "name": "python",
   "nbconvert_exporter": "python",
   "pygments_lexer": "ipython3",
   "version": "3.8.8"
  }
 },
 "nbformat": 4,
 "nbformat_minor": 5
}
