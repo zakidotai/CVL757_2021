{
 "cells": [
  {
   "cell_type": "code",
   "execution_count": 15,
   "id": "0f93f6ce",
   "metadata": {},
   "outputs": [],
   "source": [
    "#following are sample input and corresponding outputs\n",
    "Input1  = [12, 35, 9, 56, 24]\n",
    "Output1 = [24, 35, 9, 56, 12]\n",
    "\n",
    "Input2  = [1, 2, 3]\n",
    "Output2 = [3, 2, 1]"
   ]
  },
  {
   "cell_type": "code",
   "execution_count": 16,
   "id": "34e84aa9",
   "metadata": {},
   "outputs": [
    {
     "name": "stdout",
     "output_type": "stream",
     "text": [
      "[24, 56, 9, 35, 12]\n"
     ]
    }
   ],
   "source": [
    "def Reverse(Input1):\n",
    "    Input1.reverse()\n",
    "    return Input1\n",
    "print(Reverse(Input1))"
   ]
  },
  {
   "cell_type": "code",
   "execution_count": 17,
   "id": "c47dc15e",
   "metadata": {},
   "outputs": [],
   "source": [
    "Input  = [12, 35, 9, 56, 24]\n",
    "Output = [12, 9, 35, 56, 24]"
   ]
  },
  {
   "cell_type": "code",
   "execution_count": null,
   "id": "22859ac2",
   "metadata": {},
   "outputs": [],
   "source": [
    "def swapPositions(list, pos1, pos2): \n",
    "      \n",
    "    list[pos1], list[pos2] = list[pos2], list[pos1] \n",
    "    return list\n",
    "  \n",
    "print(\"List after swapping of elements :-\\n\",swapPositions(NumList, position1-1, position2-1)) "
   ]
  }
 ],
 "metadata": {
  "kernelspec": {
   "display_name": "Python 3 (ipykernel)",
   "language": "python",
   "name": "python3"
  },
  "language_info": {
   "codemirror_mode": {
    "name": "ipython",
    "version": 3
   },
   "file_extension": ".py",
   "mimetype": "text/x-python",
   "name": "python",
   "nbconvert_exporter": "python",
   "pygments_lexer": "ipython3",
   "version": "3.9.7"
  }
 },
 "nbformat": 4,
 "nbformat_minor": 5
}
