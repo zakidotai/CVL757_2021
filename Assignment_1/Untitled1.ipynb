{
 "cells": [
  {
   "cell_type": "code",
   "execution_count": 18,
   "id": "115a3ad8",
   "metadata": {},
   "outputs": [
    {
     "name": "stdout",
     "output_type": "stream",
     "text": [
      "[[ 39.27285093  54.9819913  -39.27285093 -54.9819913 ]\n",
      " [ 54.9819913   76.97478782 -54.9819913  -76.97478782]\n",
      " [-39.27285093 -54.9819913   39.27285093  54.9819913 ]\n",
      " [-54.9819913  -76.97478782  54.9819913   76.97478782]]\n",
      "[[ 200.    0. -200.   -0.]\n",
      " [   0.    0.   -0.   -0.]\n",
      " [-200.   -0.  200.    0.]\n",
      " [  -0.   -0.    0.    0.]]\n",
      "[[   0.           -0.           -0.            0.        ]\n",
      " [  -0.          142.85714286    0.         -142.85714286]\n",
      " [  -0.            0.            0.           -0.        ]\n",
      " [   0.         -142.85714286   -0.          142.85714286]]\n",
      "[[ 200.    0. -200.   -0.]\n",
      " [   0.    0.   -0.   -0.]\n",
      " [-200.   -0.  200.    0.]\n",
      " [  -0.   -0.    0.    0.]]\n",
      "[[ 39.27285093 -54.9819913  -39.27285093  54.9819913 ]\n",
      " [-54.9819913   76.97478782  54.9819913  -76.97478782]\n",
      " [-39.27285093  54.9819913   39.27285093 -54.9819913 ]\n",
      " [ 54.9819913  -76.97478782 -54.9819913   76.97478782]]\n",
      "[[ 200.    0. -200.   -0.]\n",
      " [   0.    0.   -0.   -0.]\n",
      " [-200.   -0.  200.    0.]\n",
      " [  -0.   -0.    0.    0.]]\n",
      "[[   0.           -0.           -0.            0.        ]\n",
      " [  -0.          142.85714286    0.         -142.85714286]\n",
      " [  -0.            0.            0.           -0.        ]\n",
      " [   0.         -142.85714286   -0.          142.85714286]]\n",
      "[[ 39.27285093 -54.9819913  -39.27285093  54.9819913 ]\n",
      " [-54.9819913   76.97478782  54.9819913  -76.97478782]\n",
      " [-39.27285093  54.9819913   39.27285093 -54.9819913 ]\n",
      " [ 54.9819913  -76.97478782 -54.9819913   76.97478782]]\n",
      "[[ 200.    0. -200.   -0.]\n",
      " [   0.    0.   -0.   -0.]\n",
      " [-200.   -0.  200.    0.]\n",
      " [  -0.   -0.    0.    0.]]\n"
     ]
    }
   ],
   "source": [
    "import numpy as np\n",
    "import math\n",
    "E=200000\n",
    "A=0.005\n",
    "nodes=np.zeros((6,2))\n",
    "members=np.zeros((9,2))\n",
    "nodes=[[0,0],[5,7],[5,0],[10,7],[10,0],[15,0]]\n",
    "members=[[0,1],[0,2],[1,2],[1,3],[1,4],[2,4],[3,4],[3,5],[4,5]]\n",
    "strucMat=np.zeros((12,12))\n",
    "for i in range(0,9):\n",
    "    fnode=members[i][1]\n",
    "    snode=members[i][0]\n",
    "    base=nodes[fnode][0]-nodes[snode][0]\n",
    "    height=nodes[fnode][1]-nodes[snode][1]\n",
    "    hypotenuese=math.sqrt((base**2)+(height**2))\n",
    "    C=base/hypotenuese\n",
    "    S=height/hypotenuese\n",
    "    K1=np.zeros((4,4))\n",
    "    K1=[[(C**2),(C*S),(-C**2),(-C*S)],[(C*S),(S*S),(-C*S),(-S*S)],[(-C*C),(-C*S),(C*C),(C*S)],[(-C*S),(-S*S),(C*S),(S*S)]]\n",
    "    K2=(A*E)/(hypotenuese)\n",
    "    K=np.multiply(K1,K2)\n",
    "    print(K)\n",
    "    expandedMat=np.zeros((12,12))\n",
    "    for \n"
   ]
  },
  {
   "cell_type": "code",
   "execution_count": null,
   "id": "2773f10e",
   "metadata": {},
   "outputs": [],
   "source": []
  },
  {
   "cell_type": "code",
   "execution_count": null,
   "id": "26d602e6",
   "metadata": {},
   "outputs": [],
   "source": []
  }
 ],
 "metadata": {
  "kernelspec": {
   "display_name": "Python 3",
   "language": "python",
   "name": "python3"
  },
  "language_info": {
   "codemirror_mode": {
    "name": "ipython",
    "version": 3
   },
   "file_extension": ".py",
   "mimetype": "text/x-python",
   "name": "python",
   "nbconvert_exporter": "python",
   "pygments_lexer": "ipython3",
   "version": "3.8.8"
  }
 },
 "nbformat": 4,
 "nbformat_minor": 5
}
