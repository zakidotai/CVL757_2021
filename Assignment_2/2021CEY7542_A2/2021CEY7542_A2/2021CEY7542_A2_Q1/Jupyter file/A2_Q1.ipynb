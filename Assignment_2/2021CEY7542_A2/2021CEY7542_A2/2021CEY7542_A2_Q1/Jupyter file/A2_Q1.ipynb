{
 "cells": [
  {
   "cell_type": "code",
   "execution_count": 1,
   "id": "ccb14d25",
   "metadata": {},
   "outputs": [],
   "source": [
    "import numpy as np\n",
    "import matplotlib.pyplot as plt\n"
   ]
  },
  {
   "cell_type": "code",
   "execution_count": 3,
   "id": "91df0cc6",
   "metadata": {},
   "outputs": [],
   "source": [
    "def Lmember(Cordinates, Connections,member=1):\n",
    "    m=member\n",
    "    Cord=Cordinates\n",
    "    Conec=Connections\n",
    "    x1,y1= Cord[Conec[m,0]][0], Cord[Conec[m,0]][1]\n",
    "    x2,y2= Cord[Conec[m,1]][0], Cord[Conec[m,1]][1]\n",
    "    L=np.power( (np.power((x1-x2),2) + np.power((y1-y2),2)),0.5)\n",
    "    return L"
   ]
  },
  {
   "cell_type": "code",
   "execution_count": 22,
   "id": "d396ca06",
   "metadata": {},
   "outputs": [],
   "source": [
    "#information availaable about the beam-(loads, boundary condition, nodes, node connectivity)\n",
    "\n",
    "\n",
    "E=210e6\n",
    "I=60e-6\n",
    "\n",
    "dofs=np.array([[1,2], [3,4], [5,6]])-1\n",
    "coordinates=np.array([(0,0),(2,0),(4,0)])\n",
    "connections=np.array([(1,2),(2,3)])-1\n",
    "\n",
    "\n",
    "dof_seq=np.array([3,4,6,1,2,5])-1 #unknows : knowns\n",
    "free_dof=3 #number of DOFs which are free\n",
    "ndof=len(coordinates)*2\n",
    "\n",
    "\n",
    "\n",
    "P=np.zeros((ndof,))\n",
    "U=np.zeros((ndof,))\n",
    "\n",
    "P[2]=-20\n",
    "\n",
    "\n",
    "\n"
   ]
  },
  {
   "cell_type": "code",
   "execution_count": 23,
   "id": "8995f990",
   "metadata": {},
   "outputs": [],
   "source": [
    "membs=connections.shape[0]\n",
    "Lenths=np.zeros((membs,))\n",
    "for i in range(membs):\n",
    "    Lenths[i]=Lmember(coordinates,connections,member=i)"
   ]
  },
  {
   "cell_type": "code",
   "execution_count": 24,
   "id": "bde0a5ce",
   "metadata": {},
   "outputs": [
    {
     "name": "stdout",
     "output_type": "stream",
     "text": [
      "[2. 2.]\n"
     ]
    }
   ],
   "source": [
    "print(Lenths)"
   ]
  },
  {
   "cell_type": "code",
   "execution_count": 25,
   "id": "35ff1c86",
   "metadata": {},
   "outputs": [],
   "source": [
    "km=np.zeros([membs,4,4])\n",
    "for i in range(membs):\n",
    "    L=Lenths[i]\n",
    "    km[i]=np.array([[12*E*I/L**3, 6*E*I/L**2 , -12*E*I/L**3,  6*E*I/L**2],\n",
    "              [ 6*E*I/L**2,  4*E*I/L, -6*E*I/L**2, 2*E*I/L],\n",
    "              [-12*E*I/L**3,  -6*E*I/L**2, 12*E*I/L**3, -6*E*I/L**2 ],\n",
    "              [ 6*E*I/L**2 , 2*E*I/L, -6*E*I/L**2, 4*E*I/L]])"
   ]
  },
  {
   "cell_type": "code",
   "execution_count": 26,
   "id": "464a3ffd",
   "metadata": {},
   "outputs": [
    {
     "name": "stdout",
     "output_type": "stream",
     "text": [
      "[[0 1 2 3]\n",
      " [2 3 4 5]]\n"
     ]
    }
   ],
   "source": [
    "#associated dof of each member-(DOF relation with the member)\n",
    "dof_label=np.zeros((membs,4),dtype=int)\n",
    "for i in range(membs):\n",
    "    p,q=connections[i]\n",
    "    dof_label[i]=np.concatenate((dofs[p],dofs[q]),)   \n",
    "print(dof_label)  "
   ]
  },
  {
   "cell_type": "code",
   "execution_count": 27,
   "id": "f2a24454",
   "metadata": {},
   "outputs": [],
   "source": [
    "KG= np.zeros((ndof,ndof))\n",
    "for k in range(km.shape[0]):\n",
    "    for i in range(4):\n",
    "        for j in range(4):\n",
    "            x=int(dof_label[k][j])\n",
    "            y=int(dof_label[k][i])         \n",
    "            KG[x,y]= (KG[x,y]+km[k,i,j])"
   ]
  },
  {
   "cell_type": "code",
   "execution_count": 28,
   "id": "8fb0a1ae",
   "metadata": {},
   "outputs": [
    {
     "name": "stdout",
     "output_type": "stream",
     "text": [
      "\n",
      "******************GLOBAL STIFFNESS MATRIX***************************\n",
      "\n",
      "[[ 18.9  18.9 -18.9  18.9   0.    0. ]\n",
      " [ 18.9  25.2 -18.9  12.6   0.    0. ]\n",
      " [-18.9 -18.9  37.8   0.  -18.9  18.9]\n",
      " [ 18.9  12.6   0.   50.4 -18.9  12.6]\n",
      " [  0.    0.  -18.9 -18.9  18.9 -18.9]\n",
      " [  0.    0.   18.9  12.6 -18.9  25.2]]\n"
     ]
    }
   ],
   "source": [
    "#Global Stiffness Matrix\n",
    "\n",
    "np.set_printoptions(precision=4)\n",
    "print('\\n******************GLOBAL STIFFNESS MATRIX***************************\\n')\n",
    "print(KG/1000)"
   ]
  },
  {
   "cell_type": "markdown",
   "id": "af87abd2",
   "metadata": {},
   "source": [
    "### Post Processing"
   ]
  },
  {
   "cell_type": "code",
   "execution_count": 29,
   "id": "52711106",
   "metadata": {},
   "outputs": [],
   "source": [
    "\n",
    "xx=free_dof\n",
    "\n",
    "KG[:,:]=KG[dof_seq,:]\n",
    "KG[:,:]=KG[:,dof_seq]\n",
    "\n",
    "P[:,]=P[[dof_seq],]\n",
    "\n",
    "pk=P[:xx,]\n",
    "pu=P[xx:,]\n",
    "uk=U[xx:,]  \n",
    "uu=U[:xx,]\n",
    "\n",
    "K11=KG[:xx,:xx]\n",
    "K12=KG[:xx,xx:]\n",
    "K21=KG[xx:,:xx]\n",
    "K22=KG[xx:,xx:]\n",
    "\n",
    "uu= np.matmul(np.linalg.inv(K11),pk)\n",
    "pu=np.matmul(K21,uu)\n",
    "\n",
    "UU=np.concatenate((uu,uk), axis=0)\n",
    "FF=np.round(np.concatenate((pk,pu), axis=0),6)\n",
    "\n",
    "\n",
    "for i in range(len(dof_seq)):\n",
    "    U[dof_seq[i]]=UU[i]\n",
    "    P[dof_seq[i]]=FF[i]\n",
    "    \n",
    "node_disp=np.vstack(U)\n",
    "nodal_forces= np.vstack(P)\n",
    "\n"
   ]
  },
  {
   "cell_type": "code",
   "execution_count": 30,
   "id": "d325bbc1",
   "metadata": {},
   "outputs": [
    {
     "name": "stdout",
     "output_type": "stream",
     "text": [
      "\n",
      "******************GLOBAL NODAL DISPLACEMENTS VECTOR***************************\n",
      "\n",
      "[[ 0.    ]\n",
      " [ 0.    ]\n",
      " [-0.0009]\n",
      " [-0.0002]\n",
      " [ 0.    ]\n",
      " [ 0.0008]]\n"
     ]
    }
   ],
   "source": [
    "print('\\n******************GLOBAL NODAL DISPLACEMENTS VECTOR***************************\\n')\n",
    "print(node_disp)"
   ]
  },
  {
   "cell_type": "code",
   "execution_count": 43,
   "id": "3e891b24",
   "metadata": {},
   "outputs": [
    {
     "name": "stdout",
     "output_type": "stream",
     "text": [
      "\n",
      "******************GLOBAL NODAL FORCES VECTOR***************************\n",
      "\n",
      "[[ 13.75]\n",
      " [ 15.  ]\n",
      " [-20.  ]\n",
      " [  0.  ]\n",
      " [  6.25]\n",
      " [  0.  ]]\n"
     ]
    }
   ],
   "source": [
    "np.set_printoptions(precision=2)\n",
    "print('\\n******************GLOBAL NODAL FORCES VECTOR***************************\\n')\n",
    "print(nodal_forces)"
   ]
  },
  {
   "cell_type": "code",
   "execution_count": 44,
   "id": "32596b47",
   "metadata": {},
   "outputs": [],
   "source": [
    "#member dof displacements\n",
    "eleU=np.zeros((membs,4))"
   ]
  },
  {
   "cell_type": "code",
   "execution_count": 45,
   "id": "1836802e",
   "metadata": {},
   "outputs": [],
   "source": [
    "for i in range(membs):\n",
    "    p,q=connections[i]\n",
    "    eleU[i]=np.concatenate((U[dofs[p]],U[dofs[q]]))"
   ]
  },
  {
   "cell_type": "code",
   "execution_count": 46,
   "id": "2f6c6950",
   "metadata": {},
   "outputs": [
    {
     "name": "stdout",
     "output_type": "stream",
     "text": [
      "\n",
      "******************Member DOF Displacements***************************\n",
      "\n",
      "[[ 0.     -0.0009]\n",
      " [ 0.     -0.0002]\n",
      " [-0.0009  0.    ]\n",
      " [-0.0002  0.0008]]\n"
     ]
    }
   ],
   "source": [
    "np.set_printoptions(precision=4)\n",
    "print('\\n******************Member DOF Displacements***************************\\n')\n",
    "print(eleU.T)"
   ]
  },
  {
   "cell_type": "code",
   "execution_count": 47,
   "id": "d9e46bf2",
   "metadata": {},
   "outputs": [],
   "source": [
    "#member forces\n",
    "memberforces=np.zeros(eleU.shape)\n",
    "memberforces1=np.zeros(eleU.shape)\n",
    "for i in range(membs):\n",
    "    memberforces[i]=np.matmul(km[i],eleU[i])\n",
    "memberforces1=np.copy(memberforces)"
   ]
  },
  {
   "cell_type": "code",
   "execution_count": 48,
   "id": "84d24851",
   "metadata": {},
   "outputs": [
    {
     "name": "stdout",
     "output_type": "stream",
     "text": [
      "[[ 13.75  -6.25]\n",
      " [ 15.   -12.5 ]\n",
      " [-13.75   6.25]\n",
      " [ 12.5    0.  ]]\n"
     ]
    }
   ],
   "source": [
    "print(memberforces1.T)"
   ]
  },
  {
   "cell_type": "code",
   "execution_count": 49,
   "id": "0d2ef1cd",
   "metadata": {},
   "outputs": [
    {
     "name": "stdout",
     "output_type": "stream",
     "text": [
      "\n",
      "******************Member Forces***************************\n",
      "\n",
      "[[ 13.75  -6.25]\n",
      " [ 15.   -12.5 ]\n",
      " [-13.75   6.25]\n",
      " [ 12.5    0.  ]]\n"
     ]
    }
   ],
   "source": [
    "print('\\n******************Member Forces***************************\\n')\n",
    "print(memberforces.T)"
   ]
  },
  {
   "cell_type": "code",
   "execution_count": 50,
   "id": "7d80a651",
   "metadata": {},
   "outputs": [],
   "source": [
    "#modification forces for element 2 due to the distributed load\n",
    "# memberforces[1]=memberforces[1]-np.array([0,-9.333,0,9.333])*1000 #np.array([-14,-9.333,-14,9.333])*1000"
   ]
  },
  {
   "cell_type": "code",
   "execution_count": 51,
   "id": "8ce750d6",
   "metadata": {},
   "outputs": [],
   "source": [
    "# memberforces1[1]=memberforces1[1]-np.array([-14,-9.333,-14,9.333])*1000"
   ]
  },
  {
   "cell_type": "code",
   "execution_count": 53,
   "id": "9bb6b350",
   "metadata": {
    "scrolled": true
   },
   "outputs": [
    {
     "name": "stdout",
     "output_type": "stream",
     "text": [
      "\n",
      "******************Final Member Forces***************************\n",
      "\n",
      "[[ 13.75  -6.25]\n",
      " [ 15.   -12.5 ]\n",
      " [-13.75   6.25]\n",
      " [ 12.5    0.  ]]\n"
     ]
    }
   ],
   "source": [
    "#final member forces\n",
    "print('\\n******************Final Member Forces***************************\\n')\n",
    "print(memberforces1.T)"
   ]
  },
  {
   "cell_type": "code",
   "execution_count": 54,
   "id": "19c4c09b",
   "metadata": {},
   "outputs": [],
   "source": [
    "def figs(Lenths,member=1):\n",
    "    member=member\n",
    "    x=[0,Lenths[member]]\n",
    "    y_bm=np.multiply(memberforces[member,[1,-1]],np.array([-1,1]))\n",
    "    y_sf=np.multiply(memberforces[member,[0,2]],np.array([1,-1]))\n",
    "    plt.plot(x,y_bm,color='b',label=\"BM\")\n",
    "    plt.title(f'Member {member+1}')\n",
    "    plt.xlabel('Lenght-m')\n",
    "    plt.ylabel('N-m')\n",
    "    plt.legend(bbox_to_anchor=(1.05, 1), loc=2, borderaxespad=0.)\n",
    "    plt.show()\n",
    "    \n",
    "    plt.plot(x,y_sf,color='g',label='SF')\n",
    "    plt.xlabel('Lenght-m')\n",
    "    plt.ylabel('N')\n",
    "    plt.title(f'Member {member+1}')\n",
    "    plt.legend(bbox_to_anchor=(1.05, 1), loc=2, borderaxespad=0.)\n",
    "    plt.show()\n"
   ]
  },
  {
   "cell_type": "code",
   "execution_count": 55,
   "id": "007bbe0d",
   "metadata": {},
   "outputs": [
    {
     "data": {
      "image/png": "[encoded data removed]",
      "text/plain": [
       "<Figure size 432x288 with 1 Axes>"
      ]
     },
     "metadata": {
      "needs_background": "light"
     },
     "output_type": "display_data"
    },
    {
     "data": {
      "image/png": "[encoded data removed]",
      "text/plain": [
       "<Figure size 432x288 with 1 Axes>"
      ]
     },
     "metadata": {
      "needs_background": "light"
     },
     "output_type": "display_data"
    }
   ],
   "source": [
    "figs(Lenths,member=0)"
   ]
  },
  {
   "cell_type": "code",
   "execution_count": 56,
   "id": "1d49fc69",
   "metadata": {},
   "outputs": [
    {
     "data": {
      "image/png": "[encoded data removed]",
      "text/plain": [
       "<Figure size 432x288 with 1 Axes>"
      ]
     },
     "metadata": {
      "needs_background": "light"
     },
     "output_type": "display_data"
    },
    {
     "data": {
      "image/png": "[encoded data removed]",
      "text/plain": [
       "<Figure size 432x288 with 1 Axes>"
      ]
     },
     "metadata": {
      "needs_background": "light"
     },
     "output_type": "display_data"
    }
   ],
   "source": [
    "figs(Lenths,member=1)"
   ]
  },
  {
   "cell_type": "code",
   "execution_count": null,
   "id": "0c4d5d36",
   "metadata": {},
   "outputs": [],
   "source": []
  },
  {
   "cell_type": "code",
   "execution_count": null,
   "id": "05bdb03e",
   "metadata": {},
   "outputs": [],
   "source": []
  }
 ],
 "metadata": {
  "kernelspec": {
   "display_name": "Python 3 (ipykernel)",
   "language": "python",
   "name": "python3"
  },
  "language_info": {
   "codemirror_mode": {
    "name": "ipython",
    "version": 3
   },
   "file_extension": ".py",
   "mimetype": "text/x-python",
   "name": "python",
   "nbconvert_exporter": "python",
   "pygments_lexer": "ipython3",
   "version": "3.9.6"
  }
 },
 "nbformat": 4,
 "nbformat_minor": 5
}
