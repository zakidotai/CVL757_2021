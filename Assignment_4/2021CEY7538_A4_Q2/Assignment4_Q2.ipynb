{
 "cells": [
  {
   "cell_type": "code",
   "execution_count": 57,
   "id": "9435e2d3",
   "metadata": {},
   "outputs": [],
   "source": [
    "import numpy as np\n",
    "import matplotlib.pyplot as plt"
   ]
  },
  {
   "cell_type": "code",
   "execution_count": 58,
   "id": "c732fdeb",
   "metadata": {},
   "outputs": [],
   "source": [
    "#coordinates and connectivity\n",
    "\n",
    "Cord=np.array([[3,0],[0,2],[0,6]])\n",
    "Conec=np.array([[1,2],[2,3]])-1\n",
    "theta=np.array([-56.309932,0,0]) #-56.309932\n",
    "theta=np.deg2rad(theta,dtype=float,)\n",
    "membs=(Conec.shape[0])\n",
    "ndof=3*(Cord.shape[0])"
   ]
  },
  {
   "cell_type": "code",
   "execution_count": 59,
   "id": "1111338c",
   "metadata": {
    "scrolled": true
   },
   "outputs": [
    {
     "name": "stdout",
     "output_type": "stream",
     "text": [
      "[[ 0.5547 -0.8321]\n",
      " [ 1.      0.    ]]\n"
     ]
    }
   ],
   "source": [
    "#store the sin and cos of each member as C and S\n",
    "\n",
    "lamxy=np.zeros(Conec.shape)\n",
    "for i in range(len(Conec)):\n",
    "    C=np.cos(theta[i])\n",
    "    S=np.sin(theta[i])\n",
    "    lamxy[i]=np.array([C,S])\n",
    "print(lamxy)"
   ]
  },
  {
   "cell_type": "code",
   "execution_count": 60,
   "id": "9bf94dea",
   "metadata": {},
   "outputs": [],
   "source": [
    "#section information\n",
    "\n",
    "E=200e6\n",
    "A=4e-2\n",
    "I=1e-6\n"
   ]
  },
  {
   "cell_type": "code",
   "execution_count": 61,
   "id": "eb382aa4",
   "metadata": {},
   "outputs": [],
   "source": [
    "#function calucates length of each member\n",
    "def Lmember(Cordinates, Conec,member=1):\n",
    "    m=member\n",
    "    Cord=Cordinates\n",
    "    Conec=Conec\n",
    "    x1,y1= Cord[Conec[m,0]][0], Cord[Conec[m,0]][1]\n",
    "    x2,y2= Cord[Conec[m,1]][0], Cord[Conec[m,1]][1]\n",
    "    L=np.power( (np.power((x1-x2),2) + np.power((y1-y2),2)),0.5)\n",
    "    return L\n"
   ]
  },
  {
   "cell_type": "code",
   "execution_count": 62,
   "id": "101122ef",
   "metadata": {},
   "outputs": [
    {
     "name": "stdout",
     "output_type": "stream",
     "text": [
      "[3.6056 4.    ]\n"
     ]
    }
   ],
   "source": [
    "#length of all the members stored in Lenths array\n",
    "Lenths=np.zeros((membs,))\n",
    "for i in range(membs):\n",
    "    Lenths[i]=Lmember(Cord,Conec,member=i)\n",
    "print(Lenths)   "
   ]
  },
  {
   "cell_type": "code",
   "execution_count": 63,
   "id": "0b82dde0",
   "metadata": {},
   "outputs": [],
   "source": [
    "#element stiffness matrix\n",
    "km=np.zeros((membs,6,6))\n",
    "for i in range(membs):\n",
    "    L=Lenths[i]\n",
    "    C=lamxy[i][0]\n",
    "    S=lamxy[i][1]\n",
    "    \n",
    "    P=((12*I)/L**2) \n",
    "    Q= (6*I)/L\n",
    "    w1 = A*C*C + 12*I*S*S/(L*L)\n",
    "    w2 = A*S*S + 12*I*C*C/(L*L)\n",
    "    w3 = (A-12*I/(L*L))*C*S\n",
    "    w4 = 6*I*S/L\n",
    "    w5 = 6*I*C/L\n",
    "    km[i] = (E/L)*np.array([[w1, w3, -w4, -w1, -w3, -w4],\n",
    "                             [w3, w2, w5, -w3, -w2, w5,],\n",
    "                            [-w4, w5, 4*I, w4, -w5, 2*I],\n",
    "                            [-w1, -w3, w4, w1, w3, w4],\n",
    "                            [-w3, -w2, -w5, w3, w2, -w5], \n",
    "                            [-w4, w5, 2*I, w4, -w5, 4*I]])\n",
    "#     km[i]= (E/L)*np.array([ [A*C**2 + P*S**2 , (A-P)*C*S, -Q*S, -(A*C**2 + P*S**2), -(A-P)*C*S, -(Q*S)],\n",
    "#                   [(A-P)*C*S,  A*S**2 + P*C**2, Q*C, -(A-P)*C*S, -(A*S**2 + P*C**2) ,Q*C],\n",
    "#                  [-(Q*S),Q*C,4*I, Q*S,-(Q*C),2*I],\n",
    "#                  [ -(A*C**2 + P*S**2), -(A-P)*C*S, Q*S, (A*C**2 + P*S**2), (A-P)*C*S, Q*S],\n",
    "#                  [-(A-P)*C*S, -(A*S**2 + P*C**2) , -(Q*C), -(A-P)*C*S,A*S**2+P*C**2, -(P*C) ],\n",
    "#                  [-(Q*S),Q*C,2*I,Q*S,-(Q*C),4*I]])\n",
    "\n",
    "np.set_printoptions(suppress=True,precision=7)"
   ]
  },
  {
   "cell_type": "code",
   "execution_count": 64,
   "id": "675e56bf",
   "metadata": {},
   "outputs": [
    {
     "name": "stdout",
     "output_type": "stream",
     "text": [
      "[[0 1 2 3 4 5]\n",
      " [3 4 5 6 7 8]]\n"
     ]
    }
   ],
   "source": [
    "#connectivity information of each member\n",
    "\n",
    "dofs=np.array([[1,2,3],[4,5,6],[7,8,9],[10,11,12]])-1\n",
    "Cord=np.array([[0,0],[0,3],[4,3],[4,0]])\n",
    "Conec=np.array([[1,2],[2,3],[4,3]])-1\n",
    "dof_label=np.zeros((membs,6),dtype=int)\n",
    "for i in range(membs):\n",
    "    p,q=Conec[i]\n",
    "    dof_label[i]=np.concatenate((dofs[p],dofs[q]),)   \n",
    "print(dof_label)  "
   ]
  },
  {
   "cell_type": "code",
   "execution_count": 65,
   "id": "bd663c42",
   "metadata": {},
   "outputs": [
    {
     "name": "stdout",
     "output_type": "stream",
     "text": [
      "\n",
      "******************GLOBAL STIFFNESS MATRIX***************************\n",
      "\n",
      "[[  682.7 -1024.      0.1  -682.7  1024.      0.1     0.      0.      0. ]\n",
      " [-1024.   1536.1     0.1  1024.  -1536.1     0.1     0.      0.      0. ]\n",
      " [    0.1     0.1     0.2    -0.1    -0.1     0.1     0.      0.      0. ]\n",
      " [ -682.7  1024.     -0.1  2682.7 -1024.     -0.1 -2000.      0.      0. ]\n",
      " [ 1024.  -1536.1    -0.1 -1024.   1536.1     0.      0.     -0.      0.1]\n",
      " [    0.1     0.1     0.1    -0.1     0.      0.4     0.     -0.1     0.1]\n",
      " [    0.      0.      0.  -2000.      0.      0.   2000.      0.      0. ]\n",
      " [    0.      0.      0.      0.     -0.     -0.1     0.      0.     -0.1]\n",
      " [    0.      0.      0.      0.      0.1     0.1     0.     -0.1     0.2]]\n"
     ]
    }
   ],
   "source": [
    "#global matrix\n",
    "# np.set_printoptions(precision=4)\n",
    "np.set_printoptions(precision=1,suppress=True)\n",
    "KK=np.zeros((ndof,ndof))\n",
    "for p in range(km.shape[0]):\n",
    "    for q in range(km.shape[1]):\n",
    "        for r in range(km.shape[2]):\n",
    "            KK[dof_label[p][r],dof_label[p][q]]+=km[p][q][r]\n",
    "print('\\n******************GLOBAL STIFFNESS MATRIX***************************\\n')            \n",
    "print(np.round(KK/1000,3))"
   ]
  },
  {
   "cell_type": "code",
   "execution_count": 66,
   "id": "ec2ab5a7",
   "metadata": {},
   "outputs": [
    {
     "name": "stdout",
     "output_type": "stream",
     "text": [
      "[0 1 2 6 7 8]\n"
     ]
    }
   ],
   "source": [
    "#post processing\n",
    "\n",
    "np.set_printoptions(precision=6,suppress=True)\n",
    "dof_seq=np.array([4,5,6,1,2,3,7,8,9])-1  #[knows unknowns]----\n",
    "free_dofs=3\n",
    "xx=free_dofs\n",
    "uk=dof_seq[xx:]\n",
    "uu=dof_seq[:xx]\n",
    "print(uk)"
   ]
  },
  {
   "cell_type": "code",
   "execution_count": 67,
   "id": "b77ba16d",
   "metadata": {},
   "outputs": [],
   "source": [
    "F=np.zeros((ndof,))\n",
    "UU=np.zeros((ndof,))\n",
    "U=np.zeros((ndof,))"
   ]
  },
  {
   "cell_type": "code",
   "execution_count": 68,
   "id": "14d9a841",
   "metadata": {},
   "outputs": [],
   "source": [
    "F[3]=0 #kn\n",
    "F[4]=-16\n",
    "F[5]=-10.667\n",
    "F=F[dof_seq]\n",
    "fk=F[:xx]\n"
   ]
  },
  {
   "cell_type": "code",
   "execution_count": 69,
   "id": "70f9e67a",
   "metadata": {
    "scrolled": true
   },
   "outputs": [],
   "source": [
    "#Kpp=KG[np.ix_(dof_seq[:xx],dof_seq[:xx])]\n",
    "k11=KK[np.ix_(uu,uu)]\n"
   ]
  },
  {
   "cell_type": "code",
   "execution_count": 70,
   "id": "e7579665",
   "metadata": {},
   "outputs": [
    {
     "name": "stdout",
     "output_type": "stream",
     "text": [
      " 10e6 \n",
      "* [[ 2682.743399 -1024.038276    -0.076805]\n",
      " [-1024.038276  1536.146089     0.023797]\n",
      " [   -0.076805     0.023797     0.42188 ]]\n"
     ]
    }
   ],
   "source": [
    "print(f' 10e6 \\n* {k11/1000}')"
   ]
  },
  {
   "cell_type": "code",
   "execution_count": 71,
   "id": "dfd8ea99",
   "metadata": {},
   "outputs": [],
   "source": [
    "k11=np.linalg.inv(k11)\n",
    "\n",
    "UK=np.matmul(k11,fk)"
   ]
  },
  {
   "cell_type": "code",
   "execution_count": 72,
   "id": "748d58ab",
   "metadata": {},
   "outputs": [
    {
     "name": "stdout",
     "output_type": "stream",
     "text": [
      "\n",
      " unknown displacements\n",
      "\n",
      "[-0.     -0.     -0.0253]\n"
     ]
    }
   ],
   "source": [
    "np.set_printoptions(precision=4)\n",
    "print('\\n unknown displacements\\n')\n",
    "print(UK)"
   ]
  },
  {
   "cell_type": "code",
   "execution_count": 73,
   "id": "6cb34ee5",
   "metadata": {},
   "outputs": [],
   "source": [
    "#supplying unknown displacemnts into main nodal displacement vecotr\n",
    "UU[:xx]=UK\n",
    "\n",
    "#resequencing the nodal displacement vector as indexed from 0 - dofs\n",
    "U[dof_seq]=UU"
   ]
  },
  {
   "cell_type": "code",
   "execution_count": null,
   "id": "3229ed23",
   "metadata": {},
   "outputs": [],
   "source": []
  },
  {
   "cell_type": "code",
   "execution_count": 74,
   "id": "0cd2e056",
   "metadata": {},
   "outputs": [],
   "source": [
    "# for i in range(len(dof_seq)):\n",
    "#     U[dof_seq[i]]=UU[i]\n",
    "#     P[dof_seq[i]]=FF[i]"
   ]
  },
  {
   "cell_type": "code",
   "execution_count": 75,
   "id": "3c48222a",
   "metadata": {},
   "outputs": [
    {
     "name": "stdout",
     "output_type": "stream",
     "text": [
      "\n",
      "******************GLOBAL NODAL FORCES VECTOR-kN***************************\n",
      "\n",
      "[[-12.2064]\n",
      " [ 14.1031]\n",
      " [ -2.8039]\n",
      " [  0.    ]\n",
      " [-16.    ]\n",
      " [-10.667 ]\n",
      " [ 12.2064]\n",
      " [  1.8969]\n",
      " [ -2.5295]]\n"
     ]
    }
   ],
   "source": [
    "#Global force vector\n",
    "F=np.matmul(KK,U)\n",
    "print('\\n******************GLOBAL NODAL FORCES VECTOR-kN***************************\\n')\n",
    "print(np.vstack(F))"
   ]
  },
  {
   "cell_type": "code",
   "execution_count": 76,
   "id": "333f26a4",
   "metadata": {},
   "outputs": [],
   "source": [
    "#eleU stores element displacements of each dof \n",
    "eleU=np.zeros((membs,6))"
   ]
  },
  {
   "cell_type": "code",
   "execution_count": 77,
   "id": "742950aa",
   "metadata": {},
   "outputs": [],
   "source": [
    "for i in range(membs):\n",
    "    p,q=Conec[i]\n",
    "    eleU[i]=np.concatenate((U[dofs[p]],U[dofs[q]]))"
   ]
  },
  {
   "cell_type": "code",
   "execution_count": 78,
   "id": "aed3e2c6",
   "metadata": {
    "scrolled": true
   },
   "outputs": [
    {
     "name": "stdout",
     "output_type": "stream",
     "text": [
      "\n",
      "******************Member nodal displacemebts-mm***************************\n",
      "\n",
      "[[ 0.     -0.    ]\n",
      " [ 0.     -0.    ]\n",
      " [ 0.     -0.0253]\n",
      " [-0.      0.    ]\n",
      " [-0.      0.    ]\n",
      " [-0.0253  0.    ]]\n"
     ]
    }
   ],
   "source": [
    "#eaach vector has the nodal displacements of a particular memeber\n",
    "print('\\n******************Member nodal displacemebts-mm***************************\\n')\n",
    "print(eleU.T)"
   ]
  },
  {
   "cell_type": "code",
   "execution_count": 79,
   "id": "6e920916",
   "metadata": {},
   "outputs": [],
   "source": [
    "#member force function\n",
    "def memforce(lamxy,Lenths,eleU,member=1):\n",
    "    i=member\n",
    "    L=Lenths[i]\n",
    "    C=lamxy[i][0]\n",
    "    S=lamxy[i][1]\n",
    "    w1 = E*A/L;\n",
    "    w2 = 12*E*I/(L*L*L);\n",
    "    w3 = 6*E*I/(L*L);\n",
    "    w4 = 4*E*I/L;\n",
    "    w5 = 2*E*I/L;\n",
    "    u=eleU[i].T\n",
    "    kprime = np.array([[w1, 0, 0, -w1, 0, 0],\n",
    "                       [0, w2, w3, 0, -w2, w3],\n",
    "                        [0, w3, w4, 0, -w3, w5],\n",
    "                        [-w1, 0, 0, w1, 0, 0,],\n",
    "                        [0, -w2, -w3, 0, w2, -w3],\n",
    "                       [0, w3, w5, 0, -w3, w4]]);\n",
    "    T = np.array([[C, S, 0, 0, 0, 0],\n",
    "                  [-S, C, 0, 0, 0, 0],\n",
    "                  [0, 0, 1, 0, 0, 0],\n",
    "                  [0, 0, 0, C, S, 0],\n",
    "                  [0, 0, 0, -S, C, 0],\n",
    "                  [0, 0, 0, 0, 0, 1]])\n",
    "    y = np.matmul(kprime,np.matmul(T,u))   #nodal force for each vector: kprime*T*u\n",
    "    return y"
   ]
  },
  {
   "cell_type": "code",
   "execution_count": 80,
   "id": "76bc9c7b",
   "metadata": {},
   "outputs": [],
   "source": [
    "#this stores the member forces of all the members \n",
    "memberforces=np.zeros((membs,6))\n",
    "for i in range(membs):\n",
    "    memberforces[i]=memforce(lamxy,Lenths,eleU, member=i)\n"
   ]
  },
  {
   "cell_type": "code",
   "execution_count": 81,
   "id": "39e1f4a4",
   "metadata": {
    "scrolled": false
   },
   "outputs": [
    {
     "name": "stdout",
     "output_type": "stream",
     "text": [
      "[[-18.5054 -12.2064]\n",
      " [ -2.3333  -1.8969]\n",
      " [ -2.8039  -5.058 ]\n",
      " [ 18.5054  12.2064]\n",
      " [  2.3333   1.8969]\n",
      " [ -5.609   -2.5295]]\n"
     ]
    }
   ],
   "source": [
    "##member forces-Each column corrresponds to a particular member\n",
    "\n",
    "print(memberforces.T)"
   ]
  },
  {
   "cell_type": "code",
   "execution_count": 82,
   "id": "3d9ba585",
   "metadata": {},
   "outputs": [
    {
     "name": "stdout",
     "output_type": "stream",
     "text": [
      "\n",
      "******************Element forces-***************************\n",
      "\n",
      "[[-18.5054 -12.2064]\n",
      " [ -2.3333  14.1031]\n",
      " [ -2.8039   5.609 ]\n",
      " [ 18.5054  12.2064]\n",
      " [  2.3333  17.8969]\n",
      " [ -5.609  -13.1965]]\n"
     ]
    }
   ],
   "source": [
    "# memberforces1[1]-=np.array([0,-16,-10.667,0,-16,10.667])\n",
    "memberforces[1]-=np.array([0,-16,-10.667,0,-16,10.667])\n",
    "print('\\n******************Element forces-***************************\\n')\n",
    "print(memberforces.T)"
   ]
  },
  {
   "cell_type": "code",
   "execution_count": 83,
   "id": "c13c35a0",
   "metadata": {
    "scrolled": true
   },
   "outputs": [],
   "source": [
    "\n",
    "#ploting SF, BM and Axial forces\n",
    "\n",
    "# fig,axs=plt.subplots(nrows=3, ncols=1, ) #sharex=True\n",
    "def figs(Lenths,member=1):\n",
    "    member=member\n",
    "    x=[0,Lenths[member]]\n",
    "    #bm\n",
    "\n",
    "    y_bm=np.multiply(memberforces[member,[2,-1]],np.array([-1,1]))\n",
    "    y_sf=np.multiply(memberforces[member,[1,-2]],np.array([1,-1]))\n",
    "    y_ax=memberforces[member,[-3,-3]]\n",
    "    plt.plot(x,y_bm,color='b',label=\"BM\")\n",
    "    plt.title(f'Member {member+1}')\n",
    "    plt.xlabel('Lenght-m')\n",
    "    plt.ylabel('kN-m')\n",
    "    plt.legend()\n",
    "    # plt.legend(bbox_to_anchor=(1.05, 1), loc=2, borderaxespad=0.)\n",
    "    plt.savefig(f'BM-Member{member+1}.png',dpi=100)\n",
    "    plt.show()\n",
    "    plt.plot(x,y_sf,color='g',label='SF')\n",
    "    plt.xlabel('Lenght-m')\n",
    "    plt.ylabel('kN')\n",
    "    plt.title(f'Member {member+1}')\n",
    "    plt.legend()\n",
    "    # plt.legend(bbox_to_anchor=(1.05, 1), loc=2, borderaxespad=0.)\n",
    "    plt.savefig(f'SF-Member{member+1}.png',dpi=100)\n",
    "    plt.show()\n",
    "\n",
    "    plt.plot(x,y_ax,color='k',label='Axial')\n",
    "    plt.title(f'Member {member+1}')\n",
    "    plt.xlabel('Length-m')\n",
    "    plt.ylabel('kN')\n",
    "    plt.legend()\n",
    "    # plt.legend(bbox_to_anchor=(1.05, 1), loc=2, borderaxespad=0.)\n",
    "    plt.savefig(f'AF-Member{member+1}.png',dpi=100)\n",
    "    plt.show()"
   ]
  },
  {
   "cell_type": "code",
   "execution_count": 84,
   "id": "1940411a",
   "metadata": {},
   "outputs": [],
   "source": [
    "#if we want to show all the figures of all the members at once\n",
    "# for i in range(membs):\n",
    "#     figs(Lenths,member=i)"
   ]
  },
  {
   "cell_type": "code",
   "execution_count": 85,
   "id": "853b9220",
   "metadata": {},
   "outputs": [
    {
     "data": {
      "image/png": "[encoded data removed]",
      "text/plain": [
       "<Figure size 432x288 with 1 Axes>"
      ]
     },
     "metadata": {
      "needs_background": "light"
     },
     "output_type": "display_data"
    },
    {
     "data": {
      "image/png": "[encoded data removed]",
      "text/plain": [
       "<Figure size 432x288 with 1 Axes>"
      ]
     },
     "metadata": {
      "needs_background": "light"
     },
     "output_type": "display_data"
    },
    {
     "data": {
      "image/png": "[encoded data removed]",
      "text/plain": [
       "<Figure size 432x288 with 1 Axes>"
      ]
     },
     "metadata": {
      "needs_background": "light"
     },
     "output_type": "display_data"
    }
   ],
   "source": [
    "figs(Lenths,member=0)"
   ]
  },
  {
   "cell_type": "code",
   "execution_count": 86,
   "id": "ce261041",
   "metadata": {},
   "outputs": [
    {
     "data": {
      "image/png": "[encoded data removed]",
      "text/plain": [
       "<Figure size 432x288 with 1 Axes>"
      ]
     },
     "metadata": {
      "needs_background": "light"
     },
     "output_type": "display_data"
    },
    {
     "data": {
      "image/png": "[encoded data removed]",
      "text/plain": [
       "<Figure size 432x288 with 1 Axes>"
      ]
     },
     "metadata": {
      "needs_background": "light"
     },
     "output_type": "display_data"
    },
    {
     "data": {
      "image/png": "[encoded data removed]",
      "text/plain": [
       "<Figure size 432x288 with 1 Axes>"
      ]
     },
     "metadata": {
      "needs_background": "light"
     },
     "output_type": "display_data"
    }
   ],
   "source": [
    "figs(Lenths,member=1)"
   ]
  },
  {
   "cell_type": "markdown",
   "id": "a054700c",
   "metadata": {},
   "source": [
    " ------------------------------------------------------------------------------------------------------------------------------\n",
    "## END"
   ]
  },
  {
   "cell_type": "code",
   "execution_count": null,
   "id": "49448615",
   "metadata": {},
   "outputs": [],
   "source": []
  },
  {
   "cell_type": "code",
   "execution_count": null,
   "id": "b53ae573",
   "metadata": {},
   "outputs": [],
   "source": []
  }
 ],
 "metadata": {
  "interpreter": {
   "hash": "41fde19512eb9f2a9e79e637d803af6c177bafd577460a8567d0975b07552a44"
  },
  "kernelspec": {
   "display_name": "Python 3.9.6 64-bit",
   "name": "python3"
  },
  "language_info": {
   "codemirror_mode": {
    "name": "ipython",
    "version": 3
   },
   "file_extension": ".py",
   "mimetype": "text/x-python",
   "name": "python",
   "nbconvert_exporter": "python",
   "pygments_lexer": "ipython3",
   "version": "3.9.6"
  }
 },
 "nbformat": 4,
 "nbformat_minor": 5
}
