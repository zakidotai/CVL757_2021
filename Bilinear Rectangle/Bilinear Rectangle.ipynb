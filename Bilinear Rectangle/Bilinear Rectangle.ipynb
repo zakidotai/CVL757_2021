{
 "cells": [
  {
   "cell_type": "code",
   "execution_count": 349,
   "metadata": {},
   "outputs": [],
   "source": [
    "import numpy as np\n",
    "import scipy as sp\n",
    "from sympy import *"
   ]
  },
  {
   "cell_type": "code",
   "execution_count": 350,
   "metadata": {},
   "outputs": [],
   "source": [
    "# def I(BD):\n",
    "#     BDI=np.zeros(BD.shape)\n",
    "#     for i in range(BD.shape[0]):\n",
    "#         for j in range(BD.shape[1]):\n",
    "#             # print(dblquad(lambda t,x : BD[i,j],0,0.5,0,0.5))\n",
    "#             BDI[i,j]= dblquad(lambda t,x : BD[i,j],-1,1,-1,1)[0]\n",
    "#     return BDI"
   ]
  },
  {
   "cell_type": "code",
   "execution_count": null,
   "metadata": {},
   "outputs": [],
   "source": []
  },
  {
   "cell_type": "code",
   "execution_count": 351,
   "metadata": {},
   "outputs": [],
   "source": [
    "conec=np.array([ [1,2,5,4],[2,3,6,5]])-1\n",
    "coords=np.array([[0,0],[0.25,0],[0.5,0],[0,0.25],[0.25,0.25],[0.5,0.25] ])\n",
    "\n",
    "nEle=conec.shape[0]\n",
    "nodes=coords.shape[0]\n",
    "\n",
    "dof_seq=np.array([3,4,5,6,9,10,11,12,1,2,7,8])-1\n",
    "free_dof=8\n",
    "\n",
    "\n",
    "E=210e6\n",
    "mu=0.3\n",
    "h=0.025"
   ]
  },
  {
   "cell_type": "code",
   "execution_count": 352,
   "metadata": {},
   "outputs": [],
   "source": [
    "#total dofs\n",
    "\n",
    "def dofs(nodes):\n",
    "    dof=np.zeros((nodes,2),dtype=int)\n",
    "    for i in range(nodes):\n",
    "        dof[i]=[2*i, 2*i+1]\n",
    "    return dof\n",
    "\n",
    "dof=dofs(nodes)\n",
    "\n"
   ]
  },
  {
   "cell_type": "code",
   "execution_count": 353,
   "metadata": {},
   "outputs": [],
   "source": [
    "#labels\n",
    "dof_label=np.zeros((nEle,8),dtype=int)\n",
    "for i in range(nEle):\n",
    "    pp=dof[conec[i,0]]\n",
    "    qq=dof[conec[i,1]]\n",
    "    rr=dof[conec[i,2]]\n",
    "    ss=dof[conec[i,3]]\n",
    "    dof_label[i]=np.hstack((pp,qq,rr,ss))#.reshape(1,8)"
   ]
  },
  {
   "cell_type": "code",
   "execution_count": 354,
   "metadata": {},
   "outputs": [],
   "source": [
    "#elecorrdinates\n",
    "def elecord(coords,conec):\n",
    "    elecords=np.zeros((nEle,4,2))\n",
    "    for i in range(nEle):\n",
    "        for j in range(conec.shape[1]):\n",
    "            elecords[i][j]=coords[conec[i,j]]\n",
    "\n",
    "    return elecords\n",
    "\n",
    "elecords=elecord(coords,conec)"
   ]
  },
  {
   "cell_type": "code",
   "execution_count": 355,
   "metadata": {},
   "outputs": [],
   "source": [
    "# def area(BD):\n",
    "#     BDI=np.array(BD.shape)\n",
    "#     for i in range(BD.shape[0]):\n",
    "#         for j in range(BD.shape[-1]):\n",
    "#             BDI[i,j]=integrate(BD[i,j],(s,-1,1),(t,-1,1))\n",
    "\n",
    "#     return BDI\n"
   ]
  },
  {
   "cell_type": "code",
   "execution_count": 356,
   "metadata": {},
   "outputs": [
    {
     "data": {
      "text/plain": [
       "1"
      ]
     },
     "execution_count": 356,
     "metadata": {},
     "output_type": "execute_result"
    }
   ],
   "source": [
    "#element stiffness for bilinear rectangle\n",
    "\n",
    "def eleStiffness(elecords,E,mu,h,eleNum,ps=1):\n",
    "    E=210e6\n",
    "    coordinates= elecords[eleNum].flatten()\n",
    "    print(coordinates)\n",
    "    x1,y1,x2,y2,x3,y3,x4,y4=coordinates\n",
    "    A1=( x1*(y2-y3) + x2*(y3-y1) +x3 *(y1-y2)/2)\n",
    "    A2=( x1*(y2-y4) + x3*(y4-y1) +x4 *(y3-y3)/2)\n",
    "    A=A1+A2\n",
    "    s=symbols('s')\n",
    "    t=symbols('t')\n",
    "    a = (y1*(s-1)+y2*( -1 -s)+y3*(1+s)+y4*(1 -s))/4 \n",
    "    b = (y1*(t -1)+y2*(1 -t)+y3*(1+t)+y4*( -1 -t))/4 \n",
    "    c = (x1*(t -1)+x2*(1 -t)+x3*(1+t)+x4*( -1 -t))/4 \n",
    "    d = (x1*(s -1)+x2*( -1 -s)+x3*(1+s)+x4*(1 -s))/4 \n",
    "\n",
    "    B1 = np.array([[a*(t -1)/4 -b*(s -1)/4 ,0 ],[0, c*(s -1)/4 -d*(t -1)/4 ],[c*(s -1)/4 -d*(t -1)/4, a*(t -1)/4 -b*(s -1)/4] ])\n",
    "                    \n",
    "    B2 = np.array([[a*(1 -t)/4 -b*( -1 -s)/4 ,0],  [0, c*( -1 -s)/4 -d*(1 -t)/4], [ c*( -1 -s)/4 -d*(1 -t)/4, a*(1 -t)/4 -b*( -1 -s)/4]] )\n",
    "\n",
    "    B3 =  np.array([[a*(t+1)/4 -b*(s+1)/4, 0], [0, c*(s+1)/4 -d*(t+1)/4 ], [c*(s+1)/4-d*(t+1)/4, a*(t+1)/4 -b*(s+1)/4]] )\n",
    "    \n",
    "    \n",
    "    B4 = np.array( [[a*( -1 -t)/4 -b*(1 -s)/4, 0], [0, c*(1 -s)/4 -d*( -1 -t)/4], [c*(1 -s)/4 -d*( -1 -t)/4,a*( -1 -t)/4 -b*(1 -s)/4]])\n",
    "    \n",
    "    Bfirst = np.hstack((B1,B2,B3,B4) )\n",
    "    Jfirst = np.array([[0, 1 -t, t -s ,s -1],[ t -1, 0, s+1,  -s -t ],\n",
    "                      [s -t,  -s -1, 0, t+1] , [1 -s, s+t , -t -1, 0]])\n",
    "\n",
    "    M=np.array([x1,x2,x3,x4])\n",
    "    N=np.array([y1,y2,y3,y4])/8\n",
    "    \n",
    "    J=M.T @ Jfirst @ N\n",
    "    \n",
    "    B=Bfirst/J\n",
    "    if ps==1: #plane stresns condition\n",
    "        D=(E/(1-mu*mu)) * np.array([ [1,mu,0],[mu,1,0],[0,0,(1-mu)/2]])\n",
    "    elif ps==2: #plane stess condition\n",
    "        D=(E/((1+mu)*(1-2*mu))) * np.array([ [1-mu,mu,0],[mu,1-mu,0],[ 0,0,(1-2*mu)/2] ])\n",
    "        \n",
    "    # print(B.shape)\n",
    "    BD=J* B.T @ D @ B\n",
    "    # print(BD)\n",
    "    # print(type(BD[5,5]))\n",
    "    # print(BD[5,5])\n",
    "    BDI=np.zeros(BD.shape)\n",
    "    # BDI=area(BD)\n",
    "    for i in range(BD.shape[0]):\n",
    "        for j in range(BD.shape[1]):\n",
    "            BDI[i,j]=integrate(BD[i,j],(s,-1,1),(t,-1,1))\n",
    "    # print(BD[5,5])\n",
    "    # print(BDI)\n",
    "    return h*BDI\n",
    "i\n",
    "\n",
    "\n",
    "    \n",
    "\n"
   ]
  },
  {
   "cell_type": "code",
   "execution_count": 357,
   "metadata": {},
   "outputs": [
    {
     "name": "stdout",
     "output_type": "stream",
     "text": [
      "[0.   0.   0.25 0.   0.25 0.25 0.   0.25]\n",
      "[0.25 0.   0.5  0.   0.5  0.25 0.25 0.25]\n"
     ]
    }
   ],
   "source": [
    "km=np.zeros((nEle,8,8))\n",
    "for i in range(nEle):\n",
    "    km[i]=eleStiffness(elecords,E,mu,h,i,ps=1)\n",
    "\n"
   ]
  },
  {
   "cell_type": "code",
   "execution_count": 358,
   "metadata": {},
   "outputs": [
    {
     "name": "stdout",
     "output_type": "stream",
     "text": [
      "[[[ 2.5962  0.9375 -1.5865 -0.0721 -1.2981 -0.9375  0.2885  0.0721]\n",
      "  [ 0.9375  2.5962  0.0721  0.2885 -0.9375 -1.2981 -0.0721 -1.5865]\n",
      "  [-1.5865  0.0721  2.5962 -0.9375  0.2885 -0.0721 -1.2981  0.9375]\n",
      "  [-0.0721  0.2885 -0.9375  2.5962  0.0721 -1.5865  0.9375 -1.2981]\n",
      "  [-1.2981 -0.9375  0.2885  0.0721  2.5962  0.9375 -1.5865 -0.0721]\n",
      "  [-0.9375 -1.2981 -0.0721 -1.5865  0.9375  2.5962  0.0721  0.2885]\n",
      "  [ 0.2885 -0.0721 -1.2981  0.9375 -1.5865  0.0721  2.5962 -0.9375]\n",
      "  [ 0.0721 -1.5865  0.9375 -1.2981 -0.0721  0.2885 -0.9375  2.5962]]\n",
      "\n",
      " [[ 2.5962  0.9375 -1.5865 -0.0721 -1.2981 -0.9375  0.2885  0.0721]\n",
      "  [ 0.9375  2.5962  0.0721  0.2885 -0.9375 -1.2981 -0.0721 -1.5865]\n",
      "  [-1.5865  0.0721  2.5962 -0.9375  0.2885 -0.0721 -1.2981  0.9375]\n",
      "  [-0.0721  0.2885 -0.9375  2.5962  0.0721 -1.5865  0.9375 -1.2981]\n",
      "  [-1.2981 -0.9375  0.2885  0.0721  2.5962  0.9375 -1.5865 -0.0721]\n",
      "  [-0.9375 -1.2981 -0.0721 -1.5865  0.9375  2.5962  0.0721  0.2885]\n",
      "  [ 0.2885 -0.0721 -1.2981  0.9375 -1.5865  0.0721  2.5962 -0.9375]\n",
      "  [ 0.0721 -1.5865  0.9375 -1.2981 -0.0721  0.2885 -0.9375  2.5962]]]\n"
     ]
    }
   ],
   "source": [
    "np.set_printoptions(suppress=True,precision=4)\n",
    "print(km/1000000)"
   ]
  },
  {
   "cell_type": "code",
   "execution_count": 359,
   "metadata": {},
   "outputs": [],
   "source": [
    "K=np.zeros((2*nodes,2*nodes))\n",
    "for i in range(nEle):\n",
    "    for j in range(km.shape[1]):\n",
    "        for k in range(km.shape[-1]):\n",
    "            x=dof_label[i,k]\n",
    "            y=dof_label[i,j]\n",
    "            K[x,y]+=km[i][j][k]\n",
    "\n",
    "# for i in range(nEle):\n",
    "#     for j in range(km.shape[1]):\n",
    "#         for k in range(km.shape[2]):\n",
    "#              x=dof_label[i,k]\n",
    "#              y=dof_label[i,j]\n",
    "#              K[x,y]+=km[i][j][k]"
   ]
  },
  {
   "cell_type": "code",
   "execution_count": 360,
   "metadata": {},
   "outputs": [
    {
     "name": "stdout",
     "output_type": "stream",
     "text": [
      "[[ 2.6   0.94 -1.59 -0.07  0.    0.    0.29  0.07 -1.3  -0.94  0.    0.  ]\n",
      " [ 0.94  2.6   0.07  0.29  0.    0.   -0.07 -1.59 -0.94 -1.3   0.    0.  ]\n",
      " [-1.59  0.07  5.19  0.   -1.59 -0.07 -1.3   0.94  0.58  0.   -1.3  -0.94]\n",
      " [-0.07  0.29  0.    5.19  0.07  0.29  0.94 -1.3   0.   -3.17 -0.94 -1.3 ]\n",
      " [ 0.    0.   -1.59  0.07  2.6  -0.94  0.    0.   -1.3   0.94  0.29 -0.07]\n",
      " [ 0.    0.   -0.07  0.29 -0.94  2.6   0.    0.    0.94 -1.3   0.07 -1.59]\n",
      " [ 0.29 -0.07 -1.3   0.94  0.    0.    2.6  -0.94 -1.59  0.07  0.    0.  ]\n",
      " [ 0.07 -1.59  0.94 -1.3   0.    0.   -0.94  2.6  -0.07  0.29  0.    0.  ]\n",
      " [-1.3  -0.94  0.58  0.   -1.3   0.94 -1.59 -0.07  5.19  0.   -1.59  0.07]\n",
      " [-0.94 -1.3   0.   -3.17  0.94 -1.3   0.07  0.29  0.    5.19 -0.07  0.29]\n",
      " [ 0.    0.   -1.3  -0.94  0.29  0.07  0.    0.   -1.59 -0.07  2.6   0.94]\n",
      " [ 0.    0.   -0.94 -1.3  -0.07 -1.59  0.    0.    0.07  0.29  0.94  2.6 ]]\n"
     ]
    }
   ],
   "source": [
    "np.set_printoptions(suppress=True,precision=2)\n",
    "print(K/1000000)"
   ]
  },
  {
   "cell_type": "code",
   "execution_count": 361,
   "metadata": {},
   "outputs": [
    {
     "name": "stdout",
     "output_type": "stream",
     "text": [
      "[[-9.375  ]\n",
      " [-1.97414]\n",
      " [-0.     ]\n",
      " [-0.     ]\n",
      " [ 9.375  ]\n",
      " [-0.     ]\n",
      " [-9.375  ]\n",
      " [ 1.97414]\n",
      " [-0.     ]\n",
      " [ 0.     ]\n",
      " [ 9.375  ]\n",
      " [ 0.     ]]\n",
      "\n",
      "\n",
      "[[ 0.     ]\n",
      " [ 0.     ]\n",
      " [ 0.34395]\n",
      " [ 0.06318]\n",
      " [ 0.703  ]\n",
      " [ 0.05032]\n",
      " [ 0.     ]\n",
      " [ 0.     ]\n",
      " [ 0.34395]\n",
      " [-0.06318]\n",
      " [ 0.703  ]\n",
      " [-0.05032]]\n"
     ]
    }
   ],
   "source": [
    "#post processing\n",
    "np.set_printoptions(suppress=True,precision=5)\n",
    "F=np.zeros((2*nodes,1))\n",
    "U=np.zeros(np.shape(F))\n",
    "GlobalF=np.zeros(np.shape(F))\n",
    "GlobalU=np.zeros(np.shape(U))\n",
    "\n",
    "F[5-1]=9.375\n",
    "F[11-1]=9.375\n",
    "\n",
    "xx=free_dof\n",
    "\n",
    "uu=dof_seq[:xx]\n",
    "F=F[dof_seq]\n",
    "\n",
    "fp=F[:xx]\n",
    "\n",
    "K11=K[np.ix_(uu,uu)]\n",
    "\n",
    "u_disp=np.linalg.inv(K11) @ fp\n",
    "\n",
    "U[:xx]=u_disp\n",
    "\n",
    "GlobalU[dof_seq]=U\n",
    "GlobalF=K@GlobalU\n",
    "\n",
    "print(GlobalF)\n",
    "print('\\n')\n",
    "\n",
    "print(GlobalU*1e5)"
   ]
  },
  {
   "cell_type": "code",
   "execution_count": 341,
   "metadata": {},
   "outputs": [
    {
     "ename": "SyntaxError",
     "evalue": "invalid syntax (Temp/ipykernel_3696/2845899866.py, line 4)",
     "output_type": "error",
     "traceback": [
      "\u001b[1;36m  File \u001b[1;32m\"C:\\Users\\meerm\\AppData\\Local\\Temp/ipykernel_3696/2845899866.py\"\u001b[1;36m, line \u001b[1;32m4\u001b[0m\n\u001b[1;33m    for k in range()\u001b[0m\n\u001b[1;37m                    ^\u001b[0m\n\u001b[1;31mSyntaxError\u001b[0m\u001b[1;31m:\u001b[0m invalid syntax\n"
     ]
    }
   ],
   "source": []
  },
  {
   "cell_type": "code",
   "execution_count": 370,
   "metadata": {},
   "outputs": [],
   "source": [
    "np.set_printoptions(suppress=False,precision=5)\n",
    "u_mem=np.zeros((nEle,8))\n",
    "\n",
    "for i in range(nEle):\n",
    "    for j in range(8):\n",
    "        u_mem[i][j]=GlobalU[dof_label[i,j]]"
   ]
  },
  {
   "cell_type": "code",
   "execution_count": 368,
   "metadata": {},
   "outputs": [
    {
     "name": "stdout",
     "output_type": "stream",
     "text": [
      "[[ 0.00000e+00  3.43954e-06]\n",
      " [ 0.00000e+00  6.31810e-07]\n",
      " [ 3.43954e-06  7.03005e-06]\n",
      " [ 6.31810e-07  5.03211e-07]\n",
      " [ 3.43954e-06  7.03005e-06]\n",
      " [-6.31810e-07 -5.03211e-07]\n",
      " [ 0.00000e+00  3.43954e-06]\n",
      " [ 0.00000e+00 -6.31810e-07]]\n"
     ]
    }
   ],
   "source": [
    "print(u_mem.T)"
   ]
  },
  {
   "cell_type": "code",
   "execution_count": null,
   "metadata": {},
   "outputs": [],
   "source": [
    "# for i in range(nEle):\n",
    "#     for j in range(8):\n",
    "#         u_mem[i][j]=GlobalU[dof_label[i,j]]\n",
    "  \n",
    "        # zz.append(GlobalU[dof_label[i,j]])\n",
    "    # u_mem[i]=np.array(zz)"
   ]
  }
 ],
 "metadata": {
  "interpreter": {
   "hash": "41fde19512eb9f2a9e79e637d803af6c177bafd577460a8567d0975b07552a44"
  },
  "kernelspec": {
   "display_name": "Python 3.9.6 64-bit",
   "language": "python",
   "name": "python3"
  },
  "language_info": {
   "codemirror_mode": {
    "name": "ipython",
    "version": 3
   },
   "file_extension": ".py",
   "mimetype": "text/x-python",
   "name": "python",
   "nbconvert_exporter": "python",
   "pygments_lexer": "ipython3",
   "version": "3.9.6"
  },
  "orig_nbformat": 4
 },
 "nbformat": 4,
 "nbformat_minor": 2
}
