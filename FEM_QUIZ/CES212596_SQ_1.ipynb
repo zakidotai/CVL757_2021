{
  "nbformat": 4,
  "nbformat_minor": 5,
  "metadata": {
    "colab": {
      "name": "Quiz.ipynb",
      "provenance": [],
      "collapsed_sections": []
    },
    "language_info": {
      "name": "python"
    },
    "kernelspec": {
      "name": "python3",
      "display_name": "Python 3"
    }
  },
  "cells": [
    {
      "cell_type": "code",
      "metadata": {
        "id": "XiI7nAVVBxDe"
      },
      "source": [
        "import numpy as np\n",
        "E=210000000\n",
        "v=0.3\n",
        "t=0.025\n",
        "w=3000"
      ],
      "id": "XiI7nAVVBxDe",
      "execution_count": null,
      "outputs": []
    },
    {
      "cell_type": "code",
      "metadata": {
        "id": "ICklZ9uzFhjs"
      },
      "source": [
        "xi,yi = (0,0)\n",
        "xj,yj = (0.5,0.25)\n",
        "xm,ym = (0,0.25)\n",
        "\n",
        "xp,yp = (0,0)\n",
        "xq,yq = (0.5,0)\n",
        "xr,yr = (0.5,0.25)\n",
        "\n",
        "A1 = (xi*(yj-ym)+xj*(ym-yi)+xm*(yi-yj))/2\n",
        "A2 = (xp*(yq-yr)+xq*(yr-yp)+xr*(yp-yq))/2\n"
      ],
      "id": "ICklZ9uzFhjs",
      "execution_count": null,
      "outputs": []
    },
    {
      "cell_type": "code",
      "metadata": {
        "id": "LQQ0ICZSHMnL"
      },
      "source": [
        "B1 = (np.array([yj-ym,0,ym-yi,0,yi-yj,0,0,xm-xj,0,xi-xm,0,xj-xi,xm-xj,yj-ym,xi-xm,ym-yi,xj-xi,yi-yj]).reshape((3,6)))/(2*A1)\n",
        "B2 = (np.array([yq-yr,0,yr-yp,0,yp-yq,0,0,xr-xq,0,xp-xr,0,xq-xp,xr-xq,yq-yr,xp-xr,yr-yp,xq-xp,yp-yq]).reshape((3,6)))/(2*A2)"
      ],
      "id": "LQQ0ICZSHMnL",
      "execution_count": null,
      "outputs": []
    },
    {
      "cell_type": "code",
      "metadata": {
        "id": "DWoNQkdXI4RP"
      },
      "source": [
        "D = (E/(1-v**2)) * (np.array([1,v,0,v,1,0,0,0,(1-v)/2]).reshape((3,3)))"
      ],
      "id": "DWoNQkdXI4RP",
      "execution_count": null,
      "outputs": []
    },
    {
      "cell_type": "code",
      "metadata": {
        "id": "XF9ohUWEJraQ"
      },
      "source": [
        "B1_T = B1.transpose()\n",
        "k1 = t*A1*B1_T\n",
        "k11=np.matmul(k1,D)\n",
        "k111=np.matmul(k11,B1)\n",
        "\n",
        "B2_T = B2.transpose()\n",
        "k2 = t*A2*B2_T\n",
        "k22=np.matmul(k2,D)\n",
        "k222=np.matmul(k22,B2)"
      ],
      "id": "XF9ohUWEJraQ",
      "execution_count": null,
      "outputs": []
    },
    {
      "cell_type": "code",
      "metadata": {
        "colab": {
          "base_uri": "https://localhost:8080/"
        },
        "id": "AKEdubtQKjUy",
        "outputId": "3441c49a-5b2a-42d9-b9c0-d1f8e83dee39"
      },
      "source": [
        "tsm = np.zeros((8,8))\n",
        "tsm[0:6,0:6] += k111\n",
        "tsm[]"
      ],
      "id": "AKEdubtQKjUy",
      "execution_count": null,
      "outputs": [
        {
          "output_type": "execute_result",
          "data": {
            "text/plain": [
              "array([[0., 0., 0., 0., 0., 0., 0., 0.],\n",
              "       [0., 0., 0., 0., 0., 0., 0., 0.],\n",
              "       [0., 0., 0., 0., 0., 0., 0., 0.],\n",
              "       [0., 0., 0., 0., 0., 0., 0., 0.],\n",
              "       [0., 0., 0., 0., 0., 0., 0., 0.],\n",
              "       [0., 0., 0., 0., 0., 0., 0., 0.],\n",
              "       [0., 0., 0., 0., 0., 0., 0., 0.],\n",
              "       [0., 0., 0., 0., 0., 0., 0., 0.]])"
            ]
          },
          "metadata": {},
          "execution_count": 19
        }
      ]
    },
    {
      "cell_type": "code",
      "metadata": {
        "id": "iRogmv-uMlWr"
      },
      "source": [
        ""
      ],
      "id": "iRogmv-uMlWr",
      "execution_count": null,
      "outputs": []
    }
  ]
}