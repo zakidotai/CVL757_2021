{
 "cells": [
  {
   "cell_type": "code",
   "execution_count": 15,
   "id": "6621d162",
   "metadata": {},
   "outputs": [
    {
     "ename": "SyntaxError",
     "evalue": "invalid syntax (<ipython-input-15-23d3576f6701>, line 27)",
     "output_type": "error",
     "traceback": [
      "\u001b[1;36m  File \u001b[1;32m\"<ipython-input-15-23d3576f6701>\"\u001b[1;36m, line \u001b[1;32m27\u001b[0m\n\u001b[1;33m    Bt=np.transpose(B)\u001b[0m\n\u001b[1;37m    ^\u001b[0m\n\u001b[1;31mSyntaxError\u001b[0m\u001b[1;31m:\u001b[0m invalid syntax\n"
     ]
    }
   ],
   "source": [
    "import numpy as np\n",
    "te=2\n",
    "tn=4\n",
    "x1=[0,0]\n",
    "x2=[0.5,0.5]\n",
    "x3=[0,0.5]\n",
    "\n",
    "y1=[0,0]\n",
    "y2=[0.25,0]\n",
    "y3=[0.25,0.25]\n",
    "E=210e6\n",
    "pr=0.3\n",
    "#pr=0.3\n",
    "t=25\n",
    "def kel(E,pr,t,x1,y1,x2,y2,x3,y3,Bt):\n",
    "    A =(x1*(y2-y3)+x2*(y3-y1)+x3*(y1-y2))/2\n",
    "    betai =y2-y3\n",
    "    betaj =y3-y1\n",
    "    betam =y1-y2\n",
    "    gammai =x3-x2\n",
    "    gammaj = x1-x3\n",
    "    gammam = x2-x1\n",
    "    B = np.array[[betai,0,betaj,0,betam,0],\n",
    "          [0,gammai,0,gammaj,0,gammam], \n",
    "          [gammai,betai,gammaj,betaj,gammam,betam]/(2*A)\n",
    "                 \n",
    "    Bt=np.transpose(B)            \n",
    "\n",
    "    D = (E/(1-NU*NU))*[[1 ,NU ,0] ,[NU ,1, 0],[0, 0 ,(1–NU)/2]]\n",
    "    \n",
    "    return(np.matmul(t,A,Bt,D,B))\n",
    "print(kel)\n",
    "\n",
    "\n"
   ]
  },
  {
   "cell_type": "code",
   "execution_count": null,
   "id": "5068968b",
   "metadata": {},
   "outputs": [],
   "source": []
  }
 ],
 "metadata": {
  "kernelspec": {
   "display_name": "Python 3",
   "language": "python",
   "name": "python3"
  },
  "language_info": {
   "codemirror_mode": {
    "name": "ipython",
    "version": 3
   },
   "file_extension": ".py",
   "mimetype": "text/x-python",
   "name": "python",
   "nbconvert_exporter": "python",
   "pygments_lexer": "ipython3",
   "version": "3.8.8"
  }
 },
 "nbformat": 4,
 "nbformat_minor": 5
}
