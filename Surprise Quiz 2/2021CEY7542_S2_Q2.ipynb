{
 "cells": [
  {
   "cell_type": "markdown",
   "metadata": {},
   "source": [
    "# Surprise Test_2 Question_2 \n",
    "\n",
    "\n",
    "\n"
   ]
  },
  {
   "cell_type": "code",
   "execution_count": 2,
   "metadata": {},
   "outputs": [],
   "source": [
    "import numpy as np\n",
    "np.set_printoptions(suppress=True)\n",
    "E=210e6 #kN/m^2\n",
    "mu=0.3\n",
    "t=0.025 #m\n",
    "w=3000 #kN/m^2"
   ]
  },
  {
   "cell_type": "markdown",
   "metadata": {},
   "source": [
    "#### Stiffness Matrix Of Triangular Elements "
   ]
  },
  {
   "cell_type": "code",
   "execution_count": 4,
   "metadata": {},
   "outputs": [],
   "source": [
    "##coordinates of nodes \n",
    "Coords=np.array([[0,0],[0.5,0],[0.5,0.25],[0,0.25],[0.25,0.125]])\n",
    "\n",
    "#nodes of each triangular element in anticlockwise fashion\n",
    "Conec=np.array([[1,5,4],[5,3,4],[5,2,3],[1,2,5]])-1     \n",
    "\n",
    "#number of traingular elements\n",
    "nElement=Conec.shape[0]\n",
    "\n",
    "#total number of DOfs\n",
    "ndof=Coords.shape[0]*2\n",
    "\n",
    "#dofs corresponding to each node\n",
    "dofs=np.array([(1,2),(3,4),(5,6),(7,8),(9,10)])-1\n",
    "\n",
    "#packaging the DOFs as seqence of known DOFs and Unknown Dofs.. dof_seq=[U_unknown U_known]\n",
    "dof_seq=np.array([1,2,7,8,3,4,5,6,9,10])-1\n",
    "\n",
    "#total number of free dof's\n",
    "free_dof=6\n",
    "\n"
   ]
  },
  {
   "cell_type": "code",
   "execution_count": 9,
   "metadata": {},
   "outputs": [],
   "source": [
    "##ElementCords contains the coordinates of each node of triangular element\n",
    "## a typical item represents (x,y) of ith, jth and mth node\n",
    "\n",
    "ElementCords=np.ndarray((nElement, 3,2))  #Order imp: a typical item represents (x,y) of three nodes of that triangular element in anticlockwise\n",
    "for i in range(Conec.shape[0]):\n",
    "    for j in range(Conec.shape[1]):\n",
    "        ElementCords[i,j,0]=Coords[Conec[i][j]][0]\n",
    "        ElementCords[i,j,1]=Coords[Conec[i][j]][1]"
   ]
  },
  {
   "cell_type": "code",
   "execution_count": 10,
   "metadata": {
    "scrolled": true
   },
   "outputs": [
    {
     "name": "stdout",
     "output_type": "stream",
     "text": [
      "[[[0.    0.   ]\n",
      "  [0.25  0.125]\n",
      "  [0.    0.25 ]]\n",
      "\n",
      " [[0.25  0.125]\n",
      "  [0.5   0.25 ]\n",
      "  [0.    0.25 ]]\n",
      "\n",
      " [[0.25  0.125]\n",
      "  [0.5   0.   ]\n",
      "  [0.5   0.25 ]]\n",
      "\n",
      " [[0.    0.   ]\n",
      "  [0.5   0.   ]\n",
      "  [0.25  0.125]]]\n"
     ]
    }
   ],
   "source": [
    "print(ElementCords)"
   ]
  },
  {
   "cell_type": "markdown",
   "metadata": {},
   "source": [
    "### Calculating the individual element stiffness\n",
    "- LinearTriangleElementStiffness: (LTES)"
   ]
  },
  {
   "cell_type": "code",
   "execution_count": 12,
   "metadata": {},
   "outputs": [],
   "source": [
    "\n",
    "def LTES(E,mu,t,p,EleNumber=1):\n",
    "    \n",
    "    \"\"\"LinearTriangleElementStiffnes: E=Elasticity modulus, mu=poissions ratio, t=thickness, \n",
    "                                    p=[0 for plane stress, 1 for plane strain]\n",
    "                                    EleNumber= element number for which the stifness is to be calcuated\"\"\"\n",
    "    \n",
    "    xi,yi,xj,yj,xm,ym=ElementCords[i].flatten()\n",
    "    A = (xi*(yj-ym)+ xj*(ym-yi) + xm*(yi-yj))/2\n",
    "    bi = yj-ym\n",
    "    bj = ym-yi\n",
    "    bm = yi-yj\n",
    "    gi = xm-xj\n",
    "    gj = xi-xm\n",
    "    gm = xj-xi\n",
    "    B=np.asarray([[bi, 0 ,bj, 0, bm, 0],\n",
    "                  [0, gi, 0, gj, 0 ,gm],\n",
    "                  [gi,bi,gj,bj,gm,bm]])\n",
    "\n",
    "    B=B*(1/(2*A))\n",
    "    if p==1:    #plane stress condition\n",
    "        D=(E/(1-mu*mu))*np.asarray([[1,mu,0],[mu,1,0],[0,0,(1-mu)/2]])\n",
    "    elif p==2: #plane strain condition\n",
    "        D=(E/((1+mu)*(1-2*mu)))*np.asarray([[1-mu,mu,0],[mu,1-mu,0],[0,0,(1-2*mu)/2]])\n",
    "    \n",
    "    return t*A*np.dot(B.T,np.dot(D,B))\n",
    "    "
   ]
  },
  {
   "cell_type": "code",
   "execution_count": 14,
   "metadata": {},
   "outputs": [
    {
     "name": "stdout",
     "output_type": "stream",
     "text": [
      "10e4*\n",
      " [[[ 173.08   93.75 -144.23 -100.96  -28.85    7.21]\n",
      "  [  93.75  313.7   -86.54  -50.48   -7.21 -263.22]\n",
      "  [-144.23  -86.54  288.46    0.   -144.23   86.54]\n",
      "  [-100.96  -50.48    0.    100.96  100.96  -50.48]\n",
      "  [ -28.85   -7.21 -144.23  100.96  173.08  -93.75]\n",
      "  [   7.21 -263.22   86.54  -50.48  -93.75  313.7 ]]\n",
      "\n",
      " [[ 403.85    0.   -201.92 -100.96 -201.92  100.96]\n",
      "  [   0.   1153.85  -86.54 -576.92   86.54 -576.92]\n",
      "  [-201.92  -86.54  173.08   93.75   28.85   -7.21]\n",
      "  [-100.96 -576.92   93.75  313.7     7.21  263.22]\n",
      "  [-201.92   86.54   28.85    7.21  173.08  -93.75]\n",
      "  [ 100.96 -576.92   -7.21  263.22  -93.75  313.7 ]]\n",
      "\n",
      " [[ 288.46    0.   -144.23   86.54 -144.23  -86.54]\n",
      "  [   0.    100.96  100.96  -50.48 -100.96  -50.48]\n",
      "  [-144.23  100.96  173.08  -93.75  -28.85   -7.21]\n",
      "  [  86.54  -50.48  -93.75  313.7     7.21 -263.22]\n",
      "  [-144.23 -100.96  -28.85    7.21  173.08   93.75]\n",
      "  [ -86.54  -50.48   -7.21 -263.22   93.75  313.7 ]]\n",
      "\n",
      " [[ 173.08   93.75   28.85   -7.21 -201.92  -86.54]\n",
      "  [  93.75  313.7     7.21  263.22 -100.96 -576.92]\n",
      "  [  28.85    7.21  173.08  -93.75 -201.92   86.54]\n",
      "  [  -7.21  263.22  -93.75  313.7   100.96 -576.92]\n",
      "  [-201.92 -100.96 -201.92  100.96  403.85    0.  ]\n",
      "  [ -86.54 -576.92   86.54 -576.92    0.   1153.85]]]\n"
     ]
    }
   ],
   "source": [
    "#calculate individual element stiffness matrix and store it in single array Km\n",
    "Km=np.ndarray((nElement,6,6))\n",
    "for i in range(nElement):\n",
    "    Km[i]=LTES(E,mu,t,1,EleNumber=i)\n",
    "print(f'10e4*\\n {np.round(Km/10000,2)}')"
   ]
  },
  {
   "cell_type": "markdown",
   "metadata": {},
   "source": [
    "### Global Stiffness Matrix \n",
    "- LinearTriangleAssemble: (LTA)"
   ]
  },
  {
   "cell_type": "code",
   "execution_count": 15,
   "metadata": {},
   "outputs": [],
   "source": [
    "K = np.zeros((8, 8))\n",
    "#Function calcuates GLOBAL Stiffness matrix\n",
    "\n",
    "def LTA(K :np.ndarray, k, nodes):\n",
    "    i,j,m=nodes\n",
    "    \n",
    "    K[2*i-1-1, 2*i-1-1] = K[2*i-1-1, 2*i-1-1] + k[1-1, 1-1]\n",
    "    K[2*i-1-1, 2*i-1] = K[2*i-1-1,  2*i-1] + k[1-1, 2-1]\n",
    "    K[2*i-1-1, 2*j-1-1] = K[2*i-1-1,  2*j-1-1] + k[1-1, 3-1]\n",
    "    K[2*i-1-1,  2*j-1] = K[2*i-1-1,  2*j-1] + k[1-1, 4-1]\n",
    "    K[2*i-1-1,  2*m-1-1] = K[2*i-1-1,  2*m-1-1] + k[1-1, 5-1]\n",
    "    K[2*i-1-1,  2*m-1] = K[2*i-1-1,  2*m-1] + k[1-1, 6-1]\n",
    "    K[2*i-1, 2*i-1-1] = K[2*i-1, 2*i-1-1] + k[2-1, 1-1]\n",
    "    K[2*i-1, 2*i-1] = K[2*i-1, 2*i-1] + k[2-1, 2-1]\n",
    "    K[2*i-1, 2*j-1-1] = K[2*i-1, 2*j-1-1] + k[2-1, 3-1]\n",
    "    K[2*i-1, 2*j-1] = K[2*i-1, 2*j-1] + k[2-1, 4-1]\n",
    "    K[2*i-1, 2*m-1-1] = K[2*i-1, 2*m-1-1] + k[2-1, 5-1]\n",
    "    K[2*i-1, 2*m-1] = K[2*i-1, 2*m-1] + k[2-1, 6-1]\n",
    "    K[2*j-1-1, 2*i-1-1] = K[2*j-1-1,  2*i-1-1] + k[3-1, 1-1]\n",
    "    K[2*j-1-1,  2*i-1] = K[2*j-1-1,  2*i-1] + k[3-1, 2-1]\n",
    "    K[2*j-1-1,  2*j-1-1] = K[2*j-1-1,  2*j-1-1] + k[3-1, 3-1]\n",
    "    K[2*j-1-1,  2*j-1] = K[2*j-1-1,  2*j-1] + k[3-1, 4-1]\n",
    "    K[2*j-1-1,  2*m-1-1] = K[2*j-1-1,  2*m-1-1] + k[3-1, 5-1]\n",
    "    K[2*j-1-1,  2*m-1] = K[2*j-1-1, 2*m-1] + k[3-1, 6-1]\n",
    "    K[2*j-1, 2*i-1-1] = K[2*j-1, 2*i-1-1] + k[4-1, 1-1]\n",
    "    K[2*j-1, 2*i-1] = K[2*j-1, 2*i-1] + k[4-1, 2-1]\n",
    "    K[2*j-1, 2*j-1-1] = K[2*j-1, 2*j-1-1] + k[4-1, 3-1]\n",
    "    K[2*j-1, 2*j-1] = K[2*j-1, 2*j-1] + k[4-1, 4-1]\n",
    "    K[2*j-1, 2*m-1-1] = K[2*j-1, 2*m-1-1] + k[4-1, 5-1]\n",
    "    K[2*j-1, 2*m-1] = K[2*j-1, 2*m-1] + k[4-1, 6-1]\n",
    "    K[2*m-1-1,  2*i-1-1] = K[2*m-1-1,  2*i-1-1] + k[5-1, 1-1]\n",
    "    K[2*m-1-1,  2*i-1] = K[2*m-1-1, 2*i-1] + k[5-1, 2-1]\n",
    "    K[2*m-1-1,  2*j-1-1] = K[2*m-1-1,  2*j-1-1] + k[5-1, 3-1]\n",
    "    K[2*m-1-1,  2*j-1] = K[2*m-1-1,  2*j-1] + k[5-1, 4-1]\n",
    "    K[2*m-1-1,  2*m-1-1] = K[2*m-1-1,  2*m-1-1] + k[5-1, 5-1]\n",
    "    K[2*m-1-1, 2*m-1] = K[2*m-1-1,  2*m-1] + k[5-1, 6-1]\n",
    "    K[2*m-1, 2*i-1-1] = K[2*m-1, 2*i-1-1] + k[6-1, 1-1]\n",
    "    K[2*m-1, 2*i-1] = K[2*m-1, 2*i-1] + k[6-1, 2-1]\n",
    "    K[2*m-1, 2*j-1-1] = K[2*m-1, 2*j-1-1] + k[6-1, 3-1]\n",
    "    K[2*m-1, 2*j-1] = K[2*m-1, 2*j-1] + k[6-1, 4-1]\n",
    "    K[2*m-1, 2*m-1-1] = K[2*m-1, 2*m-1-1] + k[6-1, 5-1]\n",
    "    K[2*m-1, 2*m-1] = K[2*m-1, 2*m-1] + k[6-1, 6-1]\n",
    "    \n",
    "    return K\n",
    "    "
   ]
  },
  {
   "cell_type": "code",
   "execution_count": 16,
   "metadata": {},
   "outputs": [
    {
     "name": "stdout",
     "output_type": "stream",
     "text": [
      "GLOBAL MATRIX\n",
      "\n",
      "10e4*\n",
      " [[ 346.1538  187.5      28.8462   -7.2115    0.        0.      -28.8462    7.2115 -346.1538 -187.5   ]\n",
      " [ 187.5     627.4038    7.2115  263.2212    0.        0.       -7.2115 -263.2212 -187.5    -627.4038]\n",
      " [  28.8462    7.2115  346.1538 -187.5     -28.8462   -7.2115    0.        0.     -346.1538  187.5   ]\n",
      " [  -7.2115  263.2212 -187.5     627.4038    7.2115 -263.2212    0.        0.      187.5    -627.4038]\n",
      " [   0.        0.      -28.8462    7.2115  346.1538  187.5      28.8462   -7.2115 -346.1538 -187.5   ]\n",
      " [   0.        0.       -7.2115 -263.2212  187.5     627.4038    7.2115  263.2212 -187.5    -627.4038]\n",
      " [ -28.8462   -7.2115    0.        0.       28.8462    7.2115  346.1538 -187.5    -346.1538  187.5   ]\n",
      " [   7.2115 -263.2212    0.        0.       -7.2115  263.2212 -187.5     627.4038  187.5    -627.4038]\n",
      " [-346.1538 -187.5    -346.1538  187.5    -346.1538 -187.5    -346.1538  187.5    1384.6154    0.    ]\n",
      " [-187.5    -627.4038  187.5    -627.4038 -187.5    -627.4038  187.5    -627.4038    0.     2509.6154]]\n"
     ]
    }
   ],
   "source": [
    "np.set_printoptions(linewidth=np.inf)\n",
    "KG=np.zeros((ndof,ndof))\n",
    "## Calcuating the GLOBAL MATRIX using individual matricies\n",
    "for i in range(nElement):\n",
    "    nodes=Conec[i]+1\n",
    "    KG=LTA(KG,Km[i],nodes)\n",
    "print(\"GLOBAL MATRIX\\n\")\n",
    "print(f'10e4*\\n {np.round(KG/10000,4)}')   "
   ]
  },
  {
   "cell_type": "markdown",
   "metadata": {},
   "source": [
    "### Boundary Conditions"
   ]
  },
  {
   "cell_type": "code",
   "execution_count": 9,
   "metadata": {},
   "outputs": [],
   "source": [
    "F=np.zeros((ndof,))\n",
    "U=np.zeros((ndof,))"
   ]
  },
  {
   "cell_type": "code",
   "execution_count": 17,
   "metadata": {},
   "outputs": [
    {
     "name": "stdout",
     "output_type": "stream",
     "text": [
      "\n",
      "Known nodal forces:=\n",
      "\n",
      "[[9.375]\n",
      " [0.   ]\n",
      " [9.375]\n",
      " [0.   ]\n",
      " [0.   ]\n",
      " [0.   ]]\n",
      "\n",
      "Unknown nodal disps:=\n",
      "\n",
      "[[ 0.00000693]\n",
      " [ 0.00000071]\n",
      " [ 0.00000693]\n",
      " [-0.00000071]\n",
      " [ 0.00000327]\n",
      " [ 0.        ]]\n"
     ]
    }
   ],
   "source": [
    "#Applying Boundary conditions\n",
    "U=np.zeros((ndof,1))\n",
    "F=np.zeros((ndof,1))\n",
    "\n",
    "#Loading Conditions\n",
    "F[2,0]=9.375\n",
    "F[3,0]=0\n",
    "F[4,0]=9.375\n",
    "F[5,0]=0\n",
    "F[8,0]=0\n",
    "F[9,0]=0\n",
    "\n",
    "\n",
    "dof_seq=np.array([3,4,5,6,9,10,1,2,7,8])-1  #segregated as per knowns and unknowns [knonws unknowns]\n",
    "xx=free_dof\n",
    "#Partitioning the matrices\n",
    "Up=U[dof_seq[:xx],]\n",
    "Ux=U[dof_seq[xx:],] #knowns disps\n",
    "Fp=F[dof_seq[:xx],]\n",
    "Kpp=KG[np.ix_(dof_seq[:xx],dof_seq[:xx])]\n",
    "\n",
    "\n",
    "# print(Kpp)\n",
    "\n",
    "print('\\nKnown nodal forces:=\\n')\n",
    "print(Fp)\n",
    "\n",
    "Up=np.dot(np.linalg.inv(Kpp),Fp)\n",
    "print('\\nUnknown nodal disps:=\\n')\n",
    "print(Up)\n",
    "\n",
    "\n"
   ]
  },
  {
   "cell_type": "code",
   "execution_count": 18,
   "metadata": {
    "scrolled": true
   },
   "outputs": [
    {
     "name": "stdout",
     "output_type": "stream",
     "text": [
      "FORCES VECTOR(kN):=\n",
      "\n",
      "[[-9.375    ]\n",
      " [-3.7540043]\n",
      " [ 9.375    ]\n",
      " [-0.       ]\n",
      " [ 9.375    ]\n",
      " [ 0.       ]\n",
      " [-9.375    ]\n",
      " [ 3.7540043]\n",
      " [-0.       ]\n",
      " [ 0.       ]]\n"
     ]
    }
   ],
   "source": [
    "#Adding Calculated unknown displacements to the main displacement vector\n",
    "U[dof_seq[:xx],]=Up\n",
    "\n",
    "#Calculate force\n",
    "F=np.dot(KG,U)\n",
    "\n",
    "print('FORCES VECTOR(kN):=\\n')\n",
    "print(np.round(F,7))"
   ]
  },
  {
   "cell_type": "markdown",
   "metadata": {},
   "source": [
    "### Post Processing "
   ]
  },
  {
   "cell_type": "code",
   "execution_count": 19,
   "metadata": {},
   "outputs": [],
   "source": [
    "##Array which contains displacement(nodal) of a traingular element as rows. total colums equals total memebrs\n",
    "\n",
    "\n",
    "u=np.ndarray((nElement,6))\n",
    "for p in range(nElement):\n",
    "    xi=dofs[Conec[p][0]][0]\n",
    "    yi=dofs[Conec[p][0]][1]\n",
    "    \n",
    "    xj=dofs[Conec[p][1]][0]\n",
    "    yj=dofs[Conec[p][1]][1]\n",
    "    \n",
    "    xm=dofs[Conec[p][2]][0]\n",
    "    ym=dofs[Conec[p][2]][1]\n",
    "    \n",
    "    u[p]=U[[xi,yi,xj,yj,xm,ym],].T\n",
    "    "
   ]
  },
  {
   "cell_type": "code",
   "execution_count": 20,
   "metadata": {},
   "outputs": [
    {
     "name": "stdout",
     "output_type": "stream",
     "text": [
      "[[ 0.          0.          3.27082221  0.          0.          0.        ]\n",
      " [ 3.27082221  0.          6.92834261 -0.71390436  0.          0.        ]\n",
      " [ 3.27082221  0.          6.92834261  0.71390436  6.92834261 -0.71390436]\n",
      " [ 0.          0.          6.92834261  0.71390436  3.27082221  0.        ]]\n"
     ]
    }
   ],
   "source": [
    "# Each row corresponds to displacements of a node of a particular trinagular element\n",
    "#since each trinagular element has 3 nodes, therefore each row has 6 displacemnts \n",
    "#total rows corresponds to total number of memebrs\n",
    "print(u*10e5)\n"
   ]
  },
  {
   "cell_type": "markdown",
   "metadata": {},
   "source": [
    "# Element stresses\n",
    "- LinearTriangleElementStresses: (LTEStress)"
   ]
  },
  {
   "cell_type": "code",
   "execution_count": 22,
   "metadata": {},
   "outputs": [],
   "source": [
    "\n",
    "def LTEStress(E,mu,p=1,EleNumber=1):\n",
    "    xi,yi,xj,yj,xm,ym=ElementCords[i].flatten()\n",
    "    uu=u[EleNumber]\n",
    "    \n",
    "    A = (xi*(yj-ym)+ xj*(ym-yi) + xm*(yi-yj))/2\n",
    "    bi = yj-ym\n",
    "    bj = ym-yi\n",
    "    bm = yi-yj\n",
    "    gi = xm-xj\n",
    "    gj = xi-xm\n",
    "    gm = xj-xi\n",
    "    B=np.asarray([[bi, 0 ,bj, 0, bm, 0],\n",
    "                  [0, gi, 0, gj, 0 ,gm],\n",
    "                  [gi,bi,gj,bj,gm,bm]])\n",
    "\n",
    "    B=B*(1/(2*A))\n",
    "    \n",
    "    if p==1:    #plane stress condition\n",
    "        D=(E/(1-mu*mu))*np.asarray([[1,mu,0],\n",
    "                                    [mu,1,0],\n",
    "                                    [0,0,(1-mu)/2]])\n",
    "        \n",
    "    elif p==2: #plane strain condition\n",
    "        D=(E/((1+mu)*(1-2*mu)))*np.asarray([[1-mu,mu,0],\n",
    "                                            [mu,1-mu,0],\n",
    "                                            [0,0,(1-2*mu)/2]])\n",
    "\n",
    "    return np.dot(D,np.dot(B,uu)).reshape(np.dot(D,np.dot(B,uu)).shape[0],1)"
   ]
  },
  {
   "cell_type": "markdown",
   "metadata": {},
   "source": [
    "# Function to calculate Principle Stresses\n",
    "- LinearTriangleElementPStresses: (LTEPStress)"
   ]
  },
  {
   "cell_type": "code",
   "execution_count": 24,
   "metadata": {},
   "outputs": [],
   "source": [
    "# FUNCTION TO CALCUATE PRINCIPLE STRESSSES\n",
    "def LTEPStress(sigma):\n",
    "    R = (sigma[0] + sigma[1])/2\n",
    "    Q = ((sigma[0] - sigma[1])/2)**2 + sigma[2]*sigma[2]\n",
    "    M = 2*sigma[2]/(sigma[0] - sigma[1])\n",
    "    s1 = R + np.sqrt(Q)\n",
    "    s2 = R - np.sqrt(Q)\n",
    "    theta = (np.arctan(M)/2)*180/np.pi\n",
    "    return np.asarray([s1 , s2 , theta])"
   ]
  },
  {
   "cell_type": "code",
   "execution_count": 28,
   "metadata": {},
   "outputs": [],
   "source": [
    "\n",
    "#sigma is an array having stesses as its items\n",
    "#for a typical item, it correspongs to sigma_x,sigma_y, tau_xy\n",
    "#number of items correponds to number of traingular elements\n",
    "\n",
    "sigma=np.ndarray((nElement,3,1))\n",
    "for i in range(nElement):\n",
    "    sigma[i]=LTEStress(E,mu,EleNumber=i)\n",
    "# print(sigma*1000)    "
   ]
  },
  {
   "cell_type": "markdown",
   "metadata": {},
   "source": [
    "#### Stresses = [Sigma x Sigma y Tau xy] "
   ]
  },
  {
   "cell_type": "code",
   "execution_count": 29,
   "metadata": {},
   "outputs": [
    {
     "name": "stdout",
     "output_type": "stream",
     "text": [
      "\n",
      "Stress:ELEMENT1\n",
      "\n",
      " [[3019.22050187]\n",
      " [ 905.76615056]\n",
      " [   0.        ]]\n",
      "\n",
      "Stress:ELEMENT2\n",
      "\n",
      " [[3000.        ]\n",
      " [ 300.3203417 ]\n",
      " [   9.61025093]]\n",
      "\n",
      "Stress:ELEMENT3\n",
      "\n",
      " [[2980.77949813]\n",
      " [-305.12546716]\n",
      " [  -0.        ]]\n",
      "\n",
      "Stress:ELEMENT4\n",
      "\n",
      " [[3000.        ]\n",
      " [ 300.3203417 ]\n",
      " [  -9.61025093]]\n"
     ]
    }
   ],
   "source": [
    "for i in range(nElement):\n",
    "    print(f'\\nStress:ELEMENT{i+1}\\n\\n {sigma[i]}')"
   ]
  },
  {
   "cell_type": "code",
   "execution_count": 33,
   "metadata": {},
   "outputs": [],
   "source": [
    "#principleStress is an array having principal stresses and theta items\n",
    "\n",
    "PrincipleStress=np.ndarray(sigma.shape)\n",
    "for i in range(nElement):\n",
    "    PrincipleStress[i]= LTEPStress(sigma[i])\n",
    "# print(PrincipleStress)"
   ]
  },
  {
   "cell_type": "markdown",
   "metadata": {},
   "source": [
    "####  Principal Stresses:= [Sigma x Sigma y Theta ] "
   ]
  },
  {
   "cell_type": "code",
   "execution_count": 35,
   "metadata": {},
   "outputs": [
    {
     "name": "stdout",
     "output_type": "stream",
     "text": [
      "\n",
      "Principal Stress:=ELEMENT1\n",
      "\n",
      " [[3019.22050187]\n",
      " [ 905.76615056]\n",
      " [   0.        ]]\n",
      "\n",
      "Principal Stress:=ELEMENT2\n",
      "\n",
      " [[3000.03420989]\n",
      " [ 300.2861318 ]\n",
      " [   0.20395661]]\n",
      "\n",
      "Principal Stress:=ELEMENT3\n",
      "\n",
      " [[2980.77949813]\n",
      " [-305.12546716]\n",
      " [  -0.        ]]\n",
      "\n",
      "Principal Stress:=ELEMENT4\n",
      "\n",
      " [[3000.03420989]\n",
      " [ 300.2861318 ]\n",
      " [  -0.20395661]]\n"
     ]
    }
   ],
   "source": [
    "for i in range(nElement):\n",
    "    print(f'\\nPrincipal Stress:=ELEMENT{i+1}\\n\\n {PrincipleStress[i]}')"
   ]
  },
  {
   "cell_type": "code",
   "execution_count": null,
   "metadata": {},
   "outputs": [],
   "source": []
  }
 ],
 "metadata": {
  "interpreter": {
   "hash": "5c45d054ff7e3515fce9eec686a49e209967f958079ad1677afbc7181e38d20c"
  },
  "kernelspec": {
   "display_name": "Python 3 (ipykernel)",
   "language": "python",
   "name": "python3"
  },
  "language_info": {
   "codemirror_mode": {
    "name": "ipython",
    "version": 3
   },
   "file_extension": ".py",
   "mimetype": "text/x-python",
   "name": "python",
   "nbconvert_exporter": "python",
   "pygments_lexer": "ipython3",
   "version": "3.9.7"
  }
 },
 "nbformat": 4,
 "nbformat_minor": 2
}
