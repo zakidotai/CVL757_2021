{
 "cells": [
  {
   "cell_type": "markdown",
   "metadata": {},
   "source": [
    "## QUESTION 1\n",
    "### SURPRISE TEST"
   ]
  },
  {
   "cell_type": "markdown",
   "metadata": {},
   "source": [
    "#### Material and load values"
   ]
  },
  {
   "cell_type": "code",
   "execution_count": 17,
   "metadata": {},
   "outputs": [],
   "source": [
    "\n",
    "\n",
    "E=210e6 #kN/m^2\n",
    "mu=0.3\n",
    "t=0.025 #m\n"
   ]
  },
  {
   "cell_type": "markdown",
   "metadata": {},
   "source": [
    "#### STIFFNESS MATRIX OF TRANGULAR ELEMENT"
   ]
  },
  {
   "cell_type": "code",
   "execution_count": 48,
   "metadata": {},
   "outputs": [],
   "source": [
    "import numpy as np\n",
    "\n",
    "def LinearTriangleElementStiffness(E,mu,t,xi,yi,xj,yj,xm,ym,p):\n",
    "    A = (xi*(yj-ym)+ xj*(ym-yi) + xm*(yi-yj))/2\n",
    "    bi = yj-ym\n",
    "    bj = ym-yi\n",
    "    bm = yi-yj\n",
    "    gi = xm-xj\n",
    "    gj = xi-xm\n",
    "    gm = xj-xi\n",
    "    B=np.asarray([[bi, 0 ,bj, 0, bm, 0],\n",
    "                  [0, gi, 0, gj, 0 ,gm],\n",
    "                  [gi,bi,gj,bj,gm,bm]])\n",
    "\n",
    "    B=B*(1/(2*A))\n",
    "    if p==1:    #plane stress condition\n",
    "        D=(E/(1-mu*mu))*np.asarray([[1,mu,0],[mu,1,0],[0,0,(1-mu)/2]])\n",
    "    elif p==2: #plane strain condition\n",
    "        D=(E/((1+mu)*(1-2*mu)))*np.asarray([[1-mu,mu,0],[mu,1-mu,0],[0,0,(1-2*mu)/2]])\n",
    "    \n",
    "    return t*A*np.dot(B.T,np.dot(D,B))\n",
    "    \n",
    "\n"
   ]
  },
  {
   "cell_type": "code",
   "execution_count": 100,
   "metadata": {},
   "outputs": [
    {
     "name": "stdout",
     "output_type": "stream",
     "text": [
      "--------------K1------------\n",
      "\n",
      "[[ 2019230.76923077        0.                0.         -1009615.38461538\n",
      "  -2019230.76923077  1009615.38461538]\n",
      " [       0.          5769230.76923077  -865384.61538462        0.\n",
      "    865384.61538462 -5769230.76923077]\n",
      " [       0.          -865384.61538462  1442307.69230769        0.\n",
      "  -1442307.69230769   865384.61538462]\n",
      " [-1009615.38461538        0.                0.           504807.69230769\n",
      "   1009615.38461538  -504807.69230769]\n",
      " [-2019230.76923077   865384.61538462 -1442307.69230769  1009615.38461538\n",
      "   3461538.46153846 -1875000.        ]\n",
      " [ 1009615.38461538 -5769230.76923077   865384.61538462  -504807.69230769\n",
      "  -1875000.          6274038.46153846]]\n"
     ]
    }
   ],
   "source": [
    "#STIFFNEES MATRIXFOR TRAINGLUAR ELEMENT 1\n",
    "k1=LinearTriangleElementStiffness(E,mu,t,0,0,0.5,0.25,0,0.25,1)\n",
    "print('--------------K1------------\\n')\n",
    "print(k1)"
   ]
  },
  {
   "cell_type": "code",
   "execution_count": 101,
   "metadata": {
    "scrolled": true
   },
   "outputs": [
    {
     "name": "stdout",
     "output_type": "stream",
     "text": [
      "--------------K2------------\n",
      "\n",
      "[[ 1442307.69230769        0.         -1442307.69230769   865384.61538462\n",
      "         0.          -865384.61538462]\n",
      " [       0.           504807.69230769  1009615.38461538  -504807.69230769\n",
      "  -1009615.38461538        0.        ]\n",
      " [-1442307.69230769  1009615.38461538  3461538.46153846 -1875000.\n",
      "  -2019230.76923077   865384.61538462]\n",
      " [  865384.61538462  -504807.69230769 -1875000.          6274038.46153846\n",
      "   1009615.38461538 -5769230.76923077]\n",
      " [       0.         -1009615.38461538 -2019230.76923077  1009615.38461538\n",
      "   2019230.76923077        0.        ]\n",
      " [ -865384.61538462        0.           865384.61538462 -5769230.76923077\n",
      "         0.          5769230.76923077]]\n"
     ]
    }
   ],
   "source": [
    "#STIFFNEES AMTRIX FOR TRAINGLUAR ELEMENT 1\n",
    "k2=LinearTriangleElementStiffness(E,mu,t,0,0,0.5,0,0.5,0.25,1)\n",
    "print('--------------K2------------\\n')\n",
    "print(k2)"
   ]
  },
  {
   "cell_type": "code",
   "execution_count": 71,
   "metadata": {},
   "outputs": [
    {
     "name": "stdout",
     "output_type": "stream",
     "text": [
      "(2, 6, 6)\n"
     ]
    }
   ],
   "source": [
    "#arrray storing all the traingular element stiffness matrix\n",
    "km=np.stack((k1,k2),-1)\n",
    "km=km.transpose(-1,0,1)\n",
    "print(km.shape)"
   ]
  },
  {
   "cell_type": "markdown",
   "metadata": {},
   "source": [
    "### Global Stiffness Matrix"
   ]
  },
  {
   "cell_type": "code",
   "execution_count": 52,
   "metadata": {},
   "outputs": [],
   "source": [
    "#STEP 2 GOLABL MATRIX\n",
    "K = np.zeros((8, 8))\n",
    "\n",
    "\n",
    "def LinearTriangleAssemble(K :np.ndarray, k, i, j, m):\n",
    "    K[2*i-1-1, 2*i-1-1] = K[2*i-1-1, 2*i-1-1] + k[1-1, 1-1]\n",
    "    K[2*i-1-1, 2*i-1] = K[2*i-1-1,  2*i-1] + k[1-1, 2-1]\n",
    "    K[2*i-1-1, 2*j-1-1] = K[2*i-1-1,  2*j-1-1] + k[1-1, 3-1]\n",
    "    K[2*i-1-1,  2*j-1] = K[2*i-1-1,  2*j-1] + k[1-1, 4-1]\n",
    "    K[2*i-1-1,  2*m-1-1] = K[2*i-1-1,  2*m-1-1] + k[1-1, 5-1]\n",
    "    K[2*i-1-1,  2*m-1] = K[2*i-1-1,  2*m-1] + k[1-1, 6-1]\n",
    "    K[2*i-1, 2*i-1-1] = K[2*i-1, 2*i-1-1] + k[2-1, 1-1]\n",
    "    K[2*i-1, 2*i-1] = K[2*i-1, 2*i-1] + k[2-1, 2-1]\n",
    "    K[2*i-1, 2*j-1-1] = K[2*i-1, 2*j-1-1] + k[2-1, 3-1]\n",
    "    K[2*i-1, 2*j-1] = K[2*i-1, 2*j-1] + k[2-1, 4-1]\n",
    "    K[2*i-1, 2*m-1-1] = K[2*i-1, 2*m-1-1] + k[2-1, 5-1]\n",
    "    K[2*i-1, 2*m-1] = K[2*i-1, 2*m-1] + k[2-1, 6-1]\n",
    "    K[2*j-1-1, 2*i-1-1] = K[2*j-1-1,  2*i-1-1] + k[3-1, 1-1]\n",
    "    K[2*j-1-1,  2*i-1] = K[2*j-1-1,  2*i-1] + k[3-1, 2-1]\n",
    "    K[2*j-1-1,  2*j-1-1] = K[2*j-1-1,  2*j-1-1] + k[3-1, 3-1]\n",
    "    K[2*j-1-1,  2*j-1] = K[2*j-1-1,  2*j-1] + k[3-1, 4-1]\n",
    "    K[2*j-1-1,  2*m-1-1] = K[2*j-1-1,  2*m-1-1] + k[3-1, 5-1]\n",
    "    K[2*j-1-1,  2*m-1] = K[2*j-1-1, 2*m-1] + k[3-1, 6-1]\n",
    "    K[2*j-1, 2*i-1-1] = K[2*j-1, 2*i-1-1] + k[4-1, 1-1]\n",
    "    K[2*j-1, 2*i-1] = K[2*j-1, 2*i-1] + k[4-1, 2-1]\n",
    "    K[2*j-1, 2*j-1-1] = K[2*j-1, 2*j-1-1] + k[4-1, 3-1]\n",
    "    K[2*j-1, 2*j-1] = K[2*j-1, 2*j-1] + k[4-1, 4-1]\n",
    "    K[2*j-1, 2*m-1-1] = K[2*j-1, 2*m-1-1] + k[4-1, 5-1]\n",
    "    K[2*j-1, 2*m-1] = K[2*j-1, 2*m-1] + k[4-1, 6-1]\n",
    "    K[2*m-1-1,  2*i-1-1] = K[2*m-1-1,  2*i-1-1] + k[5-1, 1-1]\n",
    "    K[2*m-1-1,  2*i-1] = K[2*m-1-1, 2*i-1] + k[5-1, 2-1]\n",
    "    K[2*m-1-1,  2*j-1-1] = K[2*m-1-1,  2*j-1-1] + k[5-1, 3-1]\n",
    "    K[2*m-1-1,  2*j-1] = K[2*m-1-1,  2*j-1] + k[5-1, 4-1]\n",
    "    K[2*m-1-1,  2*m-1-1] = K[2*m-1-1,  2*m-1-1] + k[5-1, 5-1]\n",
    "    K[2*m-1-1, 2*m-1] = K[2*m-1-1,  2*m-1] + k[5-1, 6-1]\n",
    "    K[2*m-1, 2*i-1-1] = K[2*m-1, 2*i-1-1] + k[6-1, 1-1]\n",
    "    K[2*m-1, 2*i-1] = K[2*m-1, 2*i-1] + k[6-1, 2-1]\n",
    "    K[2*m-1, 2*j-1-1] = K[2*m-1, 2*j-1-1] + k[6-1, 3-1]\n",
    "    K[2*m-1, 2*j-1] = K[2*m-1, 2*j-1] + k[6-1, 4-1]\n",
    "    K[2*m-1, 2*m-1-1] = K[2*m-1, 2*m-1-1] + k[6-1, 5-1]\n",
    "    K[2*m-1, 2*m-1] = K[2*m-1, 2*m-1] + k[6-1, 6-1]\n",
    "    \n",
    "    return K\n",
    "    "
   ]
  },
  {
   "cell_type": "code",
   "execution_count": 86,
   "metadata": {},
   "outputs": [
    {
     "name": "stdout",
     "output_type": "stream",
     "text": [
      "--------GLOBAL MATRIX-------------\n",
      "\n",
      "[[ 3461538.46153846        0.         -1442307.69230769   865384.61538462\n",
      "         0.         -1875000.         -2019230.76923077  1009615.38461538]\n",
      " [       0.          6274038.46153846  1009615.38461538  -504807.69230769\n",
      "  -1875000.                0.           865384.61538462 -5769230.76923077]\n",
      " [-1442307.69230769  1009615.38461538  3461538.46153846 -1875000.\n",
      "  -2019230.76923077   865384.61538462        0.                0.        ]\n",
      " [  865384.61538462  -504807.69230769 -1875000.          6274038.46153846\n",
      "   1009615.38461538 -5769230.76923077        0.                0.        ]\n",
      " [       0.         -1875000.         -2019230.76923077  1009615.38461538\n",
      "   3461538.46153846        0.         -1442307.69230769   865384.61538462]\n",
      " [-1875000.                0.           865384.61538462 -5769230.76923077\n",
      "         0.          6274038.46153846  1009615.38461538  -504807.69230769]\n",
      " [-2019230.76923077   865384.61538462        0.                0.\n",
      "  -1442307.69230769  1009615.38461538  3461538.46153846 -1875000.        ]\n",
      " [ 1009615.38461538 -5769230.76923077        0.                0.\n",
      "    865384.61538462  -504807.69230769 -1875000.          6274038.46153846]]\n"
     ]
    }
   ],
   "source": [
    "K = np.zeros((8, 8))\n",
    "K=LinearTriangleAssemble(K,km[0],1,3,4)\n",
    "K=LinearTriangleAssemble(K,km[1],1,2,3)\n",
    "print(\"--------GLOBAL MATRIX-------------\\n\")\n",
    "print(K)"
   ]
  },
  {
   "cell_type": "markdown",
   "metadata": {},
   "source": [
    "### Boundary conditions"
   ]
  },
  {
   "cell_type": "code",
   "execution_count": 88,
   "metadata": {},
   "outputs": [
    {
     "name": "stdout",
     "output_type": "stream",
     "text": [
      "[[ 3461538.46153846 -1875000.         -2019230.76923077   865384.61538462]\n",
      " [-1875000.          6274038.46153846  1009615.38461538 -5769230.76923077]\n",
      " [-2019230.76923077  1009615.38461538  3461538.46153846        0.        ]\n",
      " [  865384.61538462 -5769230.76923077        0.          6274038.46153846]]\n",
      "\n",
      "------Known nodal forces-------:=\n",
      "\n",
      "[[9.375]\n",
      " [0.   ]\n",
      " [9.375]\n",
      " [0.   ]]\n",
      "\n",
      "----------Unknown nodal disps----------:=\n",
      "\n",
      "[[7.11111747e-06]\n",
      " [1.11517786e-06]\n",
      " [6.53122498e-06]\n",
      " [4.46071143e-08]]\n"
     ]
    }
   ],
   "source": [
    "#Applying Boundary conditions\n",
    "U=np.zeros((8,1))\n",
    "F=np.zeros((8,1))\n",
    "\n",
    "#LOADING CONDITIONS\n",
    "F[2,0]=9.375\n",
    "F[3,0]=0\n",
    "F[4,0]=9.375\n",
    "F[5,0]=0\n",
    "\n",
    "#Partitioning THE matrices\n",
    "Up=U[2:6]\n",
    "Ux=U[[0,1,6,7],:]\n",
    "Fp=F[2:6]\n",
    "Kpp=K[2:6,2:6]\n",
    "print(Kpp)\n",
    "\n",
    "print('\\n------Known nodal forces-------:=\\n')\n",
    "print(Fp)\n",
    "\n",
    "Up=np.dot(np.linalg.inv(Kpp),Fp)\n",
    "print('\\n----------Unknown nodal disps----------:=\\n')\n",
    "print(Up)\n",
    "\n",
    "\n"
   ]
  },
  {
   "cell_type": "markdown",
   "metadata": {},
   "source": [
    "### POST PROCESSING"
   ]
  },
  {
   "cell_type": "code",
   "execution_count": 89,
   "metadata": {},
   "outputs": [
    {
     "name": "stdout",
     "output_type": "stream",
     "text": [
      "----------FORCES(kN)-------------:=\n",
      "\n",
      "[[-9.375    ]\n",
      " [-5.6295036]\n",
      " [ 9.375    ]\n",
      " [-0.       ]\n",
      " [ 9.375    ]\n",
      " [ 0.       ]\n",
      " [-9.375    ]\n",
      " [ 5.6295036]]\n"
     ]
    }
   ],
   "source": [
    "#Adding Calcuated unknown displacements to the main displacement vector\n",
    "U[2:6]=Up\n",
    "\n",
    "#Calculate force\n",
    "F=np.dot(K,U)\n",
    "\n",
    "print('----------FORCES(kN)-------------:=\\n')\n",
    "print(np.round(F,7))"
   ]
  },
  {
   "cell_type": "code",
   "execution_count": 60,
   "metadata": {},
   "outputs": [],
   "source": [
    "#Element stresses\n",
    "def LinearTriangleElementStresses(E,mu,xi,yi,xj,yj,xm,ym,p,u):\n",
    "    A = (xi*(yj-ym)+ xj*(ym-yi) + xm*(yi-yj))/2\n",
    "    bi = yj-ym\n",
    "    bj = ym-yi\n",
    "    bm = yi-yj\n",
    "    gi = xm-xj\n",
    "    gj = xi-xm\n",
    "    gm = xj-xi\n",
    "    B=np.asarray([[bi, 0 ,bj, 0, bm, 0],\n",
    "                  [0, gi, 0, gj, 0 ,gm],\n",
    "                  [gi,bi,gj,bj,gm,bm]])\n",
    "\n",
    "    B=B*(1/(2*A))\n",
    "    \n",
    "    if p==1:    #plane stress condition\n",
    "        D=(E/(1-mu*mu))*np.asarray([[1,mu,0],\n",
    "                                    [mu,1,0],\n",
    "                                    [0,0,(1-mu)/2]])\n",
    "        \n",
    "    elif p==2: #plane strain condition\n",
    "        D=(E/((1+mu)*(1-2*mu)))*np.asarray([[1-mu,mu,0],\n",
    "                                            [mu,1-mu,0],\n",
    "                                            [0,0,(1-2*mu)/2]])\n",
    "        \n",
    "    return np.dot(D,np.dot(B,u))"
   ]
  },
  {
   "cell_type": "code",
   "execution_count": 61,
   "metadata": {},
   "outputs": [],
   "source": [
    "# FUNCTION TO CALCUATE PRINCIPLE STRESSSES\n",
    "def LinearTriangleElementPStresses(sigma):\n",
    "    R = (sigma[0] + sigma[1])/2\n",
    "    Q = ((sigma[0] - sigma[1])/2)**2 + sigma[2]*sigma[2]\n",
    "    M = 2*sigma[2]/(sigma[0] - sigma[1])\n",
    "    s1 = R + np.sqrt(Q)\n",
    "    s2 = R - np.sqrt(Q)\n",
    "    theta = (np.arctan(M)/2)*180/np.pi\n",
    "    return np.asarray([s1 , s2 , theta])"
   ]
  },
  {
   "cell_type": "code",
   "execution_count": 62,
   "metadata": {},
   "outputs": [],
   "source": [
    "##ELEMENT STRESSES\n",
    "\n",
    "#Element disp vector\n",
    "u1=np.asarray([U[0],U[1],U[4],U[5],U[6],U[7]])\n",
    "u2=np.asarray([U[0],U[1],U[2],U[3],U[4],U[5]])"
   ]
  },
  {
   "cell_type": "markdown",
   "metadata": {},
   "source": [
    "#### Stresses:= [σ<sub>x </sub> σ<sub>y </sub> 𝜏<sub>xy </sub>]"
   ]
  },
  {
   "cell_type": "code",
   "execution_count": 90,
   "metadata": {},
   "outputs": [
    {
     "name": "stdout",
     "output_type": "stream",
     "text": [
      "-------------Stress(MPa):ELEMENT1-------------\n",
      "\n",
      "[[3014.411529]\n",
      " [ 904.323459]\n",
      " [   7.205765]]\n"
     ]
    }
   ],
   "source": [
    "sigma1=LinearTriangleElementStresses(E,mu,0,0,0.5,0.25,0,0.25,1,u1)\n",
    "print(\"-------------Stress(MPa):ELEMENT1-------------\\n\")\n",
    "print(np.round(sigma1,6))"
   ]
  },
  {
   "cell_type": "code",
   "execution_count": 91,
   "metadata": {},
   "outputs": [
    {
     "name": "stdout",
     "output_type": "stream",
     "text": [
      "---------------Stress(MPa):ELEMENT2---------\n",
      "\n",
      "[[2985.58847078]\n",
      " [  -3.60288231]\n",
      " [  -7.20576461]]\n"
     ]
    }
   ],
   "source": [
    "sigma2=LinearTriangleElementStresses(E,mu,0,0,0.5,0,0.5,0.25,1,u2)\n",
    "print(\"---------------Stress(MPa):ELEMENT2---------\\n\")\n",
    "print(sigma2)"
   ]
  },
  {
   "cell_type": "code",
   "execution_count": 92,
   "metadata": {},
   "outputs": [
    {
     "name": "stdout",
     "output_type": "stream",
     "text": [
      "----------------Principal Stress(MPa):ELEMENT1--------\n",
      "\n",
      "[[3.01443614e+03]\n",
      " [9.04298852e+02]\n",
      " [1.95656990e-01]]\n"
     ]
    }
   ],
   "source": [
    "#Principal stresses\n",
    "s1=LinearTriangleElementPStresses(sigma1)\n",
    "print(\"----------------Principal Stress(MPa):ELEMENT1--------\\n\")\n",
    "print(s1)"
   ]
  },
  {
   "cell_type": "code",
   "execution_count": 93,
   "metadata": {
    "scrolled": true
   },
   "outputs": [
    {
     "name": "stdout",
     "output_type": "stream",
     "text": [
      "-----------------Principal Stress(MPa):ELEMENT2-------------\n",
      "\n",
      "[[ 2.98560584e+03]\n",
      " [-3.62025247e+00]\n",
      " [-1.38116518e-01]]\n"
     ]
    }
   ],
   "source": [
    "s2=LinearTriangleElementPStresses(sigma2)\n",
    "print(\"-----------------Principal Stress(MPa):ELEMENT2-------------\\n\")\n",
    "print(s2)"
   ]
  },
  {
   "cell_type": "markdown",
   "metadata": {},
   "source": []
  },
  {
   "cell_type": "code",
   "execution_count": null,
   "metadata": {},
   "outputs": [],
   "source": []
  }
 ],
 "metadata": {
  "interpreter": {
   "hash": "5c45d054ff7e3515fce9eec686a49e209967f958079ad1677afbc7181e38d20c"
  },
  "kernelspec": {
   "display_name": "Python 3 (ipykernel)",
   "language": "python",
   "name": "python3"
  },
  "language_info": {
   "codemirror_mode": {
    "name": "ipython",
    "version": 3
   },
   "file_extension": ".py",
   "mimetype": "text/x-python",
   "name": "python",
   "nbconvert_exporter": "python",
   "pygments_lexer": "ipython3",
   "version": "3.9.6"
  }
 },
 "nbformat": 4,
 "nbformat_minor": 2
}
