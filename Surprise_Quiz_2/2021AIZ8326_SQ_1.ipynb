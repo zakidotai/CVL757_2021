{
 "cells": [
  {
   "cell_type": "code",
   "execution_count": 57,
   "id": "d31beba3",
   "metadata": {},
   "outputs": [],
   "source": [
    "E = 210000000\n",
    "v=0.3\n",
    "t=0.025\n",
    "w=3000\n",
    "import numpy as np"
   ]
  },
  {
   "cell_type": "code",
   "execution_count": 58,
   "id": "192e4709",
   "metadata": {},
   "outputs": [],
   "source": [
    "\n",
    "nodes = [(0,0), (0.5,0), (0.5,0.25), (0,0.25)]\n",
    "element_nodes=[(1,3,4),(1,2,3)] \n",
    "element_areas=[]\n",
    "element_k = []\n",
    "element_b = []\n",
    "D = (E/(1-v**2)) * (np.array([1,v,0,v,1,0,0,0,(1-v)/2]).reshape((3,3)))\n",
    "for element in element_nodes:\n",
    "    x = []\n",
    "    y = []\n",
    "    for node in element:\n",
    "        x.append(nodes[node-1][0])\n",
    "        y.append(nodes[node-1][1])\n",
    "    area_mat = np.array([[1,1,1],x,y])\n",
    "    area = 0.5*np.linalg.det(area_mat)\n",
    "    element_areas.append(area)\n",
    "    \n",
    "    b1 = y[1] - y[2]\n",
    "    b2 = y[2] - y[0]\n",
    "    b3 = y[0] - y[1]\n",
    "    g1 = x[2] - x[1]\n",
    "    g2 = x[0] - x[2]\n",
    "    g3 = x[1] - x[0]\n",
    "    \n",
    "    B = np.array([[b1,0,b2,0,b3,0],[0,g1,0,g2,0,g3],[g1,b1,g2,b2,g3,b3]]) / (2*area)\n",
    "    element_b.append(B)\n",
    "    \n",
    "    k = np.matmul(np.transpose(B),np.matmul(D,B))*area*t\n",
    "    element_k.append(k)\n",
    "\n"
   ]
  },
  {
   "cell_type": "code",
   "execution_count": 59,
   "id": "574ae7ad",
   "metadata": {},
   "outputs": [],
   "source": [
    "K = np.zeros((len(nodes)*2,len(nodes)*2))\n",
    "for node in range(len(element_nodes)):\n",
    "    node_pos = []\n",
    "    for i in element_nodes[node]:\n",
    "        node_pos.append(i*2-2)\n",
    "        node_pos.append(i*2-1)\n",
    "    for i in range(len(node_pos)):\n",
    "        K[node_pos[i]][node_pos] += np.transpose(element_k[node])[i]\n"
   ]
  },
  {
   "cell_type": "code",
   "execution_count": 60,
   "id": "3361e81f",
   "metadata": {},
   "outputs": [
    {
     "name": "stdout",
     "output_type": "stream",
     "text": [
      "Nodal Displacements of [U2x U2y U3x U3y]' (in m)\n",
      "[[7.11111747e-06]\n",
      " [1.11517786e-06]\n",
      " [6.53122498e-06]\n",
      " [4.46071143e-08]]\n"
     ]
    }
   ],
   "source": [
    "\n",
    "U=np.zeros((len(nodes)*2,1))  \n",
    "F=np.zeros((len(nodes)*2,1))  \n",
    "\n",
    "F[2,0]=9.375\n",
    "F[3,0]=0\n",
    "F[4,0]=9.375\n",
    "F[5,0]=0\n",
    "\n",
    "Up=U[[2,3,4,5]]\n",
    "Fp=F[[2,3,4,5]]\n",
    "Kpp=K[[2,3,4,5]]\n",
    "Kpp=Kpp[:,[2,3,4,5]]\n",
    "\n",
    "Up=np.dot(np.linalg.inv(Kpp),Fp)\n",
    "print(\"Nodal Displacements of [U2x U2y U3x U3y]' (in m)\")\n",
    "print(Up)"
   ]
  },
  {
   "cell_type": "code",
   "execution_count": 61,
   "id": "481fa579",
   "metadata": {},
   "outputs": [
    {
     "name": "stdout",
     "output_type": "stream",
     "text": [
      "Force Vector [F1x0 F1y F2x F2y F3x F3y F4x F4y](in kN)\n",
      "[[-9.37500000e+00]\n",
      " [-5.62950360e+00]\n",
      " [ 9.37500000e+00]\n",
      " [ 1.77635684e-15]\n",
      " [ 9.37500000e+00]\n",
      " [-2.66453526e-15]\n",
      " [-9.37500000e+00]\n",
      " [ 5.62950360e+00]]\n"
     ]
    }
   ],
   "source": [
    "\n",
    "U[[2,3,4,5]]=Up\n",
    "\n",
    "F=np.dot(K,U)\n",
    "print(\"Force Vector [F1x0 F1y F2x F2y F3x F3y F4x F4y](in kN)\")\n",
    "print(F)"
   ]
  },
  {
   "cell_type": "code",
   "execution_count": 62,
   "id": "bc256794",
   "metadata": {},
   "outputs": [],
   "source": [
    "u=[]\n",
    "for node in element_nodes:\n",
    "    u1 = np.asarray([U[node[0]*2-2],U[node[0]*2-1],U[node[1]*2-2],U[node[1]*2-1],U[node[2]*2-2],U[node[2]*2-1]])\n",
    "    u.append(u1)\n"
   ]
  },
  {
   "cell_type": "code",
   "execution_count": 63,
   "id": "f1f3d648",
   "metadata": {},
   "outputs": [
    {
     "data": {
      "text/plain": [
       "[array([[3014.41152922],\n",
       "        [ 904.32345877],\n",
       "        [   7.20576461]]),\n",
       " array([[2985.58847078],\n",
       "        [  -3.60288231],\n",
       "        [  -7.20576461]])]"
      ]
     },
     "execution_count": 63,
     "metadata": {},
     "output_type": "execute_result"
    }
   ],
   "source": [
    "elem_stress_sigma=[]\n",
    "for i in range(len(element_nodes)):\n",
    "    temp = np.dot(D,np.dot(element_b[i],u[i]))\n",
    "    elem_stress_sigma+=[temp]\n",
    "elem_stress_sigma"
   ]
  },
  {
   "cell_type": "code",
   "execution_count": 64,
   "id": "b285eed2",
   "metadata": {},
   "outputs": [],
   "source": [
    "def principal_stress(sigma):\n",
    "    R = (sigma[0] + sigma[1])/2\n",
    "    Q = ((sigma[0] - sigma[1])/2)**2 + sigma[2]*sigma[2]\n",
    "    M = 2*sigma[2]/(sigma[0] - sigma[1])\n",
    "    s1 = R + np.sqrt(Q)\n",
    "    s2 = R - np.sqrt(Q)\n",
    "    theta = (np.arctan(M)/2)*180/np.pi\n",
    "    return np.asarray([s1 , s2 , theta])"
   ]
  },
  {
   "cell_type": "code",
   "execution_count": 65,
   "id": "857b14da",
   "metadata": {},
   "outputs": [
    {
     "data": {
      "text/plain": [
       "[array([[3.01443614e+03],\n",
       "        [9.04298852e+02],\n",
       "        [1.95656990e-01]]),\n",
       " array([[ 2.98560584e+03],\n",
       "        [-3.62025247e+00],\n",
       "        [-1.38116518e-01]])]"
      ]
     },
     "execution_count": 65,
     "metadata": {},
     "output_type": "execute_result"
    }
   ],
   "source": [
    "prin_stress = []\n",
    "for sigma in elem_stress_sigma:\n",
    "    prin_stress.append(principal_stress(sigma))\n",
    "prin_stress"
   ]
  },
  {
   "cell_type": "code",
   "execution_count": null,
   "id": "7fca9425",
   "metadata": {},
   "outputs": [],
   "source": []
  }
 ],
 "metadata": {
  "kernelspec": {
   "display_name": "Python 3",
   "language": "python",
   "name": "python3"
  },
  "language_info": {
   "codemirror_mode": {
    "name": "ipython",
    "version": 3
   },
   "file_extension": ".py",
   "mimetype": "text/x-python",
   "name": "python",
   "nbconvert_exporter": "python",
   "pygments_lexer": "ipython3",
   "version": "3.6.5"
  }
 },
 "nbformat": 4,
 "nbformat_minor": 5
}
