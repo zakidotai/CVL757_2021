{
 "cells": [
  {
   "cell_type": "code",
   "execution_count": 1,
   "id": "7a726dd7",
   "metadata": {},
   "outputs": [],
   "source": [
    "E = 210000000\n",
    "v=0.3\n",
    "t=0.025\n",
    "w=3000\n",
    "import numpy as np"
   ]
  },
  {
   "cell_type": "code",
   "execution_count": 2,
   "id": "2b4b57bd",
   "metadata": {},
   "outputs": [],
   "source": [
    "\n",
    "nodes = [(0,0), (0.5,0), (0.5,0.25), (0,0.25), (0.25,0.125)]\n",
    "element_nodes=[(1,2,5),(2,3,5),(3,4,5),(4,1,5)] \n",
    "element_areas=[]\n",
    "element_k = []\n",
    "element_b = []\n",
    "D = (E/(1-v**2)) * (np.array([1,v,0,v,1,0,0,0,(1-v)/2]).reshape((3,3)))\n",
    "for element in element_nodes:\n",
    "    x = []\n",
    "    y = []\n",
    "    for node in element:\n",
    "        x.append(nodes[node-1][0])\n",
    "        y.append(nodes[node-1][1])\n",
    "    area_mat = np.array([[1,1,1],x,y])\n",
    "    area = 0.5*np.linalg.det(area_mat)\n",
    "    element_areas.append(area)\n",
    "    \n",
    "    b1 = y[1] - y[2]\n",
    "    b2 = y[2] - y[0]\n",
    "    b3 = y[0] - y[1]\n",
    "    g1 = x[2] - x[1]\n",
    "    g2 = x[0] - x[2]\n",
    "    g3 = x[1] - x[0]\n",
    "    \n",
    "    B = np.array([[b1,0,b2,0,b3,0],[0,g1,0,g2,0,g3],[g1,b1,g2,b2,g3,b3]]) / (2*area)\n",
    "    element_b.append(B)\n",
    "    \n",
    "    k = np.matmul(np.transpose(B),np.matmul(D,B))*area*t\n",
    "    element_k.append(k)\n",
    "\n"
   ]
  },
  {
   "cell_type": "code",
   "execution_count": 3,
   "id": "61471b44",
   "metadata": {},
   "outputs": [],
   "source": [
    "K = np.zeros((len(nodes)*2,len(nodes)*2))\n",
    "for node in range(len(element_nodes)):\n",
    "    node_pos = []\n",
    "    for i in element_nodes[node]:\n",
    "        node_pos.append(i*2-2)\n",
    "        node_pos.append(i*2-1)\n",
    "    for i in range(len(node_pos)):\n",
    "        K[node_pos[i]][node_pos] += np.transpose(element_k[node])[i]\n"
   ]
  },
  {
   "cell_type": "code",
   "execution_count": 5,
   "id": "da6da1b1",
   "metadata": {},
   "outputs": [
    {
     "name": "stdout",
     "output_type": "stream",
     "text": [
      "Nodal Displacements of [U2x U2y U3x U3y U5x U5y]' (in m)\n",
      "[[ 6.92834261e-06]\n",
      " [ 7.13904355e-07]\n",
      " [ 6.92834261e-06]\n",
      " [-7.13904355e-07]\n",
      " [ 3.27082221e-06]\n",
      " [ 2.54109884e-21]]\n"
     ]
    }
   ],
   "source": [
    "\n",
    "U=np.zeros((len(nodes)*2,1))   \n",
    "F=np.zeros((len(nodes)*2,1))   \n",
    "\n",
    "F[2,0]=9.375\n",
    "F[3,0]=0\n",
    "F[4,0]=9.375\n",
    "F[5,0]=0\n",
    "F[8,0]=0\n",
    "F[9,0]=0\n",
    "\n",
    "Up=U[[2,3,4,5,8,9]]\n",
    "Fp=F[[2,3,4,5,8,9]]\n",
    "Kpp=K[[2,3,4,5,8,9]]\n",
    "Kpp=Kpp[:,[2,3,4,5,8,9]]\n",
    "\n",
    "\n",
    "Up=np.dot(np.linalg.inv(Kpp),Fp)\n",
    "print(\"Nodal Displacements of [U2x U2y U3x U3y U5x U5y]' (in m)\")\n",
    "print(Up)"
   ]
  },
  {
   "cell_type": "code",
   "execution_count": 6,
   "id": "3cca5fd8",
   "metadata": {},
   "outputs": [
    {
     "name": "stdout",
     "output_type": "stream",
     "text": [
      "Force Vector [F1x0 F1y F2x F2y F3x F3y F4x F4y F5x F5y](in kN)\n",
      "[[-9.37500000e+00]\n",
      " [-3.75400427e+00]\n",
      " [ 9.37500000e+00]\n",
      " [-1.15463195e-14]\n",
      " [ 9.37500000e+00]\n",
      " [ 8.88178420e-15]\n",
      " [-9.37500000e+00]\n",
      " [ 3.75400427e+00]\n",
      " [-7.10542736e-15]\n",
      " [ 6.92838861e-15]]\n"
     ]
    }
   ],
   "source": [
    "\n",
    "U[[2,3,4,5,8,9]]=Up\n",
    "\n",
    "F=np.dot(K,U)\n",
    "print(\"Force Vector [F1x0 F1y F2x F2y F3x F3y F4x F4y F5x F5y](in kN)\")\n",
    "print(F)"
   ]
  },
  {
   "cell_type": "code",
   "execution_count": 7,
   "id": "4599e333",
   "metadata": {},
   "outputs": [],
   "source": [
    "u=[]\n",
    "for node in element_nodes:\n",
    "    u1 = np.asarray([U[node[0]*2-2],U[node[0]*2-1],U[node[1]*2-2],U[node[1]*2-1],U[node[2]*2-2],U[node[2]*2-1]])\n",
    "    u.append(u1)\n"
   ]
  },
  {
   "cell_type": "code",
   "execution_count": 8,
   "id": "772d36fa",
   "metadata": {},
   "outputs": [
    {
     "data": {
      "text/plain": [
       "[array([[3000.        ],\n",
       "        [ 300.3203417 ],\n",
       "        [  -9.61025093]]),\n",
       " array([[ 2.98077950e+03],\n",
       "        [-3.05125467e+02],\n",
       "        [-5.47313597e-13]]),\n",
       " array([[3000.        ],\n",
       "        [ 300.3203417 ],\n",
       "        [   9.61025093]]),\n",
       " array([[3.01922050e+03],\n",
       "        [9.05766151e+02],\n",
       "        [8.20970395e-13]])]"
      ]
     },
     "execution_count": 8,
     "metadata": {},
     "output_type": "execute_result"
    }
   ],
   "source": [
    "elem_stress_sigma=[]\n",
    "for i in range(len(element_nodes)):\n",
    "    temp = np.dot(D,np.dot(element_b[i],u[i]))\n",
    "    elem_stress_sigma+=[temp]\n",
    "elem_stress_sigma"
   ]
  },
  {
   "cell_type": "code",
   "execution_count": 9,
   "id": "da73c4ff",
   "metadata": {},
   "outputs": [],
   "source": [
    "def principal_stress(sigma):\n",
    "    R = (sigma[0] + sigma[1])/2\n",
    "    Q = ((sigma[0] - sigma[1])/2)**2 + sigma[2]*sigma[2]\n",
    "    M = 2*sigma[2]/(sigma[0] - sigma[1])\n",
    "    s1 = R + np.sqrt(Q)\n",
    "    s2 = R - np.sqrt(Q)\n",
    "    theta = (np.arctan(M)/2)*180/np.pi\n",
    "    return np.asarray([s1 , s2 , theta])"
   ]
  },
  {
   "cell_type": "code",
   "execution_count": 10,
   "id": "fea4e795",
   "metadata": {},
   "outputs": [
    {
     "data": {
      "text/plain": [
       "[array([[ 3.00003421e+03],\n",
       "        [ 3.00286132e+02],\n",
       "        [-2.03956612e-01]]),\n",
       " array([[ 2.98077950e+03],\n",
       "        [-3.05125467e+02],\n",
       "        [-9.54341635e-15]]),\n",
       " array([[3.00003421e+03],\n",
       "        [3.00286132e+02],\n",
       "        [2.03956612e-01]]),\n",
       " array([[3.01922050e+03],\n",
       "        [9.05766151e+02],\n",
       "        [2.22565199e-14]])]"
      ]
     },
     "execution_count": 10,
     "metadata": {},
     "output_type": "execute_result"
    }
   ],
   "source": [
    "prin_stress = []\n",
    "for sigma in elem_stress_sigma:\n",
    "    prin_stress.append(principal_stress(sigma))\n",
    "prin_stress"
   ]
  },
  {
   "cell_type": "code",
   "execution_count": null,
   "id": "d48f7c46",
   "metadata": {},
   "outputs": [],
   "source": []
  }
 ],
 "metadata": {
  "kernelspec": {
   "display_name": "Python 3",
   "language": "python",
   "name": "python3"
  },
  "language_info": {
   "codemirror_mode": {
    "name": "ipython",
    "version": 3
   },
   "file_extension": ".py",
   "mimetype": "text/x-python",
   "name": "python",
   "nbconvert_exporter": "python",
   "pygments_lexer": "ipython3",
   "version": "3.6.5"
  }
 },
 "nbformat": 4,
 "nbformat_minor": 5
}
