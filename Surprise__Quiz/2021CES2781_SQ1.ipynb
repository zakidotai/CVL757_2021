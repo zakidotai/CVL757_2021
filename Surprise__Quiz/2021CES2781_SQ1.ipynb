{
 "cells": [
  {
   "cell_type": "code",
   "execution_count": 1,
   "metadata": {},
   "outputs": [],
   "source": [
    "E=210e6 #kN/m^2\n",
    "mu=0.3\n",
    "t=0.025 #m\n",
    "w=3000 #kN/m^2"
   ]
  },
  {
   "cell_type": "code",
   "execution_count": 2,
   "metadata": {},
   "outputs": [],
   "source": [
    "import mumpy as np\n",
    "#STEP1 Discretizing\n",
    "def LinearTriangleElementStiffness(E,mu,t,xi,yi,xj,yj,xm,ym,p):\n",
    "    A = (xi*(yj-ym)+ xj*(ym-yi) + xm*(yi-yj))/2\n",
    "    betai = yj-ym\n",
    "    betaj = ym-yi\n",
    "    betam = yi-yj\n",
    "    gammai = xm-xj\n",
    "    gammaj = xi-xm\n",
    "    gammam = xj-xi\n",
    "    B=np.asarray([[betai, 0 ,betaj, 0, betam, 0],[0, gammai, 0, gammaj, 0 ,gammam],[gammai,betai,gammaj,betaj,gammam,betam]])\n",
    "\n",
    "    B=B*(1/(2*A))\n",
    "    if p==1:\n",
    "        D=(E/(1-mu*mu))*np.asarray([[1,mu,0],[mu,1,0],[0,0,(1-mu)/2]])\n",
    "    elif p==2:\n",
    "        D=(E/((1+mu)*(1-2*mu)))*np.asarray([[1-mu,mu,0],[mu,1-mu,0],[0,0,(1-2*mu)/2]])\n",
    "    \n",
    "    return t*A*np.dot(B.T,np.dot(D,B))\n",
    "    \n",
    "\n"
   ]
  },
  {
   "cell_type": "code",
   "execution_count": 3,
   "metadata": {},
   "outputs": [
    {
     "name": "stdout",
     "output_type": "stream",
     "text": [
      "[[ 2019230.76923077        0.                0.         -1009615.38461538\n",
      "  -2019230.76923077  1009615.38461538]\n",
      " [       0.          5769230.76923077  -865384.61538462        0.\n",
      "    865384.61538462 -5769230.76923077]\n",
      " [       0.          -865384.61538462  1442307.69230769        0.\n",
      "  -1442307.69230769   865384.61538462]\n",
      " [-1009615.38461538        0.                0.           504807.69230769\n",
      "   1009615.38461538  -504807.69230769]\n",
      " [-2019230.76923077   865384.61538462 -1442307.69230769  1009615.38461538\n",
      "   3461538.46153846 -1875000.        ]\n",
      " [ 1009615.38461538 -5769230.76923077   865384.61538462  -504807.69230769\n",
      "  -1875000.          6274038.46153846]]\n"
     ]
    }
   ],
   "source": [
    "k1=LinearTriangleElementStiffness(E,mu,t,0,0,0.5,0.25,0,0.25,1)\n",
    "print(k1)"
   ]
  },
  {
   "cell_type": "code",
   "execution_count": 4,
   "metadata": {},
   "outputs": [
    {
     "name": "stdout",
     "output_type": "stream",
     "text": [
      "[[ 1442307.69230769        0.         -1442307.69230769   865384.61538462\n",
      "         0.          -865384.61538462]\n",
      " [       0.           504807.69230769  1009615.38461538  -504807.69230769\n",
      "  -1009615.38461538        0.        ]\n",
      " [-1442307.69230769  1009615.38461538  3461538.46153846 -1875000.\n",
      "  -2019230.76923077   865384.61538462]\n",
      " [  865384.61538462  -504807.69230769 -1875000.          6274038.46153846\n",
      "   1009615.38461538 -5769230.76923077]\n",
      " [       0.         -1009615.38461538 -2019230.76923077  1009615.38461538\n",
      "   2019230.76923077        0.        ]\n",
      " [ -865384.61538462        0.           865384.61538462 -5769230.76923077\n",
      "         0.          5769230.76923077]]\n"
     ]
    }
   ],
   "source": [
    "k2=LinearTriangleElementStiffness(E,mu,t,0,0,0.5,0,0.5,0.25,1)\n",
    "print(k2)"
   ]
  },
  {
   "cell_type": "code",
   "execution_count": 5,
   "metadata": {},
   "outputs": [],
   "source": [
    "#STEP 2 Assembling\n",
    "K = np.zeros((8, 8))\n",
    "\n",
    "\n",
    "def LinearTriangleAssemble(K :np.ndarray, k, i, j, m):\n",
    "    K[2*i-1-1, 2*i-1-1] = K[2*i-1-1, 2*i-1-1] + k[1-1, 1-1]\n",
    "    K[2*i-1-1, 2*i-1] = K[2*i-1-1,  2*i-1] + k[1-1, 2-1]\n",
    "    K[2*i-1-1, 2*j-1-1] = K[2*i-1-1,  2*j-1-1] + k[1-1, 3-1]\n",
    "    K[2*i-1-1,  2*j-1] = K[2*i-1-1,  2*j-1] + k[1-1, 4-1]\n",
    "    K[2*i-1-1,  2*m-1-1] = K[2*i-1-1,  2*m-1-1] + k[1-1, 5-1]\n",
    "    K[2*i-1-1,  2*m-1] = K[2*i-1-1,  2*m-1] + k[1-1, 6-1]\n",
    "    K[2*i-1, 2*i-1-1] = K[2*i-1, 2*i-1-1] + k[2-1, 1-1]\n",
    "    K[2*i-1, 2*i-1] = K[2*i-1, 2*i-1] + k[2-1, 2-1]\n",
    "    K[2*i-1, 2*j-1-1] = K[2*i-1, 2*j-1-1] + k[2-1, 3-1]\n",
    "    K[2*i-1, 2*j-1] = K[2*i-1, 2*j-1] + k[2-1, 4-1]\n",
    "    K[2*i-1, 2*m-1-1] = K[2*i-1, 2*m-1-1] + k[2-1, 5-1]\n",
    "    K[2*i-1, 2*m-1] = K[2*i-1, 2*m-1] + k[2-1, 6-1]\n",
    "    K[2*j-1-1, 2*i-1-1] = K[2*j-1-1,  2*i-1-1] + k[3-1, 1-1]\n",
    "    K[2*j-1-1,  2*i-1] = K[2*j-1-1,  2*i-1] + k[3-1, 2-1]\n",
    "    K[2*j-1-1,  2*j-1-1] = K[2*j-1-1,  2*j-1-1] + k[3-1, 3-1]\n",
    "    K[2*j-1-1,  2*j-1] = K[2*j-1-1,  2*j-1] + k[3-1, 4-1]\n",
    "    K[2*j-1-1,  2*m-1-1] = K[2*j-1-1,  2*m-1-1] + k[3-1, 5-1]\n",
    "    K[2*j-1-1,  2*m-1] = K[2*j-1-1, 2*m-1] + k[3-1, 6-1]\n",
    "    K[2*j-1, 2*i-1-1] = K[2*j-1, 2*i-1-1] + k[4-1, 1-1]\n",
    "    K[2*j-1, 2*i-1] = K[2*j-1, 2*i-1] + k[4-1, 2-1]\n",
    "    K[2*j-1, 2*j-1-1] = K[2*j-1, 2*j-1-1] + k[4-1, 3-1]\n",
    "    K[2*j-1, 2*j-1] = K[2*j-1, 2*j-1] + k[4-1, 4-1]\n",
    "    K[2*j-1, 2*m-1-1] = K[2*j-1, 2*m-1-1] + k[4-1, 5-1]\n",
    "    K[2*j-1, 2*m-1] = K[2*j-1, 2*m-1] + k[4-1, 6-1]\n",
    "    K[2*m-1-1,  2*i-1-1] = K[2*m-1-1,  2*i-1-1] + k[5-1, 1-1]\n",
    "    K[2*m-1-1,  2*i-1] = K[2*m-1-1, 2*i-1] + k[5-1, 2-1]\n",
    "    K[2*m-1-1,  2*j-1-1] = K[2*m-1-1,  2*j-1-1] + k[5-1, 3-1]\n",
    "    K[2*m-1-1,  2*j-1] = K[2*m-1-1,  2*j-1] + k[5-1, 4-1]\n",
    "    K[2*m-1-1,  2*m-1-1] = K[2*m-1-1,  2*m-1-1] + k[5-1, 5-1]\n",
    "    K[2*m-1-1, 2*m-1] = K[2*m-1-1,  2*m-1] + k[5-1, 6-1]\n",
    "    K[2*m-1, 2*i-1-1] = K[2*m-1, 2*i-1-1] + k[6-1, 1-1]\n",
    "    K[2*m-1, 2*i-1] = K[2*m-1, 2*i-1] + k[6-1, 2-1]\n",
    "    K[2*m-1, 2*j-1-1] = K[2*m-1, 2*j-1-1] + k[6-1, 3-1]\n",
    "    K[2*m-1, 2*j-1] = K[2*m-1, 2*j-1] + k[6-1, 4-1]\n",
    "    K[2*m-1, 2*m-1-1] = K[2*m-1, 2*m-1-1] + k[6-1, 5-1]\n",
    "    K[2*m-1, 2*m-1] = K[2*m-1, 2*m-1] + k[6-1, 6-1]\n",
    "    \n",
    "    return K\n",
    "    "
   ]
  },
  {
   "cell_type": "code",
   "execution_count": 6,
   "metadata": {},
   "outputs": [
    {
     "name": "stdout",
     "output_type": "stream",
     "text": [
      "[[ 3461538.46153846        0.         -1442307.69230769   865384.61538462\n",
      "         0.         -1875000.         -2019230.76923077  1009615.38461538]\n",
      " [       0.          6274038.46153846  1009615.38461538  -504807.69230769\n",
      "  -1875000.                0.           865384.61538462 -5769230.76923077]\n",
      " [-1442307.69230769  1009615.38461538  3461538.46153846 -1875000.\n",
      "  -2019230.76923077   865384.61538462        0.                0.        ]\n",
      " [  865384.61538462  -504807.69230769 -1875000.          6274038.46153846\n",
      "   1009615.38461538 -5769230.76923077        0.                0.        ]\n",
      " [       0.         -1875000.         -2019230.76923077  1009615.38461538\n",
      "   3461538.46153846        0.         -1442307.69230769   865384.61538462]\n",
      " [-1875000.                0.           865384.61538462 -5769230.76923077\n",
      "         0.          6274038.46153846  1009615.38461538  -504807.69230769]\n",
      " [-2019230.76923077   865384.61538462        0.                0.\n",
      "  -1442307.69230769  1009615.38461538  3461538.46153846 -1875000.        ]\n",
      " [ 1009615.38461538 -5769230.76923077        0.                0.\n",
      "    865384.61538462  -504807.69230769 -1875000.          6274038.46153846]]\n"
     ]
    }
   ],
   "source": [
    "K = np.zeros((8, 8))\n",
    "K=LinearTriangleAssemble(K,k1,1,3,4)\n",
    "K=LinearTriangleAssemble(K,k2,1,2,3)\n",
    "\n",
    "print(K)"
   ]
  },
  {
   "cell_type": "code",
   "execution_count": 7,
   "metadata": {},
   "outputs": [
    {
     "name": "stdout",
     "output_type": "stream",
     "text": [
      "[[ 3461538.46153846 -1875000.         -2019230.76923077   865384.61538462]\n",
      " [-1875000.          6274038.46153846  1009615.38461538 -5769230.76923077]\n",
      " [-2019230.76923077  1009615.38461538  3461538.46153846        0.        ]\n",
      " [  865384.61538462 -5769230.76923077        0.          6274038.46153846]]\n",
      "[[9.375]\n",
      " [0.   ]\n",
      " [9.375]\n",
      " [0.   ]]\n",
      "[[7.11111747e-06]\n",
      " [1.11517786e-06]\n",
      " [6.53122498e-06]\n",
      " [4.46071143e-08]]\n"
     ]
    }
   ],
   "source": [
    "#STEP 4 Applying Bpundary conditions\n",
    "U=np.zeros((8,1))\n",
    "F=np.zeros((8,1))\n",
    "\n",
    "#COnditions\n",
    "F[2,0]=9.375\n",
    "F[3,0]=0\n",
    "F[4,0]=9.375\n",
    "F[5,0]=0\n",
    "\n",
    "#Partitioning matrices\n",
    "Up=U[2:6]\n",
    "Ux=U[[0,1,6,7],:]\n",
    "Fp=F[2:6]\n",
    "Kpp=K[2:6,2:6]\n",
    "print(Kpp)\n",
    "print(Fp)\n",
    "Up=np.dot(np.linalg.inv(Kpp),Fp)\n",
    "\n",
    "print(Up)\n",
    "# Fx=np.add(np.dot(Kxp,Up),np.dot(Kxx,Ux))\n",
    "# U=np.concatenate((Up,Ux))\n",
    "# F=np.concatenate((Fp,Fx))\n",
    "\n"
   ]
  },
  {
   "cell_type": "code",
   "execution_count": 8,
   "metadata": {},
   "outputs": [
    {
     "name": "stdout",
     "output_type": "stream",
     "text": [
      "[[-9.37500000e+00]\n",
      " [-5.62950360e+00]\n",
      " [ 9.37500000e+00]\n",
      " [-3.38618023e-15]\n",
      " [ 9.37500000e+00]\n",
      " [ 1.83186799e-15]\n",
      " [-9.37500000e+00]\n",
      " [ 5.62950360e+00]]\n"
     ]
    }
   ],
   "source": [
    "#STEP 6 Post Processing\n",
    "\n",
    "#Add back calculated Up\n",
    "U[2:6]=Up\n",
    "\n",
    "#Calculate force\n",
    "F=np.dot(K,U)\n",
    "print(F)"
   ]
  },
  {
   "cell_type": "code",
   "execution_count": 24,
   "metadata": {},
   "outputs": [],
   "source": [
    "#Element stresses\n",
    "def LinearTriangleElementStresses(E,mu,xi,yi,xj,yj,xm,ym,p,u):\n",
    "    A = (xi*(yj-ym) + xj*(ym-yi) + xm*(yi-yj))/2\n",
    "    betai = yj-ym\n",
    "    betaj = ym-yi\n",
    "    betam = yi-yj\n",
    "    gammai = xm-xj\n",
    "    gammaj = xi-xm\n",
    "    gammam = xj-xi\n",
    "    B = np.asarray([[betai, 0, betaj, 0, betam, 0],[0, gammai, 0, gammaj, 0 ,gammam],[ gammai, betai, gammaj, betaj ,gammam, betam]])/(2*A)\n",
    "    if p == 1:\n",
    "        D = (E/(1-mu*mu))*np.asarray([[1, mu, 0],[ mu, 1, 0],[ 0 ,0, (1-mu)/2]])\n",
    "    elif p == 2:\n",
    "        D = (E/((1+mu)*(1-2*mu)))*np.asarray([[1-mu, mu, 0],[ mu, 1-mu, 0],[ 0, 0, (1-2*mu)/2]])\n",
    "  \n",
    "    return np.dot(D,np.dot(B,u))\n",
    "    "
   ]
  },
  {
   "cell_type": "code",
   "execution_count": 29,
   "metadata": {},
   "outputs": [],
   "source": [
    "#Principal stresses\n",
    "def LinearTriangleElementPStresses(sigma):\n",
    "    R = (sigma[0] + sigma[1])/2\n",
    "    Q = ((sigma[0] - sigma[1])/2)**2 + sigma[2]*sigma[2]\n",
    "    M = 2*sigma[2]/(sigma[0] - sigma[1])\n",
    "    s1 = R + np.sqrt(Q)\n",
    "    s2 = R - np.sqrt(Q)\n",
    "    theta = (np.arctan(M)/2)*180/np.pi\n",
    "    return np.asarray([s1 , s2 , theta])"
   ]
  },
  {
   "cell_type": "code",
   "execution_count": 25,
   "metadata": {},
   "outputs": [],
   "source": [
    "##STEP 7: element stresses\n",
    "\n",
    "#Element disp vector\n",
    "u1=np.asarray([U[0],U[1],U[4],U[5],U[6],U[7]])\n",
    "u2=np.asarray([U[0],U[1],U[2],U[3],U[4],U[5]])"
   ]
  },
  {
   "cell_type": "code",
   "execution_count": 26,
   "metadata": {},
   "outputs": [
    {
     "name": "stdout",
     "output_type": "stream",
     "text": [
      "[[3014.41152922]\n",
      " [ 904.32345877]\n",
      " [   7.20576461]]\n"
     ]
    }
   ],
   "source": [
    "sigma1=LinearTriangleElementStresses(E,mu,0,0,0.5,0.25,0,0.25,1,u1)\n",
    "print(sigma1)"
   ]
  },
  {
   "cell_type": "code",
   "execution_count": 27,
   "metadata": {},
   "outputs": [
    {
     "name": "stdout",
     "output_type": "stream",
     "text": [
      "[[2985.58847078]\n",
      " [  -3.60288231]\n",
      " [  -7.20576461]]\n"
     ]
    }
   ],
   "source": [
    "sigma2=LinearTriangleElementStresses(E,mu,0,0,0.5,0,0.5,0.25,1,u2)\n",
    "print(sigma2)"
   ]
  },
  {
   "cell_type": "code",
   "execution_count": 31,
   "metadata": {},
   "outputs": [
    {
     "name": "stdout",
     "output_type": "stream",
     "text": [
      "[[3.01443614e+03]\n",
      " [9.04298852e+02]\n",
      " [1.95656990e-01]]\n"
     ]
    }
   ],
   "source": [
    "#STEP 8 Principal stresses\n",
    "s1=LinearTriangleElementPStresses(sigma1)\n",
    "print(s1)"
   ]
  },
  {
   "cell_type": "code",
   "execution_count": 32,
   "metadata": {},
   "outputs": [
    {
     "name": "stdout",
     "output_type": "stream",
     "text": [
      "[[ 2.98560584e+03]\n",
      " [-3.62025247e+00]\n",
      " [-1.38116518e-01]]\n"
     ]
    }
   ],
   "source": [
    "s2=LinearTriangleElementPStresses(sigma2)\n",
    "print(s2)"
   ]
  },
  {
   "cell_type": "code",
   "execution_count": null,
   "metadata": {},
   "outputs": [],
   "source": []
  }
 ],
 "metadata": {
  "interpreter": {
   "hash": "5c45d054ff7e3515fce9eec686a49e209967f958079ad1677afbc7181e38d20c"
  },
  "kernelspec": {
   "display_name": "Python 3",
   "language": "python",
   "name": "python3"
  },
  "language_info": {
   "codemirror_mode": {
    "name": "ipython",
    "version": 3
   },
   "file_extension": ".py",
   "mimetype": "text/x-python",
   "name": "python",
   "nbconvert_exporter": "python",
   "pygments_lexer": "ipython3",
   "version": "3.8.8"
  }
 },
 "nbformat": 4,
 "nbformat_minor": 2
}
