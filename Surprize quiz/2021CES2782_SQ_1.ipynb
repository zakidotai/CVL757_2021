{
 "cells": [
  {
   "cell_type": "code",
   "execution_count": 1,
   "metadata": {},
   "outputs": [],
   "source": [
    "import numpy as np\n",
    "E=210e6\n",
    "t=0.025\n",
    "NU=0.3"
   ]
  },
  {
   "cell_type": "code",
   "execution_count": 2,
   "metadata": {},
   "outputs": [],
   "source": [
    "def LinearTriangleElementArea(xi,yi,xj,yj,xm,ym):\n",
    "    A = (xi*(yj-ym) + xj*(ym-yi) + xm*(yi-yj))/2\n",
    "    return A\n"
   ]
  },
  {
   "cell_type": "code",
   "execution_count": 5,
   "metadata": {},
   "outputs": [
    {
     "ename": "ValueError",
     "evalue": "operands could not be broadcast together with shapes (6,3) (3,3) ",
     "output_type": "error",
     "traceback": [
      "\u001b[1;31m---------------------------------------------------------------------------\u001b[0m",
      "\u001b[1;31mValueError\u001b[0m                                Traceback (most recent call last)",
      "\u001b[1;32m<ipython-input-5-40b9580166bb>\u001b[0m in \u001b[0;36m<module>\u001b[1;34m\u001b[0m\n\u001b[0;32m     17\u001b[0m     \u001b[1;32mreturn\u001b[0m \u001b[0mk\u001b[0m\u001b[1;33m\u001b[0m\u001b[1;33m\u001b[0m\u001b[0m\n\u001b[0;32m     18\u001b[0m \u001b[1;33m\u001b[0m\u001b[0m\n\u001b[1;32m---> 19\u001b[1;33m \u001b[0mk1\u001b[0m\u001b[1;33m=\u001b[0m\u001b[0mLinearTriangleElementStiffness\u001b[0m\u001b[1;33m(\u001b[0m\u001b[0mE\u001b[0m\u001b[1;33m,\u001b[0m\u001b[0mNU\u001b[0m\u001b[1;33m,\u001b[0m\u001b[0mt\u001b[0m\u001b[1;33m,\u001b[0m\u001b[1;36m0\u001b[0m\u001b[1;33m,\u001b[0m\u001b[1;36m0\u001b[0m\u001b[1;33m,\u001b[0m\u001b[1;36m0.5\u001b[0m\u001b[1;33m,\u001b[0m\u001b[1;36m0.25\u001b[0m\u001b[1;33m,\u001b[0m\u001b[1;36m0\u001b[0m\u001b[1;33m,\u001b[0m\u001b[1;36m0.25\u001b[0m\u001b[1;33m,\u001b[0m\u001b[1;36m1\u001b[0m\u001b[1;33m)\u001b[0m\u001b[1;33m\u001b[0m\u001b[1;33m\u001b[0m\u001b[0m\n\u001b[0m\u001b[0;32m     20\u001b[0m \u001b[0mk2\u001b[0m\u001b[1;33m=\u001b[0m\u001b[0mLinearTriangleElementStiffness\u001b[0m\u001b[1;33m(\u001b[0m\u001b[0mE\u001b[0m\u001b[1;33m,\u001b[0m\u001b[0mNU\u001b[0m\u001b[1;33m,\u001b[0m\u001b[0mt\u001b[0m\u001b[1;33m,\u001b[0m\u001b[1;36m0\u001b[0m\u001b[1;33m,\u001b[0m\u001b[1;36m0\u001b[0m\u001b[1;33m,\u001b[0m\u001b[1;36m0.5\u001b[0m\u001b[1;33m,\u001b[0m\u001b[1;36m0\u001b[0m\u001b[1;33m,\u001b[0m\u001b[1;36m0.5\u001b[0m\u001b[1;33m,\u001b[0m\u001b[1;36m0.25\u001b[0m\u001b[1;33m,\u001b[0m\u001b[1;36m1\u001b[0m\u001b[1;33m)\u001b[0m\u001b[1;33m\u001b[0m\u001b[1;33m\u001b[0m\u001b[0m\n",
      "\u001b[1;32m<ipython-input-5-40b9580166bb>\u001b[0m in \u001b[0;36mLinearTriangleElementStiffness\u001b[1;34m(E, NU, t, xi, yi, xj, yj, xm, ym, p)\u001b[0m\n\u001b[0;32m     14\u001b[0m     \u001b[1;32melse\u001b[0m\u001b[1;33m:\u001b[0m\u001b[1;33m\u001b[0m\u001b[1;33m\u001b[0m\u001b[0m\n\u001b[0;32m     15\u001b[0m         \u001b[1;32mNone\u001b[0m\u001b[1;33m\u001b[0m\u001b[1;33m\u001b[0m\u001b[0m\n\u001b[1;32m---> 16\u001b[1;33m     \u001b[0mk\u001b[0m\u001b[1;33m=\u001b[0m\u001b[0mt\u001b[0m\u001b[1;33m*\u001b[0m\u001b[0mA\u001b[0m\u001b[1;33m*\u001b[0m\u001b[1;33m(\u001b[0m\u001b[0mnp\u001b[0m\u001b[1;33m.\u001b[0m\u001b[0mtranspose\u001b[0m\u001b[1;33m(\u001b[0m\u001b[0mB\u001b[0m\u001b[1;33m)\u001b[0m\u001b[1;33m*\u001b[0m\u001b[0mD\u001b[0m\u001b[1;33m)\u001b[0m\u001b[1;33m*\u001b[0m\u001b[0mB\u001b[0m\u001b[1;33m\u001b[0m\u001b[1;33m\u001b[0m\u001b[0m\n\u001b[0m\u001b[0;32m     17\u001b[0m     \u001b[1;32mreturn\u001b[0m \u001b[0mk\u001b[0m\u001b[1;33m\u001b[0m\u001b[1;33m\u001b[0m\u001b[0m\n\u001b[0;32m     18\u001b[0m \u001b[1;33m\u001b[0m\u001b[0m\n",
      "\u001b[1;31mValueError\u001b[0m: operands could not be broadcast together with shapes (6,3) (3,3) "
     ]
    }
   ],
   "source": [
    "def LinearTriangleElementStiffness(E,NU,t,xi,yi,xj,yj,xm,ym,p):\n",
    "    A = (xi*(yj-ym) + xj*(ym-yi) + xm*(yi-yj))/2\n",
    "    betai = yj-ym\n",
    "    betaj = ym-yi\n",
    "    betam = yi-yj\n",
    "    gammai = xm-xj\n",
    "    gammaj = xi-xm\n",
    "    gammam = xj-xi\n",
    "    B= 2*A*np.array([[betai, 0, betaj, 0, betam, 0],[0, gammai, 0, gammaj, 0, gammam],[gammai, betai, gammaj, betaj, gammam, betam]])\n",
    "    if p==int(1):\n",
    "        D= (E/(1-NU*NU))*np.array([[1, NU, 0], [NU, 1, 0] , [0, 0, (1-NU)/2]])\n",
    "    elif p==int(2):\n",
    "        D= (E/(1+NU)/(1-2*NU))*np.array([[1-NU, NU, 0], [NU, 1-NU, 0], [0, 0, (1-2*NU)/2]])\n",
    "    else:\n",
    "        None\n",
    "    k=t*A*(np.transpose(B)*D)*B\n",
    "    return k\n",
    "\n",
    "k1=LinearTriangleElementStiffness(E,NU,t,0,0,0.5,0.25,0,0.25,1) \n",
    "k2=LinearTriangleElementStiffness(E,NU,t,0,0,0.5,0,0.5,0.25,1)"
   ]
  },
  {
   "cell_type": "code",
   "execution_count": null,
   "metadata": {},
   "outputs": [],
   "source": [
    "K=np.zeros((6,6))\n",
    "def LinearTriangleAssemble(K,k,i,j,m):\n",
    "    K[2*i-2][2*i-2] += k[0][0]\n",
    "    K[2*i-2][2*i-1] += k[0][1]\n",
    "    K[2*i-2][2*j-2] += k[0][2]\n",
    "    K[2*i-2][2*j-1] += k[0][3]\n",
    "    K[2*i-2][2*m-2] += k[0][4]\n",
    "    K[2*i-2][2*m-1] += k[0][5]\n",
    "\n",
    "    K[2*i-1][2*i-2] += k[1][0]\n",
    "    K[2*i-1][2*i-1] += k[1][1]\n",
    "    K[2*i-1][2*j-2] += k[1][2]\n",
    "    K[2*i-1][2*j-1] += k[1][3]\n",
    "    K[2*i-1][2*m-2] += k[1][4]\n",
    "    K[2*i-1][2*m-1] += k[1][5]\n",
    "\n",
    "    K[2*j-2][2*i-2] += k[2][0]\n",
    "    K[2*j-2][2*i-1] += k[2][1]\n",
    "    K[2*j-2][2*j-2] += k[2][2]\n",
    "    K[2*j-2][2*j-1] += k[2][3]\n",
    "    K[2*j-2][2*m-2] += k[2][4]\n",
    "    K[2*j-2][2*m-1] += k[2][5]\n",
    "\n",
    "    K[2*j-1][2*i-2] += k[3][0]\n",
    "    K[2*j-1][2*i-1] += k[3][1]\n",
    "    K[2*j-1][2*j-2] += k[3][2]\n",
    "    K[2*j-1][2*j-1] += k[3][3]\n",
    "    K[2*j-1][2*m-2] += k[3][4]\n",
    "    K[2*j-1][2*m-1] += k[3][5]\n",
    "\n",
    "    K[2*m-2][2*i-2] += k[4][0]\n",
    "    K[2*m-2][2*i-1] += k[4][1]\n",
    "    K[2*m-2][2*j-2] += k[4][2]\n",
    "    K[2*m-2][2*j-1] += k[4][3]\n",
    "    K[2*m-2][2*m-2] += k[4][4]\n",
    "    K[2*m-2][2*m-1] += k[4][5]\n",
    "\n",
    "    K[2*m-1][2*i-2] += k[5][0]\n",
    "    K[2*m-1][2*i-1] += k[5][1]\n",
    "    K[2*m-1][2*j-2] += k[5][2]\n",
    "    K[2*m-1][2*j-1] += k[5][3]\n",
    "    K[2*m-1][2*m-2] += k[5][4]\n",
    "    K[2*m-1][2*m-1] += k[5][5]\n",
    "\n",
    "    return K\n",
    "\n",
    "\n"
   ]
  }
 ],
 "metadata": {
  "interpreter": {
   "hash": "792d82fdb7acbc3207629a777f5104b0f8ddf6f9498b10b1b9424d0026d068e7"
  },
  "kernelspec": {
   "display_name": "Python 3.8.8 64-bit ('base': conda)",
   "name": "python3"
  },
  "language_info": {
   "codemirror_mode": {
    "name": "ipython",
    "version": 3
   },
   "file_extension": ".py",
   "mimetype": "text/x-python",
   "name": "python",
   "nbconvert_exporter": "python",
   "pygments_lexer": "ipython3",
   "version": "3.8.8"
  },
  "orig_nbformat": 4
 },
 "nbformat": 4,
 "nbformat_minor": 2
}
