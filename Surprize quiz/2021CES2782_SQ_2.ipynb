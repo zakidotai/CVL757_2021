{
 "cells": [
  {
   "cell_type": "code",
   "execution_count": 1,
   "metadata": {},
   "outputs": [],
   "source": [
    "import numpy as np\n",
    "E=210e6\n",
    "t=0.025\n",
    "NU=0.3"
   ]
  },
  {
   "cell_type": "code",
   "execution_count": 2,
   "metadata": {},
   "outputs": [],
   "source": [
    "def LinearTriangleElementStiffness(E,NU,t,xi,yi,xj,yj,xm,ym,p):\n",
    "    A = (xi*(yj-ym) + xj*(ym-yi) + xm*(yi-yj))/2\n",
    "    betai = yj-ym\n",
    "    betaj = ym-yi\n",
    "    betam = yi-yj\n",
    "    gammai = xm-xj\n",
    "    gammaj = xi-xm\n",
    "    gammam = xj-xi\n",
    "    B= 1/(2*A)*np.array([[betai, 0, betaj, 0, betam, 0],[0, gammai, 0, gammaj, 0, gammam],[gammai, betai, gammaj, betaj, gammam, betam]])\n",
    "    if p==int(1):\n",
    "        D= (E/(1-NU*NU))*np.array([[1, NU, 0], [NU, 1, 0] , [0, 0, (1-NU)/2]])\n",
    "    elif p==int(2):\n",
    "        D= (E/(1+NU)/(1-2*NU))*np.array([[1-NU, NU, 0], [NU, 1-NU, 0], [0, 0, (1-2*NU)/2]])\n",
    "    else:\n",
    "        None\n",
    "    k=t*A*(B.T.dot(D).dot(B))\n",
    "    return k\n",
    "\n",
    "k1= LinearTriangleElementStiffness(E,NU,t,0,0,0.25,0.125,0,0.25,1)\n",
    "k2= LinearTriangleElementStiffness(E,NU,t,0,0,0.5,0,0.25,0.125,1)\n",
    "k3= LinearTriangleElementStiffness(E,NU,t,0.25,0.125,0.5,0,0.5,0.25,1)\n",
    "k4= LinearTriangleElementStiffness(E,NU,t,0,0.25,0.25,0.125,0.5,0.25,1)\n"
   ]
  },
  {
   "cell_type": "code",
   "execution_count": 3,
   "metadata": {},
   "outputs": [
    {
     "name": "stdout",
     "output_type": "stream",
     "text": [
      "Global Stiffness Matrix:\n",
      "[[ 3461538.46153846  1875000.           288461.53846154   -72115.38461538\n",
      "         0.                0.          -288461.53846154    72115.38461538\n",
      "  -3461538.46153846 -1875000.        ]\n",
      " [ 1875000.          6274038.46153846    72115.38461538  2632211.53846154\n",
      "         0.                0.           -72115.38461538 -2632211.53846154\n",
      "  -1875000.         -6274038.46153846]\n",
      " [  288461.53846154    72115.38461538  3461538.46153846 -1875000.\n",
      "   -288461.53846154   -72115.38461538        0.                0.\n",
      "  -3461538.46153846  1875000.        ]\n",
      " [  -72115.38461538  2632211.53846154 -1875000.          6274038.46153846\n",
      "     72115.38461538 -2632211.53846154        0.                0.\n",
      "   1875000.         -6274038.46153846]\n",
      " [       0.                0.          -288461.53846154    72115.38461538\n",
      "   3461538.46153846  1875000.           288461.53846154   -72115.38461538\n",
      "  -3461538.46153846 -1875000.        ]\n",
      " [       0.                0.           -72115.38461538 -2632211.53846154\n",
      "   1875000.          6274038.46153846    72115.38461538  2632211.53846154\n",
      "  -1875000.         -6274038.46153846]\n",
      " [ -288461.53846154   -72115.38461538        0.                0.\n",
      "    288461.53846154    72115.38461538  3461538.46153846 -1875000.\n",
      "  -3461538.46153846  1875000.        ]\n",
      " [   72115.38461538 -2632211.53846154        0.                0.\n",
      "    -72115.38461538  2632211.53846154 -1875000.          6274038.46153846\n",
      "   1875000.         -6274038.46153846]\n",
      " [-3461538.46153846 -1875000.         -3461538.46153846  1875000.\n",
      "  -3461538.46153846 -1875000.         -3461538.46153846  1875000.\n",
      "  13846153.84615384        0.        ]\n",
      " [-1875000.         -6274038.46153846  1875000.         -6274038.46153846\n",
      "  -1875000.         -6274038.46153846  1875000.         -6274038.46153846\n",
      "         0.         25096153.84615384]]\n"
     ]
    }
   ],
   "source": [
    "K=np.zeros((10,10))\n",
    "def LinearTriangleAssemble(K,k,i,j,m):\n",
    "    K[2*i-2][2*i-2] += k[0][0]\n",
    "    K[2*i-2][2*i-1] += k[0][1]\n",
    "    K[2*i-2][2*j-2] += k[0][2]\n",
    "    K[2*i-2][2*j-1] += k[0][3]\n",
    "    K[2*i-2][2*m-2] += k[0][4]\n",
    "    K[2*i-2][2*m-1] += k[0][5]\n",
    "\n",
    "    K[2*i-1][2*i-2] += k[1][0]\n",
    "    K[2*i-1][2*i-1] += k[1][1]\n",
    "    K[2*i-1][2*j-2] += k[1][2]\n",
    "    K[2*i-1][2*j-1] += k[1][3]\n",
    "    K[2*i-1][2*m-2] += k[1][4]\n",
    "    K[2*i-1][2*m-1] += k[1][5]\n",
    "\n",
    "    K[2*j-2][2*i-2] += k[2][0]\n",
    "    K[2*j-2][2*i-1] += k[2][1]\n",
    "    K[2*j-2][2*j-2] += k[2][2]\n",
    "    K[2*j-2][2*j-1] += k[2][3]\n",
    "    K[2*j-2][2*m-2] += k[2][4]\n",
    "    K[2*j-2][2*m-1] += k[2][5]\n",
    "\n",
    "    K[2*j-1][2*i-2] += k[3][0]\n",
    "    K[2*j-1][2*i-1] += k[3][1]\n",
    "    K[2*j-1][2*j-2] += k[3][2]\n",
    "    K[2*j-1][2*j-1] += k[3][3]\n",
    "    K[2*j-1][2*m-2] += k[3][4]\n",
    "    K[2*j-1][2*m-1] += k[3][5]\n",
    "\n",
    "    K[2*m-2][2*i-2] += k[4][0]\n",
    "    K[2*m-2][2*i-1] += k[4][1]\n",
    "    K[2*m-2][2*j-2] += k[4][2]\n",
    "    K[2*m-2][2*j-1] += k[4][3]\n",
    "    K[2*m-2][2*m-2] += k[4][4]\n",
    "    K[2*m-2][2*m-1] += k[4][5]\n",
    "\n",
    "    K[2*m-1][2*i-2] += k[5][0]\n",
    "    K[2*m-1][2*i-1] += k[5][1]\n",
    "    K[2*m-1][2*j-2] += k[5][2]\n",
    "    K[2*m-1][2*j-1] += k[5][3]\n",
    "    K[2*m-1][2*m-2] += k[5][4]\n",
    "    K[2*m-1][2*m-1] += k[5][5]\n",
    "\n",
    "    return K\n",
    "\n",
    "K = LinearTriangleAssemble(K,k1,1,5,4)\n",
    "K = LinearTriangleAssemble(K,k2,1,2,5)\n",
    "K = LinearTriangleAssemble(K,k3,5,2,3)\n",
    "K = LinearTriangleAssemble(K,k4,4,5,3)\n",
    "print(f\"Global Stiffness Matrix:\\n{K}\")\n",
    "\n"
   ]
  },
  {
   "cell_type": "code",
   "execution_count": 4,
   "metadata": {},
   "outputs": [
    {
     "name": "stdout",
     "output_type": "stream",
     "text": [
      "[[ 3461538.46153846 -1875000.          -288461.53846154   -72115.38461538\n",
      "  -3461538.46153846  1875000.        ]\n",
      " [-1875000.          6274038.46153846    72115.38461538 -2632211.53846154\n",
      "   1875000.         -6274038.46153846]\n",
      " [ -288461.53846154    72115.38461538  3461538.46153846  1875000.\n",
      "  -3461538.46153846 -1875000.        ]\n",
      " [  -72115.38461538 -2632211.53846154  1875000.          6274038.46153846\n",
      "  -1875000.         -6274038.46153846]\n",
      " [-3461538.46153846  1875000.         -3461538.46153846 -1875000.\n",
      "  13846153.84615384        0.        ]\n",
      " [ 1875000.         -6274038.46153846 -1875000.         -6274038.46153846\n",
      "         0.         25096153.84615384]]\n",
      "u: \n",
      "[[ 6.92834261e-06]\n",
      " [ 7.13904355e-07]\n",
      " [ 6.92834261e-06]\n",
      " [-7.13904355e-07]\n",
      " [ 3.27082221e-06]\n",
      " [ 4.23516474e-22]]\n"
     ]
    }
   ],
   "source": [
    "k=np.delete(K,7,0)\n",
    "k=np.delete(k,7,1)\n",
    "k=np.delete(k,6,0)\n",
    "k=np.delete(k,6,1)\n",
    "k=np.delete(k,1,0)\n",
    "k=np.delete(k,1,1)\n",
    "k=np.delete(k,0,0)\n",
    "k=np.delete(k,0,1)\n",
    "print(k)\n",
    "f=np.array([[9.375],[0],[9.375],[0],[0],[0]])\n",
    "u=np.linalg.inv(k).dot(f)\n",
    "print(f\"u: \\n{u}\")"
   ]
  },
  {
   "cell_type": "code",
   "execution_count": 5,
   "metadata": {},
   "outputs": [
    {
     "name": "stdout",
     "output_type": "stream",
     "text": [
      "[[ 0.00000000e+00]\n",
      " [ 0.00000000e+00]\n",
      " [ 6.92834261e-06]\n",
      " [ 7.13904355e-07]\n",
      " [ 6.92834261e-06]\n",
      " [-7.13904355e-07]\n",
      " [ 0.00000000e+00]\n",
      " [ 0.00000000e+00]\n",
      " [ 3.27082221e-06]\n",
      " [ 4.23516474e-22]]\n",
      "\n",
      "[[-9.37500000e+00]\n",
      " [-3.75400427e+00]\n",
      " [ 9.37500000e+00]\n",
      " [ 2.66453526e-15]\n",
      " [ 9.37500000e+00]\n",
      " [ 7.99360578e-15]\n",
      " [-9.37500000e+00]\n",
      " [ 3.75400427e+00]\n",
      " [ 0.00000000e+00]\n",
      " [-1.42403612e-14]]\n"
     ]
    }
   ],
   "source": [
    "U=np.zeros((10,1))\n",
    "U[2:6]=u[0:4]\n",
    "U[8:10]=u[4:6]\n",
    "print(U)\n",
    "F=K.dot(U)\n",
    "print(f\"\\n{F}\")"
   ]
  },
  {
   "cell_type": "code",
   "execution_count": 6,
   "metadata": {},
   "outputs": [
    {
     "name": "stdout",
     "output_type": "stream",
     "text": [
      "[[3.01922050e+03]\n",
      " [9.05766151e+02]\n",
      " [1.36828399e-13]]\n",
      "[[3000.        ]\n",
      " [ 300.3203417 ]\n",
      " [  -9.61025093]]\n",
      "[[ 2.98077950e+03]\n",
      " [-3.05125467e+02]\n",
      " [ 8.81072992e-13]]\n",
      "[[3000.        ]\n",
      " [ 300.3203417 ]\n",
      " [   9.61025093]]\n"
     ]
    }
   ],
   "source": [
    "def LinearTriangleElementStresses(E,NU,xi,yi,xj,yj,xm,ym,p,u):\n",
    "    A = (xi*(yj-ym) + xj*(ym-yi) + xm*(yi-yj))/2\n",
    "    betai = yj-ym\n",
    "    betaj = ym-yi\n",
    "    betam = yi-yj\n",
    "    gammai = xm-xj\n",
    "    gammaj = xi-xm\n",
    "    gammam = xj-xi\n",
    "    B = np.array([[betai, 0, betaj, 0, betam, 0 ],[0, gammai, 0, gammaj, 0, gammam],[gammai, betai, gammaj, betaj, gammam, betam]])/(2*A);\n",
    "    if p == int(1):\n",
    "        D = (E/(1-NU*NU))*np.array([[1, NU, 0] , [NU, 1, 0], [0, 0, (1-NU)/2]])\n",
    "    elif p == int(2):\n",
    "        D = (E/(1+NU)/(1-2*NU))*np.array([[1-NU, NU, 0], [NU, 1-NU, 0], [0, 0, (1-2*NU)/2]])\n",
    "\n",
    "    return D.dot(B).dot(u)\n",
    "\n",
    "u1=[U[0],U[1],U[8],U[9],U[6],U[7]]\n",
    "u2=[U[0],U[1],U[2],U[3],U[8],U[9]]\n",
    "u3=[U[8],U[9],U[2],U[3],U[4],U[5]]\n",
    "u4=[U[6],U[7],U[8],U[9],U[4],U[5]]\n",
    "\n",
    "sigma1=LinearTriangleElementStresses(E,NU,0,0,0.25,0.125,0,0.25,1,u1)\n",
    "sigma2=LinearTriangleElementStresses(E,NU,0,0,0.5,0,0.25,0.125,1,u2)\n",
    "sigma3=LinearTriangleElementStresses(E,NU,0.25,0.125,0.5,0,0.5,0.25,1,u3)\n",
    "sigma4=LinearTriangleElementStresses(E,NU,0,0.25,0.25,0.125,0.5,0.25,1,u4)\n",
    "print(sigma1)\n",
    "print(sigma2)\n",
    "print(sigma3)\n",
    "print(sigma4)\n"
   ]
  },
  {
   "cell_type": "code",
   "execution_count": 7,
   "metadata": {},
   "outputs": [
    {
     "name": "stdout",
     "output_type": "stream",
     "text": [
      "[[3.01922050e+03]\n",
      " [9.05766151e+02]\n",
      " [3.70941998e-15]]\n",
      "[[ 3.00003421e+03]\n",
      " [ 3.00286132e+02]\n",
      " [-2.03956612e-01]]\n",
      "[[ 2.98077950e+03]\n",
      " [-3.05125467e+02]\n",
      " [ 1.53631235e-14]]\n",
      "[[3.00003421e+03]\n",
      " [3.00286132e+02]\n",
      " [2.03956612e-01]]\n"
     ]
    }
   ],
   "source": [
    "def LinearTriangleElementPStresses(sigma):\n",
    "    R = (sigma[0] + sigma[1])/2\n",
    "    Q = ((sigma[0] - sigma[1])/2)**2 + sigma[2]*sigma[2]\n",
    "    M = 2*sigma[2]/(sigma[0] - sigma[1])\n",
    "    s1 = R + np.sqrt(Q)\n",
    "    s2 = R - np.sqrt(Q)\n",
    "    theta = (np.arctan(M)/2)*180/np.pi\n",
    "    s=np.matrix([s1, s2 , theta])\n",
    "    return s\n",
    "\n",
    "s1=LinearTriangleElementPStresses(sigma1)\n",
    "print(s1)\n",
    "s2=LinearTriangleElementPStresses(sigma2)\n",
    "print(s2)\n",
    "s3=LinearTriangleElementPStresses(sigma3)\n",
    "print(s3)\n",
    "s4=LinearTriangleElementPStresses(sigma4)\n",
    "print(s4)\n"
   ]
  }
 ],
 "metadata": {
  "interpreter": {
   "hash": "792d82fdb7acbc3207629a777f5104b0f8ddf6f9498b10b1b9424d0026d068e7"
  },
  "kernelspec": {
   "display_name": "Python 3.8.8 64-bit ('base': conda)",
   "name": "python3"
  },
  "language_info": {
   "codemirror_mode": {
    "name": "ipython",
    "version": 3
   },
   "file_extension": ".py",
   "mimetype": "text/x-python",
   "name": "python",
   "nbconvert_exporter": "python",
   "pygments_lexer": "ipython3",
   "version": "3.8.8"
  },
  "orig_nbformat": 4
 },
 "nbformat": 4,
 "nbformat_minor": 2
}
