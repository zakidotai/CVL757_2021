{
 "cells": [
  {
   "cell_type": "code",
   "execution_count": 6,
   "metadata": {},
   "outputs": [
    {
     "name": "stderr",
     "output_type": "stream",
     "text": [
      "<ipython-input-6-b9608381ca5c>:45: VisibleDeprecationWarning: Creating an ndarray from ragged nested sequences (which is a list-or-tuple of lists-or-tuples-or ndarrays with different lengths or shapes) is deprecated. If you meant to do this, you must specify 'dtype=object' when creating the ndarray\n",
      "  T = np.array([[E, Nu, t,0, 0 ],\n"
     ]
    },
    {
     "ename": "TypeError",
     "evalue": "can't multiply sequence by non-int of type 'float'",
     "output_type": "error",
     "traceback": [
      "\u001b[1;31m---------------------------------------------------------------------------\u001b[0m",
      "\u001b[1;31mTypeError\u001b[0m                                 Traceback (most recent call last)",
      "\u001b[1;32m<ipython-input-6-b9608381ca5c>\u001b[0m in \u001b[0;36m<module>\u001b[1;34m\u001b[0m\n\u001b[0;32m     50\u001b[0m                 [-1, 1]]) * (A * E / L)\n\u001b[0;32m     51\u001b[0m \u001b[1;33m\u001b[0m\u001b[0m\n\u001b[1;32m---> 52\u001b[1;33m     \u001b[0mK_G_local\u001b[0m \u001b[1;33m=\u001b[0m \u001b[0mnp\u001b[0m\u001b[1;33m.\u001b[0m\u001b[0mdot\u001b[0m\u001b[1;33m(\u001b[0m\u001b[0mnp\u001b[0m\u001b[1;33m.\u001b[0m\u001b[0mdot\u001b[0m\u001b[1;33m(\u001b[0m\u001b[0mTt\u001b[0m\u001b[1;33m,\u001b[0m \u001b[0mK\u001b[0m\u001b[1;33m)\u001b[0m\u001b[1;33m,\u001b[0m \u001b[0mT\u001b[0m\u001b[1;33m)\u001b[0m\u001b[1;33m\u001b[0m\u001b[1;33m\u001b[0m\u001b[0m\n\u001b[0m\u001b[0;32m     53\u001b[0m     dof = [initial_node_index*2, initial_node_index*2 + 1,\n\u001b[0;32m     54\u001b[0m         final_node_index*2, final_node_index*2 + 1]\n",
      "\u001b[1;32m<__array_function__ internals>\u001b[0m in \u001b[0;36mdot\u001b[1;34m(*args, **kwargs)\u001b[0m\n",
      "\u001b[1;31mTypeError\u001b[0m: can't multiply sequence by non-int of type 'float'"
     ]
    },
    {
     "data": {
      "image/png": "[encoded data removed]",
      "text/plain": [
       "<Figure size 432x288 with 1 Axes>"
      ]
     },
     "metadata": {
      "needs_background": "light"
     },
     "output_type": "display_data"
    }
   ],
   "source": [
    "import numpy as np\n",
    "from matplotlib import pyplot as plt\n",
    "import pandas as pd\n",
    "import os\n",
    "\n",
    "E = 200e06\n",
    "A = 0.005\n",
    "Nu = 0.3\n",
    "t =0.025\n",
    "L =0.5\n",
    "nodes = [[0, 0], [0.5, 0], [0.5, 0.25], [0.0, 0.25]]\n",
    "#([[1, 2], [1, 3], [2, 3], [2, 4], [2, 5], [3, 5], [4, 5], [4, 6], [5, 6]]) - 1\n",
    "\n",
    "connections = np.array([[1, 2], [1, 3], [2, 3], [3, 4], [4, 1]]) -1\n",
    "\n",
    "no_nodes = len(nodes)\n",
    "K_Structure = np.zeros((no_nodes*2, no_nodes*2))\n",
    "F_Structure = np.zeros((no_nodes*2, 1))\n",
    "x = []\n",
    "y = []\n",
    "plt.figure()\n",
    "for connection in connections:\n",
    "    initial, final = connection\n",
    "    x1, y1 = nodes[initial]\n",
    "    x2, y2 = nodes[final]\n",
    "    plt.xlabel(\"Distance (meter)\")\n",
    "    plt.ylabel(\"Distance (meter)\")\n",
    "    plt.plot([x1, x2], [y1, y2], color='black')\n",
    "\n",
    "\n",
    "#Developing Global stiffness matrix and Defining loads for member of Structure\n",
    "\n",
    "support_nodes = [[0, 0], [0, 0.25]]\n",
    "\n",
    "temp_res_dof = []\n",
    "temp_free_dof = []\n",
    "\n",
    "for member in connections:\n",
    "    initial_node_index, final_node_index = member\n",
    "    x1, y1  = nodes[initial_node_index]\n",
    "    x2, y2 = nodes[final_node_index]\n",
    "\n",
    "\n",
    "\n",
    "    T = np.array([[E, Nu, t,0, 0 ],\n",
    "                [0, 0, 0.25, 0,0 , 0.5]])\n",
    "    Tt = T.transpose()\n",
    " \n",
    "    K = np.array([[1, -1],\n",
    "                [-1, 1]]) * (A * E / L)\n",
    " \n",
    "    K_G_local = np.dot(np.dot(Tt, K), T)\n",
    "    dof = [initial_node_index*2, initial_node_index*2 + 1,\n",
    "        final_node_index*2, final_node_index*2 + 1]\n",
    "    K_Structure[np.ix_(dof, dof)] += K_G_local\n",
    "    \n",
    "    if (member[0] == 0) and (member[1] == 1):\n",
    "        temp_f = np.array([[0], [0], [20], [0]])\n",
    "        F_Structure[np.ix_(dof)] += temp_f\n",
    "\n",
    "    if nodes[initial_node_index] in support_nodes:\n",
    "        temp_res_dof.append(initial_node_index*2)\n",
    "        temp_res_dof.append(initial_node_index*2 + 1)\n",
    "    else:\n",
    "        temp_free_dof.append(initial_node_index*2)\n",
    "        temp_free_dof.append(initial_node_index*2 + 1)\n",
    "  \n",
    "    if nodes[final_node_index] in support_nodes:\n",
    "        temp_res_dof.append(final_node_index*2)\n",
    "        temp_res_dof.append(final_node_index*2 + 1)\n",
    "    else:\n",
    "        temp_free_dof.append(final_node_index*2)\n",
    "        temp_free_dof.append(final_node_index*2 + 1)\n",
    "\n",
    "res_dof = []\n",
    "free_dof = []\n",
    "for item in temp_free_dof:\n",
    "    if item not in free_dof:\n",
    "        free_dof.append(item)\n",
    "for item in temp_res_dof:\n",
    "    if item not in res_dof:\n",
    "        res_dof.append(item)\n",
    "\n",
    "print(\"\\nGlobal stiffness matrix and loads for member of Structure is defined.. \\n\",K_Structure)\n",
    "\n",
    "print(\"\\nRes dof number : {}\\nfree dof number : {}\\n\".format(len(res_dof), len(free_dof)))\n",
    "\n",
    "# Displacement and Support Reaction Calculation\n",
    "\n",
    "K_ff = K_Structure[np.ix_(free_dof, free_dof)]\n",
    "K_rf = K_Structure[np.ix_(res_dof, free_dof)]\n",
    "F_ff = F_Structure[np.ix_(free_dof)]\n",
    "Displacements = np.dot(np.linalg.inv(K_ff), F_ff)\n",
    "reactions = np.dot(K_rf, Displacements)\n",
    "print(\"Support Reactions (kN) \\n\",reactions)\n",
    "print(\"Displacements \\n\",Displacements)\n",
    "\n",
    "# Stress calculation in each member\n",
    "k_temp = K_Structure[2:10, 2:10]\n",
    "force = k_temp @ Displacements\n",
    "Stress = force/A\n",
    "print(\"Stress in Each Element \\n\",Stress)"
   ]
  },
  {
   "cell_type": "code",
   "execution_count": null,
   "metadata": {},
   "outputs": [],
   "source": []
  }
 ],
 "metadata": {
  "kernelspec": {
   "display_name": "Python 3",
   "language": "python",
   "name": "python3"
  },
  "language_info": {
   "codemirror_mode": {
    "name": "ipython",
    "version": 3
   },
   "file_extension": ".py",
   "mimetype": "text/x-python",
   "name": "python",
   "nbconvert_exporter": "python",
   "pygments_lexer": "ipython3",
   "version": "3.8.5"
  }
 },
 "nbformat": 4,
 "nbformat_minor": 4
}
